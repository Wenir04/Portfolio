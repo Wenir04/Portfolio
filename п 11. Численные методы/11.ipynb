{
 "cells": [
  {
   "cell_type": "markdown",
   "metadata": {},
   "source": [
    "# Определение стоимости автомобилей"
   ]
  },
  {
   "cell_type": "markdown",
   "metadata": {},
   "source": [
    "Сервис по продаже автомобилей с пробегом «Не бит, не крашен» разрабатывает приложение для привлечения новых клиентов. В нём можно быстро узнать рыночную стоимость своего автомобиля. В вашем распоряжении исторические данные: технические характеристики, комплектации и цены автомобилей. Вам нужно построить модель для определения стоимости. \n",
    "\n",
    "Заказчику важны:\n",
    "\n",
    "- качество предсказания;\n",
    "- скорость предсказания;\n",
    "- время обучения."
   ]
  },
  {
   "cell_type": "markdown",
   "metadata": {},
   "source": [
    "**Признаки**\n",
    "\n",
    "DateCrawled — дата скачивания анкеты из базы\n",
    "\n",
    "VehicleType — тип автомобильного кузова\n",
    "\n",
    "RegistrationYear — год регистрации автомобиля\n",
    "\n",
    "Gearbox — тип коробки передач\n",
    "\n",
    "Power — мощность (л. с.)\n",
    "\n",
    "Model — модель автомобиля\n",
    "\n",
    "Kilometer — пробег (км)\n",
    "\n",
    "RegistrationMonth — месяц регистрации автомобиля\n",
    "\n",
    "FuelType — тип топлива\n",
    "\n",
    "Brand — марка автомобиля\n",
    "\n",
    "Repaired — была машина в ремонте или нет\n",
    "\n",
    "DateCreated — дата создания анкеты\n",
    "\n",
    "NumberOfPictures — количество фотографий автомобиля\n",
    "\n",
    "PostalCode — почтовый индекс владельца анкеты (пользователя)\n",
    "\n",
    "LastSeen — дата последней активности пользователя\n",
    "\n",
    "**Целевой признак**\n",
    "\n",
    "Price — цена (евро)"
   ]
  },
  {
   "cell_type": "markdown",
   "metadata": {},
   "source": [
    "## Подготовка данных"
   ]
  },
  {
   "cell_type": "code",
   "execution_count": 1,
   "metadata": {},
   "outputs": [],
   "source": [
    "import pandas as pd\n",
    "import numpy as np\n",
    "from sklearn.model_selection import train_test_split\n",
    "from sklearn.metrics import mean_absolute_error\n",
    "from sklearn.metrics import mean_squared_error\n",
    "from sklearn.metrics import make_scorer\n",
    "from sklearn.pipeline import  make_pipeline\n",
    "from sklearn.preprocessing import StandardScaler\n",
    "from sklearn.model_selection import GridSearchCV\n",
    "from sklearn.pipeline import Pipeline\n",
    "from sklearn.preprocessing import MinMaxScaler\n",
    "from lightgbm import LGBMRegressor\n",
    "from sklearn.tree import DecisionTreeRegressor\n",
    "from sklearn.preprocessing import OneHotEncoder\n",
    "import matplotlib.pyplot as plt\n",
    "plt.rcParams[\"figure.figsize\"] = (19,5)\n",
    "from sklearn.compose import ColumnTransformer\n",
    "from sklearn.dummy import DummyRegressor"
   ]
  },
  {
   "cell_type": "code",
   "execution_count": 2,
   "metadata": {},
   "outputs": [],
   "source": [
    "data=pd.read_csv('/datasets/autos.csv')"
   ]
  },
  {
   "cell_type": "code",
   "execution_count": 3,
   "metadata": {},
   "outputs": [
    {
     "data": {
      "text/html": [
       "<div>\n",
       "<style scoped>\n",
       "    .dataframe tbody tr th:only-of-type {\n",
       "        vertical-align: middle;\n",
       "    }\n",
       "\n",
       "    .dataframe tbody tr th {\n",
       "        vertical-align: top;\n",
       "    }\n",
       "\n",
       "    .dataframe thead th {\n",
       "        text-align: right;\n",
       "    }\n",
       "</style>\n",
       "<table border=\"1\" class=\"dataframe\">\n",
       "  <thead>\n",
       "    <tr style=\"text-align: right;\">\n",
       "      <th></th>\n",
       "      <th>DateCrawled</th>\n",
       "      <th>Price</th>\n",
       "      <th>VehicleType</th>\n",
       "      <th>RegistrationYear</th>\n",
       "      <th>Gearbox</th>\n",
       "      <th>Power</th>\n",
       "      <th>Model</th>\n",
       "      <th>Kilometer</th>\n",
       "      <th>RegistrationMonth</th>\n",
       "      <th>FuelType</th>\n",
       "      <th>Brand</th>\n",
       "      <th>Repaired</th>\n",
       "      <th>DateCreated</th>\n",
       "      <th>NumberOfPictures</th>\n",
       "      <th>PostalCode</th>\n",
       "      <th>LastSeen</th>\n",
       "    </tr>\n",
       "  </thead>\n",
       "  <tbody>\n",
       "    <tr>\n",
       "      <th>0</th>\n",
       "      <td>2016-03-24 11:52:17</td>\n",
       "      <td>480</td>\n",
       "      <td>NaN</td>\n",
       "      <td>1993</td>\n",
       "      <td>manual</td>\n",
       "      <td>0</td>\n",
       "      <td>golf</td>\n",
       "      <td>150000</td>\n",
       "      <td>0</td>\n",
       "      <td>petrol</td>\n",
       "      <td>volkswagen</td>\n",
       "      <td>NaN</td>\n",
       "      <td>2016-03-24 00:00:00</td>\n",
       "      <td>0</td>\n",
       "      <td>70435</td>\n",
       "      <td>2016-04-07 03:16:57</td>\n",
       "    </tr>\n",
       "    <tr>\n",
       "      <th>1</th>\n",
       "      <td>2016-03-24 10:58:45</td>\n",
       "      <td>18300</td>\n",
       "      <td>coupe</td>\n",
       "      <td>2011</td>\n",
       "      <td>manual</td>\n",
       "      <td>190</td>\n",
       "      <td>NaN</td>\n",
       "      <td>125000</td>\n",
       "      <td>5</td>\n",
       "      <td>gasoline</td>\n",
       "      <td>audi</td>\n",
       "      <td>yes</td>\n",
       "      <td>2016-03-24 00:00:00</td>\n",
       "      <td>0</td>\n",
       "      <td>66954</td>\n",
       "      <td>2016-04-07 01:46:50</td>\n",
       "    </tr>\n",
       "    <tr>\n",
       "      <th>2</th>\n",
       "      <td>2016-03-14 12:52:21</td>\n",
       "      <td>9800</td>\n",
       "      <td>suv</td>\n",
       "      <td>2004</td>\n",
       "      <td>auto</td>\n",
       "      <td>163</td>\n",
       "      <td>grand</td>\n",
       "      <td>125000</td>\n",
       "      <td>8</td>\n",
       "      <td>gasoline</td>\n",
       "      <td>jeep</td>\n",
       "      <td>NaN</td>\n",
       "      <td>2016-03-14 00:00:00</td>\n",
       "      <td>0</td>\n",
       "      <td>90480</td>\n",
       "      <td>2016-04-05 12:47:46</td>\n",
       "    </tr>\n",
       "    <tr>\n",
       "      <th>3</th>\n",
       "      <td>2016-03-17 16:54:04</td>\n",
       "      <td>1500</td>\n",
       "      <td>small</td>\n",
       "      <td>2001</td>\n",
       "      <td>manual</td>\n",
       "      <td>75</td>\n",
       "      <td>golf</td>\n",
       "      <td>150000</td>\n",
       "      <td>6</td>\n",
       "      <td>petrol</td>\n",
       "      <td>volkswagen</td>\n",
       "      <td>no</td>\n",
       "      <td>2016-03-17 00:00:00</td>\n",
       "      <td>0</td>\n",
       "      <td>91074</td>\n",
       "      <td>2016-03-17 17:40:17</td>\n",
       "    </tr>\n",
       "    <tr>\n",
       "      <th>4</th>\n",
       "      <td>2016-03-31 17:25:20</td>\n",
       "      <td>3600</td>\n",
       "      <td>small</td>\n",
       "      <td>2008</td>\n",
       "      <td>manual</td>\n",
       "      <td>69</td>\n",
       "      <td>fabia</td>\n",
       "      <td>90000</td>\n",
       "      <td>7</td>\n",
       "      <td>gasoline</td>\n",
       "      <td>skoda</td>\n",
       "      <td>no</td>\n",
       "      <td>2016-03-31 00:00:00</td>\n",
       "      <td>0</td>\n",
       "      <td>60437</td>\n",
       "      <td>2016-04-06 10:17:21</td>\n",
       "    </tr>\n",
       "  </tbody>\n",
       "</table>\n",
       "</div>"
      ],
      "text/plain": [
       "           DateCrawled  Price VehicleType  RegistrationYear Gearbox  Power  \\\n",
       "0  2016-03-24 11:52:17    480         NaN              1993  manual      0   \n",
       "1  2016-03-24 10:58:45  18300       coupe              2011  manual    190   \n",
       "2  2016-03-14 12:52:21   9800         suv              2004    auto    163   \n",
       "3  2016-03-17 16:54:04   1500       small              2001  manual     75   \n",
       "4  2016-03-31 17:25:20   3600       small              2008  manual     69   \n",
       "\n",
       "   Model  Kilometer  RegistrationMonth  FuelType       Brand Repaired  \\\n",
       "0   golf     150000                  0    petrol  volkswagen      NaN   \n",
       "1    NaN     125000                  5  gasoline        audi      yes   \n",
       "2  grand     125000                  8  gasoline        jeep      NaN   \n",
       "3   golf     150000                  6    petrol  volkswagen       no   \n",
       "4  fabia      90000                  7  gasoline       skoda       no   \n",
       "\n",
       "           DateCreated  NumberOfPictures  PostalCode             LastSeen  \n",
       "0  2016-03-24 00:00:00                 0       70435  2016-04-07 03:16:57  \n",
       "1  2016-03-24 00:00:00                 0       66954  2016-04-07 01:46:50  \n",
       "2  2016-03-14 00:00:00                 0       90480  2016-04-05 12:47:46  \n",
       "3  2016-03-17 00:00:00                 0       91074  2016-03-17 17:40:17  \n",
       "4  2016-03-31 00:00:00                 0       60437  2016-04-06 10:17:21  "
      ]
     },
     "execution_count": 3,
     "metadata": {},
     "output_type": "execute_result"
    }
   ],
   "source": [
    "data.head()"
   ]
  },
  {
   "cell_type": "markdown",
   "metadata": {},
   "source": [
    "Изучим наш дата фрейм"
   ]
  },
  {
   "cell_type": "code",
   "execution_count": 4,
   "metadata": {},
   "outputs": [
    {
     "name": "stdout",
     "output_type": "stream",
     "text": [
      "<class 'pandas.core.frame.DataFrame'>\n",
      "RangeIndex: 354369 entries, 0 to 354368\n",
      "Data columns (total 16 columns):\n",
      " #   Column             Non-Null Count   Dtype \n",
      "---  ------             --------------   ----- \n",
      " 0   DateCrawled        354369 non-null  object\n",
      " 1   Price              354369 non-null  int64 \n",
      " 2   VehicleType        316879 non-null  object\n",
      " 3   RegistrationYear   354369 non-null  int64 \n",
      " 4   Gearbox            334536 non-null  object\n",
      " 5   Power              354369 non-null  int64 \n",
      " 6   Model              334664 non-null  object\n",
      " 7   Kilometer          354369 non-null  int64 \n",
      " 8   RegistrationMonth  354369 non-null  int64 \n",
      " 9   FuelType           321474 non-null  object\n",
      " 10  Brand              354369 non-null  object\n",
      " 11  Repaired           283215 non-null  object\n",
      " 12  DateCreated        354369 non-null  object\n",
      " 13  NumberOfPictures   354369 non-null  int64 \n",
      " 14  PostalCode         354369 non-null  int64 \n",
      " 15  LastSeen           354369 non-null  object\n",
      "dtypes: int64(7), object(9)\n",
      "memory usage: 43.3+ MB\n"
     ]
    }
   ],
   "source": [
    "data.info()"
   ]
  },
  {
   "cell_type": "code",
   "execution_count": 5,
   "metadata": {
    "scrolled": true
   },
   "outputs": [
    {
     "data": {
      "text/plain": [
       "4"
      ]
     },
     "execution_count": 5,
     "metadata": {},
     "output_type": "execute_result"
    }
   ],
   "source": [
    "data.duplicated().sum()"
   ]
  },
  {
   "cell_type": "markdown",
   "metadata": {},
   "source": [
    "Найдено 4 явных дубликата, удалим их"
   ]
  },
  {
   "cell_type": "code",
   "execution_count": 6,
   "metadata": {},
   "outputs": [],
   "source": [
    "data.drop_duplicates(inplace=True)"
   ]
  },
  {
   "cell_type": "code",
   "execution_count": 7,
   "metadata": {
    "scrolled": true
   },
   "outputs": [
    {
     "data": {
      "text/plain": [
       "DateCrawled              0\n",
       "Price                    0\n",
       "VehicleType          37490\n",
       "RegistrationYear         0\n",
       "Gearbox              19833\n",
       "Power                    0\n",
       "Model                19705\n",
       "Kilometer                0\n",
       "RegistrationMonth        0\n",
       "FuelType             32895\n",
       "Brand                    0\n",
       "Repaired             71154\n",
       "DateCreated              0\n",
       "NumberOfPictures         0\n",
       "PostalCode               0\n",
       "LastSeen                 0\n",
       "dtype: int64"
      ]
     },
     "execution_count": 7,
     "metadata": {},
     "output_type": "execute_result"
    }
   ],
   "source": [
    "data.isnull().sum()"
   ]
  },
  {
   "cell_type": "markdown",
   "metadata": {},
   "source": [
    "Пропуски в:\n",
    "\n",
    "VehicleType - тип автомобильного кузова\n",
    "\n",
    "Gearbox — тип коробки передач\n",
    "\n",
    "Model -  модель автомобиля\n",
    "\n",
    "FuelType — тип топлива\n",
    "\n",
    "Repaired - была машина в ремонте или нет"
   ]
  },
  {
   "cell_type": "markdown",
   "metadata": {},
   "source": [
    "Посчитаем количество строк хотя бы с одним пропуском"
   ]
  },
  {
   "cell_type": "code",
   "execution_count": 8,
   "metadata": {},
   "outputs": [
    {
     "data": {
      "text/plain": [
       "108555"
      ]
     },
     "execution_count": 8,
     "metadata": {},
     "output_type": "execute_result"
    }
   ],
   "source": [
    "data.isnull().any(axis=1).sum()"
   ]
  },
  {
   "cell_type": "markdown",
   "metadata": {},
   "source": [
    "Это составляет"
   ]
  },
  {
   "cell_type": "code",
   "execution_count": 9,
   "metadata": {},
   "outputs": [
    {
     "data": {
      "text/plain": [
       "30.63366867495379"
      ]
     },
     "execution_count": 9,
     "metadata": {},
     "output_type": "execute_result"
    }
   ],
   "source": [
    "data.isnull().any(axis=1).sum()/data.shape[0]*100"
   ]
  },
  {
   "cell_type": "markdown",
   "metadata": {},
   "source": [
    "30.6% от всех данных, это очень большое число, так что не можем просто удалить строки с отсуствующими данными"
   ]
  },
  {
   "cell_type": "markdown",
   "metadata": {},
   "source": [
    "Начнем обработку пропусков"
   ]
  },
  {
   "cell_type": "markdown",
   "metadata": {},
   "source": [
    "**VehicleType**"
   ]
  },
  {
   "cell_type": "code",
   "execution_count": 10,
   "metadata": {
    "scrolled": true
   },
   "outputs": [
    {
     "data": {
      "text/plain": [
       "sedan          91457\n",
       "small          79830\n",
       "wagon          65165\n",
       "bus            28775\n",
       "convertible    20203\n",
       "coupe          16161\n",
       "suv            11996\n",
       "other           3288\n",
       "Name: VehicleType, dtype: int64"
      ]
     },
     "execution_count": 10,
     "metadata": {},
     "output_type": "execute_result"
    }
   ],
   "source": [
    "data['VehicleType'].value_counts()"
   ]
  },
  {
   "cell_type": "markdown",
   "metadata": {},
   "source": [
    "Нет так называемого лидера, так что не можем заполнить пропуски одним определённым типом. Заменю пропуски на unknown"
   ]
  },
  {
   "cell_type": "code",
   "execution_count": 11,
   "metadata": {},
   "outputs": [],
   "source": [
    "data['VehicleType'] = data['VehicleType'].fillna('unknown')"
   ]
  },
  {
   "cell_type": "markdown",
   "metadata": {},
   "source": [
    "**Gearbox**"
   ]
  },
  {
   "cell_type": "code",
   "execution_count": 12,
   "metadata": {
    "scrolled": true
   },
   "outputs": [
    {
     "data": {
      "text/plain": [
       "manual    268249\n",
       "auto       66283\n",
       "Name: Gearbox, dtype: int64"
      ]
     },
     "execution_count": 12,
     "metadata": {},
     "output_type": "execute_result"
    }
   ],
   "source": [
    "data['Gearbox'].value_counts()"
   ]
  },
  {
   "cell_type": "markdown",
   "metadata": {},
   "source": [
    "Видим что машин типа manual гораздо больше, так что пропуски заполним именно этим"
   ]
  },
  {
   "cell_type": "code",
   "execution_count": 13,
   "metadata": {},
   "outputs": [],
   "source": [
    "data['Gearbox'] = data['Gearbox'].fillna('manual')"
   ]
  },
  {
   "cell_type": "markdown",
   "metadata": {},
   "source": [
    "**Model**"
   ]
  },
  {
   "cell_type": "code",
   "execution_count": 14,
   "metadata": {},
   "outputs": [
    {
     "data": {
      "text/plain": [
       "golf                  29232\n",
       "other                 24420\n",
       "3er                   19761\n",
       "polo                  13066\n",
       "corsa                 12570\n",
       "                      ...  \n",
       "i3                        8\n",
       "serie_3                   4\n",
       "rangerover                4\n",
       "serie_1                   2\n",
       "range_rover_evoque        2\n",
       "Name: Model, Length: 250, dtype: int64"
      ]
     },
     "execution_count": 14,
     "metadata": {},
     "output_type": "execute_result"
    }
   ],
   "source": [
    "data['Model'].value_counts()"
   ]
  },
  {
   "cell_type": "markdown",
   "metadata": {},
   "source": [
    "Cитуация аналогична с VehicleType заменим на unknown"
   ]
  },
  {
   "cell_type": "code",
   "execution_count": 15,
   "metadata": {},
   "outputs": [],
   "source": [
    "data['Model'] = data['Model'].fillna('unknown')"
   ]
  },
  {
   "cell_type": "markdown",
   "metadata": {},
   "source": [
    "**FuelType**"
   ]
  },
  {
   "cell_type": "code",
   "execution_count": 16,
   "metadata": {
    "scrolled": true
   },
   "outputs": [
    {
     "data": {
      "text/plain": [
       "petrol      216349\n",
       "gasoline     98719\n",
       "lpg           5310\n",
       "cng            565\n",
       "hybrid         233\n",
       "other          204\n",
       "electric        90\n",
       "Name: FuelType, dtype: int64"
      ]
     },
     "execution_count": 16,
     "metadata": {},
     "output_type": "execute_result"
    }
   ],
   "source": [
    "data['FuelType'].value_counts()"
   ]
  },
  {
   "cell_type": "markdown",
   "metadata": {},
   "source": [
    "пропуски заменим на petrol"
   ]
  },
  {
   "cell_type": "code",
   "execution_count": 17,
   "metadata": {},
   "outputs": [],
   "source": [
    "data['FuelType'] = data['FuelType'].fillna('petrol')"
   ]
  },
  {
   "cell_type": "markdown",
   "metadata": {},
   "source": [
    "**Repaired**"
   ]
  },
  {
   "cell_type": "code",
   "execution_count": 18,
   "metadata": {},
   "outputs": [
    {
     "data": {
      "text/plain": [
       "no     247158\n",
       "yes     36053\n",
       "Name: Repaired, dtype: int64"
      ]
     },
     "execution_count": 18,
     "metadata": {},
     "output_type": "execute_result"
    }
   ],
   "source": [
    "data['Repaired'].value_counts()"
   ]
  },
  {
   "cell_type": "markdown",
   "metadata": {},
   "source": [
    "пропуски заменим на no"
   ]
  },
  {
   "cell_type": "code",
   "execution_count": 19,
   "metadata": {},
   "outputs": [],
   "source": [
    "data['Repaired'] = data['Repaired'].fillna('no')"
   ]
  },
  {
   "cell_type": "markdown",
   "metadata": {},
   "source": [
    "Проверим наличие пропусков"
   ]
  },
  {
   "cell_type": "code",
   "execution_count": 20,
   "metadata": {},
   "outputs": [
    {
     "data": {
      "text/plain": [
       "DateCrawled          0\n",
       "Price                0\n",
       "VehicleType          0\n",
       "RegistrationYear     0\n",
       "Gearbox              0\n",
       "Power                0\n",
       "Model                0\n",
       "Kilometer            0\n",
       "RegistrationMonth    0\n",
       "FuelType             0\n",
       "Brand                0\n",
       "Repaired             0\n",
       "DateCreated          0\n",
       "NumberOfPictures     0\n",
       "PostalCode           0\n",
       "LastSeen             0\n",
       "dtype: int64"
      ]
     },
     "execution_count": 20,
     "metadata": {},
     "output_type": "execute_result"
    }
   ],
   "source": [
    "data.isnull().sum()"
   ]
  },
  {
   "cell_type": "markdown",
   "metadata": {},
   "source": [
    "Удалим неинформативные признаки"
   ]
  },
  {
   "cell_type": "code",
   "execution_count": 21,
   "metadata": {},
   "outputs": [],
   "source": [
    "data=data.drop(['DateCrawled', 'RegistrationMonth', 'DateCreated', 'NumberOfPictures', 'PostalCode', 'LastSeen'], axis=1)"
   ]
  },
  {
   "cell_type": "code",
   "execution_count": 22,
   "metadata": {
    "scrolled": true
   },
   "outputs": [
    {
     "data": {
      "text/plain": [
       "56543"
      ]
     },
     "execution_count": 22,
     "metadata": {},
     "output_type": "execute_result"
    }
   ],
   "source": [
    "data.duplicated().sum()"
   ]
  },
  {
   "cell_type": "markdown",
   "metadata": {},
   "source": [
    "Получили значительное число новых дубликатов"
   ]
  },
  {
   "cell_type": "code",
   "execution_count": 23,
   "metadata": {},
   "outputs": [],
   "source": [
    "data.drop_duplicates(inplace=True)"
   ]
  },
  {
   "cell_type": "code",
   "execution_count": 24,
   "metadata": {
    "scrolled": true
   },
   "outputs": [
    {
     "data": {
      "text/html": [
       "<div>\n",
       "<style scoped>\n",
       "    .dataframe tbody tr th:only-of-type {\n",
       "        vertical-align: middle;\n",
       "    }\n",
       "\n",
       "    .dataframe tbody tr th {\n",
       "        vertical-align: top;\n",
       "    }\n",
       "\n",
       "    .dataframe thead th {\n",
       "        text-align: right;\n",
       "    }\n",
       "</style>\n",
       "<table border=\"1\" class=\"dataframe\">\n",
       "  <thead>\n",
       "    <tr style=\"text-align: right;\">\n",
       "      <th></th>\n",
       "      <th>Price</th>\n",
       "      <th>RegistrationYear</th>\n",
       "      <th>Power</th>\n",
       "      <th>Kilometer</th>\n",
       "    </tr>\n",
       "  </thead>\n",
       "  <tbody>\n",
       "    <tr>\n",
       "      <th>count</th>\n",
       "      <td>297822.000000</td>\n",
       "      <td>297822.000000</td>\n",
       "      <td>297822.000000</td>\n",
       "      <td>297822.000000</td>\n",
       "    </tr>\n",
       "    <tr>\n",
       "      <th>mean</th>\n",
       "      <td>4563.171589</td>\n",
       "      <td>2004.435670</td>\n",
       "      <td>111.961027</td>\n",
       "      <td>126680.114296</td>\n",
       "    </tr>\n",
       "    <tr>\n",
       "      <th>std</th>\n",
       "      <td>4593.363691</td>\n",
       "      <td>94.212298</td>\n",
       "      <td>204.443324</td>\n",
       "      <td>38852.069958</td>\n",
       "    </tr>\n",
       "    <tr>\n",
       "      <th>min</th>\n",
       "      <td>0.000000</td>\n",
       "      <td>1000.000000</td>\n",
       "      <td>0.000000</td>\n",
       "      <td>5000.000000</td>\n",
       "    </tr>\n",
       "    <tr>\n",
       "      <th>25%</th>\n",
       "      <td>1111.000000</td>\n",
       "      <td>1999.000000</td>\n",
       "      <td>69.000000</td>\n",
       "      <td>125000.000000</td>\n",
       "    </tr>\n",
       "    <tr>\n",
       "      <th>50%</th>\n",
       "      <td>2890.000000</td>\n",
       "      <td>2003.000000</td>\n",
       "      <td>105.000000</td>\n",
       "      <td>150000.000000</td>\n",
       "    </tr>\n",
       "    <tr>\n",
       "      <th>75%</th>\n",
       "      <td>6599.000000</td>\n",
       "      <td>2008.000000</td>\n",
       "      <td>143.000000</td>\n",
       "      <td>150000.000000</td>\n",
       "    </tr>\n",
       "    <tr>\n",
       "      <th>max</th>\n",
       "      <td>20000.000000</td>\n",
       "      <td>9999.000000</td>\n",
       "      <td>20000.000000</td>\n",
       "      <td>150000.000000</td>\n",
       "    </tr>\n",
       "  </tbody>\n",
       "</table>\n",
       "</div>"
      ],
      "text/plain": [
       "               Price  RegistrationYear          Power      Kilometer\n",
       "count  297822.000000     297822.000000  297822.000000  297822.000000\n",
       "mean     4563.171589       2004.435670     111.961027  126680.114296\n",
       "std      4593.363691         94.212298     204.443324   38852.069958\n",
       "min         0.000000       1000.000000       0.000000    5000.000000\n",
       "25%      1111.000000       1999.000000      69.000000  125000.000000\n",
       "50%      2890.000000       2003.000000     105.000000  150000.000000\n",
       "75%      6599.000000       2008.000000     143.000000  150000.000000\n",
       "max     20000.000000       9999.000000   20000.000000  150000.000000"
      ]
     },
     "execution_count": 24,
     "metadata": {},
     "output_type": "execute_result"
    }
   ],
   "source": [
    "data.describe()"
   ]
  },
  {
   "cell_type": "markdown",
   "metadata": {},
   "source": [
    "Начнём обработку аномалий"
   ]
  },
  {
   "cell_type": "markdown",
   "metadata": {},
   "source": [
    "**Price**"
   ]
  },
  {
   "cell_type": "code",
   "execution_count": 25,
   "metadata": {},
   "outputs": [
    {
     "data": {
      "image/png": "[encoded data removed]",
      "text/plain": [
       "<Figure size 864x648 with 1 Axes>"
      ]
     },
     "metadata": {
      "needs_background": "light"
     },
     "output_type": "display_data"
    }
   ],
   "source": [
    "data['Price'].hist(bins=150, figsize=(12,9))\n",
    "plt.title(\"Распределение цен на автомобили\")\n",
    "plt.xlabel('Цены')\n",
    "plt.ylabel('частота значений')\n",
    "plt.show()"
   ]
  },
  {
   "cell_type": "code",
   "execution_count": 26,
   "metadata": {},
   "outputs": [
    {
     "data": {
      "text/plain": [
       "67543"
      ]
     },
     "execution_count": 26,
     "metadata": {},
     "output_type": "execute_result"
    }
   ],
   "source": [
    "data.query('Price < 1000')['Price'].count()"
   ]
  },
  {
   "cell_type": "markdown",
   "metadata": {},
   "source": [
    "Вряд ли машин стоит меньше 1000 евро "
   ]
  },
  {
   "cell_type": "code",
   "execution_count": 27,
   "metadata": {},
   "outputs": [],
   "source": [
    "data=data.query('Price >= 1000')"
   ]
  },
  {
   "cell_type": "markdown",
   "metadata": {},
   "source": [
    "**RegistrationYear**\n",
    "\n",
    "Есть машины с годом регистрации автомобиля 1000, тогда еще не существовало машин, либо 9999 год. Рассмотрим машины с 1980 года регистрации до 2016 года"
   ]
  },
  {
   "cell_type": "code",
   "execution_count": 28,
   "metadata": {},
   "outputs": [],
   "source": [
    "data=data.query('1980 <= RegistrationYear <=2016 ')"
   ]
  },
  {
   "cell_type": "markdown",
   "metadata": {},
   "source": [
    "**Power**\n",
    "\n",
    "Аналогично с годом регистрации нет машины с 0 л.с. либо с 20 тысячью"
   ]
  },
  {
   "cell_type": "code",
   "execution_count": 29,
   "metadata": {},
   "outputs": [],
   "source": [
    "data=data.query('50 <= Power <=1500 ')"
   ]
  },
  {
   "cell_type": "markdown",
   "metadata": {},
   "source": [
    "В признаке Kilometer не замечено аномалий"
   ]
  },
  {
   "cell_type": "markdown",
   "metadata": {},
   "source": [
    "**Вывод**\n",
    "\n",
    "1) Выявили явные дубликаты. Удалили\n",
    "\n",
    "2) Обработали пропуски в столбцах VehicleType, Gearbox, Model, FuelType, Repaired \n",
    "\n",
    "3) Удалили неинформативные признаки \n",
    "\n",
    "4) Обработали аномалии в столбцах Price, Power, RegistrationYear "
   ]
  },
  {
   "cell_type": "markdown",
   "metadata": {},
   "source": [
    "## Обучение моделей"
   ]
  },
  {
   "cell_type": "markdown",
   "metadata": {},
   "source": [
    "Будем обучать модели:\n",
    "\n",
    "LGBMRegressor\n",
    "\n",
    "DecisionTreeRegressor"
   ]
  },
  {
   "cell_type": "raw",
   "metadata": {
    "scrolled": true
   },
   "source": [
    "data_encoded = data.copy()\n",
    "data_encoded = pd.get_dummies(data_encoded, columns=[\"Brand\", \"Model\", \"VehicleType\", \"Gearbox\", \"FuelType\",\"Repaired\"])\n",
    "data_encoded = pd.concat([data, data_encoded], axis=1)\n",
    "data_encoded.drop([\"Brand\", \"Model\", \"VehicleType\", \"Gearbox\", \"FuelType\",\"Repaired\"], axis=1, inplace=True)\n",
    "data_encoded = data_encoded.loc[:, ~data_encoded.columns.duplicated()]"
   ]
  },
  {
   "cell_type": "raw",
   "metadata": {
    "scrolled": true
   },
   "source": [
    "data_encoded.head()"
   ]
  },
  {
   "cell_type": "raw",
   "metadata": {},
   "source": [
    "features=data_encoded.drop(\"Price\", axis=1)\n",
    "target=data_encoded['Price']"
   ]
  },
  {
   "cell_type": "raw",
   "metadata": {},
   "source": [
    "features_train, features_test, target_train, target_test = train_test_split(features, target, test_size=0.25, random_state=12345)"
   ]
  },
  {
   "cell_type": "code",
   "execution_count": 30,
   "metadata": {},
   "outputs": [
    {
     "name": "stdout",
     "output_type": "stream",
     "text": [
      "Выборки успешно подготовлены для обучения модели.\n"
     ]
    }
   ],
   "source": [
    "data_train, data_test = train_test_split(data, test_size=0.25, random_state=12345)\n",
    "\n",
    "data_train_encoded = pd.get_dummies(data_train, columns=[\"Brand\", \"Model\", \"VehicleType\", \"Gearbox\", \"FuelType\", \"Repaired\"])\n",
    "data_test_encoded = pd.get_dummies(data_test, columns=[\"Brand\", \"Model\", \"VehicleType\", \"Gearbox\", \"FuelType\", \"Repaired\"])\n",
    "\n",
    "\n",
    "common_columns = set(data_train_encoded.columns) & set(data_test_encoded.columns)\n",
    "data_train_encoded = data_train_encoded[list(common_columns)]\n",
    "data_test_encoded = data_test_encoded[list(common_columns)]\n",
    "\n",
    "features_train = data_train_encoded.drop(\"Price\", axis=1)\n",
    "target_train = data_train_encoded[\"Price\"]\n",
    "features_test = data_test_encoded.drop(\"Price\", axis=1)\n",
    "target_test = data_test_encoded[\"Price\"]\n",
    "\n",
    "if not np.array_equal(features_train.columns, features_test.columns):\n",
    "    print(\"Ошибка: порядок или названия признаков в выборках не совпадают!\")\n",
    "else:\n",
    "    print(\"Выборки успешно подготовлены для обучения модели.\")"
   ]
  },
  {
   "cell_type": "code",
   "execution_count": 31,
   "metadata": {},
   "outputs": [],
   "source": [
    "model_dtr = Pipeline([('preprocessor', ColumnTransformer([('scaler', MinMaxScaler(), ['Kilometer', 'Power', 'RegistrationYear'])], remainder='passthrough')),\n",
    "                      ('regressor', DecisionTreeRegressor(random_state=12345))])\n"
   ]
  },
  {
   "cell_type": "code",
   "execution_count": 32,
   "metadata": {},
   "outputs": [
    {
     "name": "stdout",
     "output_type": "stream",
     "text": [
      "Лучшие гиперпараметры для DecisionTreeRegressor:  {'regressor__max_depth': 9}\n",
      "Лучшее значение метрики для DecisionTreeRegressor:  2145.6248128868647\n"
     ]
    }
   ],
   "source": [
    "parameters_dtr = {'regressor__max_depth':range(1,10)}\n",
    "grid_search_dtr = GridSearchCV(model_dtr, param_grid=parameters_dtr,  scoring='neg_root_mean_squared_error',cv=5)\n",
    "grid_search_dtr.fit(features_train,target_train)\n",
    "print(\"Лучшие гиперпараметры для DecisionTreeRegressor: \", grid_search_dtr.best_params_)\n",
    "print(\"Лучшее значение метрики для DecisionTreeRegressor: \", -(grid_search_dtr.best_score_))"
   ]
  },
  {
   "cell_type": "code",
   "execution_count": 33,
   "metadata": {},
   "outputs": [
    {
     "name": "stdout",
     "output_type": "stream",
     "text": [
      "Лучшие гиперпараметры для DecisionTreeRegressor:  {'regressor__learning_rate': 0.3, 'regressor__num_leaves': 100}\n",
      "Лучшее значение метрики для DecisionTreeRegressor:  1644.2110192903813\n"
     ]
    }
   ],
   "source": [
    "model_lgbm = Pipeline([\n",
    "    ('preprocessor', ColumnTransformer([('scaler', MinMaxScaler(), ['Kilometer', 'Power','RegistrationYear'])], remainder='passthrough')),\n",
    "    ('regressor', LGBMRegressor(random_state=12345))])\n",
    "parameters_lgbm = {'regressor__num_leaves':[50, 100],'regressor__learning_rate':[0.1, 0.3] }\n",
    "grid_search_lgbm = GridSearchCV(model_lgbm, param_grid=parameters_lgbm,  scoring='neg_root_mean_squared_error',cv=5)\n",
    "grid_search_lgbm.fit(features_train,target_train)\n",
    "print(\"Лучшие гиперпараметры для DecisionTreeRegressor: \", grid_search_lgbm.best_params_)\n",
    "print(\"Лучшее значение метрики для DecisionTreeRegressor: \", -(grid_search_lgbm.best_score_))"
   ]
  },
  {
   "cell_type": "markdown",
   "metadata": {},
   "source": [
    "Найдем время обучения и время предсказывания каждой модели"
   ]
  },
  {
   "cell_type": "code",
   "execution_count": 34,
   "metadata": {},
   "outputs": [],
   "source": [
    "model_dtr = DecisionTreeRegressor(random_state = 12345, max_depth=9) \n",
    "model_lgbm=LGBMRegressor(random_state = 12345, learning_rate=0.3,num_leaves=100)"
   ]
  },
  {
   "cell_type": "code",
   "execution_count": 35,
   "metadata": {},
   "outputs": [
    {
     "name": "stdout",
     "output_type": "stream",
     "text": [
      "CPU times: user 2.58 s, sys: 135 ms, total: 2.71 s\n",
      "Wall time: 2.71 s\n"
     ]
    },
    {
     "data": {
      "text/plain": [
       "DecisionTreeRegressor(max_depth=9, random_state=12345)"
      ]
     },
     "execution_count": 35,
     "metadata": {},
     "output_type": "execute_result"
    }
   ],
   "source": [
    "%%time\n",
    "model_dtr.fit(features_train, target_train)"
   ]
  },
  {
   "cell_type": "code",
   "execution_count": 36,
   "metadata": {},
   "outputs": [
    {
     "name": "stdout",
     "output_type": "stream",
     "text": [
      "CPU times: user 123 ms, sys: 151 ms, total: 274 ms\n",
      "Wall time: 281 ms\n"
     ]
    },
    {
     "data": {
      "text/plain": [
       "array([ 8686.7208589 , 10452.45368171, 12169.78660287, ...,\n",
       "        5489.19817768,  5706.51740139,  7545.875     ])"
      ]
     },
     "execution_count": 36,
     "metadata": {},
     "output_type": "execute_result"
    }
   ],
   "source": [
    "%%time\n",
    "model_dtr.predict(features_train)"
   ]
  },
  {
   "cell_type": "code",
   "execution_count": 37,
   "metadata": {},
   "outputs": [
    {
     "name": "stdout",
     "output_type": "stream",
     "text": [
      "CPU times: user 1min 16s, sys: 707 ms, total: 1min 17s\n",
      "Wall time: 1min 18s\n"
     ]
    },
    {
     "data": {
      "text/plain": [
       "LGBMRegressor(learning_rate=0.3, num_leaves=100, random_state=12345)"
      ]
     },
     "execution_count": 37,
     "metadata": {},
     "output_type": "execute_result"
    }
   ],
   "source": [
    "%%time\n",
    "model_lgbm.fit(features_train, target_train)"
   ]
  },
  {
   "cell_type": "code",
   "execution_count": 38,
   "metadata": {},
   "outputs": [
    {
     "name": "stdout",
     "output_type": "stream",
     "text": [
      "CPU times: user 1.97 s, sys: 186 ms, total: 2.15 s\n",
      "Wall time: 2.21 s\n"
     ]
    },
    {
     "data": {
      "text/plain": [
       "array([ 8673.01298033, 13123.58666473, 11982.27342492, ...,\n",
       "        3003.87245537,  5469.55246186,  6895.41553429])"
      ]
     },
     "execution_count": 38,
     "metadata": {},
     "output_type": "execute_result"
    }
   ],
   "source": [
    "%%time\n",
    "model_lgbm.predict(features_train)"
   ]
  },
  {
   "cell_type": "markdown",
   "metadata": {},
   "source": [
    "На тренировочной выборке лучший результат показа модель lgbm, но обучалась значительно дольше, с учётом критериев заказчика, выберу модель DecisionTreeRegressor, "
   ]
  },
  {
   "cell_type": "markdown",
   "metadata": {},
   "source": [
    "## Анализ моделей"
   ]
  },
  {
   "cell_type": "markdown",
   "metadata": {},
   "source": [
    "Проверим наши модели на тестовой выборке"
   ]
  },
  {
   "cell_type": "code",
   "execution_count": 39,
   "metadata": {
    "scrolled": true
   },
   "outputs": [
    {
     "name": "stdout",
     "output_type": "stream",
     "text": [
      "rmse : 2151.438183905267\n",
      "CPU times: user 2.58 s, sys: 187 ms, total: 2.77 s\n",
      "Wall time: 2.8 s\n"
     ]
    }
   ],
   "source": [
    "%%time \n",
    "\n",
    "model_dtr=DecisionTreeRegressor(max_depth=9,random_state=12345)\n",
    "model_dtr.fit(features_train,target_train)\n",
    "prediction=model_dtr.predict(features_test)\n",
    "print(\"rmse :\", mean_squared_error(target_test,prediction)**.5)"
   ]
  },
  {
   "cell_type": "markdown",
   "metadata": {},
   "source": [
    "Проверим модель на адекватность "
   ]
  },
  {
   "cell_type": "code",
   "execution_count": 40,
   "metadata": {},
   "outputs": [
    {
     "name": "stdout",
     "output_type": "stream",
     "text": [
      "rmse : 4631.48290143096\n"
     ]
    }
   ],
   "source": [
    "dummy = DummyRegressor(strategy='mean')\n",
    "dummy.fit(features_train, target_train)\n",
    "predictions = dummy.predict(features_test)\n",
    "print(\"rmse :\", mean_squared_error(target_test,predictions)**.5)"
   ]
  },
  {
   "cell_type": "markdown",
   "metadata": {},
   "source": [
    "Получили что константная модель имеет значение rmse хуже, значит наша модель адекватна и эффективна"
   ]
  },
  {
   "cell_type": "markdown",
   "metadata": {},
   "source": [
    "# Вывод \n",
    "\n",
    "В ходе работы выполнили предобработку данных:\n",
    "\n",
    "1) Выявили явные дубликаты. Удалили\n",
    "\n",
    "2) Обработали пропуски в столбцах VehicleType, Gearbox, Model, FuelType, Repaired\n",
    "\n",
    "3) Удалили неинформативные признаки\n",
    "\n",
    "4) Обработали аномалии в столбцах Price, Power, RegistrationYear\n",
    "\n",
    "Затем обучили модели LGBMRegressor и DecisionTreeRegressor, на обучающей выборке выборке лучший результат был у LGBMRegressor, однако DecisionTreeRegressor обучалась и предсказывала значительно быстрее, поэтому выбрали ее\n",
    "\n",
    "На тестовой выборке модель DecisionTreeRegressor показала результат 2151, что удовлетворяет условиям. Также модель прошла проверку на адекватность, поэтому можем запускать ее в производство"
   ]
  }
 ],
 "metadata": {
  "ExecuteTimeLog": [
   {
    "duration": 435,
    "start_time": "2023-09-18T21:50:23.104Z"
   },
   {
    "duration": 1521,
    "start_time": "2023-09-18T21:50:23.541Z"
   },
   {
    "duration": 196,
    "start_time": "2023-09-18T21:50:25.063Z"
   },
   {
    "duration": 127,
    "start_time": "2023-09-18T21:50:25.263Z"
   },
   {
    "duration": 192,
    "start_time": "2023-09-18T21:50:25.392Z"
   },
   {
    "duration": 25,
    "start_time": "2023-09-18T21:51:49.449Z"
   },
   {
    "duration": 600,
    "start_time": "2023-09-18T21:59:31.817Z"
   },
   {
    "duration": 661,
    "start_time": "2023-09-18T22:00:00.170Z"
   },
   {
    "duration": 172,
    "start_time": "2023-09-18T22:00:02.695Z"
   },
   {
    "duration": 475,
    "start_time": "2023-09-18T22:02:47.621Z"
   },
   {
    "duration": 1101,
    "start_time": "2023-09-18T22:02:48.098Z"
   },
   {
    "duration": 35,
    "start_time": "2023-09-18T22:02:49.201Z"
   },
   {
    "duration": 177,
    "start_time": "2023-09-18T22:02:49.238Z"
   },
   {
    "duration": 130,
    "start_time": "2023-09-18T22:02:49.417Z"
   },
   {
    "duration": 541,
    "start_time": "2023-09-18T22:02:49.553Z"
   },
   {
    "duration": 622,
    "start_time": "2023-09-18T22:02:50.095Z"
   },
   {
    "duration": 178,
    "start_time": "2023-09-18T22:02:50.719Z"
   },
   {
    "duration": 194,
    "start_time": "2023-09-18T22:02:50.899Z"
   },
   {
    "duration": 181,
    "start_time": "2023-09-18T22:02:51.095Z"
   },
   {
    "duration": 190,
    "start_time": "2023-09-18T22:03:05.807Z"
   },
   {
    "duration": 41,
    "start_time": "2023-09-18T22:18:06.851Z"
   },
   {
    "duration": 111,
    "start_time": "2023-09-18T22:19:00.547Z"
   },
   {
    "duration": 112,
    "start_time": "2023-09-18T22:19:19.505Z"
   },
   {
    "duration": 53,
    "start_time": "2023-09-18T22:19:28.253Z"
   },
   {
    "duration": 133,
    "start_time": "2023-09-18T22:19:36.921Z"
   },
   {
    "duration": 5,
    "start_time": "2023-09-18T22:22:52.176Z"
   },
   {
    "duration": 13,
    "start_time": "2023-09-18T22:23:00.353Z"
   },
   {
    "duration": 1813,
    "start_time": "2023-09-18T22:24:20.965Z"
   },
   {
    "duration": 1736,
    "start_time": "2023-09-18T22:24:25.661Z"
   },
   {
    "duration": 26,
    "start_time": "2023-09-18T22:24:40.660Z"
   },
   {
    "duration": 44,
    "start_time": "2023-09-18T23:11:29.713Z"
   },
   {
    "duration": 40,
    "start_time": "2023-09-18T23:14:09.178Z"
   },
   {
    "duration": 22,
    "start_time": "2023-09-18T23:15:17.593Z"
   },
   {
    "duration": 36,
    "start_time": "2023-09-18T23:15:57.837Z"
   },
   {
    "duration": 38,
    "start_time": "2023-09-18T23:18:55.152Z"
   },
   {
    "duration": 415,
    "start_time": "2023-09-18T23:20:20.685Z"
   },
   {
    "duration": 1031,
    "start_time": "2023-09-18T23:20:21.102Z"
   },
   {
    "duration": 32,
    "start_time": "2023-09-18T23:20:22.138Z"
   },
   {
    "duration": 259,
    "start_time": "2023-09-18T23:20:22.171Z"
   },
   {
    "duration": 581,
    "start_time": "2023-09-18T23:20:22.433Z"
   },
   {
    "duration": 634,
    "start_time": "2023-09-18T23:20:23.016Z"
   },
   {
    "duration": 189,
    "start_time": "2023-09-18T23:20:23.657Z"
   },
   {
    "duration": 240,
    "start_time": "2023-09-18T23:20:23.848Z"
   },
   {
    "duration": 193,
    "start_time": "2023-09-18T23:20:24.090Z"
   },
   {
    "duration": 61,
    "start_time": "2023-09-18T23:20:24.285Z"
   },
   {
    "duration": 25,
    "start_time": "2023-09-18T23:20:24.353Z"
   },
   {
    "duration": 38,
    "start_time": "2023-09-18T23:20:24.380Z"
   },
   {
    "duration": 51,
    "start_time": "2023-09-18T23:20:24.419Z"
   },
   {
    "duration": 39,
    "start_time": "2023-09-18T23:20:24.474Z"
   },
   {
    "duration": 50,
    "start_time": "2023-09-18T23:20:24.515Z"
   },
   {
    "duration": 37,
    "start_time": "2023-09-18T23:20:24.567Z"
   },
   {
    "duration": 39,
    "start_time": "2023-09-18T23:20:24.605Z"
   },
   {
    "duration": 40,
    "start_time": "2023-09-18T23:20:24.655Z"
   },
   {
    "duration": 36,
    "start_time": "2023-09-18T23:20:24.698Z"
   },
   {
    "duration": 173,
    "start_time": "2023-09-18T23:20:24.743Z"
   },
   {
    "duration": 82,
    "start_time": "2023-09-18T23:33:11.614Z"
   },
   {
    "duration": 27,
    "start_time": "2023-09-18T23:34:04.552Z"
   },
   {
    "duration": 11,
    "start_time": "2023-09-18T23:34:22.901Z"
   },
   {
    "duration": 79,
    "start_time": "2023-09-18T23:34:43.270Z"
   },
   {
    "duration": 444,
    "start_time": "2023-09-18T23:35:04.313Z"
   },
   {
    "duration": 1011,
    "start_time": "2023-09-18T23:35:04.759Z"
   },
   {
    "duration": 23,
    "start_time": "2023-09-18T23:35:05.772Z"
   },
   {
    "duration": 239,
    "start_time": "2023-09-18T23:35:05.797Z"
   },
   {
    "duration": 547,
    "start_time": "2023-09-18T23:35:06.039Z"
   },
   {
    "duration": 611,
    "start_time": "2023-09-18T23:35:06.587Z"
   },
   {
    "duration": 187,
    "start_time": "2023-09-18T23:35:07.199Z"
   },
   {
    "duration": 192,
    "start_time": "2023-09-18T23:35:07.387Z"
   },
   {
    "duration": 182,
    "start_time": "2023-09-18T23:35:07.581Z"
   },
   {
    "duration": 38,
    "start_time": "2023-09-18T23:35:07.766Z"
   },
   {
    "duration": 40,
    "start_time": "2023-09-18T23:35:07.806Z"
   },
   {
    "duration": 47,
    "start_time": "2023-09-18T23:35:07.847Z"
   },
   {
    "duration": 55,
    "start_time": "2023-09-18T23:35:07.895Z"
   },
   {
    "duration": 42,
    "start_time": "2023-09-18T23:35:07.959Z"
   },
   {
    "duration": 66,
    "start_time": "2023-09-18T23:35:08.002Z"
   },
   {
    "duration": 50,
    "start_time": "2023-09-18T23:35:08.070Z"
   },
   {
    "duration": 92,
    "start_time": "2023-09-18T23:35:08.122Z"
   },
   {
    "duration": 76,
    "start_time": "2023-09-18T23:35:08.216Z"
   },
   {
    "duration": 143,
    "start_time": "2023-09-18T23:35:08.294Z"
   },
   {
    "duration": 296,
    "start_time": "2023-09-18T23:35:08.440Z"
   },
   {
    "duration": 45,
    "start_time": "2023-09-18T23:35:08.740Z"
   },
   {
    "duration": 175,
    "start_time": "2023-09-18T23:35:08.786Z"
   },
   {
    "duration": 45,
    "start_time": "2023-09-18T23:35:57.445Z"
   },
   {
    "duration": 73,
    "start_time": "2023-09-18T23:35:59.109Z"
   },
   {
    "duration": 1291,
    "start_time": "2023-09-19T00:01:24.260Z"
   },
   {
    "duration": 15,
    "start_time": "2023-09-19T00:02:46.405Z"
   },
   {
    "duration": 12,
    "start_time": "2023-09-19T00:02:53.947Z"
   },
   {
    "duration": 13,
    "start_time": "2023-09-19T00:03:33.763Z"
   },
   {
    "duration": 374,
    "start_time": "2023-09-19T00:05:53.944Z"
   },
   {
    "duration": 1504,
    "start_time": "2023-09-19T00:06:07.316Z"
   },
   {
    "duration": 378,
    "start_time": "2023-09-19T00:06:15.103Z"
   },
   {
    "duration": 363,
    "start_time": "2023-09-19T00:06:38.250Z"
   },
   {
    "duration": 399,
    "start_time": "2023-09-19T00:06:45.145Z"
   },
   {
    "duration": 17,
    "start_time": "2023-09-19T00:07:08.043Z"
   },
   {
    "duration": 17,
    "start_time": "2023-09-19T00:07:19.258Z"
   },
   {
    "duration": 33,
    "start_time": "2023-09-19T00:11:33.067Z"
   },
   {
    "duration": 9,
    "start_time": "2023-09-19T00:11:56.709Z"
   },
   {
    "duration": 473,
    "start_time": "2023-09-19T00:13:17.988Z"
   },
   {
    "duration": 218,
    "start_time": "2023-09-19T00:13:27.856Z"
   },
   {
    "duration": 201,
    "start_time": "2023-09-19T00:13:35.852Z"
   },
   {
    "duration": 169,
    "start_time": "2023-09-19T00:13:43.477Z"
   },
   {
    "duration": 160,
    "start_time": "2023-09-19T00:13:47.940Z"
   },
   {
    "duration": 184,
    "start_time": "2023-09-19T00:14:06.786Z"
   },
   {
    "duration": 36,
    "start_time": "2023-09-19T00:15:16.843Z"
   },
   {
    "duration": 8,
    "start_time": "2023-09-19T00:15:34.805Z"
   },
   {
    "duration": 392,
    "start_time": "2023-09-19T00:17:30.815Z"
   },
   {
    "duration": 516,
    "start_time": "2023-09-19T00:18:05.600Z"
   },
   {
    "duration": 410,
    "start_time": "2023-09-19T00:18:14.450Z"
   },
   {
    "duration": 980,
    "start_time": "2023-09-19T00:18:14.862Z"
   },
   {
    "duration": 27,
    "start_time": "2023-09-19T00:18:15.844Z"
   },
   {
    "duration": 207,
    "start_time": "2023-09-19T00:18:15.874Z"
   },
   {
    "duration": 535,
    "start_time": "2023-09-19T00:18:16.083Z"
   },
   {
    "duration": 603,
    "start_time": "2023-09-19T00:18:16.619Z"
   },
   {
    "duration": 175,
    "start_time": "2023-09-19T00:18:17.224Z"
   },
   {
    "duration": 194,
    "start_time": "2023-09-19T00:18:17.401Z"
   },
   {
    "duration": 170,
    "start_time": "2023-09-19T00:18:17.597Z"
   },
   {
    "duration": 41,
    "start_time": "2023-09-19T00:18:17.769Z"
   },
   {
    "duration": 49,
    "start_time": "2023-09-19T00:18:17.812Z"
   },
   {
    "duration": 41,
    "start_time": "2023-09-19T00:18:17.863Z"
   },
   {
    "duration": 46,
    "start_time": "2023-09-19T00:18:17.906Z"
   },
   {
    "duration": 50,
    "start_time": "2023-09-19T00:18:17.955Z"
   },
   {
    "duration": 59,
    "start_time": "2023-09-19T00:18:18.007Z"
   },
   {
    "duration": 39,
    "start_time": "2023-09-19T00:18:18.068Z"
   },
   {
    "duration": 54,
    "start_time": "2023-09-19T00:18:18.109Z"
   },
   {
    "duration": 99,
    "start_time": "2023-09-19T00:18:18.165Z"
   },
   {
    "duration": 50,
    "start_time": "2023-09-19T00:18:18.266Z"
   },
   {
    "duration": 168,
    "start_time": "2023-09-19T00:18:18.318Z"
   },
   {
    "duration": 60,
    "start_time": "2023-09-19T00:18:18.488Z"
   },
   {
    "duration": 59,
    "start_time": "2023-09-19T00:18:18.552Z"
   },
   {
    "duration": 692,
    "start_time": "2023-09-19T00:18:18.613Z"
   },
   {
    "duration": 40,
    "start_time": "2023-09-19T00:18:19.307Z"
   },
   {
    "duration": 34,
    "start_time": "2023-09-19T00:18:19.350Z"
   },
   {
    "duration": 363,
    "start_time": "2023-09-19T00:18:19.386Z"
   },
   {
    "duration": 35,
    "start_time": "2023-09-19T00:18:19.751Z"
   },
   {
    "duration": 409,
    "start_time": "2023-09-19T00:18:19.787Z"
   },
   {
    "duration": 231,
    "start_time": "2023-09-19T00:18:39.069Z"
   },
   {
    "duration": 214,
    "start_time": "2023-09-19T00:18:45.747Z"
   },
   {
    "duration": 40,
    "start_time": "2023-09-19T00:20:22.710Z"
   },
   {
    "duration": 397,
    "start_time": "2023-09-19T00:24:32.580Z"
   },
   {
    "duration": 972,
    "start_time": "2023-09-19T00:24:32.979Z"
   },
   {
    "duration": 20,
    "start_time": "2023-09-19T00:24:33.952Z"
   },
   {
    "duration": 190,
    "start_time": "2023-09-19T00:24:33.974Z"
   },
   {
    "duration": 544,
    "start_time": "2023-09-19T00:24:34.166Z"
   },
   {
    "duration": 611,
    "start_time": "2023-09-19T00:24:34.711Z"
   },
   {
    "duration": 169,
    "start_time": "2023-09-19T00:24:35.323Z"
   },
   {
    "duration": 177,
    "start_time": "2023-09-19T00:24:35.494Z"
   },
   {
    "duration": 202,
    "start_time": "2023-09-19T00:24:35.673Z"
   },
   {
    "duration": 54,
    "start_time": "2023-09-19T00:24:35.879Z"
   },
   {
    "duration": 32,
    "start_time": "2023-09-19T00:24:35.934Z"
   },
   {
    "duration": 38,
    "start_time": "2023-09-19T00:24:35.968Z"
   },
   {
    "duration": 52,
    "start_time": "2023-09-19T00:24:36.007Z"
   },
   {
    "duration": 37,
    "start_time": "2023-09-19T00:24:36.061Z"
   },
   {
    "duration": 58,
    "start_time": "2023-09-19T00:24:36.100Z"
   },
   {
    "duration": 37,
    "start_time": "2023-09-19T00:24:36.164Z"
   },
   {
    "duration": 86,
    "start_time": "2023-09-19T00:24:36.203Z"
   },
   {
    "duration": 49,
    "start_time": "2023-09-19T00:24:36.290Z"
   },
   {
    "duration": 23,
    "start_time": "2023-09-19T00:24:36.347Z"
   },
   {
    "duration": 171,
    "start_time": "2023-09-19T00:24:36.372Z"
   },
   {
    "duration": 38,
    "start_time": "2023-09-19T00:24:36.544Z"
   },
   {
    "duration": 67,
    "start_time": "2023-09-19T00:24:36.584Z"
   },
   {
    "duration": 757,
    "start_time": "2023-09-19T00:24:36.653Z"
   },
   {
    "duration": 37,
    "start_time": "2023-09-19T00:24:37.411Z"
   },
   {
    "duration": 34,
    "start_time": "2023-09-19T00:24:37.449Z"
   },
   {
    "duration": 55,
    "start_time": "2023-09-19T00:24:37.484Z"
   },
   {
    "duration": 26,
    "start_time": "2023-09-19T00:24:37.543Z"
   },
   {
    "duration": 46,
    "start_time": "2023-09-19T11:10:15.622Z"
   },
   {
    "duration": 363,
    "start_time": "2023-09-19T11:10:20.503Z"
   },
   {
    "duration": 1061,
    "start_time": "2023-09-19T11:10:20.868Z"
   },
   {
    "duration": 17,
    "start_time": "2023-09-19T11:10:21.931Z"
   },
   {
    "duration": 137,
    "start_time": "2023-09-19T11:10:21.950Z"
   },
   {
    "duration": 417,
    "start_time": "2023-09-19T11:10:22.088Z"
   },
   {
    "duration": 476,
    "start_time": "2023-09-19T11:10:22.506Z"
   },
   {
    "duration": 136,
    "start_time": "2023-09-19T11:10:22.984Z"
   },
   {
    "duration": 142,
    "start_time": "2023-09-19T11:10:23.122Z"
   },
   {
    "duration": 141,
    "start_time": "2023-09-19T11:10:23.265Z"
   },
   {
    "duration": 41,
    "start_time": "2023-09-19T11:10:23.409Z"
   },
   {
    "duration": 30,
    "start_time": "2023-09-19T11:10:23.452Z"
   },
   {
    "duration": 34,
    "start_time": "2023-09-19T11:10:23.484Z"
   },
   {
    "duration": 29,
    "start_time": "2023-09-19T11:10:23.520Z"
   },
   {
    "duration": 44,
    "start_time": "2023-09-19T11:10:23.551Z"
   },
   {
    "duration": 42,
    "start_time": "2023-09-19T11:10:23.596Z"
   },
   {
    "duration": 42,
    "start_time": "2023-09-19T11:10:23.640Z"
   },
   {
    "duration": 31,
    "start_time": "2023-09-19T11:10:23.684Z"
   },
   {
    "duration": 39,
    "start_time": "2023-09-19T11:10:23.717Z"
   },
   {
    "duration": 24,
    "start_time": "2023-09-19T11:10:23.757Z"
   },
   {
    "duration": 139,
    "start_time": "2023-09-19T11:10:23.782Z"
   },
   {
    "duration": 43,
    "start_time": "2023-09-19T11:10:23.922Z"
   },
   {
    "duration": 57,
    "start_time": "2023-09-19T11:10:23.966Z"
   },
   {
    "duration": 727,
    "start_time": "2023-09-19T11:10:24.024Z"
   },
   {
    "duration": 14,
    "start_time": "2023-09-19T11:10:24.753Z"
   },
   {
    "duration": 29,
    "start_time": "2023-09-19T11:10:24.768Z"
   },
   {
    "duration": 29,
    "start_time": "2023-09-19T11:10:24.799Z"
   },
   {
    "duration": 38,
    "start_time": "2023-09-19T11:10:24.830Z"
   },
   {
    "duration": 13,
    "start_time": "2023-09-19T11:10:24.871Z"
   },
   {
    "duration": 18,
    "start_time": "2023-09-19T11:10:33.088Z"
   },
   {
    "duration": 1141,
    "start_time": "2023-09-19T11:30:53.971Z"
   },
   {
    "duration": 748,
    "start_time": "2023-09-19T11:30:55.114Z"
   },
   {
    "duration": 18,
    "start_time": "2023-09-19T11:30:55.863Z"
   },
   {
    "duration": 187,
    "start_time": "2023-09-19T11:30:55.883Z"
   },
   {
    "duration": 453,
    "start_time": "2023-09-19T11:30:56.073Z"
   },
   {
    "duration": 454,
    "start_time": "2023-09-19T11:30:56.528Z"
   },
   {
    "duration": 127,
    "start_time": "2023-09-19T11:30:56.983Z"
   },
   {
    "duration": 132,
    "start_time": "2023-09-19T11:30:57.112Z"
   },
   {
    "duration": 128,
    "start_time": "2023-09-19T11:30:57.249Z"
   },
   {
    "duration": 32,
    "start_time": "2023-09-19T11:30:57.379Z"
   },
   {
    "duration": 20,
    "start_time": "2023-09-19T11:30:57.413Z"
   },
   {
    "duration": 34,
    "start_time": "2023-09-19T11:30:57.449Z"
   },
   {
    "duration": 36,
    "start_time": "2023-09-19T11:30:57.484Z"
   },
   {
    "duration": 37,
    "start_time": "2023-09-19T11:30:57.523Z"
   },
   {
    "duration": 29,
    "start_time": "2023-09-19T11:30:57.561Z"
   },
   {
    "duration": 37,
    "start_time": "2023-09-19T11:30:57.591Z"
   },
   {
    "duration": 26,
    "start_time": "2023-09-19T11:30:57.630Z"
   },
   {
    "duration": 37,
    "start_time": "2023-09-19T11:30:57.657Z"
   },
   {
    "duration": 26,
    "start_time": "2023-09-19T11:30:57.696Z"
   },
   {
    "duration": 129,
    "start_time": "2023-09-19T11:30:57.723Z"
   },
   {
    "duration": 33,
    "start_time": "2023-09-19T11:30:57.854Z"
   },
   {
    "duration": 62,
    "start_time": "2023-09-19T11:30:57.889Z"
   },
   {
    "duration": 476,
    "start_time": "2023-09-19T11:30:57.953Z"
   },
   {
    "duration": 22,
    "start_time": "2023-09-19T11:30:58.431Z"
   },
   {
    "duration": 29,
    "start_time": "2023-09-19T11:30:58.455Z"
   },
   {
    "duration": 29,
    "start_time": "2023-09-19T11:30:58.486Z"
   },
   {
    "duration": 39,
    "start_time": "2023-09-19T11:30:58.517Z"
   },
   {
    "duration": 13,
    "start_time": "2023-09-19T11:30:58.557Z"
   },
   {
    "duration": 57,
    "start_time": "2023-09-19T11:30:58.571Z"
   },
   {
    "duration": 2,
    "start_time": "2023-09-19T11:30:58.630Z"
   },
   {
    "duration": 31,
    "start_time": "2023-09-19T11:30:58.649Z"
   },
   {
    "duration": 26,
    "start_time": "2023-09-19T11:30:58.681Z"
   },
   {
    "duration": 25,
    "start_time": "2023-09-19T11:30:58.708Z"
   },
   {
    "duration": 11,
    "start_time": "2023-09-19T11:30:58.735Z"
   },
   {
    "duration": 1991,
    "start_time": "2023-09-19T11:30:58.748Z"
   },
   {
    "duration": 2058,
    "start_time": "2023-09-19T11:32:23.529Z"
   },
   {
    "duration": 1290,
    "start_time": "2023-09-19T11:32:47.925Z"
   },
   {
    "duration": 763,
    "start_time": "2023-09-19T11:32:49.217Z"
   },
   {
    "duration": 17,
    "start_time": "2023-09-19T11:32:49.982Z"
   },
   {
    "duration": 146,
    "start_time": "2023-09-19T11:32:50.000Z"
   },
   {
    "duration": 409,
    "start_time": "2023-09-19T11:32:50.149Z"
   },
   {
    "duration": 453,
    "start_time": "2023-09-19T11:32:50.560Z"
   },
   {
    "duration": 126,
    "start_time": "2023-09-19T11:32:51.014Z"
   },
   {
    "duration": 127,
    "start_time": "2023-09-19T11:32:51.149Z"
   },
   {
    "duration": 131,
    "start_time": "2023-09-19T11:32:51.278Z"
   },
   {
    "duration": 54,
    "start_time": "2023-09-19T11:32:51.410Z"
   },
   {
    "duration": 44,
    "start_time": "2023-09-19T11:32:51.465Z"
   },
   {
    "duration": 61,
    "start_time": "2023-09-19T11:32:51.510Z"
   },
   {
    "duration": 59,
    "start_time": "2023-09-19T11:32:51.573Z"
   },
   {
    "duration": 58,
    "start_time": "2023-09-19T11:32:51.635Z"
   },
   {
    "duration": 57,
    "start_time": "2023-09-19T11:32:51.694Z"
   },
   {
    "duration": 66,
    "start_time": "2023-09-19T11:32:51.753Z"
   },
   {
    "duration": 38,
    "start_time": "2023-09-19T11:32:51.821Z"
   },
   {
    "duration": 48,
    "start_time": "2023-09-19T11:32:51.861Z"
   },
   {
    "duration": 21,
    "start_time": "2023-09-19T11:32:51.911Z"
   },
   {
    "duration": 126,
    "start_time": "2023-09-19T11:32:51.934Z"
   },
   {
    "duration": 37,
    "start_time": "2023-09-19T11:32:52.062Z"
   },
   {
    "duration": 67,
    "start_time": "2023-09-19T11:32:52.101Z"
   },
   {
    "duration": 494,
    "start_time": "2023-09-19T11:32:52.170Z"
   },
   {
    "duration": 13,
    "start_time": "2023-09-19T11:32:52.665Z"
   },
   {
    "duration": 28,
    "start_time": "2023-09-19T11:32:52.679Z"
   },
   {
    "duration": 47,
    "start_time": "2023-09-19T11:32:52.709Z"
   },
   {
    "duration": 21,
    "start_time": "2023-09-19T11:32:52.757Z"
   },
   {
    "duration": 60,
    "start_time": "2023-09-19T11:32:52.779Z"
   },
   {
    "duration": 65,
    "start_time": "2023-09-19T11:32:52.841Z"
   },
   {
    "duration": 2,
    "start_time": "2023-09-19T11:32:52.908Z"
   },
   {
    "duration": 16,
    "start_time": "2023-09-19T11:32:52.911Z"
   },
   {
    "duration": 28,
    "start_time": "2023-09-19T11:32:52.928Z"
   },
   {
    "duration": 13,
    "start_time": "2023-09-19T11:32:52.957Z"
   },
   {
    "duration": 9,
    "start_time": "2023-09-19T11:32:52.971Z"
   },
   {
    "duration": 2067,
    "start_time": "2023-09-19T11:32:52.982Z"
   },
   {
    "duration": 3,
    "start_time": "2023-09-19T11:32:55.050Z"
   },
   {
    "duration": 1585,
    "start_time": "2023-09-19T11:35:08.220Z"
   },
   {
    "duration": 791,
    "start_time": "2023-09-19T11:35:09.807Z"
   },
   {
    "duration": 19,
    "start_time": "2023-09-19T11:35:10.600Z"
   },
   {
    "duration": 157,
    "start_time": "2023-09-19T11:35:10.620Z"
   },
   {
    "duration": 471,
    "start_time": "2023-09-19T11:35:10.779Z"
   },
   {
    "duration": 481,
    "start_time": "2023-09-19T11:35:11.252Z"
   },
   {
    "duration": 132,
    "start_time": "2023-09-19T11:35:11.734Z"
   },
   {
    "duration": 139,
    "start_time": "2023-09-19T11:35:11.868Z"
   },
   {
    "duration": 143,
    "start_time": "2023-09-19T11:35:12.009Z"
   },
   {
    "duration": 40,
    "start_time": "2023-09-19T11:35:12.154Z"
   },
   {
    "duration": 21,
    "start_time": "2023-09-19T11:35:12.195Z"
   },
   {
    "duration": 49,
    "start_time": "2023-09-19T11:35:12.217Z"
   },
   {
    "duration": 26,
    "start_time": "2023-09-19T11:35:12.267Z"
   },
   {
    "duration": 48,
    "start_time": "2023-09-19T11:35:12.296Z"
   },
   {
    "duration": 30,
    "start_time": "2023-09-19T11:35:12.349Z"
   },
   {
    "duration": 35,
    "start_time": "2023-09-19T11:35:12.381Z"
   },
   {
    "duration": 46,
    "start_time": "2023-09-19T11:35:12.417Z"
   },
   {
    "duration": 34,
    "start_time": "2023-09-19T11:35:12.465Z"
   },
   {
    "duration": 22,
    "start_time": "2023-09-19T11:35:12.500Z"
   },
   {
    "duration": 143,
    "start_time": "2023-09-19T11:35:12.524Z"
   },
   {
    "duration": 73,
    "start_time": "2023-09-19T11:35:12.669Z"
   },
   {
    "duration": 72,
    "start_time": "2023-09-19T11:35:12.743Z"
   },
   {
    "duration": 525,
    "start_time": "2023-09-19T11:35:12.816Z"
   },
   {
    "duration": 20,
    "start_time": "2023-09-19T11:35:13.342Z"
   },
   {
    "duration": 32,
    "start_time": "2023-09-19T11:35:13.364Z"
   },
   {
    "duration": 31,
    "start_time": "2023-09-19T11:35:13.397Z"
   },
   {
    "duration": 40,
    "start_time": "2023-09-19T11:35:13.430Z"
   },
   {
    "duration": 14,
    "start_time": "2023-09-19T11:35:13.471Z"
   },
   {
    "duration": 78,
    "start_time": "2023-09-19T11:35:13.486Z"
   },
   {
    "duration": 3,
    "start_time": "2023-09-19T11:35:13.565Z"
   },
   {
    "duration": 5,
    "start_time": "2023-09-19T11:35:13.570Z"
   },
   {
    "duration": 5,
    "start_time": "2023-09-19T11:35:13.576Z"
   },
   {
    "duration": 8,
    "start_time": "2023-09-19T11:35:13.582Z"
   },
   {
    "duration": 6,
    "start_time": "2023-09-19T11:35:13.592Z"
   },
   {
    "duration": 2374,
    "start_time": "2023-09-19T11:35:13.600Z"
   },
   {
    "duration": 9,
    "start_time": "2023-09-19T11:35:15.976Z"
   },
   {
    "duration": 1996,
    "start_time": "2023-09-19T11:51:03.421Z"
   },
   {
    "duration": 1121,
    "start_time": "2023-09-19T11:54:37.286Z"
   },
   {
    "duration": 795,
    "start_time": "2023-09-19T11:54:38.409Z"
   },
   {
    "duration": 17,
    "start_time": "2023-09-19T11:54:39.206Z"
   },
   {
    "duration": 151,
    "start_time": "2023-09-19T11:54:39.225Z"
   },
   {
    "duration": 435,
    "start_time": "2023-09-19T11:54:39.377Z"
   },
   {
    "duration": 493,
    "start_time": "2023-09-19T11:54:39.813Z"
   },
   {
    "duration": 129,
    "start_time": "2023-09-19T11:54:40.308Z"
   },
   {
    "duration": 155,
    "start_time": "2023-09-19T11:54:40.439Z"
   },
   {
    "duration": 141,
    "start_time": "2023-09-19T11:54:40.596Z"
   },
   {
    "duration": 40,
    "start_time": "2023-09-19T11:54:40.740Z"
   },
   {
    "duration": 31,
    "start_time": "2023-09-19T11:54:40.782Z"
   },
   {
    "duration": 37,
    "start_time": "2023-09-19T11:54:40.815Z"
   },
   {
    "duration": 21,
    "start_time": "2023-09-19T11:54:40.854Z"
   },
   {
    "duration": 35,
    "start_time": "2023-09-19T11:54:40.877Z"
   },
   {
    "duration": 35,
    "start_time": "2023-09-19T11:54:40.914Z"
   },
   {
    "duration": 39,
    "start_time": "2023-09-19T11:54:40.952Z"
   },
   {
    "duration": 28,
    "start_time": "2023-09-19T11:54:40.993Z"
   },
   {
    "duration": 52,
    "start_time": "2023-09-19T11:54:41.022Z"
   },
   {
    "duration": 22,
    "start_time": "2023-09-19T11:54:41.075Z"
   },
   {
    "duration": 194,
    "start_time": "2023-09-19T11:54:41.099Z"
   },
   {
    "duration": 42,
    "start_time": "2023-09-19T11:54:41.295Z"
   },
   {
    "duration": 62,
    "start_time": "2023-09-19T11:54:41.338Z"
   },
   {
    "duration": 535,
    "start_time": "2023-09-19T11:54:41.402Z"
   },
   {
    "duration": 23,
    "start_time": "2023-09-19T11:54:41.939Z"
   },
   {
    "duration": 84,
    "start_time": "2023-09-19T11:54:41.963Z"
   },
   {
    "duration": 31,
    "start_time": "2023-09-19T11:54:42.048Z"
   },
   {
    "duration": 22,
    "start_time": "2023-09-19T11:54:42.081Z"
   },
   {
    "duration": 13,
    "start_time": "2023-09-19T11:54:42.106Z"
   },
   {
    "duration": 80,
    "start_time": "2023-09-19T11:54:42.120Z"
   },
   {
    "duration": 548,
    "start_time": "2023-09-19T11:54:42.202Z"
   },
   {
    "duration": 1956,
    "start_time": "2023-09-19T11:54:42.752Z"
   },
   {
    "duration": 1219,
    "start_time": "2023-09-19T11:54:55.085Z"
   },
   {
    "duration": 806,
    "start_time": "2023-09-19T11:54:56.306Z"
   },
   {
    "duration": 18,
    "start_time": "2023-09-19T11:54:57.113Z"
   },
   {
    "duration": 175,
    "start_time": "2023-09-19T11:54:57.132Z"
   },
   {
    "duration": 431,
    "start_time": "2023-09-19T11:54:57.309Z"
   },
   {
    "duration": 501,
    "start_time": "2023-09-19T11:54:57.742Z"
   },
   {
    "duration": 130,
    "start_time": "2023-09-19T11:54:58.245Z"
   },
   {
    "duration": 160,
    "start_time": "2023-09-19T11:54:58.376Z"
   },
   {
    "duration": 128,
    "start_time": "2023-09-19T11:54:58.538Z"
   },
   {
    "duration": 36,
    "start_time": "2023-09-19T11:54:58.667Z"
   },
   {
    "duration": 33,
    "start_time": "2023-09-19T11:54:58.705Z"
   },
   {
    "duration": 44,
    "start_time": "2023-09-19T11:54:58.740Z"
   },
   {
    "duration": 24,
    "start_time": "2023-09-19T11:54:58.786Z"
   },
   {
    "duration": 46,
    "start_time": "2023-09-19T11:54:58.812Z"
   },
   {
    "duration": 34,
    "start_time": "2023-09-19T11:54:58.860Z"
   },
   {
    "duration": 45,
    "start_time": "2023-09-19T11:54:58.895Z"
   },
   {
    "duration": 33,
    "start_time": "2023-09-19T11:54:58.942Z"
   },
   {
    "duration": 42,
    "start_time": "2023-09-19T11:54:58.976Z"
   },
   {
    "duration": 33,
    "start_time": "2023-09-19T11:54:59.019Z"
   },
   {
    "duration": 159,
    "start_time": "2023-09-19T11:54:59.054Z"
   },
   {
    "duration": 51,
    "start_time": "2023-09-19T11:54:59.215Z"
   },
   {
    "duration": 64,
    "start_time": "2023-09-19T11:54:59.267Z"
   },
   {
    "duration": 498,
    "start_time": "2023-09-19T11:54:59.333Z"
   },
   {
    "duration": 19,
    "start_time": "2023-09-19T11:54:59.833Z"
   },
   {
    "duration": 28,
    "start_time": "2023-09-19T11:54:59.854Z"
   },
   {
    "duration": 31,
    "start_time": "2023-09-19T11:54:59.884Z"
   },
   {
    "duration": 41,
    "start_time": "2023-09-19T11:54:59.916Z"
   },
   {
    "duration": 13,
    "start_time": "2023-09-19T11:54:59.959Z"
   },
   {
    "duration": 64,
    "start_time": "2023-09-19T11:54:59.974Z"
   },
   {
    "duration": 584,
    "start_time": "2023-09-19T11:55:00.039Z"
   },
   {
    "duration": 2008,
    "start_time": "2023-09-19T11:55:00.625Z"
   },
   {
    "duration": 8,
    "start_time": "2023-09-19T11:56:12.516Z"
   },
   {
    "duration": 1209,
    "start_time": "2023-09-19T11:56:19.169Z"
   },
   {
    "duration": 835,
    "start_time": "2023-09-19T11:56:20.380Z"
   },
   {
    "duration": 18,
    "start_time": "2023-09-19T11:56:21.216Z"
   },
   {
    "duration": 169,
    "start_time": "2023-09-19T11:56:21.236Z"
   },
   {
    "duration": 431,
    "start_time": "2023-09-19T11:56:21.408Z"
   },
   {
    "duration": 468,
    "start_time": "2023-09-19T11:56:21.840Z"
   },
   {
    "duration": 127,
    "start_time": "2023-09-19T11:56:22.310Z"
   },
   {
    "duration": 146,
    "start_time": "2023-09-19T11:56:22.438Z"
   },
   {
    "duration": 123,
    "start_time": "2023-09-19T11:56:22.586Z"
   },
   {
    "duration": 39,
    "start_time": "2023-09-19T11:56:22.711Z"
   },
   {
    "duration": 23,
    "start_time": "2023-09-19T11:56:22.752Z"
   },
   {
    "duration": 40,
    "start_time": "2023-09-19T11:56:22.776Z"
   },
   {
    "duration": 28,
    "start_time": "2023-09-19T11:56:22.818Z"
   },
   {
    "duration": 43,
    "start_time": "2023-09-19T11:56:22.849Z"
   },
   {
    "duration": 29,
    "start_time": "2023-09-19T11:56:22.893Z"
   },
   {
    "duration": 49,
    "start_time": "2023-09-19T11:56:22.924Z"
   },
   {
    "duration": 27,
    "start_time": "2023-09-19T11:56:22.975Z"
   },
   {
    "duration": 46,
    "start_time": "2023-09-19T11:56:23.004Z"
   },
   {
    "duration": 22,
    "start_time": "2023-09-19T11:56:23.052Z"
   },
   {
    "duration": 143,
    "start_time": "2023-09-19T11:56:23.076Z"
   },
   {
    "duration": 44,
    "start_time": "2023-09-19T11:56:23.220Z"
   },
   {
    "duration": 82,
    "start_time": "2023-09-19T11:56:23.266Z"
   },
   {
    "duration": 518,
    "start_time": "2023-09-19T11:56:23.350Z"
   },
   {
    "duration": 13,
    "start_time": "2023-09-19T11:56:23.869Z"
   },
   {
    "duration": 43,
    "start_time": "2023-09-19T11:56:23.883Z"
   },
   {
    "duration": 37,
    "start_time": "2023-09-19T11:56:23.927Z"
   },
   {
    "duration": 24,
    "start_time": "2023-09-19T11:56:23.966Z"
   },
   {
    "duration": 10,
    "start_time": "2023-09-19T11:56:23.992Z"
   },
   {
    "duration": 17,
    "start_time": "2023-09-19T11:56:24.004Z"
   },
   {
    "duration": 74,
    "start_time": "2023-09-19T11:56:24.023Z"
   },
   {
    "duration": 2037,
    "start_time": "2023-09-19T11:56:24.098Z"
   },
   {
    "duration": 74,
    "start_time": "2023-09-19T11:56:31.219Z"
   },
   {
    "duration": 1253,
    "start_time": "2023-09-19T12:06:21.526Z"
   },
   {
    "duration": 815,
    "start_time": "2023-09-19T12:06:22.781Z"
   },
   {
    "duration": 17,
    "start_time": "2023-09-19T12:06:23.598Z"
   },
   {
    "duration": 155,
    "start_time": "2023-09-19T12:06:23.617Z"
   },
   {
    "duration": 450,
    "start_time": "2023-09-19T12:06:23.774Z"
   },
   {
    "duration": 479,
    "start_time": "2023-09-19T12:06:24.226Z"
   },
   {
    "duration": 129,
    "start_time": "2023-09-19T12:06:24.707Z"
   },
   {
    "duration": 164,
    "start_time": "2023-09-19T12:06:24.838Z"
   },
   {
    "duration": 128,
    "start_time": "2023-09-19T12:06:25.003Z"
   },
   {
    "duration": 45,
    "start_time": "2023-09-19T12:06:25.133Z"
   },
   {
    "duration": 25,
    "start_time": "2023-09-19T12:06:25.179Z"
   },
   {
    "duration": 48,
    "start_time": "2023-09-19T12:06:25.206Z"
   },
   {
    "duration": 32,
    "start_time": "2023-09-19T12:06:25.255Z"
   },
   {
    "duration": 54,
    "start_time": "2023-09-19T12:06:25.288Z"
   },
   {
    "duration": 39,
    "start_time": "2023-09-19T12:06:25.344Z"
   },
   {
    "duration": 34,
    "start_time": "2023-09-19T12:06:25.385Z"
   },
   {
    "duration": 22,
    "start_time": "2023-09-19T12:06:25.420Z"
   },
   {
    "duration": 45,
    "start_time": "2023-09-19T12:06:25.444Z"
   },
   {
    "duration": 33,
    "start_time": "2023-09-19T12:06:25.491Z"
   },
   {
    "duration": 151,
    "start_time": "2023-09-19T12:06:25.526Z"
   },
   {
    "duration": 34,
    "start_time": "2023-09-19T12:06:25.679Z"
   },
   {
    "duration": 64,
    "start_time": "2023-09-19T12:06:25.715Z"
   },
   {
    "duration": 592,
    "start_time": "2023-09-19T12:06:25.781Z"
   },
   {
    "duration": 14,
    "start_time": "2023-09-19T12:06:26.374Z"
   },
   {
    "duration": 28,
    "start_time": "2023-09-19T12:06:26.389Z"
   },
   {
    "duration": 51,
    "start_time": "2023-09-19T12:06:26.419Z"
   },
   {
    "duration": 27,
    "start_time": "2023-09-19T12:06:26.473Z"
   },
   {
    "duration": 799,
    "start_time": "2023-09-19T12:06:26.503Z"
   },
   {
    "duration": 110,
    "start_time": "2023-09-19T12:06:27.303Z"
   },
   {
    "duration": 263,
    "start_time": "2023-09-19T12:06:27.415Z"
   },
   {
    "duration": 136196,
    "start_time": "2023-09-19T12:06:27.680Z"
   },
   {
    "duration": 140349,
    "start_time": "2023-09-19T12:11:03.443Z"
   },
   {
    "duration": 1153,
    "start_time": "2023-09-19T12:13:58.113Z"
   },
   {
    "duration": 844,
    "start_time": "2023-09-19T12:13:59.268Z"
   },
   {
    "duration": 21,
    "start_time": "2023-09-19T12:14:00.113Z"
   },
   {
    "duration": 181,
    "start_time": "2023-09-19T12:14:00.136Z"
   },
   {
    "duration": 471,
    "start_time": "2023-09-19T12:14:00.319Z"
   },
   {
    "duration": 502,
    "start_time": "2023-09-19T12:14:00.792Z"
   },
   {
    "duration": 144,
    "start_time": "2023-09-19T12:14:01.296Z"
   },
   {
    "duration": 178,
    "start_time": "2023-09-19T12:14:01.441Z"
   },
   {
    "duration": 149,
    "start_time": "2023-09-19T12:14:01.621Z"
   },
   {
    "duration": 90,
    "start_time": "2023-09-19T12:14:01.771Z"
   },
   {
    "duration": 54,
    "start_time": "2023-09-19T12:14:01.863Z"
   },
   {
    "duration": 148,
    "start_time": "2023-09-19T12:14:01.919Z"
   },
   {
    "duration": 59,
    "start_time": "2023-09-19T12:14:02.068Z"
   },
   {
    "duration": 59,
    "start_time": "2023-09-19T12:14:02.131Z"
   },
   {
    "duration": 41,
    "start_time": "2023-09-19T12:14:02.192Z"
   },
   {
    "duration": 53,
    "start_time": "2023-09-19T12:14:02.235Z"
   },
   {
    "duration": 36,
    "start_time": "2023-09-19T12:14:02.289Z"
   },
   {
    "duration": 53,
    "start_time": "2023-09-19T12:14:02.326Z"
   },
   {
    "duration": 25,
    "start_time": "2023-09-19T12:14:02.381Z"
   },
   {
    "duration": 161,
    "start_time": "2023-09-19T12:14:02.407Z"
   },
   {
    "duration": 35,
    "start_time": "2023-09-19T12:14:02.570Z"
   },
   {
    "duration": 76,
    "start_time": "2023-09-19T12:14:02.607Z"
   },
   {
    "duration": 515,
    "start_time": "2023-09-19T12:14:02.685Z"
   },
   {
    "duration": 13,
    "start_time": "2023-09-19T12:14:03.202Z"
   },
   {
    "duration": 51,
    "start_time": "2023-09-19T12:14:03.217Z"
   },
   {
    "duration": 30,
    "start_time": "2023-09-19T12:14:03.269Z"
   },
   {
    "duration": 21,
    "start_time": "2023-09-19T12:14:03.301Z"
   },
   {
    "duration": 851,
    "start_time": "2023-09-19T12:14:03.323Z"
   },
   {
    "duration": 109,
    "start_time": "2023-09-19T12:14:04.176Z"
   },
   {
    "duration": 279,
    "start_time": "2023-09-19T12:14:04.286Z"
   },
   {
    "duration": 140114,
    "start_time": "2023-09-19T12:14:04.566Z"
   },
   {
    "duration": 53238,
    "start_time": "2023-09-19T12:16:24.682Z"
   },
   {
    "duration": 6,
    "start_time": "2023-09-19T12:20:56.900Z"
   },
   {
    "duration": 20,
    "start_time": "2023-09-19T12:21:07.282Z"
   },
   {
    "duration": 13,
    "start_time": "2023-09-19T12:21:28.833Z"
   },
   {
    "duration": 10,
    "start_time": "2023-09-19T12:21:37.035Z"
   },
   {
    "duration": 13,
    "start_time": "2023-09-19T12:21:47.081Z"
   },
   {
    "duration": 1220,
    "start_time": "2023-09-19T12:23:06.935Z"
   },
   {
    "duration": 808,
    "start_time": "2023-09-19T12:23:08.157Z"
   },
   {
    "duration": 19,
    "start_time": "2023-09-19T12:23:08.967Z"
   },
   {
    "duration": 181,
    "start_time": "2023-09-19T12:23:08.988Z"
   },
   {
    "duration": 438,
    "start_time": "2023-09-19T12:23:09.171Z"
   },
   {
    "duration": 488,
    "start_time": "2023-09-19T12:23:09.611Z"
   },
   {
    "duration": 142,
    "start_time": "2023-09-19T12:23:10.100Z"
   },
   {
    "duration": 144,
    "start_time": "2023-09-19T12:23:10.244Z"
   },
   {
    "duration": 145,
    "start_time": "2023-09-19T12:23:10.390Z"
   },
   {
    "duration": 49,
    "start_time": "2023-09-19T12:23:10.538Z"
   },
   {
    "duration": 19,
    "start_time": "2023-09-19T12:23:10.589Z"
   },
   {
    "duration": 60,
    "start_time": "2023-09-19T12:23:10.609Z"
   },
   {
    "duration": 53,
    "start_time": "2023-09-19T12:23:10.671Z"
   },
   {
    "duration": 64,
    "start_time": "2023-09-19T12:23:10.726Z"
   },
   {
    "duration": 45,
    "start_time": "2023-09-19T12:23:10.791Z"
   },
   {
    "duration": 62,
    "start_time": "2023-09-19T12:23:10.837Z"
   },
   {
    "duration": 37,
    "start_time": "2023-09-19T12:23:10.900Z"
   },
   {
    "duration": 48,
    "start_time": "2023-09-19T12:23:10.939Z"
   },
   {
    "duration": 41,
    "start_time": "2023-09-19T12:23:10.989Z"
   },
   {
    "duration": 168,
    "start_time": "2023-09-19T12:23:11.031Z"
   },
   {
    "duration": 34,
    "start_time": "2023-09-19T12:23:11.201Z"
   },
   {
    "duration": 65,
    "start_time": "2023-09-19T12:23:11.236Z"
   },
   {
    "duration": 506,
    "start_time": "2023-09-19T12:23:11.303Z"
   },
   {
    "duration": 13,
    "start_time": "2023-09-19T12:23:11.810Z"
   },
   {
    "duration": 43,
    "start_time": "2023-09-19T12:23:11.825Z"
   },
   {
    "duration": 30,
    "start_time": "2023-09-19T12:23:11.869Z"
   },
   {
    "duration": 21,
    "start_time": "2023-09-19T12:23:11.901Z"
   },
   {
    "duration": 858,
    "start_time": "2023-09-19T12:23:11.925Z"
   },
   {
    "duration": 115,
    "start_time": "2023-09-19T12:23:12.785Z"
   },
   {
    "duration": 0,
    "start_time": "2023-09-19T12:23:12.901Z"
   },
   {
    "duration": 0,
    "start_time": "2023-09-19T12:23:12.902Z"
   },
   {
    "duration": 0,
    "start_time": "2023-09-19T12:23:12.903Z"
   },
   {
    "duration": 0,
    "start_time": "2023-09-19T12:23:12.904Z"
   },
   {
    "duration": 0,
    "start_time": "2023-09-19T12:23:12.905Z"
   },
   {
    "duration": 12,
    "start_time": "2023-09-19T12:23:27.249Z"
   },
   {
    "duration": 10,
    "start_time": "2023-09-19T12:25:34.104Z"
   },
   {
    "duration": 694,
    "start_time": "2023-09-19T12:26:45.234Z"
   },
   {
    "duration": 1183,
    "start_time": "2023-09-19T12:26:50.101Z"
   },
   {
    "duration": 808,
    "start_time": "2023-09-19T12:26:51.286Z"
   },
   {
    "duration": 19,
    "start_time": "2023-09-19T12:26:52.096Z"
   },
   {
    "duration": 174,
    "start_time": "2023-09-19T12:26:52.116Z"
   },
   {
    "duration": 442,
    "start_time": "2023-09-19T12:26:52.293Z"
   },
   {
    "duration": 489,
    "start_time": "2023-09-19T12:26:52.737Z"
   },
   {
    "duration": 141,
    "start_time": "2023-09-19T12:26:53.227Z"
   },
   {
    "duration": 208,
    "start_time": "2023-09-19T12:26:53.369Z"
   },
   {
    "duration": 137,
    "start_time": "2023-09-19T12:26:53.578Z"
   },
   {
    "duration": 48,
    "start_time": "2023-09-19T12:26:53.717Z"
   },
   {
    "duration": 29,
    "start_time": "2023-09-19T12:26:53.766Z"
   },
   {
    "duration": 50,
    "start_time": "2023-09-19T12:26:53.796Z"
   },
   {
    "duration": 116,
    "start_time": "2023-09-19T12:26:53.848Z"
   },
   {
    "duration": 48,
    "start_time": "2023-09-19T12:26:53.968Z"
   },
   {
    "duration": 45,
    "start_time": "2023-09-19T12:26:54.018Z"
   },
   {
    "duration": 57,
    "start_time": "2023-09-19T12:26:54.065Z"
   },
   {
    "duration": 48,
    "start_time": "2023-09-19T12:26:54.124Z"
   },
   {
    "duration": 46,
    "start_time": "2023-09-19T12:26:54.174Z"
   },
   {
    "duration": 41,
    "start_time": "2023-09-19T12:26:54.221Z"
   },
   {
    "duration": 136,
    "start_time": "2023-09-19T12:26:54.264Z"
   },
   {
    "duration": 40,
    "start_time": "2023-09-19T12:26:54.402Z"
   },
   {
    "duration": 69,
    "start_time": "2023-09-19T12:26:54.449Z"
   },
   {
    "duration": 518,
    "start_time": "2023-09-19T12:26:54.519Z"
   },
   {
    "duration": 26,
    "start_time": "2023-09-19T12:26:55.038Z"
   },
   {
    "duration": 31,
    "start_time": "2023-09-19T12:26:55.066Z"
   },
   {
    "duration": 31,
    "start_time": "2023-09-19T12:26:55.099Z"
   },
   {
    "duration": 45,
    "start_time": "2023-09-19T12:26:55.131Z"
   },
   {
    "duration": 792,
    "start_time": "2023-09-19T12:26:55.177Z"
   },
   {
    "duration": 0,
    "start_time": "2023-09-19T12:26:55.971Z"
   },
   {
    "duration": 0,
    "start_time": "2023-09-19T12:26:55.973Z"
   },
   {
    "duration": 0,
    "start_time": "2023-09-19T12:26:55.975Z"
   },
   {
    "duration": 0,
    "start_time": "2023-09-19T12:26:55.976Z"
   },
   {
    "duration": 0,
    "start_time": "2023-09-19T12:26:55.978Z"
   },
   {
    "duration": 0,
    "start_time": "2023-09-19T12:26:55.979Z"
   },
   {
    "duration": 0,
    "start_time": "2023-09-19T12:26:55.980Z"
   },
   {
    "duration": 9,
    "start_time": "2023-09-19T12:27:11.428Z"
   },
   {
    "duration": 1153,
    "start_time": "2023-09-19T12:27:16.521Z"
   },
   {
    "duration": 799,
    "start_time": "2023-09-19T12:27:17.676Z"
   },
   {
    "duration": 21,
    "start_time": "2023-09-19T12:27:18.476Z"
   },
   {
    "duration": 167,
    "start_time": "2023-09-19T12:27:18.499Z"
   },
   {
    "duration": 456,
    "start_time": "2023-09-19T12:27:18.668Z"
   },
   {
    "duration": 506,
    "start_time": "2023-09-19T12:27:19.126Z"
   },
   {
    "duration": 160,
    "start_time": "2023-09-19T12:27:19.633Z"
   },
   {
    "duration": 169,
    "start_time": "2023-09-19T12:27:19.794Z"
   },
   {
    "duration": 149,
    "start_time": "2023-09-19T12:27:19.965Z"
   },
   {
    "duration": 51,
    "start_time": "2023-09-19T12:27:20.116Z"
   },
   {
    "duration": 31,
    "start_time": "2023-09-19T12:27:20.169Z"
   },
   {
    "duration": 35,
    "start_time": "2023-09-19T12:27:20.202Z"
   },
   {
    "duration": 42,
    "start_time": "2023-09-19T12:27:20.238Z"
   },
   {
    "duration": 43,
    "start_time": "2023-09-19T12:27:20.283Z"
   },
   {
    "duration": 36,
    "start_time": "2023-09-19T12:27:20.327Z"
   },
   {
    "duration": 36,
    "start_time": "2023-09-19T12:27:20.365Z"
   },
   {
    "duration": 22,
    "start_time": "2023-09-19T12:27:20.402Z"
   },
   {
    "duration": 53,
    "start_time": "2023-09-19T12:27:20.426Z"
   },
   {
    "duration": 21,
    "start_time": "2023-09-19T12:27:20.481Z"
   },
   {
    "duration": 160,
    "start_time": "2023-09-19T12:27:20.504Z"
   },
   {
    "duration": 34,
    "start_time": "2023-09-19T12:27:20.666Z"
   },
   {
    "duration": 87,
    "start_time": "2023-09-19T12:27:20.703Z"
   },
   {
    "duration": 526,
    "start_time": "2023-09-19T12:27:20.792Z"
   },
   {
    "duration": 14,
    "start_time": "2023-09-19T12:27:21.319Z"
   },
   {
    "duration": 85,
    "start_time": "2023-09-19T12:27:21.335Z"
   },
   {
    "duration": 56,
    "start_time": "2023-09-19T12:27:21.422Z"
   },
   {
    "duration": 24,
    "start_time": "2023-09-19T12:27:21.480Z"
   },
   {
    "duration": 859,
    "start_time": "2023-09-19T12:27:21.505Z"
   },
   {
    "duration": 11,
    "start_time": "2023-09-19T12:27:22.366Z"
   },
   {
    "duration": 144,
    "start_time": "2023-09-19T12:27:22.378Z"
   },
   {
    "duration": 0,
    "start_time": "2023-09-19T12:27:22.524Z"
   },
   {
    "duration": 0,
    "start_time": "2023-09-19T12:27:22.525Z"
   },
   {
    "duration": 0,
    "start_time": "2023-09-19T12:27:22.526Z"
   },
   {
    "duration": 0,
    "start_time": "2023-09-19T12:27:22.527Z"
   },
   {
    "duration": 0,
    "start_time": "2023-09-19T12:27:22.529Z"
   },
   {
    "duration": 1175,
    "start_time": "2023-09-19T12:28:20.919Z"
   },
   {
    "duration": 826,
    "start_time": "2023-09-19T12:28:22.096Z"
   },
   {
    "duration": 35,
    "start_time": "2023-09-19T12:28:22.924Z"
   },
   {
    "duration": 169,
    "start_time": "2023-09-19T12:28:22.964Z"
   },
   {
    "duration": 502,
    "start_time": "2023-09-19T12:28:23.135Z"
   },
   {
    "duration": 550,
    "start_time": "2023-09-19T12:28:23.639Z"
   },
   {
    "duration": 138,
    "start_time": "2023-09-19T12:28:24.191Z"
   },
   {
    "duration": 159,
    "start_time": "2023-09-19T12:28:24.331Z"
   },
   {
    "duration": 145,
    "start_time": "2023-09-19T12:28:24.492Z"
   },
   {
    "duration": 46,
    "start_time": "2023-09-19T12:28:24.639Z"
   },
   {
    "duration": 32,
    "start_time": "2023-09-19T12:28:24.686Z"
   },
   {
    "duration": 60,
    "start_time": "2023-09-19T12:28:24.719Z"
   },
   {
    "duration": 20,
    "start_time": "2023-09-19T12:28:24.780Z"
   },
   {
    "duration": 34,
    "start_time": "2023-09-19T12:28:24.803Z"
   },
   {
    "duration": 32,
    "start_time": "2023-09-19T12:28:24.839Z"
   },
   {
    "duration": 41,
    "start_time": "2023-09-19T12:28:24.872Z"
   },
   {
    "duration": 57,
    "start_time": "2023-09-19T12:28:24.914Z"
   },
   {
    "duration": 42,
    "start_time": "2023-09-19T12:28:24.972Z"
   },
   {
    "duration": 52,
    "start_time": "2023-09-19T12:28:25.016Z"
   },
   {
    "duration": 150,
    "start_time": "2023-09-19T12:28:25.070Z"
   },
   {
    "duration": 39,
    "start_time": "2023-09-19T12:28:25.222Z"
   },
   {
    "duration": 62,
    "start_time": "2023-09-19T12:28:25.262Z"
   },
   {
    "duration": 487,
    "start_time": "2023-09-19T12:28:25.326Z"
   },
   {
    "duration": 13,
    "start_time": "2023-09-19T12:28:25.814Z"
   },
   {
    "duration": 47,
    "start_time": "2023-09-19T12:28:25.828Z"
   },
   {
    "duration": 33,
    "start_time": "2023-09-19T12:28:25.876Z"
   },
   {
    "duration": 36,
    "start_time": "2023-09-19T12:28:25.913Z"
   },
   {
    "duration": 90,
    "start_time": "2023-09-19T12:28:25.950Z"
   },
   {
    "duration": 0,
    "start_time": "2023-09-19T12:28:26.042Z"
   },
   {
    "duration": 0,
    "start_time": "2023-09-19T12:28:26.044Z"
   },
   {
    "duration": 0,
    "start_time": "2023-09-19T12:28:26.045Z"
   },
   {
    "duration": 0,
    "start_time": "2023-09-19T12:28:26.046Z"
   },
   {
    "duration": 0,
    "start_time": "2023-09-19T12:28:26.048Z"
   },
   {
    "duration": 0,
    "start_time": "2023-09-19T12:28:26.051Z"
   },
   {
    "duration": 0,
    "start_time": "2023-09-19T12:28:26.052Z"
   },
   {
    "duration": 1155,
    "start_time": "2023-09-19T12:29:43.167Z"
   },
   {
    "duration": 864,
    "start_time": "2023-09-19T12:29:44.324Z"
   },
   {
    "duration": 20,
    "start_time": "2023-09-19T12:29:45.190Z"
   },
   {
    "duration": 153,
    "start_time": "2023-09-19T12:29:45.211Z"
   },
   {
    "duration": 444,
    "start_time": "2023-09-19T12:29:45.367Z"
   },
   {
    "duration": 522,
    "start_time": "2023-09-19T12:29:45.812Z"
   },
   {
    "duration": 147,
    "start_time": "2023-09-19T12:29:46.336Z"
   },
   {
    "duration": 137,
    "start_time": "2023-09-19T12:29:46.485Z"
   },
   {
    "duration": 142,
    "start_time": "2023-09-19T12:29:46.624Z"
   },
   {
    "duration": 35,
    "start_time": "2023-09-19T12:29:46.768Z"
   },
   {
    "duration": 20,
    "start_time": "2023-09-19T12:29:46.804Z"
   },
   {
    "duration": 48,
    "start_time": "2023-09-19T12:29:46.826Z"
   },
   {
    "duration": 31,
    "start_time": "2023-09-19T12:29:46.875Z"
   },
   {
    "duration": 48,
    "start_time": "2023-09-19T12:29:46.908Z"
   },
   {
    "duration": 38,
    "start_time": "2023-09-19T12:29:46.958Z"
   },
   {
    "duration": 37,
    "start_time": "2023-09-19T12:29:46.998Z"
   },
   {
    "duration": 26,
    "start_time": "2023-09-19T12:29:47.037Z"
   },
   {
    "duration": 33,
    "start_time": "2023-09-19T12:29:47.064Z"
   },
   {
    "duration": 35,
    "start_time": "2023-09-19T12:29:47.099Z"
   },
   {
    "duration": 136,
    "start_time": "2023-09-19T12:29:47.136Z"
   },
   {
    "duration": 33,
    "start_time": "2023-09-19T12:29:47.274Z"
   },
   {
    "duration": 64,
    "start_time": "2023-09-19T12:29:47.308Z"
   },
   {
    "duration": 506,
    "start_time": "2023-09-19T12:29:47.373Z"
   },
   {
    "duration": 13,
    "start_time": "2023-09-19T12:29:47.880Z"
   },
   {
    "duration": 29,
    "start_time": "2023-09-19T12:29:47.894Z"
   },
   {
    "duration": 53,
    "start_time": "2023-09-19T12:29:47.924Z"
   },
   {
    "duration": 23,
    "start_time": "2023-09-19T12:29:47.979Z"
   },
   {
    "duration": 935,
    "start_time": "2023-09-19T12:29:48.004Z"
   },
   {
    "duration": 16,
    "start_time": "2023-09-19T12:29:48.941Z"
   },
   {
    "duration": 109,
    "start_time": "2023-09-19T12:29:48.959Z"
   },
   {
    "duration": 262,
    "start_time": "2023-09-19T12:29:49.070Z"
   },
   {
    "duration": 18,
    "start_time": "2023-09-19T12:29:49.334Z"
   },
   {
    "duration": 131395,
    "start_time": "2023-09-19T12:29:49.353Z"
   },
   {
    "duration": 410908,
    "start_time": "2023-09-19T12:32:00.750Z"
   },
   {
    "duration": 3,
    "start_time": "2023-09-19T12:38:51.660Z"
   },
   {
    "duration": 322103,
    "start_time": "2023-09-19T12:38:52.651Z"
   },
   {
    "duration": 3760,
    "start_time": "2023-09-19T12:49:20.859Z"
   },
   {
    "duration": 3738,
    "start_time": "2023-09-19T12:49:31.866Z"
   },
   {
    "duration": 55,
    "start_time": "2023-09-19T12:49:43.514Z"
   },
   {
    "duration": 91,
    "start_time": "2023-09-19T12:50:00.234Z"
   },
   {
    "duration": 15054,
    "start_time": "2023-09-19T12:50:16.603Z"
   },
   {
    "duration": 102,
    "start_time": "2023-09-19T13:06:42.824Z"
   },
   {
    "duration": 3481,
    "start_time": "2023-09-19T13:07:20.888Z"
   },
   {
    "duration": 1525,
    "start_time": "2023-09-19T13:07:24.371Z"
   },
   {
    "duration": 95,
    "start_time": "2023-09-19T13:07:25.898Z"
   },
   {
    "duration": 195,
    "start_time": "2023-09-19T13:07:25.994Z"
   },
   {
    "duration": 597,
    "start_time": "2023-09-19T13:07:26.192Z"
   },
   {
    "duration": 634,
    "start_time": "2023-09-19T13:07:26.791Z"
   },
   {
    "duration": 151,
    "start_time": "2023-09-19T13:07:27.427Z"
   },
   {
    "duration": 192,
    "start_time": "2023-09-19T13:07:27.580Z"
   },
   {
    "duration": 159,
    "start_time": "2023-09-19T13:07:27.774Z"
   },
   {
    "duration": 44,
    "start_time": "2023-09-19T13:07:27.935Z"
   },
   {
    "duration": 64,
    "start_time": "2023-09-19T13:07:27.981Z"
   },
   {
    "duration": 39,
    "start_time": "2023-09-19T13:07:28.047Z"
   },
   {
    "duration": 50,
    "start_time": "2023-09-19T13:07:28.088Z"
   },
   {
    "duration": 42,
    "start_time": "2023-09-19T13:07:28.141Z"
   },
   {
    "duration": 51,
    "start_time": "2023-09-19T13:07:28.185Z"
   },
   {
    "duration": 44,
    "start_time": "2023-09-19T13:07:28.238Z"
   },
   {
    "duration": 41,
    "start_time": "2023-09-19T13:07:28.284Z"
   },
   {
    "duration": 38,
    "start_time": "2023-09-19T13:07:28.327Z"
   },
   {
    "duration": 35,
    "start_time": "2023-09-19T13:07:28.367Z"
   },
   {
    "duration": 164,
    "start_time": "2023-09-19T13:07:28.404Z"
   },
   {
    "duration": 60,
    "start_time": "2023-09-19T13:07:28.570Z"
   },
   {
    "duration": 129,
    "start_time": "2023-09-19T13:07:28.632Z"
   },
   {
    "duration": 692,
    "start_time": "2023-09-19T13:07:28.763Z"
   },
   {
    "duration": 16,
    "start_time": "2023-09-19T13:07:29.457Z"
   },
   {
    "duration": 48,
    "start_time": "2023-09-19T13:07:29.475Z"
   },
   {
    "duration": 37,
    "start_time": "2023-09-19T13:07:29.526Z"
   },
   {
    "duration": 28,
    "start_time": "2023-09-19T13:07:29.565Z"
   },
   {
    "duration": 1365,
    "start_time": "2023-09-19T13:07:29.611Z"
   },
   {
    "duration": 16,
    "start_time": "2023-09-19T13:07:30.978Z"
   },
   {
    "duration": 178,
    "start_time": "2023-09-19T13:07:30.995Z"
   },
   {
    "duration": 618,
    "start_time": "2023-09-19T13:07:31.175Z"
   },
   {
    "duration": 159637,
    "start_time": "2023-09-19T13:07:31.795Z"
   },
   {
    "duration": 2156,
    "start_time": "2023-09-19T13:10:11.434Z"
   },
   {
    "duration": 0,
    "start_time": "2023-09-19T13:10:13.592Z"
   },
   {
    "duration": 0,
    "start_time": "2023-09-19T13:10:13.593Z"
   },
   {
    "duration": 1281,
    "start_time": "2023-09-20T01:30:36.161Z"
   },
   {
    "duration": 1272,
    "start_time": "2023-09-20T01:30:37.444Z"
   },
   {
    "duration": 24,
    "start_time": "2023-09-20T01:30:38.718Z"
   },
   {
    "duration": 162,
    "start_time": "2023-09-20T01:30:38.744Z"
   },
   {
    "duration": 520,
    "start_time": "2023-09-20T01:30:38.909Z"
   },
   {
    "duration": 558,
    "start_time": "2023-09-20T01:30:39.431Z"
   },
   {
    "duration": 142,
    "start_time": "2023-09-20T01:30:39.991Z"
   },
   {
    "duration": 170,
    "start_time": "2023-09-20T01:30:40.135Z"
   },
   {
    "duration": 146,
    "start_time": "2023-09-20T01:30:40.307Z"
   },
   {
    "duration": 47,
    "start_time": "2023-09-20T01:30:40.455Z"
   },
   {
    "duration": 30,
    "start_time": "2023-09-20T01:30:40.503Z"
   },
   {
    "duration": 54,
    "start_time": "2023-09-20T01:30:40.535Z"
   },
   {
    "duration": 32,
    "start_time": "2023-09-20T01:30:40.590Z"
   },
   {
    "duration": 39,
    "start_time": "2023-09-20T01:30:40.625Z"
   },
   {
    "duration": 32,
    "start_time": "2023-09-20T01:30:40.666Z"
   },
   {
    "duration": 39,
    "start_time": "2023-09-20T01:30:40.702Z"
   },
   {
    "duration": 42,
    "start_time": "2023-09-20T01:30:40.742Z"
   },
   {
    "duration": 39,
    "start_time": "2023-09-20T01:30:40.786Z"
   },
   {
    "duration": 45,
    "start_time": "2023-09-20T01:30:40.827Z"
   },
   {
    "duration": 146,
    "start_time": "2023-09-20T01:30:40.874Z"
   },
   {
    "duration": 38,
    "start_time": "2023-09-20T01:30:41.022Z"
   },
   {
    "duration": 188,
    "start_time": "2023-09-20T01:30:41.061Z"
   },
   {
    "duration": 69,
    "start_time": "2023-09-20T01:30:41.251Z"
   },
   {
    "duration": 795,
    "start_time": "2023-09-20T01:30:41.322Z"
   },
   {
    "duration": 18,
    "start_time": "2023-09-20T01:30:42.119Z"
   },
   {
    "duration": 36,
    "start_time": "2023-09-20T01:30:42.138Z"
   },
   {
    "duration": 35,
    "start_time": "2023-09-20T01:30:42.201Z"
   },
   {
    "duration": 24,
    "start_time": "2023-09-20T01:30:42.238Z"
   },
   {
    "duration": 1160,
    "start_time": "2023-09-20T01:30:42.264Z"
   },
   {
    "duration": 14,
    "start_time": "2023-09-20T01:30:43.425Z"
   },
   {
    "duration": 127,
    "start_time": "2023-09-20T01:30:43.440Z"
   },
   {
    "duration": 279,
    "start_time": "2023-09-20T01:30:43.569Z"
   },
   {
    "duration": 4,
    "start_time": "2023-09-20T01:30:43.850Z"
   },
   {
    "duration": 1259,
    "start_time": "2023-09-20T01:33:01.174Z"
   },
   {
    "duration": 875,
    "start_time": "2023-09-20T01:33:02.435Z"
   },
   {
    "duration": 19,
    "start_time": "2023-09-20T01:33:03.311Z"
   },
   {
    "duration": 171,
    "start_time": "2023-09-20T01:33:03.332Z"
   },
   {
    "duration": 500,
    "start_time": "2023-09-20T01:33:03.506Z"
   },
   {
    "duration": 559,
    "start_time": "2023-09-20T01:33:04.008Z"
   },
   {
    "duration": 176,
    "start_time": "2023-09-20T01:33:04.569Z"
   },
   {
    "duration": 205,
    "start_time": "2023-09-20T01:33:04.747Z"
   },
   {
    "duration": 151,
    "start_time": "2023-09-20T01:33:04.954Z"
   },
   {
    "duration": 45,
    "start_time": "2023-09-20T01:33:05.107Z"
   },
   {
    "duration": 55,
    "start_time": "2023-09-20T01:33:05.154Z"
   },
   {
    "duration": 57,
    "start_time": "2023-09-20T01:33:05.211Z"
   },
   {
    "duration": 31,
    "start_time": "2023-09-20T01:33:05.270Z"
   },
   {
    "duration": 52,
    "start_time": "2023-09-20T01:33:05.304Z"
   },
   {
    "duration": 38,
    "start_time": "2023-09-20T01:33:05.358Z"
   },
   {
    "duration": 85,
    "start_time": "2023-09-20T01:33:05.397Z"
   },
   {
    "duration": 38,
    "start_time": "2023-09-20T01:33:05.483Z"
   },
   {
    "duration": 50,
    "start_time": "2023-09-20T01:33:05.523Z"
   },
   {
    "duration": 58,
    "start_time": "2023-09-20T01:33:05.574Z"
   },
   {
    "duration": 178,
    "start_time": "2023-09-20T01:33:05.633Z"
   },
   {
    "duration": 40,
    "start_time": "2023-09-20T01:33:05.812Z"
   },
   {
    "duration": 183,
    "start_time": "2023-09-20T01:33:05.854Z"
   },
   {
    "duration": 173,
    "start_time": "2023-09-20T01:33:06.039Z"
   },
   {
    "duration": 50,
    "start_time": "2023-09-20T01:33:06.214Z"
   },
   {
    "duration": 563,
    "start_time": "2023-09-20T01:33:06.266Z"
   },
   {
    "duration": 15,
    "start_time": "2023-09-20T01:33:06.832Z"
   },
   {
    "duration": 51,
    "start_time": "2023-09-20T01:33:06.849Z"
   },
   {
    "duration": 27,
    "start_time": "2023-09-20T01:33:06.902Z"
   },
   {
    "duration": 23,
    "start_time": "2023-09-20T01:33:06.930Z"
   },
   {
    "duration": 881,
    "start_time": "2023-09-20T01:33:06.955Z"
   },
   {
    "duration": 13,
    "start_time": "2023-09-20T01:33:07.838Z"
   },
   {
    "duration": 151,
    "start_time": "2023-09-20T01:33:07.853Z"
   },
   {
    "duration": 217,
    "start_time": "2023-09-20T01:33:08.006Z"
   },
   {
    "duration": 5,
    "start_time": "2023-09-20T01:33:08.224Z"
   },
   {
    "duration": 118019,
    "start_time": "2023-09-20T01:33:08.230Z"
   },
   {
    "duration": 1282,
    "start_time": "2023-09-20T01:35:53.962Z"
   },
   {
    "duration": 939,
    "start_time": "2023-09-20T01:35:55.246Z"
   },
   {
    "duration": 29,
    "start_time": "2023-09-20T01:35:56.186Z"
   },
   {
    "duration": 173,
    "start_time": "2023-09-20T01:35:56.217Z"
   },
   {
    "duration": 519,
    "start_time": "2023-09-20T01:35:56.393Z"
   },
   {
    "duration": 562,
    "start_time": "2023-09-20T01:35:56.914Z"
   },
   {
    "duration": 152,
    "start_time": "2023-09-20T01:35:57.478Z"
   },
   {
    "duration": 148,
    "start_time": "2023-09-20T01:35:57.632Z"
   },
   {
    "duration": 148,
    "start_time": "2023-09-20T01:35:57.783Z"
   },
   {
    "duration": 38,
    "start_time": "2023-09-20T01:35:57.933Z"
   },
   {
    "duration": 39,
    "start_time": "2023-09-20T01:35:57.973Z"
   },
   {
    "duration": 41,
    "start_time": "2023-09-20T01:35:58.014Z"
   },
   {
    "duration": 31,
    "start_time": "2023-09-20T01:35:58.057Z"
   },
   {
    "duration": 42,
    "start_time": "2023-09-20T01:35:58.093Z"
   },
   {
    "duration": 33,
    "start_time": "2023-09-20T01:35:58.137Z"
   },
   {
    "duration": 49,
    "start_time": "2023-09-20T01:35:58.172Z"
   },
   {
    "duration": 39,
    "start_time": "2023-09-20T01:35:58.223Z"
   },
   {
    "duration": 41,
    "start_time": "2023-09-20T01:35:58.263Z"
   },
   {
    "duration": 35,
    "start_time": "2023-09-20T01:35:58.306Z"
   },
   {
    "duration": 154,
    "start_time": "2023-09-20T01:35:58.343Z"
   },
   {
    "duration": 39,
    "start_time": "2023-09-20T01:35:58.499Z"
   },
   {
    "duration": 207,
    "start_time": "2023-09-20T01:35:58.539Z"
   },
   {
    "duration": 188,
    "start_time": "2023-09-20T01:35:58.748Z"
   },
   {
    "duration": 54,
    "start_time": "2023-09-20T01:35:58.937Z"
   },
   {
    "duration": 693,
    "start_time": "2023-09-20T01:35:58.992Z"
   },
   {
    "duration": 0,
    "start_time": "2023-09-20T01:35:59.687Z"
   },
   {
    "duration": 0,
    "start_time": "2023-09-20T01:35:59.689Z"
   },
   {
    "duration": 0,
    "start_time": "2023-09-20T01:35:59.690Z"
   },
   {
    "duration": 0,
    "start_time": "2023-09-20T01:35:59.701Z"
   },
   {
    "duration": 0,
    "start_time": "2023-09-20T01:35:59.703Z"
   },
   {
    "duration": 0,
    "start_time": "2023-09-20T01:35:59.704Z"
   },
   {
    "duration": 0,
    "start_time": "2023-09-20T01:35:59.705Z"
   },
   {
    "duration": 0,
    "start_time": "2023-09-20T01:35:59.706Z"
   },
   {
    "duration": 0,
    "start_time": "2023-09-20T01:35:59.707Z"
   },
   {
    "duration": 0,
    "start_time": "2023-09-20T01:35:59.708Z"
   },
   {
    "duration": 0,
    "start_time": "2023-09-20T01:35:59.709Z"
   },
   {
    "duration": 0,
    "start_time": "2023-09-20T01:35:59.710Z"
   },
   {
    "duration": 0,
    "start_time": "2023-09-20T01:35:59.711Z"
   },
   {
    "duration": 459,
    "start_time": "2023-09-20T01:36:57.094Z"
   },
   {
    "duration": 1470,
    "start_time": "2023-09-20T01:37:03.608Z"
   },
   {
    "duration": 915,
    "start_time": "2023-09-20T01:37:05.080Z"
   },
   {
    "duration": 20,
    "start_time": "2023-09-20T01:37:05.997Z"
   },
   {
    "duration": 161,
    "start_time": "2023-09-20T01:37:06.018Z"
   },
   {
    "duration": 485,
    "start_time": "2023-09-20T01:37:06.181Z"
   },
   {
    "duration": 519,
    "start_time": "2023-09-20T01:37:06.668Z"
   },
   {
    "duration": 143,
    "start_time": "2023-09-20T01:37:07.188Z"
   },
   {
    "duration": 163,
    "start_time": "2023-09-20T01:37:07.333Z"
   },
   {
    "duration": 151,
    "start_time": "2023-09-20T01:37:07.500Z"
   },
   {
    "duration": 87,
    "start_time": "2023-09-20T01:37:07.653Z"
   },
   {
    "duration": 48,
    "start_time": "2023-09-20T01:37:07.741Z"
   },
   {
    "duration": 56,
    "start_time": "2023-09-20T01:37:07.791Z"
   },
   {
    "duration": 32,
    "start_time": "2023-09-20T01:37:07.848Z"
   },
   {
    "duration": 57,
    "start_time": "2023-09-20T01:37:07.883Z"
   },
   {
    "duration": 39,
    "start_time": "2023-09-20T01:37:07.941Z"
   },
   {
    "duration": 71,
    "start_time": "2023-09-20T01:37:07.981Z"
   },
   {
    "duration": 52,
    "start_time": "2023-09-20T01:37:08.053Z"
   },
   {
    "duration": 54,
    "start_time": "2023-09-20T01:37:08.107Z"
   },
   {
    "duration": 34,
    "start_time": "2023-09-20T01:37:08.163Z"
   },
   {
    "duration": 174,
    "start_time": "2023-09-20T01:37:08.198Z"
   },
   {
    "duration": 41,
    "start_time": "2023-09-20T01:37:08.374Z"
   },
   {
    "duration": 181,
    "start_time": "2023-09-20T01:37:08.416Z"
   },
   {
    "duration": 191,
    "start_time": "2023-09-20T01:37:08.598Z"
   },
   {
    "duration": 56,
    "start_time": "2023-09-20T01:37:08.791Z"
   },
   {
    "duration": 372,
    "start_time": "2023-09-20T01:37:08.849Z"
   },
   {
    "duration": 14,
    "start_time": "2023-09-20T01:37:09.222Z"
   },
   {
    "duration": 23,
    "start_time": "2023-09-20T01:37:09.238Z"
   },
   {
    "duration": 41,
    "start_time": "2023-09-20T01:37:09.263Z"
   },
   {
    "duration": 21,
    "start_time": "2023-09-20T01:37:09.306Z"
   },
   {
    "duration": 808,
    "start_time": "2023-09-20T01:37:09.329Z"
   },
   {
    "duration": 14,
    "start_time": "2023-09-20T01:37:10.138Z"
   },
   {
    "duration": 105,
    "start_time": "2023-09-20T01:37:10.154Z"
   },
   {
    "duration": 214,
    "start_time": "2023-09-20T01:37:10.261Z"
   },
   {
    "duration": 4,
    "start_time": "2023-09-20T01:37:10.477Z"
   },
   {
    "duration": 1587,
    "start_time": "2023-09-20T01:37:59.881Z"
   },
   {
    "duration": 0,
    "start_time": "2023-09-20T01:38:01.470Z"
   },
   {
    "duration": 0,
    "start_time": "2023-09-20T01:38:01.472Z"
   },
   {
    "duration": 0,
    "start_time": "2023-09-20T01:38:01.473Z"
   },
   {
    "duration": 0,
    "start_time": "2023-09-20T01:38:01.474Z"
   },
   {
    "duration": 0,
    "start_time": "2023-09-20T01:38:01.475Z"
   },
   {
    "duration": 0,
    "start_time": "2023-09-20T01:38:01.476Z"
   },
   {
    "duration": 0,
    "start_time": "2023-09-20T01:38:01.477Z"
   },
   {
    "duration": 0,
    "start_time": "2023-09-20T01:38:01.478Z"
   },
   {
    "duration": 0,
    "start_time": "2023-09-20T01:38:01.479Z"
   },
   {
    "duration": 0,
    "start_time": "2023-09-20T01:38:01.480Z"
   },
   {
    "duration": 0,
    "start_time": "2023-09-20T01:38:01.481Z"
   },
   {
    "duration": 0,
    "start_time": "2023-09-20T01:38:01.502Z"
   },
   {
    "duration": 0,
    "start_time": "2023-09-20T01:38:01.503Z"
   },
   {
    "duration": 0,
    "start_time": "2023-09-20T01:38:01.504Z"
   },
   {
    "duration": 0,
    "start_time": "2023-09-20T01:38:01.505Z"
   },
   {
    "duration": 0,
    "start_time": "2023-09-20T01:38:01.506Z"
   },
   {
    "duration": 0,
    "start_time": "2023-09-20T01:38:01.507Z"
   },
   {
    "duration": 0,
    "start_time": "2023-09-20T01:38:01.509Z"
   },
   {
    "duration": 0,
    "start_time": "2023-09-20T01:38:01.510Z"
   },
   {
    "duration": 0,
    "start_time": "2023-09-20T01:38:01.511Z"
   },
   {
    "duration": 0,
    "start_time": "2023-09-20T01:38:01.512Z"
   },
   {
    "duration": 0,
    "start_time": "2023-09-20T01:38:01.514Z"
   },
   {
    "duration": 0,
    "start_time": "2023-09-20T01:38:01.515Z"
   },
   {
    "duration": 0,
    "start_time": "2023-09-20T01:38:01.516Z"
   },
   {
    "duration": 0,
    "start_time": "2023-09-20T01:38:01.517Z"
   },
   {
    "duration": 0,
    "start_time": "2023-09-20T01:38:01.518Z"
   },
   {
    "duration": 0,
    "start_time": "2023-09-20T01:38:01.519Z"
   },
   {
    "duration": 0,
    "start_time": "2023-09-20T01:38:01.520Z"
   },
   {
    "duration": 0,
    "start_time": "2023-09-20T01:38:01.521Z"
   },
   {
    "duration": 0,
    "start_time": "2023-09-20T01:38:01.523Z"
   },
   {
    "duration": 0,
    "start_time": "2023-09-20T01:38:01.523Z"
   },
   {
    "duration": 0,
    "start_time": "2023-09-20T01:38:01.524Z"
   },
   {
    "duration": 0,
    "start_time": "2023-09-20T01:38:01.526Z"
   },
   {
    "duration": 0,
    "start_time": "2023-09-20T01:38:01.527Z"
   },
   {
    "duration": 0,
    "start_time": "2023-09-20T01:38:01.528Z"
   },
   {
    "duration": 0,
    "start_time": "2023-09-20T01:38:01.529Z"
   },
   {
    "duration": 0,
    "start_time": "2023-09-20T01:38:01.530Z"
   },
   {
    "duration": 1396,
    "start_time": "2023-09-20T01:38:21.705Z"
   },
   {
    "duration": 882,
    "start_time": "2023-09-20T01:38:23.103Z"
   },
   {
    "duration": 21,
    "start_time": "2023-09-20T01:38:23.987Z"
   },
   {
    "duration": 195,
    "start_time": "2023-09-20T01:38:24.010Z"
   },
   {
    "duration": 570,
    "start_time": "2023-09-20T01:38:24.208Z"
   },
   {
    "duration": 542,
    "start_time": "2023-09-20T01:38:24.781Z"
   },
   {
    "duration": 153,
    "start_time": "2023-09-20T01:38:25.325Z"
   },
   {
    "duration": 155,
    "start_time": "2023-09-20T01:38:25.479Z"
   },
   {
    "duration": 145,
    "start_time": "2023-09-20T01:38:25.636Z"
   },
   {
    "duration": 42,
    "start_time": "2023-09-20T01:38:25.783Z"
   },
   {
    "duration": 26,
    "start_time": "2023-09-20T01:38:25.827Z"
   },
   {
    "duration": 55,
    "start_time": "2023-09-20T01:38:25.855Z"
   },
   {
    "duration": 25,
    "start_time": "2023-09-20T01:38:25.911Z"
   },
   {
    "duration": 40,
    "start_time": "2023-09-20T01:38:25.940Z"
   },
   {
    "duration": 25,
    "start_time": "2023-09-20T01:38:26.002Z"
   },
   {
    "duration": 39,
    "start_time": "2023-09-20T01:38:26.029Z"
   },
   {
    "duration": 49,
    "start_time": "2023-09-20T01:38:26.070Z"
   },
   {
    "duration": 35,
    "start_time": "2023-09-20T01:38:26.120Z"
   },
   {
    "duration": 38,
    "start_time": "2023-09-20T01:38:26.157Z"
   },
   {
    "duration": 135,
    "start_time": "2023-09-20T01:38:26.197Z"
   },
   {
    "duration": 38,
    "start_time": "2023-09-20T01:38:26.335Z"
   },
   {
    "duration": 206,
    "start_time": "2023-09-20T01:38:26.374Z"
   },
   {
    "duration": 177,
    "start_time": "2023-09-20T01:38:26.582Z"
   },
   {
    "duration": 61,
    "start_time": "2023-09-20T01:38:26.761Z"
   },
   {
    "duration": 379,
    "start_time": "2023-09-20T01:38:26.824Z"
   },
   {
    "duration": 15,
    "start_time": "2023-09-20T01:38:27.205Z"
   },
   {
    "duration": 24,
    "start_time": "2023-09-20T01:38:27.222Z"
   },
   {
    "duration": 22,
    "start_time": "2023-09-20T01:38:27.248Z"
   },
   {
    "duration": 49,
    "start_time": "2023-09-20T01:38:27.272Z"
   },
   {
    "duration": 810,
    "start_time": "2023-09-20T01:38:27.323Z"
   },
   {
    "duration": 14,
    "start_time": "2023-09-20T01:38:28.134Z"
   },
   {
    "duration": 102,
    "start_time": "2023-09-20T01:38:28.150Z"
   },
   {
    "duration": 213,
    "start_time": "2023-09-20T01:38:28.254Z"
   },
   {
    "duration": 4,
    "start_time": "2023-09-20T01:38:28.469Z"
   },
   {
    "duration": 1372,
    "start_time": "2023-09-20T01:40:15.821Z"
   },
   {
    "duration": 875,
    "start_time": "2023-09-20T01:40:17.195Z"
   },
   {
    "duration": 17,
    "start_time": "2023-09-20T01:40:18.072Z"
   },
   {
    "duration": 153,
    "start_time": "2023-09-20T01:40:18.102Z"
   },
   {
    "duration": 533,
    "start_time": "2023-09-20T01:40:18.257Z"
   },
   {
    "duration": 547,
    "start_time": "2023-09-20T01:40:18.792Z"
   },
   {
    "duration": 144,
    "start_time": "2023-09-20T01:40:19.340Z"
   },
   {
    "duration": 154,
    "start_time": "2023-09-20T01:40:19.485Z"
   },
   {
    "duration": 143,
    "start_time": "2023-09-20T01:40:19.641Z"
   },
   {
    "duration": 49,
    "start_time": "2023-09-20T01:40:19.786Z"
   },
   {
    "duration": 35,
    "start_time": "2023-09-20T01:40:19.837Z"
   },
   {
    "duration": 53,
    "start_time": "2023-09-20T01:40:19.874Z"
   },
   {
    "duration": 36,
    "start_time": "2023-09-20T01:40:19.929Z"
   },
   {
    "duration": 50,
    "start_time": "2023-09-20T01:40:19.969Z"
   },
   {
    "duration": 35,
    "start_time": "2023-09-20T01:40:20.020Z"
   },
   {
    "duration": 42,
    "start_time": "2023-09-20T01:40:20.057Z"
   },
   {
    "duration": 36,
    "start_time": "2023-09-20T01:40:20.100Z"
   },
   {
    "duration": 40,
    "start_time": "2023-09-20T01:40:20.138Z"
   },
   {
    "duration": 26,
    "start_time": "2023-09-20T01:40:20.179Z"
   },
   {
    "duration": 148,
    "start_time": "2023-09-20T01:40:20.207Z"
   },
   {
    "duration": 46,
    "start_time": "2023-09-20T01:40:20.356Z"
   },
   {
    "duration": 186,
    "start_time": "2023-09-20T01:40:20.404Z"
   },
   {
    "duration": 173,
    "start_time": "2023-09-20T01:40:20.591Z"
   },
   {
    "duration": 56,
    "start_time": "2023-09-20T01:40:20.766Z"
   },
   {
    "duration": 367,
    "start_time": "2023-09-20T01:40:20.824Z"
   },
   {
    "duration": 23,
    "start_time": "2023-09-20T01:40:21.193Z"
   },
   {
    "duration": 24,
    "start_time": "2023-09-20T01:40:21.218Z"
   },
   {
    "duration": 18,
    "start_time": "2023-09-20T01:40:21.244Z"
   },
   {
    "duration": 37,
    "start_time": "2023-09-20T01:40:21.264Z"
   },
   {
    "duration": 707,
    "start_time": "2023-09-20T01:40:21.303Z"
   },
   {
    "duration": 15,
    "start_time": "2023-09-20T01:40:22.012Z"
   },
   {
    "duration": 94,
    "start_time": "2023-09-20T01:40:22.029Z"
   },
   {
    "duration": 179,
    "start_time": "2023-09-20T01:40:22.124Z"
   },
   {
    "duration": 4,
    "start_time": "2023-09-20T01:40:22.304Z"
   },
   {
    "duration": 98904,
    "start_time": "2023-09-20T01:40:22.310Z"
   },
   {
    "duration": 1372,
    "start_time": "2023-09-20T01:42:24.833Z"
   },
   {
    "duration": 898,
    "start_time": "2023-09-20T01:42:26.207Z"
   },
   {
    "duration": 16,
    "start_time": "2023-09-20T01:42:27.107Z"
   },
   {
    "duration": 173,
    "start_time": "2023-09-20T01:42:27.125Z"
   },
   {
    "duration": 500,
    "start_time": "2023-09-20T01:42:27.301Z"
   },
   {
    "duration": 537,
    "start_time": "2023-09-20T01:42:27.802Z"
   },
   {
    "duration": 152,
    "start_time": "2023-09-20T01:42:28.341Z"
   },
   {
    "duration": 179,
    "start_time": "2023-09-20T01:42:28.495Z"
   },
   {
    "duration": 149,
    "start_time": "2023-09-20T01:42:28.676Z"
   },
   {
    "duration": 35,
    "start_time": "2023-09-20T01:42:28.828Z"
   },
   {
    "duration": 36,
    "start_time": "2023-09-20T01:42:28.865Z"
   },
   {
    "duration": 35,
    "start_time": "2023-09-20T01:42:28.903Z"
   },
   {
    "duration": 27,
    "start_time": "2023-09-20T01:42:28.939Z"
   },
   {
    "duration": 52,
    "start_time": "2023-09-20T01:42:28.968Z"
   },
   {
    "duration": 26,
    "start_time": "2023-09-20T01:42:29.021Z"
   },
   {
    "duration": 38,
    "start_time": "2023-09-20T01:42:29.048Z"
   },
   {
    "duration": 29,
    "start_time": "2023-09-20T01:42:29.088Z"
   },
   {
    "duration": 35,
    "start_time": "2023-09-20T01:42:29.119Z"
   },
   {
    "duration": 26,
    "start_time": "2023-09-20T01:42:29.156Z"
   },
   {
    "duration": 148,
    "start_time": "2023-09-20T01:42:29.201Z"
   },
   {
    "duration": 38,
    "start_time": "2023-09-20T01:42:29.351Z"
   },
   {
    "duration": 187,
    "start_time": "2023-09-20T01:42:29.390Z"
   },
   {
    "duration": 177,
    "start_time": "2023-09-20T01:42:29.579Z"
   },
   {
    "duration": 58,
    "start_time": "2023-09-20T01:42:29.758Z"
   },
   {
    "duration": 376,
    "start_time": "2023-09-20T01:42:29.818Z"
   },
   {
    "duration": 15,
    "start_time": "2023-09-20T01:42:30.196Z"
   },
   {
    "duration": 37,
    "start_time": "2023-09-20T01:42:30.213Z"
   },
   {
    "duration": 126,
    "start_time": "2023-09-20T01:42:30.253Z"
   },
   {
    "duration": 0,
    "start_time": "2023-09-20T01:42:30.381Z"
   },
   {
    "duration": 0,
    "start_time": "2023-09-20T01:42:30.382Z"
   },
   {
    "duration": 0,
    "start_time": "2023-09-20T01:42:30.383Z"
   },
   {
    "duration": 0,
    "start_time": "2023-09-20T01:42:30.384Z"
   },
   {
    "duration": 0,
    "start_time": "2023-09-20T01:42:30.401Z"
   },
   {
    "duration": 0,
    "start_time": "2023-09-20T01:42:30.402Z"
   },
   {
    "duration": 0,
    "start_time": "2023-09-20T01:42:30.403Z"
   },
   {
    "duration": 0,
    "start_time": "2023-09-20T01:42:30.404Z"
   },
   {
    "duration": 0,
    "start_time": "2023-09-20T01:42:30.405Z"
   },
   {
    "duration": 0,
    "start_time": "2023-09-20T01:42:30.406Z"
   },
   {
    "duration": 0,
    "start_time": "2023-09-20T01:42:30.407Z"
   },
   {
    "duration": 9,
    "start_time": "2023-09-20T01:42:36.187Z"
   },
   {
    "duration": 7,
    "start_time": "2023-09-20T01:43:11.899Z"
   },
   {
    "duration": 5,
    "start_time": "2023-09-20T01:46:40.564Z"
   },
   {
    "duration": 9,
    "start_time": "2023-09-20T01:47:46.611Z"
   },
   {
    "duration": 14,
    "start_time": "2023-09-20T01:49:22.323Z"
   },
   {
    "duration": 1497,
    "start_time": "2023-09-20T02:00:01.821Z"
   },
   {
    "duration": 977,
    "start_time": "2023-09-20T02:00:03.320Z"
   },
   {
    "duration": 25,
    "start_time": "2023-09-20T02:00:04.299Z"
   },
   {
    "duration": 673,
    "start_time": "2023-09-20T02:00:04.326Z"
   },
   {
    "duration": 546,
    "start_time": "2023-09-20T02:00:05.002Z"
   },
   {
    "duration": 580,
    "start_time": "2023-09-20T02:00:05.550Z"
   },
   {
    "duration": 153,
    "start_time": "2023-09-20T02:00:06.132Z"
   },
   {
    "duration": 228,
    "start_time": "2023-09-20T02:00:06.287Z"
   },
   {
    "duration": 167,
    "start_time": "2023-09-20T02:00:06.517Z"
   },
   {
    "duration": 58,
    "start_time": "2023-09-20T02:00:06.686Z"
   },
   {
    "duration": 45,
    "start_time": "2023-09-20T02:00:06.746Z"
   },
   {
    "duration": 63,
    "start_time": "2023-09-20T02:00:06.793Z"
   },
   {
    "duration": 54,
    "start_time": "2023-09-20T02:00:06.858Z"
   },
   {
    "duration": 40,
    "start_time": "2023-09-20T02:00:06.916Z"
   },
   {
    "duration": 38,
    "start_time": "2023-09-20T02:00:06.958Z"
   },
   {
    "duration": 58,
    "start_time": "2023-09-20T02:00:06.997Z"
   },
   {
    "duration": 64,
    "start_time": "2023-09-20T02:00:07.057Z"
   },
   {
    "duration": 71,
    "start_time": "2023-09-20T02:00:07.123Z"
   },
   {
    "duration": 74,
    "start_time": "2023-09-20T02:00:07.196Z"
   },
   {
    "duration": 224,
    "start_time": "2023-09-20T02:00:07.272Z"
   },
   {
    "duration": 74,
    "start_time": "2023-09-20T02:00:07.497Z"
   },
   {
    "duration": 295,
    "start_time": "2023-09-20T02:00:07.573Z"
   },
   {
    "duration": 193,
    "start_time": "2023-09-20T02:00:07.869Z"
   },
   {
    "duration": 60,
    "start_time": "2023-09-20T02:00:08.064Z"
   },
   {
    "duration": 398,
    "start_time": "2023-09-20T02:00:08.125Z"
   },
   {
    "duration": 16,
    "start_time": "2023-09-20T02:00:08.524Z"
   },
   {
    "duration": 398,
    "start_time": "2023-09-20T02:00:08.542Z"
   },
   {
    "duration": 20,
    "start_time": "2023-09-20T02:00:08.942Z"
   },
   {
    "duration": 20,
    "start_time": "2023-09-20T02:00:08.963Z"
   },
   {
    "duration": 628,
    "start_time": "2023-09-20T02:00:08.985Z"
   },
   {
    "duration": 7,
    "start_time": "2023-09-20T02:00:09.616Z"
   },
   {
    "duration": 96397,
    "start_time": "2023-09-20T02:00:09.624Z"
   },
   {
    "duration": 1429,
    "start_time": "2023-09-20T02:08:51.346Z"
   },
   {
    "duration": 936,
    "start_time": "2023-09-20T02:08:52.777Z"
   },
   {
    "duration": 17,
    "start_time": "2023-09-20T02:08:53.715Z"
   },
   {
    "duration": 156,
    "start_time": "2023-09-20T02:08:53.734Z"
   },
   {
    "duration": 523,
    "start_time": "2023-09-20T02:08:53.891Z"
   },
   {
    "duration": 579,
    "start_time": "2023-09-20T02:08:54.417Z"
   },
   {
    "duration": 161,
    "start_time": "2023-09-20T02:08:54.998Z"
   },
   {
    "duration": 151,
    "start_time": "2023-09-20T02:08:55.161Z"
   },
   {
    "duration": 206,
    "start_time": "2023-09-20T02:08:55.315Z"
   },
   {
    "duration": 37,
    "start_time": "2023-09-20T02:08:55.524Z"
   },
   {
    "duration": 50,
    "start_time": "2023-09-20T02:08:55.563Z"
   },
   {
    "duration": 75,
    "start_time": "2023-09-20T02:08:55.615Z"
   },
   {
    "duration": 44,
    "start_time": "2023-09-20T02:08:55.691Z"
   },
   {
    "duration": 40,
    "start_time": "2023-09-20T02:08:55.737Z"
   },
   {
    "duration": 36,
    "start_time": "2023-09-20T02:08:55.779Z"
   },
   {
    "duration": 76,
    "start_time": "2023-09-20T02:08:55.819Z"
   },
   {
    "duration": 34,
    "start_time": "2023-09-20T02:08:55.896Z"
   },
   {
    "duration": 57,
    "start_time": "2023-09-20T02:08:55.932Z"
   },
   {
    "duration": 37,
    "start_time": "2023-09-20T02:08:55.991Z"
   },
   {
    "duration": 154,
    "start_time": "2023-09-20T02:08:56.030Z"
   },
   {
    "duration": 50,
    "start_time": "2023-09-20T02:08:56.186Z"
   },
   {
    "duration": 189,
    "start_time": "2023-09-20T02:08:56.238Z"
   },
   {
    "duration": 196,
    "start_time": "2023-09-20T02:08:56.429Z"
   },
   {
    "duration": 54,
    "start_time": "2023-09-20T02:08:56.626Z"
   },
   {
    "duration": 408,
    "start_time": "2023-09-20T02:08:56.682Z"
   },
   {
    "duration": 24,
    "start_time": "2023-09-20T02:08:57.092Z"
   },
   {
    "duration": 20,
    "start_time": "2023-09-20T02:08:57.118Z"
   },
   {
    "duration": 19,
    "start_time": "2023-09-20T02:08:57.142Z"
   },
   {
    "duration": 42,
    "start_time": "2023-09-20T02:08:57.163Z"
   },
   {
    "duration": 606,
    "start_time": "2023-09-20T02:08:57.208Z"
   },
   {
    "duration": 8,
    "start_time": "2023-09-20T02:08:57.815Z"
   },
   {
    "duration": 0,
    "start_time": "2023-09-20T02:08:57.824Z"
   },
   {
    "duration": 0,
    "start_time": "2023-09-20T02:08:57.826Z"
   },
   {
    "duration": 0,
    "start_time": "2023-09-20T02:08:57.827Z"
   },
   {
    "duration": 0,
    "start_time": "2023-09-20T02:08:57.828Z"
   },
   {
    "duration": 1632,
    "start_time": "2023-09-20T02:12:09.392Z"
   },
   {
    "duration": 915,
    "start_time": "2023-09-20T02:12:11.026Z"
   },
   {
    "duration": 17,
    "start_time": "2023-09-20T02:12:11.942Z"
   },
   {
    "duration": 175,
    "start_time": "2023-09-20T02:12:11.961Z"
   },
   {
    "duration": 531,
    "start_time": "2023-09-20T02:12:12.139Z"
   },
   {
    "duration": 571,
    "start_time": "2023-09-20T02:12:12.671Z"
   },
   {
    "duration": 148,
    "start_time": "2023-09-20T02:12:13.244Z"
   },
   {
    "duration": 161,
    "start_time": "2023-09-20T02:12:13.402Z"
   },
   {
    "duration": 166,
    "start_time": "2023-09-20T02:12:13.565Z"
   },
   {
    "duration": 39,
    "start_time": "2023-09-20T02:12:13.732Z"
   },
   {
    "duration": 51,
    "start_time": "2023-09-20T02:12:13.773Z"
   },
   {
    "duration": 53,
    "start_time": "2023-09-20T02:12:13.826Z"
   },
   {
    "duration": 38,
    "start_time": "2023-09-20T02:12:13.880Z"
   },
   {
    "duration": 55,
    "start_time": "2023-09-20T02:12:13.921Z"
   },
   {
    "duration": 58,
    "start_time": "2023-09-20T02:12:13.978Z"
   },
   {
    "duration": 51,
    "start_time": "2023-09-20T02:12:14.037Z"
   },
   {
    "duration": 59,
    "start_time": "2023-09-20T02:12:14.090Z"
   },
   {
    "duration": 37,
    "start_time": "2023-09-20T02:12:14.151Z"
   },
   {
    "duration": 42,
    "start_time": "2023-09-20T02:12:14.190Z"
   },
   {
    "duration": 168,
    "start_time": "2023-09-20T02:12:14.234Z"
   },
   {
    "duration": 37,
    "start_time": "2023-09-20T02:12:14.404Z"
   },
   {
    "duration": 192,
    "start_time": "2023-09-20T02:12:14.443Z"
   },
   {
    "duration": 186,
    "start_time": "2023-09-20T02:12:14.637Z"
   },
   {
    "duration": 66,
    "start_time": "2023-09-20T02:12:14.825Z"
   },
   {
    "duration": 417,
    "start_time": "2023-09-20T02:12:14.902Z"
   },
   {
    "duration": 17,
    "start_time": "2023-09-20T02:12:15.321Z"
   },
   {
    "duration": 23,
    "start_time": "2023-09-20T02:12:15.339Z"
   },
   {
    "duration": 45,
    "start_time": "2023-09-20T02:12:15.364Z"
   },
   {
    "duration": 19,
    "start_time": "2023-09-20T02:12:15.411Z"
   },
   {
    "duration": 606,
    "start_time": "2023-09-20T02:12:15.432Z"
   },
   {
    "duration": 206,
    "start_time": "2023-09-20T02:12:16.039Z"
   },
   {
    "duration": 15,
    "start_time": "2023-09-20T02:12:16.248Z"
   },
   {
    "duration": 0,
    "start_time": "2023-09-20T02:12:16.266Z"
   },
   {
    "duration": 0,
    "start_time": "2023-09-20T02:12:16.267Z"
   },
   {
    "duration": 0,
    "start_time": "2023-09-20T02:12:16.268Z"
   },
   {
    "duration": 1456,
    "start_time": "2023-09-20T02:13:20.135Z"
   },
   {
    "duration": 880,
    "start_time": "2023-09-20T02:13:21.593Z"
   },
   {
    "duration": 28,
    "start_time": "2023-09-20T02:13:22.474Z"
   },
   {
    "duration": 168,
    "start_time": "2023-09-20T02:13:22.504Z"
   },
   {
    "duration": 500,
    "start_time": "2023-09-20T02:13:22.675Z"
   },
   {
    "duration": 525,
    "start_time": "2023-09-20T02:13:23.177Z"
   },
   {
    "duration": 144,
    "start_time": "2023-09-20T02:13:23.704Z"
   },
   {
    "duration": 142,
    "start_time": "2023-09-20T02:13:23.849Z"
   },
   {
    "duration": 140,
    "start_time": "2023-09-20T02:13:24.002Z"
   },
   {
    "duration": 39,
    "start_time": "2023-09-20T02:13:24.144Z"
   },
   {
    "duration": 40,
    "start_time": "2023-09-20T02:13:24.184Z"
   },
   {
    "duration": 46,
    "start_time": "2023-09-20T02:13:24.226Z"
   },
   {
    "duration": 47,
    "start_time": "2023-09-20T02:13:24.274Z"
   },
   {
    "duration": 40,
    "start_time": "2023-09-20T02:13:24.324Z"
   },
   {
    "duration": 49,
    "start_time": "2023-09-20T02:13:24.367Z"
   },
   {
    "duration": 42,
    "start_time": "2023-09-20T02:13:24.418Z"
   },
   {
    "duration": 24,
    "start_time": "2023-09-20T02:13:24.461Z"
   },
   {
    "duration": 59,
    "start_time": "2023-09-20T02:13:24.486Z"
   },
   {
    "duration": 33,
    "start_time": "2023-09-20T02:13:24.547Z"
   },
   {
    "duration": 180,
    "start_time": "2023-09-20T02:13:24.601Z"
   },
   {
    "duration": 43,
    "start_time": "2023-09-20T02:13:24.782Z"
   },
   {
    "duration": 187,
    "start_time": "2023-09-20T02:13:24.827Z"
   },
   {
    "duration": 179,
    "start_time": "2023-09-20T02:13:25.016Z"
   },
   {
    "duration": 55,
    "start_time": "2023-09-20T02:13:25.197Z"
   },
   {
    "duration": 402,
    "start_time": "2023-09-20T02:13:25.254Z"
   },
   {
    "duration": 16,
    "start_time": "2023-09-20T02:13:25.658Z"
   },
   {
    "duration": 43,
    "start_time": "2023-09-20T02:13:25.676Z"
   },
   {
    "duration": 20,
    "start_time": "2023-09-20T02:13:25.721Z"
   },
   {
    "duration": 18,
    "start_time": "2023-09-20T02:13:25.743Z"
   },
   {
    "duration": 604,
    "start_time": "2023-09-20T02:13:25.762Z"
   },
   {
    "duration": 5,
    "start_time": "2023-09-20T02:13:26.368Z"
   },
   {
    "duration": 71463,
    "start_time": "2023-09-20T02:13:26.375Z"
   },
   {
    "duration": 333666,
    "start_time": "2023-09-20T02:14:37.840Z"
   },
   {
    "duration": 2668,
    "start_time": "2023-09-20T02:20:11.508Z"
   },
   {
    "duration": 9045,
    "start_time": "2023-09-20T02:20:14.177Z"
   },
   {
    "duration": 1600,
    "start_time": "2023-09-20T02:26:07.972Z"
   },
   {
    "duration": 957,
    "start_time": "2023-09-20T02:26:09.574Z"
   },
   {
    "duration": 22,
    "start_time": "2023-09-20T02:26:10.533Z"
   },
   {
    "duration": 176,
    "start_time": "2023-09-20T02:26:10.557Z"
   },
   {
    "duration": 532,
    "start_time": "2023-09-20T02:26:10.735Z"
   },
   {
    "duration": 565,
    "start_time": "2023-09-20T02:26:11.269Z"
   },
   {
    "duration": 145,
    "start_time": "2023-09-20T02:26:11.836Z"
   },
   {
    "duration": 197,
    "start_time": "2023-09-20T02:26:11.982Z"
   },
   {
    "duration": 157,
    "start_time": "2023-09-20T02:26:12.181Z"
   },
   {
    "duration": 45,
    "start_time": "2023-09-20T02:26:12.340Z"
   },
   {
    "duration": 34,
    "start_time": "2023-09-20T02:26:12.386Z"
   },
   {
    "duration": 65,
    "start_time": "2023-09-20T02:26:12.422Z"
   },
   {
    "duration": 40,
    "start_time": "2023-09-20T02:26:12.489Z"
   },
   {
    "duration": 46,
    "start_time": "2023-09-20T02:26:12.532Z"
   },
   {
    "duration": 101,
    "start_time": "2023-09-20T02:26:12.580Z"
   },
   {
    "duration": 61,
    "start_time": "2023-09-20T02:26:12.683Z"
   },
   {
    "duration": 28,
    "start_time": "2023-09-20T02:26:12.745Z"
   },
   {
    "duration": 42,
    "start_time": "2023-09-20T02:26:12.775Z"
   },
   {
    "duration": 27,
    "start_time": "2023-09-20T02:26:12.819Z"
   },
   {
    "duration": 173,
    "start_time": "2023-09-20T02:26:12.848Z"
   },
   {
    "duration": 149,
    "start_time": "2023-09-20T02:26:13.022Z"
   },
   {
    "duration": 204,
    "start_time": "2023-09-20T02:26:13.173Z"
   },
   {
    "duration": 179,
    "start_time": "2023-09-20T02:26:13.379Z"
   },
   {
    "duration": 58,
    "start_time": "2023-09-20T02:26:13.560Z"
   },
   {
    "duration": 396,
    "start_time": "2023-09-20T02:26:13.619Z"
   },
   {
    "duration": 17,
    "start_time": "2023-09-20T02:26:14.017Z"
   },
   {
    "duration": 25,
    "start_time": "2023-09-20T02:26:14.036Z"
   },
   {
    "duration": 46,
    "start_time": "2023-09-20T02:26:14.063Z"
   },
   {
    "duration": 20,
    "start_time": "2023-09-20T02:26:14.111Z"
   },
   {
    "duration": 681,
    "start_time": "2023-09-20T02:26:14.133Z"
   },
   {
    "duration": 4,
    "start_time": "2023-09-20T02:26:14.816Z"
   },
   {
    "duration": 73168,
    "start_time": "2023-09-20T02:26:14.822Z"
   },
   {
    "duration": 1094118,
    "start_time": "2023-09-20T02:27:27.992Z"
   },
   {
    "duration": 0,
    "start_time": "2023-09-20T02:45:42.112Z"
   },
   {
    "duration": 0,
    "start_time": "2023-09-20T02:45:42.113Z"
   },
   {
    "duration": 0,
    "start_time": "2023-09-20T02:45:42.114Z"
   },
   {
    "duration": 0,
    "start_time": "2023-09-20T02:45:42.115Z"
   },
   {
    "duration": 0,
    "start_time": "2023-09-20T02:45:42.116Z"
   },
   {
    "duration": 0,
    "start_time": "2023-09-20T02:45:42.118Z"
   },
   {
    "duration": 0,
    "start_time": "2023-09-20T02:45:42.119Z"
   },
   {
    "duration": 0,
    "start_time": "2023-09-20T02:45:42.121Z"
   },
   {
    "duration": 1475944,
    "start_time": "2023-09-20T02:45:46.280Z"
   },
   {
    "duration": 15,
    "start_time": "2023-09-20T03:11:41.499Z"
   },
   {
    "duration": 12,
    "start_time": "2023-09-20T03:12:12.711Z"
   },
   {
    "duration": 3,
    "start_time": "2023-09-20T03:13:39.385Z"
   },
   {
    "duration": 2617,
    "start_time": "2023-09-20T03:13:41.060Z"
   },
   {
    "duration": 274,
    "start_time": "2023-09-20T03:13:49.993Z"
   },
   {
    "duration": 328623,
    "start_time": "2023-09-20T03:13:58.486Z"
   },
   {
    "duration": 2092,
    "start_time": "2023-09-20T03:19:27.111Z"
   },
   {
    "duration": 3209,
    "start_time": "2023-09-20T03:23:05.703Z"
   },
   {
    "duration": 2676,
    "start_time": "2023-09-20T03:23:22.686Z"
   },
   {
    "duration": 5,
    "start_time": "2023-09-20T03:23:33.944Z"
   },
   {
    "duration": 1261,
    "start_time": "2023-09-21T03:15:23.438Z"
   },
   {
    "duration": 1,
    "start_time": "2023-09-21T03:15:24.702Z"
   },
   {
    "duration": 0,
    "start_time": "2023-09-21T03:15:24.709Z"
   },
   {
    "duration": 0,
    "start_time": "2023-09-21T03:15:24.711Z"
   },
   {
    "duration": 0,
    "start_time": "2023-09-21T03:15:24.712Z"
   },
   {
    "duration": 0,
    "start_time": "2023-09-21T03:15:24.714Z"
   },
   {
    "duration": 0,
    "start_time": "2023-09-21T03:15:24.716Z"
   },
   {
    "duration": 0,
    "start_time": "2023-09-21T03:15:24.717Z"
   },
   {
    "duration": 0,
    "start_time": "2023-09-21T03:15:24.718Z"
   },
   {
    "duration": 0,
    "start_time": "2023-09-21T03:15:24.720Z"
   },
   {
    "duration": 0,
    "start_time": "2023-09-21T03:15:24.721Z"
   },
   {
    "duration": 0,
    "start_time": "2023-09-21T03:15:24.724Z"
   },
   {
    "duration": 0,
    "start_time": "2023-09-21T03:15:24.725Z"
   },
   {
    "duration": 0,
    "start_time": "2023-09-21T03:15:24.727Z"
   },
   {
    "duration": 0,
    "start_time": "2023-09-21T03:15:24.728Z"
   },
   {
    "duration": 0,
    "start_time": "2023-09-21T03:15:24.729Z"
   },
   {
    "duration": 0,
    "start_time": "2023-09-21T03:15:24.731Z"
   },
   {
    "duration": 0,
    "start_time": "2023-09-21T03:15:24.732Z"
   },
   {
    "duration": 0,
    "start_time": "2023-09-21T03:15:24.733Z"
   },
   {
    "duration": 0,
    "start_time": "2023-09-21T03:15:24.734Z"
   },
   {
    "duration": 0,
    "start_time": "2023-09-21T03:15:24.735Z"
   },
   {
    "duration": 0,
    "start_time": "2023-09-21T03:15:24.736Z"
   },
   {
    "duration": 0,
    "start_time": "2023-09-21T03:15:24.737Z"
   },
   {
    "duration": 0,
    "start_time": "2023-09-21T03:15:24.739Z"
   },
   {
    "duration": 0,
    "start_time": "2023-09-21T03:15:24.740Z"
   },
   {
    "duration": 0,
    "start_time": "2023-09-21T03:15:24.741Z"
   },
   {
    "duration": 0,
    "start_time": "2023-09-21T03:15:24.742Z"
   },
   {
    "duration": 0,
    "start_time": "2023-09-21T03:15:24.743Z"
   },
   {
    "duration": 0,
    "start_time": "2023-09-21T03:15:24.744Z"
   },
   {
    "duration": 0,
    "start_time": "2023-09-21T03:15:24.745Z"
   },
   {
    "duration": 0,
    "start_time": "2023-09-21T03:15:24.746Z"
   },
   {
    "duration": 0,
    "start_time": "2023-09-21T03:15:24.747Z"
   },
   {
    "duration": 0,
    "start_time": "2023-09-21T03:15:24.748Z"
   },
   {
    "duration": 0,
    "start_time": "2023-09-21T03:15:24.810Z"
   },
   {
    "duration": 0,
    "start_time": "2023-09-21T03:15:24.811Z"
   },
   {
    "duration": 0,
    "start_time": "2023-09-21T03:15:24.812Z"
   },
   {
    "duration": 0,
    "start_time": "2023-09-21T03:15:24.814Z"
   },
   {
    "duration": 0,
    "start_time": "2023-09-21T03:15:24.815Z"
   },
   {
    "duration": 0,
    "start_time": "2023-09-21T03:15:24.816Z"
   },
   {
    "duration": 0,
    "start_time": "2023-09-21T03:15:24.817Z"
   },
   {
    "duration": 1676,
    "start_time": "2023-09-21T03:17:11.534Z"
   },
   {
    "duration": 1468,
    "start_time": "2023-09-21T03:17:13.213Z"
   },
   {
    "duration": 19,
    "start_time": "2023-09-21T03:17:14.683Z"
   },
   {
    "duration": 158,
    "start_time": "2023-09-21T03:17:14.703Z"
   },
   {
    "duration": 599,
    "start_time": "2023-09-21T03:17:14.864Z"
   },
   {
    "duration": 589,
    "start_time": "2023-09-21T03:17:15.465Z"
   },
   {
    "duration": 159,
    "start_time": "2023-09-21T03:17:16.057Z"
   },
   {
    "duration": 152,
    "start_time": "2023-09-21T03:17:16.217Z"
   },
   {
    "duration": 157,
    "start_time": "2023-09-21T03:17:16.371Z"
   },
   {
    "duration": 41,
    "start_time": "2023-09-21T03:17:16.530Z"
   },
   {
    "duration": 52,
    "start_time": "2023-09-21T03:17:16.573Z"
   },
   {
    "duration": 40,
    "start_time": "2023-09-21T03:17:16.627Z"
   },
   {
    "duration": 45,
    "start_time": "2023-09-21T03:17:16.669Z"
   },
   {
    "duration": 41,
    "start_time": "2023-09-21T03:17:16.717Z"
   },
   {
    "duration": 51,
    "start_time": "2023-09-21T03:17:16.760Z"
   },
   {
    "duration": 39,
    "start_time": "2023-09-21T03:17:16.812Z"
   },
   {
    "duration": 32,
    "start_time": "2023-09-21T03:17:16.852Z"
   },
   {
    "duration": 49,
    "start_time": "2023-09-21T03:17:16.886Z"
   },
   {
    "duration": 26,
    "start_time": "2023-09-21T03:17:16.936Z"
   },
   {
    "duration": 160,
    "start_time": "2023-09-21T03:17:16.964Z"
   },
   {
    "duration": 44,
    "start_time": "2023-09-21T03:17:17.125Z"
   },
   {
    "duration": 212,
    "start_time": "2023-09-21T03:17:17.171Z"
   },
   {
    "duration": 187,
    "start_time": "2023-09-21T03:17:17.385Z"
   },
   {
    "duration": 68,
    "start_time": "2023-09-21T03:17:17.574Z"
   },
   {
    "duration": 394,
    "start_time": "2023-09-21T03:17:17.643Z"
   },
   {
    "duration": 18,
    "start_time": "2023-09-21T03:17:18.039Z"
   },
   {
    "duration": 26,
    "start_time": "2023-09-21T03:17:18.059Z"
   },
   {
    "duration": 35,
    "start_time": "2023-09-21T03:17:18.087Z"
   },
   {
    "duration": 24,
    "start_time": "2023-09-21T03:17:18.124Z"
   },
   {
    "duration": 683,
    "start_time": "2023-09-21T03:17:18.149Z"
   },
   {
    "duration": 3,
    "start_time": "2023-09-21T03:17:18.834Z"
   },
   {
    "duration": 66157,
    "start_time": "2023-09-21T03:17:18.839Z"
   },
   {
    "duration": 1141934,
    "start_time": "2023-09-21T03:18:24.998Z"
   },
   {
    "duration": 4,
    "start_time": "2023-09-21T03:37:26.934Z"
   },
   {
    "duration": 2790,
    "start_time": "2023-09-21T03:37:26.939Z"
   },
   {
    "duration": 295,
    "start_time": "2023-09-21T03:37:29.731Z"
   },
   {
    "duration": 78102,
    "start_time": "2023-09-21T03:37:30.027Z"
   },
   {
    "duration": 2213,
    "start_time": "2023-09-21T03:38:48.131Z"
   },
   {
    "duration": 2803,
    "start_time": "2023-09-21T03:38:50.346Z"
   },
   {
    "duration": 6,
    "start_time": "2023-09-21T03:38:53.151Z"
   }
  ],
  "kernelspec": {
   "display_name": "Python 3 (ipykernel)",
   "language": "python",
   "name": "python3"
  },
  "language_info": {
   "codemirror_mode": {
    "name": "ipython",
    "version": 3
   },
   "file_extension": ".py",
   "mimetype": "text/x-python",
   "name": "python",
   "nbconvert_exporter": "python",
   "pygments_lexer": "ipython3",
   "version": "3.9.5"
  },
  "toc": {
   "base_numbering": 1,
   "nav_menu": {},
   "number_sections": true,
   "sideBar": true,
   "skip_h1_title": true,
   "title_cell": "Table of Contents",
   "title_sidebar": "Contents",
   "toc_cell": false,
   "toc_position": {},
   "toc_section_display": true,
   "toc_window_display": false
  }
 },
 "nbformat": 4,
 "nbformat_minor": 2
}

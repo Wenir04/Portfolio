{
 "cells": [
  {
   "cell_type": "markdown",
   "metadata": {
    "toc": true
   },
   "source": [
    "<h1>Содержание<span class=\"tocSkip\"></span></h1>\n",
    "<div class=\"toc\"><ul class=\"toc-item\"><li><span><a href=\"#Подготовка\" data-toc-modified-id=\"Подготовка-1\"><span class=\"toc-item-num\">1&nbsp;&nbsp;</span>Подготовка</a></span></li><li><span><a href=\"#Обучение\" data-toc-modified-id=\"Обучение-2\"><span class=\"toc-item-num\">2&nbsp;&nbsp;</span>Обучение</a></span></li><li><span><a href=\"#Выводы\" data-toc-modified-id=\"Выводы-3\"><span class=\"toc-item-num\">3&nbsp;&nbsp;</span>Выводы</a></span></li><li><span><a href=\"#Чек-лист-проверки\" data-toc-modified-id=\"Чек-лист-проверки-4\"><span class=\"toc-item-num\">4&nbsp;&nbsp;</span>Чек-лист проверки</a></span></li></ul></div>"
   ]
  },
  {
   "cell_type": "markdown",
   "metadata": {},
   "source": [
    "# Проект для «Викишоп»"
   ]
  },
  {
   "cell_type": "markdown",
   "metadata": {},
   "source": [
    "Интернет-магазин «Викишоп» запускает новый сервис. Теперь пользователи могут редактировать и дополнять описания товаров, как в вики-сообществах. То есть клиенты предлагают свои правки и комментируют изменения других. Магазину нужен инструмент, который будет искать токсичные комментарии и отправлять их на модерацию. \n",
    "\n",
    "Обучите модель классифицировать комментарии на позитивные и негативные. В вашем распоряжении набор данных с разметкой о токсичности правок.\n",
    "\n",
    "Постройте модель со значением метрики качества *F1* не меньше 0.75. \n",
    "\n",
    "**Инструкция по выполнению проекта**\n",
    "\n",
    "1. Загрузите и подготовьте данные.\n",
    "2. Обучите разные модели. \n",
    "3. Сделайте выводы.\n",
    "\n",
    "Для выполнения проекта применять *BERT* необязательно, но вы можете попробовать.\n",
    "\n",
    "**Описание данных**\n",
    "\n",
    "Данные находятся в файле `toxic_comments.csv`. Столбец *text* в нём содержит текст комментария, а *toxic* — целевой признак."
   ]
  },
  {
   "cell_type": "markdown",
   "metadata": {},
   "source": [
    "## Подготовка"
   ]
  },
  {
   "cell_type": "code",
   "execution_count": 1,
   "metadata": {},
   "outputs": [],
   "source": [
    "import pandas as pd\n",
    "import re\n",
    "import nltk\n",
    "from nltk.corpus import wordnet\n",
    "from nltk.tokenize import word_tokenize\n",
    "from nltk import pos_tag\n",
    "from nltk.stem import WordNetLemmatizer\n",
    "from nltk.corpus import stopwords as nltk_stopwords\n",
    "from sklearn.feature_extraction.text import TfidfVectorizer\n",
    "from sklearn.tree import DecisionTreeClassifier\n",
    "from sklearn.linear_model import LogisticRegression\n",
    "from sklearn.dummy import DummyRegressor\n",
    "from sklearn.pipeline import  make_pipeline, Pipeline\n",
    "from sklearn.preprocessing import StandardScaler,MinMaxScaler, MaxAbsScaler\n",
    "from sklearn.model_selection import train_test_split, GridSearchCV, TimeSeriesSplit\n",
    "from sklearn.metrics import mean_absolute_error,mean_squared_error,make_scorer, f1_score\n",
    "from sklearn.dummy import DummyRegressor"
   ]
  },
  {
   "cell_type": "code",
   "execution_count": 2,
   "metadata": {},
   "outputs": [],
   "source": [
    "data=pd.read_csv('/datasets/toxic_comments.csv')"
   ]
  },
  {
   "cell_type": "code",
   "execution_count": 3,
   "metadata": {},
   "outputs": [
    {
     "data": {
      "text/html": [
       "<div>\n",
       "<style scoped>\n",
       "    .dataframe tbody tr th:only-of-type {\n",
       "        vertical-align: middle;\n",
       "    }\n",
       "\n",
       "    .dataframe tbody tr th {\n",
       "        vertical-align: top;\n",
       "    }\n",
       "\n",
       "    .dataframe thead th {\n",
       "        text-align: right;\n",
       "    }\n",
       "</style>\n",
       "<table border=\"1\" class=\"dataframe\">\n",
       "  <thead>\n",
       "    <tr style=\"text-align: right;\">\n",
       "      <th></th>\n",
       "      <th>Unnamed: 0</th>\n",
       "      <th>text</th>\n",
       "      <th>toxic</th>\n",
       "    </tr>\n",
       "  </thead>\n",
       "  <tbody>\n",
       "    <tr>\n",
       "      <th>0</th>\n",
       "      <td>0</td>\n",
       "      <td>Explanation\\nWhy the edits made under my usern...</td>\n",
       "      <td>0</td>\n",
       "    </tr>\n",
       "    <tr>\n",
       "      <th>1</th>\n",
       "      <td>1</td>\n",
       "      <td>D'aww! He matches this background colour I'm s...</td>\n",
       "      <td>0</td>\n",
       "    </tr>\n",
       "    <tr>\n",
       "      <th>2</th>\n",
       "      <td>2</td>\n",
       "      <td>Hey man, I'm really not trying to edit war. It...</td>\n",
       "      <td>0</td>\n",
       "    </tr>\n",
       "    <tr>\n",
       "      <th>3</th>\n",
       "      <td>3</td>\n",
       "      <td>\"\\nMore\\nI can't make any real suggestions on ...</td>\n",
       "      <td>0</td>\n",
       "    </tr>\n",
       "    <tr>\n",
       "      <th>4</th>\n",
       "      <td>4</td>\n",
       "      <td>You, sir, are my hero. Any chance you remember...</td>\n",
       "      <td>0</td>\n",
       "    </tr>\n",
       "  </tbody>\n",
       "</table>\n",
       "</div>"
      ],
      "text/plain": [
       "   Unnamed: 0                                               text  toxic\n",
       "0           0  Explanation\\nWhy the edits made under my usern...      0\n",
       "1           1  D'aww! He matches this background colour I'm s...      0\n",
       "2           2  Hey man, I'm really not trying to edit war. It...      0\n",
       "3           3  \"\\nMore\\nI can't make any real suggestions on ...      0\n",
       "4           4  You, sir, are my hero. Any chance you remember...      0"
      ]
     },
     "execution_count": 3,
     "metadata": {},
     "output_type": "execute_result"
    }
   ],
   "source": [
    "data.head()"
   ]
  },
  {
   "cell_type": "code",
   "execution_count": 4,
   "metadata": {},
   "outputs": [
    {
     "name": "stdout",
     "output_type": "stream",
     "text": [
      "<class 'pandas.core.frame.DataFrame'>\n",
      "RangeIndex: 159292 entries, 0 to 159291\n",
      "Data columns (total 3 columns):\n",
      " #   Column      Non-Null Count   Dtype \n",
      "---  ------      --------------   ----- \n",
      " 0   Unnamed: 0  159292 non-null  int64 \n",
      " 1   text        159292 non-null  object\n",
      " 2   toxic       159292 non-null  int64 \n",
      "dtypes: int64(2), object(1)\n",
      "memory usage: 3.6+ MB\n"
     ]
    }
   ],
   "source": [
    "data.info()"
   ]
  },
  {
   "cell_type": "code",
   "execution_count": 5,
   "metadata": {},
   "outputs": [
    {
     "data": {
      "text/plain": [
       "0"
      ]
     },
     "execution_count": 5,
     "metadata": {},
     "output_type": "execute_result"
    }
   ],
   "source": [
    "data.duplicated().sum()"
   ]
  },
  {
   "cell_type": "code",
   "execution_count": 6,
   "metadata": {
    "scrolled": true
   },
   "outputs": [
    {
     "data": {
      "text/plain": [
       "Unnamed: 0    0\n",
       "text          0\n",
       "toxic         0\n",
       "dtype: int64"
      ]
     },
     "execution_count": 6,
     "metadata": {},
     "output_type": "execute_result"
    }
   ],
   "source": [
    "data.isnull().sum()"
   ]
  },
  {
   "cell_type": "markdown",
   "metadata": {},
   "source": [
    "Не выявлено дубликатов или пропусков, можем работать с дата фреймом дальше"
   ]
  },
  {
   "cell_type": "code",
   "execution_count": 7,
   "metadata": {
    "scrolled": true
   },
   "outputs": [
    {
     "data": {
      "text/plain": [
       "0    143106\n",
       "1     16186\n",
       "Name: toxic, dtype: int64"
      ]
     },
     "execution_count": 7,
     "metadata": {},
     "output_type": "execute_result"
    }
   ],
   "source": [
    "data['toxic'].value_counts()"
   ]
  },
  {
   "cell_type": "markdown",
   "metadata": {},
   "source": [
    "Значительная разница, признак несбалансированный "
   ]
  },
  {
   "cell_type": "raw",
   "metadata": {},
   "source": [
    "lemmatizer = WordNetLemmatizer()\n",
    "\n",
    "def lemmatize_text(text):\n",
    "    text = text.lower()\n",
    "    lemm_text = \"\".join(lemmatizer.lemmatize(text))\n",
    "    cleared_text = re.sub(r'[^a-zA-Z]', ' ', lemm_text) \n",
    "    return \" \".join(cleared_text.split())"
   ]
  },
  {
   "cell_type": "code",
   "execution_count": 8,
   "metadata": {},
   "outputs": [],
   "source": [
    "lemmatizer = nltk.WordNetLemmatizer()\n",
    "\n",
    "def lemmatize_text(text):\n",
    "    text = text.lower()\n",
    "    lemm_text = []\n",
    "    tokens = nltk.word_tokenize(text)\n",
    "    tagged = nltk.pos_tag(tokens)\n",
    "    for word, tag in tagged:\n",
    "        pos = get_wordnet_pos(tag)\n",
    "        if pos:\n",
    "            lemm_text.append(lemmatizer.lemmatize(word, pos))\n",
    "        else:\n",
    "            lemm_text.append(lemmatizer.lemmatize(word))\n",
    "    cleared_text = re.sub(r'[^a-zA-Z]', ' ', \" \".join(lemm_text)) \n",
    "    return \" \".join(cleared_text.split())\n",
    "\n",
    "def get_wordnet_pos(treebank_tag):\n",
    "    if treebank_tag.startswith('J'):\n",
    "        return wordnet.ADJ\n",
    "    elif treebank_tag.startswith('V'):\n",
    "        return wordnet.VERB\n",
    "    elif treebank_tag.startswith('N'):\n",
    "        return wordnet.NOUN\n",
    "    elif treebank_tag.startswith('R'):\n",
    "        return wordnet.ADV\n",
    "    else:\n",
    "        return None"
   ]
  },
  {
   "cell_type": "code",
   "execution_count": 9,
   "metadata": {},
   "outputs": [],
   "source": [
    "def clear_text(text):\n",
    "    re_list = re.sub(r\"[^a-zA-Z']\", ' ', text)\n",
    "    re_list = re_list.split()\n",
    "    re_list = \" \".join(re_list)\n",
    "    return re_list"
   ]
  },
  {
   "cell_type": "code",
   "execution_count": 10,
   "metadata": {},
   "outputs": [],
   "source": [
    "data['clear_text'] = data['text'].apply(clear_text)\n",
    "data['lemm_text'] = data['clear_text'].apply(lemmatize_text)\n",
    "data = data.drop(['text'], axis=1)"
   ]
  },
  {
   "cell_type": "code",
   "execution_count": 11,
   "metadata": {
    "scrolled": true
   },
   "outputs": [
    {
     "data": {
      "text/html": [
       "<div>\n",
       "<style scoped>\n",
       "    .dataframe tbody tr th:only-of-type {\n",
       "        vertical-align: middle;\n",
       "    }\n",
       "\n",
       "    .dataframe tbody tr th {\n",
       "        vertical-align: top;\n",
       "    }\n",
       "\n",
       "    .dataframe thead th {\n",
       "        text-align: right;\n",
       "    }\n",
       "</style>\n",
       "<table border=\"1\" class=\"dataframe\">\n",
       "  <thead>\n",
       "    <tr style=\"text-align: right;\">\n",
       "      <th></th>\n",
       "      <th>Unnamed: 0</th>\n",
       "      <th>toxic</th>\n",
       "      <th>clear_text</th>\n",
       "      <th>lemm_text</th>\n",
       "    </tr>\n",
       "  </thead>\n",
       "  <tbody>\n",
       "    <tr>\n",
       "      <th>0</th>\n",
       "      <td>0</td>\n",
       "      <td>0</td>\n",
       "      <td>Explanation Why the edits made under my userna...</td>\n",
       "      <td>explanation why the edits make under my userna...</td>\n",
       "    </tr>\n",
       "    <tr>\n",
       "      <th>1</th>\n",
       "      <td>1</td>\n",
       "      <td>0</td>\n",
       "      <td>D'aww He matches this background colour I'm se...</td>\n",
       "      <td>d aww he match this background colour i m seem...</td>\n",
       "    </tr>\n",
       "    <tr>\n",
       "      <th>2</th>\n",
       "      <td>2</td>\n",
       "      <td>0</td>\n",
       "      <td>Hey man I'm really not trying to edit war It's...</td>\n",
       "      <td>hey man i m really not try to edit war it s ju...</td>\n",
       "    </tr>\n",
       "    <tr>\n",
       "      <th>3</th>\n",
       "      <td>3</td>\n",
       "      <td>0</td>\n",
       "      <td>More I can't make any real suggestions on impr...</td>\n",
       "      <td>more i ca n t make any real suggestion on impr...</td>\n",
       "    </tr>\n",
       "    <tr>\n",
       "      <th>4</th>\n",
       "      <td>4</td>\n",
       "      <td>0</td>\n",
       "      <td>You sir are my hero Any chance you remember wh...</td>\n",
       "      <td>you sir be my hero any chance you remember wha...</td>\n",
       "    </tr>\n",
       "  </tbody>\n",
       "</table>\n",
       "</div>"
      ],
      "text/plain": [
       "   Unnamed: 0  toxic                                         clear_text  \\\n",
       "0           0      0  Explanation Why the edits made under my userna...   \n",
       "1           1      0  D'aww He matches this background colour I'm se...   \n",
       "2           2      0  Hey man I'm really not trying to edit war It's...   \n",
       "3           3      0  More I can't make any real suggestions on impr...   \n",
       "4           4      0  You sir are my hero Any chance you remember wh...   \n",
       "\n",
       "                                           lemm_text  \n",
       "0  explanation why the edits make under my userna...  \n",
       "1  d aww he match this background colour i m seem...  \n",
       "2  hey man i m really not try to edit war it s ju...  \n",
       "3  more i ca n t make any real suggestion on impr...  \n",
       "4  you sir be my hero any chance you remember wha...  "
      ]
     },
     "execution_count": 11,
     "metadata": {},
     "output_type": "execute_result"
    }
   ],
   "source": [
    "data.head()"
   ]
  },
  {
   "cell_type": "markdown",
   "metadata": {},
   "source": [
    "**Вывод**\n",
    "\n",
    "Выполнили предобработку:\n",
    "\n",
    "    1) Не обнаружили явных дубликатов и пропусков. \n",
    "    2) Заметили, что признак toxic не сбалансирован, из-за чего будем использовать balanced при обучении модели\n",
    "    3) Очистили текст от лишних символов и лемматизировали его"
   ]
  },
  {
   "cell_type": "markdown",
   "metadata": {},
   "source": [
    "## Обучение"
   ]
  },
  {
   "cell_type": "code",
   "execution_count": 12,
   "metadata": {},
   "outputs": [
    {
     "name": "stderr",
     "output_type": "stream",
     "text": [
      "[nltk_data] Downloading package stopwords to /home/jovyan/nltk_data...\n",
      "[nltk_data]   Package stopwords is already up-to-date!\n"
     ]
    },
    {
     "name": "stdout",
     "output_type": "stream",
     "text": [
      "(127433, 136640)\n",
      "(31859, 136640)\n"
     ]
    }
   ],
   "source": [
    "features=data.drop(['toxic'], axis=1)\n",
    "target = data['toxic']\n",
    "features_train, features_test, target_train, target_test = train_test_split(features, target, test_size=0.2, random_state=12345)\n",
    "\n",
    "nltk.download('stopwords')\n",
    "stopwords = set(nltk_stopwords.words('english'))\n",
    "count_tf_idf = TfidfVectorizer(stop_words = stopwords)\n",
    "\n",
    "corpus_train= features_train['lemm_text'].values\n",
    "corpus_test= features_test ['lemm_text'].values\n",
    "\n",
    "tf_idf_train = count_tf_idf.fit_transform(corpus_train)\n",
    "tf_idf_test =count_tf_idf.transform(corpus_test)\n",
    "\n",
    "print(tf_idf_train.shape)\n",
    "print(tf_idf_test.shape)"
   ]
  },
  {
   "cell_type": "markdown",
   "metadata": {},
   "source": [
    "<font color='blue'><b>Комментарий ревьюера: </b></font> ✔️\\\n",
    "<font color='green'> Здорово , что у нас есть выборка для тестов!</font>"
   ]
  },
  {
   "cell_type": "markdown",
   "metadata": {},
   "source": [
    "<font color='blue'><b>Комментарий ревьюера: </b></font> ✔️\\\n",
    "<font color='green'> Убрали частые неинформативные слова!</font>"
   ]
  },
  {
   "cell_type": "code",
   "execution_count": 20,
   "metadata": {},
   "outputs": [
    {
     "name": "stdout",
     "output_type": "stream",
     "text": [
      "Лучшие гиперпараметры для LogisticRegression:  {}\n",
      "Лучшее значение метрики для LogisticRegression:  0.7490588942735523\n"
     ]
    }
   ],
   "source": [
    "model_lr = Pipeline([('scaler', MaxAbsScaler()),('regressor', LogisticRegression(solver='liblinear',class_weight='balanced',random_state = 12345))])  \n",
    "parameters_lr = {}\n",
    "grid_search_lr = GridSearchCV(model_lr, param_grid=parameters_lr,  scoring='f1',cv=5)\n",
    "grid_search_lr.fit(tf_idf_train,target_train)\n",
    "print(\"Лучшие гиперпараметры для LogisticRegression: \", grid_search_lr.best_params_)\n",
    "print(\"Лучшее значение метрики для LogisticRegression: \", (grid_search_lr.best_score_))"
   ]
  },
  {
   "cell_type": "code",
   "execution_count": 14,
   "metadata": {},
   "outputs": [
    {
     "name": "stdout",
     "output_type": "stream",
     "text": [
      "Лучшие гиперпараметры для DecisionTreeClassifier:  {'regressor__max_depth': 9}\n",
      "Лучшее значение метрики для DecisionTreeClassifier:  0.5411789329027114\n"
     ]
    }
   ],
   "source": [
    "model_dtс = Pipeline([('scaler', MaxAbsScaler()),('regressor', DecisionTreeClassifier(random_state=12345,class_weight='balanced'))])\n",
    "parameters_dtс = {'regressor__max_depth':range(1,10)}\n",
    "grid_search_dtс = GridSearchCV(model_dtс, param_grid=parameters_dtс,  scoring='f1',cv=5)\n",
    "grid_search_dtс.fit(tf_idf_train,target_train)\n",
    "print(\"Лучшие гиперпараметры для DecisionTreeClassifier: \", grid_search_dtс.best_params_)\n",
    "print(\"Лучшее значение метрики для DecisionTreeClassifier: \", (grid_search_dtс.best_score_))"
   ]
  },
  {
   "cell_type": "markdown",
   "metadata": {},
   "source": [
    "На тренировочной выборке лучше справилась модель LogisticRegression, перейдем к её тестированию "
   ]
  },
  {
   "cell_type": "markdown",
   "metadata": {},
   "source": [
    "## Выводы"
   ]
  },
  {
   "cell_type": "code",
   "execution_count": 21,
   "metadata": {},
   "outputs": [
    {
     "name": "stdout",
     "output_type": "stream",
     "text": [
      "f1 = 0.7421080791867309\n"
     ]
    }
   ],
   "source": [
    "model_lr=LogisticRegression(solver='liblinear', class_weight='balanced',random_state = 12345)\n",
    "model_lr.fit(tf_idf_train,target_train)\n",
    "prediction=model_lr.predict(tf_idf_test)\n",
    "print(\"f1 =\", f1_score(target_test,prediction))"
   ]
  },
  {
   "cell_type": "markdown",
   "metadata": {},
   "source": [
    "Модель имеет значение 0.75 что является нижней границей условий, значит модель подходит"
   ]
  },
  {
   "cell_type": "markdown",
   "metadata": {},
   "source": [
    "# Вывод"
   ]
  },
  {
   "cell_type": "markdown",
   "metadata": {},
   "source": [
    "Выполнили предобработку:\n",
    "\n",
    "    1) Не обнаружили явных дубликатов и пропусков. \n",
    "    2) Заметили, что признак toxic не сбалансирован, из-за чего будем использовать balanced при обучении модели\n",
    "    3) Очистили текст от лишних символов и лемматизировали его\n",
    "\n",
    "Далее обучили модели LogisticRegression, DecisionTreeClassifier. На тестовой выборке лучшее значение показала логистическая регрессия, поэтому проверили ее на тестовой выборке, где она показала результат в 0.75, что удовлетворяет нашим условиям"
   ]
  },
  {
   "cell_type": "markdown",
   "metadata": {},
   "source": [
    "## Чек-лист проверки"
   ]
  },
  {
   "cell_type": "markdown",
   "metadata": {},
   "source": [
    "- [x]  Jupyter Notebook открыт\n",
    "- [x]  Весь код выполняется без ошибок\n",
    "- [x]  Ячейки с кодом расположены в порядке исполнения\n",
    "- [x]  Данные загружены и подготовлены\n",
    "- [x]  Модели обучены\n",
    "- [x]  Значение метрики *F1* не меньше 0.75\n",
    "- [x]  Выводы написаны"
   ]
  }
 ],
 "metadata": {
  "ExecuteTimeLog": [
   {
    "duration": 424,
    "start_time": "2023-09-26T10:34:16.586Z"
   },
   {
    "duration": 2582,
    "start_time": "2023-09-26T10:34:17.012Z"
   },
   {
    "duration": 14,
    "start_time": "2023-09-26T10:34:19.596Z"
   },
   {
    "duration": 32,
    "start_time": "2023-09-26T10:34:19.613Z"
   },
   {
    "duration": 242,
    "start_time": "2023-09-26T10:34:19.647Z"
   },
   {
    "duration": 28,
    "start_time": "2023-09-26T10:34:19.891Z"
   },
   {
    "duration": 6,
    "start_time": "2023-09-26T10:39:45.504Z"
   },
   {
    "duration": 429,
    "start_time": "2023-09-26T11:13:41.467Z"
   },
   {
    "duration": 930,
    "start_time": "2023-09-26T11:13:41.898Z"
   },
   {
    "duration": 16,
    "start_time": "2023-09-26T11:13:42.830Z"
   },
   {
    "duration": 40,
    "start_time": "2023-09-26T11:13:42.848Z"
   },
   {
    "duration": 242,
    "start_time": "2023-09-26T11:13:42.889Z"
   },
   {
    "duration": 26,
    "start_time": "2023-09-26T11:13:43.133Z"
   },
   {
    "duration": 6,
    "start_time": "2023-09-26T11:13:43.161Z"
   },
   {
    "duration": 66,
    "start_time": "2023-09-26T11:13:43.181Z"
   },
   {
    "duration": 0,
    "start_time": "2023-09-26T11:13:43.248Z"
   },
   {
    "duration": 0,
    "start_time": "2023-09-26T11:13:43.250Z"
   },
   {
    "duration": 0,
    "start_time": "2023-09-26T11:13:43.250Z"
   },
   {
    "duration": 1338,
    "start_time": "2023-09-26T11:16:04.799Z"
   },
   {
    "duration": 967,
    "start_time": "2023-09-26T11:16:06.139Z"
   },
   {
    "duration": 13,
    "start_time": "2023-09-26T11:16:07.110Z"
   },
   {
    "duration": 39,
    "start_time": "2023-09-26T11:16:07.125Z"
   },
   {
    "duration": 249,
    "start_time": "2023-09-26T11:16:07.165Z"
   },
   {
    "duration": 26,
    "start_time": "2023-09-26T11:16:07.416Z"
   },
   {
    "duration": 13,
    "start_time": "2023-09-26T11:16:07.444Z"
   },
   {
    "duration": 22,
    "start_time": "2023-09-26T11:16:07.458Z"
   },
   {
    "duration": 9,
    "start_time": "2023-09-26T11:16:07.483Z"
   },
   {
    "duration": 10431,
    "start_time": "2023-09-26T11:16:07.493Z"
   },
   {
    "duration": 9,
    "start_time": "2023-09-26T11:16:17.926Z"
   },
   {
    "duration": 1465,
    "start_time": "2023-09-26T11:31:05.836Z"
   },
   {
    "duration": 1055,
    "start_time": "2023-09-26T11:31:07.304Z"
   },
   {
    "duration": 21,
    "start_time": "2023-09-26T11:31:08.361Z"
   },
   {
    "duration": 34,
    "start_time": "2023-09-26T11:31:08.384Z"
   },
   {
    "duration": 263,
    "start_time": "2023-09-26T11:31:08.421Z"
   },
   {
    "duration": 29,
    "start_time": "2023-09-26T11:31:08.686Z"
   },
   {
    "duration": 8,
    "start_time": "2023-09-26T11:31:08.717Z"
   },
   {
    "duration": 4,
    "start_time": "2023-09-26T11:31:08.727Z"
   },
   {
    "duration": 10,
    "start_time": "2023-09-26T11:31:08.733Z"
   },
   {
    "duration": 11334,
    "start_time": "2023-09-26T11:31:08.745Z"
   },
   {
    "duration": 9,
    "start_time": "2023-09-26T11:31:20.081Z"
   },
   {
    "duration": 146,
    "start_time": "2023-09-26T11:31:20.092Z"
   },
   {
    "duration": 37,
    "start_time": "2023-09-26T11:31:27.740Z"
   },
   {
    "duration": 1425,
    "start_time": "2023-09-26T11:32:51.544Z"
   },
   {
    "duration": 993,
    "start_time": "2023-09-26T11:32:52.971Z"
   },
   {
    "duration": 21,
    "start_time": "2023-09-26T11:32:53.965Z"
   },
   {
    "duration": 35,
    "start_time": "2023-09-26T11:32:53.988Z"
   },
   {
    "duration": 265,
    "start_time": "2023-09-26T11:32:54.025Z"
   },
   {
    "duration": 30,
    "start_time": "2023-09-26T11:32:54.292Z"
   },
   {
    "duration": 11,
    "start_time": "2023-09-26T11:32:54.323Z"
   },
   {
    "duration": 3,
    "start_time": "2023-09-26T11:32:54.336Z"
   },
   {
    "duration": 9,
    "start_time": "2023-09-26T11:32:54.341Z"
   },
   {
    "duration": 11033,
    "start_time": "2023-09-26T11:32:54.351Z"
   },
   {
    "duration": 8,
    "start_time": "2023-09-26T11:33:05.386Z"
   },
   {
    "duration": 12522,
    "start_time": "2023-09-26T11:33:05.396Z"
   },
   {
    "duration": 120,
    "start_time": "2023-09-26T11:37:16.082Z"
   },
   {
    "duration": 1496,
    "start_time": "2023-09-26T11:41:51.077Z"
   },
   {
    "duration": 1026,
    "start_time": "2023-09-26T11:41:52.575Z"
   },
   {
    "duration": 15,
    "start_time": "2023-09-26T11:41:53.603Z"
   },
   {
    "duration": 39,
    "start_time": "2023-09-26T11:41:53.620Z"
   },
   {
    "duration": 259,
    "start_time": "2023-09-26T11:41:53.661Z"
   },
   {
    "duration": 28,
    "start_time": "2023-09-26T11:41:53.921Z"
   },
   {
    "duration": 30,
    "start_time": "2023-09-26T11:41:53.952Z"
   },
   {
    "duration": 17,
    "start_time": "2023-09-26T11:41:53.984Z"
   },
   {
    "duration": 14,
    "start_time": "2023-09-26T11:41:54.003Z"
   },
   {
    "duration": 11077,
    "start_time": "2023-09-26T11:41:54.019Z"
   },
   {
    "duration": 9,
    "start_time": "2023-09-26T11:42:05.097Z"
   },
   {
    "duration": 12744,
    "start_time": "2023-09-26T11:42:05.107Z"
   },
   {
    "duration": 161,
    "start_time": "2023-09-26T11:42:17.853Z"
   },
   {
    "duration": 0,
    "start_time": "2023-09-26T11:42:18.016Z"
   },
   {
    "duration": 126,
    "start_time": "2023-09-26T11:43:28.645Z"
   },
   {
    "duration": 1617,
    "start_time": "2023-09-26T11:45:41.465Z"
   },
   {
    "duration": 1008,
    "start_time": "2023-09-26T11:45:43.084Z"
   },
   {
    "duration": 20,
    "start_time": "2023-09-26T11:45:44.093Z"
   },
   {
    "duration": 46,
    "start_time": "2023-09-26T11:45:44.115Z"
   },
   {
    "duration": 282,
    "start_time": "2023-09-26T11:45:44.164Z"
   },
   {
    "duration": 34,
    "start_time": "2023-09-26T11:45:44.448Z"
   },
   {
    "duration": 11,
    "start_time": "2023-09-26T11:45:44.484Z"
   },
   {
    "duration": 4,
    "start_time": "2023-09-26T11:45:44.497Z"
   },
   {
    "duration": 7,
    "start_time": "2023-09-26T11:45:44.504Z"
   },
   {
    "duration": 11648,
    "start_time": "2023-09-26T11:45:44.513Z"
   },
   {
    "duration": 18,
    "start_time": "2023-09-26T11:45:56.163Z"
   },
   {
    "duration": 14259,
    "start_time": "2023-09-26T11:45:56.184Z"
   },
   {
    "duration": 93672,
    "start_time": "2023-09-26T11:46:10.445Z"
   },
   {
    "duration": 132,
    "start_time": "2023-09-26T11:47:44.120Z"
   },
   {
    "duration": 14,
    "start_time": "2023-09-26T11:50:00.578Z"
   },
   {
    "duration": 680,
    "start_time": "2023-09-26T11:50:19.409Z"
   },
   {
    "duration": 1546,
    "start_time": "2023-09-26T11:50:38.454Z"
   },
   {
    "duration": 1023,
    "start_time": "2023-09-26T11:50:40.002Z"
   },
   {
    "duration": 14,
    "start_time": "2023-09-26T11:50:41.027Z"
   },
   {
    "duration": 47,
    "start_time": "2023-09-26T11:50:41.042Z"
   },
   {
    "duration": 246,
    "start_time": "2023-09-26T11:50:41.091Z"
   },
   {
    "duration": 28,
    "start_time": "2023-09-26T11:50:41.339Z"
   },
   {
    "duration": 7,
    "start_time": "2023-09-26T11:50:41.380Z"
   },
   {
    "duration": 9,
    "start_time": "2023-09-26T11:50:41.389Z"
   },
   {
    "duration": 12,
    "start_time": "2023-09-26T11:50:41.399Z"
   },
   {
    "duration": 10957,
    "start_time": "2023-09-26T11:50:41.412Z"
   },
   {
    "duration": 11,
    "start_time": "2023-09-26T11:50:52.371Z"
   },
   {
    "duration": 12806,
    "start_time": "2023-09-26T11:50:52.384Z"
   },
   {
    "duration": 91934,
    "start_time": "2023-09-26T11:51:05.192Z"
   },
   {
    "duration": 207315,
    "start_time": "2023-09-26T11:52:37.128Z"
   },
   {
    "duration": 1559,
    "start_time": "2023-09-26T11:58:34.096Z"
   },
   {
    "duration": 1167,
    "start_time": "2023-09-26T11:58:35.657Z"
   },
   {
    "duration": 20,
    "start_time": "2023-09-26T11:58:36.826Z"
   },
   {
    "duration": 55,
    "start_time": "2023-09-26T11:58:36.848Z"
   },
   {
    "duration": 285,
    "start_time": "2023-09-26T11:58:36.906Z"
   },
   {
    "duration": 40,
    "start_time": "2023-09-26T11:58:37.193Z"
   },
   {
    "duration": 8,
    "start_time": "2023-09-26T11:58:37.235Z"
   },
   {
    "duration": 10,
    "start_time": "2023-09-26T11:58:37.245Z"
   },
   {
    "duration": 41,
    "start_time": "2023-09-26T11:58:37.257Z"
   },
   {
    "duration": 11919,
    "start_time": "2023-09-26T11:58:37.301Z"
   },
   {
    "duration": 12,
    "start_time": "2023-09-26T11:58:49.222Z"
   },
   {
    "duration": 13723,
    "start_time": "2023-09-26T11:58:49.236Z"
   },
   {
    "duration": 91354,
    "start_time": "2023-09-26T11:59:02.961Z"
   },
   {
    "duration": 634506,
    "start_time": "2023-09-26T12:00:34.318Z"
   },
   {
    "duration": 3,
    "start_time": "2023-09-26T12:13:38.680Z"
   },
   {
    "duration": 14762,
    "start_time": "2023-09-26T12:15:37.110Z"
   },
   {
    "duration": 2127,
    "start_time": "2023-09-26T12:22:47.306Z"
   },
   {
    "duration": 2593,
    "start_time": "2023-09-26T12:22:49.436Z"
   },
   {
    "duration": 17,
    "start_time": "2023-09-26T12:22:52.031Z"
   },
   {
    "duration": 40,
    "start_time": "2023-09-26T12:22:52.050Z"
   },
   {
    "duration": 261,
    "start_time": "2023-09-26T12:22:52.094Z"
   },
   {
    "duration": 30,
    "start_time": "2023-09-26T12:22:52.357Z"
   },
   {
    "duration": 29,
    "start_time": "2023-09-26T12:22:52.389Z"
   },
   {
    "duration": 11,
    "start_time": "2023-09-26T12:22:52.420Z"
   },
   {
    "duration": 15,
    "start_time": "2023-09-26T12:22:52.433Z"
   },
   {
    "duration": 11232,
    "start_time": "2023-09-26T12:22:52.450Z"
   },
   {
    "duration": 8,
    "start_time": "2023-09-26T12:23:03.684Z"
   },
   {
    "duration": 12787,
    "start_time": "2023-09-26T12:23:03.694Z"
   },
   {
    "duration": 94337,
    "start_time": "2023-09-26T12:23:16.483Z"
   },
   {
    "duration": 2262,
    "start_time": "2023-09-26T12:25:20.059Z"
   },
   {
    "duration": 1566,
    "start_time": "2023-09-26T12:25:22.323Z"
   },
   {
    "duration": 19,
    "start_time": "2023-09-26T12:25:23.891Z"
   },
   {
    "duration": 47,
    "start_time": "2023-09-26T12:25:23.914Z"
   },
   {
    "duration": 272,
    "start_time": "2023-09-26T12:25:23.965Z"
   },
   {
    "duration": 44,
    "start_time": "2023-09-26T12:25:24.239Z"
   },
   {
    "duration": 8,
    "start_time": "2023-09-26T12:25:24.285Z"
   },
   {
    "duration": 8,
    "start_time": "2023-09-26T12:25:24.295Z"
   },
   {
    "duration": 40,
    "start_time": "2023-09-26T12:25:24.305Z"
   },
   {
    "duration": 11810,
    "start_time": "2023-09-26T12:25:24.349Z"
   },
   {
    "duration": 10,
    "start_time": "2023-09-26T12:25:36.162Z"
   },
   {
    "duration": 12749,
    "start_time": "2023-09-26T12:25:36.182Z"
   },
   {
    "duration": 18263,
    "start_time": "2023-09-26T12:25:48.933Z"
   },
   {
    "duration": 0,
    "start_time": "2023-09-26T12:26:07.199Z"
   },
   {
    "duration": 0,
    "start_time": "2023-09-26T12:26:07.201Z"
   },
   {
    "duration": 1533,
    "start_time": "2023-09-26T12:26:39.452Z"
   },
   {
    "duration": 1032,
    "start_time": "2023-09-26T12:26:40.987Z"
   },
   {
    "duration": 21,
    "start_time": "2023-09-26T12:26:42.021Z"
   },
   {
    "duration": 60,
    "start_time": "2023-09-26T12:26:42.045Z"
   },
   {
    "duration": 264,
    "start_time": "2023-09-26T12:26:42.109Z"
   },
   {
    "duration": 42,
    "start_time": "2023-09-26T12:26:42.375Z"
   },
   {
    "duration": 12,
    "start_time": "2023-09-26T12:26:42.420Z"
   },
   {
    "duration": 6,
    "start_time": "2023-09-26T12:26:42.434Z"
   },
   {
    "duration": 8,
    "start_time": "2023-09-26T12:26:42.443Z"
   },
   {
    "duration": 11510,
    "start_time": "2023-09-26T12:26:42.453Z"
   },
   {
    "duration": 9,
    "start_time": "2023-09-26T12:26:53.965Z"
   },
   {
    "duration": 8177,
    "start_time": "2023-09-26T12:26:53.981Z"
   },
   {
    "duration": 101060,
    "start_time": "2023-09-26T12:27:02.160Z"
   },
   {
    "duration": 719132,
    "start_time": "2023-09-26T12:28:43.225Z"
   },
   {
    "duration": 13773,
    "start_time": "2023-09-26T12:40:42.359Z"
   },
   {
    "duration": 1447,
    "start_time": "2023-09-26T19:11:41.665Z"
   },
   {
    "duration": 2462,
    "start_time": "2023-09-26T19:11:43.114Z"
   },
   {
    "duration": 14,
    "start_time": "2023-09-26T19:11:45.578Z"
   },
   {
    "duration": 33,
    "start_time": "2023-09-26T19:11:45.593Z"
   },
   {
    "duration": 247,
    "start_time": "2023-09-26T19:11:45.628Z"
   },
   {
    "duration": 31,
    "start_time": "2023-09-26T19:11:45.876Z"
   },
   {
    "duration": 9,
    "start_time": "2023-09-26T19:11:45.909Z"
   },
   {
    "duration": 6,
    "start_time": "2023-09-26T19:11:45.920Z"
   },
   {
    "duration": 4504,
    "start_time": "2023-09-26T19:11:45.928Z"
   },
   {
    "duration": 0,
    "start_time": "2023-09-26T19:11:50.434Z"
   },
   {
    "duration": 0,
    "start_time": "2023-09-26T19:11:50.435Z"
   },
   {
    "duration": 0,
    "start_time": "2023-09-26T19:11:50.437Z"
   },
   {
    "duration": 0,
    "start_time": "2023-09-26T19:11:50.438Z"
   },
   {
    "duration": 0,
    "start_time": "2023-09-26T19:11:50.439Z"
   },
   {
    "duration": 1371,
    "start_time": "2023-09-26T19:15:00.618Z"
   },
   {
    "duration": 969,
    "start_time": "2023-09-26T19:15:01.991Z"
   },
   {
    "duration": 19,
    "start_time": "2023-09-26T19:15:02.962Z"
   },
   {
    "duration": 36,
    "start_time": "2023-09-26T19:15:02.982Z"
   },
   {
    "duration": 258,
    "start_time": "2023-09-26T19:15:03.021Z"
   },
   {
    "duration": 29,
    "start_time": "2023-09-26T19:15:03.281Z"
   },
   {
    "duration": 49,
    "start_time": "2023-09-26T19:15:03.312Z"
   },
   {
    "duration": 4,
    "start_time": "2023-09-26T19:15:03.364Z"
   },
   {
    "duration": 4725,
    "start_time": "2023-09-26T19:15:03.370Z"
   },
   {
    "duration": 0,
    "start_time": "2023-09-26T19:15:08.097Z"
   },
   {
    "duration": 0,
    "start_time": "2023-09-26T19:15:08.098Z"
   },
   {
    "duration": 0,
    "start_time": "2023-09-26T19:15:08.100Z"
   },
   {
    "duration": 0,
    "start_time": "2023-09-26T19:15:08.101Z"
   },
   {
    "duration": 0,
    "start_time": "2023-09-26T19:15:08.103Z"
   },
   {
    "duration": 1380,
    "start_time": "2023-09-26T19:16:13.508Z"
   },
   {
    "duration": 1011,
    "start_time": "2023-09-26T19:16:14.890Z"
   },
   {
    "duration": 15,
    "start_time": "2023-09-26T19:16:15.903Z"
   },
   {
    "duration": 35,
    "start_time": "2023-09-26T19:16:15.920Z"
   },
   {
    "duration": 272,
    "start_time": "2023-09-26T19:16:15.957Z"
   },
   {
    "duration": 31,
    "start_time": "2023-09-26T19:16:16.231Z"
   },
   {
    "duration": 24,
    "start_time": "2023-09-26T19:16:16.265Z"
   },
   {
    "duration": 550,
    "start_time": "2023-09-26T19:16:16.291Z"
   },
   {
    "duration": 6087,
    "start_time": "2023-09-26T19:16:16.843Z"
   },
   {
    "duration": 0,
    "start_time": "2023-09-26T19:16:22.932Z"
   },
   {
    "duration": 0,
    "start_time": "2023-09-26T19:16:22.933Z"
   },
   {
    "duration": 0,
    "start_time": "2023-09-26T19:16:22.935Z"
   },
   {
    "duration": 0,
    "start_time": "2023-09-26T19:16:22.936Z"
   },
   {
    "duration": 0,
    "start_time": "2023-09-26T19:16:22.938Z"
   },
   {
    "duration": 1594,
    "start_time": "2023-09-26T19:17:31.050Z"
   },
   {
    "duration": 1002,
    "start_time": "2023-09-26T19:17:32.646Z"
   },
   {
    "duration": 15,
    "start_time": "2023-09-26T19:17:33.649Z"
   },
   {
    "duration": 74,
    "start_time": "2023-09-26T19:17:33.666Z"
   },
   {
    "duration": 252,
    "start_time": "2023-09-26T19:17:33.743Z"
   },
   {
    "duration": 27,
    "start_time": "2023-09-26T19:17:33.997Z"
   },
   {
    "duration": 25,
    "start_time": "2023-09-26T19:17:34.025Z"
   },
   {
    "duration": 22,
    "start_time": "2023-09-26T19:17:34.052Z"
   },
   {
    "duration": 87764,
    "start_time": "2023-09-26T19:17:34.076Z"
   },
   {
    "duration": 8,
    "start_time": "2023-09-26T19:19:01.843Z"
   },
   {
    "duration": 7417,
    "start_time": "2023-09-26T19:19:01.853Z"
   },
   {
    "duration": 83537,
    "start_time": "2023-09-26T19:19:09.272Z"
   },
   {
    "duration": 1341,
    "start_time": "2023-09-26T19:20:44.387Z"
   },
   {
    "duration": 984,
    "start_time": "2023-09-26T19:20:45.730Z"
   },
   {
    "duration": 14,
    "start_time": "2023-09-26T19:20:46.716Z"
   },
   {
    "duration": 45,
    "start_time": "2023-09-26T19:20:46.732Z"
   },
   {
    "duration": 257,
    "start_time": "2023-09-26T19:20:46.779Z"
   },
   {
    "duration": 31,
    "start_time": "2023-09-26T19:20:47.038Z"
   },
   {
    "duration": 16,
    "start_time": "2023-09-26T19:20:47.071Z"
   },
   {
    "duration": 15,
    "start_time": "2023-09-26T19:20:47.091Z"
   },
   {
    "duration": 14,
    "start_time": "2023-09-26T19:20:47.108Z"
   },
   {
    "duration": 10636,
    "start_time": "2023-09-26T19:20:47.126Z"
   },
   {
    "duration": 8,
    "start_time": "2023-09-26T19:20:57.764Z"
   },
   {
    "duration": 7208,
    "start_time": "2023-09-26T19:20:57.781Z"
   },
   {
    "duration": 90918,
    "start_time": "2023-09-26T19:21:04.991Z"
   },
   {
    "duration": 594722,
    "start_time": "2023-09-26T19:22:35.911Z"
   },
   {
    "duration": 13606,
    "start_time": "2023-09-26T19:32:30.635Z"
   },
   {
    "duration": 1365,
    "start_time": "2023-09-26T20:33:14.006Z"
   },
   {
    "duration": 1029,
    "start_time": "2023-09-26T20:33:15.373Z"
   },
   {
    "duration": 14,
    "start_time": "2023-09-26T20:33:16.403Z"
   },
   {
    "duration": 42,
    "start_time": "2023-09-26T20:33:16.418Z"
   },
   {
    "duration": 256,
    "start_time": "2023-09-26T20:33:16.462Z"
   },
   {
    "duration": 30,
    "start_time": "2023-09-26T20:33:16.720Z"
   },
   {
    "duration": 28,
    "start_time": "2023-09-26T20:33:16.753Z"
   },
   {
    "duration": 7,
    "start_time": "2023-09-26T20:33:16.787Z"
   },
   {
    "duration": 7,
    "start_time": "2023-09-26T20:33:16.797Z"
   },
   {
    "duration": 556626,
    "start_time": "2023-09-26T20:33:16.806Z"
   },
   {
    "duration": 8,
    "start_time": "2023-09-26T20:42:33.434Z"
   },
   {
    "duration": 8436,
    "start_time": "2023-09-26T20:42:33.444Z"
   },
   {
    "duration": 95624,
    "start_time": "2023-09-26T20:42:41.882Z"
   },
   {
    "duration": 600063,
    "start_time": "2023-09-26T20:44:17.508Z"
   },
   {
    "duration": 14866,
    "start_time": "2023-09-26T20:54:17.573Z"
   },
   {
    "duration": 15190,
    "start_time": "2023-09-26T20:58:22.138Z"
   },
   {
    "duration": 56165,
    "start_time": "2023-09-26T21:01:32.821Z"
   },
   {
    "duration": 149,
    "start_time": "2023-09-26T21:04:54.800Z"
   },
   {
    "duration": 94882,
    "start_time": "2023-09-26T21:20:15.217Z"
   },
   {
    "duration": 14935,
    "start_time": "2023-09-26T21:30:30.392Z"
   },
   {
    "duration": 118,
    "start_time": "2023-09-26T21:31:10.585Z"
   }
  ],
  "kernelspec": {
   "display_name": "Python 3 (ipykernel)",
   "language": "python",
   "name": "python3"
  },
  "language_info": {
   "codemirror_mode": {
    "name": "ipython",
    "version": 3
   },
   "file_extension": ".py",
   "mimetype": "text/x-python",
   "name": "python",
   "nbconvert_exporter": "python",
   "pygments_lexer": "ipython3",
   "version": "3.9.5"
  },
  "toc": {
   "base_numbering": 1,
   "nav_menu": {},
   "number_sections": true,
   "sideBar": true,
   "skip_h1_title": true,
   "title_cell": "Содержание",
   "title_sidebar": "Contents",
   "toc_cell": true,
   "toc_position": {
    "height": "calc(100% - 180px)",
    "left": "10px",
    "top": "150px",
    "width": "302.391px"
   },
   "toc_section_display": true,
   "toc_window_display": false
  }
 },
 "nbformat": 4,
 "nbformat_minor": 2
}

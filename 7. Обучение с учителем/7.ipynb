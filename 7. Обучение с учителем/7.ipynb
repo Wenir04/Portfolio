{
 "cells": [
  {
   "cell_type": "markdown",
   "metadata": {
    "toc": true
   },
   "source": [
    "<h1>Содержание<span class=\"tocSkip\"></span></h1>\n",
    "<div class=\"toc\"><ul class=\"toc-item\"><li><span><a href=\"#Подготовка-данных\" data-toc-modified-id=\"Подготовка-данных-1\"><span class=\"toc-item-num\">1&nbsp;&nbsp;</span>Подготовка данных</a></span></li><li><span><a href=\"#Исследование-задачи\" data-toc-modified-id=\"Исследование-задачи-2\"><span class=\"toc-item-num\">2&nbsp;&nbsp;</span>Исследование задачи</a></span></li><li><span><a href=\"#Борьба-с-дисбалансом\" data-toc-modified-id=\"Борьба-с-дисбалансом-3\"><span class=\"toc-item-num\">3&nbsp;&nbsp;</span>Борьба с дисбалансом</a></span></li><li><span><a href=\"#Тестирование-модели\" data-toc-modified-id=\"Тестирование-модели-4\"><span class=\"toc-item-num\">4&nbsp;&nbsp;</span>Тестирование модели</a></span></li><li><span><a href=\"#Чек-лист-готовности-проекта\" data-toc-modified-id=\"Чек-лист-готовности-проекта-5\"><span class=\"toc-item-num\">5&nbsp;&nbsp;</span>Чек-лист готовности проекта</a></span></li></ul></div>"
   ]
  },
  {
   "cell_type": "markdown",
   "metadata": {},
   "source": [
    "# Отток клиентов"
   ]
  },
  {
   "cell_type": "markdown",
   "metadata": {},
   "source": [
    "Из «Бета-Банка» стали уходить клиенты. Каждый месяц. Немного, но заметно. Банковские маркетологи посчитали: сохранять текущих клиентов дешевле, чем привлекать новых.\n",
    "\n",
    "Нужно спрогнозировать, уйдёт клиент из банка в ближайшее время или нет. Вам предоставлены исторические данные о поведении клиентов и расторжении договоров с банком. \n",
    "\n",
    "Постройте модель с предельно большим значением *F1*-меры. Чтобы сдать проект успешно, нужно довести метрику до 0.59. Проверьте *F1*-меру на тестовой выборке самостоятельно.\n",
    "\n",
    "Дополнительно измеряйте *AUC-ROC*, сравнивайте её значение с *F1*-мерой.\n",
    "\n",
    "Источник данных: [https://www.kaggle.com/barelydedicated/bank-customer-churn-modeling](https://www.kaggle.com/barelydedicated/bank-customer-churn-modeling)\n",
    "\n",
    "**Признаки**                                                                                                                     \n",
    "\n",
    "RowNumber — индекс строки в данных\n",
    "\n",
    "CustomerId — уникальный идентификатор клиента\n",
    "\n",
    "Surname — фамилия\n",
    "\n",
    "CreditScore — кредитный рейтинг\n",
    "\n",
    "Geography — страна проживания\n",
    "\n",
    "Gender — пол\n",
    "\n",
    "Age — возраст\n",
    "\n",
    "Tenure — сколько лет человек является клиентом банка\n",
    "\n",
    "Balance — баланс на счёте\n",
    "\n",
    "NumOfProducts — количество продуктов банка, используемых клиентом\n",
    "\n",
    "HasCrCard — наличие кредитной карты\n",
    "\n",
    "IsActiveMember — активность клиента\n",
    "\n",
    "EstimatedSalary — предполагаемая зарплата\n",
    "\n",
    "**Целевой признак**\n",
    "\n",
    "\n",
    "Exited — факт ухода клиента\n"
   ]
  },
  {
   "cell_type": "markdown",
   "metadata": {},
   "source": [
    "## Подготовка данных"
   ]
  },
  {
   "cell_type": "code",
   "execution_count": 340,
   "metadata": {},
   "outputs": [],
   "source": [
    "import pandas as pd\n",
    "from sklearn.model_selection import train_test_split\n",
    "from sklearn.preprocessing import StandardScaler\n",
    "from sklearn.tree import DecisionTreeClassifier\n",
    "from sklearn.ensemble import RandomForestClassifier\n",
    "from sklearn.linear_model import LogisticRegression\n",
    "from sklearn.metrics import f1_score\n",
    "from sklearn.metrics import roc_auc_score\n",
    "from sklearn.utils import shuffle"
   ]
  },
  {
   "cell_type": "code",
   "execution_count": 341,
   "metadata": {},
   "outputs": [
    {
     "data": {
      "text/html": [
       "<div>\n",
       "<style scoped>\n",
       "    .dataframe tbody tr th:only-of-type {\n",
       "        vertical-align: middle;\n",
       "    }\n",
       "\n",
       "    .dataframe tbody tr th {\n",
       "        vertical-align: top;\n",
       "    }\n",
       "\n",
       "    .dataframe thead th {\n",
       "        text-align: right;\n",
       "    }\n",
       "</style>\n",
       "<table border=\"1\" class=\"dataframe\">\n",
       "  <thead>\n",
       "    <tr style=\"text-align: right;\">\n",
       "      <th></th>\n",
       "      <th>RowNumber</th>\n",
       "      <th>CustomerId</th>\n",
       "      <th>Surname</th>\n",
       "      <th>CreditScore</th>\n",
       "      <th>Geography</th>\n",
       "      <th>Gender</th>\n",
       "      <th>Age</th>\n",
       "      <th>Tenure</th>\n",
       "      <th>Balance</th>\n",
       "      <th>NumOfProducts</th>\n",
       "      <th>HasCrCard</th>\n",
       "      <th>IsActiveMember</th>\n",
       "      <th>EstimatedSalary</th>\n",
       "      <th>Exited</th>\n",
       "    </tr>\n",
       "  </thead>\n",
       "  <tbody>\n",
       "    <tr>\n",
       "      <th>0</th>\n",
       "      <td>1</td>\n",
       "      <td>15634602</td>\n",
       "      <td>Hargrave</td>\n",
       "      <td>619</td>\n",
       "      <td>France</td>\n",
       "      <td>Female</td>\n",
       "      <td>42</td>\n",
       "      <td>2.0</td>\n",
       "      <td>0.00</td>\n",
       "      <td>1</td>\n",
       "      <td>1</td>\n",
       "      <td>1</td>\n",
       "      <td>101348.88</td>\n",
       "      <td>1</td>\n",
       "    </tr>\n",
       "    <tr>\n",
       "      <th>1</th>\n",
       "      <td>2</td>\n",
       "      <td>15647311</td>\n",
       "      <td>Hill</td>\n",
       "      <td>608</td>\n",
       "      <td>Spain</td>\n",
       "      <td>Female</td>\n",
       "      <td>41</td>\n",
       "      <td>1.0</td>\n",
       "      <td>83807.86</td>\n",
       "      <td>1</td>\n",
       "      <td>0</td>\n",
       "      <td>1</td>\n",
       "      <td>112542.58</td>\n",
       "      <td>0</td>\n",
       "    </tr>\n",
       "    <tr>\n",
       "      <th>2</th>\n",
       "      <td>3</td>\n",
       "      <td>15619304</td>\n",
       "      <td>Onio</td>\n",
       "      <td>502</td>\n",
       "      <td>France</td>\n",
       "      <td>Female</td>\n",
       "      <td>42</td>\n",
       "      <td>8.0</td>\n",
       "      <td>159660.80</td>\n",
       "      <td>3</td>\n",
       "      <td>1</td>\n",
       "      <td>0</td>\n",
       "      <td>113931.57</td>\n",
       "      <td>1</td>\n",
       "    </tr>\n",
       "    <tr>\n",
       "      <th>3</th>\n",
       "      <td>4</td>\n",
       "      <td>15701354</td>\n",
       "      <td>Boni</td>\n",
       "      <td>699</td>\n",
       "      <td>France</td>\n",
       "      <td>Female</td>\n",
       "      <td>39</td>\n",
       "      <td>1.0</td>\n",
       "      <td>0.00</td>\n",
       "      <td>2</td>\n",
       "      <td>0</td>\n",
       "      <td>0</td>\n",
       "      <td>93826.63</td>\n",
       "      <td>0</td>\n",
       "    </tr>\n",
       "    <tr>\n",
       "      <th>4</th>\n",
       "      <td>5</td>\n",
       "      <td>15737888</td>\n",
       "      <td>Mitchell</td>\n",
       "      <td>850</td>\n",
       "      <td>Spain</td>\n",
       "      <td>Female</td>\n",
       "      <td>43</td>\n",
       "      <td>2.0</td>\n",
       "      <td>125510.82</td>\n",
       "      <td>1</td>\n",
       "      <td>1</td>\n",
       "      <td>1</td>\n",
       "      <td>79084.10</td>\n",
       "      <td>0</td>\n",
       "    </tr>\n",
       "  </tbody>\n",
       "</table>\n",
       "</div>"
      ],
      "text/plain": [
       "   RowNumber  CustomerId   Surname  CreditScore Geography  Gender  Age  \\\n",
       "0          1    15634602  Hargrave          619    France  Female   42   \n",
       "1          2    15647311      Hill          608     Spain  Female   41   \n",
       "2          3    15619304      Onio          502    France  Female   42   \n",
       "3          4    15701354      Boni          699    France  Female   39   \n",
       "4          5    15737888  Mitchell          850     Spain  Female   43   \n",
       "\n",
       "   Tenure    Balance  NumOfProducts  HasCrCard  IsActiveMember  \\\n",
       "0     2.0       0.00              1          1               1   \n",
       "1     1.0   83807.86              1          0               1   \n",
       "2     8.0  159660.80              3          1               0   \n",
       "3     1.0       0.00              2          0               0   \n",
       "4     2.0  125510.82              1          1               1   \n",
       "\n",
       "   EstimatedSalary  Exited  \n",
       "0        101348.88       1  \n",
       "1        112542.58       0  \n",
       "2        113931.57       1  \n",
       "3         93826.63       0  \n",
       "4         79084.10       0  "
      ]
     },
     "execution_count": 341,
     "metadata": {},
     "output_type": "execute_result"
    }
   ],
   "source": [
    "data=pd.read_csv('https://code.s3.yandex.net/datasets/Churn.csv')\n",
    "data.head()"
   ]
  },
  {
   "cell_type": "code",
   "execution_count": 342,
   "metadata": {
    "scrolled": true
   },
   "outputs": [
    {
     "name": "stdout",
     "output_type": "stream",
     "text": [
      "<class 'pandas.core.frame.DataFrame'>\n",
      "RangeIndex: 10000 entries, 0 to 9999\n",
      "Data columns (total 14 columns):\n",
      " #   Column           Non-Null Count  Dtype  \n",
      "---  ------           --------------  -----  \n",
      " 0   RowNumber        10000 non-null  int64  \n",
      " 1   CustomerId       10000 non-null  int64  \n",
      " 2   Surname          10000 non-null  object \n",
      " 3   CreditScore      10000 non-null  int64  \n",
      " 4   Geography        10000 non-null  object \n",
      " 5   Gender           10000 non-null  object \n",
      " 6   Age              10000 non-null  int64  \n",
      " 7   Tenure           9091 non-null   float64\n",
      " 8   Balance          10000 non-null  float64\n",
      " 9   NumOfProducts    10000 non-null  int64  \n",
      " 10  HasCrCard        10000 non-null  int64  \n",
      " 11  IsActiveMember   10000 non-null  int64  \n",
      " 12  EstimatedSalary  10000 non-null  float64\n",
      " 13  Exited           10000 non-null  int64  \n",
      "dtypes: float64(3), int64(8), object(3)\n",
      "memory usage: 1.1+ MB\n"
     ]
    }
   ],
   "source": [
    "data.info()"
   ]
  },
  {
   "cell_type": "code",
   "execution_count": 343,
   "metadata": {
    "scrolled": true
   },
   "outputs": [
    {
     "data": {
      "text/plain": [
       "RowNumber            0\n",
       "CustomerId           0\n",
       "Surname              0\n",
       "CreditScore          0\n",
       "Geography            0\n",
       "Gender               0\n",
       "Age                  0\n",
       "Tenure             909\n",
       "Balance              0\n",
       "NumOfProducts        0\n",
       "HasCrCard            0\n",
       "IsActiveMember       0\n",
       "EstimatedSalary      0\n",
       "Exited               0\n",
       "dtype: int64"
      ]
     },
     "execution_count": 343,
     "metadata": {},
     "output_type": "execute_result"
    }
   ],
   "source": [
    "data.isnull().sum()"
   ]
  },
  {
   "cell_type": "code",
   "execution_count": 344,
   "metadata": {},
   "outputs": [
    {
     "data": {
      "text/plain": [
       "1.0     952\n",
       "2.0     950\n",
       "8.0     933\n",
       "3.0     928\n",
       "5.0     927\n",
       "7.0     925\n",
       "4.0     885\n",
       "9.0     882\n",
       "6.0     881\n",
       "10.0    446\n",
       "0.0     382\n",
       "Name: Tenure, dtype: int64"
      ]
     },
     "execution_count": 344,
     "metadata": {},
     "output_type": "execute_result"
    }
   ],
   "source": [
    "data['Tenure'].value_counts()"
   ]
  },
  {
   "cell_type": "code",
   "execution_count": 345,
   "metadata": {},
   "outputs": [
    {
     "name": "stdout",
     "output_type": "stream",
     "text": [
      "9.09\n"
     ]
    }
   ],
   "source": [
    "print(909/10000*100)"
   ]
  },
  {
   "cell_type": "markdown",
   "metadata": {},
   "source": [
    "<div style=\"background: #B0E0E6; padding: 5px; border: 1px solid SteelBlue; border-radius: 5px;\">\n",
    "    <font color='4682B4'><u><b>КОММЕНТАРИЙ СТУДЕНТА</b></u></font>\n",
    "    <br />\n",
    "    <font color='4682B4'>Пропуски составляют порядка 9%. Здесь у нас два варианта либо мы их вырезаем либо заполняем медианами. По моему мнению, в условиях нашей задачи можем попробовать заполнить данные медианой, тк из строки c value_counts, можем увидеть что максмимально человек является клиентом банка 10 лет , то есть медиана не должна сильно повлиять на результаты </font>\n",
    "</div>"
   ]
  },
  {
   "cell_type": "code",
   "execution_count": 346,
   "metadata": {},
   "outputs": [],
   "source": [
    "data.fillna(data['Tenure'].median(), inplace = True) "
   ]
  },
  {
   "cell_type": "code",
   "execution_count": 347,
   "metadata": {},
   "outputs": [
    {
     "data": {
      "text/plain": [
       "RowNumber          0\n",
       "CustomerId         0\n",
       "Surname            0\n",
       "CreditScore        0\n",
       "Geography          0\n",
       "Gender             0\n",
       "Age                0\n",
       "Tenure             0\n",
       "Balance            0\n",
       "NumOfProducts      0\n",
       "HasCrCard          0\n",
       "IsActiveMember     0\n",
       "EstimatedSalary    0\n",
       "Exited             0\n",
       "dtype: int64"
      ]
     },
     "execution_count": 347,
     "metadata": {},
     "output_type": "execute_result"
    }
   ],
   "source": [
    "data.isnull().sum()"
   ]
  },
  {
   "cell_type": "code",
   "execution_count": 348,
   "metadata": {
    "scrolled": true
   },
   "outputs": [
    {
     "data": {
      "text/plain": [
       "0"
      ]
     },
     "execution_count": 348,
     "metadata": {},
     "output_type": "execute_result"
    }
   ],
   "source": [
    "data.duplicated().sum()"
   ]
  },
  {
   "cell_type": "markdown",
   "metadata": {},
   "source": [
    "Явных дупликатов в данных не наблюдается"
   ]
  },
  {
   "cell_type": "markdown",
   "metadata": {},
   "source": [
    "Названия столбцов записаны с использованием заглавных букв и слиянием слов в одно, исправим это"
   ]
  },
  {
   "cell_type": "code",
   "execution_count": 349,
   "metadata": {},
   "outputs": [
    {
     "data": {
      "text/plain": [
       "Index(['rownumber', 'customerid', 'surname', 'creditscore', 'geography',\n",
       "       'gender', 'age', 'tenure', 'balance', 'numofproducts', 'hascrcard',\n",
       "       'isactivemember', 'estimatedsalary', 'exited'],\n",
       "      dtype='object')"
      ]
     },
     "execution_count": 349,
     "metadata": {},
     "output_type": "execute_result"
    }
   ],
   "source": [
    "data.columns = data.columns.str.lower()\n",
    "data.columns"
   ]
  },
  {
   "cell_type": "code",
   "execution_count": 350,
   "metadata": {},
   "outputs": [
    {
     "data": {
      "text/html": [
       "<div>\n",
       "<style scoped>\n",
       "    .dataframe tbody tr th:only-of-type {\n",
       "        vertical-align: middle;\n",
       "    }\n",
       "\n",
       "    .dataframe tbody tr th {\n",
       "        vertical-align: top;\n",
       "    }\n",
       "\n",
       "    .dataframe thead th {\n",
       "        text-align: right;\n",
       "    }\n",
       "</style>\n",
       "<table border=\"1\" class=\"dataframe\">\n",
       "  <thead>\n",
       "    <tr style=\"text-align: right;\">\n",
       "      <th></th>\n",
       "      <th>rownumber</th>\n",
       "      <th>customerid</th>\n",
       "      <th>surname</th>\n",
       "      <th>credit_score</th>\n",
       "      <th>geography</th>\n",
       "      <th>gender</th>\n",
       "      <th>age</th>\n",
       "      <th>tenure</th>\n",
       "      <th>balance</th>\n",
       "      <th>num_of_products</th>\n",
       "      <th>has_cr_card</th>\n",
       "      <th>is_active_member</th>\n",
       "      <th>estimated_salary</th>\n",
       "      <th>exited</th>\n",
       "    </tr>\n",
       "  </thead>\n",
       "  <tbody>\n",
       "    <tr>\n",
       "      <th>0</th>\n",
       "      <td>1</td>\n",
       "      <td>15634602</td>\n",
       "      <td>Hargrave</td>\n",
       "      <td>619</td>\n",
       "      <td>France</td>\n",
       "      <td>Female</td>\n",
       "      <td>42</td>\n",
       "      <td>2.0</td>\n",
       "      <td>0.00</td>\n",
       "      <td>1</td>\n",
       "      <td>1</td>\n",
       "      <td>1</td>\n",
       "      <td>101348.88</td>\n",
       "      <td>1</td>\n",
       "    </tr>\n",
       "    <tr>\n",
       "      <th>1</th>\n",
       "      <td>2</td>\n",
       "      <td>15647311</td>\n",
       "      <td>Hill</td>\n",
       "      <td>608</td>\n",
       "      <td>Spain</td>\n",
       "      <td>Female</td>\n",
       "      <td>41</td>\n",
       "      <td>1.0</td>\n",
       "      <td>83807.86</td>\n",
       "      <td>1</td>\n",
       "      <td>0</td>\n",
       "      <td>1</td>\n",
       "      <td>112542.58</td>\n",
       "      <td>0</td>\n",
       "    </tr>\n",
       "    <tr>\n",
       "      <th>2</th>\n",
       "      <td>3</td>\n",
       "      <td>15619304</td>\n",
       "      <td>Onio</td>\n",
       "      <td>502</td>\n",
       "      <td>France</td>\n",
       "      <td>Female</td>\n",
       "      <td>42</td>\n",
       "      <td>8.0</td>\n",
       "      <td>159660.80</td>\n",
       "      <td>3</td>\n",
       "      <td>1</td>\n",
       "      <td>0</td>\n",
       "      <td>113931.57</td>\n",
       "      <td>1</td>\n",
       "    </tr>\n",
       "    <tr>\n",
       "      <th>3</th>\n",
       "      <td>4</td>\n",
       "      <td>15701354</td>\n",
       "      <td>Boni</td>\n",
       "      <td>699</td>\n",
       "      <td>France</td>\n",
       "      <td>Female</td>\n",
       "      <td>39</td>\n",
       "      <td>1.0</td>\n",
       "      <td>0.00</td>\n",
       "      <td>2</td>\n",
       "      <td>0</td>\n",
       "      <td>0</td>\n",
       "      <td>93826.63</td>\n",
       "      <td>0</td>\n",
       "    </tr>\n",
       "    <tr>\n",
       "      <th>4</th>\n",
       "      <td>5</td>\n",
       "      <td>15737888</td>\n",
       "      <td>Mitchell</td>\n",
       "      <td>850</td>\n",
       "      <td>Spain</td>\n",
       "      <td>Female</td>\n",
       "      <td>43</td>\n",
       "      <td>2.0</td>\n",
       "      <td>125510.82</td>\n",
       "      <td>1</td>\n",
       "      <td>1</td>\n",
       "      <td>1</td>\n",
       "      <td>79084.10</td>\n",
       "      <td>0</td>\n",
       "    </tr>\n",
       "  </tbody>\n",
       "</table>\n",
       "</div>"
      ],
      "text/plain": [
       "   rownumber  customerid   surname  credit_score geography  gender  age  \\\n",
       "0          1    15634602  Hargrave           619    France  Female   42   \n",
       "1          2    15647311      Hill           608     Spain  Female   41   \n",
       "2          3    15619304      Onio           502    France  Female   42   \n",
       "3          4    15701354      Boni           699    France  Female   39   \n",
       "4          5    15737888  Mitchell           850     Spain  Female   43   \n",
       "\n",
       "   tenure    balance  num_of_products  has_cr_card  is_active_member  \\\n",
       "0     2.0       0.00                1            1                 1   \n",
       "1     1.0   83807.86                1            0                 1   \n",
       "2     8.0  159660.80                3            1                 0   \n",
       "3     1.0       0.00                2            0                 0   \n",
       "4     2.0  125510.82                1            1                 1   \n",
       "\n",
       "   estimated_salary  exited  \n",
       "0         101348.88       1  \n",
       "1         112542.58       0  \n",
       "2         113931.57       1  \n",
       "3          93826.63       0  \n",
       "4          79084.10       0  "
      ]
     },
     "execution_count": 350,
     "metadata": {},
     "output_type": "execute_result"
    }
   ],
   "source": [
    "data = data.rename(columns={'creditscore':'credit_score',\n",
    "                                  'numofproducts':'num_of_products',\n",
    "                                  'hascrcard':'has_cr_card',\n",
    "                                  'isactivemember':'is_active_member',\n",
    "                                  'estimatedsalary': 'estimated_salary'\n",
    "                                 })\n",
    "data.head(5)\n"
   ]
  },
  {
   "cell_type": "markdown",
   "metadata": {},
   "source": [
    "Cтолбцы \n",
    "\n",
    "RowNumber — индекс строки в данных\n",
    "\n",
    "CustomerId — уникальный идентификатор клиента\n",
    "\n",
    "Surname — фамилия\n",
    "\n",
    "никак не влияют на исследование задачи, так что можем избавиться от них"
   ]
  },
  {
   "cell_type": "code",
   "execution_count": 351,
   "metadata": {
    "scrolled": false
   },
   "outputs": [
    {
     "data": {
      "text/html": [
       "<div>\n",
       "<style scoped>\n",
       "    .dataframe tbody tr th:only-of-type {\n",
       "        vertical-align: middle;\n",
       "    }\n",
       "\n",
       "    .dataframe tbody tr th {\n",
       "        vertical-align: top;\n",
       "    }\n",
       "\n",
       "    .dataframe thead th {\n",
       "        text-align: right;\n",
       "    }\n",
       "</style>\n",
       "<table border=\"1\" class=\"dataframe\">\n",
       "  <thead>\n",
       "    <tr style=\"text-align: right;\">\n",
       "      <th></th>\n",
       "      <th>credit_score</th>\n",
       "      <th>geography</th>\n",
       "      <th>gender</th>\n",
       "      <th>age</th>\n",
       "      <th>tenure</th>\n",
       "      <th>balance</th>\n",
       "      <th>num_of_products</th>\n",
       "      <th>has_cr_card</th>\n",
       "      <th>is_active_member</th>\n",
       "      <th>estimated_salary</th>\n",
       "      <th>exited</th>\n",
       "    </tr>\n",
       "  </thead>\n",
       "  <tbody>\n",
       "    <tr>\n",
       "      <th>0</th>\n",
       "      <td>619</td>\n",
       "      <td>France</td>\n",
       "      <td>Female</td>\n",
       "      <td>42</td>\n",
       "      <td>2.0</td>\n",
       "      <td>0.00</td>\n",
       "      <td>1</td>\n",
       "      <td>1</td>\n",
       "      <td>1</td>\n",
       "      <td>101348.88</td>\n",
       "      <td>1</td>\n",
       "    </tr>\n",
       "    <tr>\n",
       "      <th>1</th>\n",
       "      <td>608</td>\n",
       "      <td>Spain</td>\n",
       "      <td>Female</td>\n",
       "      <td>41</td>\n",
       "      <td>1.0</td>\n",
       "      <td>83807.86</td>\n",
       "      <td>1</td>\n",
       "      <td>0</td>\n",
       "      <td>1</td>\n",
       "      <td>112542.58</td>\n",
       "      <td>0</td>\n",
       "    </tr>\n",
       "    <tr>\n",
       "      <th>2</th>\n",
       "      <td>502</td>\n",
       "      <td>France</td>\n",
       "      <td>Female</td>\n",
       "      <td>42</td>\n",
       "      <td>8.0</td>\n",
       "      <td>159660.80</td>\n",
       "      <td>3</td>\n",
       "      <td>1</td>\n",
       "      <td>0</td>\n",
       "      <td>113931.57</td>\n",
       "      <td>1</td>\n",
       "    </tr>\n",
       "    <tr>\n",
       "      <th>3</th>\n",
       "      <td>699</td>\n",
       "      <td>France</td>\n",
       "      <td>Female</td>\n",
       "      <td>39</td>\n",
       "      <td>1.0</td>\n",
       "      <td>0.00</td>\n",
       "      <td>2</td>\n",
       "      <td>0</td>\n",
       "      <td>0</td>\n",
       "      <td>93826.63</td>\n",
       "      <td>0</td>\n",
       "    </tr>\n",
       "    <tr>\n",
       "      <th>4</th>\n",
       "      <td>850</td>\n",
       "      <td>Spain</td>\n",
       "      <td>Female</td>\n",
       "      <td>43</td>\n",
       "      <td>2.0</td>\n",
       "      <td>125510.82</td>\n",
       "      <td>1</td>\n",
       "      <td>1</td>\n",
       "      <td>1</td>\n",
       "      <td>79084.10</td>\n",
       "      <td>0</td>\n",
       "    </tr>\n",
       "  </tbody>\n",
       "</table>\n",
       "</div>"
      ],
      "text/plain": [
       "   credit_score geography  gender  age  tenure    balance  num_of_products  \\\n",
       "0           619    France  Female   42     2.0       0.00                1   \n",
       "1           608     Spain  Female   41     1.0   83807.86                1   \n",
       "2           502    France  Female   42     8.0  159660.80                3   \n",
       "3           699    France  Female   39     1.0       0.00                2   \n",
       "4           850     Spain  Female   43     2.0  125510.82                1   \n",
       "\n",
       "   has_cr_card  is_active_member  estimated_salary  exited  \n",
       "0            1                 1         101348.88       1  \n",
       "1            0                 1         112542.58       0  \n",
       "2            1                 0         113931.57       1  \n",
       "3            0                 0          93826.63       0  \n",
       "4            1                 1          79084.10       0  "
      ]
     },
     "execution_count": 351,
     "metadata": {},
     "output_type": "execute_result"
    }
   ],
   "source": [
    "data = data.drop(['rownumber', 'customerid', 'surname'], axis=1)\n",
    "data.head()"
   ]
  },
  {
   "cell_type": "code",
   "execution_count": 352,
   "metadata": {},
   "outputs": [
    {
     "data": {
      "text/plain": [
       "array(['France', 'Spain', 'Germany'], dtype=object)"
      ]
     },
     "execution_count": 352,
     "metadata": {},
     "output_type": "execute_result"
    }
   ],
   "source": [
    "data['geography'].unique()"
   ]
  },
  {
   "cell_type": "code",
   "execution_count": 353,
   "metadata": {},
   "outputs": [
    {
     "data": {
      "text/plain": [
       "array(['Female', 'Male'], dtype=object)"
      ]
     },
     "execution_count": 353,
     "metadata": {},
     "output_type": "execute_result"
    }
   ],
   "source": [
    "data['gender'].unique()"
   ]
  },
  {
   "cell_type": "markdown",
   "metadata": {},
   "source": [
    "Неявных дубликатов в столбцах geography и gender нет\n"
   ]
  },
  {
   "cell_type": "markdown",
   "metadata": {},
   "source": [
    "**Можем перейти к исследованию задачи**"
   ]
  },
  {
   "cell_type": "markdown",
   "metadata": {},
   "source": [
    "## Исследование задачи"
   ]
  },
  {
   "cell_type": "markdown",
   "metadata": {},
   "source": [
    "Преобразуем категориальные признаки geography и gender техникой OHE"
   ]
  },
  {
   "cell_type": "code",
   "execution_count": 354,
   "metadata": {},
   "outputs": [
    {
     "data": {
      "text/html": [
       "<div>\n",
       "<style scoped>\n",
       "    .dataframe tbody tr th:only-of-type {\n",
       "        vertical-align: middle;\n",
       "    }\n",
       "\n",
       "    .dataframe tbody tr th {\n",
       "        vertical-align: top;\n",
       "    }\n",
       "\n",
       "    .dataframe thead th {\n",
       "        text-align: right;\n",
       "    }\n",
       "</style>\n",
       "<table border=\"1\" class=\"dataframe\">\n",
       "  <thead>\n",
       "    <tr style=\"text-align: right;\">\n",
       "      <th></th>\n",
       "      <th>credit_score</th>\n",
       "      <th>age</th>\n",
       "      <th>tenure</th>\n",
       "      <th>balance</th>\n",
       "      <th>num_of_products</th>\n",
       "      <th>has_cr_card</th>\n",
       "      <th>is_active_member</th>\n",
       "      <th>estimated_salary</th>\n",
       "      <th>exited</th>\n",
       "      <th>gender_Male</th>\n",
       "      <th>geography_Germany</th>\n",
       "      <th>geography_Spain</th>\n",
       "    </tr>\n",
       "  </thead>\n",
       "  <tbody>\n",
       "    <tr>\n",
       "      <th>0</th>\n",
       "      <td>619</td>\n",
       "      <td>42</td>\n",
       "      <td>2.0</td>\n",
       "      <td>0.00</td>\n",
       "      <td>1</td>\n",
       "      <td>1</td>\n",
       "      <td>1</td>\n",
       "      <td>101348.88</td>\n",
       "      <td>1</td>\n",
       "      <td>0</td>\n",
       "      <td>0</td>\n",
       "      <td>0</td>\n",
       "    </tr>\n",
       "    <tr>\n",
       "      <th>1</th>\n",
       "      <td>608</td>\n",
       "      <td>41</td>\n",
       "      <td>1.0</td>\n",
       "      <td>83807.86</td>\n",
       "      <td>1</td>\n",
       "      <td>0</td>\n",
       "      <td>1</td>\n",
       "      <td>112542.58</td>\n",
       "      <td>0</td>\n",
       "      <td>0</td>\n",
       "      <td>0</td>\n",
       "      <td>1</td>\n",
       "    </tr>\n",
       "    <tr>\n",
       "      <th>2</th>\n",
       "      <td>502</td>\n",
       "      <td>42</td>\n",
       "      <td>8.0</td>\n",
       "      <td>159660.80</td>\n",
       "      <td>3</td>\n",
       "      <td>1</td>\n",
       "      <td>0</td>\n",
       "      <td>113931.57</td>\n",
       "      <td>1</td>\n",
       "      <td>0</td>\n",
       "      <td>0</td>\n",
       "      <td>0</td>\n",
       "    </tr>\n",
       "    <tr>\n",
       "      <th>3</th>\n",
       "      <td>699</td>\n",
       "      <td>39</td>\n",
       "      <td>1.0</td>\n",
       "      <td>0.00</td>\n",
       "      <td>2</td>\n",
       "      <td>0</td>\n",
       "      <td>0</td>\n",
       "      <td>93826.63</td>\n",
       "      <td>0</td>\n",
       "      <td>0</td>\n",
       "      <td>0</td>\n",
       "      <td>0</td>\n",
       "    </tr>\n",
       "    <tr>\n",
       "      <th>4</th>\n",
       "      <td>850</td>\n",
       "      <td>43</td>\n",
       "      <td>2.0</td>\n",
       "      <td>125510.82</td>\n",
       "      <td>1</td>\n",
       "      <td>1</td>\n",
       "      <td>1</td>\n",
       "      <td>79084.10</td>\n",
       "      <td>0</td>\n",
       "      <td>0</td>\n",
       "      <td>0</td>\n",
       "      <td>1</td>\n",
       "    </tr>\n",
       "  </tbody>\n",
       "</table>\n",
       "</div>"
      ],
      "text/plain": [
       "   credit_score  age  tenure    balance  num_of_products  has_cr_card  \\\n",
       "0           619   42     2.0       0.00                1            1   \n",
       "1           608   41     1.0   83807.86                1            0   \n",
       "2           502   42     8.0  159660.80                3            1   \n",
       "3           699   39     1.0       0.00                2            0   \n",
       "4           850   43     2.0  125510.82                1            1   \n",
       "\n",
       "   is_active_member  estimated_salary  exited  gender_Male  geography_Germany  \\\n",
       "0                 1         101348.88       1            0                  0   \n",
       "1                 1         112542.58       0            0                  0   \n",
       "2                 0         113931.57       1            0                  0   \n",
       "3                 0          93826.63       0            0                  0   \n",
       "4                 1          79084.10       0            0                  0   \n",
       "\n",
       "   geography_Spain  \n",
       "0                0  \n",
       "1                1  \n",
       "2                0  \n",
       "3                0  \n",
       "4                1  "
      ]
     },
     "execution_count": 354,
     "metadata": {},
     "output_type": "execute_result"
    }
   ],
   "source": [
    "data = pd.get_dummies(data, drop_first=True, columns=['gender', 'geography'])\n",
    "data.head()"
   ]
  },
  {
   "cell_type": "markdown",
   "metadata": {},
   "source": [
    "Разделим данные на 3 выборки:                                                                                                  \n",
    "Обучающая - 60%                                                                                                                \n",
    "Валидационная и Тестовая - 20%"
   ]
  },
  {
   "cell_type": "markdown",
   "metadata": {},
   "source": [
    "Целевой признак - exited"
   ]
  },
  {
   "cell_type": "code",
   "execution_count": 355,
   "metadata": {
    "scrolled": true
   },
   "outputs": [],
   "source": [
    "features = data.drop('exited', axis=1)\n",
    "target = data['exited']"
   ]
  },
  {
   "cell_type": "code",
   "execution_count": 356,
   "metadata": {},
   "outputs": [],
   "source": [
    "features_train, features_valid, target_train, target_valid = train_test_split(features,\n",
    "                                                    target,\n",
    "                                                    train_size=0.6,\n",
    "                                                    random_state=12345)"
   ]
  },
  {
   "cell_type": "code",
   "execution_count": 357,
   "metadata": {},
   "outputs": [],
   "source": [
    "features_valid, features_test, target_valid, target_test = train_test_split(features_valid,\n",
    "                                                    target_valid,\n",
    "                                                    train_size=0.5,\n",
    "                                                    random_state=12345)"
   ]
  },
  {
   "cell_type": "markdown",
   "metadata": {},
   "source": [
    "Масштабируем количественные признаки"
   ]
  },
  {
   "cell_type": "code",
   "execution_count": 358,
   "metadata": {},
   "outputs": [
    {
     "name": "stderr",
     "output_type": "stream",
     "text": [
      "/tmp/ipykernel_31/4224332919.py:4: SettingWithCopyWarning: \n",
      "A value is trying to be set on a copy of a slice from a DataFrame.\n",
      "Try using .loc[row_indexer,col_indexer] = value instead\n",
      "\n",
      "See the caveats in the documentation: https://pandas.pydata.org/pandas-docs/stable/user_guide/indexing.html#returning-a-view-versus-a-copy\n",
      "  features_train[numeric] = scaler.transform(features_train[numeric])\n",
      "/opt/conda/lib/python3.9/site-packages/pandas/core/indexing.py:1738: SettingWithCopyWarning: \n",
      "A value is trying to be set on a copy of a slice from a DataFrame.\n",
      "Try using .loc[row_indexer,col_indexer] = value instead\n",
      "\n",
      "See the caveats in the documentation: https://pandas.pydata.org/pandas-docs/stable/user_guide/indexing.html#returning-a-view-versus-a-copy\n",
      "  self._setitem_single_column(loc, value[:, i].tolist(), pi)\n"
     ]
    }
   ],
   "source": [
    "numeric = ['credit_score', 'age', 'tenure', 'balance', 'num_of_products', 'estimated_salary']\n",
    "scaler = StandardScaler()\n",
    "scaler.fit(features_train[numeric])\n",
    "features_train[numeric] = scaler.transform(features_train[numeric])\n",
    "features_valid[numeric] = scaler.transform(features_valid[numeric])\n",
    "features_test[numeric] = scaler.transform(features_test[numeric])"
   ]
  },
  {
   "cell_type": "code",
   "execution_count": 359,
   "metadata": {
    "scrolled": true
   },
   "outputs": [
    {
     "data": {
      "text/html": [
       "<div>\n",
       "<style scoped>\n",
       "    .dataframe tbody tr th:only-of-type {\n",
       "        vertical-align: middle;\n",
       "    }\n",
       "\n",
       "    .dataframe tbody tr th {\n",
       "        vertical-align: top;\n",
       "    }\n",
       "\n",
       "    .dataframe thead th {\n",
       "        text-align: right;\n",
       "    }\n",
       "</style>\n",
       "<table border=\"1\" class=\"dataframe\">\n",
       "  <thead>\n",
       "    <tr style=\"text-align: right;\">\n",
       "      <th></th>\n",
       "      <th>credit_score</th>\n",
       "      <th>age</th>\n",
       "      <th>tenure</th>\n",
       "      <th>balance</th>\n",
       "      <th>num_of_products</th>\n",
       "      <th>has_cr_card</th>\n",
       "      <th>is_active_member</th>\n",
       "      <th>estimated_salary</th>\n",
       "      <th>gender_Male</th>\n",
       "      <th>geography_Germany</th>\n",
       "      <th>geography_Spain</th>\n",
       "    </tr>\n",
       "  </thead>\n",
       "  <tbody>\n",
       "    <tr>\n",
       "      <th>7479</th>\n",
       "      <td>-0.886751</td>\n",
       "      <td>-0.373192</td>\n",
       "      <td>1.082277</td>\n",
       "      <td>1.232271</td>\n",
       "      <td>-0.891560</td>\n",
       "      <td>1</td>\n",
       "      <td>0</td>\n",
       "      <td>-0.187705</td>\n",
       "      <td>1</td>\n",
       "      <td>0</td>\n",
       "      <td>1</td>\n",
       "    </tr>\n",
       "    <tr>\n",
       "      <th>3411</th>\n",
       "      <td>0.608663</td>\n",
       "      <td>-0.183385</td>\n",
       "      <td>1.082277</td>\n",
       "      <td>0.600563</td>\n",
       "      <td>-0.891560</td>\n",
       "      <td>0</td>\n",
       "      <td>0</td>\n",
       "      <td>-0.333945</td>\n",
       "      <td>0</td>\n",
       "      <td>0</td>\n",
       "      <td>0</td>\n",
       "    </tr>\n",
       "    <tr>\n",
       "      <th>6027</th>\n",
       "      <td>2.052152</td>\n",
       "      <td>0.480939</td>\n",
       "      <td>-0.737696</td>\n",
       "      <td>1.027098</td>\n",
       "      <td>0.830152</td>\n",
       "      <td>0</td>\n",
       "      <td>1</td>\n",
       "      <td>1.503095</td>\n",
       "      <td>1</td>\n",
       "      <td>1</td>\n",
       "      <td>0</td>\n",
       "    </tr>\n",
       "    <tr>\n",
       "      <th>1247</th>\n",
       "      <td>-1.457915</td>\n",
       "      <td>-1.417129</td>\n",
       "      <td>0.354288</td>\n",
       "      <td>-1.233163</td>\n",
       "      <td>0.830152</td>\n",
       "      <td>1</td>\n",
       "      <td>0</td>\n",
       "      <td>-1.071061</td>\n",
       "      <td>1</td>\n",
       "      <td>0</td>\n",
       "      <td>0</td>\n",
       "    </tr>\n",
       "    <tr>\n",
       "      <th>3716</th>\n",
       "      <td>0.130961</td>\n",
       "      <td>-1.132419</td>\n",
       "      <td>-1.101690</td>\n",
       "      <td>1.140475</td>\n",
       "      <td>-0.891560</td>\n",
       "      <td>0</td>\n",
       "      <td>0</td>\n",
       "      <td>1.524268</td>\n",
       "      <td>0</td>\n",
       "      <td>1</td>\n",
       "      <td>0</td>\n",
       "    </tr>\n",
       "  </tbody>\n",
       "</table>\n",
       "</div>"
      ],
      "text/plain": [
       "      credit_score       age    tenure   balance  num_of_products  \\\n",
       "7479     -0.886751 -0.373192  1.082277  1.232271        -0.891560   \n",
       "3411      0.608663 -0.183385  1.082277  0.600563        -0.891560   \n",
       "6027      2.052152  0.480939 -0.737696  1.027098         0.830152   \n",
       "1247     -1.457915 -1.417129  0.354288 -1.233163         0.830152   \n",
       "3716      0.130961 -1.132419 -1.101690  1.140475        -0.891560   \n",
       "\n",
       "      has_cr_card  is_active_member  estimated_salary  gender_Male  \\\n",
       "7479            1                 0         -0.187705            1   \n",
       "3411            0                 0         -0.333945            0   \n",
       "6027            0                 1          1.503095            1   \n",
       "1247            1                 0         -1.071061            1   \n",
       "3716            0                 0          1.524268            0   \n",
       "\n",
       "      geography_Germany  geography_Spain  \n",
       "7479                  0                1  \n",
       "3411                  0                0  \n",
       "6027                  1                0  \n",
       "1247                  0                0  \n",
       "3716                  1                0  "
      ]
     },
     "execution_count": 359,
     "metadata": {},
     "output_type": "execute_result"
    }
   ],
   "source": [
    "features_train.head()"
   ]
  },
  {
   "cell_type": "code",
   "execution_count": 360,
   "metadata": {
    "scrolled": true
   },
   "outputs": [
    {
     "data": {
      "text/html": [
       "<div>\n",
       "<style scoped>\n",
       "    .dataframe tbody tr th:only-of-type {\n",
       "        vertical-align: middle;\n",
       "    }\n",
       "\n",
       "    .dataframe tbody tr th {\n",
       "        vertical-align: top;\n",
       "    }\n",
       "\n",
       "    .dataframe thead th {\n",
       "        text-align: right;\n",
       "    }\n",
       "</style>\n",
       "<table border=\"1\" class=\"dataframe\">\n",
       "  <thead>\n",
       "    <tr style=\"text-align: right;\">\n",
       "      <th></th>\n",
       "      <th>credit_score</th>\n",
       "      <th>age</th>\n",
       "      <th>tenure</th>\n",
       "      <th>balance</th>\n",
       "      <th>num_of_products</th>\n",
       "      <th>has_cr_card</th>\n",
       "      <th>is_active_member</th>\n",
       "      <th>estimated_salary</th>\n",
       "      <th>gender_Male</th>\n",
       "      <th>geography_Germany</th>\n",
       "      <th>geography_Spain</th>\n",
       "    </tr>\n",
       "  </thead>\n",
       "  <tbody>\n",
       "    <tr>\n",
       "      <th>8532</th>\n",
       "      <td>-0.699824</td>\n",
       "      <td>-0.373192</td>\n",
       "      <td>-1.101690</td>\n",
       "      <td>-1.233163</td>\n",
       "      <td>0.830152</td>\n",
       "      <td>1</td>\n",
       "      <td>0</td>\n",
       "      <td>-0.015173</td>\n",
       "      <td>0</td>\n",
       "      <td>0</td>\n",
       "      <td>0</td>\n",
       "    </tr>\n",
       "    <tr>\n",
       "      <th>5799</th>\n",
       "      <td>-0.284431</td>\n",
       "      <td>0.575842</td>\n",
       "      <td>-0.737696</td>\n",
       "      <td>-1.233163</td>\n",
       "      <td>-0.891560</td>\n",
       "      <td>1</td>\n",
       "      <td>1</td>\n",
       "      <td>1.471724</td>\n",
       "      <td>0</td>\n",
       "      <td>0</td>\n",
       "      <td>0</td>\n",
       "    </tr>\n",
       "    <tr>\n",
       "      <th>5511</th>\n",
       "      <td>0.151731</td>\n",
       "      <td>-0.657902</td>\n",
       "      <td>-1.829679</td>\n",
       "      <td>0.438711</td>\n",
       "      <td>-0.891560</td>\n",
       "      <td>1</td>\n",
       "      <td>0</td>\n",
       "      <td>-1.367107</td>\n",
       "      <td>1</td>\n",
       "      <td>1</td>\n",
       "      <td>0</td>\n",
       "    </tr>\n",
       "    <tr>\n",
       "      <th>7365</th>\n",
       "      <td>-0.876366</td>\n",
       "      <td>-0.278288</td>\n",
       "      <td>1.810266</td>\n",
       "      <td>1.239884</td>\n",
       "      <td>-0.891560</td>\n",
       "      <td>1</td>\n",
       "      <td>1</td>\n",
       "      <td>-0.786517</td>\n",
       "      <td>0</td>\n",
       "      <td>0</td>\n",
       "      <td>1</td>\n",
       "    </tr>\n",
       "    <tr>\n",
       "      <th>7367</th>\n",
       "      <td>-0.481743</td>\n",
       "      <td>0.291132</td>\n",
       "      <td>1.810266</td>\n",
       "      <td>-1.233163</td>\n",
       "      <td>0.830152</td>\n",
       "      <td>1</td>\n",
       "      <td>0</td>\n",
       "      <td>1.358533</td>\n",
       "      <td>1</td>\n",
       "      <td>0</td>\n",
       "      <td>1</td>\n",
       "    </tr>\n",
       "  </tbody>\n",
       "</table>\n",
       "</div>"
      ],
      "text/plain": [
       "      credit_score       age    tenure   balance  num_of_products  \\\n",
       "8532     -0.699824 -0.373192 -1.101690 -1.233163         0.830152   \n",
       "5799     -0.284431  0.575842 -0.737696 -1.233163        -0.891560   \n",
       "5511      0.151731 -0.657902 -1.829679  0.438711        -0.891560   \n",
       "7365     -0.876366 -0.278288  1.810266  1.239884        -0.891560   \n",
       "7367     -0.481743  0.291132  1.810266 -1.233163         0.830152   \n",
       "\n",
       "      has_cr_card  is_active_member  estimated_salary  gender_Male  \\\n",
       "8532            1                 0         -0.015173            0   \n",
       "5799            1                 1          1.471724            0   \n",
       "5511            1                 0         -1.367107            1   \n",
       "7365            1                 1         -0.786517            0   \n",
       "7367            1                 0          1.358533            1   \n",
       "\n",
       "      geography_Germany  geography_Spain  \n",
       "8532                  0                0  \n",
       "5799                  0                0  \n",
       "5511                  1                0  \n",
       "7365                  0                1  \n",
       "7367                  0                1  "
      ]
     },
     "execution_count": 360,
     "metadata": {},
     "output_type": "execute_result"
    }
   ],
   "source": [
    "features_valid.head()"
   ]
  },
  {
   "cell_type": "code",
   "execution_count": 361,
   "metadata": {
    "scrolled": false
   },
   "outputs": [
    {
     "data": {
      "text/html": [
       "<div>\n",
       "<style scoped>\n",
       "    .dataframe tbody tr th:only-of-type {\n",
       "        vertical-align: middle;\n",
       "    }\n",
       "\n",
       "    .dataframe tbody tr th {\n",
       "        vertical-align: top;\n",
       "    }\n",
       "\n",
       "    .dataframe thead th {\n",
       "        text-align: right;\n",
       "    }\n",
       "</style>\n",
       "<table border=\"1\" class=\"dataframe\">\n",
       "  <thead>\n",
       "    <tr style=\"text-align: right;\">\n",
       "      <th></th>\n",
       "      <th>credit_score</th>\n",
       "      <th>age</th>\n",
       "      <th>tenure</th>\n",
       "      <th>balance</th>\n",
       "      <th>num_of_products</th>\n",
       "      <th>has_cr_card</th>\n",
       "      <th>is_active_member</th>\n",
       "      <th>estimated_salary</th>\n",
       "      <th>gender_Male</th>\n",
       "      <th>geography_Germany</th>\n",
       "      <th>geography_Spain</th>\n",
       "    </tr>\n",
       "  </thead>\n",
       "  <tbody>\n",
       "    <tr>\n",
       "      <th>7041</th>\n",
       "      <td>-2.226392</td>\n",
       "      <td>-0.088482</td>\n",
       "      <td>-1.101690</td>\n",
       "      <td>-1.233163</td>\n",
       "      <td>0.830152</td>\n",
       "      <td>1</td>\n",
       "      <td>0</td>\n",
       "      <td>0.647083</td>\n",
       "      <td>1</td>\n",
       "      <td>0</td>\n",
       "      <td>0</td>\n",
       "    </tr>\n",
       "    <tr>\n",
       "      <th>5709</th>\n",
       "      <td>-0.087120</td>\n",
       "      <td>0.006422</td>\n",
       "      <td>1.446272</td>\n",
       "      <td>-1.233163</td>\n",
       "      <td>-0.891560</td>\n",
       "      <td>1</td>\n",
       "      <td>0</td>\n",
       "      <td>-1.658410</td>\n",
       "      <td>0</td>\n",
       "      <td>0</td>\n",
       "      <td>0</td>\n",
       "    </tr>\n",
       "    <tr>\n",
       "      <th>7117</th>\n",
       "      <td>-0.917905</td>\n",
       "      <td>-0.752805</td>\n",
       "      <td>-0.009707</td>\n",
       "      <td>0.722307</td>\n",
       "      <td>-0.891560</td>\n",
       "      <td>1</td>\n",
       "      <td>1</td>\n",
       "      <td>-1.369334</td>\n",
       "      <td>1</td>\n",
       "      <td>0</td>\n",
       "      <td>1</td>\n",
       "    </tr>\n",
       "    <tr>\n",
       "      <th>7775</th>\n",
       "      <td>-0.253277</td>\n",
       "      <td>0.101325</td>\n",
       "      <td>1.810266</td>\n",
       "      <td>-1.233163</td>\n",
       "      <td>0.830152</td>\n",
       "      <td>1</td>\n",
       "      <td>0</td>\n",
       "      <td>0.075086</td>\n",
       "      <td>1</td>\n",
       "      <td>0</td>\n",
       "      <td>1</td>\n",
       "    </tr>\n",
       "    <tr>\n",
       "      <th>8735</th>\n",
       "      <td>0.785204</td>\n",
       "      <td>-0.847708</td>\n",
       "      <td>1.810266</td>\n",
       "      <td>0.615625</td>\n",
       "      <td>-0.891560</td>\n",
       "      <td>0</td>\n",
       "      <td>1</td>\n",
       "      <td>-1.070919</td>\n",
       "      <td>1</td>\n",
       "      <td>0</td>\n",
       "      <td>0</td>\n",
       "    </tr>\n",
       "  </tbody>\n",
       "</table>\n",
       "</div>"
      ],
      "text/plain": [
       "      credit_score       age    tenure   balance  num_of_products  \\\n",
       "7041     -2.226392 -0.088482 -1.101690 -1.233163         0.830152   \n",
       "5709     -0.087120  0.006422  1.446272 -1.233163        -0.891560   \n",
       "7117     -0.917905 -0.752805 -0.009707  0.722307        -0.891560   \n",
       "7775     -0.253277  0.101325  1.810266 -1.233163         0.830152   \n",
       "8735      0.785204 -0.847708  1.810266  0.615625        -0.891560   \n",
       "\n",
       "      has_cr_card  is_active_member  estimated_salary  gender_Male  \\\n",
       "7041            1                 0          0.647083            1   \n",
       "5709            1                 0         -1.658410            0   \n",
       "7117            1                 1         -1.369334            1   \n",
       "7775            1                 0          0.075086            1   \n",
       "8735            0                 1         -1.070919            1   \n",
       "\n",
       "      geography_Germany  geography_Spain  \n",
       "7041                  0                0  \n",
       "5709                  0                0  \n",
       "7117                  0                1  \n",
       "7775                  0                1  \n",
       "8735                  0                0  "
      ]
     },
     "execution_count": 361,
     "metadata": {},
     "output_type": "execute_result"
    }
   ],
   "source": [
    "features_test.head()"
   ]
  },
  {
   "cell_type": "markdown",
   "metadata": {},
   "source": [
    "Выбираем три модели обучения:\n",
    "\n",
    "Дерево решений - DecisionTreeClassifier\n",
    "\n",
    "\"Случайный лес\" - RandomForestClassifier\n",
    "\n",
    "Логистическая регрессия - LogisticRegression"
   ]
  },
  {
   "cell_type": "markdown",
   "metadata": {},
   "source": [
    "# DecisionTreeClassifier"
   ]
  },
  {
   "cell_type": "code",
   "execution_count": 362,
   "metadata": {},
   "outputs": [
    {
     "name": "stdout",
     "output_type": "stream",
     "text": [
      "best_depth = 6\n",
      "best_f1 =  0.5696969696969697\n"
     ]
    }
   ],
   "source": [
    "best_f1 = 0\n",
    "best_depth = 0\n",
    "for depth in range(1, 50):\n",
    "    model = DecisionTreeClassifier(random_state=12345,max_depth=depth)\n",
    "    model.fit(features_train, target_train)\n",
    "    predicted_valid = model.predict(features_valid)\n",
    "    f1 = f1_score(target_valid, predicted_valid)\n",
    "    if f1 > best_f1:\n",
    "        best_depth = depth\n",
    "        best_f1 = f1\n",
    "\n",
    "print('best_depth =', best_depth) \n",
    "print('best_f1 = ', best_f1)"
   ]
  },
  {
   "cell_type": "markdown",
   "metadata": {},
   "source": [
    "# RandomForestClassifier"
   ]
  },
  {
   "cell_type": "code",
   "execution_count": 363,
   "metadata": {},
   "outputs": [
    {
     "name": "stdout",
     "output_type": "stream",
     "text": [
      "best_f1 =  0.6044444444444445\n",
      "best_depth =  12\n",
      "best_est =  18\n"
     ]
    }
   ],
   "source": [
    "best_f1 = 0\n",
    "best_est = 0\n",
    "best_depth = 0\n",
    "for est in range(2,25):\n",
    "    for depth in range(2,25):\n",
    "        model = RandomForestClassifier(random_state = 12345,n_estimators = est, max_depth = depth)\n",
    "        model.fit(features_train, target_train)\n",
    "        predicted_valid = model.predict(features_valid)\n",
    "        f1 = f1_score(target_valid,predicted_valid)\n",
    "        if best_f1 < f1:\n",
    "            best_depth = depth\n",
    "            best_est = est\n",
    "            best_f1 = f1\n",
    "print('best_f1 = ',best_f1)\n",
    "print('best_depth = ', best_depth)\n",
    "print('best_est = ',best_est)"
   ]
  },
  {
   "cell_type": "markdown",
   "metadata": {},
   "source": [
    "# LogisticRegression"
   ]
  },
  {
   "cell_type": "code",
   "execution_count": 364,
   "metadata": {
    "scrolled": true
   },
   "outputs": [
    {
     "name": "stdout",
     "output_type": "stream",
     "text": [
      "0.33108108108108103\n"
     ]
    }
   ],
   "source": [
    "model = LogisticRegression(random_state = 12345,max_iter= 1000,solver = 'liblinear' )\n",
    "model.fit(features_train,target_train)\n",
    "predicted_valid = model.predict(features_valid)\n",
    "f1= f1_score(predicted_valid, target_valid)\n",
    "print(f1)"
   ]
  },
  {
   "cell_type": "markdown",
   "metadata": {},
   "source": [
    "**Вывод**"
   ]
  },
  {
   "cell_type": "markdown",
   "metadata": {},
   "source": [
    "Изучили модели без учёта дисбаланса. Получили наилучшее значение метрики F1 у  модели случайного леса в 0.6, худшше значение имеет модель логистической регресии в 0.33."
   ]
  },
  {
   "cell_type": "markdown",
   "metadata": {},
   "source": [
    "## Борьба с дисбалансом"
   ]
  },
  {
   "cell_type": "code",
   "execution_count": 365,
   "metadata": {},
   "outputs": [
    {
     "name": "stdout",
     "output_type": "stream",
     "text": [
      "0    0.7963\n",
      "1    0.2037\n",
      "Name: exited, dtype: float64\n"
     ]
    },
    {
     "data": {
      "text/plain": [
       "<AxesSubplot:>"
      ]
     },
     "execution_count": 365,
     "metadata": {},
     "output_type": "execute_result"
    },
    {
     "data": {
      "image/png": "[encoded data removed]",
      "text/plain": [
       "<Figure size 432x288 with 1 Axes>"
      ]
     },
     "metadata": {
      "needs_background": "light"
     },
     "output_type": "display_data"
    }
   ],
   "source": [
    "class_frequency = data['exited'].value_counts(normalize=1)\n",
    "print(class_frequency)\n",
    "class_frequency.plot(kind='bar')"
   ]
  },
  {
   "cell_type": "markdown",
   "metadata": {},
   "source": [
    "<div style=\"background: #B0E0E6; padding: 5px; border: 1px solid SteelBlue; border-radius: 5px;\">\n",
    "    <font color='4682B4'><u><b>КОММЕНТАРИЙ СТУДЕНТА</b></u></font>\n",
    "    <br />\n",
    "    <font color='4682B4'>Из полученных данных видно, что в целевом признаке наблюдается достаточно сильный дисбаланс классов. Классы отличаются в 4 раза. Как раз это число(при уменьшении выборки - 0.25) будем использовать </font>\n",
    "</div>"
   ]
  },
  {
   "cell_type": "markdown",
   "metadata": {},
   "source": [
    "Используем три способа борьбы с дисбалансом\n",
    "\n",
    "Взвешивание классов\n",
    "\n",
    "Увеличение выборки\n",
    "\n",
    "Уменьшение выборки"
   ]
  },
  {
   "cell_type": "markdown",
   "metadata": {},
   "source": [
    "# Взвешивание классов"
   ]
  },
  {
   "cell_type": "markdown",
   "metadata": {},
   "source": [
    "# DecisionTreeClassifier"
   ]
  },
  {
   "cell_type": "code",
   "execution_count": 366,
   "metadata": {},
   "outputs": [
    {
     "name": "stdout",
     "output_type": "stream",
     "text": [
      "best_depth = 5\n",
      "best_f1 =  0.5963791267305644\n",
      "auc_roc= 0.8310244134068074\n"
     ]
    }
   ],
   "source": [
    "best_f1 = 0\n",
    "best_depth = 0\n",
    "for depth in range(1, 50):\n",
    "    model = DecisionTreeClassifier(random_state=12345,max_depth=depth, class_weight='balanced')\n",
    "    model.fit(features_train, target_train)\n",
    "    predicted_valid = model.predict(features_valid)\n",
    "    f1 = f1_score(target_valid, predicted_valid)\n",
    "    if f1 > best_f1:\n",
    "        best_depth = depth\n",
    "        best_f1 = f1\n",
    "model = DecisionTreeClassifier(random_state=12345,max_depth=best_depth, class_weight='balanced')\n",
    "model.fit(features_train, target_train)\n",
    "\n",
    "probabilities_valid = model.predict_proba(features_valid)\n",
    "probabilities_one_valid = probabilities_valid[:, 1]\n",
    "auc_roc=roc_auc_score(target_valid,probabilities_one_valid)\n",
    "print('best_depth =', best_depth) \n",
    "print('best_f1 = ', best_f1)\n",
    "print('auc_roc=',auc_roc)"
   ]
  },
  {
   "cell_type": "markdown",
   "metadata": {},
   "source": [
    "# RandomForestClassifier"
   ]
  },
  {
   "cell_type": "code",
   "execution_count": 367,
   "metadata": {},
   "outputs": [
    {
     "name": "stdout",
     "output_type": "stream",
     "text": [
      "best_f1 =  0.6283367556468172\n",
      "best_depth =  6\n",
      "best_est =  19\n",
      "auc_roc= 0.8469164161409155\n"
     ]
    }
   ],
   "source": [
    "best_f1 = 0\n",
    "best_est = 0\n",
    "best_depth = 0\n",
    "for est in range(2,25):\n",
    "    for depth in range(2,25):\n",
    "        model = RandomForestClassifier(random_state = 12345,n_estimators = est, max_depth = depth,class_weight='balanced')\n",
    "        model.fit(features_train, target_train)\n",
    "        predicted_valid = model.predict(features_valid)\n",
    "        f1 = f1_score(target_valid,predicted_valid)\n",
    "        if best_f1 < f1:\n",
    "            best_depth = depth\n",
    "            best_est = est\n",
    "            best_f1 = f1\n",
    "model = RandomForestClassifier(random_state = 12345,n_estimators = best_est, max_depth = best_depth,class_weight='balanced')\n",
    "model.fit(features_train, target_train)\n",
    "\n",
    "probabilities_valid = model.predict_proba(features_valid)\n",
    "probabilities_one_valid = probabilities_valid[:, 1]\n",
    "auc_roc=roc_auc_score(target_valid,probabilities_one_valid)\n",
    "print('best_f1 = ',best_f1)\n",
    "print('best_depth = ', best_depth)\n",
    "print('best_est = ',best_est)\n",
    "print('auc_roc=',auc_roc)"
   ]
  },
  {
   "cell_type": "markdown",
   "metadata": {},
   "source": [
    "# LogisticRegression"
   ]
  },
  {
   "cell_type": "code",
   "execution_count": 368,
   "metadata": {
    "scrolled": true
   },
   "outputs": [
    {
     "name": "stdout",
     "output_type": "stream",
     "text": [
      "auc_roc= 0.7637310291013133\n",
      "f1 = 0.4888507718696398\n"
     ]
    }
   ],
   "source": [
    "model = LogisticRegression(random_state = 12345,max_iter= 1000,solver = 'liblinear' ,class_weight='balanced')\n",
    "model.fit(features_train,target_train)\n",
    "predicted_valid = model.predict(features_valid)\n",
    "f1= f1_score(predicted_valid, target_valid)\n",
    "probabilities_valid = model.predict_proba(features_valid)\n",
    "probabilities_one_valid = probabilities_valid[:, 1]\n",
    "\n",
    "# < напишите код здесь >\n",
    "auc_roc=roc_auc_score(target_valid,probabilities_one_valid)\n",
    "print('auc_roc=',auc_roc)\n",
    "print('f1 =', f1)"
   ]
  },
  {
   "cell_type": "markdown",
   "metadata": {},
   "source": [
    "# Увеличение выборки"
   ]
  },
  {
   "cell_type": "markdown",
   "metadata": {},
   "source": [
    "Напишем общую функцию для разделения на положительные и отрицательные объекты"
   ]
  },
  {
   "cell_type": "code",
   "execution_count": 369,
   "metadata": {},
   "outputs": [],
   "source": [
    "def upsample(features, target, repeat):\n",
    "    features_zeros = features[target == 0]\n",
    "    features_ones = features[target == 1]\n",
    "    target_zeros = target[target == 0]\n",
    "    target_ones = target[target == 1]\n",
    "\n",
    "    features_upsampled = pd.concat([features_zeros] + [features_ones] * repeat)\n",
    "    target_upsampled = pd.concat([target_zeros] + [target_ones] * repeat)\n",
    "    \n",
    "    features_upsampled, target_upsampled = shuffle(\n",
    "        features_upsampled, target_upsampled, random_state=12345)\n",
    "    \n",
    "    return features_upsampled, target_upsampled\n",
    "\n",
    "features_upsampled, target_upsampled = upsample(features_train, target_train, 4)"
   ]
  },
  {
   "cell_type": "markdown",
   "metadata": {},
   "source": [
    "<div class=\"alert alert-success\">\n",
    "<b>ОТЛИЧНО! 👍</b>\n",
    "\n",
    "Отлично! Красивая функция. Ну и здорово что ты понимаешь, что применение функций упрощает код, делает его структурированным, простым для понимания и упрощает его дальнейшее переиспользование (принцип DRY (Don’t Repeat Yourself / Не повторяйся) – в действии). Дополнительно о DRY можно почитать здесь: https://habr.com/ru/company/itelma/blog/546372</div>"
   ]
  },
  {
   "cell_type": "markdown",
   "metadata": {},
   "source": [
    "# DecisionTreeClassifier"
   ]
  },
  {
   "cell_type": "code",
   "execution_count": 370,
   "metadata": {
    "scrolled": true
   },
   "outputs": [
    {
     "name": "stdout",
     "output_type": "stream",
     "text": [
      "best_depth = 5\n",
      "best_f1 =  0.5963791267305644\n",
      "auc_roc= 0.8310244134068074\n"
     ]
    }
   ],
   "source": [
    "best_f1 = 0\n",
    "best_depth = 0\n",
    "for depth in range(1, 50):\n",
    "    model = DecisionTreeClassifier(random_state=12345,max_depth=depth)\n",
    "    model.fit(features_upsampled, target_upsampled)\n",
    "    predicted_valid = model.predict(features_valid)\n",
    "    f1 = f1_score(target_valid, predicted_valid)\n",
    "    if f1 > best_f1:\n",
    "        best_depth = depth\n",
    "        best_f1 = f1\n",
    "model = DecisionTreeClassifier(random_state=12345,max_depth=best_depth)\n",
    "model.fit(features_upsampled, target_upsampled)\n",
    "\n",
    "probabilities_valid = model.predict_proba(features_valid)\n",
    "probabilities_one_valid = probabilities_valid[:, 1]\n",
    "auc_roc=roc_auc_score(target_valid,probabilities_one_valid)\n",
    "print('best_depth =', best_depth) \n",
    "print('best_f1 = ', best_f1)\n",
    "print('auc_roc=',auc_roc)"
   ]
  },
  {
   "cell_type": "markdown",
   "metadata": {},
   "source": [
    "# RandomForestClassifier"
   ]
  },
  {
   "cell_type": "code",
   "execution_count": 371,
   "metadata": {},
   "outputs": [
    {
     "name": "stdout",
     "output_type": "stream",
     "text": [
      "best_f1 =  0.6198547215496367\n",
      "best_depth =  14\n",
      "best_est =  17\n",
      "auc_roc= 0.8331891676092888\n"
     ]
    }
   ],
   "source": [
    "best_f1 = 0\n",
    "best_est = 0\n",
    "best_depth = 0\n",
    "for est in range(2,25):\n",
    "    for depth in range(2,25):\n",
    "        model = RandomForestClassifier(random_state = 12345,n_estimators = est, max_depth = depth)\n",
    "        model.fit(features_upsampled, target_upsampled)\n",
    "        predicted_valid = model.predict(features_valid)\n",
    "        f1 = f1_score(target_valid,predicted_valid)\n",
    "        if best_f1 < f1:\n",
    "            best_depth = depth\n",
    "            best_est = est\n",
    "            best_f1 = f1\n",
    "model = RandomForestClassifier(random_state = 12345,n_estimators = best_est, max_depth = best_depth)\n",
    "model.fit(features_upsampled, target_upsampled)\n",
    "\n",
    "probabilities_valid = model.predict_proba(features_valid)\n",
    "probabilities_one_valid = probabilities_valid[:, 1]\n",
    "auc_roc=roc_auc_score(target_valid,probabilities_one_valid)\n",
    "print('best_f1 = ',best_f1)\n",
    "print('best_depth = ', best_depth)\n",
    "print('best_est = ',best_est)\n",
    "print('auc_roc=',auc_roc)"
   ]
  },
  {
   "cell_type": "markdown",
   "metadata": {},
   "source": [
    "# LogisticRegression"
   ]
  },
  {
   "cell_type": "code",
   "execution_count": 372,
   "metadata": {
    "scrolled": true
   },
   "outputs": [
    {
     "name": "stdout",
     "output_type": "stream",
     "text": [
      "auc_roc= 0.7636478565682107\n",
      "f1 = 0.4888507718696398\n"
     ]
    }
   ],
   "source": [
    "model = LogisticRegression(random_state = 12345,max_iter= 1000,solver = 'liblinear')\n",
    "model.fit(features_upsampled, target_upsampled)\n",
    "predicted_valid = model.predict(features_valid)\n",
    "f1= f1_score(predicted_valid, target_valid)\n",
    "probabilities_valid = model.predict_proba(features_valid)\n",
    "probabilities_one_valid = probabilities_valid[:, 1]\n",
    "\n",
    "# < напишите код здесь >\n",
    "auc_roc=roc_auc_score(target_valid,probabilities_one_valid)\n",
    "print('auc_roc=',auc_roc)\n",
    "print('f1 =', f1)"
   ]
  },
  {
   "cell_type": "markdown",
   "metadata": {},
   "source": [
    "# Уменьшение выборки"
   ]
  },
  {
   "cell_type": "code",
   "execution_count": 373,
   "metadata": {},
   "outputs": [],
   "source": [
    "def downsample(features, target, fraction):\n",
    "    features_zeros = features[target == 0]\n",
    "    features_ones = features[target == 1]\n",
    "    target_zeros = target[target == 0]\n",
    "    target_ones = target[target == 1]\n",
    "\n",
    "    features_downsampled = pd.concat(\n",
    "        [features_zeros.sample(frac=fraction, random_state=12345)] + [features_ones])\n",
    "    target_downsampled = pd.concat(\n",
    "        [target_zeros.sample(frac=fraction, random_state=12345)] + [target_ones])\n",
    "    \n",
    "    features_downsampled, target_downsampled = shuffle(\n",
    "        features_downsampled, target_downsampled, random_state=12345)\n",
    "    \n",
    "    return features_downsampled, target_downsampled\n",
    "\n",
    "features_downsampled, target_downsampled = downsample(features_train, target_train, 0.25)"
   ]
  },
  {
   "cell_type": "markdown",
   "metadata": {},
   "source": [
    "# DecisionTreeClassifier"
   ]
  },
  {
   "cell_type": "code",
   "execution_count": 374,
   "metadata": {},
   "outputs": [
    {
     "name": "stdout",
     "output_type": "stream",
     "text": [
      "best_depth = 5\n",
      "best_f1 =  0.5953109072375127\n",
      "auc_roc= 0.8240212861195628\n"
     ]
    }
   ],
   "source": [
    "best_f1 = 0\n",
    "best_depth = 0\n",
    "for depth in range(1, 50):\n",
    "    model = DecisionTreeClassifier(random_state=12345,max_depth=depth)\n",
    "    model.fit(features_downsampled, target_downsampled)\n",
    "    predicted_valid = model.predict(features_valid)\n",
    "    f1 = f1_score(target_valid, predicted_valid)\n",
    "    if f1 > best_f1:\n",
    "        best_depth = depth\n",
    "        best_f1 = f1\n",
    "model = DecisionTreeClassifier(random_state=12345,max_depth=best_depth)\n",
    "model.fit(features_downsampled, target_downsampled)\n",
    "\n",
    "probabilities_valid = model.predict_proba(features_valid)\n",
    "probabilities_one_valid = probabilities_valid[:, 1]\n",
    "auc_roc=roc_auc_score(target_valid,probabilities_one_valid)\n",
    "print('best_depth =', best_depth) \n",
    "print('best_f1 = ', best_f1)\n",
    "print('auc_roc=',auc_roc)"
   ]
  },
  {
   "cell_type": "markdown",
   "metadata": {},
   "source": [
    "# RandomForestClassifier"
   ]
  },
  {
   "cell_type": "code",
   "execution_count": 375,
   "metadata": {},
   "outputs": [
    {
     "name": "stdout",
     "output_type": "stream",
     "text": [
      "best_f1 =  0.6013579049466536\n",
      "best_depth =  5\n",
      "best_est =  9\n",
      "auc_roc= 0.8391216375613209\n"
     ]
    }
   ],
   "source": [
    "best_f1 = 0\n",
    "best_est = 0\n",
    "best_depth = 0\n",
    "for est in range(2,25):\n",
    "    for depth in range(2,25):\n",
    "        model = RandomForestClassifier(random_state = 12345,n_estimators = est, max_depth = depth)\n",
    "        model.fit(features_downsampled, target_downsampled)\n",
    "        predicted_valid = model.predict(features_valid)\n",
    "        f1 = f1_score(target_valid,predicted_valid)\n",
    "        if best_f1 < f1:\n",
    "            best_depth = depth\n",
    "            best_est = est\n",
    "            best_f1 = f1\n",
    "model = RandomForestClassifier(random_state = 12345,n_estimators = best_est, max_depth = best_depth)\n",
    "model.fit(features_downsampled, target_downsampled)\n",
    "\n",
    "probabilities_valid = model.predict_proba(features_valid)\n",
    "probabilities_one_valid = probabilities_valid[:, 1]\n",
    "auc_roc=roc_auc_score(target_valid,probabilities_one_valid)\n",
    "print('best_f1 = ',best_f1)\n",
    "print('best_depth = ', best_depth)\n",
    "print('best_est = ',best_est)\n",
    "print('auc_roc=',auc_roc)"
   ]
  },
  {
   "cell_type": "markdown",
   "metadata": {},
   "source": [
    "# LogisticRegression"
   ]
  },
  {
   "cell_type": "code",
   "execution_count": 376,
   "metadata": {},
   "outputs": [
    {
     "name": "stdout",
     "output_type": "stream",
     "text": [
      "auc_roc= 0.7622883637089505\n",
      "f1 = 0.48406546080964685\n"
     ]
    }
   ],
   "source": [
    "model = LogisticRegression(random_state = 12345,max_iter= 1000,solver = 'liblinear')\n",
    "model.fit(features_downsampled, target_downsampled)\n",
    "predicted_valid = model.predict(features_valid)\n",
    "f1= f1_score(predicted_valid, target_valid)\n",
    "probabilities_valid = model.predict_proba(features_valid)\n",
    "probabilities_one_valid = probabilities_valid[:, 1]\n",
    "\n",
    "# < напишите код здесь >\n",
    "auc_roc=roc_auc_score(target_valid,probabilities_one_valid)\n",
    "print('auc_roc=',auc_roc)\n",
    "print('f1 =', f1)"
   ]
  },
  {
   "cell_type": "markdown",
   "metadata": {},
   "source": [
    "# Вывод"
   ]
  },
  {
   "cell_type": "markdown",
   "metadata": {},
   "source": [
    "За счет использования взвешивания классов получается достичь наилучшего значния f1 у каждой модели, при этом гиперпараметры слегка именяются. В свою очередь уменьшение и увеличение выборки позволяет увеличить значение у логистической регресии и дерева решений, но у случайного леса значение f1 уменьшается"
   ]
  },
  {
   "cell_type": "markdown",
   "metadata": {},
   "source": [
    "<div style=\"background: #B0E0E6; padding: 5px; border: 1px solid SteelBlue; border-radius: 5px;\">\n",
    "    <font color='4682B4'><u><b>КОММЕНТАРИЙ СТУДЕНТА</b></u></font>\n",
    "    <br />\n",
    "    <font color='4682B4'>после того как исправил ошибку, связанную с тем что не исследовал во сколько раз один класс, больше другого. Мысль, что уменьшение и увеличение выборки уменьшают значение f1 у случайного леса, не верна! </font>\n",
    "</div>"
   ]
  },
  {
   "cell_type": "markdown",
   "metadata": {},
   "source": [
    "Наибольшее значние f1 в 0,628 достигается при использовании взвешивания классов и метода случаного леса"
   ]
  },
  {
   "cell_type": "markdown",
   "metadata": {},
   "source": [
    "Значение AUC-ROC у всех моделей примерно одно и то же:\n",
    "    \n",
    "    у дерева решений 0.80-0.83\n",
    "    \n",
    "    у случайного леса 0.80-0.84\n",
    "    \n",
    "    у логистической регрессии порядка 0.76"
   ]
  },
  {
   "cell_type": "markdown",
   "metadata": {},
   "source": [
    "Наибольшее значение AUC-ROC в 0.84, так же как и f1, достигается при взвешивании классов и модели случайного леса"
   ]
  },
  {
   "cell_type": "markdown",
   "metadata": {},
   "source": [
    "## Тестирование модели"
   ]
  },
  {
   "cell_type": "markdown",
   "metadata": {},
   "source": [
    "Модель случайного леса проявила себя лучше всего, поэтому тестирования будем проводить при помощи именно этой модели с гиперпараметрами best_depth =  6, best_est =  19"
   ]
  },
  {
   "cell_type": "code",
   "execution_count": 380,
   "metadata": {},
   "outputs": [
    {
     "name": "stdout",
     "output_type": "stream",
     "text": [
      "f1= 0.5889447236180904\n",
      "auc_roc= 0.8421817167887675\n"
     ]
    }
   ],
   "source": [
    "model = RandomForestClassifier(random_state = 12345,n_estimators = 19, max_depth = 6,class_weight='balanced')\n",
    "model.fit(features_train, target_train)\n",
    "predicted_test = model.predict(features_test)\n",
    "print('f1=',f1_score(target_test,predicted_test))\n",
    "probabilities_test = model.predict_proba(features_test)\n",
    "probabilities_one_test = probabilities_test[:, 1]\n",
    "auc_roc=roc_auc_score(target_test,probabilities_one_test)\n",
    "print('auc_roc=',auc_roc)"
   ]
  },
  {
   "cell_type": "markdown",
   "metadata": {},
   "source": [
    "значение f1 не достигло необходимого 0.59, попробуем увеличить гиперпараметры"
   ]
  },
  {
   "cell_type": "code",
   "execution_count": 378,
   "metadata": {},
   "outputs": [
    {
     "name": "stdout",
     "output_type": "stream",
     "text": [
      "best_est = 100\n",
      "best_depth = 9\n"
     ]
    }
   ],
   "source": [
    "best_f1 = 0\n",
    "best_est = 0\n",
    "best_depth = 0\n",
    "for est in range(10, 101, 5):\n",
    "    for depth in range(1, 10):\n",
    "        model = RandomForestClassifier(random_state=12345,n_estimators=est,max_depth=depth, class_weight='balanced')\n",
    "        model.fit(features_train, target_train)\n",
    "        predictions_valid = model.predict(features_valid)\n",
    "        f1_forest = f1_score(target_valid, predictions_valid)\n",
    "        if f1_forest > best_f1:\n",
    "            best_est = est\n",
    "            best_depth = depth\n",
    "\n",
    "print('best_est =', best_est)\n",
    "print('best_depth =', best_depth)"
   ]
  },
  {
   "cell_type": "code",
   "execution_count": 379,
   "metadata": {},
   "outputs": [
    {
     "name": "stdout",
     "output_type": "stream",
     "text": [
      "f1= 0.6042841037204059\n",
      "auc_roc= 0.8591829055677731\n"
     ]
    }
   ],
   "source": [
    "model = RandomForestClassifier(random_state = 12345,n_estimators = 100, max_depth = 9,class_weight='balanced')\n",
    "model.fit(features_train, target_train)\n",
    "predicted_test = model.predict(features_test)\n",
    "print('f1=',f1_score(target_test,predicted_test))\n",
    "probabilities_test = model.predict_proba(features_test)\n",
    "probabilities_one_test = probabilities_test[:, 1]\n",
    "auc_roc=roc_auc_score(target_test,probabilities_one_test)\n",
    "print('auc_roc=',auc_roc)"
   ]
  },
  {
   "cell_type": "markdown",
   "metadata": {},
   "source": [
    "успешно"
   ]
  },
  {
   "cell_type": "markdown",
   "metadata": {},
   "source": [
    "# Вывод"
   ]
  },
  {
   "cell_type": "markdown",
   "metadata": {},
   "source": [
    "Были проверены три модели: дерево решений, случайный лес и логистическая регрессия, а также три способа борьбы с дисбалансом: взвешивание классов, уменьшение и увеличение выборки.\n",
    "\n",
    "При дисбалансе значение самое больше f1 имела модель случайного леса в 0.6.\n",
    "\n",
    "После того как учли дисбаланс, нашли лучший для наших условий способ решения: использование взвешивания классов. И все так же, как и раньше модель случайного дерева имела лучший результат f1\n",
    "\n",
    "При тестировании использовали модель случайного леса с гиперпараматреми n_estimators = 100, max_depth = 9 и взвешивание классов. В результате получили значение f1 в 0.6 и значение AUC-ROC равное 0.86"
   ]
  },
  {
   "cell_type": "markdown",
   "metadata": {},
   "source": [
    "## Чек-лист готовности проекта"
   ]
  },
  {
   "cell_type": "markdown",
   "metadata": {},
   "source": [
    "Поставьте 'x' в выполненных пунктах. Далее нажмите Shift+Enter."
   ]
  },
  {
   "cell_type": "markdown",
   "metadata": {},
   "source": [
    "- [x]  Jupyter Notebook открыт\n",
    "- [x]  Весь код выполняется без ошибок\n",
    "- [x]  Ячейки с кодом расположены в порядке исполнения\n",
    "- [x]  Выполнен шаг 1: данные подготовлены\n",
    "- [x]  Выполнен шаг 2: задача исследована\n",
    "    - [x]  Исследован баланс классов\n",
    "    - [x]  Изучены модели без учёта дисбаланса\n",
    "    - [x]  Написаны выводы по результатам исследования\n",
    "- [x]  Выполнен шаг 3: учтён дисбаланс\n",
    "    - [x]  Применено несколько способов борьбы с дисбалансом\n",
    "    - [x]  Написаны выводы по результатам исследования\n",
    "- [x]  Выполнен шаг 4: проведено тестирование\n",
    "- [x]  Удалось достичь *F1*-меры не менее 0.59\n",
    "- [x]  Исследована метрика *AUC-ROC*"
   ]
  }
 ],
 "metadata": {
  "ExecuteTimeLog": [
   {
    "duration": 400,
    "start_time": "2023-07-29T19:35:38.893Z"
   },
   {
    "duration": 146,
    "start_time": "2023-07-29T19:37:09.592Z"
   },
   {
    "duration": 64,
    "start_time": "2023-07-30T09:43:51.735Z"
   },
   {
    "duration": 460,
    "start_time": "2023-07-30T09:43:55.335Z"
   },
   {
    "duration": 197,
    "start_time": "2023-07-30T09:43:55.844Z"
   },
   {
    "duration": 19,
    "start_time": "2023-07-30T09:43:56.760Z"
   },
   {
    "duration": 27,
    "start_time": "2023-07-30T09:44:54.584Z"
   },
   {
    "duration": 7,
    "start_time": "2023-07-30T09:44:59.643Z"
   },
   {
    "duration": 7,
    "start_time": "2023-07-30T09:46:14.563Z"
   },
   {
    "duration": 9,
    "start_time": "2023-07-30T09:49:50.034Z"
   },
   {
    "duration": 9,
    "start_time": "2023-07-30T09:53:02.065Z"
   },
   {
    "duration": 108,
    "start_time": "2023-07-30T09:53:18.934Z"
   },
   {
    "duration": 4,
    "start_time": "2023-07-30T09:53:27.312Z"
   },
   {
    "duration": 10,
    "start_time": "2023-07-30T09:56:18.360Z"
   },
   {
    "duration": 9,
    "start_time": "2023-07-30T09:57:04.295Z"
   },
   {
    "duration": 10,
    "start_time": "2023-07-30T09:57:24.071Z"
   },
   {
    "duration": 6,
    "start_time": "2023-07-30T09:59:21.554Z"
   },
   {
    "duration": 7,
    "start_time": "2023-07-30T09:59:41.709Z"
   },
   {
    "duration": 20,
    "start_time": "2023-07-30T09:59:53.137Z"
   },
   {
    "duration": 4,
    "start_time": "2023-07-30T10:04:57.270Z"
   },
   {
    "duration": 12,
    "start_time": "2023-07-30T10:06:52.758Z"
   },
   {
    "duration": 32,
    "start_time": "2023-07-30T10:18:19.219Z"
   },
   {
    "duration": 3,
    "start_time": "2023-07-30T10:18:41.003Z"
   },
   {
    "duration": 24,
    "start_time": "2023-07-30T10:18:46.613Z"
   },
   {
    "duration": 3,
    "start_time": "2023-07-30T10:19:40.893Z"
   },
   {
    "duration": 108,
    "start_time": "2023-07-30T10:19:40.898Z"
   },
   {
    "duration": 11,
    "start_time": "2023-07-30T10:19:41.007Z"
   },
   {
    "duration": 21,
    "start_time": "2023-07-30T10:19:41.020Z"
   },
   {
    "duration": 22,
    "start_time": "2023-07-30T10:19:41.042Z"
   },
   {
    "duration": 15,
    "start_time": "2023-07-30T10:19:41.065Z"
   },
   {
    "duration": 5,
    "start_time": "2023-07-30T10:19:41.082Z"
   },
   {
    "duration": 14,
    "start_time": "2023-07-30T10:19:41.088Z"
   },
   {
    "duration": 25,
    "start_time": "2023-07-30T10:19:41.104Z"
   },
   {
    "duration": 10,
    "start_time": "2023-07-30T10:19:51.669Z"
   },
   {
    "duration": 3,
    "start_time": "2023-07-30T10:19:57.981Z"
   },
   {
    "duration": 121,
    "start_time": "2023-07-30T10:19:57.987Z"
   },
   {
    "duration": 36,
    "start_time": "2023-07-30T10:19:58.110Z"
   },
   {
    "duration": 15,
    "start_time": "2023-07-30T10:19:58.148Z"
   },
   {
    "duration": 6,
    "start_time": "2023-07-30T10:19:58.165Z"
   },
   {
    "duration": 15,
    "start_time": "2023-07-30T10:19:58.173Z"
   },
   {
    "duration": 4,
    "start_time": "2023-07-30T10:19:58.189Z"
   },
   {
    "duration": 15,
    "start_time": "2023-07-30T10:19:58.195Z"
   },
   {
    "duration": 50,
    "start_time": "2023-07-30T10:19:58.212Z"
   },
   {
    "duration": 5,
    "start_time": "2023-07-30T10:20:43.283Z"
   },
   {
    "duration": 5,
    "start_time": "2023-07-30T10:20:57.476Z"
   },
   {
    "duration": 29,
    "start_time": "2023-07-30T11:28:30.116Z"
   },
   {
    "duration": 24,
    "start_time": "2023-07-30T11:28:40.601Z"
   },
   {
    "duration": 23,
    "start_time": "2023-07-30T11:28:44.925Z"
   },
   {
    "duration": 4,
    "start_time": "2023-07-30T11:28:49.005Z"
   },
   {
    "duration": 322,
    "start_time": "2023-07-30T11:28:49.011Z"
   },
   {
    "duration": 27,
    "start_time": "2023-07-30T11:28:49.337Z"
   },
   {
    "duration": 43,
    "start_time": "2023-07-30T11:28:49.370Z"
   },
   {
    "duration": 89,
    "start_time": "2023-07-30T11:28:49.416Z"
   },
   {
    "duration": 57,
    "start_time": "2023-07-30T11:28:49.508Z"
   },
   {
    "duration": 76,
    "start_time": "2023-07-30T11:28:49.567Z"
   },
   {
    "duration": 153,
    "start_time": "2023-07-30T11:28:49.646Z"
   },
   {
    "duration": 43,
    "start_time": "2023-07-30T11:28:49.802Z"
   },
   {
    "duration": 98,
    "start_time": "2023-07-30T11:28:49.851Z"
   },
   {
    "duration": 121,
    "start_time": "2023-07-30T11:28:49.966Z"
   },
   {
    "duration": 61,
    "start_time": "2023-07-30T11:28:50.089Z"
   },
   {
    "duration": 21,
    "start_time": "2023-07-30T11:29:08.370Z"
   },
   {
    "duration": 8,
    "start_time": "2023-07-30T11:29:10.599Z"
   },
   {
    "duration": 320,
    "start_time": "2023-07-30T11:29:10.609Z"
   },
   {
    "duration": 21,
    "start_time": "2023-07-30T11:29:10.932Z"
   },
   {
    "duration": 24,
    "start_time": "2023-07-30T11:29:10.955Z"
   },
   {
    "duration": 109,
    "start_time": "2023-07-30T11:29:10.987Z"
   },
   {
    "duration": 148,
    "start_time": "2023-07-30T11:29:11.105Z"
   },
   {
    "duration": 88,
    "start_time": "2023-07-30T11:29:11.255Z"
   },
   {
    "duration": 142,
    "start_time": "2023-07-30T11:29:11.346Z"
   },
   {
    "duration": 16,
    "start_time": "2023-07-30T11:29:11.490Z"
   },
   {
    "duration": 37,
    "start_time": "2023-07-30T11:29:11.508Z"
   },
   {
    "duration": 30,
    "start_time": "2023-07-30T11:29:11.547Z"
   },
   {
    "duration": 110,
    "start_time": "2023-07-30T11:29:11.579Z"
   },
   {
    "duration": 198,
    "start_time": "2023-07-30T11:33:13.410Z"
   },
   {
    "duration": 36,
    "start_time": "2023-07-30T11:33:47.365Z"
   },
   {
    "duration": 6,
    "start_time": "2023-07-30T11:33:49.884Z"
   },
   {
    "duration": 346,
    "start_time": "2023-07-30T11:33:49.892Z"
   },
   {
    "duration": 26,
    "start_time": "2023-07-30T11:33:50.243Z"
   },
   {
    "duration": 124,
    "start_time": "2023-07-30T11:33:50.273Z"
   },
   {
    "duration": 114,
    "start_time": "2023-07-30T11:33:50.403Z"
   },
   {
    "duration": 114,
    "start_time": "2023-07-30T11:33:50.523Z"
   },
   {
    "duration": 16,
    "start_time": "2023-07-30T11:33:50.645Z"
   },
   {
    "duration": 110,
    "start_time": "2023-07-30T11:33:50.667Z"
   },
   {
    "duration": 232,
    "start_time": "2023-07-30T11:33:50.783Z"
   },
   {
    "duration": 120,
    "start_time": "2023-07-30T11:33:51.021Z"
   },
   {
    "duration": 181,
    "start_time": "2023-07-30T11:33:51.147Z"
   },
   {
    "duration": 118,
    "start_time": "2023-07-30T11:33:51.339Z"
   },
   {
    "duration": 20,
    "start_time": "2023-07-30T11:41:04.264Z"
   },
   {
    "duration": 23,
    "start_time": "2023-07-30T11:41:16.050Z"
   },
   {
    "duration": 164,
    "start_time": "2023-07-30T11:41:16.082Z"
   },
   {
    "duration": 30,
    "start_time": "2023-07-30T11:41:16.248Z"
   },
   {
    "duration": 11,
    "start_time": "2023-07-30T11:41:16.284Z"
   },
   {
    "duration": 10,
    "start_time": "2023-07-30T11:41:16.298Z"
   },
   {
    "duration": 19,
    "start_time": "2023-07-30T11:41:16.310Z"
   },
   {
    "duration": 76,
    "start_time": "2023-07-30T11:41:16.331Z"
   },
   {
    "duration": 41,
    "start_time": "2023-07-30T11:41:16.408Z"
   },
   {
    "duration": 39,
    "start_time": "2023-07-30T11:41:16.461Z"
   },
   {
    "duration": 16,
    "start_time": "2023-07-30T11:41:16.502Z"
   },
   {
    "duration": 56,
    "start_time": "2023-07-30T11:41:16.521Z"
   },
   {
    "duration": 75,
    "start_time": "2023-07-30T11:41:16.579Z"
   },
   {
    "duration": 49,
    "start_time": "2023-07-30T11:41:16.657Z"
   },
   {
    "duration": 7,
    "start_time": "2023-07-30T11:42:08.692Z"
   },
   {
    "duration": 1377,
    "start_time": "2023-07-30T11:43:36.942Z"
   },
   {
    "duration": 29,
    "start_time": "2023-07-30T11:45:26.070Z"
   },
   {
    "duration": 97,
    "start_time": "2023-07-30T11:45:36.418Z"
   },
   {
    "duration": 11,
    "start_time": "2023-07-30T11:46:51.294Z"
   },
   {
    "duration": 12,
    "start_time": "2023-07-30T11:47:53.836Z"
   },
   {
    "duration": 7,
    "start_time": "2023-07-30T11:47:54.312Z"
   },
   {
    "duration": 15,
    "start_time": "2023-07-30T11:48:14.490Z"
   },
   {
    "duration": 8,
    "start_time": "2023-07-30T11:48:34.478Z"
   },
   {
    "duration": 173,
    "start_time": "2023-07-30T11:48:34.489Z"
   },
   {
    "duration": 26,
    "start_time": "2023-07-30T11:48:34.671Z"
   },
   {
    "duration": 12,
    "start_time": "2023-07-30T11:48:34.699Z"
   },
   {
    "duration": 32,
    "start_time": "2023-07-30T11:48:34.715Z"
   },
   {
    "duration": 61,
    "start_time": "2023-07-30T11:48:34.752Z"
   },
   {
    "duration": 18,
    "start_time": "2023-07-30T11:48:34.815Z"
   },
   {
    "duration": 71,
    "start_time": "2023-07-30T11:48:34.838Z"
   },
   {
    "duration": 31,
    "start_time": "2023-07-30T11:48:34.912Z"
   },
   {
    "duration": 65,
    "start_time": "2023-07-30T11:48:34.952Z"
   },
   {
    "duration": 95,
    "start_time": "2023-07-30T11:48:35.019Z"
   },
   {
    "duration": 154,
    "start_time": "2023-07-30T11:48:35.118Z"
   },
   {
    "duration": 103,
    "start_time": "2023-07-30T11:48:35.273Z"
   },
   {
    "duration": 24,
    "start_time": "2023-07-30T11:48:35.380Z"
   },
   {
    "duration": 46,
    "start_time": "2023-07-30T11:48:35.406Z"
   },
   {
    "duration": 15,
    "start_time": "2023-07-30T11:48:47.292Z"
   },
   {
    "duration": 29,
    "start_time": "2023-07-30T11:48:58.308Z"
   },
   {
    "duration": 10,
    "start_time": "2023-07-30T11:49:00.279Z"
   },
   {
    "duration": 298,
    "start_time": "2023-07-30T11:49:00.295Z"
   },
   {
    "duration": 18,
    "start_time": "2023-07-30T11:49:00.595Z"
   },
   {
    "duration": 84,
    "start_time": "2023-07-30T11:49:00.615Z"
   },
   {
    "duration": 99,
    "start_time": "2023-07-30T11:49:00.702Z"
   },
   {
    "duration": 109,
    "start_time": "2023-07-30T11:49:00.803Z"
   },
   {
    "duration": 82,
    "start_time": "2023-07-30T11:49:00.914Z"
   },
   {
    "duration": 76,
    "start_time": "2023-07-30T11:49:00.998Z"
   },
   {
    "duration": 66,
    "start_time": "2023-07-30T11:49:01.078Z"
   },
   {
    "duration": 110,
    "start_time": "2023-07-30T11:49:01.151Z"
   },
   {
    "duration": 43,
    "start_time": "2023-07-30T11:49:01.268Z"
   },
   {
    "duration": 101,
    "start_time": "2023-07-30T11:49:01.312Z"
   },
   {
    "duration": 134,
    "start_time": "2023-07-30T11:49:01.415Z"
   },
   {
    "duration": 95,
    "start_time": "2023-07-30T11:49:01.554Z"
   },
   {
    "duration": 111,
    "start_time": "2023-07-30T11:49:01.655Z"
   },
   {
    "duration": 11,
    "start_time": "2023-07-30T11:49:23.138Z"
   },
   {
    "duration": 8,
    "start_time": "2023-07-30T11:49:35.391Z"
   },
   {
    "duration": 11,
    "start_time": "2023-07-30T11:49:40.758Z"
   },
   {
    "duration": 7,
    "start_time": "2023-07-30T11:49:47.182Z"
   },
   {
    "duration": 5,
    "start_time": "2023-07-30T11:50:07.795Z"
   },
   {
    "duration": 7,
    "start_time": "2023-07-30T11:52:58.038Z"
   },
   {
    "duration": 79,
    "start_time": "2023-07-30T11:56:58.590Z"
   },
   {
    "duration": 7,
    "start_time": "2023-07-30T11:57:16.247Z"
   },
   {
    "duration": 543,
    "start_time": "2023-07-30T11:57:16.256Z"
   },
   {
    "duration": 41,
    "start_time": "2023-07-30T11:57:16.806Z"
   },
   {
    "duration": 151,
    "start_time": "2023-07-30T11:57:16.857Z"
   },
   {
    "duration": 79,
    "start_time": "2023-07-30T11:57:17.009Z"
   },
   {
    "duration": 47,
    "start_time": "2023-07-30T11:57:17.090Z"
   },
   {
    "duration": 114,
    "start_time": "2023-07-30T11:57:17.143Z"
   },
   {
    "duration": 60,
    "start_time": "2023-07-30T11:57:17.266Z"
   },
   {
    "duration": 114,
    "start_time": "2023-07-30T11:57:17.331Z"
   },
   {
    "duration": 69,
    "start_time": "2023-07-30T11:57:17.449Z"
   },
   {
    "duration": 66,
    "start_time": "2023-07-30T11:57:17.530Z"
   },
   {
    "duration": 60,
    "start_time": "2023-07-30T11:57:17.597Z"
   },
   {
    "duration": 82,
    "start_time": "2023-07-30T11:57:17.659Z"
   },
   {
    "duration": 76,
    "start_time": "2023-07-30T11:57:17.745Z"
   },
   {
    "duration": 124,
    "start_time": "2023-07-30T11:57:17.823Z"
   },
   {
    "duration": 97,
    "start_time": "2023-07-30T11:57:17.951Z"
   },
   {
    "duration": 16,
    "start_time": "2023-07-30T12:01:18.198Z"
   },
   {
    "duration": 27,
    "start_time": "2023-07-30T12:02:05.690Z"
   },
   {
    "duration": 31,
    "start_time": "2023-07-30T12:02:20.462Z"
   },
   {
    "duration": 126,
    "start_time": "2023-07-30T12:05:54.083Z"
   },
   {
    "duration": 9,
    "start_time": "2023-07-30T12:06:33.772Z"
   },
   {
    "duration": 49,
    "start_time": "2023-07-30T12:09:03.148Z"
   },
   {
    "duration": 22,
    "start_time": "2023-07-30T12:09:08.498Z"
   },
   {
    "duration": 51,
    "start_time": "2023-07-30T12:09:14.138Z"
   },
   {
    "duration": 2039,
    "start_time": "2023-07-30T12:09:23.642Z"
   },
   {
    "duration": 2182,
    "start_time": "2023-07-30T12:09:35.916Z"
   },
   {
    "duration": 55,
    "start_time": "2023-07-30T12:14:02.386Z"
   },
   {
    "duration": 63938,
    "start_time": "2023-07-30T12:14:20.643Z"
   },
   {
    "duration": 66035,
    "start_time": "2023-07-30T12:15:52.662Z"
   },
   {
    "duration": 480,
    "start_time": "2023-07-30T12:16:58.703Z"
   },
   {
    "duration": 159,
    "start_time": "2023-07-30T12:19:10.762Z"
   },
   {
    "duration": 7,
    "start_time": "2023-07-30T12:22:32.838Z"
   },
   {
    "duration": 1578,
    "start_time": "2023-07-30T12:22:38.063Z"
   },
   {
    "duration": 1697,
    "start_time": "2023-07-30T12:30:17.881Z"
   },
   {
    "duration": 38,
    "start_time": "2023-07-30T12:35:19.243Z"
   },
   {
    "duration": 4,
    "start_time": "2023-07-30T12:37:48.675Z"
   },
   {
    "duration": 1603,
    "start_time": "2023-07-30T12:37:54.042Z"
   },
   {
    "duration": 1741,
    "start_time": "2023-07-30T12:39:31.456Z"
   },
   {
    "duration": 51836,
    "start_time": "2023-07-30T12:40:44.367Z"
   },
   {
    "duration": 107,
    "start_time": "2023-07-30T12:43:45.251Z"
   },
   {
    "duration": 3,
    "start_time": "2023-07-30T12:47:06.401Z"
   },
   {
    "duration": 16,
    "start_time": "2023-07-30T12:48:14.051Z"
   },
   {
    "duration": 2582,
    "start_time": "2023-07-30T12:50:15.090Z"
   },
   {
    "duration": 95430,
    "start_time": "2023-07-30T12:51:42.497Z"
   },
   {
    "duration": 125,
    "start_time": "2023-07-30T12:54:11.616Z"
   },
   {
    "duration": 12,
    "start_time": "2023-07-30T12:56:40.174Z"
   },
   {
    "duration": 746,
    "start_time": "2023-07-30T12:57:46.504Z"
   },
   {
    "duration": 25217,
    "start_time": "2023-07-30T12:58:38.344Z"
   },
   {
    "duration": 18,
    "start_time": "2023-07-30T12:59:19.201Z"
   },
   {
    "duration": 114,
    "start_time": "2023-07-30T13:06:40.266Z"
   },
   {
    "duration": 187,
    "start_time": "2023-07-30T13:21:30.759Z"
   },
   {
    "duration": 187,
    "start_time": "2023-07-30T13:22:05.431Z"
   },
   {
    "duration": 117,
    "start_time": "2023-07-30T13:23:41.989Z"
   },
   {
    "duration": 5,
    "start_time": "2023-07-30T13:23:58.213Z"
   },
   {
    "duration": 250,
    "start_time": "2023-07-30T13:26:54.100Z"
   },
   {
    "duration": 866,
    "start_time": "2023-07-30T13:28:24.463Z"
   },
   {
    "duration": 177,
    "start_time": "2023-07-30T13:28:56.282Z"
   },
   {
    "duration": 11102,
    "start_time": "2023-07-30T13:31:04.575Z"
   },
   {
    "duration": 77428,
    "start_time": "2023-07-30T13:31:59.080Z"
   },
   {
    "duration": 815,
    "start_time": "2023-07-30T13:33:38.556Z"
   },
   {
    "duration": 40479,
    "start_time": "2023-07-30T13:34:02.807Z"
   },
   {
    "duration": 650,
    "start_time": "2023-07-30T13:34:49.846Z"
   },
   {
    "duration": 4,
    "start_time": "2023-07-30T13:41:35.001Z"
   },
   {
    "duration": 234,
    "start_time": "2023-07-30T13:41:35.007Z"
   },
   {
    "duration": 16,
    "start_time": "2023-07-30T13:41:35.243Z"
   },
   {
    "duration": 37,
    "start_time": "2023-07-30T13:41:35.261Z"
   },
   {
    "duration": 4,
    "start_time": "2023-07-30T13:41:35.301Z"
   },
   {
    "duration": 50,
    "start_time": "2023-07-30T13:41:35.307Z"
   },
   {
    "duration": 31,
    "start_time": "2023-07-30T13:41:35.358Z"
   },
   {
    "duration": 74,
    "start_time": "2023-07-30T13:41:35.391Z"
   },
   {
    "duration": 38,
    "start_time": "2023-07-30T13:41:35.466Z"
   },
   {
    "duration": 21,
    "start_time": "2023-07-30T13:41:35.506Z"
   },
   {
    "duration": 12,
    "start_time": "2023-07-30T13:41:35.528Z"
   },
   {
    "duration": 66,
    "start_time": "2023-07-30T13:41:35.542Z"
   },
   {
    "duration": 6,
    "start_time": "2023-07-30T13:41:35.610Z"
   },
   {
    "duration": 58,
    "start_time": "2023-07-30T13:41:35.620Z"
   },
   {
    "duration": 14,
    "start_time": "2023-07-30T13:41:35.680Z"
   },
   {
    "duration": 41,
    "start_time": "2023-07-30T13:41:35.696Z"
   },
   {
    "duration": 43,
    "start_time": "2023-07-30T13:41:35.738Z"
   },
   {
    "duration": 15,
    "start_time": "2023-07-30T13:41:35.783Z"
   },
   {
    "duration": 12,
    "start_time": "2023-07-30T13:41:35.800Z"
   },
   {
    "duration": 1605,
    "start_time": "2023-07-30T13:41:35.813Z"
   },
   {
    "duration": 49623,
    "start_time": "2023-07-30T13:41:37.422Z"
   },
   {
    "duration": 52,
    "start_time": "2023-07-30T13:42:27.047Z"
   },
   {
    "duration": 1795,
    "start_time": "2023-07-30T13:42:27.143Z"
   },
   {
    "duration": 52938,
    "start_time": "2023-07-30T13:42:28.939Z"
   },
   {
    "duration": 49,
    "start_time": "2023-07-30T13:43:21.878Z"
   },
   {
    "duration": 18,
    "start_time": "2023-07-30T13:43:21.929Z"
   },
   {
    "duration": 3152,
    "start_time": "2023-07-30T13:43:21.952Z"
   },
   {
    "duration": 89901,
    "start_time": "2023-07-30T13:43:25.106Z"
   },
   {
    "duration": 84,
    "start_time": "2023-07-30T13:44:55.008Z"
   },
   {
    "duration": 94,
    "start_time": "2023-07-30T13:44:55.143Z"
   },
   {
    "duration": 716,
    "start_time": "2023-07-30T13:44:55.244Z"
   },
   {
    "duration": 22139,
    "start_time": "2023-07-30T13:44:55.961Z"
   },
   {
    "duration": 70,
    "start_time": "2023-07-30T13:45:18.101Z"
   },
   {
    "duration": 220,
    "start_time": "2023-07-30T13:45:18.232Z"
   },
   {
    "duration": 41723,
    "start_time": "2023-07-30T13:45:18.466Z"
   },
   {
    "duration": 703,
    "start_time": "2023-07-30T13:46:00.190Z"
   },
   {
    "duration": 2896,
    "start_time": "2023-07-30T14:05:55.050Z"
   },
   {
    "duration": 120,
    "start_time": "2023-07-30T14:05:57.948Z"
   },
   {
    "duration": 19,
    "start_time": "2023-07-30T14:05:58.074Z"
   },
   {
    "duration": 17,
    "start_time": "2023-07-30T14:05:58.098Z"
   },
   {
    "duration": 4,
    "start_time": "2023-07-30T14:05:58.117Z"
   },
   {
    "duration": 14,
    "start_time": "2023-07-30T14:05:58.123Z"
   },
   {
    "duration": 4,
    "start_time": "2023-07-30T14:05:58.139Z"
   },
   {
    "duration": 46,
    "start_time": "2023-07-30T14:05:58.145Z"
   },
   {
    "duration": 43,
    "start_time": "2023-07-30T14:05:58.193Z"
   },
   {
    "duration": 11,
    "start_time": "2023-07-30T14:05:58.237Z"
   },
   {
    "duration": 62,
    "start_time": "2023-07-30T14:05:58.250Z"
   },
   {
    "duration": 31,
    "start_time": "2023-07-30T14:05:58.315Z"
   },
   {
    "duration": 48,
    "start_time": "2023-07-30T14:05:58.348Z"
   },
   {
    "duration": 22,
    "start_time": "2023-07-30T14:05:58.400Z"
   },
   {
    "duration": 149,
    "start_time": "2023-07-30T14:05:58.424Z"
   },
   {
    "duration": 0,
    "start_time": "2023-07-30T14:05:58.575Z"
   },
   {
    "duration": 0,
    "start_time": "2023-07-30T14:05:58.576Z"
   },
   {
    "duration": 0,
    "start_time": "2023-07-30T14:05:58.576Z"
   },
   {
    "duration": 0,
    "start_time": "2023-07-30T14:05:58.577Z"
   },
   {
    "duration": 0,
    "start_time": "2023-07-30T14:05:58.578Z"
   },
   {
    "duration": 0,
    "start_time": "2023-07-30T14:05:58.579Z"
   },
   {
    "duration": 0,
    "start_time": "2023-07-30T14:05:58.579Z"
   },
   {
    "duration": 0,
    "start_time": "2023-07-30T14:05:58.580Z"
   },
   {
    "duration": 0,
    "start_time": "2023-07-30T14:05:58.583Z"
   },
   {
    "duration": 0,
    "start_time": "2023-07-30T14:05:58.587Z"
   },
   {
    "duration": 0,
    "start_time": "2023-07-30T14:05:58.589Z"
   },
   {
    "duration": 0,
    "start_time": "2023-07-30T14:05:58.590Z"
   },
   {
    "duration": 0,
    "start_time": "2023-07-30T14:05:58.591Z"
   },
   {
    "duration": 0,
    "start_time": "2023-07-30T14:05:58.593Z"
   },
   {
    "duration": 0,
    "start_time": "2023-07-30T14:05:58.594Z"
   },
   {
    "duration": 0,
    "start_time": "2023-07-30T14:05:58.595Z"
   },
   {
    "duration": 0,
    "start_time": "2023-07-30T14:05:58.596Z"
   },
   {
    "duration": 0,
    "start_time": "2023-07-30T14:05:58.597Z"
   },
   {
    "duration": 0,
    "start_time": "2023-07-30T14:05:58.602Z"
   },
   {
    "duration": 0,
    "start_time": "2023-07-30T14:05:58.602Z"
   },
   {
    "duration": 0,
    "start_time": "2023-07-30T14:05:58.603Z"
   },
   {
    "duration": 13,
    "start_time": "2023-07-30T14:06:25.290Z"
   },
   {
    "duration": 6,
    "start_time": "2023-07-30T14:06:29.702Z"
   },
   {
    "duration": 36,
    "start_time": "2023-07-30T14:06:29.710Z"
   },
   {
    "duration": 23,
    "start_time": "2023-07-30T14:06:29.748Z"
   },
   {
    "duration": 53,
    "start_time": "2023-07-30T14:06:29.773Z"
   },
   {
    "duration": 18,
    "start_time": "2023-07-30T14:06:29.829Z"
   },
   {
    "duration": 1708,
    "start_time": "2023-07-30T14:06:29.849Z"
   },
   {
    "duration": 51248,
    "start_time": "2023-07-30T14:06:31.562Z"
   },
   {
    "duration": 55,
    "start_time": "2023-07-30T14:07:22.812Z"
   },
   {
    "duration": 1750,
    "start_time": "2023-07-30T14:07:22.869Z"
   },
   {
    "duration": 53407,
    "start_time": "2023-07-30T14:07:24.621Z"
   },
   {
    "duration": 148,
    "start_time": "2023-07-30T14:08:18.031Z"
   },
   {
    "duration": 102,
    "start_time": "2023-07-30T14:08:18.181Z"
   },
   {
    "duration": 2810,
    "start_time": "2023-07-30T14:08:18.287Z"
   },
   {
    "duration": 96891,
    "start_time": "2023-07-30T14:08:21.102Z"
   },
   {
    "duration": 81,
    "start_time": "2023-07-30T14:09:58.002Z"
   },
   {
    "duration": 25,
    "start_time": "2023-07-30T14:09:58.171Z"
   },
   {
    "duration": 693,
    "start_time": "2023-07-30T14:09:58.198Z"
   },
   {
    "duration": 24576,
    "start_time": "2023-07-30T14:09:58.895Z"
   },
   {
    "duration": 82,
    "start_time": "2023-07-30T14:10:23.474Z"
   },
   {
    "duration": 313,
    "start_time": "2023-07-30T14:10:23.560Z"
   },
   {
    "duration": 46065,
    "start_time": "2023-07-30T14:10:23.875Z"
   },
   {
    "duration": 701,
    "start_time": "2023-07-30T14:11:09.942Z"
   },
   {
    "duration": 5,
    "start_time": "2023-07-30T15:41:33.336Z"
   },
   {
    "duration": 125,
    "start_time": "2023-07-30T15:43:25.390Z"
   },
   {
    "duration": 4,
    "start_time": "2023-07-30T15:45:09.569Z"
   },
   {
    "duration": 186,
    "start_time": "2023-07-30T15:45:09.574Z"
   },
   {
    "duration": 10,
    "start_time": "2023-07-30T15:45:09.762Z"
   },
   {
    "duration": 12,
    "start_time": "2023-07-30T15:45:09.774Z"
   },
   {
    "duration": 3,
    "start_time": "2023-07-30T15:45:09.789Z"
   },
   {
    "duration": 8,
    "start_time": "2023-07-30T15:45:09.793Z"
   },
   {
    "duration": 12,
    "start_time": "2023-07-30T15:45:09.802Z"
   },
   {
    "duration": 14,
    "start_time": "2023-07-30T15:45:09.816Z"
   },
   {
    "duration": 16,
    "start_time": "2023-07-30T15:45:09.834Z"
   },
   {
    "duration": 19,
    "start_time": "2023-07-30T15:45:09.851Z"
   },
   {
    "duration": 15,
    "start_time": "2023-07-30T15:45:09.872Z"
   },
   {
    "duration": 5,
    "start_time": "2023-07-30T15:45:09.889Z"
   },
   {
    "duration": 21,
    "start_time": "2023-07-30T15:45:09.896Z"
   },
   {
    "duration": 15,
    "start_time": "2023-07-30T15:45:09.919Z"
   },
   {
    "duration": 22,
    "start_time": "2023-07-30T15:45:09.936Z"
   },
   {
    "duration": 19,
    "start_time": "2023-07-30T15:45:09.959Z"
   },
   {
    "duration": 33,
    "start_time": "2023-07-30T15:45:09.979Z"
   },
   {
    "duration": 15,
    "start_time": "2023-07-30T15:45:10.014Z"
   },
   {
    "duration": 41,
    "start_time": "2023-07-30T15:45:10.030Z"
   },
   {
    "duration": 34,
    "start_time": "2023-07-30T15:45:10.073Z"
   },
   {
    "duration": 1462,
    "start_time": "2023-07-30T15:45:10.108Z"
   },
   {
    "duration": 18532,
    "start_time": "2023-07-30T15:45:11.572Z"
   },
   {
    "duration": 0,
    "start_time": "2023-07-30T15:45:30.105Z"
   },
   {
    "duration": 0,
    "start_time": "2023-07-30T15:45:30.107Z"
   },
   {
    "duration": 0,
    "start_time": "2023-07-30T15:45:30.108Z"
   },
   {
    "duration": 0,
    "start_time": "2023-07-30T15:45:30.109Z"
   },
   {
    "duration": 0,
    "start_time": "2023-07-30T15:45:30.130Z"
   },
   {
    "duration": 0,
    "start_time": "2023-07-30T15:45:30.130Z"
   },
   {
    "duration": 0,
    "start_time": "2023-07-30T15:45:30.132Z"
   },
   {
    "duration": 0,
    "start_time": "2023-07-30T15:45:30.134Z"
   },
   {
    "duration": 0,
    "start_time": "2023-07-30T15:45:30.135Z"
   },
   {
    "duration": 0,
    "start_time": "2023-07-30T15:45:30.137Z"
   },
   {
    "duration": 0,
    "start_time": "2023-07-30T15:45:30.138Z"
   },
   {
    "duration": 0,
    "start_time": "2023-07-30T15:45:30.139Z"
   },
   {
    "duration": 0,
    "start_time": "2023-07-30T15:45:30.140Z"
   },
   {
    "duration": 0,
    "start_time": "2023-07-30T15:45:30.142Z"
   },
   {
    "duration": 0,
    "start_time": "2023-07-30T15:45:30.143Z"
   },
   {
    "duration": 0,
    "start_time": "2023-07-30T15:45:30.144Z"
   },
   {
    "duration": 3102,
    "start_time": "2023-07-30T15:46:00.508Z"
   },
   {
    "duration": 3,
    "start_time": "2023-07-30T15:46:12.853Z"
   },
   {
    "duration": 85,
    "start_time": "2023-07-30T15:46:13.431Z"
   },
   {
    "duration": 10,
    "start_time": "2023-07-30T15:46:16.566Z"
   },
   {
    "duration": 6,
    "start_time": "2023-07-30T15:46:21.317Z"
   },
   {
    "duration": 6,
    "start_time": "2023-07-30T15:52:06.251Z"
   },
   {
    "duration": 26,
    "start_time": "2023-07-30T15:52:15.420Z"
   },
   {
    "duration": 4,
    "start_time": "2023-07-30T15:52:22.632Z"
   },
   {
    "duration": 93,
    "start_time": "2023-07-30T15:52:22.638Z"
   },
   {
    "duration": 10,
    "start_time": "2023-07-30T15:52:22.732Z"
   },
   {
    "duration": 7,
    "start_time": "2023-07-30T15:52:22.743Z"
   },
   {
    "duration": 12,
    "start_time": "2023-07-30T15:52:22.752Z"
   },
   {
    "duration": 11,
    "start_time": "2023-07-30T15:52:22.766Z"
   },
   {
    "duration": 12,
    "start_time": "2023-07-30T15:52:22.778Z"
   },
   {
    "duration": 7,
    "start_time": "2023-07-30T15:52:22.791Z"
   },
   {
    "duration": 14,
    "start_time": "2023-07-30T15:52:22.799Z"
   },
   {
    "duration": 31,
    "start_time": "2023-07-30T15:52:22.814Z"
   },
   {
    "duration": 26,
    "start_time": "2023-07-30T15:52:22.846Z"
   },
   {
    "duration": 11,
    "start_time": "2023-07-30T15:52:22.874Z"
   },
   {
    "duration": 17,
    "start_time": "2023-07-30T15:52:22.886Z"
   },
   {
    "duration": 43,
    "start_time": "2023-07-30T15:52:22.905Z"
   },
   {
    "duration": 19,
    "start_time": "2023-07-30T15:52:22.949Z"
   },
   {
    "duration": 4,
    "start_time": "2023-07-30T15:52:22.969Z"
   },
   {
    "duration": 11,
    "start_time": "2023-07-30T15:52:22.975Z"
   },
   {
    "duration": 13,
    "start_time": "2023-07-30T15:52:22.987Z"
   },
   {
    "duration": 27,
    "start_time": "2023-07-30T15:52:23.002Z"
   },
   {
    "duration": 10,
    "start_time": "2023-07-30T15:52:23.030Z"
   },
   {
    "duration": 21,
    "start_time": "2023-07-30T15:52:23.042Z"
   },
   {
    "duration": 22,
    "start_time": "2023-07-30T15:52:23.064Z"
   },
   {
    "duration": 1318,
    "start_time": "2023-07-30T15:52:23.087Z"
   },
   {
    "duration": 40878,
    "start_time": "2023-07-30T15:52:24.406Z"
   },
   {
    "duration": 48,
    "start_time": "2023-07-30T15:53:05.286Z"
   },
   {
    "duration": 632,
    "start_time": "2023-07-30T15:53:05.338Z"
   },
   {
    "duration": 1356,
    "start_time": "2023-07-30T15:53:05.971Z"
   },
   {
    "duration": 42246,
    "start_time": "2023-07-30T15:53:07.338Z"
   },
   {
    "duration": 60,
    "start_time": "2023-07-30T15:53:49.586Z"
   },
   {
    "duration": 92,
    "start_time": "2023-07-30T15:53:49.648Z"
   },
   {
    "duration": 1802,
    "start_time": "2023-07-30T15:53:49.741Z"
   },
   {
    "duration": 55648,
    "start_time": "2023-07-30T15:53:51.545Z"
   },
   {
    "duration": 48,
    "start_time": "2023-07-30T15:54:47.195Z"
   },
   {
    "duration": 11,
    "start_time": "2023-07-30T15:54:47.244Z"
   },
   {
    "duration": 788,
    "start_time": "2023-07-30T15:54:47.256Z"
   },
   {
    "duration": 23845,
    "start_time": "2023-07-30T15:54:48.046Z"
   },
   {
    "duration": 134,
    "start_time": "2023-07-30T15:55:11.892Z"
   },
   {
    "duration": 268,
    "start_time": "2023-07-30T15:55:12.028Z"
   },
   {
    "duration": 37019,
    "start_time": "2023-07-30T15:55:12.297Z"
   },
   {
    "duration": 584,
    "start_time": "2023-07-30T15:55:49.330Z"
   },
   {
    "duration": 4,
    "start_time": "2023-07-30T15:59:53.102Z"
   },
   {
    "duration": 128,
    "start_time": "2023-07-30T15:59:53.108Z"
   },
   {
    "duration": 13,
    "start_time": "2023-07-30T15:59:53.238Z"
   },
   {
    "duration": 6,
    "start_time": "2023-07-30T15:59:53.252Z"
   },
   {
    "duration": 15,
    "start_time": "2023-07-30T15:59:53.259Z"
   },
   {
    "duration": 17,
    "start_time": "2023-07-30T15:59:53.275Z"
   },
   {
    "duration": 12,
    "start_time": "2023-07-30T15:59:53.293Z"
   },
   {
    "duration": 34,
    "start_time": "2023-07-30T15:59:53.307Z"
   },
   {
    "duration": 34,
    "start_time": "2023-07-30T15:59:53.342Z"
   },
   {
    "duration": 20,
    "start_time": "2023-07-30T15:59:53.377Z"
   },
   {
    "duration": 34,
    "start_time": "2023-07-30T15:59:53.399Z"
   },
   {
    "duration": 219,
    "start_time": "2023-07-30T15:59:53.435Z"
   },
   {
    "duration": 13,
    "start_time": "2023-07-30T15:59:53.656Z"
   },
   {
    "duration": 7,
    "start_time": "2023-07-30T15:59:53.672Z"
   },
   {
    "duration": 22,
    "start_time": "2023-07-30T15:59:53.680Z"
   },
   {
    "duration": 8,
    "start_time": "2023-07-30T15:59:53.704Z"
   },
   {
    "duration": 15,
    "start_time": "2023-07-30T15:59:53.714Z"
   },
   {
    "duration": 17,
    "start_time": "2023-07-30T15:59:53.731Z"
   },
   {
    "duration": 26,
    "start_time": "2023-07-30T15:59:53.750Z"
   },
   {
    "duration": 9,
    "start_time": "2023-07-30T15:59:53.778Z"
   },
   {
    "duration": 47,
    "start_time": "2023-07-30T15:59:53.789Z"
   },
   {
    "duration": 20,
    "start_time": "2023-07-30T15:59:53.837Z"
   },
   {
    "duration": 1406,
    "start_time": "2023-07-30T15:59:53.858Z"
   },
   {
    "duration": 6603,
    "start_time": "2023-07-30T15:59:55.266Z"
   },
   {
    "duration": 0,
    "start_time": "2023-07-30T16:00:01.871Z"
   },
   {
    "duration": 0,
    "start_time": "2023-07-30T16:00:01.872Z"
   },
   {
    "duration": 0,
    "start_time": "2023-07-30T16:00:01.873Z"
   },
   {
    "duration": 0,
    "start_time": "2023-07-30T16:00:01.874Z"
   },
   {
    "duration": 0,
    "start_time": "2023-07-30T16:00:01.875Z"
   },
   {
    "duration": 0,
    "start_time": "2023-07-30T16:00:01.876Z"
   },
   {
    "duration": 0,
    "start_time": "2023-07-30T16:00:01.876Z"
   },
   {
    "duration": 0,
    "start_time": "2023-07-30T16:00:01.877Z"
   },
   {
    "duration": 0,
    "start_time": "2023-07-30T16:00:01.878Z"
   },
   {
    "duration": 0,
    "start_time": "2023-07-30T16:00:01.879Z"
   },
   {
    "duration": 0,
    "start_time": "2023-07-30T16:00:01.880Z"
   },
   {
    "duration": 0,
    "start_time": "2023-07-30T16:00:01.881Z"
   },
   {
    "duration": 0,
    "start_time": "2023-07-30T16:00:01.881Z"
   },
   {
    "duration": 0,
    "start_time": "2023-07-30T16:00:01.882Z"
   },
   {
    "duration": 0,
    "start_time": "2023-07-30T16:00:01.883Z"
   },
   {
    "duration": 0,
    "start_time": "2023-07-30T16:00:01.884Z"
   },
   {
    "duration": 3,
    "start_time": "2023-07-30T16:00:23.540Z"
   },
   {
    "duration": 69,
    "start_time": "2023-07-30T16:00:23.545Z"
   },
   {
    "duration": 17,
    "start_time": "2023-07-30T16:00:23.616Z"
   },
   {
    "duration": 14,
    "start_time": "2023-07-30T16:00:23.636Z"
   },
   {
    "duration": 8,
    "start_time": "2023-07-30T16:00:23.653Z"
   },
   {
    "duration": 4,
    "start_time": "2023-07-30T16:00:23.663Z"
   },
   {
    "duration": 6,
    "start_time": "2023-07-30T16:00:23.669Z"
   },
   {
    "duration": 7,
    "start_time": "2023-07-30T16:00:23.676Z"
   },
   {
    "duration": 12,
    "start_time": "2023-07-30T16:00:23.684Z"
   },
   {
    "duration": 5,
    "start_time": "2023-07-30T16:00:23.697Z"
   },
   {
    "duration": 15,
    "start_time": "2023-07-30T16:00:23.720Z"
   },
   {
    "duration": 18,
    "start_time": "2023-07-30T16:00:23.737Z"
   },
   {
    "duration": 5,
    "start_time": "2023-07-30T16:00:23.758Z"
   },
   {
    "duration": 7,
    "start_time": "2023-07-30T16:00:23.764Z"
   },
   {
    "duration": 21,
    "start_time": "2023-07-30T16:00:23.773Z"
   },
   {
    "duration": 29,
    "start_time": "2023-07-30T16:00:23.796Z"
   },
   {
    "duration": 7,
    "start_time": "2023-07-30T16:00:23.826Z"
   },
   {
    "duration": 16,
    "start_time": "2023-07-30T16:00:23.835Z"
   },
   {
    "duration": 33,
    "start_time": "2023-07-30T16:00:23.853Z"
   },
   {
    "duration": 10,
    "start_time": "2023-07-30T16:00:23.888Z"
   },
   {
    "duration": 33,
    "start_time": "2023-07-30T16:00:23.899Z"
   },
   {
    "duration": 13,
    "start_time": "2023-07-30T16:00:23.934Z"
   },
   {
    "duration": 1445,
    "start_time": "2023-07-30T16:00:23.949Z"
   },
   {
    "duration": 43452,
    "start_time": "2023-07-30T16:00:25.397Z"
   },
   {
    "duration": 18,
    "start_time": "2023-07-30T16:01:08.851Z"
   },
   {
    "duration": 183,
    "start_time": "2023-07-30T16:01:08.919Z"
   },
   {
    "duration": 1507,
    "start_time": "2023-07-30T16:01:09.104Z"
   },
   {
    "duration": 44170,
    "start_time": "2023-07-30T16:01:10.613Z"
   },
   {
    "duration": 53,
    "start_time": "2023-07-30T16:01:54.784Z"
   },
   {
    "duration": 116,
    "start_time": "2023-07-30T16:01:54.919Z"
   },
   {
    "duration": 1763,
    "start_time": "2023-07-30T16:01:55.036Z"
   },
   {
    "duration": 58463,
    "start_time": "2023-07-30T16:01:56.800Z"
   },
   {
    "duration": 69,
    "start_time": "2023-07-30T16:02:55.265Z"
   },
   {
    "duration": 115,
    "start_time": "2023-07-30T16:02:55.338Z"
   },
   {
    "duration": 708,
    "start_time": "2023-07-30T16:02:55.455Z"
   },
   {
    "duration": 24846,
    "start_time": "2023-07-30T16:02:56.164Z"
   },
   {
    "duration": 113,
    "start_time": "2023-07-30T16:03:21.014Z"
   },
   {
    "duration": 250,
    "start_time": "2023-07-30T16:03:21.141Z"
   },
   {
    "duration": 37043,
    "start_time": "2023-07-30T16:03:21.393Z"
   },
   {
    "duration": 598,
    "start_time": "2023-07-30T16:03:58.438Z"
   },
   {
    "duration": 101,
    "start_time": "2023-07-30T16:04:54.495Z"
   }
  ],
  "kernelspec": {
   "display_name": "Python 3 (ipykernel)",
   "language": "python",
   "name": "python3"
  },
  "language_info": {
   "codemirror_mode": {
    "name": "ipython",
    "version": 3
   },
   "file_extension": ".py",
   "mimetype": "text/x-python",
   "name": "python",
   "nbconvert_exporter": "python",
   "pygments_lexer": "ipython3",
   "version": "3.9.5"
  },
  "toc": {
   "base_numbering": 1,
   "nav_menu": {},
   "number_sections": true,
   "sideBar": true,
   "skip_h1_title": true,
   "title_cell": "Содержание",
   "title_sidebar": "Contents",
   "toc_cell": true,
   "toc_position": {
    "height": "calc(100% - 180px)",
    "left": "10px",
    "top": "150px",
    "width": "294.237px"
   },
   "toc_section_display": true,
   "toc_window_display": true
  }
 },
 "nbformat": 4,
 "nbformat_minor": 2
}

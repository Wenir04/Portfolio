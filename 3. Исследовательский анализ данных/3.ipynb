{
 "cells": [
  {
   "cell_type": "markdown",
   "metadata": {},
   "source": [
    "# Исследование объявлений о продаже квартир\n",
    "\n",
    "В вашем распоряжении данные сервиса Яндекс.Недвижимость — архив объявлений о продаже квартир в Санкт-Петербурге и соседних населённых пунктов за несколько лет. Нужно научиться определять рыночную стоимость объектов недвижимости. Ваша задача — установить параметры. Это позволит построить автоматизированную систему: она отследит аномалии и мошенническую деятельность. \n",
    "\n",
    "По каждой квартире на продажу доступны два вида данных. Первые вписаны пользователем, вторые — получены автоматически на основе картографических данных. Например, расстояние до центра, аэропорта, ближайшего парка и водоёма. "
   ]
  },
  {
   "cell_type": "markdown",
   "metadata": {},
   "source": [
    "### Откройте файл с данными и изучите общую информацию. "
   ]
  },
  {
   "cell_type": "code",
   "execution_count": 1,
   "metadata": {
    "scrolled": false
   },
   "outputs": [
    {
     "data": {
      "text/html": [
       "<div>\n",
       "<style scoped>\n",
       "    .dataframe tbody tr th:only-of-type {\n",
       "        vertical-align: middle;\n",
       "    }\n",
       "\n",
       "    .dataframe tbody tr th {\n",
       "        vertical-align: top;\n",
       "    }\n",
       "\n",
       "    .dataframe thead th {\n",
       "        text-align: right;\n",
       "    }\n",
       "</style>\n",
       "<table border=\"1\" class=\"dataframe\">\n",
       "  <thead>\n",
       "    <tr style=\"text-align: right;\">\n",
       "      <th></th>\n",
       "      <th>total_images</th>\n",
       "      <th>last_price</th>\n",
       "      <th>total_area</th>\n",
       "      <th>first_day_exposition</th>\n",
       "      <th>rooms</th>\n",
       "      <th>ceiling_height</th>\n",
       "      <th>floors_total</th>\n",
       "      <th>living_area</th>\n",
       "      <th>floor</th>\n",
       "      <th>is_apartment</th>\n",
       "      <th>...</th>\n",
       "      <th>kitchen_area</th>\n",
       "      <th>balcony</th>\n",
       "      <th>locality_name</th>\n",
       "      <th>airports_nearest</th>\n",
       "      <th>cityCenters_nearest</th>\n",
       "      <th>parks_around3000</th>\n",
       "      <th>parks_nearest</th>\n",
       "      <th>ponds_around3000</th>\n",
       "      <th>ponds_nearest</th>\n",
       "      <th>days_exposition</th>\n",
       "    </tr>\n",
       "  </thead>\n",
       "  <tbody>\n",
       "    <tr>\n",
       "      <th>0</th>\n",
       "      <td>20</td>\n",
       "      <td>13000000.0</td>\n",
       "      <td>108.0</td>\n",
       "      <td>2019-03-07T00:00:00</td>\n",
       "      <td>3</td>\n",
       "      <td>2.70</td>\n",
       "      <td>16.0</td>\n",
       "      <td>51.0</td>\n",
       "      <td>8</td>\n",
       "      <td>NaN</td>\n",
       "      <td>...</td>\n",
       "      <td>25.0</td>\n",
       "      <td>NaN</td>\n",
       "      <td>Санкт-Петербург</td>\n",
       "      <td>18863.0</td>\n",
       "      <td>16028.0</td>\n",
       "      <td>1.0</td>\n",
       "      <td>482.0</td>\n",
       "      <td>2.0</td>\n",
       "      <td>755.0</td>\n",
       "      <td>NaN</td>\n",
       "    </tr>\n",
       "    <tr>\n",
       "      <th>1</th>\n",
       "      <td>7</td>\n",
       "      <td>3350000.0</td>\n",
       "      <td>40.4</td>\n",
       "      <td>2018-12-04T00:00:00</td>\n",
       "      <td>1</td>\n",
       "      <td>NaN</td>\n",
       "      <td>11.0</td>\n",
       "      <td>18.6</td>\n",
       "      <td>1</td>\n",
       "      <td>NaN</td>\n",
       "      <td>...</td>\n",
       "      <td>11.0</td>\n",
       "      <td>2.0</td>\n",
       "      <td>посёлок Шушары</td>\n",
       "      <td>12817.0</td>\n",
       "      <td>18603.0</td>\n",
       "      <td>0.0</td>\n",
       "      <td>NaN</td>\n",
       "      <td>0.0</td>\n",
       "      <td>NaN</td>\n",
       "      <td>81.0</td>\n",
       "    </tr>\n",
       "    <tr>\n",
       "      <th>2</th>\n",
       "      <td>10</td>\n",
       "      <td>5196000.0</td>\n",
       "      <td>56.0</td>\n",
       "      <td>2015-08-20T00:00:00</td>\n",
       "      <td>2</td>\n",
       "      <td>NaN</td>\n",
       "      <td>5.0</td>\n",
       "      <td>34.3</td>\n",
       "      <td>4</td>\n",
       "      <td>NaN</td>\n",
       "      <td>...</td>\n",
       "      <td>8.3</td>\n",
       "      <td>0.0</td>\n",
       "      <td>Санкт-Петербург</td>\n",
       "      <td>21741.0</td>\n",
       "      <td>13933.0</td>\n",
       "      <td>1.0</td>\n",
       "      <td>90.0</td>\n",
       "      <td>2.0</td>\n",
       "      <td>574.0</td>\n",
       "      <td>558.0</td>\n",
       "    </tr>\n",
       "    <tr>\n",
       "      <th>3</th>\n",
       "      <td>0</td>\n",
       "      <td>64900000.0</td>\n",
       "      <td>159.0</td>\n",
       "      <td>2015-07-24T00:00:00</td>\n",
       "      <td>3</td>\n",
       "      <td>NaN</td>\n",
       "      <td>14.0</td>\n",
       "      <td>NaN</td>\n",
       "      <td>9</td>\n",
       "      <td>NaN</td>\n",
       "      <td>...</td>\n",
       "      <td>NaN</td>\n",
       "      <td>0.0</td>\n",
       "      <td>Санкт-Петербург</td>\n",
       "      <td>28098.0</td>\n",
       "      <td>6800.0</td>\n",
       "      <td>2.0</td>\n",
       "      <td>84.0</td>\n",
       "      <td>3.0</td>\n",
       "      <td>234.0</td>\n",
       "      <td>424.0</td>\n",
       "    </tr>\n",
       "    <tr>\n",
       "      <th>4</th>\n",
       "      <td>2</td>\n",
       "      <td>10000000.0</td>\n",
       "      <td>100.0</td>\n",
       "      <td>2018-06-19T00:00:00</td>\n",
       "      <td>2</td>\n",
       "      <td>3.03</td>\n",
       "      <td>14.0</td>\n",
       "      <td>32.0</td>\n",
       "      <td>13</td>\n",
       "      <td>NaN</td>\n",
       "      <td>...</td>\n",
       "      <td>41.0</td>\n",
       "      <td>NaN</td>\n",
       "      <td>Санкт-Петербург</td>\n",
       "      <td>31856.0</td>\n",
       "      <td>8098.0</td>\n",
       "      <td>2.0</td>\n",
       "      <td>112.0</td>\n",
       "      <td>1.0</td>\n",
       "      <td>48.0</td>\n",
       "      <td>121.0</td>\n",
       "    </tr>\n",
       "  </tbody>\n",
       "</table>\n",
       "<p>5 rows × 22 columns</p>\n",
       "</div>"
      ],
      "text/plain": [
       "   total_images  last_price  total_area first_day_exposition  rooms  \\\n",
       "0            20  13000000.0       108.0  2019-03-07T00:00:00      3   \n",
       "1             7   3350000.0        40.4  2018-12-04T00:00:00      1   \n",
       "2            10   5196000.0        56.0  2015-08-20T00:00:00      2   \n",
       "3             0  64900000.0       159.0  2015-07-24T00:00:00      3   \n",
       "4             2  10000000.0       100.0  2018-06-19T00:00:00      2   \n",
       "\n",
       "   ceiling_height  floors_total  living_area  floor is_apartment  ...  \\\n",
       "0            2.70          16.0         51.0      8          NaN  ...   \n",
       "1             NaN          11.0         18.6      1          NaN  ...   \n",
       "2             NaN           5.0         34.3      4          NaN  ...   \n",
       "3             NaN          14.0          NaN      9          NaN  ...   \n",
       "4            3.03          14.0         32.0     13          NaN  ...   \n",
       "\n",
       "   kitchen_area  balcony    locality_name  airports_nearest  \\\n",
       "0          25.0      NaN  Санкт-Петербург           18863.0   \n",
       "1          11.0      2.0   посёлок Шушары           12817.0   \n",
       "2           8.3      0.0  Санкт-Петербург           21741.0   \n",
       "3           NaN      0.0  Санкт-Петербург           28098.0   \n",
       "4          41.0      NaN  Санкт-Петербург           31856.0   \n",
       "\n",
       "  cityCenters_nearest  parks_around3000  parks_nearest  ponds_around3000  \\\n",
       "0             16028.0               1.0          482.0               2.0   \n",
       "1             18603.0               0.0            NaN               0.0   \n",
       "2             13933.0               1.0           90.0               2.0   \n",
       "3              6800.0               2.0           84.0               3.0   \n",
       "4              8098.0               2.0          112.0               1.0   \n",
       "\n",
       "   ponds_nearest  days_exposition  \n",
       "0          755.0              NaN  \n",
       "1            NaN             81.0  \n",
       "2          574.0            558.0  \n",
       "3          234.0            424.0  \n",
       "4           48.0            121.0  \n",
       "\n",
       "[5 rows x 22 columns]"
      ]
     },
     "metadata": {},
     "output_type": "display_data"
    }
   ],
   "source": [
    "import pandas as pd\n",
    "data=pd.read_csv('/datasets/real_estate_data.csv',sep='\\t')\n",
    "display(data.head(5))"
   ]
  },
  {
   "cell_type": "code",
   "execution_count": 2,
   "metadata": {},
   "outputs": [
    {
     "data": {
      "text/plain": [
       "array([[<AxesSubplot:title={'center':'total_images'}>,\n",
       "        <AxesSubplot:title={'center':'last_price'}>,\n",
       "        <AxesSubplot:title={'center':'total_area'}>,\n",
       "        <AxesSubplot:title={'center':'rooms'}>],\n",
       "       [<AxesSubplot:title={'center':'ceiling_height'}>,\n",
       "        <AxesSubplot:title={'center':'floors_total'}>,\n",
       "        <AxesSubplot:title={'center':'living_area'}>,\n",
       "        <AxesSubplot:title={'center':'floor'}>],\n",
       "       [<AxesSubplot:title={'center':'kitchen_area'}>,\n",
       "        <AxesSubplot:title={'center':'balcony'}>,\n",
       "        <AxesSubplot:title={'center':'airports_nearest'}>,\n",
       "        <AxesSubplot:title={'center':'cityCenters_nearest'}>],\n",
       "       [<AxesSubplot:title={'center':'parks_around3000'}>,\n",
       "        <AxesSubplot:title={'center':'parks_nearest'}>,\n",
       "        <AxesSubplot:title={'center':'ponds_around3000'}>,\n",
       "        <AxesSubplot:title={'center':'ponds_nearest'}>],\n",
       "       [<AxesSubplot:title={'center':'days_exposition'}>, <AxesSubplot:>,\n",
       "        <AxesSubplot:>, <AxesSubplot:>]], dtype=object)"
      ]
     },
     "execution_count": 2,
     "metadata": {},
     "output_type": "execute_result"
    },
    {
     "data": {
      "image/png": "[encoded data removed]",
      "text/plain": [
       "<Figure size 1080x1440 with 20 Axes>"
      ]
     },
     "metadata": {
      "needs_background": "light"
     },
     "output_type": "display_data"
    }
   ],
   "source": [
    "data.hist(figsize=(15, 20))"
   ]
  },
  {
   "cell_type": "markdown",
   "metadata": {},
   "source": [
    "### Предобработка данных"
   ]
  },
  {
   "cell_type": "code",
   "execution_count": 3,
   "metadata": {},
   "outputs": [
    {
     "name": "stdout",
     "output_type": "stream",
     "text": [
      "<class 'pandas.core.frame.DataFrame'>\n",
      "RangeIndex: 23699 entries, 0 to 23698\n",
      "Data columns (total 22 columns):\n",
      " #   Column                Non-Null Count  Dtype  \n",
      "---  ------                --------------  -----  \n",
      " 0   total_images          23699 non-null  int64  \n",
      " 1   last_price            23699 non-null  float64\n",
      " 2   total_area            23699 non-null  float64\n",
      " 3   first_day_exposition  23699 non-null  object \n",
      " 4   rooms                 23699 non-null  int64  \n",
      " 5   ceiling_height        14504 non-null  float64\n",
      " 6   floors_total          23613 non-null  float64\n",
      " 7   living_area           21796 non-null  float64\n",
      " 8   floor                 23699 non-null  int64  \n",
      " 9   is_apartment          2775 non-null   object \n",
      " 10  studio                23699 non-null  bool   \n",
      " 11  open_plan             23699 non-null  bool   \n",
      " 12  kitchen_area          21421 non-null  float64\n",
      " 13  balcony               12180 non-null  float64\n",
      " 14  locality_name         23650 non-null  object \n",
      " 15  airports_nearest      18157 non-null  float64\n",
      " 16  cityCenters_nearest   18180 non-null  float64\n",
      " 17  parks_around3000      18181 non-null  float64\n",
      " 18  parks_nearest         8079 non-null   float64\n",
      " 19  ponds_around3000      18181 non-null  float64\n",
      " 20  ponds_nearest         9110 non-null   float64\n",
      " 21  days_exposition       20518 non-null  float64\n",
      "dtypes: bool(2), float64(14), int64(3), object(3)\n",
      "memory usage: 3.7+ MB\n"
     ]
    },
    {
     "data": {
      "text/plain": [
       "(23699, 22)"
      ]
     },
     "execution_count": 3,
     "metadata": {},
     "output_type": "execute_result"
    }
   ],
   "source": [
    "data.info()\n",
    "data.shape"
   ]
  },
  {
   "cell_type": "code",
   "execution_count": 4,
   "metadata": {
    "scrolled": true
   },
   "outputs": [
    {
     "data": {
      "text/plain": [
       "total_images                0\n",
       "last_price                  0\n",
       "total_area                  0\n",
       "first_day_exposition        0\n",
       "rooms                       0\n",
       "ceiling_height           9195\n",
       "floors_total               86\n",
       "living_area              1903\n",
       "floor                       0\n",
       "is_apartment            20924\n",
       "studio                      0\n",
       "open_plan                   0\n",
       "kitchen_area             2278\n",
       "balcony                 11519\n",
       "locality_name              49\n",
       "airports_nearest         5542\n",
       "cityCenters_nearest      5519\n",
       "parks_around3000         5518\n",
       "parks_nearest           15620\n",
       "ponds_around3000         5518\n",
       "ponds_nearest           14589\n",
       "days_exposition          3181\n",
       "dtype: int64"
      ]
     },
     "execution_count": 4,
     "metadata": {},
     "output_type": "execute_result"
    }
   ],
   "source": [
    "data.isna().sum()"
   ]
  },
  {
   "cell_type": "markdown",
   "metadata": {},
   "source": [
    "Пропуски в\n",
    "\n",
    "ceiling_height(высота потолков) могут быть связаны либо с технической ошибкой либо продавец не посчитал нужным заполнять эту информацию\n",
    "\n",
    "living_area(жилая площадь в квадратных метрах) причины могут быть те же самые\n",
    "\n",
    "is_apartment(апартаменты) вероятнее всего данные помещения не являются апартаментами, поэтому продавцы не стали заполнять этот столбец\n",
    "\n",
    "kitchen_area(площадь кухни) либо не заполнили, либо это студия\n",
    "\n",
    "balcony(количество балконов) вероятнее всего балконов нет\n",
    "\n",
    "locality_name(название населённого пункта) вероятнее всего техническая ошибка\n",
    "\n",
    "airports_nearest(расстояние до ближайшего аэропорта) вероятно в округе нет аэропортов\n",
    "\n",
    "cityCenters_nearest(расстояние до центра города) центр города находится достаточно далеко \n",
    "\n",
    "parks_around3000(число парков в радиусе 3 км) вероятнее всего парков в округе нет\n",
    "\n",
    "parks_nearest(расстояние до ближайшего парка) вероятнее всего пропуск в связи с тем, что парков в округе нет, либо продавцы не \n",
    "посчитали это важной информацией\n",
    "\n",
    "ponds_around3000(число водоёмов в радиусе 3 км) вероятнее всего водоёмов в округе нет\n",
    "\n",
    "ponds_nearest(расстояние до ближайшего водоёма) вероятнее всего пропуск в связи с тем, что водоёмов в округе нет, либо продавцы не посчитали это важной информацией\n",
    "\n",
    "days_exposition (сколько дней было размещено объявление (от публикации до снятия)) вероятнее всего объявление не сняли либо техническая ошибка"
   ]
  },
  {
   "cell_type": "markdown",
   "metadata": {},
   "source": [
    "**Дополнения кода**"
   ]
  },
  {
   "cell_type": "code",
   "execution_count": 5,
   "metadata": {},
   "outputs": [],
   "source": [
    "\n",
    "x=(data['total_area'].median())/(data['living_area'].median())\n",
    "data['living_area']=data['living_area'].fillna(round(data['total_area']/x))\n",
    "y=(data['total_area'].median())/(data['kitchen_area'].median())\n",
    "data['kitchen_area']=data['kitchen_area'].fillna(round(data['total_area']/y))"
   ]
  },
  {
   "cell_type": "code",
   "execution_count": 6,
   "metadata": {},
   "outputs": [],
   "source": [
    "data['is_apartment'] = data['is_apartment'].fillna('False')\n",
    "\n",
    "data['balcony'] = data['balcony'].fillna(0)\n",
    "\n",
    "data['locality_name'].dropna(inplace=True)"
   ]
  },
  {
   "cell_type": "markdown",
   "metadata": {},
   "source": [
    "Заменим тип данных для:\n",
    "\n",
    "first_day_exposition на date, для того чтобы работать с датой было удобнее\n",
    "\n",
    "is_apartment на bool, мы заменили пропуски на False, так что выбираем этот тип данных\n",
    "\n",
    "last_price для удобства просмотра и работы с числами"
   ]
  },
  {
   "cell_type": "code",
   "execution_count": 7,
   "metadata": {},
   "outputs": [],
   "source": [
    "data['first_day_exposition'] = pd.to_datetime(data['first_day_exposition'],format='%Y-%m-%dT%H:%M:%S')\n",
    "data['is_apartment'] = data['is_apartment'].map({'False':False, 'True':True})\n",
    "data['last_price'] = data['last_price'].astype('int')"
   ]
  },
  {
   "cell_type": "code",
   "execution_count": 8,
   "metadata": {},
   "outputs": [
    {
     "data": {
      "text/plain": [
       "array(['Санкт-Петербург', 'посёлок Шушары', 'городской посёлок Янино-1',\n",
       "       'посёлок Парголово', 'посёлок Мурино', 'Ломоносов', 'Сертолово',\n",
       "       'Петергоф', 'Пушкин', 'деревня Кудрово', 'Коммунар', 'Колпино',\n",
       "       'поселок городского типа Красный Бор', 'Гатчина', 'поселок Мурино',\n",
       "       'деревня Фёдоровское', 'Выборг', 'Кронштадт', 'Кировск',\n",
       "       'деревня Новое Девяткино', 'посёлок Металлострой',\n",
       "       'посёлок городского типа Лебяжье',\n",
       "       'посёлок городского типа Сиверский', 'поселок Молодцово',\n",
       "       'поселок городского типа Кузьмоловский',\n",
       "       'садовое товарищество Новая Ропша', 'Павловск',\n",
       "       'деревня Пикколово', 'Всеволожск', 'Волхов', 'Кингисепп',\n",
       "       'Приозерск', 'Сестрорецк', 'деревня Куттузи', 'посёлок Аннино',\n",
       "       'поселок городского типа Ефимовский', 'посёлок Плодовое',\n",
       "       'деревня Заклинье', 'поселок Торковичи', 'поселок Первомайское',\n",
       "       'Красное Село', 'посёлок Понтонный', 'Сясьстрой', 'деревня Старая',\n",
       "       'деревня Лесколово', 'посёлок Новый Свет', 'Сланцы',\n",
       "       'село Путилово', 'Ивангород', 'Мурино', 'Шлиссельбург',\n",
       "       'Никольское', 'Зеленогорск', 'Сосновый Бор', 'поселок Новый Свет',\n",
       "       'деревня Оржицы', 'деревня Кальтино', 'Кудрово',\n",
       "       'поселок Романовка', 'посёлок Бугры', 'поселок Бугры',\n",
       "       'поселок городского типа Рощино', 'Кириши', 'Луга', 'Волосово',\n",
       "       'Отрадное', 'село Павлово', 'поселок Оредеж', 'село Копорье',\n",
       "       'посёлок городского типа Красный Бор', 'посёлок Молодёжное',\n",
       "       'Тихвин', 'посёлок Победа', 'деревня Нурма',\n",
       "       'поселок городского типа Синявино', 'Тосно',\n",
       "       'посёлок городского типа Кузьмоловский', 'посёлок Стрельна',\n",
       "       'Бокситогорск', 'посёлок Александровская', 'деревня Лопухинка',\n",
       "       'Пикалёво', 'поселок Терволово',\n",
       "       'поселок городского типа Советский', 'Подпорожье',\n",
       "       'посёлок Петровское', 'посёлок городского типа Токсово',\n",
       "       'поселок Сельцо', 'посёлок городского типа Вырица',\n",
       "       'деревня Кипень', 'деревня Келози', 'деревня Вартемяги',\n",
       "       'посёлок Тельмана', 'поселок Севастьяново',\n",
       "       'городской поселок Большая Ижора', nan,\n",
       "       'городской посёлок Павлово', 'деревня Агалатово',\n",
       "       'посёлок Новогорелово', 'городской посёлок Лесогорский',\n",
       "       'деревня Лаголово', 'поселок Цвелодубово',\n",
       "       'поселок городского типа Рахья', 'поселок городского типа Вырица',\n",
       "       'деревня Белогорка', 'поселок Заводской',\n",
       "       'городской посёлок Новоселье', 'деревня Большие Колпаны',\n",
       "       'деревня Горбунки', 'деревня Батово', 'деревня Заневка',\n",
       "       'деревня Иссад', 'Приморск', 'городской посёлок Фёдоровское',\n",
       "       'деревня Мистолово', 'Новая Ладога', 'поселок Зимитицы',\n",
       "       'поселок Барышево', 'деревня Разметелево',\n",
       "       'поселок городского типа имени Свердлова', 'деревня Пеники',\n",
       "       'поселок Рябово', 'деревня Пудомяги', 'поселок станции Корнево',\n",
       "       'деревня Низино', 'деревня Бегуницы', 'посёлок Поляны',\n",
       "       'городской посёлок Мга', 'поселок Елизаветино',\n",
       "       'посёлок городского типа Кузнечное', 'деревня Колтуши',\n",
       "       'поселок Запорожское', 'посёлок городского типа Рощино',\n",
       "       'деревня Гостилицы', 'деревня Малое Карлино',\n",
       "       'посёлок Мичуринское', 'посёлок городского типа имени Морозова',\n",
       "       'посёлок Песочный', 'посёлок Сосново', 'деревня Аро',\n",
       "       'поселок Ильичёво', 'посёлок городского типа Тайцы',\n",
       "       'деревня Малое Верево', 'деревня Извара', 'поселок станции Вещево',\n",
       "       'село Паша', 'деревня Калитино',\n",
       "       'посёлок городского типа Ульяновка', 'деревня Чудской Бор',\n",
       "       'поселок городского типа Дубровка', 'деревня Мины',\n",
       "       'поселок Войсковицы', 'посёлок городского типа имени Свердлова',\n",
       "       'деревня Коркино', 'посёлок Ропша',\n",
       "       'поселок городского типа Приладожский', 'посёлок Щеглово',\n",
       "       'посёлок Гаврилово', 'Лодейное Поле', 'деревня Рабитицы',\n",
       "       'поселок городского типа Никольский', 'деревня Кузьмолово',\n",
       "       'деревня Малые Колпаны', 'поселок Тельмана',\n",
       "       'посёлок Петро-Славянка', 'городской посёлок Назия',\n",
       "       'посёлок Репино', 'посёлок Ильичёво', 'поселок Углово',\n",
       "       'поселок Старая Малукса', 'садовое товарищество Рахья',\n",
       "       'поселок Аннино', 'поселок Победа', 'деревня Меньково',\n",
       "       'деревня Старые Бегуницы', 'посёлок Сапёрный', 'поселок Семрино',\n",
       "       'поселок Гаврилово', 'поселок Глажево', 'поселок Кобринское',\n",
       "       'деревня Гарболово', 'деревня Юкки',\n",
       "       'поселок станции Приветнинское', 'деревня Мануйлово',\n",
       "       'деревня Пчева', 'поселок Поляны', 'поселок Цвылёво',\n",
       "       'поселок Мельниково', 'посёлок Пудость', 'посёлок Усть-Луга',\n",
       "       'Светогорск', 'Любань', 'поселок Селезнёво',\n",
       "       'поселок городского типа Рябово', 'Каменногорск', 'деревня Кривко',\n",
       "       'поселок Глебычево', 'деревня Парицы', 'поселок Жилпосёлок',\n",
       "       'посёлок городского типа Мга', 'городской поселок Янино-1',\n",
       "       'посёлок Войскорово', 'село Никольское', 'посёлок Терволово',\n",
       "       'поселок Стеклянный', 'посёлок городского типа Важины',\n",
       "       'посёлок Мыза-Ивановка', 'село Русско-Высоцкое',\n",
       "       'поселок городского типа Лебяжье',\n",
       "       'поселок городского типа Форносово', 'село Старая Ладога',\n",
       "       'поселок Житково', 'городской посёлок Виллози', 'деревня Лампово',\n",
       "       'деревня Шпаньково', 'деревня Лаврики', 'посёлок Сумино',\n",
       "       'посёлок Возрождение', 'деревня Старосиверская',\n",
       "       'посёлок Кикерино', 'поселок Возрождение',\n",
       "       'деревня Старое Хинколово', 'посёлок Пригородный',\n",
       "       'посёлок Торфяное', 'городской посёлок Будогощь',\n",
       "       'поселок Суходолье', 'поселок Красная Долина', 'деревня Хапо-Ое',\n",
       "       'поселок городского типа Дружная Горка', 'поселок Лисий Нос',\n",
       "       'деревня Яльгелево', 'посёлок Стеклянный', 'село Рождествено',\n",
       "       'деревня Старополье', 'посёлок Левашово', 'деревня Сяськелево',\n",
       "       'деревня Камышовка',\n",
       "       'садоводческое некоммерческое товарищество Лесная Поляна',\n",
       "       'деревня Хязельки', 'поселок Жилгородок',\n",
       "       'посёлок городского типа Павлово', 'деревня Ялгино',\n",
       "       'поселок Новый Учхоз', 'городской посёлок Рощино',\n",
       "       'поселок Гончарово', 'поселок Почап', 'посёлок Сапёрное',\n",
       "       'посёлок Платформа 69-й километр', 'поселок Каложицы',\n",
       "       'деревня Фалилеево', 'деревня Пельгора',\n",
       "       'поселок городского типа Лесогорский', 'деревня Торошковичи',\n",
       "       'посёлок Белоостров', 'посёлок Алексеевка', 'поселок Серебрянский',\n",
       "       'поселок Лукаши', 'поселок Петровское', 'деревня Щеглово',\n",
       "       'поселок Мичуринское', 'деревня Тарасово', 'поселок Кингисеппский',\n",
       "       'посёлок при железнодорожной станции Вещево', 'поселок Ушаки',\n",
       "       'деревня Котлы', 'деревня Сижно', 'деревня Торосово',\n",
       "       'посёлок Форт Красная Горка', 'поселок городского типа Токсово',\n",
       "       'деревня Новолисино', 'посёлок станции Громово', 'деревня Глинка',\n",
       "       'посёлок Мельниково', 'поселок городского типа Назия',\n",
       "       'деревня Старая Пустошь', 'поселок Коммунары', 'поселок Починок',\n",
       "       'посёлок городского типа Вознесенье', 'деревня Разбегаево',\n",
       "       'посёлок городского типа Рябово', 'поселок Гладкое',\n",
       "       'посёлок при железнодорожной станции Приветнинское',\n",
       "       'поселок Тёсово-4', 'посёлок Жилгородок', 'деревня Бор',\n",
       "       'посёлок Коробицыно', 'деревня Большая Вруда', 'деревня Курковицы',\n",
       "       'посёлок Лисий Нос', 'городской посёлок Советский',\n",
       "       'посёлок Кобралово', 'деревня Суоранда', 'поселок Кобралово',\n",
       "       'поселок городского типа Кондратьево',\n",
       "       'коттеджный поселок Счастье', 'поселок Любань', 'деревня Реброво',\n",
       "       'деревня Зимитицы', 'деревня Тойворово', 'поселок Семиозерье',\n",
       "       'поселок Лесное', 'поселок Совхозный', 'поселок Усть-Луга',\n",
       "       'посёлок Ленинское', 'посёлок Суйда',\n",
       "       'посёлок городского типа Форносово', 'деревня Нижние Осельки',\n",
       "       'посёлок станции Свирь', 'поселок Перово', 'Высоцк',\n",
       "       'поселок Гарболово', 'село Шум', 'поселок Котельский',\n",
       "       'поселок станции Лужайка', 'деревня Большая Пустомержа',\n",
       "       'поселок Красносельское', 'деревня Вахнова Кара', 'деревня Пижма',\n",
       "       'коттеджный поселок Кивеннапа Север', 'поселок Коробицыно',\n",
       "       'поселок Ромашки', 'посёлок Перово', 'деревня Каськово',\n",
       "       'деревня Куровицы', 'посёлок Плоское', 'поселок Сумино',\n",
       "       'поселок городского типа Большая Ижора', 'поселок Кирпичное',\n",
       "       'деревня Ям-Тесово', 'деревня Раздолье', 'деревня Терпилицы',\n",
       "       'посёлок Шугозеро', 'деревня Ваганово', 'поселок Пушное',\n",
       "       'садовое товарищество Садко', 'посёлок Усть-Ижора',\n",
       "       'деревня Выскатка', 'городской посёлок Свирьстрой',\n",
       "       'поселок Громово', 'деревня Кисельня', 'посёлок Старая Малукса',\n",
       "       'деревня Трубников Бор', 'поселок Калитино',\n",
       "       'посёлок Высокоключевой', 'садовое товарищество Приладожский',\n",
       "       'посёлок Пансионат Зелёный Бор', 'деревня Ненимяки',\n",
       "       'поселок Пансионат Зелёный Бор', 'деревня Снегирёвка',\n",
       "       'деревня Рапполово', 'деревня Пустынка', 'поселок Рабитицы',\n",
       "       'деревня Большой Сабск', 'деревня Русско', 'деревня Лупполово',\n",
       "       'деревня Большое Рейзино', 'деревня Малая Романовка',\n",
       "       'поселок Дружноселье', 'поселок Пчевжа', 'поселок Володарское',\n",
       "       'деревня Нижняя', 'коттеджный посёлок Лесное', 'деревня Тихковицы',\n",
       "       'деревня Борисова Грива', 'посёлок Дзержинского'], dtype=object)"
      ]
     },
     "execution_count": 8,
     "metadata": {},
     "output_type": "execute_result"
    }
   ],
   "source": [
    "data['locality_name'].unique()"
   ]
  },
  {
   "cell_type": "markdown",
   "metadata": {},
   "source": [
    "1)Можем заметить, что встречается и 'e' и 'ё', так что заменим все на е\n",
    "\n",
    "2)Понятия посёлок городоского типа и городской посёлок это одно и то же"
   ]
  },
  {
   "cell_type": "code",
   "execution_count": 9,
   "metadata": {},
   "outputs": [],
   "source": [
    "data['locality_name'] = data['locality_name'].str.replace('ё', 'е')\n",
    "data['locality_name'] = data['locality_name'].str.replace('городской поселок','поселок городского типа')"
   ]
  },
  {
   "cell_type": "code",
   "execution_count": 10,
   "metadata": {},
   "outputs": [
    {
     "data": {
      "text/plain": [
       "0"
      ]
     },
     "execution_count": 10,
     "metadata": {},
     "output_type": "execute_result"
    }
   ],
   "source": [
    "data.duplicated().sum()"
   ]
  },
  {
   "cell_type": "code",
   "execution_count": 11,
   "metadata": {
    "scrolled": true
   },
   "outputs": [
    {
     "data": {
      "text/html": [
       "<div>\n",
       "<style scoped>\n",
       "    .dataframe tbody tr th:only-of-type {\n",
       "        vertical-align: middle;\n",
       "    }\n",
       "\n",
       "    .dataframe tbody tr th {\n",
       "        vertical-align: top;\n",
       "    }\n",
       "\n",
       "    .dataframe thead th {\n",
       "        text-align: right;\n",
       "    }\n",
       "</style>\n",
       "<table border=\"1\" class=\"dataframe\">\n",
       "  <thead>\n",
       "    <tr style=\"text-align: right;\">\n",
       "      <th></th>\n",
       "      <th>total_images</th>\n",
       "      <th>last_price</th>\n",
       "      <th>total_area</th>\n",
       "      <th>rooms</th>\n",
       "      <th>ceiling_height</th>\n",
       "      <th>floors_total</th>\n",
       "      <th>living_area</th>\n",
       "      <th>floor</th>\n",
       "      <th>kitchen_area</th>\n",
       "      <th>balcony</th>\n",
       "      <th>airports_nearest</th>\n",
       "      <th>cityCenters_nearest</th>\n",
       "      <th>parks_around3000</th>\n",
       "      <th>parks_nearest</th>\n",
       "      <th>ponds_around3000</th>\n",
       "      <th>ponds_nearest</th>\n",
       "      <th>days_exposition</th>\n",
       "    </tr>\n",
       "  </thead>\n",
       "  <tbody>\n",
       "    <tr>\n",
       "      <th>count</th>\n",
       "      <td>23699.000000</td>\n",
       "      <td>2.369900e+04</td>\n",
       "      <td>23699.000000</td>\n",
       "      <td>23699.000000</td>\n",
       "      <td>14504.000000</td>\n",
       "      <td>23613.000000</td>\n",
       "      <td>23699.000000</td>\n",
       "      <td>23699.000000</td>\n",
       "      <td>23699.000000</td>\n",
       "      <td>23699.000000</td>\n",
       "      <td>18157.000000</td>\n",
       "      <td>18180.000000</td>\n",
       "      <td>18181.000000</td>\n",
       "      <td>8079.000000</td>\n",
       "      <td>18181.000000</td>\n",
       "      <td>9110.000000</td>\n",
       "      <td>20518.000000</td>\n",
       "    </tr>\n",
       "    <tr>\n",
       "      <th>mean</th>\n",
       "      <td>9.858475</td>\n",
       "      <td>6.541549e+06</td>\n",
       "      <td>60.348651</td>\n",
       "      <td>2.070636</td>\n",
       "      <td>2.771499</td>\n",
       "      <td>10.673824</td>\n",
       "      <td>34.624345</td>\n",
       "      <td>5.892358</td>\n",
       "      <td>10.504782</td>\n",
       "      <td>0.591080</td>\n",
       "      <td>28793.672193</td>\n",
       "      <td>14191.277833</td>\n",
       "      <td>0.611408</td>\n",
       "      <td>490.804555</td>\n",
       "      <td>0.770255</td>\n",
       "      <td>517.980900</td>\n",
       "      <td>180.888634</td>\n",
       "    </tr>\n",
       "    <tr>\n",
       "      <th>std</th>\n",
       "      <td>5.682529</td>\n",
       "      <td>1.088701e+07</td>\n",
       "      <td>35.654083</td>\n",
       "      <td>1.078405</td>\n",
       "      <td>1.261056</td>\n",
       "      <td>6.597173</td>\n",
       "      <td>22.381808</td>\n",
       "      <td>4.885249</td>\n",
       "      <td>6.040600</td>\n",
       "      <td>0.959298</td>\n",
       "      <td>12630.880622</td>\n",
       "      <td>8608.386210</td>\n",
       "      <td>0.802074</td>\n",
       "      <td>342.317995</td>\n",
       "      <td>0.938346</td>\n",
       "      <td>277.720643</td>\n",
       "      <td>219.727988</td>\n",
       "    </tr>\n",
       "    <tr>\n",
       "      <th>min</th>\n",
       "      <td>0.000000</td>\n",
       "      <td>1.219000e+04</td>\n",
       "      <td>12.000000</td>\n",
       "      <td>0.000000</td>\n",
       "      <td>1.000000</td>\n",
       "      <td>1.000000</td>\n",
       "      <td>2.000000</td>\n",
       "      <td>1.000000</td>\n",
       "      <td>1.300000</td>\n",
       "      <td>0.000000</td>\n",
       "      <td>0.000000</td>\n",
       "      <td>181.000000</td>\n",
       "      <td>0.000000</td>\n",
       "      <td>1.000000</td>\n",
       "      <td>0.000000</td>\n",
       "      <td>13.000000</td>\n",
       "      <td>1.000000</td>\n",
       "    </tr>\n",
       "    <tr>\n",
       "      <th>25%</th>\n",
       "      <td>6.000000</td>\n",
       "      <td>3.400000e+06</td>\n",
       "      <td>40.000000</td>\n",
       "      <td>1.000000</td>\n",
       "      <td>2.520000</td>\n",
       "      <td>5.000000</td>\n",
       "      <td>19.000000</td>\n",
       "      <td>2.000000</td>\n",
       "      <td>7.000000</td>\n",
       "      <td>0.000000</td>\n",
       "      <td>18585.000000</td>\n",
       "      <td>9238.000000</td>\n",
       "      <td>0.000000</td>\n",
       "      <td>288.000000</td>\n",
       "      <td>0.000000</td>\n",
       "      <td>294.000000</td>\n",
       "      <td>45.000000</td>\n",
       "    </tr>\n",
       "    <tr>\n",
       "      <th>50%</th>\n",
       "      <td>9.000000</td>\n",
       "      <td>4.650000e+06</td>\n",
       "      <td>52.000000</td>\n",
       "      <td>2.000000</td>\n",
       "      <td>2.650000</td>\n",
       "      <td>9.000000</td>\n",
       "      <td>30.000000</td>\n",
       "      <td>4.000000</td>\n",
       "      <td>9.000000</td>\n",
       "      <td>0.000000</td>\n",
       "      <td>26726.000000</td>\n",
       "      <td>13098.500000</td>\n",
       "      <td>0.000000</td>\n",
       "      <td>455.000000</td>\n",
       "      <td>1.000000</td>\n",
       "      <td>502.000000</td>\n",
       "      <td>95.000000</td>\n",
       "    </tr>\n",
       "    <tr>\n",
       "      <th>75%</th>\n",
       "      <td>14.000000</td>\n",
       "      <td>6.800000e+06</td>\n",
       "      <td>69.900000</td>\n",
       "      <td>3.000000</td>\n",
       "      <td>2.800000</td>\n",
       "      <td>16.000000</td>\n",
       "      <td>42.100000</td>\n",
       "      <td>8.000000</td>\n",
       "      <td>12.000000</td>\n",
       "      <td>1.000000</td>\n",
       "      <td>37273.000000</td>\n",
       "      <td>16293.000000</td>\n",
       "      <td>1.000000</td>\n",
       "      <td>612.000000</td>\n",
       "      <td>1.000000</td>\n",
       "      <td>729.000000</td>\n",
       "      <td>232.000000</td>\n",
       "    </tr>\n",
       "    <tr>\n",
       "      <th>max</th>\n",
       "      <td>50.000000</td>\n",
       "      <td>7.630000e+08</td>\n",
       "      <td>900.000000</td>\n",
       "      <td>19.000000</td>\n",
       "      <td>100.000000</td>\n",
       "      <td>60.000000</td>\n",
       "      <td>409.700000</td>\n",
       "      <td>33.000000</td>\n",
       "      <td>112.000000</td>\n",
       "      <td>5.000000</td>\n",
       "      <td>84869.000000</td>\n",
       "      <td>65968.000000</td>\n",
       "      <td>3.000000</td>\n",
       "      <td>3190.000000</td>\n",
       "      <td>3.000000</td>\n",
       "      <td>1344.000000</td>\n",
       "      <td>1580.000000</td>\n",
       "    </tr>\n",
       "  </tbody>\n",
       "</table>\n",
       "</div>"
      ],
      "text/plain": [
       "       total_images    last_price    total_area         rooms  ceiling_height  \\\n",
       "count  23699.000000  2.369900e+04  23699.000000  23699.000000    14504.000000   \n",
       "mean       9.858475  6.541549e+06     60.348651      2.070636        2.771499   \n",
       "std        5.682529  1.088701e+07     35.654083      1.078405        1.261056   \n",
       "min        0.000000  1.219000e+04     12.000000      0.000000        1.000000   \n",
       "25%        6.000000  3.400000e+06     40.000000      1.000000        2.520000   \n",
       "50%        9.000000  4.650000e+06     52.000000      2.000000        2.650000   \n",
       "75%       14.000000  6.800000e+06     69.900000      3.000000        2.800000   \n",
       "max       50.000000  7.630000e+08    900.000000     19.000000      100.000000   \n",
       "\n",
       "       floors_total   living_area         floor  kitchen_area       balcony  \\\n",
       "count  23613.000000  23699.000000  23699.000000  23699.000000  23699.000000   \n",
       "mean      10.673824     34.624345      5.892358     10.504782      0.591080   \n",
       "std        6.597173     22.381808      4.885249      6.040600      0.959298   \n",
       "min        1.000000      2.000000      1.000000      1.300000      0.000000   \n",
       "25%        5.000000     19.000000      2.000000      7.000000      0.000000   \n",
       "50%        9.000000     30.000000      4.000000      9.000000      0.000000   \n",
       "75%       16.000000     42.100000      8.000000     12.000000      1.000000   \n",
       "max       60.000000    409.700000     33.000000    112.000000      5.000000   \n",
       "\n",
       "       airports_nearest  cityCenters_nearest  parks_around3000  parks_nearest  \\\n",
       "count      18157.000000         18180.000000      18181.000000    8079.000000   \n",
       "mean       28793.672193         14191.277833          0.611408     490.804555   \n",
       "std        12630.880622          8608.386210          0.802074     342.317995   \n",
       "min            0.000000           181.000000          0.000000       1.000000   \n",
       "25%        18585.000000          9238.000000          0.000000     288.000000   \n",
       "50%        26726.000000         13098.500000          0.000000     455.000000   \n",
       "75%        37273.000000         16293.000000          1.000000     612.000000   \n",
       "max        84869.000000         65968.000000          3.000000    3190.000000   \n",
       "\n",
       "       ponds_around3000  ponds_nearest  days_exposition  \n",
       "count      18181.000000    9110.000000     20518.000000  \n",
       "mean           0.770255     517.980900       180.888634  \n",
       "std            0.938346     277.720643       219.727988  \n",
       "min            0.000000      13.000000         1.000000  \n",
       "25%            0.000000     294.000000        45.000000  \n",
       "50%            1.000000     502.000000        95.000000  \n",
       "75%            1.000000     729.000000       232.000000  \n",
       "max            3.000000    1344.000000      1580.000000  "
      ]
     },
     "execution_count": 11,
     "metadata": {},
     "output_type": "execute_result"
    }
   ],
   "source": [
    "data.describe()"
   ]
  },
  {
   "cell_type": "code",
   "execution_count": 12,
   "metadata": {},
   "outputs": [
    {
     "name": "stdout",
     "output_type": "stream",
     "text": [
      "763000000\n"
     ]
    },
    {
     "data": {
      "text/plain": [
       "12190"
      ]
     },
     "execution_count": 12,
     "metadata": {},
     "output_type": "execute_result"
    }
   ],
   "source": [
    "print(data['last_price'].max())\n",
    "data['last_price'].min()"
   ]
  },
  {
   "cell_type": "code",
   "execution_count": 13,
   "metadata": {},
   "outputs": [
    {
     "name": "stdout",
     "output_type": "stream",
     "text": [
      "Квартир стоимостью меньше 100.000: 1\n",
      "Квартир стоимостью больше 100.000.000: 37\n"
     ]
    }
   ],
   "source": [
    "print('Квартир стоимостью меньше 100.000:', data.query('last_price < 100000')['last_price'].count())\n",
    "print('Квартир стоимостью больше 100.000.000:', data.query('last_price > 100000000')['last_price'].count())"
   ]
  },
  {
   "cell_type": "markdown",
   "metadata": {},
   "source": [
    "Квартиры стоимостью меньше 100 тысяч рублей и больше 100 миллионов аномалии либо выбросы, тк слишком дешевые и дорогие"
   ]
  },
  {
   "cell_type": "code",
   "execution_count": 14,
   "metadata": {},
   "outputs": [],
   "source": [
    "data.drop(index=data.query('last_price > 100000000').index,inplace=True)\n",
    "data.drop(index=data.query('last_price < 100000').index,inplace=True)"
   ]
  },
  {
   "cell_type": "markdown",
   "metadata": {},
   "source": [
    "В столбце с площадью есть недвижимость с плоащдью 900 квадратных метров, проверим сколько квартир больше 300 квадратных метров, так как это слишком большая площадь\n",
    "\n",
    "Минимальная площадь 12, выглядит достоверно"
   ]
  },
  {
   "cell_type": "code",
   "execution_count": 15,
   "metadata": {
    "scrolled": false
   },
   "outputs": [
    {
     "name": "stdout",
     "output_type": "stream",
     "text": [
      "Квартир площадью более 300 квадратных метров: 45\n"
     ]
    }
   ],
   "source": [
    "print('Квартир площадью более 300 квадратных метров:', data.query('total_area > 300')['total_area'].count())"
   ]
  },
  {
   "cell_type": "markdown",
   "metadata": {},
   "source": [
    "Не так много, можем удалить"
   ]
  },
  {
   "cell_type": "code",
   "execution_count": 16,
   "metadata": {},
   "outputs": [],
   "source": [
    "data.drop(index=data.query('total_area > 300').index,inplace=True)"
   ]
  },
  {
   "cell_type": "markdown",
   "metadata": {},
   "source": [
    "В столбце комнат встречается число 0, проверим относится ли это к студиям и квартирам со свободной планировокой"
   ]
  },
  {
   "cell_type": "code",
   "execution_count": 17,
   "metadata": {
    "scrolled": false
   },
   "outputs": [
    {
     "name": "stdout",
     "output_type": "stream",
     "text": [
      "Квартиры без комнат: 196\n",
      "Квартиры без комнат и студии: 138\n",
      "Квартиры без комнат и свободная планировка: 58\n",
      "Квартира без комнат и студия, и планировка 196\n"
     ]
    }
   ],
   "source": [
    "print('Квартиры без комнат:',data.query('rooms == 0')['rooms'].count())\n",
    "print('Квартиры без комнат и студии:',data.query('rooms == 0 and studio')['rooms'].count()) \n",
    "print('Квартиры без комнат и свободная планировка:',data.query('rooms == 0 and open_plan')['rooms'].count())\n",
    "print('Квартира без комнат и студия, и планировка',data.query('rooms == 0 and studio')['rooms'].count()+data.query('rooms == 0 and open_plan')['rooms'].count())"
   ]
  },
  {
   "cell_type": "markdown",
   "metadata": {},
   "source": [
    "Как правило высота комнат находится на интервале от 2,5 до 3,2-4 метров. Так что если высота потолока меньше данных величин или больше то это недостоверная информация. \n",
    "\n",
    "Но также учтем что вероятнее всего значения 25-40 метров обозначают, нужны интервал 2,5-4,0 просто в данных совершили ошибку"
   ]
  },
  {
   "cell_type": "code",
   "execution_count": 18,
   "metadata": {},
   "outputs": [],
   "source": [
    "data.drop(index=data.query('ceiling_height < 2.5').index,inplace=True)\n",
    "data.drop(index=data.query('ceiling_height > 4 and ceiling_height < 25').index,inplace=True)\n",
    "data.update(data[(data['ceiling_height'] >= 25) & (data['ceiling_height'] <= 40)]['ceiling_height']/10)\n",
    "data.drop(index=data.query('ceiling_height > 36').index,inplace=True)"
   ]
  },
  {
   "cell_type": "markdown",
   "metadata": {},
   "source": [
    "**Дополнение кода**"
   ]
  },
  {
   "cell_type": "code",
   "execution_count": 19,
   "metadata": {},
   "outputs": [],
   "source": [
    "data['ceiling_height']=data['ceiling_height'].fillna(data['ceiling_height'].median())"
   ]
  },
  {
   "cell_type": "markdown",
   "metadata": {},
   "source": [
    "Чаще всего многоэтажные дома строятся до 25 этажей, проверим количество объявлений где это значение больше"
   ]
  },
  {
   "cell_type": "code",
   "execution_count": 20,
   "metadata": {},
   "outputs": [
    {
     "data": {
      "text/plain": [
       "340"
      ]
     },
     "execution_count": 20,
     "metadata": {},
     "output_type": "execute_result"
    }
   ],
   "source": [
    "data.query('floors_total>25')['floors_total'].count()"
   ]
  },
  {
   "cell_type": "markdown",
   "metadata": {},
   "source": [
    "Не так много, можем удалить"
   ]
  },
  {
   "cell_type": "code",
   "execution_count": 21,
   "metadata": {},
   "outputs": [],
   "source": [
    "data.drop(index=data.query('floors_total > 25').index,inplace=True)"
   ]
  },
  {
   "cell_type": "markdown",
   "metadata": {},
   "source": [
    "Минимальное значение площади 2 квадратных метра, что кажется невероятным, как и значение в 409 квадратов"
   ]
  },
  {
   "cell_type": "code",
   "execution_count": 22,
   "metadata": {},
   "outputs": [],
   "source": [
    "data.drop(index=data.query('living_area < 10').index,inplace=True)\n",
    "data.drop(index=data.query('living_area > 200').index,inplace=True)"
   ]
  },
  {
   "cell_type": "markdown",
   "metadata": {},
   "source": [
    "Видим значение плоащди кухни в 1,3 квадратных метра и 112 непохоже на правду. Проверим сколько объявлений содержит кухонь меньше 2 квадратов и больше 35"
   ]
  },
  {
   "cell_type": "code",
   "execution_count": 23,
   "metadata": {
    "scrolled": true
   },
   "outputs": [
    {
     "name": "stdout",
     "output_type": "stream",
     "text": [
      "Кухня меньше 2 1\n",
      "Кухня больше 35 194\n"
     ]
    }
   ],
   "source": [
    "print('Кухня меньше 2',data.query('kitchen_area<2')['kitchen_area'].count())\n",
    "print('Кухня больше 35',data.query('kitchen_area>35')['kitchen_area'].count())"
   ]
  },
  {
   "cell_type": "code",
   "execution_count": 24,
   "metadata": {},
   "outputs": [],
   "source": [
    "data.drop(index=data.query('kitchen_area < 2').index,inplace=True)\n",
    "data.drop(index=data.query('kitchen_area > 35').index,inplace=True)\n"
   ]
  },
  {
   "cell_type": "markdown",
   "metadata": {},
   "source": [
    "Отбросим строки, где расстояние до аэропорта меньше 3км, но сначала проверим их кол-во"
   ]
  },
  {
   "cell_type": "code",
   "execution_count": 25,
   "metadata": {},
   "outputs": [
    {
     "data": {
      "text/plain": [
       "1"
      ]
     },
     "execution_count": 25,
     "metadata": {},
     "output_type": "execute_result"
    }
   ],
   "source": [
    "data.query('airports_nearest<2000')['airports_nearest'].count()"
   ]
  },
  {
   "cell_type": "code",
   "execution_count": 26,
   "metadata": {},
   "outputs": [],
   "source": [
    "data.drop(index=data.query('airports_nearest<2000').index,inplace=True)"
   ]
  },
  {
   "cell_type": "markdown",
   "metadata": {},
   "source": [
    "Рассмотрим сколько объявлений висит больше 2 лет"
   ]
  },
  {
   "cell_type": "code",
   "execution_count": 27,
   "metadata": {
    "scrolled": true
   },
   "outputs": [
    {
     "data": {
      "text/plain": [
       "160"
      ]
     },
     "execution_count": 27,
     "metadata": {},
     "output_type": "execute_result"
    }
   ],
   "source": [
    "data.query('days_exposition>3*365')['days_exposition'].count()"
   ]
  },
  {
   "cell_type": "code",
   "execution_count": 28,
   "metadata": {},
   "outputs": [],
   "source": [
    "data.drop(index=data.query('days_exposition>3*365').index,inplace=True)"
   ]
  },
  {
   "cell_type": "code",
   "execution_count": 29,
   "metadata": {},
   "outputs": [],
   "source": [
    "data.reset_index(drop=True,inplace=True)"
   ]
  },
  {
   "cell_type": "markdown",
   "metadata": {},
   "source": [
    "**Дополнение кода**"
   ]
  },
  {
   "cell_type": "code",
   "execution_count": 30,
   "metadata": {},
   "outputs": [
    {
     "data": {
      "text/plain": [
       "(22767, 22)"
      ]
     },
     "execution_count": 30,
     "metadata": {},
     "output_type": "execute_result"
    }
   ],
   "source": [
    "data.shape"
   ]
  },
  {
   "cell_type": "markdown",
   "metadata": {},
   "source": [
    "Изначально было предоставлено 23699 объявлений, после предобработки осталось 22767, что означает, что сохранилосб порядка 96% от изначального количества\n"
   ]
  },
  {
   "cell_type": "markdown",
   "metadata": {},
   "source": [
    "### Посчитайте и добавьте в таблицу новые столбцы"
   ]
  },
  {
   "cell_type": "code",
   "execution_count": 31,
   "metadata": {},
   "outputs": [],
   "source": [
    "data['cost_per_m'] = data['last_price'] / data['total_area']"
   ]
  },
  {
   "cell_type": "code",
   "execution_count": 32,
   "metadata": {},
   "outputs": [],
   "source": [
    "data['day'] = data['first_day_exposition'].dt.dayofweek"
   ]
  },
  {
   "cell_type": "code",
   "execution_count": 33,
   "metadata": {},
   "outputs": [
    {
     "data": {
      "text/plain": [
       "array([3, 1, 4, 0, 6, 5, 2])"
      ]
     },
     "execution_count": 33,
     "metadata": {},
     "output_type": "execute_result"
    }
   ],
   "source": [
    "data['day'].unique()"
   ]
  },
  {
   "cell_type": "code",
   "execution_count": 34,
   "metadata": {},
   "outputs": [],
   "source": [
    "data['month'] = data['first_day_exposition'].dt.month"
   ]
  },
  {
   "cell_type": "code",
   "execution_count": 35,
   "metadata": {},
   "outputs": [],
   "source": [
    "data['year'] = data['first_day_exposition'].dt.year"
   ]
  },
  {
   "cell_type": "code",
   "execution_count": 36,
   "metadata": {},
   "outputs": [],
   "source": [
    "data['city_centers_nearest_km'] = round(data['cityCenters_nearest'] / 1000)"
   ]
  },
  {
   "cell_type": "code",
   "execution_count": 37,
   "metadata": {},
   "outputs": [],
   "source": [
    "def floor_category(row):\n",
    "    floors_total = row['floors_total']\n",
    "    floor = row['floor']\n",
    "    if floor == 1:\n",
    "        return 'первый'\n",
    "    elif floor == floors_total:\n",
    "        return 'последний'\n",
    "    elif 1 < floor < floors_total:\n",
    "        return 'другой'\n",
    "data['floor_category'] = data.apply(floor_category, axis = 1)"
   ]
  },
  {
   "cell_type": "markdown",
   "metadata": {},
   "source": [
    "### Проведите исследовательский анализ данных"
   ]
  },
  {
   "cell_type": "code",
   "execution_count": 38,
   "metadata": {},
   "outputs": [
    {
     "data": {
      "image/png": "[encoded data removed]",
      "text/plain": [
       "<Figure size 432x288 with 1 Axes>"
      ]
     },
     "metadata": {
      "needs_background": "light"
     },
     "output_type": "display_data"
    }
   ],
   "source": [
    "data.groupby(by='floor_category')['floor_category'].count().plot(kind='bar', ylabel = 'count');"
   ]
  },
  {
   "cell_type": "code",
   "execution_count": 39,
   "metadata": {},
   "outputs": [
    {
     "data": {
      "text/plain": [
       "array([[<AxesSubplot:title={'center':'month'}>]], dtype=object)"
      ]
     },
     "execution_count": 39,
     "metadata": {},
     "output_type": "execute_result"
    },
    {
     "data": {
      "image/png": "[encoded data removed]",
      "text/plain": [
       "<Figure size 432x288 with 1 Axes>"
      ]
     },
     "metadata": {
      "needs_background": "light"
     },
     "output_type": "display_data"
    },
    {
     "data": {
      "image/png": "[encoded data removed]",
      "text/plain": [
       "<Figure size 432x288 with 1 Axes>"
      ]
     },
     "metadata": {
      "needs_background": "light"
     },
     "output_type": "display_data"
    },
    {
     "data": {
      "image/png": "[encoded data removed]",
      "text/plain": [
       "<Figure size 432x288 with 1 Axes>"
      ]
     },
     "metadata": {
      "needs_background": "light"
     },
     "output_type": "display_data"
    },
    {
     "data": {
      "image/png": "[encoded data removed]",
      "text/plain": [
       "<Figure size 432x288 with 1 Axes>"
      ]
     },
     "metadata": {
      "needs_background": "light"
     },
     "output_type": "display_data"
    },
    {
     "data": {
      "image/png": "[encoded data removed]",
      "text/plain": [
       "<Figure size 432x288 with 1 Axes>"
      ]
     },
     "metadata": {
      "needs_background": "light"
     },
     "output_type": "display_data"
    },
    {
     "data": {
      "image/png": "[encoded data removed]",
      "text/plain": [
       "<Figure size 432x288 with 1 Axes>"
      ]
     },
     "metadata": {
      "needs_background": "light"
     },
     "output_type": "display_data"
    },
    {
     "data": {
      "image/png": "[encoded data removed]",
      "text/plain": [
       "<Figure size 432x288 with 1 Axes>"
      ]
     },
     "metadata": {
      "needs_background": "light"
     },
     "output_type": "display_data"
    },
    {
     "data": {
      "image/png": "[encoded data removed]",
      "text/plain": [
       "<Figure size 432x288 with 1 Axes>"
      ]
     },
     "metadata": {
      "needs_background": "light"
     },
     "output_type": "display_data"
    },
    {
     "data": {
      "image/png": "[encoded data removed]",
      "text/plain": [
       "<Figure size 432x288 with 1 Axes>"
      ]
     },
     "metadata": {
      "needs_background": "light"
     },
     "output_type": "display_data"
    },
    {
     "data": {
      "image/png": "[encoded data removed]",
      "text/plain": [
       "<Figure size 432x288 with 1 Axes>"
      ]
     },
     "metadata": {
      "needs_background": "light"
     },
     "output_type": "display_data"
    },
    {
     "data": {
      "image/png": "[encoded data removed]",
      "text/plain": [
       "<Figure size 432x288 with 1 Axes>"
      ]
     },
     "metadata": {
      "needs_background": "light"
     },
     "output_type": "display_data"
    },
    {
     "data": {
      "image/png": "[encoded data removed]",
      "text/plain": [
       "<Figure size 432x288 with 1 Axes>"
      ]
     },
     "metadata": {
      "needs_background": "light"
     },
     "output_type": "display_data"
    },
    {
     "data": {
      "image/png": "[encoded data removed]",
      "text/plain": [
       "<Figure size 432x288 with 1 Axes>"
      ]
     },
     "metadata": {
      "needs_background": "light"
     },
     "output_type": "display_data"
    }
   ],
   "source": [
    "data.hist('total_area', bins=50)\n",
    "data.hist('living_area', bins=50,range=(10,200))\n",
    "data.hist('kitchen_area', bins=25)\n",
    "data.hist('last_price', bins=50)\n",
    "data.hist('rooms', bins=19)\n",
    "data.hist('ceiling_height', bins=20)\n",
    "data.hist('floor', bins=30)\n",
    "data.hist('floors_total', bins=25)\n",
    "data.hist('cityCenters_nearest', bins=100)\n",
    "data.hist('airports_nearest', bins=100)\n",
    "data.hist('parks_nearest', bins=100)\n",
    "data.hist('day', bins=7)\n",
    "data.hist('month', bins=12)"
   ]
  },
  {
   "cell_type": "markdown",
   "metadata": {},
   "source": [
    "Наблюдаем очень малое количество квартир с общей площадью более 100 кв.м. Большая часть около 50 кв.м.\n",
    "\n",
    "Жилая площадь - наблюдается спад после 75 кв.м. Также интересны два пика, и резкое падение около 25 кв.м.\n",
    "\n",
    "Площадь кухни колеблется в основном от 5 до 20 кв.м.\n",
    "\n",
    "Цена объекта в основном находится в диапозоне до 20 миллионов\n",
    "\n",
    "Больше всего двух и трёх комнатных квартир\n",
    "\n",
    "Высота потолка в основном 2.5м\n",
    "\n",
    "Больше всего квартир в категории \"другой\" этаж\n",
    "\n",
    "Больше всего квартир с 1 по 5 этаж\n",
    "\n",
    "Общее количество эатжей в доме видим пики на 5-этажных и 9-этажных объектах\n",
    "\n",
    "Расстояние до центра города в метрах Здесь наблюдаем два пика 10 км. до 15 км и один поменьше ~ 5 км.\n",
    "\n",
    "Расстояние до ближайшего аэропорта распределяется примерно равномерно на расстоянии 10-50 км.\n",
    "\n",
    "расстояние до ближайшего парка состовляет как правило 500-800 метров \n",
    "\n",
    "Видим резкий спад кол-ва публикации  в субботу и воскресенье.Также видим что весной был скачок активност, который окончился резким падением в мае. После плавно рос до ноября, где вновь произошло падение "
   ]
  },
  {
   "cell_type": "code",
   "execution_count": 40,
   "metadata": {
    "scrolled": true
   },
   "outputs": [
    {
     "data": {
      "text/plain": [
       "array([[<AxesSubplot:title={'center':'days_exposition'}>]], dtype=object)"
      ]
     },
     "execution_count": 40,
     "metadata": {},
     "output_type": "execute_result"
    },
    {
     "data": {
      "image/png": "[encoded data removed]",
      "text/plain": [
       "<Figure size 432x288 with 1 Axes>"
      ]
     },
     "metadata": {
      "needs_background": "light"
     },
     "output_type": "display_data"
    }
   ],
   "source": [
    "data.hist('days_exposition', bins=100)"
   ]
  },
  {
   "cell_type": "code",
   "execution_count": 41,
   "metadata": {},
   "outputs": [
    {
     "data": {
      "text/plain": [
       "array([[<AxesSubplot:title={'center':'days_exposition'}>]], dtype=object)"
      ]
     },
     "execution_count": 41,
     "metadata": {},
     "output_type": "execute_result"
    },
    {
     "data": {
      "image/png": "[encoded data removed]",
      "text/plain": [
       "<Figure size 432x288 with 1 Axes>"
      ]
     },
     "metadata": {
      "needs_background": "light"
     },
     "output_type": "display_data"
    }
   ],
   "source": [
    "data.hist('days_exposition', bins=100, range=(1,100))"
   ]
  },
  {
   "cell_type": "markdown",
   "metadata": {},
   "source": [
    "Из гистограммы можем сделать вывод, что чаще всего квартиры продают за 45,60 дней, также можем увидеть пик на 90 днях"
   ]
  },
  {
   "cell_type": "code",
   "execution_count": 42,
   "metadata": {},
   "outputs": [
    {
     "name": "stdout",
     "output_type": "stream",
     "text": [
      "171.2593193690724\n",
      "93.0\n"
     ]
    }
   ],
   "source": [
    "print(data['days_exposition'].mean())\n",
    "print(data['days_exposition'].median())"
   ]
  },
  {
   "cell_type": "markdown",
   "metadata": {},
   "source": [
    "Можно сделать вывод что до 45 дней-быстрая продажа\n",
    "\n",
    "от 45 до 200 обычная\n",
    "\n",
    "далее - долгая\n",
    "\n",
    "**Изменения снизу**"
   ]
  },
  {
   "cell_type": "markdown",
   "metadata": {},
   "source": [
    "**Если правильно прочитал условие размещения объявлений, то следует, что через 45,60 и 90 дней объвления снимаются с продаж в связи с истекшим сроком публикаций, тогда рассмотрим гистограмму, медиану и среднее без учёта этих дней**"
   ]
  },
  {
   "cell_type": "code",
   "execution_count": 43,
   "metadata": {},
   "outputs": [
    {
     "data": {
      "text/plain": [
       "array([[<AxesSubplot:title={'center':'days_exposition'}>]], dtype=object)"
      ]
     },
     "execution_count": 43,
     "metadata": {},
     "output_type": "execute_result"
    },
    {
     "data": {
      "image/png": "[encoded data removed]",
      "text/plain": [
       "<Figure size 432x288 with 1 Axes>"
      ]
     },
     "metadata": {
      "needs_background": "light"
     },
     "output_type": "display_data"
    }
   ],
   "source": [
    "data.drop(index=data.query('days_exposition==45').index,inplace=True)\n",
    "data.drop(index=data.query('days_exposition==60').index,inplace=True)\n",
    "data.drop(index=data.query('days_exposition==90').index,inplace=True)\n",
    "data.hist('days_exposition',bins=100,range=(1,100))"
   ]
  },
  {
   "cell_type": "code",
   "execution_count": 44,
   "metadata": {},
   "outputs": [
    {
     "name": "stdout",
     "output_type": "stream",
     "text": [
      "174.3147472642001\n",
      "98.0\n"
     ]
    }
   ],
   "source": [
    "print(data['days_exposition'].mean())\n",
    "print(data['days_exposition'].median())"
   ]
  },
  {
   "cell_type": "code",
   "execution_count": 45,
   "metadata": {},
   "outputs": [
    {
     "data": {
      "text/plain": [
       "count    19190.000000\n",
       "mean       174.314747\n",
       "std        199.271955\n",
       "min          1.000000\n",
       "25%         43.000000\n",
       "50%         98.000000\n",
       "75%        230.000000\n",
       "max       1095.000000\n",
       "Name: days_exposition, dtype: float64"
      ]
     },
     "execution_count": 45,
     "metadata": {},
     "output_type": "execute_result"
    }
   ],
   "source": [
    "data['days_exposition'].describe()"
   ]
  },
  {
   "cell_type": "markdown",
   "metadata": {},
   "source": [
    "Заметим что все равно наблюдается пик рядом с 45 и 90, а именно 43 и 98, значит все-таки теория подтверждается, но медиана и среднее немного увеличлись, тогда сделаем предположение что\n",
    "\n",
    "быстрая продажа до 43 дней\n",
    "\n",
    "нормальная от 43 до 230 дней\n",
    "\n",
    "долгая более 230 дней"
   ]
  },
  {
   "cell_type": "code",
   "execution_count": 46,
   "metadata": {},
   "outputs": [
    {
     "data": {
      "text/plain": [
       "(22240, 28)"
      ]
     },
     "execution_count": 46,
     "metadata": {},
     "output_type": "execute_result"
    }
   ],
   "source": [
    "data.shape"
   ]
  },
  {
   "cell_type": "markdown",
   "metadata": {},
   "source": [
    "Если удалим эти выбросы, то останется примерно 94% исходной информации, значит это не повлияет на остальное исследование"
   ]
  },
  {
   "cell_type": "code",
   "execution_count": 47,
   "metadata": {},
   "outputs": [
    {
     "data": {
      "image/png": "[encoded data removed]",
      "text/plain": [
       "<Figure size 432x288 with 1 Axes>"
      ]
     },
     "metadata": {
      "needs_background": "light"
     },
     "output_type": "display_data"
    },
    {
     "data": {
      "image/png": "[encoded data removed]",
      "text/plain": [
       "<Figure size 432x288 with 1 Axes>"
      ]
     },
     "metadata": {
      "needs_background": "light"
     },
     "output_type": "display_data"
    },
    {
     "data": {
      "image/png": "[encoded data removed]",
      "text/plain": [
       "<Figure size 432x288 with 1 Axes>"
      ]
     },
     "metadata": {
      "needs_background": "light"
     },
     "output_type": "display_data"
    },
    {
     "data": {
      "image/png": "[encoded data removed]",
      "text/plain": [
       "<Figure size 432x288 with 1 Axes>"
      ]
     },
     "metadata": {
      "needs_background": "light"
     },
     "output_type": "display_data"
    },
    {
     "data": {
      "image/png": "[encoded data removed]",
      "text/plain": [
       "<Figure size 432x288 with 1 Axes>"
      ]
     },
     "metadata": {
      "needs_background": "light"
     },
     "output_type": "display_data"
    },
    {
     "data": {
      "image/png": "[encoded data removed]",
      "text/plain": [
       "<Figure size 432x288 with 1 Axes>"
      ]
     },
     "metadata": {
      "needs_background": "light"
     },
     "output_type": "display_data"
    },
    {
     "data": {
      "image/png": "[encoded data removed]",
      "text/plain": [
       "<Figure size 432x288 with 1 Axes>"
      ]
     },
     "metadata": {
      "needs_background": "light"
     },
     "output_type": "display_data"
    },
    {
     "data": {
      "image/png": "[encoded data removed]",
      "text/plain": [
       "<Figure size 432x288 with 1 Axes>"
      ]
     },
     "metadata": {
      "needs_background": "light"
     },
     "output_type": "display_data"
    },
    {
     "data": {
      "image/png": "[encoded data removed]",
      "text/plain": [
       "<Figure size 432x288 with 1 Axes>"
      ]
     },
     "metadata": {
      "needs_background": "light"
     },
     "output_type": "display_data"
    },
    {
     "data": {
      "image/png": "[encoded data removed]",
      "text/plain": [
       "<Figure size 432x288 with 1 Axes>"
      ]
     },
     "metadata": {
      "needs_background": "light"
     },
     "output_type": "display_data"
    },
    {
     "data": {
      "image/png": "[encoded data removed]",
      "text/plain": [
       "<Figure size 432x288 with 1 Axes>"
      ]
     },
     "metadata": {
      "needs_background": "light"
     },
     "output_type": "display_data"
    }
   ],
   "source": [
    "data.plot(y='last_price', x='total_area', kind='scatter', alpha=0.2)\n",
    "data.plot(y='last_price', x='living_area', kind='scatter', alpha=0.2)\n",
    "data.plot(y='last_price', x='kitchen_area', kind='scatter', alpha=0.2)\n",
    "data.pivot_table(index='rooms',values='last_price').plot(y='last_price', kind='bar');\n",
    "data.pivot_table(index='floor_category',values='last_price',aggfunc='mean').plot(y='last_price', kind='line')\n",
    "data.pivot_table(index='day',values='last_price',aggfunc='mean').plot(y='last_price', kind='line', title='mean');\n",
    "data.pivot_table(index='day',values='last_price',aggfunc='median').plot(y='last_price', kind='line', title='median');\n",
    "data.pivot_table(index='month',values='last_price',aggfunc='mean').plot(y='last_price', kind='line', title='mean');\n",
    "data.pivot_table(index='month',values='last_price',aggfunc='median').plot(y='last_price', kind='line', title='median');\n",
    "data.pivot_table(index='year',values='last_price',aggfunc='mean').plot(y='last_price', kind='line', title='mean');\n",
    "data.pivot_table(index='year',values='last_price',aggfunc='median').plot(y='last_price', kind='line', title='median');"
   ]
  },
  {
   "cell_type": "markdown",
   "metadata": {},
   "source": [
    "Логичная зависимость: при увеличении общей плошади, площади кухни и плошади жилой зоны, количества комнат цена растет\n",
    "\n",
    "Интересно заметить, что на первом этаже самые дешёвые квартиры.\n",
    "\n",
    "Нельзя определить зависит ли стоимость квартиры от дня или месяца публикации, но заметен спад цен от 2014 до 2016, дальше цена постепенно росла\n"
   ]
  },
  {
   "cell_type": "code",
   "execution_count": 48,
   "metadata": {},
   "outputs": [
    {
     "data": {
      "text/html": [
       "<div>\n",
       "<style scoped>\n",
       "    .dataframe tbody tr th:only-of-type {\n",
       "        vertical-align: middle;\n",
       "    }\n",
       "\n",
       "    .dataframe tbody tr th {\n",
       "        vertical-align: top;\n",
       "    }\n",
       "\n",
       "    .dataframe thead th {\n",
       "        text-align: right;\n",
       "    }\n",
       "</style>\n",
       "<table border=\"1\" class=\"dataframe\">\n",
       "  <thead>\n",
       "    <tr style=\"text-align: right;\">\n",
       "      <th></th>\n",
       "      <th>last_price_sum</th>\n",
       "      <th>total_area_sum</th>\n",
       "      <th>last_price_count</th>\n",
       "      <th>total_area_count</th>\n",
       "    </tr>\n",
       "    <tr>\n",
       "      <th>locality_name</th>\n",
       "      <th></th>\n",
       "      <th></th>\n",
       "      <th></th>\n",
       "      <th></th>\n",
       "    </tr>\n",
       "  </thead>\n",
       "  <tbody>\n",
       "    <tr>\n",
       "      <th>Санкт-Петербург</th>\n",
       "      <td>107117396455</td>\n",
       "      <td>914335.40</td>\n",
       "      <td>14712</td>\n",
       "      <td>14712</td>\n",
       "    </tr>\n",
       "    <tr>\n",
       "      <th>поселок Мурино</th>\n",
       "      <td>1714059462</td>\n",
       "      <td>20654.31</td>\n",
       "      <td>467</td>\n",
       "      <td>467</td>\n",
       "    </tr>\n",
       "    <tr>\n",
       "      <th>поселок Шушары</th>\n",
       "      <td>1725121999</td>\n",
       "      <td>22527.46</td>\n",
       "      <td>422</td>\n",
       "      <td>422</td>\n",
       "    </tr>\n",
       "    <tr>\n",
       "      <th>Всеволожск</th>\n",
       "      <td>1459481205</td>\n",
       "      <td>21647.35</td>\n",
       "      <td>387</td>\n",
       "      <td>387</td>\n",
       "    </tr>\n",
       "    <tr>\n",
       "      <th>Пушкин</th>\n",
       "      <td>2098015964</td>\n",
       "      <td>20075.80</td>\n",
       "      <td>346</td>\n",
       "      <td>346</td>\n",
       "    </tr>\n",
       "    <tr>\n",
       "      <th>Колпино</th>\n",
       "      <td>1260780246</td>\n",
       "      <td>17062.72</td>\n",
       "      <td>328</td>\n",
       "      <td>328</td>\n",
       "    </tr>\n",
       "    <tr>\n",
       "      <th>Гатчина</th>\n",
       "      <td>1020019360</td>\n",
       "      <td>14972.68</td>\n",
       "      <td>299</td>\n",
       "      <td>299</td>\n",
       "    </tr>\n",
       "    <tr>\n",
       "      <th>деревня Кудрово</th>\n",
       "      <td>1186731220</td>\n",
       "      <td>13048.96</td>\n",
       "      <td>284</td>\n",
       "      <td>284</td>\n",
       "    </tr>\n",
       "    <tr>\n",
       "      <th>Выборг</th>\n",
       "      <td>743303000</td>\n",
       "      <td>12908.46</td>\n",
       "      <td>231</td>\n",
       "      <td>231</td>\n",
       "    </tr>\n",
       "    <tr>\n",
       "      <th>поселок Парголово</th>\n",
       "      <td>858433999</td>\n",
       "      <td>10380.74</td>\n",
       "      <td>195</td>\n",
       "      <td>195</td>\n",
       "    </tr>\n",
       "  </tbody>\n",
       "</table>\n",
       "</div>"
      ],
      "text/plain": [
       "                   last_price_sum  total_area_sum  last_price_count  \\\n",
       "locality_name                                                         \n",
       "Санкт-Петербург      107117396455       914335.40             14712   \n",
       "поселок Мурино         1714059462        20654.31               467   \n",
       "поселок Шушары         1725121999        22527.46               422   \n",
       "Всеволожск             1459481205        21647.35               387   \n",
       "Пушкин                 2098015964        20075.80               346   \n",
       "Колпино                1260780246        17062.72               328   \n",
       "Гатчина                1020019360        14972.68               299   \n",
       "деревня Кудрово        1186731220        13048.96               284   \n",
       "Выборг                  743303000        12908.46               231   \n",
       "поселок Парголово       858433999        10380.74               195   \n",
       "\n",
       "                   total_area_count  \n",
       "locality_name                        \n",
       "Санкт-Петербург               14712  \n",
       "поселок Мурино                  467  \n",
       "поселок Шушары                  422  \n",
       "Всеволожск                      387  \n",
       "Пушкин                          346  \n",
       "Колпино                         328  \n",
       "Гатчина                         299  \n",
       "деревня Кудрово                 284  \n",
       "Выборг                          231  \n",
       "поселок Парголово               195  "
      ]
     },
     "metadata": {},
     "output_type": "display_data"
    },
    {
     "name": "stdout",
     "output_type": "stream",
     "text": [
      "Максимальная среднняя цена\n"
     ]
    },
    {
     "data": {
      "text/html": [
       "<div>\n",
       "<style scoped>\n",
       "    .dataframe tbody tr th:only-of-type {\n",
       "        vertical-align: middle;\n",
       "    }\n",
       "\n",
       "    .dataframe tbody tr th {\n",
       "        vertical-align: top;\n",
       "    }\n",
       "\n",
       "    .dataframe thead th {\n",
       "        text-align: right;\n",
       "    }\n",
       "</style>\n",
       "<table border=\"1\" class=\"dataframe\">\n",
       "  <thead>\n",
       "    <tr style=\"text-align: right;\">\n",
       "      <th></th>\n",
       "      <th>last_price_sum</th>\n",
       "      <th>total_area_sum</th>\n",
       "      <th>last_price_count</th>\n",
       "      <th>total_area_count</th>\n",
       "      <th>cost_per_m</th>\n",
       "    </tr>\n",
       "    <tr>\n",
       "      <th>locality_name</th>\n",
       "      <th></th>\n",
       "      <th></th>\n",
       "      <th></th>\n",
       "      <th></th>\n",
       "      <th></th>\n",
       "    </tr>\n",
       "  </thead>\n",
       "  <tbody>\n",
       "    <tr>\n",
       "      <th>Санкт-Петербург</th>\n",
       "      <td>107117396455</td>\n",
       "      <td>914335.4</td>\n",
       "      <td>14712</td>\n",
       "      <td>14712</td>\n",
       "      <td>117153.285824</td>\n",
       "    </tr>\n",
       "  </tbody>\n",
       "</table>\n",
       "</div>"
      ],
      "text/plain": [
       "                 last_price_sum  total_area_sum  last_price_count  \\\n",
       "locality_name                                                       \n",
       "Санкт-Петербург    107117396455        914335.4             14712   \n",
       "\n",
       "                 total_area_count     cost_per_m  \n",
       "locality_name                                     \n",
       "Санкт-Петербург             14712  117153.285824  "
      ]
     },
     "metadata": {},
     "output_type": "display_data"
    },
    {
     "name": "stdout",
     "output_type": "stream",
     "text": [
      "Минимальная среднняя цена\n"
     ]
    },
    {
     "data": {
      "text/html": [
       "<div>\n",
       "<style scoped>\n",
       "    .dataframe tbody tr th:only-of-type {\n",
       "        vertical-align: middle;\n",
       "    }\n",
       "\n",
       "    .dataframe tbody tr th {\n",
       "        vertical-align: top;\n",
       "    }\n",
       "\n",
       "    .dataframe thead th {\n",
       "        text-align: right;\n",
       "    }\n",
       "</style>\n",
       "<table border=\"1\" class=\"dataframe\">\n",
       "  <thead>\n",
       "    <tr style=\"text-align: right;\">\n",
       "      <th></th>\n",
       "      <th>last_price_sum</th>\n",
       "      <th>total_area_sum</th>\n",
       "      <th>last_price_count</th>\n",
       "      <th>total_area_count</th>\n",
       "      <th>cost_per_m</th>\n",
       "    </tr>\n",
       "    <tr>\n",
       "      <th>locality_name</th>\n",
       "      <th></th>\n",
       "      <th></th>\n",
       "      <th></th>\n",
       "      <th></th>\n",
       "      <th></th>\n",
       "    </tr>\n",
       "  </thead>\n",
       "  <tbody>\n",
       "    <tr>\n",
       "      <th>Выборг</th>\n",
       "      <td>743303000</td>\n",
       "      <td>12908.46</td>\n",
       "      <td>231</td>\n",
       "      <td>231</td>\n",
       "      <td>57582.624109</td>\n",
       "    </tr>\n",
       "  </tbody>\n",
       "</table>\n",
       "</div>"
      ],
      "text/plain": [
       "               last_price_sum  total_area_sum  last_price_count  \\\n",
       "locality_name                                                     \n",
       "Выборг              743303000        12908.46               231   \n",
       "\n",
       "               total_area_count    cost_per_m  \n",
       "locality_name                                  \n",
       "Выборг                      231  57582.624109  "
      ]
     },
     "execution_count": 48,
     "metadata": {},
     "output_type": "execute_result"
    }
   ],
   "source": [
    "city_top = data.pivot_table(index='locality_name', values=['last_price','total_area'] ,aggfunc=['sum','count'])\n",
    "city_top.columns=['last_price_sum','total_area_sum','last_price_count','total_area_count']\n",
    "city_top.sort_values(by=['last_price_count'],ascending=False, inplace=True)\n",
    "city_top = city_top.iloc[:10]\n",
    "display(city_top)\n",
    "city_top['cost_per_m'] = city_top['last_price_sum']/city_top['total_area_sum']\n",
    "city_top.sort_values(by=['cost_per_m'],ascending=True, inplace=True)\n",
    "print('Максимальная среднняя цена')\n",
    "display(city_top.loc[city_top['cost_per_m'] == city_top['cost_per_m'].max()])\n",
    "print('Минимальная среднняя цена')\n",
    "city_top.loc[city_top['cost_per_m'] == city_top['cost_per_m'].min()]"
   ]
  },
  {
   "cell_type": "code",
   "execution_count": 49,
   "metadata": {},
   "outputs": [
    {
     "data": {
      "text/plain": [
       "<AxesSubplot:xlabel='city_centers_nearest_km'>"
      ]
     },
     "execution_count": 49,
     "metadata": {},
     "output_type": "execute_result"
    },
    {
     "data": {
      "image/png": "[encoded data removed]",
      "text/plain": [
       "<Figure size 432x288 with 1 Axes>"
      ]
     },
     "metadata": {
      "needs_background": "light"
     },
     "output_type": "display_data"
    }
   ],
   "source": [
    "spb = data.query('locality_name == \"Санкт-Петербург\"').pivot_table(index='city_centers_nearest_km', values='cost_per_m')\n",
    "spb.plot(kind='bar')"
   ]
  },
  {
   "cell_type": "markdown",
   "metadata": {},
   "source": [
    "Видим что самая большая цена в километре от центра.  Цена падает при расстоянии до 3 км, затем рост и пик достигается на расстоянии 7км. Дальше спад и неожиданный пик на расстоянии 27 км"
   ]
  },
  {
   "cell_type": "markdown",
   "metadata": {},
   "source": [
    "### Общий вывод"
   ]
  },
  {
   "cell_type": "markdown",
   "metadata": {},
   "source": [
    "Исследовали рынок недвижимости Санкт-Петербурга и соседних населённых пунктах.\n",
    "\n",
    "Определили примерное описание недвижимости:\n",
    "\n",
    "1)Большая часть недвижимости порядка 50 кв.м. \n",
    "\n",
    "2)Цена объекта в основном находится в диапозоне до 20 миллионов\n",
    "\n",
    "3)Больше всего двух и трёх комнатных квартир\n",
    "\n",
    "4)Больше всего квартир с 1 по 5 этаж\n",
    "\n",
    "5)Общее количество этажей в доме чаще всего 5 или 9 этажей\n",
    "\n",
    "6)Расстояние до ближайшего парка состовляет как правило 500-800 метров \n",
    "\n",
    "\n",
    "\n",
    "Наибольшее влияние на стоимость квартиры оказывает её площадь. Чем больше площадь квартиры, тем выше её стоимость. Также на стоимость квартиры влияет и количество комнат. Чем больше комнат, тем выше стоимость. На стоимость квартиры также влияет расстояние до центра города. Чем ближе квартира располагается к центру, тем выше ее стоимость. Самая большая цена в на расстоянии от 1 до 7 км до центра Петербурга. \n",
    "\n",
    "\n",
    "Ожидаемое время продажи объекта недвижимости от 45 до 200 дней.\n",
    "\n",
    "**Топ-10 населенных пунктов по количеству объявлений:**\n",
    "\n",
    "Санкт-Петербург 14712\n",
    "\n",
    "поселок Мурино 467\n",
    "\n",
    "поселок Шушары 422\n",
    "\n",
    "Всеволожск 387\n",
    "\n",
    "Пушкин 346\n",
    "\n",
    "Колпино 328\n",
    "\n",
    "Гатчина 299\n",
    "\n",
    "деревня Кудрово 284\n",
    "\n",
    "Выборг 231\n",
    "\n",
    "поселок Парголово 195\n",
    "\n",
    "Самая высокая средняя стоимость квадратного метра в Санкт-Петербурге - 117153 рублей\n",
    "\n",
    "Самая низкая средняя стоимость квадратного метра в Выборге -57582 рублей"
   ]
  },
  {
   "cell_type": "markdown",
   "metadata": {},
   "source": [
    "**Чек-лист готовности проекта**\n",
    "\n",
    "Поставьте 'x' в выполненных пунктах. Далее нажмите Shift+Enter."
   ]
  },
  {
   "cell_type": "markdown",
   "metadata": {},
   "source": [
    "- [x]  открыт файл\n",
    "- [x]  файлы изучены (выведены первые строки, метод `info()`, гистограммы и т.д.)\n",
    "- [x]  определены пропущенные значения\n",
    "- [x]  заполнены пропущенные значения там, где это возможно\n",
    "- [x]  есть пояснение, какие пропущенные значения обнаружены\n",
    "- [x]  изменены типы данных\n",
    "- [x]  есть пояснение, в каких столбцах изменены типы и почему\n",
    "- [x]  устранены неявные дубликаты в названиях населённых пунктов\n",
    "- [x]  устранены редкие и выбивающиеся значения (аномалии) во всех столбцах\n",
    "- [x]  посчитано и добавлено в таблицу: цена одного квадратного метра\n",
    "- [x]  посчитано и добавлено в таблицу: день публикации объявления (0 - понедельник, 1 - вторник и т.д.)\n",
    "- [x]  посчитано и добавлено в таблицу: месяц публикации объявления\n",
    "- [x]  посчитано и добавлено в таблицу: год публикации объявления\n",
    "- [x]  посчитано и добавлено в таблицу: тип этажа квартиры (значения — «первый», «последний», «другой»)\n",
    "- [x]  посчитано и добавлено в таблицу: расстояние в км до центра города\n",
    "- [x]  изучены и описаны следующие параметры:\n",
    "        - общая площадь;\n",
    "        - жилая площадь;\n",
    "        - площадь кухни;\n",
    "        - цена объекта;\n",
    "        - количество комнат;\n",
    "        - высота потолков;\n",
    "        - этаж квартиры;\n",
    "        - тип этажа квартиры («первый», «последний», «другой»);\n",
    "        - общее количество этажей в доме;\n",
    "        - расстояние до центра города в метрах;\n",
    "        - расстояние до ближайшего аэропорта;\n",
    "        - расстояние до ближайшего парка;\n",
    "        - день и месяц публикации объявления\n",
    "- [x]  построены гистограммы для каждого параметра\n",
    "- [x]  выполнено задание: \"Изучите, как быстро продавались квартиры (столбец days_exposition). Этот параметр показывает, сколько дней «висело» каждое объявление.\n",
    "    - Постройте гистограмму.\n",
    "    - Посчитайте среднее и медиану.\n",
    "    - В ячейке типа markdown опишите, сколько обычно занимает продажа. Какие продажи можно считать быстрыми, а какие — необычно долгими?\"\n",
    "- [x]  выполнено задание: \"Какие факторы больше всего влияют на общую (полную) стоимость объекта? Постройте графики, которые покажут зависимость цены от указанных ниже параметров. Для подготовки данных перед визуализацией вы можете использовать сводные таблицы.\"\n",
    "        - общей площади;\n",
    "        - жилой площади;\n",
    "        - площади кухни;\n",
    "        - количество комнат;\n",
    "        - типа этажа, на котором расположена квартира (первый, последний, другой);\n",
    "        - даты размещения (день недели, месяц, год);\n",
    "- [x]  выполнено задание: \"Посчитайте среднюю цену одного квадратного метра в 10 населённых пунктах с наибольшим числом объявлений. Выделите населённые пункты с самой высокой и низкой стоимостью квадратного метра. Эти данные можно найти по имени в столбце `locality_name`.\"\n",
    "- [x]  выполнено задание: \"Ранее вы посчитали расстояние до центра в километрах. Теперь выделите квартиры в Санкт-Петербурге с помощью столбца `locality_name` и вычислите среднюю цену каждого километра. Опишите, как стоимость объектов зависит от расстояния до центра города.\"\n",
    "- [x]  в каждом этапе есть промежуточные выводы\n",
    "- [x]  есть общий вывод"
   ]
  },
  {
   "cell_type": "code",
   "execution_count": null,
   "metadata": {},
   "outputs": [],
   "source": []
  }
 ],
 "metadata": {
  "ExecuteTimeLog": [
   {
    "duration": 719,
    "start_time": "2023-04-16T12:58:54.411Z"
   },
   {
    "duration": 101,
    "start_time": "2023-04-16T12:59:09.379Z"
   },
   {
    "duration": 111,
    "start_time": "2023-04-16T12:59:27.927Z"
   },
   {
    "duration": 118,
    "start_time": "2023-04-16T13:00:08.743Z"
   },
   {
    "duration": 105,
    "start_time": "2023-04-16T13:01:27.774Z"
   },
   {
    "duration": 13,
    "start_time": "2023-04-16T13:01:46.675Z"
   },
   {
    "duration": 2221,
    "start_time": "2023-04-16T13:02:39.023Z"
   },
   {
    "duration": 15,
    "start_time": "2023-04-16T13:06:08.551Z"
   },
   {
    "duration": 51,
    "start_time": "2023-04-16T23:51:34.850Z"
   },
   {
    "duration": 734,
    "start_time": "2023-04-16T23:51:41.739Z"
   },
   {
    "duration": 2161,
    "start_time": "2023-04-16T23:51:42.474Z"
   },
   {
    "duration": 22,
    "start_time": "2023-04-16T23:51:44.637Z"
   },
   {
    "duration": 10,
    "start_time": "2023-04-16T23:51:44.661Z"
   },
   {
    "duration": 750,
    "start_time": "2023-04-21T11:47:02.637Z"
   },
   {
    "duration": 2554,
    "start_time": "2023-04-21T11:47:03.389Z"
   },
   {
    "duration": 29,
    "start_time": "2023-04-21T11:47:05.946Z"
   },
   {
    "duration": 49,
    "start_time": "2023-04-21T11:47:05.976Z"
   },
   {
    "duration": 13,
    "start_time": "2023-04-21T11:54:37.564Z"
   },
   {
    "duration": 9,
    "start_time": "2023-04-21T11:55:23.169Z"
   },
   {
    "duration": 18,
    "start_time": "2023-04-21T12:00:58.162Z"
   },
   {
    "duration": 24,
    "start_time": "2023-04-21T12:01:53.562Z"
   },
   {
    "duration": 9,
    "start_time": "2023-04-21T12:02:13.243Z"
   },
   {
    "duration": 27,
    "start_time": "2023-04-21T12:07:50.362Z"
   },
   {
    "duration": 4,
    "start_time": "2023-04-21T12:08:17.407Z"
   },
   {
    "duration": 27,
    "start_time": "2023-04-21T12:08:21.410Z"
   },
   {
    "duration": 18,
    "start_time": "2023-04-21T12:14:49.570Z"
   },
   {
    "duration": 39,
    "start_time": "2023-04-21T12:16:17.050Z"
   },
   {
    "duration": 80,
    "start_time": "2023-04-21T12:17:05.183Z"
   },
   {
    "duration": 24,
    "start_time": "2023-04-21T12:19:03.799Z"
   },
   {
    "duration": 7,
    "start_time": "2023-04-21T12:19:04.778Z"
   },
   {
    "duration": 133,
    "start_time": "2023-04-21T12:19:14.640Z"
   },
   {
    "duration": 2091,
    "start_time": "2023-04-21T12:19:14.775Z"
   },
   {
    "duration": 17,
    "start_time": "2023-04-21T12:19:16.867Z"
   },
   {
    "duration": 34,
    "start_time": "2023-04-21T12:19:16.886Z"
   },
   {
    "duration": 8,
    "start_time": "2023-04-21T12:19:16.923Z"
   },
   {
    "duration": 16,
    "start_time": "2023-04-21T12:19:16.932Z"
   },
   {
    "duration": 12,
    "start_time": "2023-04-21T12:19:16.950Z"
   },
   {
    "duration": 28,
    "start_time": "2023-04-21T12:19:16.964Z"
   },
   {
    "duration": 42,
    "start_time": "2023-04-21T12:19:16.993Z"
   },
   {
    "duration": 89,
    "start_time": "2023-04-21T12:19:17.037Z"
   },
   {
    "duration": 6,
    "start_time": "2023-04-21T12:20:20.235Z"
   },
   {
    "duration": 31,
    "start_time": "2023-04-21T12:26:00.375Z"
   },
   {
    "duration": 14,
    "start_time": "2023-04-21T12:26:21.838Z"
   },
   {
    "duration": 21,
    "start_time": "2023-04-21T12:27:11.794Z"
   },
   {
    "duration": 15,
    "start_time": "2023-04-21T12:27:19.036Z"
   },
   {
    "duration": 17,
    "start_time": "2023-04-21T12:27:23.422Z"
   },
   {
    "duration": 8,
    "start_time": "2023-04-21T12:30:53.385Z"
   },
   {
    "duration": 9,
    "start_time": "2023-04-21T12:31:50.889Z"
   },
   {
    "duration": 13,
    "start_time": "2023-04-21T12:32:21.895Z"
   },
   {
    "duration": 14,
    "start_time": "2023-04-21T15:48:28.868Z"
   },
   {
    "duration": 25,
    "start_time": "2023-04-21T15:49:11.291Z"
   },
   {
    "duration": 29,
    "start_time": "2023-04-21T15:55:12.972Z"
   },
   {
    "duration": 76,
    "start_time": "2023-04-21T15:56:30.548Z"
   },
   {
    "duration": 8,
    "start_time": "2023-04-21T15:57:53.355Z"
   },
   {
    "duration": 9,
    "start_time": "2023-04-21T15:58:49.002Z"
   },
   {
    "duration": 17,
    "start_time": "2023-04-21T16:00:23.305Z"
   },
   {
    "duration": 9,
    "start_time": "2023-04-21T16:02:22.354Z"
   },
   {
    "duration": 15,
    "start_time": "2023-04-21T16:04:15.483Z"
   },
   {
    "duration": 9,
    "start_time": "2023-04-21T16:04:38.371Z"
   },
   {
    "duration": 16,
    "start_time": "2023-04-21T16:04:53.851Z"
   },
   {
    "duration": 9,
    "start_time": "2023-04-21T16:14:03.049Z"
   },
   {
    "duration": 8,
    "start_time": "2023-04-21T16:14:15.384Z"
   },
   {
    "duration": 8,
    "start_time": "2023-04-21T16:14:22.986Z"
   },
   {
    "duration": 11,
    "start_time": "2023-04-21T16:15:37.545Z"
   },
   {
    "duration": 8,
    "start_time": "2023-04-21T16:15:43.753Z"
   },
   {
    "duration": 9,
    "start_time": "2023-04-21T16:16:00.113Z"
   },
   {
    "duration": 3,
    "start_time": "2023-04-21T16:16:35.777Z"
   },
   {
    "duration": 43,
    "start_time": "2023-04-21T16:16:44.168Z"
   },
   {
    "duration": 116,
    "start_time": "2023-04-21T16:16:56.916Z"
   },
   {
    "duration": 2020,
    "start_time": "2023-04-21T16:16:57.034Z"
   },
   {
    "duration": 15,
    "start_time": "2023-04-21T16:16:59.056Z"
   },
   {
    "duration": 9,
    "start_time": "2023-04-21T16:16:59.073Z"
   },
   {
    "duration": 11,
    "start_time": "2023-04-21T16:16:59.084Z"
   },
   {
    "duration": 14,
    "start_time": "2023-04-21T16:16:59.117Z"
   },
   {
    "duration": 14,
    "start_time": "2023-04-21T16:16:59.133Z"
   },
   {
    "duration": 33,
    "start_time": "2023-04-21T16:16:59.149Z"
   },
   {
    "duration": 33,
    "start_time": "2023-04-21T16:16:59.184Z"
   },
   {
    "duration": 75,
    "start_time": "2023-04-21T16:16:59.219Z"
   },
   {
    "duration": 5,
    "start_time": "2023-04-21T16:16:59.296Z"
   },
   {
    "duration": 9,
    "start_time": "2023-04-21T16:16:59.317Z"
   },
   {
    "duration": 15,
    "start_time": "2023-04-21T16:16:59.328Z"
   },
   {
    "duration": 14,
    "start_time": "2023-04-21T16:16:59.345Z"
   },
   {
    "duration": 31,
    "start_time": "2023-04-21T16:16:59.361Z"
   },
   {
    "duration": 52,
    "start_time": "2023-04-21T16:16:59.394Z"
   },
   {
    "duration": 58,
    "start_time": "2023-04-21T16:16:59.447Z"
   },
   {
    "duration": 7,
    "start_time": "2023-04-21T16:16:59.507Z"
   },
   {
    "duration": 25,
    "start_time": "2023-04-21T16:16:59.516Z"
   },
   {
    "duration": 17,
    "start_time": "2023-04-21T16:16:59.543Z"
   },
   {
    "duration": 21,
    "start_time": "2023-04-21T16:16:59.561Z"
   },
   {
    "duration": 33,
    "start_time": "2023-04-21T16:16:59.584Z"
   },
   {
    "duration": 18,
    "start_time": "2023-04-21T16:16:59.618Z"
   },
   {
    "duration": 24,
    "start_time": "2023-04-21T16:16:59.638Z"
   },
   {
    "duration": 29,
    "start_time": "2023-04-21T16:16:59.663Z"
   },
   {
    "duration": 28,
    "start_time": "2023-04-21T16:16:59.693Z"
   },
   {
    "duration": 25,
    "start_time": "2023-04-21T16:16:59.723Z"
   },
   {
    "duration": 48,
    "start_time": "2023-04-21T16:16:59.750Z"
   },
   {
    "duration": 4,
    "start_time": "2023-04-21T16:18:03.145Z"
   },
   {
    "duration": 6,
    "start_time": "2023-04-21T16:18:20.609Z"
   },
   {
    "duration": 5,
    "start_time": "2023-04-21T16:18:35.865Z"
   },
   {
    "duration": 8,
    "start_time": "2023-04-21T16:19:05.792Z"
   },
   {
    "duration": 4,
    "start_time": "2023-04-21T16:19:06.345Z"
   },
   {
    "duration": 6,
    "start_time": "2023-04-21T16:19:19.696Z"
   },
   {
    "duration": 7,
    "start_time": "2023-04-21T16:19:39.041Z"
   },
   {
    "duration": 1470,
    "start_time": "2023-04-21T16:20:12.178Z"
   },
   {
    "duration": 4,
    "start_time": "2023-04-21T16:20:34.146Z"
   },
   {
    "duration": 295,
    "start_time": "2023-04-21T16:24:54.336Z"
   },
   {
    "duration": 416,
    "start_time": "2023-04-21T16:25:05.120Z"
   },
   {
    "duration": 327,
    "start_time": "2023-04-21T16:26:33.864Z"
   },
   {
    "duration": 317,
    "start_time": "2023-04-21T16:26:51.801Z"
   },
   {
    "duration": 322,
    "start_time": "2023-04-21T16:26:57.663Z"
   },
   {
    "duration": 391,
    "start_time": "2023-04-21T16:27:17.089Z"
   },
   {
    "duration": 1818,
    "start_time": "2023-04-21T16:31:35.631Z"
   },
   {
    "duration": 1677,
    "start_time": "2023-04-21T16:35:01.256Z"
   },
   {
    "duration": 2545,
    "start_time": "2023-04-21T16:36:11.368Z"
   },
   {
    "duration": 2851,
    "start_time": "2023-04-21T16:36:18.127Z"
   },
   {
    "duration": 2696,
    "start_time": "2023-04-21T16:42:47.103Z"
   },
   {
    "duration": 2650,
    "start_time": "2023-04-21T16:42:56.254Z"
   },
   {
    "duration": 2823,
    "start_time": "2023-04-21T16:43:05.999Z"
   },
   {
    "duration": 2917,
    "start_time": "2023-04-21T16:43:15.175Z"
   },
   {
    "duration": 2689,
    "start_time": "2023-04-21T16:43:43.751Z"
   },
   {
    "duration": 2727,
    "start_time": "2023-04-21T16:44:36.447Z"
   },
   {
    "duration": 2661,
    "start_time": "2023-04-21T16:47:12.399Z"
   },
   {
    "duration": 2404,
    "start_time": "2023-04-21T16:48:31.470Z"
   },
   {
    "duration": 2920,
    "start_time": "2023-04-21T16:48:42.534Z"
   },
   {
    "duration": 2583,
    "start_time": "2023-04-21T16:49:23.422Z"
   },
   {
    "duration": 2307,
    "start_time": "2023-04-21T16:49:37.759Z"
   },
   {
    "duration": 2931,
    "start_time": "2023-04-21T16:50:21.407Z"
   },
   {
    "duration": 2410,
    "start_time": "2023-04-21T16:50:36.775Z"
   },
   {
    "duration": 2944,
    "start_time": "2023-04-21T16:50:54.086Z"
   },
   {
    "duration": 2446,
    "start_time": "2023-04-21T16:51:48.207Z"
   },
   {
    "duration": 2800,
    "start_time": "2023-04-21T16:54:26.230Z"
   },
   {
    "duration": 2998,
    "start_time": "2023-04-21T16:54:48.773Z"
   },
   {
    "duration": 2450,
    "start_time": "2023-04-21T16:55:05.039Z"
   },
   {
    "duration": 447,
    "start_time": "2023-04-21T17:00:08.931Z"
   },
   {
    "duration": 2660,
    "start_time": "2023-04-21T17:00:15.445Z"
   },
   {
    "duration": 259,
    "start_time": "2023-04-21T17:02:50.341Z"
   },
   {
    "duration": 303,
    "start_time": "2023-04-21T17:04:22.444Z"
   },
   {
    "duration": 253,
    "start_time": "2023-04-21T17:04:31.964Z"
   },
   {
    "duration": 259,
    "start_time": "2023-04-21T17:04:53.292Z"
   },
   {
    "duration": 6,
    "start_time": "2023-04-21T17:11:20.317Z"
   },
   {
    "duration": 135,
    "start_time": "2023-04-21T17:16:20.276Z"
   },
   {
    "duration": 1227,
    "start_time": "2023-04-21T17:20:01.692Z"
   },
   {
    "duration": 1514,
    "start_time": "2023-04-21T17:21:42.012Z"
   },
   {
    "duration": 1447,
    "start_time": "2023-04-21T17:23:19.058Z"
   },
   {
    "duration": 1391,
    "start_time": "2023-04-21T17:24:41.964Z"
   },
   {
    "duration": 1342,
    "start_time": "2023-04-21T17:25:04.213Z"
   },
   {
    "duration": 1545,
    "start_time": "2023-04-21T17:25:58.789Z"
   },
   {
    "duration": 1273,
    "start_time": "2023-04-21T17:28:15.930Z"
   },
   {
    "duration": 147,
    "start_time": "2023-04-21T17:28:24.138Z"
   },
   {
    "duration": 1403,
    "start_time": "2023-04-21T17:29:01.459Z"
   },
   {
    "duration": 1820,
    "start_time": "2023-04-21T17:31:02.600Z"
   },
   {
    "duration": 31,
    "start_time": "2023-04-21T17:34:45.271Z"
   },
   {
    "duration": 32,
    "start_time": "2023-04-21T17:35:21.993Z"
   },
   {
    "duration": 4,
    "start_time": "2023-04-21T17:36:23.505Z"
   },
   {
    "duration": 14,
    "start_time": "2023-04-21T17:36:29.590Z"
   },
   {
    "duration": 9,
    "start_time": "2023-04-21T17:37:03.286Z"
   },
   {
    "duration": 11,
    "start_time": "2023-04-21T17:37:20.597Z"
   },
   {
    "duration": 7,
    "start_time": "2023-04-21T17:38:55.225Z"
   },
   {
    "duration": 8,
    "start_time": "2023-04-21T17:39:30.850Z"
   },
   {
    "duration": 308,
    "start_time": "2023-04-21T17:39:36.626Z"
   },
   {
    "duration": 319,
    "start_time": "2023-04-21T17:40:43.491Z"
   },
   {
    "duration": 34,
    "start_time": "2023-04-21T17:41:00.930Z"
   },
   {
    "duration": 17,
    "start_time": "2023-04-21T17:41:02.702Z"
   },
   {
    "duration": 7,
    "start_time": "2023-04-21T17:41:44.129Z"
   },
   {
    "duration": 17,
    "start_time": "2023-04-21T17:41:55.516Z"
   },
   {
    "duration": 289,
    "start_time": "2023-04-21T17:43:33.642Z"
   },
   {
    "duration": 310,
    "start_time": "2023-04-21T17:43:42.089Z"
   },
   {
    "duration": 32,
    "start_time": "2023-04-21T17:43:56.088Z"
   },
   {
    "duration": 3,
    "start_time": "2023-04-21T17:44:04.586Z"
   },
   {
    "duration": 5,
    "start_time": "2023-04-21T17:44:19.000Z"
   },
   {
    "duration": 8,
    "start_time": "2023-04-21T17:44:24.080Z"
   },
   {
    "duration": 138,
    "start_time": "2023-04-21T17:44:41.580Z"
   },
   {
    "duration": 2641,
    "start_time": "2023-04-21T17:44:41.722Z"
   },
   {
    "duration": 17,
    "start_time": "2023-04-21T17:44:44.365Z"
   },
   {
    "duration": 9,
    "start_time": "2023-04-21T17:44:44.384Z"
   },
   {
    "duration": 15,
    "start_time": "2023-04-21T17:44:44.416Z"
   },
   {
    "duration": 26,
    "start_time": "2023-04-21T17:44:44.434Z"
   },
   {
    "duration": 17,
    "start_time": "2023-04-21T17:44:44.461Z"
   },
   {
    "duration": 38,
    "start_time": "2023-04-21T17:44:44.480Z"
   },
   {
    "duration": 33,
    "start_time": "2023-04-21T17:44:44.521Z"
   },
   {
    "duration": 103,
    "start_time": "2023-04-21T17:44:44.558Z"
   },
   {
    "duration": 6,
    "start_time": "2023-04-21T17:44:44.663Z"
   },
   {
    "duration": 18,
    "start_time": "2023-04-21T17:44:44.670Z"
   },
   {
    "duration": 13,
    "start_time": "2023-04-21T17:44:44.690Z"
   },
   {
    "duration": 20,
    "start_time": "2023-04-21T17:44:44.706Z"
   },
   {
    "duration": 16,
    "start_time": "2023-04-21T17:44:44.729Z"
   },
   {
    "duration": 22,
    "start_time": "2023-04-21T17:44:44.747Z"
   },
   {
    "duration": 57,
    "start_time": "2023-04-21T17:44:44.771Z"
   },
   {
    "duration": 13,
    "start_time": "2023-04-21T17:44:44.831Z"
   },
   {
    "duration": 17,
    "start_time": "2023-04-21T17:44:44.846Z"
   },
   {
    "duration": 19,
    "start_time": "2023-04-21T17:44:44.865Z"
   },
   {
    "duration": 33,
    "start_time": "2023-04-21T17:44:44.886Z"
   },
   {
    "duration": 24,
    "start_time": "2023-04-21T17:44:44.922Z"
   },
   {
    "duration": 7,
    "start_time": "2023-04-21T17:44:44.948Z"
   },
   {
    "duration": 21,
    "start_time": "2023-04-21T17:44:44.957Z"
   },
   {
    "duration": 11,
    "start_time": "2023-04-21T17:44:44.980Z"
   },
   {
    "duration": 26,
    "start_time": "2023-04-21T17:44:44.993Z"
   },
   {
    "duration": 14,
    "start_time": "2023-04-21T17:44:45.022Z"
   },
   {
    "duration": 20,
    "start_time": "2023-04-21T17:44:45.038Z"
   },
   {
    "duration": 12,
    "start_time": "2023-04-21T17:44:45.060Z"
   },
   {
    "duration": 21,
    "start_time": "2023-04-21T17:44:45.074Z"
   },
   {
    "duration": 10,
    "start_time": "2023-04-21T17:44:45.097Z"
   },
   {
    "duration": 33,
    "start_time": "2023-04-21T17:44:45.109Z"
   },
   {
    "duration": 12,
    "start_time": "2023-04-21T17:44:45.144Z"
   },
   {
    "duration": 350,
    "start_time": "2023-04-21T17:44:45.158Z"
   },
   {
    "duration": 152,
    "start_time": "2023-04-21T17:44:45.510Z"
   },
   {
    "duration": 2983,
    "start_time": "2023-04-21T17:44:45.664Z"
   },
   {
    "duration": 316,
    "start_time": "2023-04-21T17:44:48.649Z"
   },
   {
    "duration": 363,
    "start_time": "2023-04-21T17:44:48.968Z"
   },
   {
    "duration": 10,
    "start_time": "2023-04-21T17:44:49.333Z"
   },
   {
    "duration": 2526,
    "start_time": "2023-04-21T17:44:49.347Z"
   },
   {
    "duration": 56,
    "start_time": "2023-04-21T17:44:51.877Z"
   },
   {
    "duration": 11,
    "start_time": "2023-04-21T17:44:51.935Z"
   },
   {
    "duration": 50,
    "start_time": "2023-04-21T17:44:51.952Z"
   },
   {
    "duration": 10,
    "start_time": "2023-04-21T17:45:06.284Z"
   },
   {
    "duration": 24,
    "start_time": "2023-04-21T17:47:24.224Z"
   },
   {
    "duration": 25,
    "start_time": "2023-04-21T17:47:26.841Z"
   },
   {
    "duration": 23,
    "start_time": "2023-04-21T17:47:30.433Z"
   },
   {
    "duration": 25,
    "start_time": "2023-04-21T17:47:41.981Z"
   },
   {
    "duration": 184,
    "start_time": "2023-04-21T17:48:07.582Z"
   },
   {
    "duration": 190,
    "start_time": "2023-04-21T17:48:37.616Z"
   },
   {
    "duration": 193,
    "start_time": "2023-04-21T17:48:59.656Z"
   },
   {
    "duration": 32,
    "start_time": "2023-04-21T17:49:17.584Z"
   },
   {
    "duration": 34,
    "start_time": "2023-04-21T17:49:26.183Z"
   },
   {
    "duration": 34,
    "start_time": "2023-04-21T17:51:58.752Z"
   },
   {
    "duration": 11,
    "start_time": "2023-04-21T17:52:18.491Z"
   },
   {
    "duration": 1233,
    "start_time": "2023-04-21T17:52:52.190Z"
   },
   {
    "duration": 13,
    "start_time": "2023-04-21T17:53:04.127Z"
   },
   {
    "duration": 385,
    "start_time": "2023-04-21T17:53:27.424Z"
   },
   {
    "duration": 185,
    "start_time": "2023-04-21T17:55:02.063Z"
   },
   {
    "duration": 28,
    "start_time": "2023-04-21T17:55:17.904Z"
   },
   {
    "duration": 30,
    "start_time": "2023-04-21T17:56:11.617Z"
   },
   {
    "duration": 32,
    "start_time": "2023-04-21T17:58:37.799Z"
   },
   {
    "duration": 40,
    "start_time": "2023-04-21T17:58:57.873Z"
   },
   {
    "duration": 40,
    "start_time": "2023-04-21T17:59:39.081Z"
   },
   {
    "duration": 8,
    "start_time": "2023-04-21T18:01:20.462Z"
   },
   {
    "duration": 10,
    "start_time": "2023-04-21T18:01:24.655Z"
   },
   {
    "duration": 21,
    "start_time": "2023-04-21T18:02:37.981Z"
   },
   {
    "duration": 297,
    "start_time": "2023-04-21T18:03:06.784Z"
   },
   {
    "duration": 82,
    "start_time": "2023-04-21T18:09:09.279Z"
   },
   {
    "duration": 67,
    "start_time": "2023-04-21T18:14:30.902Z"
   },
   {
    "duration": 542,
    "start_time": "2023-04-21T20:18:18.550Z"
   },
   {
    "duration": 2189,
    "start_time": "2023-04-21T20:18:19.094Z"
   },
   {
    "duration": 16,
    "start_time": "2023-04-21T20:18:21.285Z"
   },
   {
    "duration": 8,
    "start_time": "2023-04-21T20:18:21.303Z"
   },
   {
    "duration": 7,
    "start_time": "2023-04-21T20:18:21.312Z"
   },
   {
    "duration": 13,
    "start_time": "2023-04-21T20:18:21.321Z"
   },
   {
    "duration": 31,
    "start_time": "2023-04-21T20:18:21.336Z"
   },
   {
    "duration": 27,
    "start_time": "2023-04-21T20:18:21.369Z"
   },
   {
    "duration": 30,
    "start_time": "2023-04-21T20:18:21.397Z"
   },
   {
    "duration": 100,
    "start_time": "2023-04-21T20:18:21.429Z"
   },
   {
    "duration": 5,
    "start_time": "2023-04-21T20:18:21.531Z"
   },
   {
    "duration": 11,
    "start_time": "2023-04-21T20:18:21.538Z"
   },
   {
    "duration": 13,
    "start_time": "2023-04-21T20:18:21.564Z"
   },
   {
    "duration": 6,
    "start_time": "2023-04-21T20:18:21.579Z"
   },
   {
    "duration": 12,
    "start_time": "2023-04-21T20:18:21.587Z"
   },
   {
    "duration": 17,
    "start_time": "2023-04-21T20:18:21.601Z"
   },
   {
    "duration": 47,
    "start_time": "2023-04-21T20:18:21.620Z"
   },
   {
    "duration": 8,
    "start_time": "2023-04-21T20:18:21.669Z"
   },
   {
    "duration": 11,
    "start_time": "2023-04-21T20:18:21.678Z"
   },
   {
    "duration": 14,
    "start_time": "2023-04-21T20:18:21.690Z"
   },
   {
    "duration": 10,
    "start_time": "2023-04-21T20:18:21.705Z"
   },
   {
    "duration": 12,
    "start_time": "2023-04-21T20:18:21.717Z"
   },
   {
    "duration": 38,
    "start_time": "2023-04-21T20:18:21.731Z"
   },
   {
    "duration": 8,
    "start_time": "2023-04-21T20:18:21.771Z"
   },
   {
    "duration": 8,
    "start_time": "2023-04-21T20:18:21.781Z"
   },
   {
    "duration": 8,
    "start_time": "2023-04-21T20:18:21.791Z"
   },
   {
    "duration": 3,
    "start_time": "2023-04-21T20:18:21.801Z"
   },
   {
    "duration": 4,
    "start_time": "2023-04-21T20:18:21.807Z"
   },
   {
    "duration": 8,
    "start_time": "2023-04-21T20:18:21.812Z"
   },
   {
    "duration": 4,
    "start_time": "2023-04-21T20:18:21.821Z"
   },
   {
    "duration": 42,
    "start_time": "2023-04-21T20:18:21.827Z"
   },
   {
    "duration": 11,
    "start_time": "2023-04-21T20:18:21.871Z"
   },
   {
    "duration": 4,
    "start_time": "2023-04-21T20:18:21.884Z"
   },
   {
    "duration": 288,
    "start_time": "2023-04-21T20:18:21.890Z"
   },
   {
    "duration": 129,
    "start_time": "2023-04-21T20:18:22.179Z"
   },
   {
    "duration": 2447,
    "start_time": "2023-04-21T20:18:22.310Z"
   },
   {
    "duration": 402,
    "start_time": "2023-04-21T20:18:24.763Z"
   },
   {
    "duration": 259,
    "start_time": "2023-04-21T20:18:25.167Z"
   },
   {
    "duration": 6,
    "start_time": "2023-04-21T20:18:25.428Z"
   },
   {
    "duration": 1765,
    "start_time": "2023-04-21T20:18:25.436Z"
   },
   {
    "duration": 60,
    "start_time": "2023-04-21T20:18:27.204Z"
   },
   {
    "duration": 339,
    "start_time": "2023-04-21T20:18:27.266Z"
   },
   {
    "duration": 60,
    "start_time": "2023-04-21T21:00:17.761Z"
   },
   {
    "duration": 644,
    "start_time": "2023-04-21T21:00:24.213Z"
   },
   {
    "duration": 2767,
    "start_time": "2023-04-21T21:00:24.859Z"
   },
   {
    "duration": 23,
    "start_time": "2023-04-21T21:00:27.629Z"
   },
   {
    "duration": 11,
    "start_time": "2023-04-21T21:00:27.655Z"
   },
   {
    "duration": 6,
    "start_time": "2023-04-21T21:00:27.667Z"
   },
   {
    "duration": 9,
    "start_time": "2023-04-21T21:00:27.675Z"
   },
   {
    "duration": 27,
    "start_time": "2023-04-21T21:00:27.686Z"
   },
   {
    "duration": 11,
    "start_time": "2023-04-21T21:00:27.715Z"
   },
   {
    "duration": 27,
    "start_time": "2023-04-21T21:00:27.728Z"
   },
   {
    "duration": 40,
    "start_time": "2023-04-21T21:00:27.759Z"
   },
   {
    "duration": 85,
    "start_time": "2023-04-21T21:00:27.801Z"
   },
   {
    "duration": 12,
    "start_time": "2023-04-21T21:00:27.888Z"
   },
   {
    "duration": 16,
    "start_time": "2023-04-21T21:00:27.903Z"
   },
   {
    "duration": 16,
    "start_time": "2023-04-21T21:00:27.925Z"
   },
   {
    "duration": 8,
    "start_time": "2023-04-21T21:00:27.943Z"
   },
   {
    "duration": 9,
    "start_time": "2023-04-21T21:00:27.953Z"
   },
   {
    "duration": 52,
    "start_time": "2023-04-21T21:00:27.964Z"
   },
   {
    "duration": 32,
    "start_time": "2023-04-21T21:00:28.018Z"
   },
   {
    "duration": 9,
    "start_time": "2023-04-21T21:00:28.052Z"
   },
   {
    "duration": 36,
    "start_time": "2023-04-21T21:00:28.064Z"
   },
   {
    "duration": 25,
    "start_time": "2023-04-21T21:00:28.109Z"
   },
   {
    "duration": 12,
    "start_time": "2023-04-21T21:00:28.136Z"
   },
   {
    "duration": 16,
    "start_time": "2023-04-21T21:00:28.150Z"
   },
   {
    "duration": 9,
    "start_time": "2023-04-21T21:00:28.169Z"
   },
   {
    "duration": 24,
    "start_time": "2023-04-21T21:00:28.180Z"
   },
   {
    "duration": 11,
    "start_time": "2023-04-21T21:00:28.206Z"
   },
   {
    "duration": 13,
    "start_time": "2023-04-21T21:00:28.219Z"
   },
   {
    "duration": 3,
    "start_time": "2023-04-21T21:00:28.237Z"
   },
   {
    "duration": 7,
    "start_time": "2023-04-21T21:00:28.242Z"
   },
   {
    "duration": 7,
    "start_time": "2023-04-21T21:00:28.252Z"
   },
   {
    "duration": 7,
    "start_time": "2023-04-21T21:00:28.260Z"
   },
   {
    "duration": 28,
    "start_time": "2023-04-21T21:00:28.268Z"
   },
   {
    "duration": 7,
    "start_time": "2023-04-21T21:00:28.302Z"
   },
   {
    "duration": 16,
    "start_time": "2023-04-21T21:00:28.312Z"
   },
   {
    "duration": 331,
    "start_time": "2023-04-21T21:00:28.330Z"
   },
   {
    "duration": 149,
    "start_time": "2023-04-21T21:00:28.662Z"
   },
   {
    "duration": 2836,
    "start_time": "2023-04-21T21:00:28.815Z"
   },
   {
    "duration": 521,
    "start_time": "2023-04-21T21:00:31.653Z"
   },
   {
    "duration": 315,
    "start_time": "2023-04-21T21:00:32.176Z"
   },
   {
    "duration": 6,
    "start_time": "2023-04-21T21:00:32.493Z"
   },
   {
    "duration": 2016,
    "start_time": "2023-04-21T21:00:32.501Z"
   },
   {
    "duration": 48,
    "start_time": "2023-04-21T21:00:34.520Z"
   },
   {
    "duration": 451,
    "start_time": "2023-04-21T21:00:34.570Z"
   },
   {
    "duration": 122,
    "start_time": "2023-04-21T21:01:21.225Z"
   },
   {
    "duration": 151,
    "start_time": "2023-04-21T21:01:29.515Z"
   },
   {
    "duration": 79,
    "start_time": "2023-04-21T21:02:09.455Z"
   },
   {
    "duration": 148,
    "start_time": "2023-04-21T21:02:17.742Z"
   },
   {
    "duration": 55,
    "start_time": "2023-04-21T21:07:02.410Z"
   },
   {
    "duration": 52,
    "start_time": "2023-04-21T21:07:09.718Z"
   },
   {
    "duration": 50,
    "start_time": "2023-04-21T21:07:52.862Z"
   },
   {
    "duration": 131,
    "start_time": "2023-04-21T21:08:14.742Z"
   },
   {
    "duration": 62,
    "start_time": "2023-04-21T21:09:07.061Z"
   },
   {
    "duration": 65,
    "start_time": "2023-04-21T21:09:47.216Z"
   },
   {
    "duration": 55,
    "start_time": "2023-04-21T21:09:57.323Z"
   },
   {
    "duration": 142,
    "start_time": "2023-04-21T21:10:04.123Z"
   },
   {
    "duration": 2416,
    "start_time": "2023-04-21T21:10:04.267Z"
   },
   {
    "duration": 25,
    "start_time": "2023-04-21T21:10:06.695Z"
   },
   {
    "duration": 17,
    "start_time": "2023-04-21T21:10:06.722Z"
   },
   {
    "duration": 85,
    "start_time": "2023-04-21T21:10:06.742Z"
   },
   {
    "duration": 10,
    "start_time": "2023-04-21T21:10:06.831Z"
   },
   {
    "duration": 14,
    "start_time": "2023-04-21T21:10:06.842Z"
   },
   {
    "duration": 7,
    "start_time": "2023-04-21T21:10:06.860Z"
   },
   {
    "duration": 59,
    "start_time": "2023-04-21T21:10:06.869Z"
   },
   {
    "duration": 35,
    "start_time": "2023-04-21T21:10:06.930Z"
   },
   {
    "duration": 117,
    "start_time": "2023-04-21T21:10:06.968Z"
   },
   {
    "duration": 5,
    "start_time": "2023-04-21T21:10:07.086Z"
   },
   {
    "duration": 16,
    "start_time": "2023-04-21T21:10:07.093Z"
   },
   {
    "duration": 22,
    "start_time": "2023-04-21T21:10:07.114Z"
   },
   {
    "duration": 9,
    "start_time": "2023-04-21T21:10:07.138Z"
   },
   {
    "duration": 12,
    "start_time": "2023-04-21T21:10:07.149Z"
   },
   {
    "duration": 57,
    "start_time": "2023-04-21T21:10:07.163Z"
   },
   {
    "duration": 38,
    "start_time": "2023-04-21T21:10:07.222Z"
   },
   {
    "duration": 11,
    "start_time": "2023-04-21T21:10:07.262Z"
   },
   {
    "duration": 31,
    "start_time": "2023-04-21T21:10:07.275Z"
   },
   {
    "duration": 22,
    "start_time": "2023-04-21T21:10:07.311Z"
   },
   {
    "duration": 12,
    "start_time": "2023-04-21T21:10:07.337Z"
   },
   {
    "duration": 14,
    "start_time": "2023-04-21T21:10:07.352Z"
   },
   {
    "duration": 46,
    "start_time": "2023-04-21T21:10:07.368Z"
   },
   {
    "duration": 11,
    "start_time": "2023-04-21T21:10:07.416Z"
   },
   {
    "duration": 11,
    "start_time": "2023-04-21T21:10:07.429Z"
   },
   {
    "duration": 11,
    "start_time": "2023-04-21T21:10:07.442Z"
   },
   {
    "duration": 4,
    "start_time": "2023-04-21T21:10:07.455Z"
   },
   {
    "duration": 6,
    "start_time": "2023-04-21T21:10:07.461Z"
   },
   {
    "duration": 40,
    "start_time": "2023-04-21T21:10:07.469Z"
   },
   {
    "duration": 7,
    "start_time": "2023-04-21T21:10:07.523Z"
   },
   {
    "duration": 10,
    "start_time": "2023-04-21T21:10:07.532Z"
   },
   {
    "duration": 7,
    "start_time": "2023-04-21T21:10:07.544Z"
   },
   {
    "duration": 10,
    "start_time": "2023-04-21T21:10:07.553Z"
   },
   {
    "duration": 344,
    "start_time": "2023-04-21T21:10:07.565Z"
   },
   {
    "duration": 149,
    "start_time": "2023-04-21T21:10:07.910Z"
   },
   {
    "duration": 3213,
    "start_time": "2023-04-21T21:10:08.061Z"
   },
   {
    "duration": 326,
    "start_time": "2023-04-21T21:10:11.278Z"
   },
   {
    "duration": 354,
    "start_time": "2023-04-21T21:10:11.607Z"
   },
   {
    "duration": 7,
    "start_time": "2023-04-21T21:10:11.963Z"
   },
   {
    "duration": 2158,
    "start_time": "2023-04-21T21:10:11.976Z"
   },
   {
    "duration": 43,
    "start_time": "2023-04-21T21:10:14.136Z"
   },
   {
    "duration": 374,
    "start_time": "2023-04-21T21:10:14.180Z"
   },
   {
    "duration": 126,
    "start_time": "2023-04-21T21:10:38.252Z"
   },
   {
    "duration": 2471,
    "start_time": "2023-04-21T21:10:38.399Z"
   },
   {
    "duration": 30,
    "start_time": "2023-04-21T21:10:40.872Z"
   },
   {
    "duration": 13,
    "start_time": "2023-04-21T21:10:40.904Z"
   },
   {
    "duration": 48,
    "start_time": "2023-04-21T21:10:40.919Z"
   },
   {
    "duration": 0,
    "start_time": "2023-04-21T21:10:40.969Z"
   },
   {
    "duration": 0,
    "start_time": "2023-04-21T21:10:40.970Z"
   },
   {
    "duration": 0,
    "start_time": "2023-04-21T21:10:40.971Z"
   },
   {
    "duration": 0,
    "start_time": "2023-04-21T21:10:40.996Z"
   },
   {
    "duration": 0,
    "start_time": "2023-04-21T21:10:41.007Z"
   },
   {
    "duration": 0,
    "start_time": "2023-04-21T21:10:41.008Z"
   },
   {
    "duration": 0,
    "start_time": "2023-04-21T21:10:41.011Z"
   },
   {
    "duration": 0,
    "start_time": "2023-04-21T21:10:41.016Z"
   },
   {
    "duration": 0,
    "start_time": "2023-04-21T21:10:41.016Z"
   },
   {
    "duration": 0,
    "start_time": "2023-04-21T21:10:41.017Z"
   },
   {
    "duration": 0,
    "start_time": "2023-04-21T21:10:41.018Z"
   },
   {
    "duration": 0,
    "start_time": "2023-04-21T21:10:41.019Z"
   },
   {
    "duration": 0,
    "start_time": "2023-04-21T21:10:41.021Z"
   },
   {
    "duration": 0,
    "start_time": "2023-04-21T21:10:41.021Z"
   },
   {
    "duration": 1,
    "start_time": "2023-04-21T21:10:41.022Z"
   },
   {
    "duration": 0,
    "start_time": "2023-04-21T21:10:41.027Z"
   },
   {
    "duration": 0,
    "start_time": "2023-04-21T21:10:41.028Z"
   },
   {
    "duration": 0,
    "start_time": "2023-04-21T21:10:41.029Z"
   },
   {
    "duration": 0,
    "start_time": "2023-04-21T21:10:41.036Z"
   },
   {
    "duration": 0,
    "start_time": "2023-04-21T21:10:41.037Z"
   },
   {
    "duration": 0,
    "start_time": "2023-04-21T21:10:41.039Z"
   },
   {
    "duration": 0,
    "start_time": "2023-04-21T21:10:41.040Z"
   },
   {
    "duration": 0,
    "start_time": "2023-04-21T21:10:41.041Z"
   },
   {
    "duration": 0,
    "start_time": "2023-04-21T21:10:41.042Z"
   },
   {
    "duration": 0,
    "start_time": "2023-04-21T21:10:41.044Z"
   },
   {
    "duration": 0,
    "start_time": "2023-04-21T21:10:41.045Z"
   },
   {
    "duration": 0,
    "start_time": "2023-04-21T21:10:41.047Z"
   },
   {
    "duration": 0,
    "start_time": "2023-04-21T21:10:41.048Z"
   },
   {
    "duration": 0,
    "start_time": "2023-04-21T21:10:41.049Z"
   },
   {
    "duration": 0,
    "start_time": "2023-04-21T21:10:41.050Z"
   },
   {
    "duration": 0,
    "start_time": "2023-04-21T21:10:41.052Z"
   },
   {
    "duration": 0,
    "start_time": "2023-04-21T21:10:41.053Z"
   },
   {
    "duration": 0,
    "start_time": "2023-04-21T21:10:41.054Z"
   },
   {
    "duration": 0,
    "start_time": "2023-04-21T21:10:41.097Z"
   },
   {
    "duration": 0,
    "start_time": "2023-04-21T21:10:41.102Z"
   },
   {
    "duration": 0,
    "start_time": "2023-04-21T21:10:41.104Z"
   },
   {
    "duration": 0,
    "start_time": "2023-04-21T21:10:41.105Z"
   },
   {
    "duration": 0,
    "start_time": "2023-04-21T21:10:41.106Z"
   },
   {
    "duration": 72,
    "start_time": "2023-04-21T21:11:23.285Z"
   },
   {
    "duration": 15,
    "start_time": "2023-04-21T21:12:39.012Z"
   },
   {
    "duration": 51,
    "start_time": "2023-04-21T21:12:51.220Z"
   },
   {
    "duration": 30,
    "start_time": "2023-04-21T21:13:13.462Z"
   },
   {
    "duration": 9,
    "start_time": "2023-04-21T21:13:15.830Z"
   },
   {
    "duration": 48,
    "start_time": "2023-04-21T21:13:20.684Z"
   },
   {
    "duration": 148,
    "start_time": "2023-04-21T21:13:24.746Z"
   },
   {
    "duration": 2485,
    "start_time": "2023-04-21T21:13:24.899Z"
   },
   {
    "duration": 22,
    "start_time": "2023-04-21T21:13:27.386Z"
   },
   {
    "duration": 11,
    "start_time": "2023-04-21T21:13:27.410Z"
   },
   {
    "duration": 39,
    "start_time": "2023-04-21T21:13:27.424Z"
   },
   {
    "duration": 36,
    "start_time": "2023-04-21T21:13:27.465Z"
   },
   {
    "duration": 24,
    "start_time": "2023-04-21T21:13:27.503Z"
   },
   {
    "duration": 9,
    "start_time": "2023-04-21T21:13:27.529Z"
   },
   {
    "duration": 29,
    "start_time": "2023-04-21T21:13:27.539Z"
   },
   {
    "duration": 60,
    "start_time": "2023-04-21T21:13:27.570Z"
   },
   {
    "duration": 88,
    "start_time": "2023-04-21T21:13:27.632Z"
   },
   {
    "duration": 9,
    "start_time": "2023-04-21T21:13:27.722Z"
   },
   {
    "duration": 14,
    "start_time": "2023-04-21T21:13:27.733Z"
   },
   {
    "duration": 18,
    "start_time": "2023-04-21T21:13:27.752Z"
   },
   {
    "duration": 33,
    "start_time": "2023-04-21T21:13:27.772Z"
   },
   {
    "duration": 10,
    "start_time": "2023-04-21T21:13:27.817Z"
   },
   {
    "duration": 27,
    "start_time": "2023-04-21T21:13:27.828Z"
   },
   {
    "duration": 50,
    "start_time": "2023-04-21T21:13:27.857Z"
   },
   {
    "duration": 15,
    "start_time": "2023-04-21T21:13:27.915Z"
   },
   {
    "duration": 10,
    "start_time": "2023-04-21T21:13:27.935Z"
   },
   {
    "duration": 14,
    "start_time": "2023-04-21T21:13:27.947Z"
   },
   {
    "duration": 11,
    "start_time": "2023-04-21T21:13:27.963Z"
   },
   {
    "duration": 45,
    "start_time": "2023-04-21T21:13:27.976Z"
   },
   {
    "duration": 13,
    "start_time": "2023-04-21T21:13:28.023Z"
   },
   {
    "duration": 17,
    "start_time": "2023-04-21T21:13:28.038Z"
   },
   {
    "duration": 51,
    "start_time": "2023-04-21T21:13:28.057Z"
   },
   {
    "duration": 21,
    "start_time": "2023-04-21T21:13:28.111Z"
   },
   {
    "duration": 3,
    "start_time": "2023-04-21T21:13:28.135Z"
   },
   {
    "duration": 6,
    "start_time": "2023-04-21T21:13:28.140Z"
   },
   {
    "duration": 11,
    "start_time": "2023-04-21T21:13:28.147Z"
   },
   {
    "duration": 7,
    "start_time": "2023-04-21T21:13:28.161Z"
   },
   {
    "duration": 7,
    "start_time": "2023-04-21T21:13:28.170Z"
   },
   {
    "duration": 23,
    "start_time": "2023-04-21T21:13:28.180Z"
   },
   {
    "duration": 5,
    "start_time": "2023-04-21T21:13:28.205Z"
   },
   {
    "duration": 365,
    "start_time": "2023-04-21T21:13:28.212Z"
   },
   {
    "duration": 160,
    "start_time": "2023-04-21T21:13:28.579Z"
   },
   {
    "duration": 3244,
    "start_time": "2023-04-21T21:13:28.742Z"
   },
   {
    "duration": 432,
    "start_time": "2023-04-21T21:13:31.988Z"
   },
   {
    "duration": 312,
    "start_time": "2023-04-21T21:13:32.422Z"
   },
   {
    "duration": 7,
    "start_time": "2023-04-21T21:13:32.736Z"
   },
   {
    "duration": 2426,
    "start_time": "2023-04-21T21:13:32.748Z"
   },
   {
    "duration": 70,
    "start_time": "2023-04-21T21:13:35.176Z"
   },
   {
    "duration": 409,
    "start_time": "2023-04-21T21:13:35.256Z"
   },
   {
    "duration": 12,
    "start_time": "2023-04-21T21:13:53.013Z"
   },
   {
    "duration": 8,
    "start_time": "2023-04-21T21:16:27.602Z"
   },
   {
    "duration": 6,
    "start_time": "2023-04-21T21:16:31.159Z"
   },
   {
    "duration": 5,
    "start_time": "2023-04-21T21:16:51.419Z"
   },
   {
    "duration": 9,
    "start_time": "2023-04-21T21:17:09.022Z"
   },
   {
    "duration": 131,
    "start_time": "2023-04-21T21:17:19.704Z"
   },
   {
    "duration": 2279,
    "start_time": "2023-04-21T21:17:19.837Z"
   },
   {
    "duration": 21,
    "start_time": "2023-04-21T21:17:22.118Z"
   },
   {
    "duration": 13,
    "start_time": "2023-04-21T21:17:22.142Z"
   },
   {
    "duration": 41,
    "start_time": "2023-04-21T21:17:22.158Z"
   },
   {
    "duration": 18,
    "start_time": "2023-04-21T21:17:22.202Z"
   },
   {
    "duration": 48,
    "start_time": "2023-04-21T21:17:22.222Z"
   },
   {
    "duration": 48,
    "start_time": "2023-04-21T21:17:22.273Z"
   },
   {
    "duration": 58,
    "start_time": "2023-04-21T21:17:22.323Z"
   },
   {
    "duration": 36,
    "start_time": "2023-04-21T21:17:22.384Z"
   },
   {
    "duration": 86,
    "start_time": "2023-04-21T21:17:22.422Z"
   },
   {
    "duration": 8,
    "start_time": "2023-04-21T21:17:22.510Z"
   },
   {
    "duration": 32,
    "start_time": "2023-04-21T21:17:22.519Z"
   },
   {
    "duration": 23,
    "start_time": "2023-04-21T21:17:22.555Z"
   },
   {
    "duration": 8,
    "start_time": "2023-04-21T21:17:22.579Z"
   },
   {
    "duration": 21,
    "start_time": "2023-04-21T21:17:22.597Z"
   },
   {
    "duration": 33,
    "start_time": "2023-04-21T21:17:22.622Z"
   },
   {
    "duration": 31,
    "start_time": "2023-04-21T21:17:22.657Z"
   },
   {
    "duration": 15,
    "start_time": "2023-04-21T21:17:22.689Z"
   },
   {
    "duration": 13,
    "start_time": "2023-04-21T21:17:22.712Z"
   },
   {
    "duration": 12,
    "start_time": "2023-04-21T21:17:22.727Z"
   },
   {
    "duration": 26,
    "start_time": "2023-04-21T21:17:22.741Z"
   },
   {
    "duration": 36,
    "start_time": "2023-04-21T21:17:22.769Z"
   },
   {
    "duration": 19,
    "start_time": "2023-04-21T21:17:22.808Z"
   },
   {
    "duration": 9,
    "start_time": "2023-04-21T21:17:22.829Z"
   },
   {
    "duration": 19,
    "start_time": "2023-04-21T21:17:22.840Z"
   },
   {
    "duration": 38,
    "start_time": "2023-04-21T21:17:22.861Z"
   },
   {
    "duration": 20,
    "start_time": "2023-04-21T21:17:22.901Z"
   },
   {
    "duration": 12,
    "start_time": "2023-04-21T21:17:22.923Z"
   },
   {
    "duration": 6,
    "start_time": "2023-04-21T21:17:22.937Z"
   },
   {
    "duration": 8,
    "start_time": "2023-04-21T21:17:22.945Z"
   },
   {
    "duration": 6,
    "start_time": "2023-04-21T21:17:22.956Z"
   },
   {
    "duration": 16,
    "start_time": "2023-04-21T21:17:22.963Z"
   },
   {
    "duration": 15,
    "start_time": "2023-04-21T21:17:22.995Z"
   },
   {
    "duration": 8,
    "start_time": "2023-04-21T21:17:23.015Z"
   },
   {
    "duration": 357,
    "start_time": "2023-04-21T21:17:23.025Z"
   },
   {
    "duration": 152,
    "start_time": "2023-04-21T21:17:23.384Z"
   },
   {
    "duration": 3021,
    "start_time": "2023-04-21T21:17:23.538Z"
   },
   {
    "duration": 304,
    "start_time": "2023-04-21T21:17:26.561Z"
   },
   {
    "duration": 297,
    "start_time": "2023-04-21T21:17:26.867Z"
   },
   {
    "duration": 9,
    "start_time": "2023-04-21T21:17:27.168Z"
   },
   {
    "duration": 2389,
    "start_time": "2023-04-21T21:17:27.179Z"
   },
   {
    "duration": 68,
    "start_time": "2023-04-21T21:17:29.570Z"
   },
   {
    "duration": 341,
    "start_time": "2023-04-21T21:17:29.641Z"
   },
   {
    "duration": 18,
    "start_time": "2023-04-21T21:18:53.005Z"
   },
   {
    "duration": 10,
    "start_time": "2023-04-21T21:18:59.933Z"
   },
   {
    "duration": 7,
    "start_time": "2023-04-21T21:19:18.097Z"
   },
   {
    "duration": 5562,
    "start_time": "2023-04-21T21:41:31.998Z"
   },
   {
    "duration": 268,
    "start_time": "2023-04-21T21:41:53.310Z"
   },
   {
    "duration": 293,
    "start_time": "2023-04-21T21:42:19.525Z"
   },
   {
    "duration": 268,
    "start_time": "2023-04-21T21:43:33.038Z"
   },
   {
    "duration": 127,
    "start_time": "2023-04-21T21:43:51.623Z"
   },
   {
    "duration": 2115,
    "start_time": "2023-04-21T21:43:51.752Z"
   },
   {
    "duration": 28,
    "start_time": "2023-04-21T21:43:53.869Z"
   },
   {
    "duration": 18,
    "start_time": "2023-04-21T21:43:53.899Z"
   },
   {
    "duration": 10,
    "start_time": "2023-04-21T21:43:53.920Z"
   },
   {
    "duration": 6,
    "start_time": "2023-04-21T21:43:53.932Z"
   },
   {
    "duration": 12,
    "start_time": "2023-04-21T21:43:53.940Z"
   },
   {
    "duration": 41,
    "start_time": "2023-04-21T21:43:53.954Z"
   },
   {
    "duration": 34,
    "start_time": "2023-04-21T21:43:53.997Z"
   },
   {
    "duration": 21,
    "start_time": "2023-04-21T21:43:54.032Z"
   },
   {
    "duration": 103,
    "start_time": "2023-04-21T21:43:54.055Z"
   },
   {
    "duration": 6,
    "start_time": "2023-04-21T21:43:54.159Z"
   },
   {
    "duration": 36,
    "start_time": "2023-04-21T21:43:54.167Z"
   },
   {
    "duration": 18,
    "start_time": "2023-04-21T21:43:54.210Z"
   },
   {
    "duration": 8,
    "start_time": "2023-04-21T21:43:54.230Z"
   },
   {
    "duration": 8,
    "start_time": "2023-04-21T21:43:54.240Z"
   },
   {
    "duration": 50,
    "start_time": "2023-04-21T21:43:54.250Z"
   },
   {
    "duration": 36,
    "start_time": "2023-04-21T21:43:54.303Z"
   },
   {
    "duration": 5,
    "start_time": "2023-04-21T21:43:54.341Z"
   },
   {
    "duration": 14,
    "start_time": "2023-04-21T21:43:54.348Z"
   },
   {
    "duration": 17,
    "start_time": "2023-04-21T21:43:54.363Z"
   },
   {
    "duration": 39,
    "start_time": "2023-04-21T21:43:54.393Z"
   },
   {
    "duration": 11,
    "start_time": "2023-04-21T21:43:54.434Z"
   },
   {
    "duration": 15,
    "start_time": "2023-04-21T21:43:54.446Z"
   },
   {
    "duration": 8,
    "start_time": "2023-04-21T21:43:54.463Z"
   },
   {
    "duration": 26,
    "start_time": "2023-04-21T21:43:54.472Z"
   },
   {
    "duration": 18,
    "start_time": "2023-04-21T21:43:54.500Z"
   },
   {
    "duration": 9,
    "start_time": "2023-04-21T21:43:54.520Z"
   },
   {
    "duration": 3,
    "start_time": "2023-04-21T21:43:54.531Z"
   },
   {
    "duration": 9,
    "start_time": "2023-04-21T21:43:54.535Z"
   },
   {
    "duration": 5,
    "start_time": "2023-04-21T21:43:54.545Z"
   },
   {
    "duration": 10,
    "start_time": "2023-04-21T21:43:54.552Z"
   },
   {
    "duration": 5,
    "start_time": "2023-04-21T21:43:54.563Z"
   },
   {
    "duration": 6,
    "start_time": "2023-04-21T21:43:54.594Z"
   },
   {
    "duration": 8,
    "start_time": "2023-04-21T21:43:54.603Z"
   },
   {
    "duration": 5,
    "start_time": "2023-04-21T21:43:54.614Z"
   },
   {
    "duration": 317,
    "start_time": "2023-04-21T21:43:54.620Z"
   },
   {
    "duration": 146,
    "start_time": "2023-04-21T21:43:54.939Z"
   },
   {
    "duration": 2896,
    "start_time": "2023-04-21T21:43:55.087Z"
   },
   {
    "duration": 293,
    "start_time": "2023-04-21T21:43:57.984Z"
   },
   {
    "duration": 279,
    "start_time": "2023-04-21T21:43:58.280Z"
   },
   {
    "duration": 6,
    "start_time": "2023-04-21T21:43:58.561Z"
   },
   {
    "duration": 298,
    "start_time": "2023-04-21T21:43:58.569Z"
   },
   {
    "duration": 2008,
    "start_time": "2023-04-21T21:43:58.868Z"
   },
   {
    "duration": 53,
    "start_time": "2023-04-21T21:44:00.877Z"
   },
   {
    "duration": 325,
    "start_time": "2023-04-21T21:44:00.932Z"
   },
   {
    "duration": 277,
    "start_time": "2023-04-21T21:47:50.462Z"
   },
   {
    "duration": 117,
    "start_time": "2023-04-21T21:47:56.017Z"
   },
   {
    "duration": 2560,
    "start_time": "2023-04-21T21:47:56.136Z"
   },
   {
    "duration": 22,
    "start_time": "2023-04-21T21:47:58.697Z"
   },
   {
    "duration": 10,
    "start_time": "2023-04-21T21:47:58.721Z"
   },
   {
    "duration": 9,
    "start_time": "2023-04-21T21:47:58.734Z"
   },
   {
    "duration": 8,
    "start_time": "2023-04-21T21:47:58.745Z"
   },
   {
    "duration": 16,
    "start_time": "2023-04-21T21:47:58.793Z"
   },
   {
    "duration": 7,
    "start_time": "2023-04-21T21:47:58.810Z"
   },
   {
    "duration": 24,
    "start_time": "2023-04-21T21:47:58.819Z"
   },
   {
    "duration": 23,
    "start_time": "2023-04-21T21:47:58.845Z"
   },
   {
    "duration": 76,
    "start_time": "2023-04-21T21:47:58.894Z"
   },
   {
    "duration": 26,
    "start_time": "2023-04-21T21:47:58.972Z"
   },
   {
    "duration": 16,
    "start_time": "2023-04-21T21:47:59.000Z"
   },
   {
    "duration": 14,
    "start_time": "2023-04-21T21:47:59.020Z"
   },
   {
    "duration": 8,
    "start_time": "2023-04-21T21:47:59.036Z"
   },
   {
    "duration": 8,
    "start_time": "2023-04-21T21:47:59.046Z"
   },
   {
    "duration": 63,
    "start_time": "2023-04-21T21:47:59.056Z"
   },
   {
    "duration": 30,
    "start_time": "2023-04-21T21:47:59.122Z"
   },
   {
    "duration": 5,
    "start_time": "2023-04-21T21:47:59.154Z"
   },
   {
    "duration": 15,
    "start_time": "2023-04-21T21:47:59.160Z"
   },
   {
    "duration": 15,
    "start_time": "2023-04-21T21:47:59.193Z"
   },
   {
    "duration": 17,
    "start_time": "2023-04-21T21:47:59.211Z"
   },
   {
    "duration": 13,
    "start_time": "2023-04-21T21:47:59.230Z"
   },
   {
    "duration": 15,
    "start_time": "2023-04-21T21:47:59.245Z"
   },
   {
    "duration": 41,
    "start_time": "2023-04-21T21:47:59.262Z"
   },
   {
    "duration": 10,
    "start_time": "2023-04-21T21:47:59.306Z"
   },
   {
    "duration": 8,
    "start_time": "2023-04-21T21:47:59.318Z"
   },
   {
    "duration": 10,
    "start_time": "2023-04-21T21:47:59.328Z"
   },
   {
    "duration": 3,
    "start_time": "2023-04-21T21:47:59.339Z"
   },
   {
    "duration": 6,
    "start_time": "2023-04-21T21:47:59.343Z"
   },
   {
    "duration": 5,
    "start_time": "2023-04-21T21:47:59.351Z"
   },
   {
    "duration": 37,
    "start_time": "2023-04-21T21:47:59.358Z"
   },
   {
    "duration": 4,
    "start_time": "2023-04-21T21:47:59.397Z"
   },
   {
    "duration": 12,
    "start_time": "2023-04-21T21:47:59.403Z"
   },
   {
    "duration": 5,
    "start_time": "2023-04-21T21:47:59.417Z"
   },
   {
    "duration": 4,
    "start_time": "2023-04-21T21:47:59.424Z"
   },
   {
    "duration": 304,
    "start_time": "2023-04-21T21:47:59.429Z"
   },
   {
    "duration": 133,
    "start_time": "2023-04-21T21:47:59.735Z"
   },
   {
    "duration": 2735,
    "start_time": "2023-04-21T21:47:59.869Z"
   },
   {
    "duration": 280,
    "start_time": "2023-04-21T21:48:02.606Z"
   },
   {
    "duration": 278,
    "start_time": "2023-04-21T21:48:02.890Z"
   },
   {
    "duration": 5,
    "start_time": "2023-04-21T21:48:03.170Z"
   },
   {
    "duration": 310,
    "start_time": "2023-04-21T21:48:03.177Z"
   },
   {
    "duration": 2396,
    "start_time": "2023-04-21T21:48:03.492Z"
   },
   {
    "duration": 53,
    "start_time": "2023-04-21T21:48:05.890Z"
   },
   {
    "duration": 341,
    "start_time": "2023-04-21T21:48:05.945Z"
   },
   {
    "duration": 303,
    "start_time": "2023-04-21T21:49:17.956Z"
   },
   {
    "duration": 7,
    "start_time": "2023-04-21T21:49:31.492Z"
   },
   {
    "duration": 138,
    "start_time": "2023-04-21T21:52:21.906Z"
   },
   {
    "duration": 1985,
    "start_time": "2023-04-21T21:52:22.046Z"
   },
   {
    "duration": 16,
    "start_time": "2023-04-21T21:52:24.033Z"
   },
   {
    "duration": 8,
    "start_time": "2023-04-21T21:52:24.051Z"
   },
   {
    "duration": 12,
    "start_time": "2023-04-21T21:52:24.062Z"
   },
   {
    "duration": 11,
    "start_time": "2023-04-21T21:52:24.093Z"
   },
   {
    "duration": 24,
    "start_time": "2023-04-21T21:52:24.107Z"
   },
   {
    "duration": 16,
    "start_time": "2023-04-21T21:52:24.133Z"
   },
   {
    "duration": 54,
    "start_time": "2023-04-21T21:52:24.151Z"
   },
   {
    "duration": 23,
    "start_time": "2023-04-21T21:52:24.208Z"
   },
   {
    "duration": 87,
    "start_time": "2023-04-21T21:52:24.233Z"
   },
   {
    "duration": 5,
    "start_time": "2023-04-21T21:52:24.322Z"
   },
   {
    "duration": 15,
    "start_time": "2023-04-21T21:52:24.328Z"
   },
   {
    "duration": 18,
    "start_time": "2023-04-21T21:52:24.346Z"
   },
   {
    "duration": 8,
    "start_time": "2023-04-21T21:52:24.366Z"
   },
   {
    "duration": 26,
    "start_time": "2023-04-21T21:52:24.375Z"
   },
   {
    "duration": 20,
    "start_time": "2023-04-21T21:52:24.403Z"
   },
   {
    "duration": 28,
    "start_time": "2023-04-21T21:52:24.425Z"
   },
   {
    "duration": 5,
    "start_time": "2023-04-21T21:52:24.454Z"
   },
   {
    "duration": 34,
    "start_time": "2023-04-21T21:52:24.461Z"
   },
   {
    "duration": 11,
    "start_time": "2023-04-21T21:52:24.497Z"
   },
   {
    "duration": 17,
    "start_time": "2023-04-21T21:52:24.511Z"
   },
   {
    "duration": 10,
    "start_time": "2023-04-21T21:52:24.530Z"
   },
   {
    "duration": 16,
    "start_time": "2023-04-21T21:52:24.542Z"
   },
   {
    "duration": 40,
    "start_time": "2023-04-21T21:52:24.560Z"
   },
   {
    "duration": 11,
    "start_time": "2023-04-21T21:52:24.602Z"
   },
   {
    "duration": 9,
    "start_time": "2023-04-21T21:52:24.616Z"
   },
   {
    "duration": 33,
    "start_time": "2023-04-21T21:52:24.626Z"
   },
   {
    "duration": 8,
    "start_time": "2023-04-21T21:52:24.661Z"
   },
   {
    "duration": 25,
    "start_time": "2023-04-21T21:52:24.670Z"
   },
   {
    "duration": 35,
    "start_time": "2023-04-21T21:52:24.697Z"
   },
   {
    "duration": 40,
    "start_time": "2023-04-21T21:52:24.735Z"
   },
   {
    "duration": 6,
    "start_time": "2023-04-21T21:52:24.777Z"
   },
   {
    "duration": 17,
    "start_time": "2023-04-21T21:52:24.785Z"
   },
   {
    "duration": 7,
    "start_time": "2023-04-21T21:52:24.804Z"
   },
   {
    "duration": 36,
    "start_time": "2023-04-21T21:52:24.813Z"
   },
   {
    "duration": 324,
    "start_time": "2023-04-21T21:52:24.851Z"
   },
   {
    "duration": 150,
    "start_time": "2023-04-21T21:52:25.177Z"
   },
   {
    "duration": 2542,
    "start_time": "2023-04-21T21:52:25.328Z"
   },
   {
    "duration": 266,
    "start_time": "2023-04-21T21:52:27.872Z"
   },
   {
    "duration": 307,
    "start_time": "2023-04-21T21:52:28.141Z"
   },
   {
    "duration": 5,
    "start_time": "2023-04-21T21:52:28.449Z"
   },
   {
    "duration": 316,
    "start_time": "2023-04-21T21:52:28.456Z"
   },
   {
    "duration": 5,
    "start_time": "2023-04-21T21:52:28.774Z"
   },
   {
    "duration": 2437,
    "start_time": "2023-04-21T21:52:28.780Z"
   },
   {
    "duration": 45,
    "start_time": "2023-04-21T21:52:31.221Z"
   },
   {
    "duration": 356,
    "start_time": "2023-04-21T21:52:31.268Z"
   },
   {
    "duration": 126,
    "start_time": "2023-04-21T21:53:28.090Z"
   },
   {
    "duration": 2119,
    "start_time": "2023-04-21T21:53:28.219Z"
   },
   {
    "duration": 18,
    "start_time": "2023-04-21T21:53:30.341Z"
   },
   {
    "duration": 18,
    "start_time": "2023-04-21T21:53:30.361Z"
   },
   {
    "duration": 27,
    "start_time": "2023-04-21T21:53:30.396Z"
   },
   {
    "duration": 9,
    "start_time": "2023-04-21T21:53:30.425Z"
   },
   {
    "duration": 29,
    "start_time": "2023-04-21T21:53:30.436Z"
   },
   {
    "duration": 45,
    "start_time": "2023-04-21T21:53:30.467Z"
   },
   {
    "duration": 46,
    "start_time": "2023-04-21T21:53:30.515Z"
   },
   {
    "duration": 24,
    "start_time": "2023-04-21T21:53:30.563Z"
   },
   {
    "duration": 100,
    "start_time": "2023-04-21T21:53:30.589Z"
   },
   {
    "duration": 7,
    "start_time": "2023-04-21T21:53:30.692Z"
   },
   {
    "duration": 65,
    "start_time": "2023-04-21T21:53:30.702Z"
   },
   {
    "duration": 38,
    "start_time": "2023-04-21T21:53:30.771Z"
   },
   {
    "duration": 20,
    "start_time": "2023-04-21T21:53:30.812Z"
   },
   {
    "duration": 35,
    "start_time": "2023-04-21T21:53:30.839Z"
   },
   {
    "duration": 55,
    "start_time": "2023-04-21T21:53:30.875Z"
   },
   {
    "duration": 67,
    "start_time": "2023-04-21T21:53:30.932Z"
   },
   {
    "duration": 7,
    "start_time": "2023-04-21T21:53:31.001Z"
   },
   {
    "duration": 37,
    "start_time": "2023-04-21T21:53:31.010Z"
   },
   {
    "duration": 26,
    "start_time": "2023-04-21T21:53:31.049Z"
   },
   {
    "duration": 37,
    "start_time": "2023-04-21T21:53:31.077Z"
   },
   {
    "duration": 18,
    "start_time": "2023-04-21T21:53:31.117Z"
   },
   {
    "duration": 25,
    "start_time": "2023-04-21T21:53:31.138Z"
   },
   {
    "duration": 11,
    "start_time": "2023-04-21T21:53:31.165Z"
   },
   {
    "duration": 25,
    "start_time": "2023-04-21T21:53:31.178Z"
   },
   {
    "duration": 17,
    "start_time": "2023-04-21T21:53:31.205Z"
   },
   {
    "duration": 16,
    "start_time": "2023-04-21T21:53:31.224Z"
   },
   {
    "duration": 20,
    "start_time": "2023-04-21T21:53:31.242Z"
   },
   {
    "duration": 22,
    "start_time": "2023-04-21T21:53:31.264Z"
   },
   {
    "duration": 25,
    "start_time": "2023-04-21T21:53:31.288Z"
   },
   {
    "duration": 26,
    "start_time": "2023-04-21T21:53:31.316Z"
   },
   {
    "duration": 26,
    "start_time": "2023-04-21T21:53:31.344Z"
   },
   {
    "duration": 21,
    "start_time": "2023-04-21T21:53:31.372Z"
   },
   {
    "duration": 25,
    "start_time": "2023-04-21T21:53:31.396Z"
   },
   {
    "duration": 26,
    "start_time": "2023-04-21T21:53:31.423Z"
   },
   {
    "duration": 320,
    "start_time": "2023-04-21T21:53:31.451Z"
   },
   {
    "duration": 171,
    "start_time": "2023-04-21T21:53:31.773Z"
   },
   {
    "duration": 2642,
    "start_time": "2023-04-21T21:53:31.946Z"
   },
   {
    "duration": 346,
    "start_time": "2023-04-21T21:53:34.593Z"
   },
   {
    "duration": 301,
    "start_time": "2023-04-21T21:53:34.943Z"
   },
   {
    "duration": 5,
    "start_time": "2023-04-21T21:53:35.247Z"
   },
   {
    "duration": 314,
    "start_time": "2023-04-21T21:53:35.254Z"
   },
   {
    "duration": 6,
    "start_time": "2023-04-21T21:53:35.570Z"
   },
   {
    "duration": 2500,
    "start_time": "2023-04-21T21:53:35.578Z"
   },
   {
    "duration": 70,
    "start_time": "2023-04-21T21:53:38.079Z"
   },
   {
    "duration": 338,
    "start_time": "2023-04-21T21:53:38.150Z"
   },
   {
    "duration": 16,
    "start_time": "2023-04-21T21:54:04.202Z"
   },
   {
    "duration": 124,
    "start_time": "2023-04-21T21:54:11.301Z"
   },
   {
    "duration": 2228,
    "start_time": "2023-04-21T21:54:11.427Z"
   },
   {
    "duration": 16,
    "start_time": "2023-04-21T21:54:13.657Z"
   },
   {
    "duration": 24,
    "start_time": "2023-04-21T21:54:13.674Z"
   },
   {
    "duration": 11,
    "start_time": "2023-04-21T21:54:13.701Z"
   },
   {
    "duration": 8,
    "start_time": "2023-04-21T21:54:13.714Z"
   },
   {
    "duration": 18,
    "start_time": "2023-04-21T21:54:13.724Z"
   },
   {
    "duration": 8,
    "start_time": "2023-04-21T21:54:13.744Z"
   },
   {
    "duration": 63,
    "start_time": "2023-04-21T21:54:13.753Z"
   },
   {
    "duration": 22,
    "start_time": "2023-04-21T21:54:13.819Z"
   },
   {
    "duration": 83,
    "start_time": "2023-04-21T21:54:13.842Z"
   },
   {
    "duration": 5,
    "start_time": "2023-04-21T21:54:13.927Z"
   },
   {
    "duration": 11,
    "start_time": "2023-04-21T21:54:13.933Z"
   },
   {
    "duration": 13,
    "start_time": "2023-04-21T21:54:13.947Z"
   },
   {
    "duration": 6,
    "start_time": "2023-04-21T21:54:13.961Z"
   },
   {
    "duration": 9,
    "start_time": "2023-04-21T21:54:13.993Z"
   },
   {
    "duration": 32,
    "start_time": "2023-04-21T21:54:14.004Z"
   },
   {
    "duration": 29,
    "start_time": "2023-04-21T21:54:14.037Z"
   },
   {
    "duration": 27,
    "start_time": "2023-04-21T21:54:14.068Z"
   },
   {
    "duration": 18,
    "start_time": "2023-04-21T21:54:14.098Z"
   },
   {
    "duration": 11,
    "start_time": "2023-04-21T21:54:14.119Z"
   },
   {
    "duration": 14,
    "start_time": "2023-04-21T21:54:14.132Z"
   },
   {
    "duration": 13,
    "start_time": "2023-04-21T21:54:14.148Z"
   },
   {
    "duration": 22,
    "start_time": "2023-04-21T21:54:14.193Z"
   },
   {
    "duration": 9,
    "start_time": "2023-04-21T21:54:14.217Z"
   },
   {
    "duration": 18,
    "start_time": "2023-04-21T21:54:14.228Z"
   },
   {
    "duration": 8,
    "start_time": "2023-04-21T21:54:14.248Z"
   },
   {
    "duration": 10,
    "start_time": "2023-04-21T21:54:14.258Z"
   },
   {
    "duration": 26,
    "start_time": "2023-04-21T21:54:14.270Z"
   },
   {
    "duration": 9,
    "start_time": "2023-04-21T21:54:14.298Z"
   },
   {
    "duration": 4,
    "start_time": "2023-04-21T21:54:14.313Z"
   },
   {
    "duration": 10,
    "start_time": "2023-04-21T21:54:14.318Z"
   },
   {
    "duration": 5,
    "start_time": "2023-04-21T21:54:14.330Z"
   },
   {
    "duration": 7,
    "start_time": "2023-04-21T21:54:14.337Z"
   },
   {
    "duration": 6,
    "start_time": "2023-04-21T21:54:14.345Z"
   },
   {
    "duration": 5,
    "start_time": "2023-04-21T21:54:14.352Z"
   },
   {
    "duration": 332,
    "start_time": "2023-04-21T21:54:14.359Z"
   },
   {
    "duration": 138,
    "start_time": "2023-04-21T21:54:14.694Z"
   },
   {
    "duration": 2588,
    "start_time": "2023-04-21T21:54:14.833Z"
   },
   {
    "duration": 282,
    "start_time": "2023-04-21T21:54:17.423Z"
   },
   {
    "duration": 295,
    "start_time": "2023-04-21T21:54:17.711Z"
   },
   {
    "duration": 7,
    "start_time": "2023-04-21T21:54:18.009Z"
   },
   {
    "duration": 353,
    "start_time": "2023-04-21T21:54:18.018Z"
   },
   {
    "duration": 5,
    "start_time": "2023-04-21T21:54:18.373Z"
   },
   {
    "duration": 17,
    "start_time": "2023-04-21T21:54:18.393Z"
   },
   {
    "duration": 2627,
    "start_time": "2023-04-21T21:54:18.413Z"
   },
   {
    "duration": 61,
    "start_time": "2023-04-21T21:54:21.042Z"
   },
   {
    "duration": 363,
    "start_time": "2023-04-21T21:54:21.105Z"
   },
   {
    "duration": 118,
    "start_time": "2023-04-21T21:56:20.404Z"
   },
   {
    "duration": 2156,
    "start_time": "2023-04-21T21:56:20.524Z"
   },
   {
    "duration": 19,
    "start_time": "2023-04-21T21:56:22.682Z"
   },
   {
    "duration": 10,
    "start_time": "2023-04-21T21:56:22.704Z"
   },
   {
    "duration": 10,
    "start_time": "2023-04-21T21:56:22.717Z"
   },
   {
    "duration": 7,
    "start_time": "2023-04-21T21:56:22.729Z"
   },
   {
    "duration": 16,
    "start_time": "2023-04-21T21:56:22.737Z"
   },
   {
    "duration": 39,
    "start_time": "2023-04-21T21:56:22.755Z"
   },
   {
    "duration": 27,
    "start_time": "2023-04-21T21:56:22.796Z"
   },
   {
    "duration": 21,
    "start_time": "2023-04-21T21:56:22.825Z"
   },
   {
    "duration": 105,
    "start_time": "2023-04-21T21:56:22.848Z"
   },
   {
    "duration": 6,
    "start_time": "2023-04-21T21:56:22.956Z"
   },
   {
    "duration": 11,
    "start_time": "2023-04-21T21:56:22.963Z"
   },
   {
    "duration": 29,
    "start_time": "2023-04-21T21:56:22.977Z"
   },
   {
    "duration": 10,
    "start_time": "2023-04-21T21:56:23.008Z"
   },
   {
    "duration": 10,
    "start_time": "2023-04-21T21:56:23.020Z"
   },
   {
    "duration": 19,
    "start_time": "2023-04-21T21:56:23.031Z"
   },
   {
    "duration": 63,
    "start_time": "2023-04-21T21:56:23.051Z"
   },
   {
    "duration": 6,
    "start_time": "2023-04-21T21:56:23.116Z"
   },
   {
    "duration": 11,
    "start_time": "2023-04-21T21:56:23.124Z"
   },
   {
    "duration": 9,
    "start_time": "2023-04-21T21:56:23.137Z"
   },
   {
    "duration": 16,
    "start_time": "2023-04-21T21:56:23.148Z"
   },
   {
    "duration": 36,
    "start_time": "2023-04-21T21:56:23.165Z"
   },
   {
    "duration": 28,
    "start_time": "2023-04-21T21:56:23.204Z"
   },
   {
    "duration": 11,
    "start_time": "2023-04-21T21:56:23.234Z"
   },
   {
    "duration": 8,
    "start_time": "2023-04-21T21:56:23.247Z"
   },
   {
    "duration": 8,
    "start_time": "2023-04-21T21:56:23.257Z"
   },
   {
    "duration": 35,
    "start_time": "2023-04-21T21:56:23.267Z"
   },
   {
    "duration": 4,
    "start_time": "2023-04-21T21:56:23.305Z"
   },
   {
    "duration": 11,
    "start_time": "2023-04-21T21:56:23.310Z"
   },
   {
    "duration": 9,
    "start_time": "2023-04-21T21:56:23.323Z"
   },
   {
    "duration": 11,
    "start_time": "2023-04-21T21:56:23.334Z"
   },
   {
    "duration": 17,
    "start_time": "2023-04-21T21:56:23.347Z"
   },
   {
    "duration": 22,
    "start_time": "2023-04-21T21:56:23.366Z"
   },
   {
    "duration": 17,
    "start_time": "2023-04-21T21:56:23.390Z"
   },
   {
    "duration": 11,
    "start_time": "2023-04-21T21:56:23.410Z"
   },
   {
    "duration": 313,
    "start_time": "2023-04-21T21:56:23.423Z"
   },
   {
    "duration": 130,
    "start_time": "2023-04-21T21:56:23.739Z"
   },
   {
    "duration": 2446,
    "start_time": "2023-04-21T21:56:23.871Z"
   },
   {
    "duration": 278,
    "start_time": "2023-04-21T21:56:26.320Z"
   },
   {
    "duration": 292,
    "start_time": "2023-04-21T21:56:26.601Z"
   },
   {
    "duration": 12,
    "start_time": "2023-04-21T21:56:26.896Z"
   },
   {
    "duration": 313,
    "start_time": "2023-04-21T21:56:26.911Z"
   },
   {
    "duration": 6,
    "start_time": "2023-04-21T21:56:27.225Z"
   },
   {
    "duration": 10,
    "start_time": "2023-04-21T21:56:27.233Z"
   },
   {
    "duration": 2051,
    "start_time": "2023-04-21T21:56:27.245Z"
   },
   {
    "duration": 55,
    "start_time": "2023-04-21T21:56:29.298Z"
   },
   {
    "duration": 346,
    "start_time": "2023-04-21T21:56:29.356Z"
   },
   {
    "duration": 4,
    "start_time": "2023-04-21T21:59:17.362Z"
   },
   {
    "duration": 1970,
    "start_time": "2023-04-21T21:59:21.703Z"
   },
   {
    "duration": 131,
    "start_time": "2023-04-21T21:59:26.965Z"
   },
   {
    "duration": 2990,
    "start_time": "2023-04-21T21:59:27.099Z"
   },
   {
    "duration": 27,
    "start_time": "2023-04-21T21:59:30.091Z"
   },
   {
    "duration": 12,
    "start_time": "2023-04-21T21:59:30.119Z"
   },
   {
    "duration": 51,
    "start_time": "2023-04-21T21:59:30.133Z"
   },
   {
    "duration": 41,
    "start_time": "2023-04-21T21:59:30.187Z"
   },
   {
    "duration": 25,
    "start_time": "2023-04-21T21:59:30.230Z"
   },
   {
    "duration": 25,
    "start_time": "2023-04-21T21:59:30.257Z"
   },
   {
    "duration": 49,
    "start_time": "2023-04-21T21:59:30.284Z"
   },
   {
    "duration": 42,
    "start_time": "2023-04-21T21:59:30.336Z"
   },
   {
    "duration": 83,
    "start_time": "2023-04-21T21:59:30.381Z"
   },
   {
    "duration": 6,
    "start_time": "2023-04-21T21:59:30.466Z"
   },
   {
    "duration": 50,
    "start_time": "2023-04-21T21:59:30.474Z"
   },
   {
    "duration": 44,
    "start_time": "2023-04-21T21:59:30.528Z"
   },
   {
    "duration": 27,
    "start_time": "2023-04-21T21:59:30.575Z"
   },
   {
    "duration": 52,
    "start_time": "2023-04-21T21:59:30.605Z"
   },
   {
    "duration": 70,
    "start_time": "2023-04-21T21:59:30.659Z"
   },
   {
    "duration": 51,
    "start_time": "2023-04-21T21:59:30.731Z"
   },
   {
    "duration": 30,
    "start_time": "2023-04-21T21:59:30.785Z"
   },
   {
    "duration": 59,
    "start_time": "2023-04-21T21:59:30.817Z"
   },
   {
    "duration": 33,
    "start_time": "2023-04-21T21:59:30.878Z"
   },
   {
    "duration": 66,
    "start_time": "2023-04-21T21:59:30.914Z"
   },
   {
    "duration": 32,
    "start_time": "2023-04-21T21:59:30.981Z"
   },
   {
    "duration": 41,
    "start_time": "2023-04-21T21:59:31.015Z"
   },
   {
    "duration": 19,
    "start_time": "2023-04-21T21:59:31.059Z"
   },
   {
    "duration": 35,
    "start_time": "2023-04-21T21:59:31.080Z"
   },
   {
    "duration": 13,
    "start_time": "2023-04-21T21:59:31.118Z"
   },
   {
    "duration": 44,
    "start_time": "2023-04-21T21:59:31.133Z"
   },
   {
    "duration": 16,
    "start_time": "2023-04-21T21:59:31.179Z"
   },
   {
    "duration": 38,
    "start_time": "2023-04-21T21:59:31.198Z"
   },
   {
    "duration": 43,
    "start_time": "2023-04-21T21:59:31.239Z"
   },
   {
    "duration": 29,
    "start_time": "2023-04-21T21:59:31.283Z"
   },
   {
    "duration": 13,
    "start_time": "2023-04-21T21:59:31.315Z"
   },
   {
    "duration": 19,
    "start_time": "2023-04-21T21:59:31.330Z"
   },
   {
    "duration": 16,
    "start_time": "2023-04-21T21:59:31.351Z"
   },
   {
    "duration": 15,
    "start_time": "2023-04-21T21:59:31.369Z"
   },
   {
    "duration": 333,
    "start_time": "2023-04-21T21:59:31.386Z"
   },
   {
    "duration": 135,
    "start_time": "2023-04-21T21:59:31.721Z"
   },
   {
    "duration": 2609,
    "start_time": "2023-04-21T21:59:31.858Z"
   },
   {
    "duration": 284,
    "start_time": "2023-04-21T21:59:34.468Z"
   },
   {
    "duration": 293,
    "start_time": "2023-04-21T21:59:34.755Z"
   },
   {
    "duration": 6,
    "start_time": "2023-04-21T21:59:35.051Z"
   },
   {
    "duration": 303,
    "start_time": "2023-04-21T21:59:35.059Z"
   },
   {
    "duration": 6,
    "start_time": "2023-04-21T21:59:35.364Z"
   },
   {
    "duration": 30,
    "start_time": "2023-04-21T21:59:35.372Z"
   },
   {
    "duration": 4,
    "start_time": "2023-04-21T21:59:35.404Z"
   },
   {
    "duration": 1916,
    "start_time": "2023-04-21T21:59:35.410Z"
   },
   {
    "duration": 46,
    "start_time": "2023-04-21T21:59:37.327Z"
   },
   {
    "duration": 349,
    "start_time": "2023-04-21T21:59:37.392Z"
   },
   {
    "duration": 550,
    "start_time": "2023-04-22T08:22:37.017Z"
   },
   {
    "duration": 2160,
    "start_time": "2023-04-22T08:22:37.569Z"
   },
   {
    "duration": 17,
    "start_time": "2023-04-22T08:22:39.731Z"
   },
   {
    "duration": 9,
    "start_time": "2023-04-22T08:22:39.750Z"
   },
   {
    "duration": 11,
    "start_time": "2023-04-22T08:22:39.760Z"
   },
   {
    "duration": 8,
    "start_time": "2023-04-22T08:22:39.773Z"
   },
   {
    "duration": 16,
    "start_time": "2023-04-22T08:22:39.782Z"
   },
   {
    "duration": 7,
    "start_time": "2023-04-22T08:22:39.800Z"
   },
   {
    "duration": 29,
    "start_time": "2023-04-22T08:22:39.809Z"
   },
   {
    "duration": 46,
    "start_time": "2023-04-22T08:22:39.841Z"
   },
   {
    "duration": 73,
    "start_time": "2023-04-22T08:22:39.889Z"
   },
   {
    "duration": 25,
    "start_time": "2023-04-22T08:22:39.964Z"
   },
   {
    "duration": 13,
    "start_time": "2023-04-22T08:22:39.991Z"
   },
   {
    "duration": 18,
    "start_time": "2023-04-22T08:22:40.006Z"
   },
   {
    "duration": 15,
    "start_time": "2023-04-22T08:22:40.025Z"
   },
   {
    "duration": 23,
    "start_time": "2023-04-22T08:22:40.042Z"
   },
   {
    "duration": 28,
    "start_time": "2023-04-22T08:22:40.068Z"
   },
   {
    "duration": 25,
    "start_time": "2023-04-22T08:22:40.098Z"
   },
   {
    "duration": 5,
    "start_time": "2023-04-22T08:22:40.125Z"
   },
   {
    "duration": 11,
    "start_time": "2023-04-22T08:22:40.132Z"
   },
   {
    "duration": 7,
    "start_time": "2023-04-22T08:22:40.145Z"
   },
   {
    "duration": 33,
    "start_time": "2023-04-22T08:22:40.154Z"
   },
   {
    "duration": 8,
    "start_time": "2023-04-22T08:22:40.189Z"
   },
   {
    "duration": 12,
    "start_time": "2023-04-22T08:22:40.199Z"
   },
   {
    "duration": 11,
    "start_time": "2023-04-22T08:22:40.213Z"
   },
   {
    "duration": 8,
    "start_time": "2023-04-22T08:22:40.225Z"
   },
   {
    "duration": 7,
    "start_time": "2023-04-22T08:22:40.235Z"
   },
   {
    "duration": 19,
    "start_time": "2023-04-22T08:22:40.245Z"
   },
   {
    "duration": 20,
    "start_time": "2023-04-22T08:22:40.266Z"
   },
   {
    "duration": 24,
    "start_time": "2023-04-22T08:22:40.288Z"
   },
   {
    "duration": 16,
    "start_time": "2023-04-22T08:22:40.314Z"
   },
   {
    "duration": 14,
    "start_time": "2023-04-22T08:22:40.331Z"
   },
   {
    "duration": 12,
    "start_time": "2023-04-22T08:22:40.346Z"
   },
   {
    "duration": 7,
    "start_time": "2023-04-22T08:22:40.360Z"
   },
   {
    "duration": 5,
    "start_time": "2023-04-22T08:22:40.368Z"
   },
   {
    "duration": 4,
    "start_time": "2023-04-22T08:22:40.374Z"
   },
   {
    "duration": 274,
    "start_time": "2023-04-22T08:22:40.380Z"
   },
   {
    "duration": 113,
    "start_time": "2023-04-22T08:22:40.655Z"
   },
   {
    "duration": 2261,
    "start_time": "2023-04-22T08:22:40.770Z"
   },
   {
    "duration": 347,
    "start_time": "2023-04-22T08:22:43.033Z"
   },
   {
    "duration": 251,
    "start_time": "2023-04-22T08:22:43.384Z"
   },
   {
    "duration": 5,
    "start_time": "2023-04-22T08:22:43.637Z"
   },
   {
    "duration": 290,
    "start_time": "2023-04-22T08:22:43.644Z"
   },
   {
    "duration": 7,
    "start_time": "2023-04-22T08:22:43.938Z"
   },
   {
    "duration": 12,
    "start_time": "2023-04-22T08:22:43.947Z"
   },
   {
    "duration": 7,
    "start_time": "2023-04-22T08:22:43.961Z"
   },
   {
    "duration": 1829,
    "start_time": "2023-04-22T08:22:43.986Z"
   },
   {
    "duration": 149,
    "start_time": "2023-04-22T08:22:45.817Z"
   },
   {
    "duration": 293,
    "start_time": "2023-04-22T08:22:45.967Z"
   }
  ],
  "kernelspec": {
   "display_name": "Python 3 (ipykernel)",
   "language": "python",
   "name": "python3"
  },
  "language_info": {
   "codemirror_mode": {
    "name": "ipython",
    "version": 3
   },
   "file_extension": ".py",
   "mimetype": "text/x-python",
   "name": "python",
   "nbconvert_exporter": "python",
   "pygments_lexer": "ipython3",
   "version": "3.9.5"
  },
  "toc": {
   "base_numbering": 1,
   "nav_menu": {},
   "number_sections": true,
   "sideBar": true,
   "skip_h1_title": true,
   "title_cell": "Table of Contents",
   "title_sidebar": "Contents",
   "toc_cell": false,
   "toc_position": {},
   "toc_section_display": true,
   "toc_window_display": false
  }
 },
 "nbformat": 4,
 "nbformat_minor": 2
}

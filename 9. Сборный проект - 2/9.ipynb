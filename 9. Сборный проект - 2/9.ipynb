{
 "cells": [
  {
   "cell_type": "markdown",
   "metadata": {
    "toc": true
   },
   "source": [
    "<h1>Содержание<span class=\"tocSkip\"></span></h1>\n",
    "<div class=\"toc\"><ul class=\"toc-item\"><li><span><a href=\"#Подготовка-данных\" data-toc-modified-id=\"Подготовка-данных-1\"><span class=\"toc-item-num\">1&nbsp;&nbsp;</span>Подготовка данных</a></span></li><li><span><a href=\"#Анализ-данных\" data-toc-modified-id=\"Анализ-данных-2\"><span class=\"toc-item-num\">2&nbsp;&nbsp;</span>Анализ данных</a></span></li><li><span><a href=\"#Модель\" data-toc-modified-id=\"Модель-3\"><span class=\"toc-item-num\">3&nbsp;&nbsp;</span>Модель</a></span></li></ul></div>"
   ]
  },
  {
   "cell_type": "markdown",
   "metadata": {},
   "source": [
    "# Восстановление золота из руды"
   ]
  },
  {
   "cell_type": "markdown",
   "metadata": {},
   "source": [
    "Подготовьте прототип модели машинного обучения для «Цифры». Компания разрабатывает решения для эффективной работы промышленных предприятий.\n",
    "\n",
    "Модель должна предсказать коэффициент восстановления золота из золотосодержащей руды. Используйте данные с параметрами добычи и очистки. \n",
    "\n",
    "Модель поможет оптимизировать производство, чтобы не запускать предприятие с убыточными характеристиками.\n",
    "\n",
    "Вам нужно:\n",
    "\n",
    "1. Подготовить данные;\n",
    "2. Провести исследовательский анализ данных;\n",
    "3. Построить и обучить модель.\n",
    "\n",
    "Чтобы выполнить проект, обращайтесь к библиотекам *pandas*, *matplotlib* и *sklearn.* Вам поможет их документация."
   ]
  },
  {
   "cell_type": "markdown",
   "metadata": {},
   "source": [
    "## Подготовка данных"
   ]
  },
  {
   "cell_type": "code",
   "execution_count": 1,
   "metadata": {},
   "outputs": [],
   "source": [
    "import pandas as pd\n",
    "import numpy as np\n",
    "from sklearn.metrics import mean_absolute_error\n",
    "import matplotlib.pyplot as plt\n",
    "import seaborn as sns\n",
    "from sklearn.model_selection import cross_val_score\n",
    "from sklearn.linear_model import LinearRegression\n",
    "from sklearn.ensemble import RandomForestRegressor\n",
    "from sklearn.tree import DecisionTreeRegressor\n",
    "from sklearn.metrics import make_scorer\n",
    "from sklearn.pipeline import  make_pipeline\n",
    "from sklearn.preprocessing import StandardScaler\n",
    "from sklearn.model_selection import GridSearchCV\n",
    "from scipy.stats import ttest_ind\n",
    "from sklearn.pipeline import Pipeline\n",
    "from sklearn.preprocessing import MinMaxScaler\n",
    "from sklearn.linear_model import Lasso\n",
    "from sklearn.linear_model import ElasticNet\n",
    "from sklearn.dummy import DummyRegressor"
   ]
  },
  {
   "cell_type": "code",
   "execution_count": 2,
   "metadata": {},
   "outputs": [],
   "source": [
    "data_train = pd.read_csv('/datasets/gold_industry_train.csv')\n",
    "data_test = pd.read_csv('/datasets/gold_industry_test.csv')\n",
    "data_full = pd.read_csv('/datasets/gold_industry_full.csv')"
   ]
  },
  {
   "cell_type": "markdown",
   "metadata": {},
   "source": [
    "# data_train"
   ]
  },
  {
   "cell_type": "code",
   "execution_count": 3,
   "metadata": {},
   "outputs": [
    {
     "data": {
      "text/html": [
       "<div>\n",
       "<style scoped>\n",
       "    .dataframe tbody tr th:only-of-type {\n",
       "        vertical-align: middle;\n",
       "    }\n",
       "\n",
       "    .dataframe tbody tr th {\n",
       "        vertical-align: top;\n",
       "    }\n",
       "\n",
       "    .dataframe thead th {\n",
       "        text-align: right;\n",
       "    }\n",
       "</style>\n",
       "<table border=\"1\" class=\"dataframe\">\n",
       "  <thead>\n",
       "    <tr style=\"text-align: right;\">\n",
       "      <th></th>\n",
       "      <th>date</th>\n",
       "      <th>rougher.input.feed_au</th>\n",
       "      <th>rougher.input.feed_ag</th>\n",
       "      <th>rougher.input.feed_pb</th>\n",
       "      <th>rougher.input.feed_sol</th>\n",
       "      <th>rougher.input.feed_rate</th>\n",
       "      <th>rougher.input.feed_size</th>\n",
       "      <th>rougher.input.floatbank10_sulfate</th>\n",
       "      <th>rougher.input.floatbank10_xanthate</th>\n",
       "      <th>rougher.state.floatbank10_a_air</th>\n",
       "      <th>...</th>\n",
       "      <th>secondary_cleaner.output.tail_sol</th>\n",
       "      <th>final.output.concentrate_au</th>\n",
       "      <th>final.output.concentrate_ag</th>\n",
       "      <th>final.output.concentrate_pb</th>\n",
       "      <th>final.output.concentrate_sol</th>\n",
       "      <th>final.output.recovery</th>\n",
       "      <th>final.output.tail_au</th>\n",
       "      <th>final.output.tail_ag</th>\n",
       "      <th>final.output.tail_pb</th>\n",
       "      <th>final.output.tail_sol</th>\n",
       "    </tr>\n",
       "  </thead>\n",
       "  <tbody>\n",
       "    <tr>\n",
       "      <th>0</th>\n",
       "      <td>2016-01-15 00:00:00</td>\n",
       "      <td>6.486150</td>\n",
       "      <td>6.100378</td>\n",
       "      <td>2.284912</td>\n",
       "      <td>36.808594</td>\n",
       "      <td>523.546326</td>\n",
       "      <td>55.486599</td>\n",
       "      <td>11.986616</td>\n",
       "      <td>6.007990</td>\n",
       "      <td>999.706909</td>\n",
       "      <td>...</td>\n",
       "      <td>8.764648</td>\n",
       "      <td>42.192020</td>\n",
       "      <td>6.055403</td>\n",
       "      <td>9.889648</td>\n",
       "      <td>5.507324</td>\n",
       "      <td>70.541216</td>\n",
       "      <td>2.143149</td>\n",
       "      <td>10.411962</td>\n",
       "      <td>0.895447</td>\n",
       "      <td>16.904297</td>\n",
       "    </tr>\n",
       "    <tr>\n",
       "      <th>1</th>\n",
       "      <td>2016-01-15 01:00:00</td>\n",
       "      <td>6.478583</td>\n",
       "      <td>6.161113</td>\n",
       "      <td>2.266033</td>\n",
       "      <td>35.753385</td>\n",
       "      <td>525.290581</td>\n",
       "      <td>57.278666</td>\n",
       "      <td>11.971193</td>\n",
       "      <td>6.005766</td>\n",
       "      <td>1000.286398</td>\n",
       "      <td>...</td>\n",
       "      <td>9.001494</td>\n",
       "      <td>42.701629</td>\n",
       "      <td>6.029369</td>\n",
       "      <td>9.968944</td>\n",
       "      <td>5.257781</td>\n",
       "      <td>69.266198</td>\n",
       "      <td>2.224930</td>\n",
       "      <td>10.462676</td>\n",
       "      <td>0.927452</td>\n",
       "      <td>16.634514</td>\n",
       "    </tr>\n",
       "    <tr>\n",
       "      <th>2</th>\n",
       "      <td>2016-01-15 02:00:00</td>\n",
       "      <td>6.362222</td>\n",
       "      <td>6.116455</td>\n",
       "      <td>2.159622</td>\n",
       "      <td>35.971630</td>\n",
       "      <td>530.026610</td>\n",
       "      <td>57.510649</td>\n",
       "      <td>11.920603</td>\n",
       "      <td>6.197377</td>\n",
       "      <td>999.719565</td>\n",
       "      <td>...</td>\n",
       "      <td>8.842896</td>\n",
       "      <td>42.657501</td>\n",
       "      <td>6.055926</td>\n",
       "      <td>10.213995</td>\n",
       "      <td>5.383759</td>\n",
       "      <td>68.116445</td>\n",
       "      <td>2.257889</td>\n",
       "      <td>10.507046</td>\n",
       "      <td>0.953716</td>\n",
       "      <td>16.208849</td>\n",
       "    </tr>\n",
       "    <tr>\n",
       "      <th>3</th>\n",
       "      <td>2016-01-15 03:00:00</td>\n",
       "      <td>6.118189</td>\n",
       "      <td>6.043309</td>\n",
       "      <td>2.037807</td>\n",
       "      <td>36.862241</td>\n",
       "      <td>542.590390</td>\n",
       "      <td>57.792734</td>\n",
       "      <td>11.630094</td>\n",
       "      <td>6.203177</td>\n",
       "      <td>999.814770</td>\n",
       "      <td>...</td>\n",
       "      <td>9.122857</td>\n",
       "      <td>42.689819</td>\n",
       "      <td>6.047977</td>\n",
       "      <td>9.977019</td>\n",
       "      <td>4.858634</td>\n",
       "      <td>68.347543</td>\n",
       "      <td>2.146849</td>\n",
       "      <td>10.422762</td>\n",
       "      <td>0.883763</td>\n",
       "      <td>16.532835</td>\n",
       "    </tr>\n",
       "    <tr>\n",
       "      <th>4</th>\n",
       "      <td>2016-01-15 04:00:00</td>\n",
       "      <td>5.663707</td>\n",
       "      <td>6.060915</td>\n",
       "      <td>1.786875</td>\n",
       "      <td>34.347666</td>\n",
       "      <td>540.531893</td>\n",
       "      <td>56.047189</td>\n",
       "      <td>10.957755</td>\n",
       "      <td>6.198826</td>\n",
       "      <td>999.678690</td>\n",
       "      <td>...</td>\n",
       "      <td>8.871028</td>\n",
       "      <td>42.774141</td>\n",
       "      <td>6.148599</td>\n",
       "      <td>10.142511</td>\n",
       "      <td>4.939416</td>\n",
       "      <td>66.927016</td>\n",
       "      <td>2.055292</td>\n",
       "      <td>10.360302</td>\n",
       "      <td>0.792826</td>\n",
       "      <td>16.525686</td>\n",
       "    </tr>\n",
       "  </tbody>\n",
       "</table>\n",
       "<p>5 rows × 87 columns</p>\n",
       "</div>"
      ],
      "text/plain": [
       "                  date  rougher.input.feed_au  rougher.input.feed_ag  \\\n",
       "0  2016-01-15 00:00:00               6.486150               6.100378   \n",
       "1  2016-01-15 01:00:00               6.478583               6.161113   \n",
       "2  2016-01-15 02:00:00               6.362222               6.116455   \n",
       "3  2016-01-15 03:00:00               6.118189               6.043309   \n",
       "4  2016-01-15 04:00:00               5.663707               6.060915   \n",
       "\n",
       "   rougher.input.feed_pb  rougher.input.feed_sol  rougher.input.feed_rate  \\\n",
       "0               2.284912               36.808594               523.546326   \n",
       "1               2.266033               35.753385               525.290581   \n",
       "2               2.159622               35.971630               530.026610   \n",
       "3               2.037807               36.862241               542.590390   \n",
       "4               1.786875               34.347666               540.531893   \n",
       "\n",
       "   rougher.input.feed_size  rougher.input.floatbank10_sulfate  \\\n",
       "0                55.486599                          11.986616   \n",
       "1                57.278666                          11.971193   \n",
       "2                57.510649                          11.920603   \n",
       "3                57.792734                          11.630094   \n",
       "4                56.047189                          10.957755   \n",
       "\n",
       "   rougher.input.floatbank10_xanthate  rougher.state.floatbank10_a_air  ...  \\\n",
       "0                            6.007990                       999.706909  ...   \n",
       "1                            6.005766                      1000.286398  ...   \n",
       "2                            6.197377                       999.719565  ...   \n",
       "3                            6.203177                       999.814770  ...   \n",
       "4                            6.198826                       999.678690  ...   \n",
       "\n",
       "   secondary_cleaner.output.tail_sol  final.output.concentrate_au  \\\n",
       "0                           8.764648                    42.192020   \n",
       "1                           9.001494                    42.701629   \n",
       "2                           8.842896                    42.657501   \n",
       "3                           9.122857                    42.689819   \n",
       "4                           8.871028                    42.774141   \n",
       "\n",
       "   final.output.concentrate_ag  final.output.concentrate_pb  \\\n",
       "0                     6.055403                     9.889648   \n",
       "1                     6.029369                     9.968944   \n",
       "2                     6.055926                    10.213995   \n",
       "3                     6.047977                     9.977019   \n",
       "4                     6.148599                    10.142511   \n",
       "\n",
       "   final.output.concentrate_sol  final.output.recovery  final.output.tail_au  \\\n",
       "0                      5.507324              70.541216              2.143149   \n",
       "1                      5.257781              69.266198              2.224930   \n",
       "2                      5.383759              68.116445              2.257889   \n",
       "3                      4.858634              68.347543              2.146849   \n",
       "4                      4.939416              66.927016              2.055292   \n",
       "\n",
       "   final.output.tail_ag  final.output.tail_pb  final.output.tail_sol  \n",
       "0             10.411962              0.895447              16.904297  \n",
       "1             10.462676              0.927452              16.634514  \n",
       "2             10.507046              0.953716              16.208849  \n",
       "3             10.422762              0.883763              16.532835  \n",
       "4             10.360302              0.792826              16.525686  \n",
       "\n",
       "[5 rows x 87 columns]"
      ]
     },
     "execution_count": 3,
     "metadata": {},
     "output_type": "execute_result"
    }
   ],
   "source": [
    "data_train.head()"
   ]
  },
  {
   "cell_type": "code",
   "execution_count": 4,
   "metadata": {},
   "outputs": [
    {
     "name": "stdout",
     "output_type": "stream",
     "text": [
      "<class 'pandas.core.frame.DataFrame'>\n",
      "RangeIndex: 14579 entries, 0 to 14578\n",
      "Data columns (total 87 columns):\n",
      " #   Column                                              Non-Null Count  Dtype  \n",
      "---  ------                                              --------------  -----  \n",
      " 0   date                                                14579 non-null  object \n",
      " 1   rougher.input.feed_au                               14579 non-null  float64\n",
      " 2   rougher.input.feed_ag                               14579 non-null  float64\n",
      " 3   rougher.input.feed_pb                               14507 non-null  float64\n",
      " 4   rougher.input.feed_sol                              14502 non-null  float64\n",
      " 5   rougher.input.feed_rate                             14572 non-null  float64\n",
      " 6   rougher.input.feed_size                             14478 non-null  float64\n",
      " 7   rougher.input.floatbank10_sulfate                   14548 non-null  float64\n",
      " 8   rougher.input.floatbank10_xanthate                  14572 non-null  float64\n",
      " 9   rougher.state.floatbank10_a_air                     14579 non-null  float64\n",
      " 10  rougher.state.floatbank10_a_level                   14579 non-null  float64\n",
      " 11  rougher.state.floatbank10_b_air                     14579 non-null  float64\n",
      " 12  rougher.state.floatbank10_b_level                   14579 non-null  float64\n",
      " 13  rougher.state.floatbank10_c_air                     14579 non-null  float64\n",
      " 14  rougher.state.floatbank10_c_level                   14579 non-null  float64\n",
      " 15  rougher.state.floatbank10_d_air                     14579 non-null  float64\n",
      " 16  rougher.state.floatbank10_d_level                   14579 non-null  float64\n",
      " 17  rougher.state.floatbank10_e_air                     14150 non-null  float64\n",
      " 18  rougher.state.floatbank10_e_level                   14579 non-null  float64\n",
      " 19  rougher.state.floatbank10_f_air                     14579 non-null  float64\n",
      " 20  rougher.state.floatbank10_f_level                   14579 non-null  float64\n",
      " 21  rougher.input.floatbank11_sulfate                   14543 non-null  float64\n",
      " 22  rougher.input.floatbank11_xanthate                  14172 non-null  float64\n",
      " 23  rougher.calculation.sulfate_to_au_concentrate       14578 non-null  float64\n",
      " 24  rougher.calculation.floatbank10_sulfate_to_au_feed  14578 non-null  float64\n",
      " 25  rougher.calculation.floatbank11_sulfate_to_au_feed  14578 non-null  float64\n",
      " 26  rougher.calculation.au_pb_ratio                     14579 non-null  float64\n",
      " 27  rougher.output.concentrate_au                       14579 non-null  float64\n",
      " 28  rougher.output.concentrate_ag                       14579 non-null  float64\n",
      " 29  rougher.output.concentrate_pb                       14579 non-null  float64\n",
      " 30  rougher.output.concentrate_sol                      14561 non-null  float64\n",
      " 31  rougher.output.recovery                             14579 non-null  float64\n",
      " 32  rougher.output.tail_au                              14579 non-null  float64\n",
      " 33  rougher.output.tail_ag                              14578 non-null  float64\n",
      " 34  rougher.output.tail_pb                              14579 non-null  float64\n",
      " 35  rougher.output.tail_sol                             14579 non-null  float64\n",
      " 36  primary_cleaner.input.sulfate                       14556 non-null  float64\n",
      " 37  primary_cleaner.input.depressant                    14551 non-null  float64\n",
      " 38  primary_cleaner.input.feed_size                     14579 non-null  float64\n",
      " 39  primary_cleaner.input.xanthate                      14518 non-null  float64\n",
      " 40  primary_cleaner.state.floatbank8_a_air              14576 non-null  float64\n",
      " 41  primary_cleaner.state.floatbank8_a_level            14579 non-null  float64\n",
      " 42  primary_cleaner.state.floatbank8_b_air              14576 non-null  float64\n",
      " 43  primary_cleaner.state.floatbank8_b_level            14579 non-null  float64\n",
      " 44  primary_cleaner.state.floatbank8_c_air              14579 non-null  float64\n",
      " 45  primary_cleaner.state.floatbank8_c_level            14579 non-null  float64\n",
      " 46  primary_cleaner.state.floatbank8_d_air              14578 non-null  float64\n",
      " 47  primary_cleaner.state.floatbank8_d_level            14579 non-null  float64\n",
      " 48  primary_cleaner.output.concentrate_au               14579 non-null  float64\n",
      " 49  primary_cleaner.output.concentrate_ag               14579 non-null  float64\n",
      " 50  primary_cleaner.output.concentrate_pb               14491 non-null  float64\n",
      " 51  primary_cleaner.output.concentrate_sol              14314 non-null  float64\n",
      " 52  primary_cleaner.output.tail_au                      14579 non-null  float64\n",
      " 53  primary_cleaner.output.tail_ag                      14575 non-null  float64\n",
      " 54  primary_cleaner.output.tail_pb                      14573 non-null  float64\n",
      " 55  primary_cleaner.output.tail_sol                     14534 non-null  float64\n",
      " 56  secondary_cleaner.state.floatbank2_a_air            14485 non-null  float64\n",
      " 57  secondary_cleaner.state.floatbank2_a_level          14579 non-null  float64\n",
      " 58  secondary_cleaner.state.floatbank2_b_air            14557 non-null  float64\n",
      " 59  secondary_cleaner.state.floatbank2_b_level          14579 non-null  float64\n",
      " 60  secondary_cleaner.state.floatbank3_a_air            14567 non-null  float64\n",
      " 61  secondary_cleaner.state.floatbank3_a_level          14579 non-null  float64\n",
      " 62  secondary_cleaner.state.floatbank3_b_air            14579 non-null  float64\n",
      " 63  secondary_cleaner.state.floatbank3_b_level          14579 non-null  float64\n",
      " 64  secondary_cleaner.state.floatbank4_a_air            14574 non-null  float64\n",
      " 65  secondary_cleaner.state.floatbank4_a_level          14579 non-null  float64\n",
      " 66  secondary_cleaner.state.floatbank4_b_air            14579 non-null  float64\n",
      " 67  secondary_cleaner.state.floatbank4_b_level          14579 non-null  float64\n",
      " 68  secondary_cleaner.state.floatbank5_a_air            14579 non-null  float64\n",
      " 69  secondary_cleaner.state.floatbank5_a_level          14579 non-null  float64\n",
      " 70  secondary_cleaner.state.floatbank5_b_air            14579 non-null  float64\n",
      " 71  secondary_cleaner.state.floatbank5_b_level          14579 non-null  float64\n",
      " 72  secondary_cleaner.state.floatbank6_a_air            14578 non-null  float64\n",
      " 73  secondary_cleaner.state.floatbank6_a_level          14579 non-null  float64\n",
      " 74  secondary_cleaner.output.tail_au                    14579 non-null  float64\n",
      " 75  secondary_cleaner.output.tail_ag                    14578 non-null  float64\n",
      " 76  secondary_cleaner.output.tail_pb                    14575 non-null  float64\n",
      " 77  secondary_cleaner.output.tail_sol                   13659 non-null  float64\n",
      " 78  final.output.concentrate_au                         14579 non-null  float64\n",
      " 79  final.output.concentrate_ag                         14578 non-null  float64\n",
      " 80  final.output.concentrate_pb                         14578 non-null  float64\n",
      " 81  final.output.concentrate_sol                        14387 non-null  float64\n",
      " 82  final.output.recovery                               14579 non-null  float64\n",
      " 83  final.output.tail_au                                14579 non-null  float64\n",
      " 84  final.output.tail_ag                                14578 non-null  float64\n",
      " 85  final.output.tail_pb                                14504 non-null  float64\n",
      " 86  final.output.tail_sol                               14574 non-null  float64\n",
      "dtypes: float64(86), object(1)\n",
      "memory usage: 9.7+ MB\n"
     ]
    }
   ],
   "source": [
    "data_train.info()"
   ]
  },
  {
   "cell_type": "code",
   "execution_count": 5,
   "metadata": {},
   "outputs": [
    {
     "data": {
      "text/plain": [
       "0"
      ]
     },
     "execution_count": 5,
     "metadata": {},
     "output_type": "execute_result"
    }
   ],
   "source": [
    "data_train.duplicated().sum()"
   ]
  },
  {
   "cell_type": "markdown",
   "metadata": {},
   "source": [
    "Явных дупликатов нет"
   ]
  },
  {
   "cell_type": "markdown",
   "metadata": {},
   "source": [
    "# data_test"
   ]
  },
  {
   "cell_type": "code",
   "execution_count": 6,
   "metadata": {
    "scrolled": true
   },
   "outputs": [
    {
     "data": {
      "text/html": [
       "<div>\n",
       "<style scoped>\n",
       "    .dataframe tbody tr th:only-of-type {\n",
       "        vertical-align: middle;\n",
       "    }\n",
       "\n",
       "    .dataframe tbody tr th {\n",
       "        vertical-align: top;\n",
       "    }\n",
       "\n",
       "    .dataframe thead th {\n",
       "        text-align: right;\n",
       "    }\n",
       "</style>\n",
       "<table border=\"1\" class=\"dataframe\">\n",
       "  <thead>\n",
       "    <tr style=\"text-align: right;\">\n",
       "      <th></th>\n",
       "      <th>date</th>\n",
       "      <th>rougher.input.feed_au</th>\n",
       "      <th>rougher.input.feed_ag</th>\n",
       "      <th>rougher.input.feed_pb</th>\n",
       "      <th>rougher.input.feed_sol</th>\n",
       "      <th>rougher.input.feed_rate</th>\n",
       "      <th>rougher.input.feed_size</th>\n",
       "      <th>rougher.input.floatbank10_sulfate</th>\n",
       "      <th>rougher.input.floatbank10_xanthate</th>\n",
       "      <th>rougher.state.floatbank10_a_air</th>\n",
       "      <th>...</th>\n",
       "      <th>secondary_cleaner.state.floatbank4_a_air</th>\n",
       "      <th>secondary_cleaner.state.floatbank4_a_level</th>\n",
       "      <th>secondary_cleaner.state.floatbank4_b_air</th>\n",
       "      <th>secondary_cleaner.state.floatbank4_b_level</th>\n",
       "      <th>secondary_cleaner.state.floatbank5_a_air</th>\n",
       "      <th>secondary_cleaner.state.floatbank5_a_level</th>\n",
       "      <th>secondary_cleaner.state.floatbank5_b_air</th>\n",
       "      <th>secondary_cleaner.state.floatbank5_b_level</th>\n",
       "      <th>secondary_cleaner.state.floatbank6_a_air</th>\n",
       "      <th>secondary_cleaner.state.floatbank6_a_level</th>\n",
       "    </tr>\n",
       "  </thead>\n",
       "  <tbody>\n",
       "    <tr>\n",
       "      <th>0</th>\n",
       "      <td>2017-12-09 14:59:59</td>\n",
       "      <td>4.365491</td>\n",
       "      <td>6.158718</td>\n",
       "      <td>3.875727</td>\n",
       "      <td>39.135119</td>\n",
       "      <td>555.820208</td>\n",
       "      <td>94.544358</td>\n",
       "      <td>6.146982</td>\n",
       "      <td>9.308612</td>\n",
       "      <td>1196.238112</td>\n",
       "      <td>...</td>\n",
       "      <td>23.018622</td>\n",
       "      <td>-500.492702</td>\n",
       "      <td>20.020205</td>\n",
       "      <td>-500.220296</td>\n",
       "      <td>17.963512</td>\n",
       "      <td>-499.939490</td>\n",
       "      <td>12.990306</td>\n",
       "      <td>-500.080993</td>\n",
       "      <td>19.990336</td>\n",
       "      <td>-499.191575</td>\n",
       "    </tr>\n",
       "    <tr>\n",
       "      <th>1</th>\n",
       "      <td>2017-12-09 15:59:59</td>\n",
       "      <td>4.362781</td>\n",
       "      <td>6.048130</td>\n",
       "      <td>3.902537</td>\n",
       "      <td>39.713906</td>\n",
       "      <td>544.731687</td>\n",
       "      <td>123.742430</td>\n",
       "      <td>6.210119</td>\n",
       "      <td>9.297709</td>\n",
       "      <td>1201.904177</td>\n",
       "      <td>...</td>\n",
       "      <td>23.024963</td>\n",
       "      <td>-501.153409</td>\n",
       "      <td>20.054122</td>\n",
       "      <td>-500.314711</td>\n",
       "      <td>17.979515</td>\n",
       "      <td>-499.272871</td>\n",
       "      <td>12.992404</td>\n",
       "      <td>-499.976268</td>\n",
       "      <td>20.013986</td>\n",
       "      <td>-500.625471</td>\n",
       "    </tr>\n",
       "    <tr>\n",
       "      <th>2</th>\n",
       "      <td>2017-12-09 16:59:59</td>\n",
       "      <td>5.081681</td>\n",
       "      <td>6.082745</td>\n",
       "      <td>4.564078</td>\n",
       "      <td>37.208683</td>\n",
       "      <td>558.155110</td>\n",
       "      <td>82.610855</td>\n",
       "      <td>7.363824</td>\n",
       "      <td>9.003562</td>\n",
       "      <td>1200.826926</td>\n",
       "      <td>...</td>\n",
       "      <td>22.993827</td>\n",
       "      <td>-501.559663</td>\n",
       "      <td>20.029144</td>\n",
       "      <td>-500.000662</td>\n",
       "      <td>18.012723</td>\n",
       "      <td>-500.024764</td>\n",
       "      <td>13.016445</td>\n",
       "      <td>-500.058432</td>\n",
       "      <td>19.973767</td>\n",
       "      <td>-501.394155</td>\n",
       "    </tr>\n",
       "    <tr>\n",
       "      <th>3</th>\n",
       "      <td>2017-12-09 17:59:59</td>\n",
       "      <td>5.145949</td>\n",
       "      <td>6.084374</td>\n",
       "      <td>4.768124</td>\n",
       "      <td>36.808874</td>\n",
       "      <td>539.713765</td>\n",
       "      <td>77.984784</td>\n",
       "      <td>6.927072</td>\n",
       "      <td>8.955597</td>\n",
       "      <td>1199.292489</td>\n",
       "      <td>...</td>\n",
       "      <td>23.032807</td>\n",
       "      <td>-501.287889</td>\n",
       "      <td>19.977466</td>\n",
       "      <td>-500.159903</td>\n",
       "      <td>17.980463</td>\n",
       "      <td>-500.504602</td>\n",
       "      <td>12.949071</td>\n",
       "      <td>-500.009937</td>\n",
       "      <td>20.010332</td>\n",
       "      <td>-508.337973</td>\n",
       "    </tr>\n",
       "    <tr>\n",
       "      <th>4</th>\n",
       "      <td>2017-12-09 18:59:59</td>\n",
       "      <td>5.735249</td>\n",
       "      <td>6.165220</td>\n",
       "      <td>4.512346</td>\n",
       "      <td>37.810642</td>\n",
       "      <td>558.713584</td>\n",
       "      <td>86.434874</td>\n",
       "      <td>7.823471</td>\n",
       "      <td>7.490356</td>\n",
       "      <td>1198.005449</td>\n",
       "      <td>...</td>\n",
       "      <td>23.001911</td>\n",
       "      <td>-499.947838</td>\n",
       "      <td>20.023735</td>\n",
       "      <td>-499.713680</td>\n",
       "      <td>17.990955</td>\n",
       "      <td>-500.334769</td>\n",
       "      <td>13.007523</td>\n",
       "      <td>-499.968459</td>\n",
       "      <td>19.995999</td>\n",
       "      <td>-499.788805</td>\n",
       "    </tr>\n",
       "  </tbody>\n",
       "</table>\n",
       "<p>5 rows × 53 columns</p>\n",
       "</div>"
      ],
      "text/plain": [
       "                  date  rougher.input.feed_au  rougher.input.feed_ag  \\\n",
       "0  2017-12-09 14:59:59               4.365491               6.158718   \n",
       "1  2017-12-09 15:59:59               4.362781               6.048130   \n",
       "2  2017-12-09 16:59:59               5.081681               6.082745   \n",
       "3  2017-12-09 17:59:59               5.145949               6.084374   \n",
       "4  2017-12-09 18:59:59               5.735249               6.165220   \n",
       "\n",
       "   rougher.input.feed_pb  rougher.input.feed_sol  rougher.input.feed_rate  \\\n",
       "0               3.875727               39.135119               555.820208   \n",
       "1               3.902537               39.713906               544.731687   \n",
       "2               4.564078               37.208683               558.155110   \n",
       "3               4.768124               36.808874               539.713765   \n",
       "4               4.512346               37.810642               558.713584   \n",
       "\n",
       "   rougher.input.feed_size  rougher.input.floatbank10_sulfate  \\\n",
       "0                94.544358                           6.146982   \n",
       "1               123.742430                           6.210119   \n",
       "2                82.610855                           7.363824   \n",
       "3                77.984784                           6.927072   \n",
       "4                86.434874                           7.823471   \n",
       "\n",
       "   rougher.input.floatbank10_xanthate  rougher.state.floatbank10_a_air  ...  \\\n",
       "0                            9.308612                      1196.238112  ...   \n",
       "1                            9.297709                      1201.904177  ...   \n",
       "2                            9.003562                      1200.826926  ...   \n",
       "3                            8.955597                      1199.292489  ...   \n",
       "4                            7.490356                      1198.005449  ...   \n",
       "\n",
       "   secondary_cleaner.state.floatbank4_a_air  \\\n",
       "0                                 23.018622   \n",
       "1                                 23.024963   \n",
       "2                                 22.993827   \n",
       "3                                 23.032807   \n",
       "4                                 23.001911   \n",
       "\n",
       "   secondary_cleaner.state.floatbank4_a_level  \\\n",
       "0                                 -500.492702   \n",
       "1                                 -501.153409   \n",
       "2                                 -501.559663   \n",
       "3                                 -501.287889   \n",
       "4                                 -499.947838   \n",
       "\n",
       "   secondary_cleaner.state.floatbank4_b_air  \\\n",
       "0                                 20.020205   \n",
       "1                                 20.054122   \n",
       "2                                 20.029144   \n",
       "3                                 19.977466   \n",
       "4                                 20.023735   \n",
       "\n",
       "   secondary_cleaner.state.floatbank4_b_level  \\\n",
       "0                                 -500.220296   \n",
       "1                                 -500.314711   \n",
       "2                                 -500.000662   \n",
       "3                                 -500.159903   \n",
       "4                                 -499.713680   \n",
       "\n",
       "   secondary_cleaner.state.floatbank5_a_air  \\\n",
       "0                                 17.963512   \n",
       "1                                 17.979515   \n",
       "2                                 18.012723   \n",
       "3                                 17.980463   \n",
       "4                                 17.990955   \n",
       "\n",
       "   secondary_cleaner.state.floatbank5_a_level  \\\n",
       "0                                 -499.939490   \n",
       "1                                 -499.272871   \n",
       "2                                 -500.024764   \n",
       "3                                 -500.504602   \n",
       "4                                 -500.334769   \n",
       "\n",
       "   secondary_cleaner.state.floatbank5_b_air  \\\n",
       "0                                 12.990306   \n",
       "1                                 12.992404   \n",
       "2                                 13.016445   \n",
       "3                                 12.949071   \n",
       "4                                 13.007523   \n",
       "\n",
       "   secondary_cleaner.state.floatbank5_b_level  \\\n",
       "0                                 -500.080993   \n",
       "1                                 -499.976268   \n",
       "2                                 -500.058432   \n",
       "3                                 -500.009937   \n",
       "4                                 -499.968459   \n",
       "\n",
       "   secondary_cleaner.state.floatbank6_a_air  \\\n",
       "0                                 19.990336   \n",
       "1                                 20.013986   \n",
       "2                                 19.973767   \n",
       "3                                 20.010332   \n",
       "4                                 19.995999   \n",
       "\n",
       "   secondary_cleaner.state.floatbank6_a_level  \n",
       "0                                 -499.191575  \n",
       "1                                 -500.625471  \n",
       "2                                 -501.394155  \n",
       "3                                 -508.337973  \n",
       "4                                 -499.788805  \n",
       "\n",
       "[5 rows x 53 columns]"
      ]
     },
     "execution_count": 6,
     "metadata": {},
     "output_type": "execute_result"
    }
   ],
   "source": [
    "data_test.head()"
   ]
  },
  {
   "cell_type": "code",
   "execution_count": 7,
   "metadata": {
    "scrolled": true
   },
   "outputs": [
    {
     "name": "stdout",
     "output_type": "stream",
     "text": [
      "<class 'pandas.core.frame.DataFrame'>\n",
      "RangeIndex: 4860 entries, 0 to 4859\n",
      "Data columns (total 53 columns):\n",
      " #   Column                                      Non-Null Count  Dtype  \n",
      "---  ------                                      --------------  -----  \n",
      " 0   date                                        4860 non-null   object \n",
      " 1   rougher.input.feed_au                       4860 non-null   float64\n",
      " 2   rougher.input.feed_ag                       4860 non-null   float64\n",
      " 3   rougher.input.feed_pb                       4832 non-null   float64\n",
      " 4   rougher.input.feed_sol                      4838 non-null   float64\n",
      " 5   rougher.input.feed_rate                     4856 non-null   float64\n",
      " 6   rougher.input.feed_size                     4816 non-null   float64\n",
      " 7   rougher.input.floatbank10_sulfate           4857 non-null   float64\n",
      " 8   rougher.input.floatbank10_xanthate          4859 non-null   float64\n",
      " 9   rougher.state.floatbank10_a_air             4859 non-null   float64\n",
      " 10  rougher.state.floatbank10_a_level           4859 non-null   float64\n",
      " 11  rougher.state.floatbank10_b_air             4859 non-null   float64\n",
      " 12  rougher.state.floatbank10_b_level           4859 non-null   float64\n",
      " 13  rougher.state.floatbank10_c_air             4859 non-null   float64\n",
      " 14  rougher.state.floatbank10_c_level           4859 non-null   float64\n",
      " 15  rougher.state.floatbank10_d_air             4860 non-null   float64\n",
      " 16  rougher.state.floatbank10_d_level           4860 non-null   float64\n",
      " 17  rougher.state.floatbank10_e_air             4853 non-null   float64\n",
      " 18  rougher.state.floatbank10_e_level           4860 non-null   float64\n",
      " 19  rougher.state.floatbank10_f_air             4860 non-null   float64\n",
      " 20  rougher.state.floatbank10_f_level           4860 non-null   float64\n",
      " 21  rougher.input.floatbank11_sulfate           4852 non-null   float64\n",
      " 22  rougher.input.floatbank11_xanthate          4814 non-null   float64\n",
      " 23  primary_cleaner.input.sulfate               4859 non-null   float64\n",
      " 24  primary_cleaner.input.depressant            4851 non-null   float64\n",
      " 25  primary_cleaner.input.feed_size             4860 non-null   float64\n",
      " 26  primary_cleaner.input.xanthate              4817 non-null   float64\n",
      " 27  primary_cleaner.state.floatbank8_a_air      4859 non-null   float64\n",
      " 28  primary_cleaner.state.floatbank8_a_level    4859 non-null   float64\n",
      " 29  primary_cleaner.state.floatbank8_b_air      4859 non-null   float64\n",
      " 30  primary_cleaner.state.floatbank8_b_level    4859 non-null   float64\n",
      " 31  primary_cleaner.state.floatbank8_c_air      4858 non-null   float64\n",
      " 32  primary_cleaner.state.floatbank8_c_level    4859 non-null   float64\n",
      " 33  primary_cleaner.state.floatbank8_d_air      4858 non-null   float64\n",
      " 34  primary_cleaner.state.floatbank8_d_level    4859 non-null   float64\n",
      " 35  secondary_cleaner.state.floatbank2_a_air    4734 non-null   float64\n",
      " 36  secondary_cleaner.state.floatbank2_a_level  4859 non-null   float64\n",
      " 37  secondary_cleaner.state.floatbank2_b_air    4859 non-null   float64\n",
      " 38  secondary_cleaner.state.floatbank2_b_level  4859 non-null   float64\n",
      " 39  secondary_cleaner.state.floatbank3_a_air    4859 non-null   float64\n",
      " 40  secondary_cleaner.state.floatbank3_a_level  4859 non-null   float64\n",
      " 41  secondary_cleaner.state.floatbank3_b_air    4859 non-null   float64\n",
      " 42  secondary_cleaner.state.floatbank3_b_level  4859 non-null   float64\n",
      " 43  secondary_cleaner.state.floatbank4_a_air    4859 non-null   float64\n",
      " 44  secondary_cleaner.state.floatbank4_a_level  4859 non-null   float64\n",
      " 45  secondary_cleaner.state.floatbank4_b_air    4859 non-null   float64\n",
      " 46  secondary_cleaner.state.floatbank4_b_level  4859 non-null   float64\n",
      " 47  secondary_cleaner.state.floatbank5_a_air    4859 non-null   float64\n",
      " 48  secondary_cleaner.state.floatbank5_a_level  4859 non-null   float64\n",
      " 49  secondary_cleaner.state.floatbank5_b_air    4859 non-null   float64\n",
      " 50  secondary_cleaner.state.floatbank5_b_level  4859 non-null   float64\n",
      " 51  secondary_cleaner.state.floatbank6_a_air    4859 non-null   float64\n",
      " 52  secondary_cleaner.state.floatbank6_a_level  4859 non-null   float64\n",
      "dtypes: float64(52), object(1)\n",
      "memory usage: 2.0+ MB\n"
     ]
    }
   ],
   "source": [
    "data_test.info()"
   ]
  },
  {
   "cell_type": "code",
   "execution_count": 8,
   "metadata": {},
   "outputs": [
    {
     "data": {
      "text/plain": [
       "0"
      ]
     },
     "execution_count": 8,
     "metadata": {},
     "output_type": "execute_result"
    }
   ],
   "source": [
    "data_test.duplicated().sum()"
   ]
  },
  {
   "cell_type": "markdown",
   "metadata": {},
   "source": [
    "Явных дупликатов нет"
   ]
  },
  {
   "cell_type": "markdown",
   "metadata": {},
   "source": [
    "# data_full"
   ]
  },
  {
   "cell_type": "code",
   "execution_count": 9,
   "metadata": {},
   "outputs": [
    {
     "data": {
      "text/html": [
       "<div>\n",
       "<style scoped>\n",
       "    .dataframe tbody tr th:only-of-type {\n",
       "        vertical-align: middle;\n",
       "    }\n",
       "\n",
       "    .dataframe tbody tr th {\n",
       "        vertical-align: top;\n",
       "    }\n",
       "\n",
       "    .dataframe thead th {\n",
       "        text-align: right;\n",
       "    }\n",
       "</style>\n",
       "<table border=\"1\" class=\"dataframe\">\n",
       "  <thead>\n",
       "    <tr style=\"text-align: right;\">\n",
       "      <th></th>\n",
       "      <th>date</th>\n",
       "      <th>rougher.input.feed_au</th>\n",
       "      <th>rougher.input.feed_ag</th>\n",
       "      <th>rougher.input.feed_pb</th>\n",
       "      <th>rougher.input.feed_sol</th>\n",
       "      <th>rougher.input.feed_rate</th>\n",
       "      <th>rougher.input.feed_size</th>\n",
       "      <th>rougher.input.floatbank10_sulfate</th>\n",
       "      <th>rougher.input.floatbank10_xanthate</th>\n",
       "      <th>rougher.state.floatbank10_a_air</th>\n",
       "      <th>...</th>\n",
       "      <th>secondary_cleaner.output.tail_sol</th>\n",
       "      <th>final.output.concentrate_au</th>\n",
       "      <th>final.output.concentrate_ag</th>\n",
       "      <th>final.output.concentrate_pb</th>\n",
       "      <th>final.output.concentrate_sol</th>\n",
       "      <th>final.output.recovery</th>\n",
       "      <th>final.output.tail_au</th>\n",
       "      <th>final.output.tail_ag</th>\n",
       "      <th>final.output.tail_pb</th>\n",
       "      <th>final.output.tail_sol</th>\n",
       "    </tr>\n",
       "  </thead>\n",
       "  <tbody>\n",
       "    <tr>\n",
       "      <th>0</th>\n",
       "      <td>2016-01-15 00:00:00</td>\n",
       "      <td>6.486150</td>\n",
       "      <td>6.100378</td>\n",
       "      <td>2.284912</td>\n",
       "      <td>36.808594</td>\n",
       "      <td>523.546326</td>\n",
       "      <td>55.486599</td>\n",
       "      <td>11.986616</td>\n",
       "      <td>6.007990</td>\n",
       "      <td>999.706909</td>\n",
       "      <td>...</td>\n",
       "      <td>8.764648</td>\n",
       "      <td>42.192020</td>\n",
       "      <td>6.055403</td>\n",
       "      <td>9.889648</td>\n",
       "      <td>5.507324</td>\n",
       "      <td>70.541216</td>\n",
       "      <td>2.143149</td>\n",
       "      <td>10.411962</td>\n",
       "      <td>0.895447</td>\n",
       "      <td>16.904297</td>\n",
       "    </tr>\n",
       "    <tr>\n",
       "      <th>1</th>\n",
       "      <td>2016-01-15 01:00:00</td>\n",
       "      <td>6.478583</td>\n",
       "      <td>6.161113</td>\n",
       "      <td>2.266033</td>\n",
       "      <td>35.753385</td>\n",
       "      <td>525.290581</td>\n",
       "      <td>57.278666</td>\n",
       "      <td>11.971193</td>\n",
       "      <td>6.005766</td>\n",
       "      <td>1000.286398</td>\n",
       "      <td>...</td>\n",
       "      <td>9.001494</td>\n",
       "      <td>42.701629</td>\n",
       "      <td>6.029369</td>\n",
       "      <td>9.968944</td>\n",
       "      <td>5.257781</td>\n",
       "      <td>69.266198</td>\n",
       "      <td>2.224930</td>\n",
       "      <td>10.462676</td>\n",
       "      <td>0.927452</td>\n",
       "      <td>16.634514</td>\n",
       "    </tr>\n",
       "    <tr>\n",
       "      <th>2</th>\n",
       "      <td>2016-01-15 02:00:00</td>\n",
       "      <td>6.362222</td>\n",
       "      <td>6.116455</td>\n",
       "      <td>2.159622</td>\n",
       "      <td>35.971630</td>\n",
       "      <td>530.026610</td>\n",
       "      <td>57.510649</td>\n",
       "      <td>11.920603</td>\n",
       "      <td>6.197377</td>\n",
       "      <td>999.719565</td>\n",
       "      <td>...</td>\n",
       "      <td>8.842896</td>\n",
       "      <td>42.657501</td>\n",
       "      <td>6.055926</td>\n",
       "      <td>10.213995</td>\n",
       "      <td>5.383759</td>\n",
       "      <td>68.116445</td>\n",
       "      <td>2.257889</td>\n",
       "      <td>10.507046</td>\n",
       "      <td>0.953716</td>\n",
       "      <td>16.208849</td>\n",
       "    </tr>\n",
       "    <tr>\n",
       "      <th>3</th>\n",
       "      <td>2016-01-15 03:00:00</td>\n",
       "      <td>6.118189</td>\n",
       "      <td>6.043309</td>\n",
       "      <td>2.037807</td>\n",
       "      <td>36.862241</td>\n",
       "      <td>542.590390</td>\n",
       "      <td>57.792734</td>\n",
       "      <td>11.630094</td>\n",
       "      <td>6.203177</td>\n",
       "      <td>999.814770</td>\n",
       "      <td>...</td>\n",
       "      <td>9.122857</td>\n",
       "      <td>42.689819</td>\n",
       "      <td>6.047977</td>\n",
       "      <td>9.977019</td>\n",
       "      <td>4.858634</td>\n",
       "      <td>68.347543</td>\n",
       "      <td>2.146849</td>\n",
       "      <td>10.422762</td>\n",
       "      <td>0.883763</td>\n",
       "      <td>16.532835</td>\n",
       "    </tr>\n",
       "    <tr>\n",
       "      <th>4</th>\n",
       "      <td>2016-01-15 04:00:00</td>\n",
       "      <td>5.663707</td>\n",
       "      <td>6.060915</td>\n",
       "      <td>1.786875</td>\n",
       "      <td>34.347666</td>\n",
       "      <td>540.531893</td>\n",
       "      <td>56.047189</td>\n",
       "      <td>10.957755</td>\n",
       "      <td>6.198826</td>\n",
       "      <td>999.678690</td>\n",
       "      <td>...</td>\n",
       "      <td>8.871028</td>\n",
       "      <td>42.774141</td>\n",
       "      <td>6.148599</td>\n",
       "      <td>10.142511</td>\n",
       "      <td>4.939416</td>\n",
       "      <td>66.927016</td>\n",
       "      <td>2.055292</td>\n",
       "      <td>10.360302</td>\n",
       "      <td>0.792826</td>\n",
       "      <td>16.525686</td>\n",
       "    </tr>\n",
       "  </tbody>\n",
       "</table>\n",
       "<p>5 rows × 87 columns</p>\n",
       "</div>"
      ],
      "text/plain": [
       "                  date  rougher.input.feed_au  rougher.input.feed_ag  \\\n",
       "0  2016-01-15 00:00:00               6.486150               6.100378   \n",
       "1  2016-01-15 01:00:00               6.478583               6.161113   \n",
       "2  2016-01-15 02:00:00               6.362222               6.116455   \n",
       "3  2016-01-15 03:00:00               6.118189               6.043309   \n",
       "4  2016-01-15 04:00:00               5.663707               6.060915   \n",
       "\n",
       "   rougher.input.feed_pb  rougher.input.feed_sol  rougher.input.feed_rate  \\\n",
       "0               2.284912               36.808594               523.546326   \n",
       "1               2.266033               35.753385               525.290581   \n",
       "2               2.159622               35.971630               530.026610   \n",
       "3               2.037807               36.862241               542.590390   \n",
       "4               1.786875               34.347666               540.531893   \n",
       "\n",
       "   rougher.input.feed_size  rougher.input.floatbank10_sulfate  \\\n",
       "0                55.486599                          11.986616   \n",
       "1                57.278666                          11.971193   \n",
       "2                57.510649                          11.920603   \n",
       "3                57.792734                          11.630094   \n",
       "4                56.047189                          10.957755   \n",
       "\n",
       "   rougher.input.floatbank10_xanthate  rougher.state.floatbank10_a_air  ...  \\\n",
       "0                            6.007990                       999.706909  ...   \n",
       "1                            6.005766                      1000.286398  ...   \n",
       "2                            6.197377                       999.719565  ...   \n",
       "3                            6.203177                       999.814770  ...   \n",
       "4                            6.198826                       999.678690  ...   \n",
       "\n",
       "   secondary_cleaner.output.tail_sol  final.output.concentrate_au  \\\n",
       "0                           8.764648                    42.192020   \n",
       "1                           9.001494                    42.701629   \n",
       "2                           8.842896                    42.657501   \n",
       "3                           9.122857                    42.689819   \n",
       "4                           8.871028                    42.774141   \n",
       "\n",
       "   final.output.concentrate_ag  final.output.concentrate_pb  \\\n",
       "0                     6.055403                     9.889648   \n",
       "1                     6.029369                     9.968944   \n",
       "2                     6.055926                    10.213995   \n",
       "3                     6.047977                     9.977019   \n",
       "4                     6.148599                    10.142511   \n",
       "\n",
       "   final.output.concentrate_sol  final.output.recovery  final.output.tail_au  \\\n",
       "0                      5.507324              70.541216              2.143149   \n",
       "1                      5.257781              69.266198              2.224930   \n",
       "2                      5.383759              68.116445              2.257889   \n",
       "3                      4.858634              68.347543              2.146849   \n",
       "4                      4.939416              66.927016              2.055292   \n",
       "\n",
       "   final.output.tail_ag  final.output.tail_pb  final.output.tail_sol  \n",
       "0             10.411962              0.895447              16.904297  \n",
       "1             10.462676              0.927452              16.634514  \n",
       "2             10.507046              0.953716              16.208849  \n",
       "3             10.422762              0.883763              16.532835  \n",
       "4             10.360302              0.792826              16.525686  \n",
       "\n",
       "[5 rows x 87 columns]"
      ]
     },
     "execution_count": 9,
     "metadata": {},
     "output_type": "execute_result"
    }
   ],
   "source": [
    "data_full.head()"
   ]
  },
  {
   "cell_type": "code",
   "execution_count": 10,
   "metadata": {},
   "outputs": [
    {
     "name": "stdout",
     "output_type": "stream",
     "text": [
      "<class 'pandas.core.frame.DataFrame'>\n",
      "RangeIndex: 19439 entries, 0 to 19438\n",
      "Data columns (total 87 columns):\n",
      " #   Column                                              Non-Null Count  Dtype  \n",
      "---  ------                                              --------------  -----  \n",
      " 0   date                                                19439 non-null  object \n",
      " 1   rougher.input.feed_au                               19439 non-null  float64\n",
      " 2   rougher.input.feed_ag                               19439 non-null  float64\n",
      " 3   rougher.input.feed_pb                               19339 non-null  float64\n",
      " 4   rougher.input.feed_sol                              19340 non-null  float64\n",
      " 5   rougher.input.feed_rate                             19428 non-null  float64\n",
      " 6   rougher.input.feed_size                             19294 non-null  float64\n",
      " 7   rougher.input.floatbank10_sulfate                   19405 non-null  float64\n",
      " 8   rougher.input.floatbank10_xanthate                  19431 non-null  float64\n",
      " 9   rougher.state.floatbank10_a_air                     19438 non-null  float64\n",
      " 10  rougher.state.floatbank10_a_level                   19438 non-null  float64\n",
      " 11  rougher.state.floatbank10_b_air                     19438 non-null  float64\n",
      " 12  rougher.state.floatbank10_b_level                   19438 non-null  float64\n",
      " 13  rougher.state.floatbank10_c_air                     19438 non-null  float64\n",
      " 14  rougher.state.floatbank10_c_level                   19438 non-null  float64\n",
      " 15  rougher.state.floatbank10_d_air                     19439 non-null  float64\n",
      " 16  rougher.state.floatbank10_d_level                   19439 non-null  float64\n",
      " 17  rougher.state.floatbank10_e_air                     19003 non-null  float64\n",
      " 18  rougher.state.floatbank10_e_level                   19439 non-null  float64\n",
      " 19  rougher.state.floatbank10_f_air                     19439 non-null  float64\n",
      " 20  rougher.state.floatbank10_f_level                   19439 non-null  float64\n",
      " 21  rougher.input.floatbank11_sulfate                   19395 non-null  float64\n",
      " 22  rougher.input.floatbank11_xanthate                  18986 non-null  float64\n",
      " 23  rougher.calculation.sulfate_to_au_concentrate       19437 non-null  float64\n",
      " 24  rougher.calculation.floatbank10_sulfate_to_au_feed  19437 non-null  float64\n",
      " 25  rougher.calculation.floatbank11_sulfate_to_au_feed  19437 non-null  float64\n",
      " 26  rougher.calculation.au_pb_ratio                     19439 non-null  float64\n",
      " 27  rougher.output.concentrate_au                       19439 non-null  float64\n",
      " 28  rougher.output.concentrate_ag                       19439 non-null  float64\n",
      " 29  rougher.output.concentrate_pb                       19439 non-null  float64\n",
      " 30  rougher.output.concentrate_sol                      19416 non-null  float64\n",
      " 31  rougher.output.recovery                             19439 non-null  float64\n",
      " 32  rougher.output.tail_au                              19439 non-null  float64\n",
      " 33  rougher.output.tail_ag                              19438 non-null  float64\n",
      " 34  rougher.output.tail_pb                              19439 non-null  float64\n",
      " 35  rougher.output.tail_sol                             19439 non-null  float64\n",
      " 36  primary_cleaner.input.sulfate                       19415 non-null  float64\n",
      " 37  primary_cleaner.input.depressant                    19402 non-null  float64\n",
      " 38  primary_cleaner.input.feed_size                     19439 non-null  float64\n",
      " 39  primary_cleaner.input.xanthate                      19335 non-null  float64\n",
      " 40  primary_cleaner.state.floatbank8_a_air              19435 non-null  float64\n",
      " 41  primary_cleaner.state.floatbank8_a_level            19438 non-null  float64\n",
      " 42  primary_cleaner.state.floatbank8_b_air              19435 non-null  float64\n",
      " 43  primary_cleaner.state.floatbank8_b_level            19438 non-null  float64\n",
      " 44  primary_cleaner.state.floatbank8_c_air              19437 non-null  float64\n",
      " 45  primary_cleaner.state.floatbank8_c_level            19438 non-null  float64\n",
      " 46  primary_cleaner.state.floatbank8_d_air              19436 non-null  float64\n",
      " 47  primary_cleaner.state.floatbank8_d_level            19438 non-null  float64\n",
      " 48  primary_cleaner.output.concentrate_au               19439 non-null  float64\n",
      " 49  primary_cleaner.output.concentrate_ag               19439 non-null  float64\n",
      " 50  primary_cleaner.output.concentrate_pb               19323 non-null  float64\n",
      " 51  primary_cleaner.output.concentrate_sol              19069 non-null  float64\n",
      " 52  primary_cleaner.output.tail_au                      19439 non-null  float64\n",
      " 53  primary_cleaner.output.tail_ag                      19435 non-null  float64\n",
      " 54  primary_cleaner.output.tail_pb                      19418 non-null  float64\n",
      " 55  primary_cleaner.output.tail_sol                     19377 non-null  float64\n",
      " 56  secondary_cleaner.state.floatbank2_a_air            19219 non-null  float64\n",
      " 57  secondary_cleaner.state.floatbank2_a_level          19438 non-null  float64\n",
      " 58  secondary_cleaner.state.floatbank2_b_air            19416 non-null  float64\n",
      " 59  secondary_cleaner.state.floatbank2_b_level          19438 non-null  float64\n",
      " 60  secondary_cleaner.state.floatbank3_a_air            19426 non-null  float64\n",
      " 61  secondary_cleaner.state.floatbank3_a_level          19438 non-null  float64\n",
      " 62  secondary_cleaner.state.floatbank3_b_air            19438 non-null  float64\n",
      " 63  secondary_cleaner.state.floatbank3_b_level          19438 non-null  float64\n",
      " 64  secondary_cleaner.state.floatbank4_a_air            19433 non-null  float64\n",
      " 65  secondary_cleaner.state.floatbank4_a_level          19438 non-null  float64\n",
      " 66  secondary_cleaner.state.floatbank4_b_air            19438 non-null  float64\n",
      " 67  secondary_cleaner.state.floatbank4_b_level          19438 non-null  float64\n",
      " 68  secondary_cleaner.state.floatbank5_a_air            19438 non-null  float64\n",
      " 69  secondary_cleaner.state.floatbank5_a_level          19438 non-null  float64\n",
      " 70  secondary_cleaner.state.floatbank5_b_air            19438 non-null  float64\n",
      " 71  secondary_cleaner.state.floatbank5_b_level          19438 non-null  float64\n",
      " 72  secondary_cleaner.state.floatbank6_a_air            19437 non-null  float64\n",
      " 73  secondary_cleaner.state.floatbank6_a_level          19438 non-null  float64\n",
      " 74  secondary_cleaner.output.tail_au                    19439 non-null  float64\n",
      " 75  secondary_cleaner.output.tail_ag                    19437 non-null  float64\n",
      " 76  secondary_cleaner.output.tail_pb                    19427 non-null  float64\n",
      " 77  secondary_cleaner.output.tail_sol                   17691 non-null  float64\n",
      " 78  final.output.concentrate_au                         19439 non-null  float64\n",
      " 79  final.output.concentrate_ag                         19438 non-null  float64\n",
      " 80  final.output.concentrate_pb                         19438 non-null  float64\n",
      " 81  final.output.concentrate_sol                        19228 non-null  float64\n",
      " 82  final.output.recovery                               19439 non-null  float64\n",
      " 83  final.output.tail_au                                19439 non-null  float64\n",
      " 84  final.output.tail_ag                                19438 non-null  float64\n",
      " 85  final.output.tail_pb                                19338 non-null  float64\n",
      " 86  final.output.tail_sol                               19433 non-null  float64\n",
      "dtypes: float64(86), object(1)\n",
      "memory usage: 12.9+ MB\n"
     ]
    }
   ],
   "source": [
    "data_full.info()"
   ]
  },
  {
   "cell_type": "code",
   "execution_count": 11,
   "metadata": {},
   "outputs": [
    {
     "data": {
      "text/plain": [
       "0"
      ]
     },
     "execution_count": 11,
     "metadata": {},
     "output_type": "execute_result"
    }
   ],
   "source": [
    "data_full.duplicated().sum()"
   ]
  },
  {
   "cell_type": "markdown",
   "metadata": {},
   "source": [
    "Явных дубликатов нет"
   ]
  },
  {
   "cell_type": "markdown",
   "metadata": {},
   "source": [
    "Будем работать с пропусками, в условии сказано, что соседние параметры часто похожи. Воспользуемся этим.\n"
   ]
  },
  {
   "cell_type": "code",
   "execution_count": 12,
   "metadata": {},
   "outputs": [],
   "source": [
    "data_train = data_train.ffill() \n",
    "data_test = data_test.ffill() \n",
    "data_full=data_full.ffill()"
   ]
  },
  {
   "cell_type": "markdown",
   "metadata": {},
   "source": [
    "**Проверим, что эффективность обогащения рассчитана правильно**"
   ]
  },
  {
   "cell_type": "markdown",
   "metadata": {},
   "source": [
    "Напишем функцию для подсчета эффективности"
   ]
  },
  {
   "cell_type": "code",
   "execution_count": 13,
   "metadata": {},
   "outputs": [],
   "source": [
    "def calc_recovery(C, F, T):\n",
    "    recovery = (C * (F - T))/(F * (C - T))*100\n",
    "    return recovery"
   ]
  },
  {
   "cell_type": "code",
   "execution_count": 14,
   "metadata": {},
   "outputs": [
    {
     "data": {
      "text/plain": [
       "0        87.107763\n",
       "1        86.843261\n",
       "2        86.842308\n",
       "3        87.226430\n",
       "4        86.688794\n",
       "           ...    \n",
       "14574    87.684717\n",
       "14575    90.677361\n",
       "14576    89.574376\n",
       "14577    87.724007\n",
       "14578    88.890579\n",
       "Length: 14579, dtype: float64"
      ]
     },
     "execution_count": 14,
     "metadata": {},
     "output_type": "execute_result"
    }
   ],
   "source": [
    "recovery = calc_recovery(data_train['rougher.output.concentrate_au'],\n",
    "                   data_train['rougher.input.feed_au'],\n",
    "                   data_train['rougher.output.tail_au'])\n",
    "recovery"
   ]
  },
  {
   "cell_type": "code",
   "execution_count": 15,
   "metadata": {
    "scrolled": true
   },
   "outputs": [
    {
     "name": "stdout",
     "output_type": "stream",
     "text": [
      "MAE  = 9.83758577644259e-15\n"
     ]
    }
   ],
   "source": [
    "mae = mean_absolute_error(data_train['rougher.output.recovery'], recovery)\n",
    "print('MAE  =', mae)"
   ]
  },
  {
   "cell_type": "markdown",
   "metadata": {},
   "source": [
    "MAE между  расчётами и значением признака имеет очень маленькое значение, следовательно эффективность обогащения рассчитана правильно "
   ]
  },
  {
   "cell_type": "markdown",
   "metadata": {},
   "source": [
    "**Проанализируем признаки, недоступные в тестовой выборке.**"
   ]
  },
  {
   "cell_type": "code",
   "execution_count": 16,
   "metadata": {
    "scrolled": true
   },
   "outputs": [
    {
     "data": {
      "text/plain": [
       "Index(['final.output.concentrate_ag', 'final.output.concentrate_au',\n",
       "       'final.output.concentrate_pb', 'final.output.concentrate_sol',\n",
       "       'final.output.recovery', 'final.output.tail_ag', 'final.output.tail_au',\n",
       "       'final.output.tail_pb', 'final.output.tail_sol',\n",
       "       'primary_cleaner.output.concentrate_ag',\n",
       "       'primary_cleaner.output.concentrate_au',\n",
       "       'primary_cleaner.output.concentrate_pb',\n",
       "       'primary_cleaner.output.concentrate_sol',\n",
       "       'primary_cleaner.output.tail_ag', 'primary_cleaner.output.tail_au',\n",
       "       'primary_cleaner.output.tail_pb', 'primary_cleaner.output.tail_sol',\n",
       "       'rougher.calculation.au_pb_ratio',\n",
       "       'rougher.calculation.floatbank10_sulfate_to_au_feed',\n",
       "       'rougher.calculation.floatbank11_sulfate_to_au_feed',\n",
       "       'rougher.calculation.sulfate_to_au_concentrate',\n",
       "       'rougher.output.concentrate_ag', 'rougher.output.concentrate_au',\n",
       "       'rougher.output.concentrate_pb', 'rougher.output.concentrate_sol',\n",
       "       'rougher.output.recovery', 'rougher.output.tail_ag',\n",
       "       'rougher.output.tail_au', 'rougher.output.tail_pb',\n",
       "       'rougher.output.tail_sol', 'secondary_cleaner.output.tail_ag',\n",
       "       'secondary_cleaner.output.tail_au', 'secondary_cleaner.output.tail_pb',\n",
       "       'secondary_cleaner.output.tail_sol'],\n",
       "      dtype='object')"
      ]
     },
     "execution_count": 16,
     "metadata": {},
     "output_type": "execute_result"
    }
   ],
   "source": [
    "data_train.columns.difference(data_test.columns)"
   ]
  },
  {
   "cell_type": "markdown",
   "metadata": {},
   "source": [
    "Получается, что на тесте нам не доступны:\n",
    "\n",
    "primary_cleaner — первичная очистка\n",
    "\n",
    "rougher — черновой концентрат\n",
    "\n",
    "secondary_cleaner — вторичная очистка\n",
    "\n",
    "final — финальные характеристики\n",
    "\n",
    "Некоторые параметры недоступны, потому что замеряются и/или рассчитываются значительно позже. Из-за этого в тестовой выборке отсутствуют некоторые признаки, которые могут быть в обучающей."
   ]
  },
  {
   "cell_type": "markdown",
   "metadata": {},
   "source": [
    "**Вывод**\n",
    "\n",
    "В первой части проекта:\n",
    "\n",
    "- открыли файлы и изучили их\n",
    "- заполнили пропуски в данных с помощью стратегии заполнения forward fill\n",
    "- проверили, что эффективность обогащения рассчитана правильно. MAE между расчётами и значением признака 9.83758577644259e-15.\n",
    "- проанализировали признаки, недоступные в тестовой выборке"
   ]
  },
  {
   "cell_type": "markdown",
   "metadata": {},
   "source": [
    "## Анализ данных"
   ]
  },
  {
   "cell_type": "markdown",
   "metadata": {},
   "source": [
    "# Изменение концентрации металлов (Au, Ag, Pb) на различных этапах"
   ]
  },
  {
   "cell_type": "markdown",
   "metadata": {},
   "source": [
    "Информативнее всего рассмотреть этот пункт на графиках"
   ]
  },
  {
   "cell_type": "raw",
   "metadata": {},
   "source": [
    "au_concentrate = ['rougher.input.feed_au','rougher.output.concentrate_au','primary_cleaner.output.concentrate_au','final.output.concentrate_au']  \n",
    "                \n",
    "\n",
    "\n",
    "f= plt.subplots(figsize=(12, 5))  \n",
    "for a in au_concentrate:\n",
    "    sns.distplot(data_train[a],label = a)\n",
    "plt.legend()\n",
    "plt.show()   "
   ]
  },
  {
   "cell_type": "raw",
   "metadata": {
    "scrolled": false
   },
   "source": [
    "ag_concentrate = ['rougher.input.feed_ag','rougher.output.concentrate_ag','primary_cleaner.output.concentrate_ag','final.output.concentrate_ag']  \n",
    "                \n",
    "\n",
    "\n",
    "f= plt.subplots(figsize=(12, 5))  \n",
    "for a in ag_concentrate:\n",
    "    sns.distplot(data_train[a],label = a)\n",
    "plt.legend()\n",
    "plt.show()   "
   ]
  },
  {
   "cell_type": "raw",
   "metadata": {
    "scrolled": true
   },
   "source": [
    "pb_concentrate = ['rougher.input.feed_pb','rougher.output.concentrate_pb','primary_cleaner.output.concentrate_pb','final.output.concentrate_pb']  \n",
    "                \n",
    "\n",
    "\n",
    "f= plt.subplots(figsize=(12, 5))  \n",
    "for a in pb_concentrate:\n",
    "    sns.distplot(data_train[a],label = a)\n",
    "plt.legend()\n",
    "plt.show()  "
   ]
  },
  {
   "cell_type": "markdown",
   "metadata": {},
   "source": [
    "#  новые графики с sns.histplot "
   ]
  },
  {
   "cell_type": "code",
   "execution_count": 17,
   "metadata": {
    "scrolled": true
   },
   "outputs": [
    {
     "data": {
      "image/png": "[encoded data removed]",
      "text/plain": [
       "<Figure size 864x360 with 1 Axes>"
      ]
     },
     "metadata": {
      "needs_background": "light"
     },
     "output_type": "display_data"
    }
   ],
   "source": [
    "au_concentrate = ['rougher.input.feed_au','rougher.output.concentrate_au','primary_cleaner.output.concentrate_au','final.output.concentrate_au']  \n",
    "color=['red','blue','orange','yellow']\n",
    "f= plt.subplots(figsize=(12,5 ))\n",
    "for i in range(4):\n",
    "    sns.histplot(data_train[au_concentrate[i]], kde=False, color=color[i], legend=True, label=au_concentrate[i],binwidth=1)\n",
    "sns.set_style('darkgrid')\n",
    "plt.title(\"Концентрация золота на различных этапах\")\n",
    "plt.xlabel('Концентрация')\n",
    "plt.ylabel('частота значений')\n",
    "plt.legend()\n",
    "plt.show()\n",
    "\n",
    "\n"
   ]
  },
  {
   "cell_type": "code",
   "execution_count": 18,
   "metadata": {},
   "outputs": [
    {
     "data": {
      "image/png": "[encoded data removed]",
      "text/plain": [
       "<Figure size 864x360 with 1 Axes>"
      ]
     },
     "metadata": {},
     "output_type": "display_data"
    }
   ],
   "source": [
    "ag_concentrate = ['rougher.input.feed_ag','rougher.output.concentrate_ag','primary_cleaner.output.concentrate_ag','final.output.concentrate_ag']  \n",
    "color=['orange','blue','red','yellow']\n",
    "f= plt.subplots(figsize=(12,5 ))\n",
    "for i in range(4):\n",
    "    sns.histplot(data_train[ag_concentrate[i]],binwidth=1, kde=False, color=color[i], legend=False, label=ag_concentrate[i],alpha=0.7)\n",
    "sns.set_style('darkgrid')\n",
    "plt.title(\"Концентрация серебра на различных этапах\")\n",
    "plt.xlabel('Концентрация')\n",
    "plt.ylabel('частота значений')\n",
    "plt.legend()\n",
    "plt.show()"
   ]
  },
  {
   "cell_type": "code",
   "execution_count": 19,
   "metadata": {},
   "outputs": [
    {
     "data": {
      "image/png": "[encoded data removed]",
      "text/plain": [
       "<Figure size 864x360 with 1 Axes>"
      ]
     },
     "metadata": {},
     "output_type": "display_data"
    }
   ],
   "source": [
    "pb_concentrate = ['rougher.input.feed_pb','rougher.output.concentrate_pb','primary_cleaner.output.concentrate_pb','final.output.concentrate_pb']  \n",
    "color=['orange','blue','red','yellow']\n",
    "f= plt.subplots(figsize=(12,5 ))\n",
    "for i in range(4):\n",
    "    sns.histplot(data_train[pb_concentrate[i]], binwidth=1, kde=False, color=color[i], legend=False, label=pb_concentrate[i])\n",
    "sns.set_style('darkgrid')\n",
    "plt.title(\"Концентрация свинца на различных этапах\")\n",
    "plt.xlabel('Концентрация')\n",
    "plt.ylabel('частота значений')\n",
    "plt.legend()\n",
    "plt.show()"
   ]
  },
  {
   "cell_type": "markdown",
   "metadata": {},
   "source": [
    "Интересно наличие выбросов в районе нуля, видимо, ошибка в данных либо в производстве\n",
    "\n",
    "Золото - видно, что концентрация золота растёт\n",
    "\n",
    "Серебро - концентрация падает от этапа к этапу\n",
    "\n",
    "Свинец - интересно, что после первичной очистки концентрация возросла, в финальном концентрате свинца больше, чем было изначально"
   ]
  },
  {
   "cell_type": "markdown",
   "metadata": {},
   "source": [
    "Также на графиках наблюдаем выбросы около 0 это аномалии,которые мы удалим  из всех датафреймов"
   ]
  },
  {
   "cell_type": "code",
   "execution_count": 20,
   "metadata": {},
   "outputs": [],
   "source": [
    "data_test = data_test[(data_test['rougher.input.feed_ag'] >0) &\n",
    "            (data_test['rougher.input.feed_pb'] >0) &\n",
    "            (data_test['rougher.input.feed_sol'] >0) &\n",
    "            (data_test['rougher.input.feed_au'] >0)]"
   ]
  },
  {
   "cell_type": "code",
   "execution_count": 21,
   "metadata": {},
   "outputs": [],
   "source": [
    "data_train = data_train[(data_train['rougher.input.feed_ag'] >0) &\n",
    "            (data_train['rougher.input.feed_pb'] >0) &\n",
    "            (data_train['rougher.input.feed_sol'] >0) &\n",
    "            (data_train['rougher.input.feed_au'] >0) &\n",
    "            (data_train['rougher.output.concentrate_ag'] >0) &\n",
    "            (data_train['rougher.output.concentrate_pb'] >0) &\n",
    "            (data_train['rougher.output.concentrate_sol'] >0) &\n",
    "            (data_train['rougher.output.concentrate_au'] >0) &\n",
    "            (data_train['primary_cleaner.output.concentrate_ag'] >0) &\n",
    "            (data_train['primary_cleaner.output.concentrate_pb'] >0) &\n",
    "            (data_train['primary_cleaner.output.concentrate_sol'] >0) &\n",
    "            (data_train['primary_cleaner.output.concentrate_au'] >0) &\n",
    "            (data_train['final.output.concentrate_ag'] >0) &\n",
    "            (data_train['final.output.concentrate_pb'] >0) &\n",
    "            (data_train['final.output.concentrate_sol'] >0) &\n",
    "            (data_train['final.output.concentrate_au'] >0)]"
   ]
  },
  {
   "cell_type": "code",
   "execution_count": 22,
   "metadata": {},
   "outputs": [],
   "source": [
    "data_full = data_full[(data_full['rougher.input.feed_ag'] >0) &\n",
    "            (data_full['rougher.input.feed_pb'] >0) &\n",
    "            (data_full['rougher.input.feed_sol'] >0) &\n",
    "            (data_full['rougher.input.feed_au'] >0) &\n",
    "            (data_full['rougher.output.concentrate_ag'] >0) &\n",
    "            (data_full['rougher.output.concentrate_pb'] >0) &\n",
    "            (data_full['rougher.output.concentrate_sol'] >0) &\n",
    "            (data_full['rougher.output.concentrate_au']>0) &\n",
    "            (data_full['primary_cleaner.output.concentrate_ag'] >0) &\n",
    "            (data_full['primary_cleaner.output.concentrate_pb'] >0) &\n",
    "            (data_full['primary_cleaner.output.concentrate_sol'] >0) &\n",
    "            (data_full['primary_cleaner.output.concentrate_au'] >0) &\n",
    "            (data_full['final.output.concentrate_ag'] >0) &\n",
    "            (data_full['final.output.concentrate_pb'] >0) &\n",
    "            (data_full['final.output.concentrate_sol'] >0) &\n",
    "            (data_full['final.output.concentrate_au'] >0)]"
   ]
  },
  {
   "cell_type": "markdown",
   "metadata": {},
   "source": [
    "# Проверим размер гранул сырья в обучающих данных и в тестовой выборке"
   ]
  },
  {
   "cell_type": "raw",
   "metadata": {
    "scrolled": true
   },
   "source": [
    "f= plt.subplots(figsize=(5,5 ))  \n",
    "sns.distplot(data_train['rougher.input.feed_size'].dropna(), label='Обучающие данные')\n",
    "sns.distplot(data_test['rougher.input.feed_size'].dropna(), label='Тестовые данные')\n",
    "plt.legend()"
   ]
  },
  {
   "cell_type": "code",
   "execution_count": 23,
   "metadata": {},
   "outputs": [
    {
     "data": {
      "image/png": "[encoded data removed]",
      "text/plain": [
       "<Figure size 864x360 with 1 Axes>"
      ]
     },
     "metadata": {},
     "output_type": "display_data"
    }
   ],
   "source": [
    "a=[data_train['rougher.input.feed_size'].dropna(),data_test['rougher.input.feed_size'].dropna()]\n",
    "b=['обучающая выборка','тестовая выборка']\n",
    "color=['blue','red']\n",
    "f= plt.subplots(figsize=(12,5))\n",
    "for i in range(2):\n",
    "    sns.histplot(a[i], bins=5, kde=False, color=color[i], legend=False, label=b[i],binwidth=1,stat='density')\n",
    "sns.set_style('darkgrid')\n",
    "plt.title(\"Размер гранул сырья в обучащей и тестовой выборках\")\n",
    "plt.xlabel('размер гранул')\n",
    "plt.ylabel('плотность распределения')\n",
    "plt.legend()\n",
    "plt.show()"
   ]
  },
  {
   "cell_type": "markdown",
   "metadata": {},
   "source": [
    "Видно, что на графике распределение похоже, оценка модели будет правильной"
   ]
  },
  {
   "cell_type": "markdown",
   "metadata": {},
   "source": [
    "# t-test"
   ]
  },
  {
   "cell_type": "markdown",
   "metadata": {},
   "source": [
    "**Нулевая гипотеза**: средние значения измерений размеров гранул на обучающей и тестовой выборках не отличаются существенно."
   ]
  },
  {
   "cell_type": "markdown",
   "metadata": {},
   "source": [
    "**Альтернативная гипотеза**: средние значения измерений размеров гранул на обучающей и тестовой выборках существенно  отличаются."
   ]
  },
  {
   "cell_type": "code",
   "execution_count": 24,
   "metadata": {},
   "outputs": [],
   "source": [
    "t_stat, p_value = ttest_ind(data_train['rougher.input.feed_size'].dropna(), data_test['rougher.input.feed_size'].dropna(), equal_var=False)"
   ]
  },
  {
   "cell_type": "code",
   "execution_count": 25,
   "metadata": {},
   "outputs": [
    {
     "name": "stdout",
     "output_type": "stream",
     "text": [
      "Не отвергаем нулевую гипотезу. Распределения размеров гранул не отличаются существенно.\n",
      "0.9076993316072393\n"
     ]
    }
   ],
   "source": [
    "alpha = 0.05\n",
    "\n",
    "if p_value < alpha:\n",
    "    print(\"Отвергаем нулевую гипотезу. Распределения размеров гранул существенно отличаются.\")\n",
    "else:\n",
    "    print(\"Не отвергаем нулевую гипотезу. Распределения размеров гранул не отличаются существенно.\")\n",
    "print(p_value)"
   ]
  },
  {
   "cell_type": "markdown",
   "metadata": {},
   "source": [
    "# Исследуем суммарную концентрацию металлов на разных стадиях"
   ]
  },
  {
   "cell_type": "code",
   "execution_count": 26,
   "metadata": {
    "scrolled": false
   },
   "outputs": [
    {
     "data": {
      "image/png": "[encoded data removed]",
      "text/plain": [
       "<Figure size 864x360 with 1 Axes>"
      ]
     },
     "metadata": {},
     "output_type": "display_data"
    }
   ],
   "source": [
    "final_concentrate = (data_train['final.output.concentrate_au'] + \n",
    "                                      data_train['final.output.concentrate_ag'] + \n",
    "                                      data_train['final.output.concentrate_pb'] +\n",
    "                                      data_train['final.output.concentrate_sol'])\n",
    "primary_cleaner_concentrate = (data_train['primary_cleaner.output.concentrate_au'] + \n",
    "                                                data_train['primary_cleaner.output.concentrate_ag'] + \n",
    "                                                data_train['primary_cleaner.output.concentrate_pb'] +\n",
    "                                                data_train['primary_cleaner.output.concentrate_sol'])\n",
    "rougher_concentrate = (data_train['rougher.output.concentrate_au'] + \n",
    "                                        data_train['rougher.output.concentrate_ag'] + \n",
    "                                        data_train['rougher.output.concentrate_pb'] +\n",
    "                                        data_train['rougher.output.concentrate_sol'])\n",
    "input_concentrate=(data_train['rougher.input.feed_au'] + \n",
    "                                        data_train['rougher.input.feed_ag'] + \n",
    "                                        data_train['rougher.input.feed_pb'] +\n",
    "                                        data_train['rougher.input.feed_sol'])\n",
    "\n",
    "f= plt.subplots(figsize=(12, 5))  \n",
    "color=['orange','blue','red','yellow']\n",
    "a=[input_concentrate,rougher_concentrate,primary_cleaner_concentrate,final_concentrate]\n",
    "b=['input_concentrate','rougher_concentrate','primary_cleaner_concentrate','final_concentrate']\n",
    "for i in range(4):\n",
    "    sns.histplot(a[i], binwidth=1, kde=False, color=color[i], legend=False, label=b[i])\n",
    "sns.set_style('darkgrid')\n",
    "plt.title(\"cуммарная концентрация металлов\")\n",
    "plt.xlabel('концентрация')\n",
    "plt.ylabel('частота значений')\n",
    "plt.legend()\n",
    "plt.show()\n"
   ]
  },
  {
   "cell_type": "markdown",
   "metadata": {},
   "source": [
    "Из представленного графика можем заметить интересную тенденцию: с каждым новым этапам ширина/диапозон концентраций уменьшается. При этом в черновом концентрате наблюдалась наибольшая суммарная концентрация металлов. Также можем заметить что финальная коцентрация в большьнстве случаев от 66-73%"
   ]
  },
  {
   "cell_type": "markdown",
   "metadata": {},
   "source": [
    "**Вывод** на втором этапе работы мы анализировали данные.\n",
    "- рассмотрели как менялись концентрации золота, серебера и свинца на разных этапах. Заметили логичную закномерность, что с каждым этапом концентрация золота увеличивается, но также интересно, что свинца в финальной концентрации больше, чем было изнчально. На этом этапе мы и заметили аномалии концентраций: возле 0 находили значительные выбросы\n",
    "- определили что размеры гранул исходного сырья на обучающей и тестовой выборках существенно не отличаются. Это дало нам сигнал, что оценка модели будет правильной.\n",
    "- исследовали суммарную концентрацию металлов и обнаружили, что максимальное значение будет достигаться в черновом концентрате."
   ]
  },
  {
   "cell_type": "markdown",
   "metadata": {},
   "source": [
    "## Модель"
   ]
  },
  {
   "cell_type": "markdown",
   "metadata": {},
   "source": [
    " Напишем функцию для вычисления sMAPE"
   ]
  },
  {
   "cell_type": "code",
   "execution_count": 27,
   "metadata": {},
   "outputs": [],
   "source": [
    "def smape(target,predict):\n",
    "    smape = np.mean(np.abs(target - predict) / ((np.abs(target) + np.abs(predict)) / 2)) * 100\n",
    "    return np.abs(smape)"
   ]
  },
  {
   "cell_type": "markdown",
   "metadata": {},
   "source": [
    "итоговый sMAPE"
   ]
  },
  {
   "cell_type": "code",
   "execution_count": 28,
   "metadata": {},
   "outputs": [],
   "source": [
    "def final_smape(target, predict):\n",
    "    target_rougher=target.iloc[:,0]\n",
    "    target_final=target.iloc[:,1]\n",
    "    predict_rougher=predict[:,0]\n",
    "    predict_final=predict[:,1]\n",
    "    return abs(0.25*smape(target_rougher,predict_rougher) + 0.75*smape(target_final,predict_final))"
   ]
  },
  {
   "cell_type": "code",
   "execution_count": 29,
   "metadata": {},
   "outputs": [],
   "source": [
    "custom_score = make_scorer(final_smape,greater_is_better=False)"
   ]
  },
  {
   "cell_type": "markdown",
   "metadata": {},
   "source": [
    "Добавим к data_test стлбцы связанные с rougher.output и final.output"
   ]
  },
  {
   "cell_type": "code",
   "execution_count": 30,
   "metadata": {},
   "outputs": [],
   "source": [
    "data_test_netu  = data_full[[\"date\", \n",
    "                            \"rougher.output.recovery\", \n",
    "                            \"final.output.recovery\"]]\n",
    "data_test = data_test.merge(data_test_netu, on=\"date\", how=\"left\")"
   ]
  },
  {
   "cell_type": "markdown",
   "metadata": {},
   "source": [
    "<div class=\"alert alert-info\">\n",
    "<h2> Комментарий студента <a class=\"tocSkip\"> </h2>\n",
    "\n",
    "Без добавлений в тестовую выборку этих столбцов наш дата фрейм грубо говоря является тогда не нужным. Наиболее важной информации, которая как раз используется в smape, в тестовой ее выборке изначально нет(например  \"rougher.output.recovery\", \n",
    "\"final.output.recovery\"). . Модель без этих данных мы попросту не сможем проверить\n",
    "</div>"
   ]
  },
  {
   "cell_type": "markdown",
   "metadata": {},
   "source": [
    "<div class=\"alert alert-info\">\n",
    "<h2> Комментарий студента <a class=\"tocSkip\"> </h2>\n",
    "    \n",
    "Получается что  добавление каких либо признаков в test является некоректным, потому что мы тогда обучаем и проверяем модель на тех признаках, которых изначально не было. Поэтому нужно добавить  в test только целевые признаки из train,и дальше удалим лишние признаки из train, то есть те, которых нет в test.\n",
    "\n",
    "</div>"
   ]
  },
  {
   "cell_type": "code",
   "execution_count": 31,
   "metadata": {
    "scrolled": true
   },
   "outputs": [],
   "source": [
    "data_train = data_train.loc[:, list(data_test.columns)]"
   ]
  },
  {
   "cell_type": "markdown",
   "metadata": {},
   "source": [
    "Т.к. далее будем обучать модель, то в data_train и data_test можем удалить столбец 'date' тк он никак не влияет на обучение нашей модели"
   ]
  },
  {
   "cell_type": "code",
   "execution_count": 32,
   "metadata": {},
   "outputs": [],
   "source": [
    "data_train = data_train.drop(\"date\", axis=1)\n",
    "data_test = data_test.drop(\"date\", axis=1)"
   ]
  },
  {
   "cell_type": "code",
   "execution_count": 33,
   "metadata": {},
   "outputs": [],
   "source": [
    "features_train = data_train.drop(columns=[\"rougher.output.recovery\", \"final.output.recovery\"], axis=1)\n",
    "target_train = data_train[[\"rougher.output.recovery\", \"final.output.recovery\"]]\n",
    "features_test = data_test.drop(columns=[\"rougher.output.recovery\", \"final.output.recovery\"], axis=1)\n",
    "target_test = data_test[[\"rougher.output.recovery\", \"final.output.recovery\"]]"
   ]
  },
  {
   "cell_type": "code",
   "execution_count": 34,
   "metadata": {
    "scrolled": false
   },
   "outputs": [
    {
     "data": {
      "text/html": [
       "<div>\n",
       "<style scoped>\n",
       "    .dataframe tbody tr th:only-of-type {\n",
       "        vertical-align: middle;\n",
       "    }\n",
       "\n",
       "    .dataframe tbody tr th {\n",
       "        vertical-align: top;\n",
       "    }\n",
       "\n",
       "    .dataframe thead th {\n",
       "        text-align: right;\n",
       "    }\n",
       "</style>\n",
       "<table border=\"1\" class=\"dataframe\">\n",
       "  <thead>\n",
       "    <tr style=\"text-align: right;\">\n",
       "      <th></th>\n",
       "      <th>rougher.output.recovery</th>\n",
       "      <th>final.output.recovery</th>\n",
       "    </tr>\n",
       "  </thead>\n",
       "  <tbody>\n",
       "    <tr>\n",
       "      <th>0</th>\n",
       "      <td>87.107763</td>\n",
       "      <td>70.541216</td>\n",
       "    </tr>\n",
       "    <tr>\n",
       "      <th>1</th>\n",
       "      <td>86.843261</td>\n",
       "      <td>69.266198</td>\n",
       "    </tr>\n",
       "    <tr>\n",
       "      <th>2</th>\n",
       "      <td>86.842308</td>\n",
       "      <td>68.116445</td>\n",
       "    </tr>\n",
       "    <tr>\n",
       "      <th>3</th>\n",
       "      <td>87.226430</td>\n",
       "      <td>68.347543</td>\n",
       "    </tr>\n",
       "    <tr>\n",
       "      <th>4</th>\n",
       "      <td>86.688794</td>\n",
       "      <td>66.927016</td>\n",
       "    </tr>\n",
       "  </tbody>\n",
       "</table>\n",
       "</div>"
      ],
      "text/plain": [
       "   rougher.output.recovery  final.output.recovery\n",
       "0                87.107763              70.541216\n",
       "1                86.843261              69.266198\n",
       "2                86.842308              68.116445\n",
       "3                87.226430              68.347543\n",
       "4                86.688794              66.927016"
      ]
     },
     "execution_count": 34,
     "metadata": {},
     "output_type": "execute_result"
    }
   ],
   "source": [
    "target_train.head()"
   ]
  },
  {
   "cell_type": "code",
   "execution_count": 35,
   "metadata": {},
   "outputs": [],
   "source": [
    "model_rfr = Pipeline([('scaler', MinMaxScaler()),('regressor', RandomForestRegressor(random_state=12345))])\n",
    "\n",
    "model_dtr = Pipeline([('scaler', MinMaxScaler()),('regressor', DecisionTreeRegressor(random_state=12345))])\n",
    "\n",
    "model_lr = Pipeline([('scaler', MinMaxScaler()),('regressor', LinearRegression(fit_intercept=True, copy_X=True, n_jobs=None, positive=False))])  \n",
    "\n",
    "model_lasso = Pipeline([('scaler', MinMaxScaler()),('regressor', Lasso())])\n",
    "\n",
    "model_elasticnet = Pipeline([('scaler', MinMaxScaler()),('regressor', ElasticNet())])\n"
   ]
  },
  {
   "cell_type": "code",
   "execution_count": 36,
   "metadata": {},
   "outputs": [],
   "source": [
    "parameters_rfr = {'regressor__n_estimators':[1,5,10],\n",
    "                  'regressor__max_depth':range(1,10)}"
   ]
  },
  {
   "cell_type": "markdown",
   "metadata": {},
   "source": [
    "<div class=\"alert alert-info\">\n",
    "<h2> Комментарий студента <a class=\"tocSkip\"> </h2>\n",
    "\n",
    "определил вне сетки гиперпараметров random_state для RandomForestRegressor и DecisionTreeRegressor\n",
    "</div>"
   ]
  },
  {
   "cell_type": "code",
   "execution_count": 37,
   "metadata": {},
   "outputs": [],
   "source": [
    "parameters_dtr = {'regressor__max_depth':range(1,10)}\n",
    "\n",
    "parametres_lasso = {'regressor__alpha': [0.1,0.5, 1.0]}\n",
    "\n",
    "param_grid_en = {'regressor__alpha': [0.1,0.5, 1.0],'regressor__l1_ratio': [0.1,0.5, 1.0]}\n",
    "\n",
    "parameters_lr = {}"
   ]
  },
  {
   "cell_type": "code",
   "execution_count": 38,
   "metadata": {},
   "outputs": [],
   "source": [
    "grid_search_rfr = GridSearchCV(model_rfr, param_grid=parameters_rfr,  scoring=custom_score,cv=5)\n",
    "\n",
    "grid_search_dtr = GridSearchCV(model_dtr, param_grid=parameters_dtr,  scoring=custom_score,cv=5)\n",
    "\n",
    "grid_search_lr = GridSearchCV(model_lr, param_grid=parameters_lr, scoring=custom_score,cv=5)\n",
    "\n",
    "grid_search_lasso = GridSearchCV(model_lasso, param_grid=parametres_lasso, scoring=custom_score,cv=5)\n",
    "\n",
    "grid_search_en = GridSearchCV(model_elasticnet, param_grid=param_grid_en, scoring=custom_score,cv=5)"
   ]
  },
  {
   "cell_type": "code",
   "execution_count": 39,
   "metadata": {},
   "outputs": [
    {
     "data": {
      "text/plain": [
       "GridSearchCV(cv=5,\n",
       "             estimator=Pipeline(steps=[('scaler', MinMaxScaler()),\n",
       "                                       ('regressor', ElasticNet())]),\n",
       "             param_grid={'regressor__alpha': [0.1, 0.5, 1.0],\n",
       "                         'regressor__l1_ratio': [0.1, 0.5, 1.0]},\n",
       "             scoring=make_scorer(final_smape, greater_is_better=False))"
      ]
     },
     "execution_count": 39,
     "metadata": {},
     "output_type": "execute_result"
    }
   ],
   "source": [
    "grid_search_rfr.fit(features_train,target_train)\n",
    "\n",
    "grid_search_dtr.fit(features_train,target_train)\n",
    "\n",
    "grid_search_lr.fit(features_train,target_train)\n",
    "\n",
    "grid_search_lasso.fit(features_train,target_train)\n",
    "\n",
    "grid_search_en.fit(features_train,target_train)"
   ]
  },
  {
   "cell_type": "code",
   "execution_count": 40,
   "metadata": {},
   "outputs": [
    {
     "name": "stdout",
     "output_type": "stream",
     "text": [
      "Лучшие гиперпараметры для RandomForestRegressor:  {'regressor__max_depth': 3, 'regressor__n_estimators': 10}\n",
      "Лучшее значение метрики для RandomForestRegressor:  8.529395376509644\n",
      "----------------------\n",
      "Лучшие гиперпараметры для DecisionTreeRegressor:  {'regressor__max_depth': 3}\n",
      "Лучшее значение метрики для DecisionTreeRegressor:  8.747263062525537\n",
      "----------------------\n",
      "Лучшие гиперпараметры для LinearRegression:  {}\n",
      "Лучшее значение метрики для LinearRegression:  8.864227576916567\n",
      "----------------------\n",
      "Лучшие гиперпараметры для Lasso:  {'regressor__alpha': 0.1}\n",
      "Лучшее значение метрики для Lasso:  8.046859150977237\n",
      "----------------------\n",
      "Лучшие гиперпараметры для ElasticNet:  {'regressor__alpha': 0.1, 'regressor__l1_ratio': 1.0}\n",
      "Лучшее значение метрики для ElasticNet:  8.046859150977237\n"
     ]
    }
   ],
   "source": [
    "print(\"Лучшие гиперпараметры для RandomForestRegressor: \", grid_search_rfr.best_params_)\n",
    "print(\"Лучшее значение метрики для RandomForestRegressor: \", -(grid_search_rfr.best_score_))\n",
    "print('----------------------')\n",
    "print(\"Лучшие гиперпараметры для DecisionTreeRegressor: \", grid_search_dtr.best_params_)\n",
    "print(\"Лучшее значение метрики для DecisionTreeRegressor: \", -(grid_search_dtr.best_score_))\n",
    "print('----------------------')\n",
    "print(\"Лучшие гиперпараметры для LinearRegression: \", grid_search_lr.best_params_)\n",
    "print(\"Лучшее значение метрики для LinearRegression: \", -(grid_search_lr.best_score_))\n",
    "print('----------------------')\n",
    "print(\"Лучшие гиперпараметры для Lasso: \", grid_search_lasso.best_params_)\n",
    "print(\"Лучшее значение метрики для Lasso: \", -(grid_search_lasso.best_score_))\n",
    "print('----------------------')\n",
    "print(\"Лучшие гиперпараметры для ElasticNet: \", grid_search_en.best_params_)\n",
    "print(\"Лучшее значение метрики для ElasticNet: \", -(grid_search_en.best_score_))\n"
   ]
  },
  {
   "cell_type": "markdown",
   "metadata": {},
   "source": [
    "Получил что лучшей моделью является модель Lasso с гиперпараметром alpha=0.1. Проверим модель на тестовой выборке"
   ]
  },
  {
   "cell_type": "markdown",
   "metadata": {},
   "source": [
    "# Тестовая выборка"
   ]
  },
  {
   "cell_type": "code",
   "execution_count": 41,
   "metadata": {
    "scrolled": true
   },
   "outputs": [
    {
     "name": "stdout",
     "output_type": "stream",
     "text": [
      "smape : 7.095445926674805\n"
     ]
    }
   ],
   "source": [
    "model = Lasso(alpha=0.1)\n",
    "model.fit(features_train, target_train)\n",
    "prediction=model.predict(features_test)\n",
    "print(\"smape :\", final_smape(target_test,prediction))"
   ]
  },
  {
   "cell_type": "markdown",
   "metadata": {},
   "source": [
    "**Вывод** На тренировочной выборке получили, что лучшей моделью является Lasso. На тестовой выборке получили результат в 7.1%"
   ]
  },
  {
   "cell_type": "markdown",
   "metadata": {},
   "source": [
    "# Проверка модели на адекватность"
   ]
  },
  {
   "cell_type": "code",
   "execution_count": 42,
   "metadata": {},
   "outputs": [
    {
     "name": "stdout",
     "output_type": "stream",
     "text": [
      "smape : 8.471360971505119\n"
     ]
    }
   ],
   "source": [
    "dummy = DummyRegressor(strategy='mean')\n",
    "dummy.fit(features_train, target_train)\n",
    "predictions = dummy.predict(features_test)\n",
    "print(\"smape :\", final_smape(target_test,predictions))"
   ]
  },
  {
   "cell_type": "markdown",
   "metadata": {},
   "source": [
    "Получили что константная модель имеет значение smape хуже, значит наша модель адекватна и эффективна"
   ]
  },
  {
   "cell_type": "markdown",
   "metadata": {},
   "source": [
    "# Итоговый вывод"
   ]
  },
  {
   "cell_type": "markdown",
   "metadata": {},
   "source": [
    "В ходе работы было 4 основные части:\n",
    "1) подготовили данные \n",
    "- открыли файлы и изучили их\n",
    "- заполнили пропуски в данных с помощью стратегии заполнения forward fill\n",
    "- проверили, что эффективность обогащения рассчитана правильно. MAE между расчётами и значением признака 9.83758577644259e-15.\n",
    "- проанализировали признаки, недоступные в тестовой выборке\n",
    "\n",
    "2) провели анализ данных\n",
    "- рассмотрели как менялись концентрации золота, серебера и свинца на разных этапах. Заметили логичную закномерность, что с каждым этапом концентрация золота увеличивается, но также интересно, что свинца в финальной концентрации больше, чем было изнчально. На этом этапе мы и заметили аномалии концентраций: возле 0 находили значительные выбросы\n",
    "- определили что размеры гранул исходного сырья на обучающей и тестовой выборках существенно не отличаются. Это дало нам сигнал, что оценка модели будет правильной.\n",
    "- исследовали суммарную концентрацию металлов и обнаружили, что максимальное значение будет достигаться в черновом концентрате.\n",
    "\n",
    "3) обучили модели\n",
    "- обучили модели RandomForestRegressor,DecisionTreeRegressor,LinearRegression,Lasso и ElasticNet.\n",
    "- на тренировочной выборке лучший результат показала модель Lasso, поэтому ее мы использовали в тестовой выборке и получили результат 7.1%\n",
    "\n",
    "4) Проверили модель на адекватность \n",
    "- константная модель показала результат 8.47,т.е. хуже чем у нашей модели , это значило что выбранная нами модель адекватна и эффективна, поэтому можем ее использовать на производстве."
   ]
  }
 ],
 "metadata": {
  "ExecuteTimeLog": [
   {
    "duration": 471,
    "start_time": "2023-08-01T16:03:35.902Z"
   },
   {
    "duration": 982,
    "start_time": "2023-08-01T16:04:03.160Z"
   },
   {
    "duration": 3223,
    "start_time": "2023-08-01T16:05:31.554Z"
   },
   {
    "duration": 26,
    "start_time": "2023-08-01T16:06:19.562Z"
   },
   {
    "duration": 19,
    "start_time": "2023-08-01T16:45:53.480Z"
   },
   {
    "duration": 11,
    "start_time": "2023-08-01T16:48:23.108Z"
   },
   {
    "duration": 142,
    "start_time": "2023-08-01T16:48:51.103Z"
   },
   {
    "duration": 21,
    "start_time": "2023-08-01T17:02:33.686Z"
   },
   {
    "duration": 14,
    "start_time": "2023-08-01T17:02:48.185Z"
   },
   {
    "duration": 32,
    "start_time": "2023-08-01T17:04:19.482Z"
   },
   {
    "duration": 33,
    "start_time": "2023-08-01T17:05:03.581Z"
   },
   {
    "duration": 12,
    "start_time": "2023-08-01T17:05:21.149Z"
   },
   {
    "duration": 32,
    "start_time": "2023-08-01T17:05:31.044Z"
   },
   {
    "duration": 136,
    "start_time": "2023-08-01T17:05:50.544Z"
   },
   {
    "duration": 23,
    "start_time": "2023-08-01T17:33:20.948Z"
   },
   {
    "duration": 7,
    "start_time": "2023-08-01T17:36:32.232Z"
   },
   {
    "duration": 1477,
    "start_time": "2023-08-01T17:36:37.397Z"
   },
   {
    "duration": 9,
    "start_time": "2023-08-01T17:37:00.112Z"
   },
   {
    "duration": 17,
    "start_time": "2023-08-01T17:37:39.191Z"
   },
   {
    "duration": 7,
    "start_time": "2023-08-01T17:37:49.734Z"
   },
   {
    "duration": 4,
    "start_time": "2023-08-01T17:39:12.215Z"
   },
   {
    "duration": 7,
    "start_time": "2023-08-01T17:39:21.400Z"
   },
   {
    "duration": 8,
    "start_time": "2023-08-01T17:39:41.063Z"
   },
   {
    "duration": 699,
    "start_time": "2023-08-01T17:40:38.979Z"
   },
   {
    "duration": 51,
    "start_time": "2023-08-01T17:40:46.807Z"
   },
   {
    "duration": 3,
    "start_time": "2023-08-01T17:56:03.312Z"
   },
   {
    "duration": 3,
    "start_time": "2023-08-01T18:14:04.697Z"
   },
   {
    "duration": 5,
    "start_time": "2023-08-01T18:14:05.212Z"
   },
   {
    "duration": 16,
    "start_time": "2023-08-01T18:14:08.297Z"
   },
   {
    "duration": 4,
    "start_time": "2023-08-01T18:14:28.340Z"
   },
   {
    "duration": 9,
    "start_time": "2023-08-01T18:14:28.747Z"
   },
   {
    "duration": 14,
    "start_time": "2023-08-01T18:14:29.341Z"
   },
   {
    "duration": 13,
    "start_time": "2023-08-01T18:15:02.206Z"
   },
   {
    "duration": 7,
    "start_time": "2023-08-01T18:15:02.938Z"
   },
   {
    "duration": 3,
    "start_time": "2023-08-01T18:15:05.382Z"
   },
   {
    "duration": 8,
    "start_time": "2023-08-01T18:15:06.011Z"
   },
   {
    "duration": 20,
    "start_time": "2023-08-01T18:15:06.789Z"
   },
   {
    "duration": 16,
    "start_time": "2023-08-01T18:15:17.813Z"
   },
   {
    "duration": 1059,
    "start_time": "2023-08-01T18:15:25.691Z"
   },
   {
    "duration": 3194,
    "start_time": "2023-08-01T18:15:26.752Z"
   },
   {
    "duration": 29,
    "start_time": "2023-08-01T18:15:29.949Z"
   },
   {
    "duration": 19,
    "start_time": "2023-08-01T18:15:29.980Z"
   },
   {
    "duration": 152,
    "start_time": "2023-08-01T18:15:30.001Z"
   },
   {
    "duration": 23,
    "start_time": "2023-08-01T18:15:30.158Z"
   },
   {
    "duration": 49,
    "start_time": "2023-08-01T18:15:30.183Z"
   },
   {
    "duration": 57,
    "start_time": "2023-08-01T18:15:30.234Z"
   },
   {
    "duration": 56,
    "start_time": "2023-08-01T18:15:30.293Z"
   },
   {
    "duration": 52,
    "start_time": "2023-08-01T18:15:30.353Z"
   },
   {
    "duration": 104,
    "start_time": "2023-08-01T18:15:30.406Z"
   },
   {
    "duration": 14,
    "start_time": "2023-08-01T18:15:30.512Z"
   },
   {
    "duration": 46,
    "start_time": "2023-08-01T18:15:30.528Z"
   },
   {
    "duration": 51,
    "start_time": "2023-08-01T18:15:30.577Z"
   },
   {
    "duration": 36,
    "start_time": "2023-08-01T18:15:30.630Z"
   },
   {
    "duration": 160,
    "start_time": "2023-08-01T18:15:30.668Z"
   },
   {
    "duration": 0,
    "start_time": "2023-08-01T18:15:30.830Z"
   },
   {
    "duration": 18,
    "start_time": "2023-08-01T18:15:44.589Z"
   },
   {
    "duration": 6,
    "start_time": "2023-08-01T18:15:47.365Z"
   },
   {
    "duration": 1053,
    "start_time": "2023-08-01T18:16:08.689Z"
   },
   {
    "duration": 736,
    "start_time": "2023-08-01T18:16:09.744Z"
   },
   {
    "duration": 28,
    "start_time": "2023-08-01T18:16:10.482Z"
   },
   {
    "duration": 20,
    "start_time": "2023-08-01T18:16:10.512Z"
   },
   {
    "duration": 149,
    "start_time": "2023-08-01T18:16:10.535Z"
   },
   {
    "duration": 22,
    "start_time": "2023-08-01T18:16:10.686Z"
   },
   {
    "duration": 14,
    "start_time": "2023-08-01T18:16:10.710Z"
   },
   {
    "duration": 47,
    "start_time": "2023-08-01T18:16:10.725Z"
   },
   {
    "duration": 21,
    "start_time": "2023-08-01T18:16:10.773Z"
   },
   {
    "duration": 18,
    "start_time": "2023-08-01T18:16:10.796Z"
   },
   {
    "duration": 111,
    "start_time": "2023-08-01T18:16:10.816Z"
   },
   {
    "duration": 13,
    "start_time": "2023-08-01T18:16:10.929Z"
   },
   {
    "duration": 8,
    "start_time": "2023-08-01T18:16:10.959Z"
   },
   {
    "duration": 2,
    "start_time": "2023-08-01T18:16:10.970Z"
   },
   {
    "duration": 21,
    "start_time": "2023-08-01T18:16:10.974Z"
   },
   {
    "duration": 5,
    "start_time": "2023-08-01T18:16:10.996Z"
   },
   {
    "duration": 1064,
    "start_time": "2023-08-01T18:16:38.902Z"
   },
   {
    "duration": 732,
    "start_time": "2023-08-01T18:16:39.969Z"
   },
   {
    "duration": 29,
    "start_time": "2023-08-01T18:16:40.703Z"
   },
   {
    "duration": 39,
    "start_time": "2023-08-01T18:16:40.733Z"
   },
   {
    "duration": 130,
    "start_time": "2023-08-01T18:16:40.775Z"
   },
   {
    "duration": 21,
    "start_time": "2023-08-01T18:16:40.907Z"
   },
   {
    "duration": 32,
    "start_time": "2023-08-01T18:16:40.929Z"
   },
   {
    "duration": 21,
    "start_time": "2023-08-01T18:16:40.963Z"
   },
   {
    "duration": 20,
    "start_time": "2023-08-01T18:16:40.986Z"
   },
   {
    "duration": 51,
    "start_time": "2023-08-01T18:16:41.008Z"
   },
   {
    "duration": 101,
    "start_time": "2023-08-01T18:16:41.061Z"
   },
   {
    "duration": 13,
    "start_time": "2023-08-01T18:16:41.164Z"
   },
   {
    "duration": 3,
    "start_time": "2023-08-01T18:16:41.178Z"
   },
   {
    "duration": 8,
    "start_time": "2023-08-01T18:16:41.184Z"
   },
   {
    "duration": 7,
    "start_time": "2023-08-01T18:16:41.194Z"
   },
   {
    "duration": 5,
    "start_time": "2023-08-01T18:17:54.901Z"
   },
   {
    "duration": 6,
    "start_time": "2023-08-01T19:23:06.002Z"
   },
   {
    "duration": 98,
    "start_time": "2023-08-01T19:23:25.495Z"
   },
   {
    "duration": 6,
    "start_time": "2023-08-01T19:23:43.642Z"
   },
   {
    "duration": 526,
    "start_time": "2023-08-01T19:42:24.457Z"
   },
   {
    "duration": 266,
    "start_time": "2023-08-01T19:47:19.334Z"
   },
   {
    "duration": 244,
    "start_time": "2023-08-01T19:47:57.842Z"
   },
   {
    "duration": 254,
    "start_time": "2023-08-01T19:49:22.290Z"
   },
   {
    "duration": 209,
    "start_time": "2023-08-01T19:49:25.617Z"
   },
   {
    "duration": 7,
    "start_time": "2023-08-01T19:49:46.180Z"
   },
   {
    "duration": 219,
    "start_time": "2023-08-01T19:50:59.514Z"
   },
   {
    "duration": 1382,
    "start_time": "2023-08-01T19:51:04.397Z"
   },
   {
    "duration": 788,
    "start_time": "2023-08-01T19:51:05.781Z"
   },
   {
    "duration": 26,
    "start_time": "2023-08-01T19:51:06.572Z"
   },
   {
    "duration": 18,
    "start_time": "2023-08-01T19:51:06.600Z"
   },
   {
    "duration": 136,
    "start_time": "2023-08-01T19:51:06.620Z"
   },
   {
    "duration": 25,
    "start_time": "2023-08-01T19:51:06.763Z"
   },
   {
    "duration": 14,
    "start_time": "2023-08-01T19:51:06.789Z"
   },
   {
    "duration": 19,
    "start_time": "2023-08-01T19:51:06.805Z"
   },
   {
    "duration": 50,
    "start_time": "2023-08-01T19:51:06.826Z"
   },
   {
    "duration": 19,
    "start_time": "2023-08-01T19:51:06.878Z"
   },
   {
    "duration": 114,
    "start_time": "2023-08-01T19:51:06.899Z"
   },
   {
    "duration": 13,
    "start_time": "2023-08-01T19:51:07.015Z"
   },
   {
    "duration": 3,
    "start_time": "2023-08-01T19:51:07.029Z"
   },
   {
    "duration": 30,
    "start_time": "2023-08-01T19:51:07.034Z"
   },
   {
    "duration": 5,
    "start_time": "2023-08-01T19:51:07.077Z"
   },
   {
    "duration": 28,
    "start_time": "2023-08-01T19:51:07.083Z"
   },
   {
    "duration": 108,
    "start_time": "2023-08-01T19:51:07.113Z"
   },
   {
    "duration": 0,
    "start_time": "2023-08-01T19:51:07.223Z"
   },
   {
    "duration": 0,
    "start_time": "2023-08-01T19:51:07.224Z"
   },
   {
    "duration": 6,
    "start_time": "2023-08-01T19:51:12.641Z"
   },
   {
    "duration": 238,
    "start_time": "2023-08-01T19:51:14.648Z"
   },
   {
    "duration": 59,
    "start_time": "2023-08-01T19:52:08.776Z"
   },
   {
    "duration": 117,
    "start_time": "2023-08-01T19:52:45.610Z"
   },
   {
    "duration": 3634,
    "start_time": "2023-08-01T19:53:00.866Z"
   },
   {
    "duration": 63,
    "start_time": "2023-08-01T19:54:57.537Z"
   },
   {
    "duration": 64,
    "start_time": "2023-08-01T19:55:07.381Z"
   },
   {
    "duration": 65,
    "start_time": "2023-08-01T19:55:21.905Z"
   },
   {
    "duration": 1426,
    "start_time": "2023-08-01T19:55:41.987Z"
   },
   {
    "duration": 832,
    "start_time": "2023-08-01T19:55:43.415Z"
   },
   {
    "duration": 41,
    "start_time": "2023-08-01T19:55:44.249Z"
   },
   {
    "duration": 18,
    "start_time": "2023-08-01T19:55:44.292Z"
   },
   {
    "duration": 152,
    "start_time": "2023-08-01T19:55:44.313Z"
   },
   {
    "duration": 23,
    "start_time": "2023-08-01T19:55:44.469Z"
   },
   {
    "duration": 27,
    "start_time": "2023-08-01T19:55:44.494Z"
   },
   {
    "duration": 20,
    "start_time": "2023-08-01T19:55:44.522Z"
   },
   {
    "duration": 43,
    "start_time": "2023-08-01T19:55:44.544Z"
   },
   {
    "duration": 19,
    "start_time": "2023-08-01T19:55:44.588Z"
   },
   {
    "duration": 130,
    "start_time": "2023-08-01T19:55:44.609Z"
   },
   {
    "duration": 25,
    "start_time": "2023-08-01T19:55:44.741Z"
   },
   {
    "duration": 5,
    "start_time": "2023-08-01T19:55:44.770Z"
   },
   {
    "duration": 11,
    "start_time": "2023-08-01T19:55:44.778Z"
   },
   {
    "duration": 5,
    "start_time": "2023-08-01T19:55:44.790Z"
   },
   {
    "duration": 9,
    "start_time": "2023-08-01T19:55:44.797Z"
   },
   {
    "duration": 70,
    "start_time": "2023-08-01T19:55:44.807Z"
   },
   {
    "duration": 0,
    "start_time": "2023-08-01T19:55:44.879Z"
   },
   {
    "duration": 0,
    "start_time": "2023-08-01T19:55:44.880Z"
   },
   {
    "duration": 0,
    "start_time": "2023-08-01T19:55:44.881Z"
   },
   {
    "duration": 3770,
    "start_time": "2023-08-01T19:56:27.089Z"
   },
   {
    "duration": 3690,
    "start_time": "2023-08-01T19:56:37.441Z"
   },
   {
    "duration": 1025,
    "start_time": "2023-08-01T19:58:07.601Z"
   },
   {
    "duration": 1560,
    "start_time": "2023-08-01T19:58:52.473Z"
   },
   {
    "duration": 839,
    "start_time": "2023-08-01T19:58:54.035Z"
   },
   {
    "duration": 27,
    "start_time": "2023-08-01T19:58:54.877Z"
   },
   {
    "duration": 19,
    "start_time": "2023-08-01T19:58:54.906Z"
   },
   {
    "duration": 153,
    "start_time": "2023-08-01T19:58:54.928Z"
   },
   {
    "duration": 21,
    "start_time": "2023-08-01T19:58:55.083Z"
   },
   {
    "duration": 24,
    "start_time": "2023-08-01T19:58:55.106Z"
   },
   {
    "duration": 42,
    "start_time": "2023-08-01T19:58:55.132Z"
   },
   {
    "duration": 20,
    "start_time": "2023-08-01T19:58:55.176Z"
   },
   {
    "duration": 22,
    "start_time": "2023-08-01T19:58:55.198Z"
   },
   {
    "duration": 119,
    "start_time": "2023-08-01T19:58:55.221Z"
   },
   {
    "duration": 21,
    "start_time": "2023-08-01T19:58:55.342Z"
   },
   {
    "duration": 7,
    "start_time": "2023-08-01T19:58:55.367Z"
   },
   {
    "duration": 12,
    "start_time": "2023-08-01T19:58:55.379Z"
   },
   {
    "duration": 21,
    "start_time": "2023-08-01T19:58:55.392Z"
   },
   {
    "duration": 31,
    "start_time": "2023-08-01T19:58:55.415Z"
   },
   {
    "duration": 59,
    "start_time": "2023-08-01T19:58:55.447Z"
   },
   {
    "duration": 0,
    "start_time": "2023-08-01T19:58:55.507Z"
   },
   {
    "duration": 0,
    "start_time": "2023-08-01T19:58:55.508Z"
   },
   {
    "duration": 0,
    "start_time": "2023-08-01T19:58:55.510Z"
   },
   {
    "duration": 5,
    "start_time": "2023-08-01T19:59:03.306Z"
   },
   {
    "duration": 863,
    "start_time": "2023-08-01T19:59:03.313Z"
   },
   {
    "duration": 29,
    "start_time": "2023-08-01T19:59:04.179Z"
   },
   {
    "duration": 27,
    "start_time": "2023-08-01T19:59:04.211Z"
   },
   {
    "duration": 155,
    "start_time": "2023-08-01T19:59:04.240Z"
   },
   {
    "duration": 20,
    "start_time": "2023-08-01T19:59:04.397Z"
   },
   {
    "duration": 13,
    "start_time": "2023-08-01T19:59:04.419Z"
   },
   {
    "duration": 42,
    "start_time": "2023-08-01T19:59:04.434Z"
   },
   {
    "duration": 21,
    "start_time": "2023-08-01T19:59:04.478Z"
   },
   {
    "duration": 18,
    "start_time": "2023-08-01T19:59:04.501Z"
   },
   {
    "duration": 113,
    "start_time": "2023-08-01T19:59:04.520Z"
   },
   {
    "duration": 11,
    "start_time": "2023-08-01T19:59:04.635Z"
   },
   {
    "duration": 5,
    "start_time": "2023-08-01T19:59:04.659Z"
   },
   {
    "duration": 19,
    "start_time": "2023-08-01T19:59:04.667Z"
   },
   {
    "duration": 4,
    "start_time": "2023-08-01T19:59:04.688Z"
   },
   {
    "duration": 6,
    "start_time": "2023-08-01T19:59:04.694Z"
   },
   {
    "duration": 1216,
    "start_time": "2023-08-01T19:59:04.703Z"
   },
   {
    "duration": 6,
    "start_time": "2023-08-01T19:59:05.921Z"
   },
   {
    "duration": 250,
    "start_time": "2023-08-01T19:59:05.929Z"
   },
   {
    "duration": 1166,
    "start_time": "2023-08-01T19:59:31.658Z"
   },
   {
    "duration": 1030,
    "start_time": "2023-08-01T20:00:10.995Z"
   },
   {
    "duration": 4,
    "start_time": "2023-08-01T20:01:20.507Z"
   },
   {
    "duration": 899,
    "start_time": "2023-08-01T20:01:20.513Z"
   },
   {
    "duration": 21,
    "start_time": "2023-08-01T20:01:21.414Z"
   },
   {
    "duration": 48,
    "start_time": "2023-08-01T20:01:21.436Z"
   },
   {
    "duration": 138,
    "start_time": "2023-08-01T20:01:21.486Z"
   },
   {
    "duration": 23,
    "start_time": "2023-08-01T20:01:21.625Z"
   },
   {
    "duration": 28,
    "start_time": "2023-08-01T20:01:21.650Z"
   },
   {
    "duration": 20,
    "start_time": "2023-08-01T20:01:21.680Z"
   },
   {
    "duration": 20,
    "start_time": "2023-08-01T20:01:21.702Z"
   },
   {
    "duration": 63,
    "start_time": "2023-08-01T20:01:21.724Z"
   },
   {
    "duration": 113,
    "start_time": "2023-08-01T20:01:21.789Z"
   },
   {
    "duration": 15,
    "start_time": "2023-08-01T20:01:21.904Z"
   },
   {
    "duration": 4,
    "start_time": "2023-08-01T20:01:21.922Z"
   },
   {
    "duration": 35,
    "start_time": "2023-08-01T20:01:21.929Z"
   },
   {
    "duration": 11,
    "start_time": "2023-08-01T20:01:21.967Z"
   },
   {
    "duration": 6,
    "start_time": "2023-08-01T20:01:21.984Z"
   },
   {
    "duration": 1172,
    "start_time": "2023-08-01T20:01:21.992Z"
   },
   {
    "duration": 1352,
    "start_time": "2023-08-01T20:01:23.171Z"
   },
   {
    "duration": 1210,
    "start_time": "2023-08-01T20:01:24.525Z"
   },
   {
    "duration": 109,
    "start_time": "2023-08-01T20:07:55.747Z"
   },
   {
    "duration": 550,
    "start_time": "2023-08-01T20:08:24.885Z"
   },
   {
    "duration": 18,
    "start_time": "2023-08-01T20:08:36.572Z"
   },
   {
    "duration": 527,
    "start_time": "2023-08-01T20:08:42.665Z"
   },
   {
    "duration": 573,
    "start_time": "2023-08-01T20:08:50.438Z"
   },
   {
    "duration": 685,
    "start_time": "2023-08-01T20:08:56.297Z"
   },
   {
    "duration": 9,
    "start_time": "2023-08-01T20:32:04.315Z"
   },
   {
    "duration": 1139,
    "start_time": "2023-08-01T21:00:55.136Z"
   },
   {
    "duration": 1198,
    "start_time": "2023-08-01T21:13:31.989Z"
   },
   {
    "duration": 1151,
    "start_time": "2023-08-01T21:14:57.326Z"
   },
   {
    "duration": 6,
    "start_time": "2023-08-01T21:22:12.988Z"
   },
   {
    "duration": 10,
    "start_time": "2023-08-01T21:22:13.477Z"
   },
   {
    "duration": 10,
    "start_time": "2023-08-01T21:22:14.366Z"
   },
   {
    "duration": 1348,
    "start_time": "2023-08-01T21:22:19.818Z"
   },
   {
    "duration": 748,
    "start_time": "2023-08-01T21:22:21.168Z"
   },
   {
    "duration": 25,
    "start_time": "2023-08-01T21:22:21.918Z"
   },
   {
    "duration": 34,
    "start_time": "2023-08-01T21:22:21.944Z"
   },
   {
    "duration": 130,
    "start_time": "2023-08-01T21:22:21.980Z"
   },
   {
    "duration": 21,
    "start_time": "2023-08-01T21:22:22.112Z"
   },
   {
    "duration": 35,
    "start_time": "2023-08-01T21:22:22.135Z"
   },
   {
    "duration": 20,
    "start_time": "2023-08-01T21:22:22.171Z"
   },
   {
    "duration": 28,
    "start_time": "2023-08-01T21:22:22.193Z"
   },
   {
    "duration": 36,
    "start_time": "2023-08-01T21:22:22.223Z"
   },
   {
    "duration": 103,
    "start_time": "2023-08-01T21:22:22.261Z"
   },
   {
    "duration": 14,
    "start_time": "2023-08-01T21:22:22.365Z"
   },
   {
    "duration": 3,
    "start_time": "2023-08-01T21:22:22.381Z"
   },
   {
    "duration": 13,
    "start_time": "2023-08-01T21:22:22.387Z"
   },
   {
    "duration": 17,
    "start_time": "2023-08-01T21:22:22.402Z"
   },
   {
    "duration": 25,
    "start_time": "2023-08-01T21:22:22.421Z"
   },
   {
    "duration": 1257,
    "start_time": "2023-08-01T21:22:22.448Z"
   },
   {
    "duration": 1187,
    "start_time": "2023-08-01T21:22:23.707Z"
   },
   {
    "duration": 1092,
    "start_time": "2023-08-01T21:22:24.896Z"
   },
   {
    "duration": 586,
    "start_time": "2023-08-01T21:22:25.990Z"
   },
   {
    "duration": 1193,
    "start_time": "2023-08-01T21:22:26.578Z"
   },
   {
    "duration": 7,
    "start_time": "2023-08-01T21:22:27.773Z"
   },
   {
    "duration": 10,
    "start_time": "2023-08-01T21:22:27.782Z"
   },
   {
    "duration": 10,
    "start_time": "2023-08-01T21:22:27.794Z"
   },
   {
    "duration": 76,
    "start_time": "2023-08-01T21:24:27.004Z"
   },
   {
    "duration": 3,
    "start_time": "2023-08-01T21:35:21.897Z"
   },
   {
    "duration": 3,
    "start_time": "2023-08-01T21:35:59.203Z"
   },
   {
    "duration": 50,
    "start_time": "2023-08-01T21:49:19.298Z"
   },
   {
    "duration": 12,
    "start_time": "2023-08-01T21:54:01.417Z"
   },
   {
    "duration": 119,
    "start_time": "2023-08-01T21:54:30.521Z"
   },
   {
    "duration": 12,
    "start_time": "2023-08-01T21:54:41.719Z"
   },
   {
    "duration": 27,
    "start_time": "2023-08-01T21:54:49.513Z"
   },
   {
    "duration": 1475,
    "start_time": "2023-08-01T22:00:45.804Z"
   },
   {
    "duration": 797,
    "start_time": "2023-08-01T22:00:47.282Z"
   },
   {
    "duration": 25,
    "start_time": "2023-08-01T22:00:48.081Z"
   },
   {
    "duration": 16,
    "start_time": "2023-08-01T22:00:48.107Z"
   },
   {
    "duration": 147,
    "start_time": "2023-08-01T22:00:48.125Z"
   },
   {
    "duration": 20,
    "start_time": "2023-08-01T22:00:48.276Z"
   },
   {
    "duration": 13,
    "start_time": "2023-08-01T22:00:48.298Z"
   },
   {
    "duration": 20,
    "start_time": "2023-08-01T22:00:48.313Z"
   },
   {
    "duration": 28,
    "start_time": "2023-08-01T22:00:48.359Z"
   },
   {
    "duration": 16,
    "start_time": "2023-08-01T22:00:48.388Z"
   },
   {
    "duration": 122,
    "start_time": "2023-08-01T22:00:48.406Z"
   },
   {
    "duration": 12,
    "start_time": "2023-08-01T22:00:48.530Z"
   },
   {
    "duration": 15,
    "start_time": "2023-08-01T22:00:48.544Z"
   },
   {
    "duration": 18,
    "start_time": "2023-08-01T22:00:48.564Z"
   },
   {
    "duration": 4,
    "start_time": "2023-08-01T22:00:48.584Z"
   },
   {
    "duration": 7,
    "start_time": "2023-08-01T22:00:48.590Z"
   },
   {
    "duration": 1228,
    "start_time": "2023-08-01T22:00:48.599Z"
   },
   {
    "duration": 1295,
    "start_time": "2023-08-01T22:00:49.828Z"
   },
   {
    "duration": 1106,
    "start_time": "2023-08-01T22:00:51.126Z"
   },
   {
    "duration": 585,
    "start_time": "2023-08-01T22:00:52.234Z"
   },
   {
    "duration": 1194,
    "start_time": "2023-08-01T22:00:52.821Z"
   },
   {
    "duration": 8,
    "start_time": "2023-08-01T22:00:54.017Z"
   },
   {
    "duration": 19,
    "start_time": "2023-08-01T22:00:54.027Z"
   },
   {
    "duration": 34,
    "start_time": "2023-08-01T22:00:54.048Z"
   },
   {
    "duration": 12,
    "start_time": "2023-08-01T22:00:54.084Z"
   },
   {
    "duration": 21,
    "start_time": "2023-08-01T22:00:54.098Z"
   },
   {
    "duration": 16,
    "start_time": "2023-08-01T22:00:54.121Z"
   },
   {
    "duration": 296,
    "start_time": "2023-08-01T22:00:54.139Z"
   },
   {
    "duration": 6,
    "start_time": "2023-08-01T22:03:51.475Z"
   },
   {
    "duration": 3,
    "start_time": "2023-08-01T22:04:27.718Z"
   },
   {
    "duration": 20,
    "start_time": "2023-08-01T22:04:32.256Z"
   },
   {
    "duration": 1515,
    "start_time": "2023-08-01T22:05:27.651Z"
   },
   {
    "duration": 825,
    "start_time": "2023-08-01T22:05:29.172Z"
   },
   {
    "duration": 26,
    "start_time": "2023-08-01T22:05:29.999Z"
   },
   {
    "duration": 38,
    "start_time": "2023-08-01T22:05:30.028Z"
   },
   {
    "duration": 132,
    "start_time": "2023-08-01T22:05:30.069Z"
   },
   {
    "duration": 21,
    "start_time": "2023-08-01T22:05:30.203Z"
   },
   {
    "duration": 49,
    "start_time": "2023-08-01T22:05:30.226Z"
   },
   {
    "duration": 42,
    "start_time": "2023-08-01T22:05:30.277Z"
   },
   {
    "duration": 27,
    "start_time": "2023-08-01T22:05:30.321Z"
   },
   {
    "duration": 40,
    "start_time": "2023-08-01T22:05:30.352Z"
   },
   {
    "duration": 109,
    "start_time": "2023-08-01T22:05:30.394Z"
   },
   {
    "duration": 14,
    "start_time": "2023-08-01T22:05:30.504Z"
   },
   {
    "duration": 37,
    "start_time": "2023-08-01T22:05:30.520Z"
   },
   {
    "duration": 29,
    "start_time": "2023-08-01T22:05:30.560Z"
   },
   {
    "duration": 18,
    "start_time": "2023-08-01T22:05:30.590Z"
   },
   {
    "duration": 23,
    "start_time": "2023-08-01T22:05:30.610Z"
   },
   {
    "duration": 1190,
    "start_time": "2023-08-01T22:05:30.635Z"
   },
   {
    "duration": 1305,
    "start_time": "2023-08-01T22:05:31.827Z"
   },
   {
    "duration": 1152,
    "start_time": "2023-08-01T22:05:33.134Z"
   },
   {
    "duration": 612,
    "start_time": "2023-08-01T22:05:34.288Z"
   },
   {
    "duration": 1085,
    "start_time": "2023-08-01T22:05:34.902Z"
   },
   {
    "duration": 6,
    "start_time": "2023-08-01T22:05:35.988Z"
   },
   {
    "duration": 22,
    "start_time": "2023-08-01T22:05:35.995Z"
   },
   {
    "duration": 14,
    "start_time": "2023-08-01T22:05:36.019Z"
   },
   {
    "duration": 4,
    "start_time": "2023-08-01T22:05:36.035Z"
   },
   {
    "duration": 7,
    "start_time": "2023-08-01T22:05:36.040Z"
   },
   {
    "duration": 27,
    "start_time": "2023-08-01T22:05:36.048Z"
   },
   {
    "duration": 24,
    "start_time": "2023-08-01T22:05:36.078Z"
   },
   {
    "duration": 113,
    "start_time": "2023-08-01T22:05:36.104Z"
   },
   {
    "duration": 1472,
    "start_time": "2023-08-01T22:06:11.287Z"
   },
   {
    "duration": 817,
    "start_time": "2023-08-01T22:06:12.762Z"
   },
   {
    "duration": 23,
    "start_time": "2023-08-01T22:06:13.581Z"
   },
   {
    "duration": 17,
    "start_time": "2023-08-01T22:06:13.606Z"
   },
   {
    "duration": 149,
    "start_time": "2023-08-01T22:06:13.625Z"
   },
   {
    "duration": 20,
    "start_time": "2023-08-01T22:06:13.776Z"
   },
   {
    "duration": 13,
    "start_time": "2023-08-01T22:06:13.798Z"
   },
   {
    "duration": 19,
    "start_time": "2023-08-01T22:06:13.812Z"
   },
   {
    "duration": 53,
    "start_time": "2023-08-01T22:06:13.833Z"
   },
   {
    "duration": 20,
    "start_time": "2023-08-01T22:06:13.887Z"
   },
   {
    "duration": 119,
    "start_time": "2023-08-01T22:06:13.909Z"
   },
   {
    "duration": 15,
    "start_time": "2023-08-01T22:06:14.030Z"
   },
   {
    "duration": 20,
    "start_time": "2023-08-01T22:06:14.047Z"
   },
   {
    "duration": 12,
    "start_time": "2023-08-01T22:06:14.076Z"
   },
   {
    "duration": 6,
    "start_time": "2023-08-01T22:06:14.090Z"
   },
   {
    "duration": 9,
    "start_time": "2023-08-01T22:06:14.100Z"
   },
   {
    "duration": 1229,
    "start_time": "2023-08-01T22:06:14.110Z"
   },
   {
    "duration": 1268,
    "start_time": "2023-08-01T22:06:15.340Z"
   },
   {
    "duration": 1158,
    "start_time": "2023-08-01T22:06:16.610Z"
   },
   {
    "duration": 653,
    "start_time": "2023-08-01T22:06:17.773Z"
   },
   {
    "duration": 1205,
    "start_time": "2023-08-01T22:06:18.428Z"
   },
   {
    "duration": 6,
    "start_time": "2023-08-01T22:06:19.635Z"
   },
   {
    "duration": 25,
    "start_time": "2023-08-01T22:06:19.642Z"
   },
   {
    "duration": 15,
    "start_time": "2023-08-01T22:06:19.669Z"
   },
   {
    "duration": 11,
    "start_time": "2023-08-01T22:06:19.685Z"
   },
   {
    "duration": 10,
    "start_time": "2023-08-01T22:06:19.698Z"
   },
   {
    "duration": 9,
    "start_time": "2023-08-01T22:06:19.709Z"
   },
   {
    "duration": 11,
    "start_time": "2023-08-01T22:06:19.719Z"
   },
   {
    "duration": 6,
    "start_time": "2023-08-01T22:06:19.731Z"
   },
   {
    "duration": 3,
    "start_time": "2023-08-01T22:07:12.207Z"
   },
   {
    "duration": 118,
    "start_time": "2023-08-01T22:07:13.073Z"
   },
   {
    "duration": 4,
    "start_time": "2023-08-01T22:07:31.222Z"
   },
   {
    "duration": 1519,
    "start_time": "2023-08-01T22:07:36.192Z"
   },
   {
    "duration": 828,
    "start_time": "2023-08-01T22:07:37.712Z"
   },
   {
    "duration": 44,
    "start_time": "2023-08-01T22:07:38.542Z"
   },
   {
    "duration": 17,
    "start_time": "2023-08-01T22:07:38.588Z"
   },
   {
    "duration": 139,
    "start_time": "2023-08-01T22:07:38.607Z"
   },
   {
    "duration": 31,
    "start_time": "2023-08-01T22:07:38.747Z"
   },
   {
    "duration": 16,
    "start_time": "2023-08-01T22:07:38.780Z"
   },
   {
    "duration": 20,
    "start_time": "2023-08-01T22:07:38.798Z"
   },
   {
    "duration": 56,
    "start_time": "2023-08-01T22:07:38.820Z"
   },
   {
    "duration": 21,
    "start_time": "2023-08-01T22:07:38.878Z"
   },
   {
    "duration": 114,
    "start_time": "2023-08-01T22:07:38.901Z"
   },
   {
    "duration": 13,
    "start_time": "2023-08-01T22:07:39.017Z"
   },
   {
    "duration": 4,
    "start_time": "2023-08-01T22:07:39.032Z"
   },
   {
    "duration": 34,
    "start_time": "2023-08-01T22:07:39.038Z"
   },
   {
    "duration": 6,
    "start_time": "2023-08-01T22:07:39.074Z"
   },
   {
    "duration": 9,
    "start_time": "2023-08-01T22:07:39.082Z"
   },
   {
    "duration": 1329,
    "start_time": "2023-08-01T22:07:39.093Z"
   },
   {
    "duration": 1207,
    "start_time": "2023-08-01T22:07:40.424Z"
   },
   {
    "duration": 1165,
    "start_time": "2023-08-01T22:07:41.633Z"
   },
   {
    "duration": 619,
    "start_time": "2023-08-01T22:07:42.800Z"
   },
   {
    "duration": 1181,
    "start_time": "2023-08-01T22:07:43.421Z"
   },
   {
    "duration": 6,
    "start_time": "2023-08-01T22:07:44.604Z"
   },
   {
    "duration": 10,
    "start_time": "2023-08-01T22:07:44.611Z"
   },
   {
    "duration": 9,
    "start_time": "2023-08-01T22:07:44.623Z"
   },
   {
    "duration": 3,
    "start_time": "2023-08-01T22:07:44.634Z"
   },
   {
    "duration": 5,
    "start_time": "2023-08-01T22:07:44.638Z"
   },
   {
    "duration": 9,
    "start_time": "2023-08-01T22:07:44.663Z"
   },
   {
    "duration": 19,
    "start_time": "2023-08-01T22:07:44.674Z"
   },
   {
    "duration": 7,
    "start_time": "2023-08-01T22:07:44.695Z"
   },
   {
    "duration": 6,
    "start_time": "2023-08-01T22:07:44.703Z"
   },
   {
    "duration": 12,
    "start_time": "2023-08-01T22:07:44.711Z"
   },
   {
    "duration": 135,
    "start_time": "2023-08-01T22:07:44.725Z"
   },
   {
    "duration": 0,
    "start_time": "2023-08-01T22:07:44.864Z"
   },
   {
    "duration": 1504,
    "start_time": "2023-08-01T22:10:56.412Z"
   },
   {
    "duration": 822,
    "start_time": "2023-08-01T22:10:57.918Z"
   },
   {
    "duration": 41,
    "start_time": "2023-08-01T22:10:58.742Z"
   },
   {
    "duration": 17,
    "start_time": "2023-08-01T22:10:58.785Z"
   },
   {
    "duration": 138,
    "start_time": "2023-08-01T22:10:58.804Z"
   },
   {
    "duration": 33,
    "start_time": "2023-08-01T22:10:58.944Z"
   },
   {
    "duration": 13,
    "start_time": "2023-08-01T22:10:58.979Z"
   },
   {
    "duration": 23,
    "start_time": "2023-08-01T22:10:58.993Z"
   },
   {
    "duration": 20,
    "start_time": "2023-08-01T22:10:59.018Z"
   },
   {
    "duration": 26,
    "start_time": "2023-08-01T22:10:59.060Z"
   },
   {
    "duration": 121,
    "start_time": "2023-08-01T22:10:59.088Z"
   },
   {
    "duration": 14,
    "start_time": "2023-08-01T22:10:59.211Z"
   },
   {
    "duration": 2,
    "start_time": "2023-08-01T22:10:59.227Z"
   },
   {
    "duration": 29,
    "start_time": "2023-08-01T22:10:59.233Z"
   },
   {
    "duration": 8,
    "start_time": "2023-08-01T22:10:59.265Z"
   },
   {
    "duration": 9,
    "start_time": "2023-08-01T22:10:59.275Z"
   },
   {
    "duration": 1248,
    "start_time": "2023-08-01T22:10:59.286Z"
   },
   {
    "duration": 1284,
    "start_time": "2023-08-01T22:11:00.535Z"
   },
   {
    "duration": 1219,
    "start_time": "2023-08-01T22:11:01.821Z"
   },
   {
    "duration": 560,
    "start_time": "2023-08-01T22:11:03.042Z"
   },
   {
    "duration": 1207,
    "start_time": "2023-08-01T22:11:03.604Z"
   },
   {
    "duration": 6,
    "start_time": "2023-08-01T22:11:04.813Z"
   },
   {
    "duration": 13,
    "start_time": "2023-08-01T22:11:04.820Z"
   },
   {
    "duration": 35,
    "start_time": "2023-08-01T22:11:04.834Z"
   },
   {
    "duration": 3,
    "start_time": "2023-08-01T22:11:04.872Z"
   },
   {
    "duration": 5,
    "start_time": "2023-08-01T22:11:04.877Z"
   },
   {
    "duration": 9,
    "start_time": "2023-08-01T22:11:04.883Z"
   },
   {
    "duration": 7,
    "start_time": "2023-08-01T22:11:04.893Z"
   },
   {
    "duration": 5,
    "start_time": "2023-08-01T22:11:04.901Z"
   },
   {
    "duration": 6,
    "start_time": "2023-08-01T22:11:04.908Z"
   },
   {
    "duration": 8,
    "start_time": "2023-08-01T22:11:04.915Z"
   },
   {
    "duration": 131,
    "start_time": "2023-08-01T22:11:04.924Z"
   },
   {
    "duration": 0,
    "start_time": "2023-08-01T22:11:05.057Z"
   },
   {
    "duration": 1454,
    "start_time": "2023-08-01T22:12:10.387Z"
   },
   {
    "duration": 790,
    "start_time": "2023-08-01T22:12:11.843Z"
   },
   {
    "duration": 38,
    "start_time": "2023-08-01T22:12:12.635Z"
   },
   {
    "duration": 18,
    "start_time": "2023-08-01T22:12:12.676Z"
   },
   {
    "duration": 135,
    "start_time": "2023-08-01T22:12:12.695Z"
   },
   {
    "duration": 31,
    "start_time": "2023-08-01T22:12:12.831Z"
   },
   {
    "duration": 24,
    "start_time": "2023-08-01T22:12:12.864Z"
   },
   {
    "duration": 20,
    "start_time": "2023-08-01T22:12:12.889Z"
   },
   {
    "duration": 19,
    "start_time": "2023-08-01T22:12:12.911Z"
   },
   {
    "duration": 39,
    "start_time": "2023-08-01T22:12:12.933Z"
   },
   {
    "duration": 122,
    "start_time": "2023-08-01T22:12:12.974Z"
   },
   {
    "duration": 14,
    "start_time": "2023-08-01T22:12:13.098Z"
   },
   {
    "duration": 3,
    "start_time": "2023-08-01T22:12:13.114Z"
   },
   {
    "duration": 13,
    "start_time": "2023-08-01T22:12:13.119Z"
   },
   {
    "duration": 5,
    "start_time": "2023-08-01T22:12:13.133Z"
   },
   {
    "duration": 13,
    "start_time": "2023-08-01T22:12:13.159Z"
   },
   {
    "duration": 1277,
    "start_time": "2023-08-01T22:12:13.177Z"
   },
   {
    "duration": 1153,
    "start_time": "2023-08-01T22:12:14.455Z"
   },
   {
    "duration": 1090,
    "start_time": "2023-08-01T22:12:15.610Z"
   },
   {
    "duration": 569,
    "start_time": "2023-08-01T22:12:16.702Z"
   },
   {
    "duration": 1236,
    "start_time": "2023-08-01T22:12:17.274Z"
   },
   {
    "duration": 123,
    "start_time": "2023-08-01T22:12:18.512Z"
   },
   {
    "duration": 0,
    "start_time": "2023-08-01T22:12:18.637Z"
   },
   {
    "duration": 0,
    "start_time": "2023-08-01T22:12:18.638Z"
   },
   {
    "duration": 0,
    "start_time": "2023-08-01T22:12:18.639Z"
   },
   {
    "duration": 0,
    "start_time": "2023-08-01T22:12:18.640Z"
   },
   {
    "duration": 0,
    "start_time": "2023-08-01T22:12:18.641Z"
   },
   {
    "duration": 0,
    "start_time": "2023-08-01T22:12:18.642Z"
   },
   {
    "duration": 0,
    "start_time": "2023-08-01T22:12:18.643Z"
   },
   {
    "duration": 0,
    "start_time": "2023-08-01T22:12:18.660Z"
   },
   {
    "duration": 0,
    "start_time": "2023-08-01T22:12:18.662Z"
   },
   {
    "duration": 0,
    "start_time": "2023-08-01T22:12:18.663Z"
   },
   {
    "duration": 0,
    "start_time": "2023-08-01T22:12:18.665Z"
   },
   {
    "duration": 24,
    "start_time": "2023-08-01T22:15:36.542Z"
   },
   {
    "duration": 6,
    "start_time": "2023-08-01T22:17:40.604Z"
   },
   {
    "duration": 1476,
    "start_time": "2023-08-01T22:19:49.008Z"
   },
   {
    "duration": 781,
    "start_time": "2023-08-01T22:19:50.486Z"
   },
   {
    "duration": 35,
    "start_time": "2023-08-01T22:19:51.268Z"
   },
   {
    "duration": 17,
    "start_time": "2023-08-01T22:19:51.305Z"
   },
   {
    "duration": 150,
    "start_time": "2023-08-01T22:19:51.324Z"
   },
   {
    "duration": 19,
    "start_time": "2023-08-01T22:19:51.476Z"
   },
   {
    "duration": 34,
    "start_time": "2023-08-01T22:19:51.497Z"
   },
   {
    "duration": 45,
    "start_time": "2023-08-01T22:19:51.533Z"
   },
   {
    "duration": 20,
    "start_time": "2023-08-01T22:19:51.580Z"
   },
   {
    "duration": 49,
    "start_time": "2023-08-01T22:19:51.603Z"
   },
   {
    "duration": 120,
    "start_time": "2023-08-01T22:19:51.654Z"
   },
   {
    "duration": 12,
    "start_time": "2023-08-01T22:19:51.776Z"
   },
   {
    "duration": 14,
    "start_time": "2023-08-01T22:19:51.790Z"
   },
   {
    "duration": 34,
    "start_time": "2023-08-01T22:19:51.806Z"
   },
   {
    "duration": 11,
    "start_time": "2023-08-01T22:19:51.842Z"
   },
   {
    "duration": 48,
    "start_time": "2023-08-01T22:19:51.855Z"
   },
   {
    "duration": 1235,
    "start_time": "2023-08-01T22:19:51.905Z"
   },
   {
    "duration": 1331,
    "start_time": "2023-08-01T22:19:53.141Z"
   },
   {
    "duration": 1247,
    "start_time": "2023-08-01T22:19:54.474Z"
   },
   {
    "duration": 595,
    "start_time": "2023-08-01T22:19:55.723Z"
   },
   {
    "duration": 1179,
    "start_time": "2023-08-01T22:19:56.320Z"
   },
   {
    "duration": 8,
    "start_time": "2023-08-01T22:19:57.501Z"
   },
   {
    "duration": 139,
    "start_time": "2023-08-01T22:19:57.510Z"
   },
   {
    "duration": 0,
    "start_time": "2023-08-01T22:19:57.651Z"
   },
   {
    "duration": 0,
    "start_time": "2023-08-01T22:19:57.659Z"
   },
   {
    "duration": 0,
    "start_time": "2023-08-01T22:19:57.662Z"
   },
   {
    "duration": 0,
    "start_time": "2023-08-01T22:19:57.663Z"
   },
   {
    "duration": 0,
    "start_time": "2023-08-01T22:19:57.667Z"
   },
   {
    "duration": 0,
    "start_time": "2023-08-01T22:19:57.668Z"
   },
   {
    "duration": 0,
    "start_time": "2023-08-01T22:19:57.672Z"
   },
   {
    "duration": 0,
    "start_time": "2023-08-01T22:19:57.812Z"
   },
   {
    "duration": 0,
    "start_time": "2023-08-01T22:19:57.813Z"
   },
   {
    "duration": 0,
    "start_time": "2023-08-01T22:19:57.813Z"
   },
   {
    "duration": 1515,
    "start_time": "2023-08-01T22:21:04.290Z"
   },
   {
    "duration": 799,
    "start_time": "2023-08-01T22:21:05.807Z"
   },
   {
    "duration": 25,
    "start_time": "2023-08-01T22:21:06.608Z"
   },
   {
    "duration": 42,
    "start_time": "2023-08-01T22:21:06.634Z"
   },
   {
    "duration": 125,
    "start_time": "2023-08-01T22:21:06.677Z"
   },
   {
    "duration": 20,
    "start_time": "2023-08-01T22:21:06.804Z"
   },
   {
    "duration": 13,
    "start_time": "2023-08-01T22:21:06.825Z"
   },
   {
    "duration": 44,
    "start_time": "2023-08-01T22:21:06.840Z"
   },
   {
    "duration": 22,
    "start_time": "2023-08-01T22:21:06.886Z"
   },
   {
    "duration": 30,
    "start_time": "2023-08-01T22:21:06.911Z"
   },
   {
    "duration": 127,
    "start_time": "2023-08-01T22:21:06.943Z"
   },
   {
    "duration": 16,
    "start_time": "2023-08-01T22:21:07.074Z"
   },
   {
    "duration": 2,
    "start_time": "2023-08-01T22:21:07.092Z"
   },
   {
    "duration": 12,
    "start_time": "2023-08-01T22:21:07.096Z"
   },
   {
    "duration": 5,
    "start_time": "2023-08-01T22:21:07.109Z"
   },
   {
    "duration": 6,
    "start_time": "2023-08-01T22:21:07.115Z"
   },
   {
    "duration": 1218,
    "start_time": "2023-08-01T22:21:07.123Z"
   },
   {
    "duration": 1260,
    "start_time": "2023-08-01T22:21:08.343Z"
   },
   {
    "duration": 1208,
    "start_time": "2023-08-01T22:21:09.605Z"
   },
   {
    "duration": 619,
    "start_time": "2023-08-01T22:21:10.815Z"
   },
   {
    "duration": 1154,
    "start_time": "2023-08-01T22:21:11.436Z"
   },
   {
    "duration": 8,
    "start_time": "2023-08-01T22:21:12.593Z"
   },
   {
    "duration": 24,
    "start_time": "2023-08-01T22:21:12.603Z"
   },
   {
    "duration": 147,
    "start_time": "2023-08-01T22:21:12.628Z"
   },
   {
    "duration": 0,
    "start_time": "2023-08-01T22:21:12.778Z"
   },
   {
    "duration": 0,
    "start_time": "2023-08-01T22:21:12.779Z"
   },
   {
    "duration": 0,
    "start_time": "2023-08-01T22:21:12.781Z"
   },
   {
    "duration": 0,
    "start_time": "2023-08-01T22:21:12.781Z"
   },
   {
    "duration": 0,
    "start_time": "2023-08-01T22:21:12.782Z"
   },
   {
    "duration": 0,
    "start_time": "2023-08-01T22:21:12.783Z"
   },
   {
    "duration": 0,
    "start_time": "2023-08-01T22:21:12.784Z"
   },
   {
    "duration": 0,
    "start_time": "2023-08-01T22:21:12.785Z"
   },
   {
    "duration": 0,
    "start_time": "2023-08-01T22:21:12.786Z"
   },
   {
    "duration": 1497,
    "start_time": "2023-08-01T22:21:26.975Z"
   },
   {
    "duration": 836,
    "start_time": "2023-08-01T22:21:28.474Z"
   },
   {
    "duration": 26,
    "start_time": "2023-08-01T22:21:29.312Z"
   },
   {
    "duration": 40,
    "start_time": "2023-08-01T22:21:29.340Z"
   },
   {
    "duration": 135,
    "start_time": "2023-08-01T22:21:29.383Z"
   },
   {
    "duration": 20,
    "start_time": "2023-08-01T22:21:29.520Z"
   },
   {
    "duration": 35,
    "start_time": "2023-08-01T22:21:29.542Z"
   },
   {
    "duration": 19,
    "start_time": "2023-08-01T22:21:29.579Z"
   },
   {
    "duration": 20,
    "start_time": "2023-08-01T22:21:29.600Z"
   },
   {
    "duration": 29,
    "start_time": "2023-08-01T22:21:29.621Z"
   },
   {
    "duration": 121,
    "start_time": "2023-08-01T22:21:29.660Z"
   },
   {
    "duration": 14,
    "start_time": "2023-08-01T22:21:29.784Z"
   },
   {
    "duration": 3,
    "start_time": "2023-08-01T22:21:29.800Z"
   },
   {
    "duration": 9,
    "start_time": "2023-08-01T22:21:29.805Z"
   },
   {
    "duration": 4,
    "start_time": "2023-08-01T22:21:29.816Z"
   },
   {
    "duration": 17,
    "start_time": "2023-08-01T22:21:29.821Z"
   },
   {
    "duration": 1304,
    "start_time": "2023-08-01T22:21:29.839Z"
   },
   {
    "duration": 1293,
    "start_time": "2023-08-01T22:21:31.146Z"
   },
   {
    "duration": 1075,
    "start_time": "2023-08-01T22:21:32.441Z"
   },
   {
    "duration": 613,
    "start_time": "2023-08-01T22:21:33.518Z"
   },
   {
    "duration": 1182,
    "start_time": "2023-08-01T22:21:34.133Z"
   },
   {
    "duration": 10,
    "start_time": "2023-08-01T22:21:35.317Z"
   },
   {
    "duration": 34,
    "start_time": "2023-08-01T22:21:35.329Z"
   },
   {
    "duration": 23,
    "start_time": "2023-08-01T22:21:35.366Z"
   },
   {
    "duration": 3,
    "start_time": "2023-08-01T22:21:35.390Z"
   },
   {
    "duration": 18,
    "start_time": "2023-08-01T22:21:35.395Z"
   },
   {
    "duration": 79,
    "start_time": "2023-08-01T22:21:35.415Z"
   },
   {
    "duration": 3,
    "start_time": "2023-08-01T22:21:35.496Z"
   },
   {
    "duration": 12,
    "start_time": "2023-08-01T22:21:35.500Z"
   },
   {
    "duration": 8,
    "start_time": "2023-08-01T22:21:35.513Z"
   },
   {
    "duration": 16,
    "start_time": "2023-08-01T22:21:35.523Z"
   },
   {
    "duration": 787,
    "start_time": "2023-08-01T22:21:35.541Z"
   },
   {
    "duration": 0,
    "start_time": "2023-08-01T22:21:36.329Z"
   },
   {
    "duration": 1430,
    "start_time": "2023-08-01T22:21:45.921Z"
   },
   {
    "duration": 798,
    "start_time": "2023-08-01T22:21:47.353Z"
   },
   {
    "duration": 38,
    "start_time": "2023-08-01T22:21:48.153Z"
   },
   {
    "duration": 18,
    "start_time": "2023-08-01T22:21:48.193Z"
   },
   {
    "duration": 143,
    "start_time": "2023-08-01T22:21:48.213Z"
   },
   {
    "duration": 28,
    "start_time": "2023-08-01T22:21:48.360Z"
   },
   {
    "duration": 20,
    "start_time": "2023-08-01T22:21:48.390Z"
   },
   {
    "duration": 37,
    "start_time": "2023-08-01T22:21:48.411Z"
   },
   {
    "duration": 34,
    "start_time": "2023-08-01T22:21:48.450Z"
   },
   {
    "duration": 22,
    "start_time": "2023-08-01T22:21:48.486Z"
   },
   {
    "duration": 111,
    "start_time": "2023-08-01T22:21:48.510Z"
   },
   {
    "duration": 12,
    "start_time": "2023-08-01T22:21:48.622Z"
   },
   {
    "duration": 10,
    "start_time": "2023-08-01T22:21:48.636Z"
   },
   {
    "duration": 36,
    "start_time": "2023-08-01T22:21:48.648Z"
   },
   {
    "duration": 16,
    "start_time": "2023-08-01T22:21:48.686Z"
   },
   {
    "duration": 18,
    "start_time": "2023-08-01T22:21:48.704Z"
   },
   {
    "duration": 1206,
    "start_time": "2023-08-01T22:21:48.723Z"
   },
   {
    "duration": 1217,
    "start_time": "2023-08-01T22:21:49.931Z"
   },
   {
    "duration": 1100,
    "start_time": "2023-08-01T22:21:51.149Z"
   },
   {
    "duration": 575,
    "start_time": "2023-08-01T22:21:52.251Z"
   },
   {
    "duration": 1182,
    "start_time": "2023-08-01T22:21:52.828Z"
   },
   {
    "duration": 9,
    "start_time": "2023-08-01T22:21:54.013Z"
   },
   {
    "duration": 20,
    "start_time": "2023-08-01T22:21:54.023Z"
   },
   {
    "duration": 29,
    "start_time": "2023-08-01T22:21:54.059Z"
   },
   {
    "duration": 4,
    "start_time": "2023-08-01T22:21:54.090Z"
   },
   {
    "duration": 25,
    "start_time": "2023-08-01T22:21:54.096Z"
   },
   {
    "duration": 79,
    "start_time": "2023-08-01T22:21:54.123Z"
   },
   {
    "duration": 4,
    "start_time": "2023-08-01T22:21:54.204Z"
   },
   {
    "duration": 22,
    "start_time": "2023-08-01T22:21:54.210Z"
   },
   {
    "duration": 15,
    "start_time": "2023-08-01T22:21:54.234Z"
   },
   {
    "duration": 22,
    "start_time": "2023-08-01T22:21:54.250Z"
   },
   {
    "duration": 716,
    "start_time": "2023-08-01T22:21:54.274Z"
   },
   {
    "duration": 0,
    "start_time": "2023-08-01T22:21:54.992Z"
   },
   {
    "duration": 11,
    "start_time": "2023-08-01T22:22:35.774Z"
   },
   {
    "duration": 1542,
    "start_time": "2023-08-01T22:30:55.010Z"
   },
   {
    "duration": 823,
    "start_time": "2023-08-01T22:30:56.554Z"
   },
   {
    "duration": 26,
    "start_time": "2023-08-01T22:30:57.379Z"
   },
   {
    "duration": 46,
    "start_time": "2023-08-01T22:30:57.406Z"
   },
   {
    "duration": 141,
    "start_time": "2023-08-01T22:30:57.454Z"
   },
   {
    "duration": 21,
    "start_time": "2023-08-01T22:30:57.596Z"
   },
   {
    "duration": 15,
    "start_time": "2023-08-01T22:30:57.619Z"
   },
   {
    "duration": 48,
    "start_time": "2023-08-01T22:30:57.636Z"
   },
   {
    "duration": 22,
    "start_time": "2023-08-01T22:30:57.685Z"
   },
   {
    "duration": 22,
    "start_time": "2023-08-01T22:30:57.708Z"
   },
   {
    "duration": 134,
    "start_time": "2023-08-01T22:30:57.732Z"
   },
   {
    "duration": 14,
    "start_time": "2023-08-01T22:30:57.871Z"
   },
   {
    "duration": 3,
    "start_time": "2023-08-01T22:30:57.887Z"
   },
   {
    "duration": 23,
    "start_time": "2023-08-01T22:30:57.894Z"
   },
   {
    "duration": 4,
    "start_time": "2023-08-01T22:30:57.919Z"
   },
   {
    "duration": 8,
    "start_time": "2023-08-01T22:30:57.924Z"
   },
   {
    "duration": 1317,
    "start_time": "2023-08-01T22:30:57.933Z"
   },
   {
    "duration": 1272,
    "start_time": "2023-08-01T22:30:59.252Z"
   },
   {
    "duration": 1113,
    "start_time": "2023-08-01T22:31:00.527Z"
   },
   {
    "duration": 587,
    "start_time": "2023-08-01T22:31:01.641Z"
   },
   {
    "duration": 1160,
    "start_time": "2023-08-01T22:31:02.231Z"
   },
   {
    "duration": 7,
    "start_time": "2023-08-01T22:31:03.393Z"
   },
   {
    "duration": 16,
    "start_time": "2023-08-01T22:31:03.402Z"
   },
   {
    "duration": 14,
    "start_time": "2023-08-01T22:31:03.420Z"
   },
   {
    "duration": 24,
    "start_time": "2023-08-01T22:31:03.436Z"
   },
   {
    "duration": 8,
    "start_time": "2023-08-01T22:31:03.468Z"
   },
   {
    "duration": 61,
    "start_time": "2023-08-01T22:31:03.478Z"
   },
   {
    "duration": 3,
    "start_time": "2023-08-01T22:31:03.541Z"
   },
   {
    "duration": 16,
    "start_time": "2023-08-01T22:31:03.545Z"
   },
   {
    "duration": 15,
    "start_time": "2023-08-01T22:31:03.563Z"
   },
   {
    "duration": 7,
    "start_time": "2023-08-01T22:31:03.580Z"
   },
   {
    "duration": 732,
    "start_time": "2023-08-01T22:31:03.588Z"
   },
   {
    "duration": 0,
    "start_time": "2023-08-01T22:31:04.322Z"
   },
   {
    "duration": 25,
    "start_time": "2023-08-01T22:34:35.277Z"
   },
   {
    "duration": 36,
    "start_time": "2023-08-01T22:34:50.252Z"
   },
   {
    "duration": 1537,
    "start_time": "2023-08-01T22:35:13.282Z"
   },
   {
    "duration": 805,
    "start_time": "2023-08-01T22:35:14.821Z"
   },
   {
    "duration": 36,
    "start_time": "2023-08-01T22:35:15.628Z"
   },
   {
    "duration": 22,
    "start_time": "2023-08-01T22:35:15.668Z"
   },
   {
    "duration": 133,
    "start_time": "2023-08-01T22:35:15.692Z"
   },
   {
    "duration": 18,
    "start_time": "2023-08-01T22:35:15.827Z"
   },
   {
    "duration": 21,
    "start_time": "2023-08-01T22:35:15.859Z"
   },
   {
    "duration": 19,
    "start_time": "2023-08-01T22:35:15.882Z"
   },
   {
    "duration": 23,
    "start_time": "2023-08-01T22:35:15.902Z"
   },
   {
    "duration": 47,
    "start_time": "2023-08-01T22:35:15.927Z"
   },
   {
    "duration": 111,
    "start_time": "2023-08-01T22:35:15.976Z"
   },
   {
    "duration": 13,
    "start_time": "2023-08-01T22:35:16.089Z"
   },
   {
    "duration": 3,
    "start_time": "2023-08-01T22:35:16.104Z"
   },
   {
    "duration": 9,
    "start_time": "2023-08-01T22:35:16.110Z"
   },
   {
    "duration": 4,
    "start_time": "2023-08-01T22:35:16.120Z"
   },
   {
    "duration": 37,
    "start_time": "2023-08-01T22:35:16.125Z"
   },
   {
    "duration": 1254,
    "start_time": "2023-08-01T22:35:16.165Z"
   },
   {
    "duration": 1187,
    "start_time": "2023-08-01T22:35:17.420Z"
   },
   {
    "duration": 1196,
    "start_time": "2023-08-01T22:35:18.609Z"
   },
   {
    "duration": 601,
    "start_time": "2023-08-01T22:35:19.807Z"
   },
   {
    "duration": 1201,
    "start_time": "2023-08-01T22:35:20.409Z"
   },
   {
    "duration": 7,
    "start_time": "2023-08-01T22:35:21.612Z"
   },
   {
    "duration": 21,
    "start_time": "2023-08-01T22:35:21.621Z"
   },
   {
    "duration": 33,
    "start_time": "2023-08-01T22:35:21.644Z"
   },
   {
    "duration": 3,
    "start_time": "2023-08-01T22:35:21.679Z"
   },
   {
    "duration": 16,
    "start_time": "2023-08-01T22:35:21.684Z"
   },
   {
    "duration": 146,
    "start_time": "2023-08-01T22:35:21.701Z"
   },
   {
    "duration": 32,
    "start_time": "2023-08-01T22:38:19.064Z"
   },
   {
    "duration": 27,
    "start_time": "2023-08-01T22:39:13.774Z"
   },
   {
    "duration": 29,
    "start_time": "2023-08-01T22:39:30.094Z"
   },
   {
    "duration": 18,
    "start_time": "2023-08-01T22:41:26.654Z"
   },
   {
    "duration": 53,
    "start_time": "2023-08-01T22:41:56.474Z"
   },
   {
    "duration": 9,
    "start_time": "2023-08-01T22:41:58.541Z"
   },
   {
    "duration": 3,
    "start_time": "2023-08-01T22:42:08.877Z"
   },
   {
    "duration": 39,
    "start_time": "2023-08-01T22:45:05.301Z"
   },
   {
    "duration": 166,
    "start_time": "2023-08-01T22:46:18.621Z"
   },
   {
    "duration": 23,
    "start_time": "2023-08-01T22:46:46.277Z"
   },
   {
    "duration": 6,
    "start_time": "2023-08-01T22:47:02.373Z"
   },
   {
    "duration": 4,
    "start_time": "2023-08-01T22:47:13.701Z"
   },
   {
    "duration": 12,
    "start_time": "2023-08-01T22:47:30.926Z"
   },
   {
    "duration": 12,
    "start_time": "2023-08-01T22:47:39.309Z"
   },
   {
    "duration": 396,
    "start_time": "2023-08-01T22:47:52.029Z"
   },
   {
    "duration": 1576,
    "start_time": "2023-08-01T22:53:53.658Z"
   },
   {
    "duration": 805,
    "start_time": "2023-08-01T22:53:55.236Z"
   },
   {
    "duration": 40,
    "start_time": "2023-08-01T22:53:56.043Z"
   },
   {
    "duration": 18,
    "start_time": "2023-08-01T22:53:56.085Z"
   },
   {
    "duration": 148,
    "start_time": "2023-08-01T22:53:56.106Z"
   },
   {
    "duration": 28,
    "start_time": "2023-08-01T22:53:56.260Z"
   },
   {
    "duration": 11,
    "start_time": "2023-08-01T22:53:56.290Z"
   },
   {
    "duration": 20,
    "start_time": "2023-08-01T22:53:56.303Z"
   },
   {
    "duration": 38,
    "start_time": "2023-08-01T22:53:56.325Z"
   },
   {
    "duration": 23,
    "start_time": "2023-08-01T22:53:56.366Z"
   },
   {
    "duration": 117,
    "start_time": "2023-08-01T22:53:56.391Z"
   },
   {
    "duration": 13,
    "start_time": "2023-08-01T22:53:56.509Z"
   },
   {
    "duration": 13,
    "start_time": "2023-08-01T22:53:56.524Z"
   },
   {
    "duration": 32,
    "start_time": "2023-08-01T22:53:56.540Z"
   },
   {
    "duration": 4,
    "start_time": "2023-08-01T22:53:56.574Z"
   },
   {
    "duration": 6,
    "start_time": "2023-08-01T22:53:56.580Z"
   },
   {
    "duration": 1255,
    "start_time": "2023-08-01T22:53:56.588Z"
   },
   {
    "duration": 1273,
    "start_time": "2023-08-01T22:53:57.845Z"
   },
   {
    "duration": 1115,
    "start_time": "2023-08-01T22:53:59.120Z"
   },
   {
    "duration": 682,
    "start_time": "2023-08-01T22:54:00.237Z"
   },
   {
    "duration": 1140,
    "start_time": "2023-08-01T22:54:00.922Z"
   },
   {
    "duration": 12,
    "start_time": "2023-08-01T22:54:02.066Z"
   },
   {
    "duration": 23,
    "start_time": "2023-08-01T22:54:02.080Z"
   },
   {
    "duration": 32,
    "start_time": "2023-08-01T22:54:02.105Z"
   },
   {
    "duration": 34,
    "start_time": "2023-08-01T22:54:02.139Z"
   },
   {
    "duration": 47,
    "start_time": "2023-08-01T22:54:02.175Z"
   },
   {
    "duration": 72,
    "start_time": "2023-08-01T22:54:02.224Z"
   },
   {
    "duration": 4,
    "start_time": "2023-08-01T22:54:02.298Z"
   },
   {
    "duration": 671,
    "start_time": "2023-08-01T22:54:02.303Z"
   },
   {
    "duration": 3,
    "start_time": "2023-08-01T22:55:08.988Z"
   },
   {
    "duration": 1503,
    "start_time": "2023-08-01T22:55:16.474Z"
   },
   {
    "duration": 786,
    "start_time": "2023-08-01T22:55:17.980Z"
   },
   {
    "duration": 30,
    "start_time": "2023-08-01T22:55:18.768Z"
   },
   {
    "duration": 16,
    "start_time": "2023-08-01T22:55:18.799Z"
   },
   {
    "duration": 141,
    "start_time": "2023-08-01T22:55:18.817Z"
   },
   {
    "duration": 28,
    "start_time": "2023-08-01T22:55:18.961Z"
   },
   {
    "duration": 14,
    "start_time": "2023-08-01T22:55:18.991Z"
   },
   {
    "duration": 21,
    "start_time": "2023-08-01T22:55:19.007Z"
   },
   {
    "duration": 57,
    "start_time": "2023-08-01T22:55:19.029Z"
   },
   {
    "duration": 16,
    "start_time": "2023-08-01T22:55:19.088Z"
   },
   {
    "duration": 116,
    "start_time": "2023-08-01T22:55:19.105Z"
   },
   {
    "duration": 12,
    "start_time": "2023-08-01T22:55:19.223Z"
   },
   {
    "duration": 3,
    "start_time": "2023-08-01T22:55:19.237Z"
   },
   {
    "duration": 29,
    "start_time": "2023-08-01T22:55:19.242Z"
   },
   {
    "duration": 8,
    "start_time": "2023-08-01T22:55:19.274Z"
   },
   {
    "duration": 11,
    "start_time": "2023-08-01T22:55:19.283Z"
   },
   {
    "duration": 1135,
    "start_time": "2023-08-01T22:55:19.295Z"
   },
   {
    "duration": 1170,
    "start_time": "2023-08-01T22:55:20.431Z"
   },
   {
    "duration": 1105,
    "start_time": "2023-08-01T22:55:21.602Z"
   },
   {
    "duration": 615,
    "start_time": "2023-08-01T22:55:22.709Z"
   },
   {
    "duration": 1190,
    "start_time": "2023-08-01T22:55:23.325Z"
   },
   {
    "duration": 9,
    "start_time": "2023-08-01T22:55:24.517Z"
   },
   {
    "duration": 28,
    "start_time": "2023-08-01T22:55:24.528Z"
   },
   {
    "duration": 22,
    "start_time": "2023-08-01T22:55:24.564Z"
   },
   {
    "duration": 6,
    "start_time": "2023-08-01T22:55:24.588Z"
   },
   {
    "duration": 14,
    "start_time": "2023-08-01T22:55:24.595Z"
   },
   {
    "duration": 37,
    "start_time": "2023-08-01T22:55:24.611Z"
   },
   {
    "duration": 3,
    "start_time": "2023-08-01T22:55:24.649Z"
   },
   {
    "duration": 269,
    "start_time": "2023-08-01T22:55:24.653Z"
   },
   {
    "duration": 17,
    "start_time": "2023-08-01T22:57:03.235Z"
   },
   {
    "duration": 19,
    "start_time": "2023-08-01T22:57:33.037Z"
   },
   {
    "duration": 1478,
    "start_time": "2023-08-01T22:57:46.909Z"
   },
   {
    "duration": 747,
    "start_time": "2023-08-01T22:57:48.389Z"
   },
   {
    "duration": 34,
    "start_time": "2023-08-01T22:57:49.137Z"
   },
   {
    "duration": 18,
    "start_time": "2023-08-01T22:57:49.173Z"
   },
   {
    "duration": 139,
    "start_time": "2023-08-01T22:57:49.192Z"
   },
   {
    "duration": 19,
    "start_time": "2023-08-01T22:57:49.333Z"
   },
   {
    "duration": 12,
    "start_time": "2023-08-01T22:57:49.359Z"
   },
   {
    "duration": 20,
    "start_time": "2023-08-01T22:57:49.373Z"
   },
   {
    "duration": 34,
    "start_time": "2023-08-01T22:57:49.394Z"
   },
   {
    "duration": 50,
    "start_time": "2023-08-01T22:57:49.430Z"
   },
   {
    "duration": 110,
    "start_time": "2023-08-01T22:57:49.481Z"
   },
   {
    "duration": 12,
    "start_time": "2023-08-01T22:57:49.592Z"
   },
   {
    "duration": 3,
    "start_time": "2023-08-01T22:57:49.606Z"
   },
   {
    "duration": 9,
    "start_time": "2023-08-01T22:57:49.611Z"
   },
   {
    "duration": 4,
    "start_time": "2023-08-01T22:57:49.621Z"
   },
   {
    "duration": 6,
    "start_time": "2023-08-01T22:57:49.627Z"
   },
   {
    "duration": 1065,
    "start_time": "2023-08-01T22:57:49.669Z"
   },
   {
    "duration": 1180,
    "start_time": "2023-08-01T22:57:50.735Z"
   },
   {
    "duration": 1081,
    "start_time": "2023-08-01T22:57:51.917Z"
   },
   {
    "duration": 583,
    "start_time": "2023-08-01T22:57:52.999Z"
   },
   {
    "duration": 1215,
    "start_time": "2023-08-01T22:57:53.583Z"
   },
   {
    "duration": 8,
    "start_time": "2023-08-01T22:57:54.800Z"
   },
   {
    "duration": 20,
    "start_time": "2023-08-01T22:57:54.810Z"
   },
   {
    "duration": 27,
    "start_time": "2023-08-01T22:57:54.832Z"
   },
   {
    "duration": 4,
    "start_time": "2023-08-01T22:57:54.870Z"
   },
   {
    "duration": 14,
    "start_time": "2023-08-01T22:57:54.875Z"
   },
   {
    "duration": 33,
    "start_time": "2023-08-01T22:57:54.891Z"
   },
   {
    "duration": 3,
    "start_time": "2023-08-01T22:57:54.926Z"
   },
   {
    "duration": 138,
    "start_time": "2023-08-01T22:57:54.930Z"
   },
   {
    "duration": 1514,
    "start_time": "2023-08-01T23:02:07.636Z"
   },
   {
    "duration": 796,
    "start_time": "2023-08-01T23:02:09.152Z"
   },
   {
    "duration": 36,
    "start_time": "2023-08-01T23:02:09.950Z"
   },
   {
    "duration": 19,
    "start_time": "2023-08-01T23:02:09.989Z"
   },
   {
    "duration": 144,
    "start_time": "2023-08-01T23:02:10.010Z"
   },
   {
    "duration": 36,
    "start_time": "2023-08-01T23:02:10.156Z"
   },
   {
    "duration": 16,
    "start_time": "2023-08-01T23:02:10.194Z"
   },
   {
    "duration": 19,
    "start_time": "2023-08-01T23:02:10.211Z"
   },
   {
    "duration": 45,
    "start_time": "2023-08-01T23:02:10.232Z"
   },
   {
    "duration": 18,
    "start_time": "2023-08-01T23:02:10.279Z"
   },
   {
    "duration": 108,
    "start_time": "2023-08-01T23:02:10.298Z"
   },
   {
    "duration": 13,
    "start_time": "2023-08-01T23:02:10.407Z"
   },
   {
    "duration": 27,
    "start_time": "2023-08-01T23:02:10.422Z"
   },
   {
    "duration": 26,
    "start_time": "2023-08-01T23:02:10.450Z"
   },
   {
    "duration": 13,
    "start_time": "2023-08-01T23:02:10.478Z"
   },
   {
    "duration": 15,
    "start_time": "2023-08-01T23:02:10.493Z"
   },
   {
    "duration": 1205,
    "start_time": "2023-08-01T23:02:10.510Z"
   },
   {
    "duration": 1294,
    "start_time": "2023-08-01T23:02:11.716Z"
   },
   {
    "duration": 1126,
    "start_time": "2023-08-01T23:02:13.012Z"
   },
   {
    "duration": 576,
    "start_time": "2023-08-01T23:02:14.140Z"
   },
   {
    "duration": 1175,
    "start_time": "2023-08-01T23:02:14.718Z"
   },
   {
    "duration": 8,
    "start_time": "2023-08-01T23:02:15.895Z"
   },
   {
    "duration": 36,
    "start_time": "2023-08-01T23:02:15.905Z"
   },
   {
    "duration": 20,
    "start_time": "2023-08-01T23:02:15.943Z"
   },
   {
    "duration": 6,
    "start_time": "2023-08-01T23:02:15.965Z"
   },
   {
    "duration": 12,
    "start_time": "2023-08-01T23:02:15.973Z"
   },
   {
    "duration": 6,
    "start_time": "2023-08-01T23:02:15.986Z"
   },
   {
    "duration": 17,
    "start_time": "2023-08-01T23:02:15.995Z"
   },
   {
    "duration": 125,
    "start_time": "2023-08-01T23:02:16.014Z"
   },
   {
    "duration": 8,
    "start_time": "2023-08-01T23:03:42.547Z"
   },
   {
    "duration": 10,
    "start_time": "2023-08-01T23:04:05.220Z"
   },
   {
    "duration": 3,
    "start_time": "2023-08-01T23:04:13.274Z"
   },
   {
    "duration": 14,
    "start_time": "2023-08-01T23:05:22.259Z"
   },
   {
    "duration": 5,
    "start_time": "2023-08-01T23:05:45.470Z"
   },
   {
    "duration": 4,
    "start_time": "2023-08-01T23:08:16.596Z"
   },
   {
    "duration": 190911,
    "start_time": "2023-08-01T23:09:41.277Z"
   },
   {
    "duration": 1535,
    "start_time": "2023-08-01T23:13:04.160Z"
   },
   {
    "duration": 812,
    "start_time": "2023-08-01T23:13:05.697Z"
   },
   {
    "duration": 26,
    "start_time": "2023-08-01T23:13:06.511Z"
   },
   {
    "duration": 50,
    "start_time": "2023-08-01T23:13:06.538Z"
   },
   {
    "duration": 141,
    "start_time": "2023-08-01T23:13:06.590Z"
   },
   {
    "duration": 20,
    "start_time": "2023-08-01T23:13:06.733Z"
   },
   {
    "duration": 23,
    "start_time": "2023-08-01T23:13:06.760Z"
   },
   {
    "duration": 18,
    "start_time": "2023-08-01T23:13:06.785Z"
   },
   {
    "duration": 20,
    "start_time": "2023-08-01T23:13:06.805Z"
   },
   {
    "duration": 46,
    "start_time": "2023-08-01T23:13:06.827Z"
   },
   {
    "duration": 108,
    "start_time": "2023-08-01T23:13:06.875Z"
   },
   {
    "duration": 13,
    "start_time": "2023-08-01T23:13:06.985Z"
   },
   {
    "duration": 3,
    "start_time": "2023-08-01T23:13:07.000Z"
   },
   {
    "duration": 10,
    "start_time": "2023-08-01T23:13:07.004Z"
   },
   {
    "duration": 4,
    "start_time": "2023-08-01T23:13:07.016Z"
   },
   {
    "duration": 8,
    "start_time": "2023-08-01T23:13:07.021Z"
   },
   {
    "duration": 1302,
    "start_time": "2023-08-01T23:13:07.030Z"
   },
   {
    "duration": 1172,
    "start_time": "2023-08-01T23:13:08.333Z"
   },
   {
    "duration": 1212,
    "start_time": "2023-08-01T23:13:09.506Z"
   },
   {
    "duration": 584,
    "start_time": "2023-08-01T23:13:10.719Z"
   },
   {
    "duration": 1196,
    "start_time": "2023-08-01T23:13:11.305Z"
   },
   {
    "duration": 6,
    "start_time": "2023-08-01T23:13:12.503Z"
   },
   {
    "duration": 25,
    "start_time": "2023-08-01T23:13:12.510Z"
   },
   {
    "duration": 25,
    "start_time": "2023-08-01T23:13:12.536Z"
   },
   {
    "duration": 6,
    "start_time": "2023-08-01T23:13:12.566Z"
   },
   {
    "duration": 5,
    "start_time": "2023-08-01T23:13:12.576Z"
   },
   {
    "duration": 5,
    "start_time": "2023-08-01T23:13:12.582Z"
   },
   {
    "duration": 11,
    "start_time": "2023-08-01T23:13:12.589Z"
   },
   {
    "duration": 13,
    "start_time": "2023-08-01T23:13:12.601Z"
   },
   {
    "duration": 7,
    "start_time": "2023-08-01T23:13:12.616Z"
   },
   {
    "duration": 6,
    "start_time": "2023-08-01T23:13:12.625Z"
   },
   {
    "duration": 4,
    "start_time": "2023-08-01T23:13:12.632Z"
   },
   {
    "duration": 5,
    "start_time": "2023-08-01T23:13:12.637Z"
   },
   {
    "duration": 134316,
    "start_time": "2023-08-01T23:13:12.643Z"
   },
   {
    "duration": 99,
    "start_time": "2023-08-01T23:15:26.963Z"
   },
   {
    "duration": 128,
    "start_time": "2023-08-01T23:15:27.063Z"
   },
   {
    "duration": 5,
    "start_time": "2023-08-01T23:15:56.859Z"
   },
   {
    "duration": 19,
    "start_time": "2023-08-01T23:20:32.012Z"
   },
   {
    "duration": 21,
    "start_time": "2023-08-01T23:21:51.824Z"
   },
   {
    "duration": 14,
    "start_time": "2023-08-01T23:22:17.840Z"
   },
   {
    "duration": 1399,
    "start_time": "2023-08-01T23:46:51.483Z"
   },
   {
    "duration": 746,
    "start_time": "2023-08-01T23:46:52.884Z"
   },
   {
    "duration": 30,
    "start_time": "2023-08-01T23:46:53.632Z"
   },
   {
    "duration": 15,
    "start_time": "2023-08-01T23:46:53.664Z"
   },
   {
    "duration": 125,
    "start_time": "2023-08-01T23:46:53.682Z"
   },
   {
    "duration": 19,
    "start_time": "2023-08-01T23:46:53.808Z"
   },
   {
    "duration": 31,
    "start_time": "2023-08-01T23:46:53.828Z"
   },
   {
    "duration": 20,
    "start_time": "2023-08-01T23:46:53.860Z"
   },
   {
    "duration": 20,
    "start_time": "2023-08-01T23:46:53.881Z"
   },
   {
    "duration": 20,
    "start_time": "2023-08-01T23:46:53.903Z"
   },
   {
    "duration": 134,
    "start_time": "2023-08-01T23:46:53.925Z"
   },
   {
    "duration": 15,
    "start_time": "2023-08-01T23:46:54.061Z"
   },
   {
    "duration": 3,
    "start_time": "2023-08-01T23:46:54.079Z"
   },
   {
    "duration": 13,
    "start_time": "2023-08-01T23:46:54.086Z"
   },
   {
    "duration": 4,
    "start_time": "2023-08-01T23:46:54.101Z"
   },
   {
    "duration": 22,
    "start_time": "2023-08-01T23:46:54.108Z"
   },
   {
    "duration": 1155,
    "start_time": "2023-08-01T23:46:54.133Z"
   },
   {
    "duration": 1181,
    "start_time": "2023-08-01T23:46:55.291Z"
   },
   {
    "duration": 1120,
    "start_time": "2023-08-01T23:46:56.474Z"
   },
   {
    "duration": 582,
    "start_time": "2023-08-01T23:46:57.595Z"
   },
   {
    "duration": 1188,
    "start_time": "2023-08-01T23:46:58.179Z"
   },
   {
    "duration": 8,
    "start_time": "2023-08-01T23:46:59.368Z"
   },
   {
    "duration": 19,
    "start_time": "2023-08-01T23:46:59.378Z"
   },
   {
    "duration": 16,
    "start_time": "2023-08-01T23:46:59.399Z"
   },
   {
    "duration": 3,
    "start_time": "2023-08-01T23:46:59.416Z"
   },
   {
    "duration": 9,
    "start_time": "2023-08-01T23:46:59.421Z"
   },
   {
    "duration": 7,
    "start_time": "2023-08-01T23:46:59.432Z"
   },
   {
    "duration": 29,
    "start_time": "2023-08-01T23:46:59.441Z"
   },
   {
    "duration": 14,
    "start_time": "2023-08-01T23:46:59.472Z"
   },
   {
    "duration": 5,
    "start_time": "2023-08-01T23:46:59.488Z"
   },
   {
    "duration": 4,
    "start_time": "2023-08-01T23:46:59.494Z"
   },
   {
    "duration": 5,
    "start_time": "2023-08-01T23:46:59.500Z"
   },
   {
    "duration": 7,
    "start_time": "2023-08-01T23:46:59.506Z"
   },
   {
    "duration": 125955,
    "start_time": "2023-08-01T23:46:59.514Z"
   },
   {
    "duration": 98,
    "start_time": "2023-08-01T23:49:05.470Z"
   },
   {
    "duration": 5,
    "start_time": "2023-08-01T23:49:05.659Z"
   },
   {
    "duration": 139,
    "start_time": "2023-08-01T23:49:05.666Z"
   },
   {
    "duration": 25,
    "start_time": "2023-08-01T23:51:11.151Z"
   },
   {
    "duration": 27,
    "start_time": "2023-08-01T23:51:32.960Z"
   },
   {
    "duration": 22,
    "start_time": "2023-08-01T23:51:45.143Z"
   },
   {
    "duration": 24,
    "start_time": "2023-08-01T23:52:02.636Z"
   },
   {
    "duration": 27,
    "start_time": "2023-08-01T23:53:19.868Z"
   },
   {
    "duration": 140,
    "start_time": "2023-08-01T23:57:48.749Z"
   },
   {
    "duration": 50,
    "start_time": "2023-08-01T23:58:54.029Z"
   },
   {
    "duration": 37,
    "start_time": "2023-08-01T23:59:23.339Z"
   },
   {
    "duration": 18,
    "start_time": "2023-08-01T23:59:49.216Z"
   },
   {
    "duration": 4,
    "start_time": "2023-08-02T00:00:00.126Z"
   },
   {
    "duration": 782,
    "start_time": "2023-08-02T00:00:00.132Z"
   },
   {
    "duration": 21,
    "start_time": "2023-08-02T00:00:00.916Z"
   },
   {
    "duration": 78,
    "start_time": "2023-08-02T00:00:00.938Z"
   },
   {
    "duration": 140,
    "start_time": "2023-08-02T00:00:01.018Z"
   },
   {
    "duration": 22,
    "start_time": "2023-08-02T00:00:01.159Z"
   },
   {
    "duration": 93,
    "start_time": "2023-08-02T00:00:01.182Z"
   },
   {
    "duration": 82,
    "start_time": "2023-08-02T00:00:01.277Z"
   },
   {
    "duration": 53,
    "start_time": "2023-08-02T00:00:01.360Z"
   },
   {
    "duration": 173,
    "start_time": "2023-08-02T00:00:01.414Z"
   },
   {
    "duration": 251,
    "start_time": "2023-08-02T00:00:01.589Z"
   },
   {
    "duration": 21,
    "start_time": "2023-08-02T00:00:01.842Z"
   },
   {
    "duration": 77,
    "start_time": "2023-08-02T00:00:01.865Z"
   },
   {
    "duration": 64,
    "start_time": "2023-08-02T00:00:01.945Z"
   },
   {
    "duration": 67,
    "start_time": "2023-08-02T00:00:02.011Z"
   },
   {
    "duration": 178,
    "start_time": "2023-08-02T00:00:02.080Z"
   },
   {
    "duration": 1238,
    "start_time": "2023-08-02T00:00:02.259Z"
   },
   {
    "duration": 1070,
    "start_time": "2023-08-02T00:00:03.498Z"
   },
   {
    "duration": 1118,
    "start_time": "2023-08-02T00:00:04.570Z"
   },
   {
    "duration": 726,
    "start_time": "2023-08-02T00:00:05.690Z"
   },
   {
    "duration": 1065,
    "start_time": "2023-08-02T00:00:06.418Z"
   },
   {
    "duration": 7,
    "start_time": "2023-08-02T00:00:07.485Z"
   },
   {
    "duration": 43,
    "start_time": "2023-08-02T00:00:07.493Z"
   },
   {
    "duration": 60,
    "start_time": "2023-08-02T00:00:07.538Z"
   },
   {
    "duration": 18,
    "start_time": "2023-08-02T00:00:07.600Z"
   },
   {
    "duration": 28,
    "start_time": "2023-08-02T00:00:07.619Z"
   },
   {
    "duration": 39,
    "start_time": "2023-08-02T00:00:07.649Z"
   },
   {
    "duration": 32,
    "start_time": "2023-08-02T00:00:07.690Z"
   },
   {
    "duration": 13,
    "start_time": "2023-08-02T00:00:07.724Z"
   },
   {
    "duration": 8,
    "start_time": "2023-08-02T00:00:07.738Z"
   },
   {
    "duration": 28,
    "start_time": "2023-08-02T00:00:07.748Z"
   },
   {
    "duration": 6,
    "start_time": "2023-08-02T00:00:07.778Z"
   },
   {
    "duration": 14,
    "start_time": "2023-08-02T00:00:07.785Z"
   },
   {
    "duration": 128662,
    "start_time": "2023-08-02T00:00:07.801Z"
   },
   {
    "duration": 96,
    "start_time": "2023-08-02T00:02:16.465Z"
   },
   {
    "duration": 10,
    "start_time": "2023-08-02T00:02:16.562Z"
   },
   {
    "duration": 38,
    "start_time": "2023-08-02T00:02:16.574Z"
   },
   {
    "duration": 21,
    "start_time": "2023-08-02T00:06:15.973Z"
   },
   {
    "duration": 145,
    "start_time": "2023-08-02T00:10:04.050Z"
   },
   {
    "duration": 22,
    "start_time": "2023-08-02T00:11:54.246Z"
   },
   {
    "duration": 1354,
    "start_time": "2023-08-02T00:12:20.918Z"
   },
   {
    "duration": 747,
    "start_time": "2023-08-02T00:12:22.274Z"
   },
   {
    "duration": 38,
    "start_time": "2023-08-02T00:12:23.023Z"
   },
   {
    "duration": 17,
    "start_time": "2023-08-02T00:12:23.063Z"
   },
   {
    "duration": 140,
    "start_time": "2023-08-02T00:12:23.082Z"
   },
   {
    "duration": 20,
    "start_time": "2023-08-02T00:12:23.224Z"
   },
   {
    "duration": 25,
    "start_time": "2023-08-02T00:12:23.258Z"
   },
   {
    "duration": 19,
    "start_time": "2023-08-02T00:12:23.285Z"
   },
   {
    "duration": 21,
    "start_time": "2023-08-02T00:12:23.306Z"
   },
   {
    "duration": 58,
    "start_time": "2023-08-02T00:12:23.329Z"
   },
   {
    "duration": 101,
    "start_time": "2023-08-02T00:12:23.389Z"
   },
   {
    "duration": 13,
    "start_time": "2023-08-02T00:12:23.491Z"
   },
   {
    "duration": 5,
    "start_time": "2023-08-02T00:12:23.506Z"
   },
   {
    "duration": 42,
    "start_time": "2023-08-02T00:12:23.514Z"
   },
   {
    "duration": 19,
    "start_time": "2023-08-02T00:12:23.558Z"
   },
   {
    "duration": 12,
    "start_time": "2023-08-02T00:12:23.579Z"
   },
   {
    "duration": 1103,
    "start_time": "2023-08-02T00:12:23.593Z"
   },
   {
    "duration": 1178,
    "start_time": "2023-08-02T00:12:24.698Z"
   },
   {
    "duration": 1131,
    "start_time": "2023-08-02T00:12:25.878Z"
   },
   {
    "duration": 565,
    "start_time": "2023-08-02T00:12:27.011Z"
   },
   {
    "duration": 1101,
    "start_time": "2023-08-02T00:12:27.577Z"
   },
   {
    "duration": 8,
    "start_time": "2023-08-02T00:12:28.680Z"
   },
   {
    "duration": 22,
    "start_time": "2023-08-02T00:12:28.689Z"
   },
   {
    "duration": 32,
    "start_time": "2023-08-02T00:12:28.713Z"
   },
   {
    "duration": 6,
    "start_time": "2023-08-02T00:12:28.746Z"
   },
   {
    "duration": 15,
    "start_time": "2023-08-02T00:12:28.753Z"
   },
   {
    "duration": 8,
    "start_time": "2023-08-02T00:12:28.770Z"
   },
   {
    "duration": 27,
    "start_time": "2023-08-02T00:12:28.779Z"
   },
   {
    "duration": 10,
    "start_time": "2023-08-02T00:12:28.808Z"
   },
   {
    "duration": 11,
    "start_time": "2023-08-02T00:12:28.819Z"
   },
   {
    "duration": 14,
    "start_time": "2023-08-02T00:12:28.832Z"
   },
   {
    "duration": 17,
    "start_time": "2023-08-02T00:12:28.848Z"
   },
   {
    "duration": 8,
    "start_time": "2023-08-02T00:12:28.867Z"
   },
   {
    "duration": 127884,
    "start_time": "2023-08-02T00:12:28.876Z"
   },
   {
    "duration": 97,
    "start_time": "2023-08-02T00:14:36.762Z"
   },
   {
    "duration": 4,
    "start_time": "2023-08-02T00:14:36.861Z"
   },
   {
    "duration": 122,
    "start_time": "2023-08-02T00:14:36.867Z"
   },
   {
    "duration": 21,
    "start_time": "2023-08-02T00:17:41.841Z"
   },
   {
    "duration": 22,
    "start_time": "2023-08-02T00:18:57.343Z"
   },
   {
    "duration": 41,
    "start_time": "2023-08-02T00:20:37.754Z"
   },
   {
    "duration": 1394,
    "start_time": "2023-08-02T00:25:07.897Z"
   },
   {
    "duration": 738,
    "start_time": "2023-08-02T00:25:09.294Z"
   },
   {
    "duration": 33,
    "start_time": "2023-08-02T00:25:10.034Z"
   },
   {
    "duration": 16,
    "start_time": "2023-08-02T00:25:10.069Z"
   },
   {
    "duration": 128,
    "start_time": "2023-08-02T00:25:10.087Z"
   },
   {
    "duration": 20,
    "start_time": "2023-08-02T00:25:10.217Z"
   },
   {
    "duration": 25,
    "start_time": "2023-08-02T00:25:10.238Z"
   },
   {
    "duration": 18,
    "start_time": "2023-08-02T00:25:10.265Z"
   },
   {
    "duration": 18,
    "start_time": "2023-08-02T00:25:10.284Z"
   },
   {
    "duration": 19,
    "start_time": "2023-08-02T00:25:10.304Z"
   },
   {
    "duration": 114,
    "start_time": "2023-08-02T00:25:10.325Z"
   },
   {
    "duration": 20,
    "start_time": "2023-08-02T00:25:10.440Z"
   },
   {
    "duration": 2,
    "start_time": "2023-08-02T00:25:10.462Z"
   },
   {
    "duration": 10,
    "start_time": "2023-08-02T00:25:10.467Z"
   },
   {
    "duration": 7,
    "start_time": "2023-08-02T00:25:10.478Z"
   },
   {
    "duration": 6,
    "start_time": "2023-08-02T00:25:10.487Z"
   },
   {
    "duration": 124,
    "start_time": "2023-08-02T00:25:10.495Z"
   },
   {
    "duration": 0,
    "start_time": "2023-08-02T00:25:10.620Z"
   },
   {
    "duration": 0,
    "start_time": "2023-08-02T00:25:10.622Z"
   },
   {
    "duration": 0,
    "start_time": "2023-08-02T00:25:10.622Z"
   },
   {
    "duration": 0,
    "start_time": "2023-08-02T00:25:10.624Z"
   },
   {
    "duration": 0,
    "start_time": "2023-08-02T00:25:10.624Z"
   },
   {
    "duration": 0,
    "start_time": "2023-08-02T00:25:10.625Z"
   },
   {
    "duration": 0,
    "start_time": "2023-08-02T00:25:10.626Z"
   },
   {
    "duration": 0,
    "start_time": "2023-08-02T00:25:10.627Z"
   },
   {
    "duration": 0,
    "start_time": "2023-08-02T00:25:10.628Z"
   },
   {
    "duration": 0,
    "start_time": "2023-08-02T00:25:10.629Z"
   },
   {
    "duration": 0,
    "start_time": "2023-08-02T00:25:10.630Z"
   },
   {
    "duration": 0,
    "start_time": "2023-08-02T00:25:10.631Z"
   },
   {
    "duration": 0,
    "start_time": "2023-08-02T00:25:10.631Z"
   },
   {
    "duration": 0,
    "start_time": "2023-08-02T00:25:10.659Z"
   },
   {
    "duration": 0,
    "start_time": "2023-08-02T00:25:10.660Z"
   },
   {
    "duration": 0,
    "start_time": "2023-08-02T00:25:10.661Z"
   },
   {
    "duration": 0,
    "start_time": "2023-08-02T00:25:10.662Z"
   },
   {
    "duration": 0,
    "start_time": "2023-08-02T00:25:10.663Z"
   },
   {
    "duration": 0,
    "start_time": "2023-08-02T00:25:10.664Z"
   },
   {
    "duration": 0,
    "start_time": "2023-08-02T00:25:10.665Z"
   },
   {
    "duration": 0,
    "start_time": "2023-08-02T00:25:10.666Z"
   },
   {
    "duration": 1398,
    "start_time": "2023-08-02T00:26:18.766Z"
   },
   {
    "duration": 723,
    "start_time": "2023-08-02T00:26:20.166Z"
   },
   {
    "duration": 24,
    "start_time": "2023-08-02T00:26:20.891Z"
   },
   {
    "duration": 17,
    "start_time": "2023-08-02T00:26:20.917Z"
   },
   {
    "duration": 138,
    "start_time": "2023-08-02T00:26:20.935Z"
   },
   {
    "duration": 20,
    "start_time": "2023-08-02T00:26:21.074Z"
   },
   {
    "duration": 31,
    "start_time": "2023-08-02T00:26:21.096Z"
   },
   {
    "duration": 19,
    "start_time": "2023-08-02T00:26:21.129Z"
   },
   {
    "duration": 28,
    "start_time": "2023-08-02T00:26:21.149Z"
   },
   {
    "duration": 16,
    "start_time": "2023-08-02T00:26:21.179Z"
   },
   {
    "duration": 103,
    "start_time": "2023-08-02T00:26:21.196Z"
   },
   {
    "duration": 121,
    "start_time": "2023-08-02T00:26:21.300Z"
   },
   {
    "duration": 0,
    "start_time": "2023-08-02T00:26:21.422Z"
   },
   {
    "duration": 0,
    "start_time": "2023-08-02T00:26:21.423Z"
   },
   {
    "duration": 0,
    "start_time": "2023-08-02T00:26:21.424Z"
   },
   {
    "duration": 0,
    "start_time": "2023-08-02T00:26:21.426Z"
   },
   {
    "duration": 0,
    "start_time": "2023-08-02T00:26:21.426Z"
   },
   {
    "duration": 0,
    "start_time": "2023-08-02T00:26:21.427Z"
   },
   {
    "duration": 0,
    "start_time": "2023-08-02T00:26:21.429Z"
   },
   {
    "duration": 0,
    "start_time": "2023-08-02T00:26:21.430Z"
   },
   {
    "duration": 0,
    "start_time": "2023-08-02T00:26:21.431Z"
   },
   {
    "duration": 0,
    "start_time": "2023-08-02T00:26:21.432Z"
   },
   {
    "duration": 0,
    "start_time": "2023-08-02T00:26:21.433Z"
   },
   {
    "duration": 0,
    "start_time": "2023-08-02T00:26:21.434Z"
   },
   {
    "duration": 0,
    "start_time": "2023-08-02T00:26:21.435Z"
   },
   {
    "duration": 0,
    "start_time": "2023-08-02T00:26:21.458Z"
   },
   {
    "duration": 0,
    "start_time": "2023-08-02T00:26:21.460Z"
   },
   {
    "duration": 0,
    "start_time": "2023-08-02T00:26:21.461Z"
   },
   {
    "duration": 0,
    "start_time": "2023-08-02T00:26:21.462Z"
   },
   {
    "duration": 0,
    "start_time": "2023-08-02T00:26:21.464Z"
   },
   {
    "duration": 0,
    "start_time": "2023-08-02T00:26:21.465Z"
   },
   {
    "duration": 0,
    "start_time": "2023-08-02T00:26:21.466Z"
   },
   {
    "duration": 0,
    "start_time": "2023-08-02T00:26:21.468Z"
   },
   {
    "duration": 0,
    "start_time": "2023-08-02T00:26:21.469Z"
   },
   {
    "duration": 0,
    "start_time": "2023-08-02T00:26:21.470Z"
   },
   {
    "duration": 0,
    "start_time": "2023-08-02T00:26:21.472Z"
   },
   {
    "duration": 0,
    "start_time": "2023-08-02T00:26:21.473Z"
   },
   {
    "duration": 0,
    "start_time": "2023-08-02T00:26:21.474Z"
   },
   {
    "duration": 0,
    "start_time": "2023-08-02T00:26:21.476Z"
   },
   {
    "duration": 1442,
    "start_time": "2023-08-02T00:29:05.358Z"
   },
   {
    "duration": 757,
    "start_time": "2023-08-02T00:29:06.802Z"
   },
   {
    "duration": 23,
    "start_time": "2023-08-02T00:29:07.563Z"
   },
   {
    "duration": 22,
    "start_time": "2023-08-02T00:29:07.588Z"
   },
   {
    "duration": 133,
    "start_time": "2023-08-02T00:29:07.612Z"
   },
   {
    "duration": 25,
    "start_time": "2023-08-02T00:29:07.747Z"
   },
   {
    "duration": 13,
    "start_time": "2023-08-02T00:29:07.773Z"
   },
   {
    "duration": 19,
    "start_time": "2023-08-02T00:29:07.788Z"
   },
   {
    "duration": 21,
    "start_time": "2023-08-02T00:29:07.808Z"
   },
   {
    "duration": 45,
    "start_time": "2023-08-02T00:29:07.830Z"
   },
   {
    "duration": 102,
    "start_time": "2023-08-02T00:29:07.876Z"
   },
   {
    "duration": 12,
    "start_time": "2023-08-02T00:29:07.980Z"
   },
   {
    "duration": 3,
    "start_time": "2023-08-02T00:29:07.995Z"
   },
   {
    "duration": 13,
    "start_time": "2023-08-02T00:29:07.999Z"
   },
   {
    "duration": 4,
    "start_time": "2023-08-02T00:29:08.014Z"
   },
   {
    "duration": 7,
    "start_time": "2023-08-02T00:29:08.019Z"
   },
   {
    "duration": 1073,
    "start_time": "2023-08-02T00:29:08.028Z"
   },
   {
    "duration": 1186,
    "start_time": "2023-08-02T00:29:09.102Z"
   },
   {
    "duration": 1107,
    "start_time": "2023-08-02T00:29:10.289Z"
   },
   {
    "duration": 565,
    "start_time": "2023-08-02T00:29:11.398Z"
   },
   {
    "duration": 1202,
    "start_time": "2023-08-02T00:29:11.965Z"
   },
   {
    "duration": 8,
    "start_time": "2023-08-02T00:29:13.168Z"
   },
   {
    "duration": 57,
    "start_time": "2023-08-02T00:29:13.177Z"
   },
   {
    "duration": 58,
    "start_time": "2023-08-02T00:29:13.235Z"
   },
   {
    "duration": 5,
    "start_time": "2023-08-02T00:29:13.294Z"
   },
   {
    "duration": 12,
    "start_time": "2023-08-02T00:29:13.300Z"
   },
   {
    "duration": 6,
    "start_time": "2023-08-02T00:29:13.314Z"
   },
   {
    "duration": 12,
    "start_time": "2023-08-02T00:29:13.321Z"
   },
   {
    "duration": 10,
    "start_time": "2023-08-02T00:29:13.334Z"
   },
   {
    "duration": 12,
    "start_time": "2023-08-02T00:29:13.345Z"
   },
   {
    "duration": 19,
    "start_time": "2023-08-02T00:29:13.358Z"
   },
   {
    "duration": 9,
    "start_time": "2023-08-02T00:29:13.378Z"
   },
   {
    "duration": 10,
    "start_time": "2023-08-02T00:29:13.388Z"
   },
   {
    "duration": 126261,
    "start_time": "2023-08-02T00:29:13.399Z"
   },
   {
    "duration": 97,
    "start_time": "2023-08-02T00:31:19.662Z"
   },
   {
    "duration": 5,
    "start_time": "2023-08-02T00:31:19.761Z"
   },
   {
    "duration": 118,
    "start_time": "2023-08-02T00:31:19.767Z"
   },
   {
    "duration": 17,
    "start_time": "2023-08-02T00:31:40.861Z"
   },
   {
    "duration": 13,
    "start_time": "2023-08-02T00:32:14.642Z"
   },
   {
    "duration": 10,
    "start_time": "2023-08-02T00:32:18.959Z"
   },
   {
    "duration": 12,
    "start_time": "2023-08-02T00:32:30.940Z"
   },
   {
    "duration": 19,
    "start_time": "2023-08-02T00:32:57.213Z"
   },
   {
    "duration": 16,
    "start_time": "2023-08-02T00:33:58.987Z"
   },
   {
    "duration": 10,
    "start_time": "2023-08-02T00:35:41.751Z"
   },
   {
    "duration": 3,
    "start_time": "2023-08-02T00:41:22.746Z"
   },
   {
    "duration": 4,
    "start_time": "2023-08-02T00:41:28.069Z"
   },
   {
    "duration": 10,
    "start_time": "2023-08-02T00:43:34.377Z"
   },
   {
    "duration": 19,
    "start_time": "2023-08-02T00:43:54.394Z"
   },
   {
    "duration": 15,
    "start_time": "2023-08-02T00:44:10.690Z"
   },
   {
    "duration": 18,
    "start_time": "2023-08-02T00:48:40.449Z"
   },
   {
    "duration": 26,
    "start_time": "2023-08-02T00:50:21.627Z"
   },
   {
    "duration": 28,
    "start_time": "2023-08-02T00:50:29.785Z"
   },
   {
    "duration": 44,
    "start_time": "2023-08-02T00:51:31.001Z"
   },
   {
    "duration": 28,
    "start_time": "2023-08-02T00:53:56.217Z"
   },
   {
    "duration": 10,
    "start_time": "2023-08-02T00:56:13.393Z"
   },
   {
    "duration": 11,
    "start_time": "2023-08-02T00:56:51.625Z"
   },
   {
    "duration": 18,
    "start_time": "2023-08-02T00:57:01.465Z"
   },
   {
    "duration": 33,
    "start_time": "2023-08-02T00:58:54.021Z"
   },
   {
    "duration": 25,
    "start_time": "2023-08-02T00:59:40.961Z"
   },
   {
    "duration": 1405,
    "start_time": "2023-08-02T01:00:14.418Z"
   },
   {
    "duration": 751,
    "start_time": "2023-08-02T01:00:15.825Z"
   },
   {
    "duration": 24,
    "start_time": "2023-08-02T01:00:16.578Z"
   },
   {
    "duration": 18,
    "start_time": "2023-08-02T01:00:16.604Z"
   },
   {
    "duration": 137,
    "start_time": "2023-08-02T01:00:16.624Z"
   },
   {
    "duration": 20,
    "start_time": "2023-08-02T01:00:16.762Z"
   },
   {
    "duration": 15,
    "start_time": "2023-08-02T01:00:16.784Z"
   },
   {
    "duration": 21,
    "start_time": "2023-08-02T01:00:16.800Z"
   },
   {
    "duration": 50,
    "start_time": "2023-08-02T01:00:16.823Z"
   },
   {
    "duration": 18,
    "start_time": "2023-08-02T01:00:16.875Z"
   },
   {
    "duration": 110,
    "start_time": "2023-08-02T01:00:16.894Z"
   },
   {
    "duration": 14,
    "start_time": "2023-08-02T01:00:17.005Z"
   },
   {
    "duration": 3,
    "start_time": "2023-08-02T01:00:17.021Z"
   },
   {
    "duration": 14,
    "start_time": "2023-08-02T01:00:17.027Z"
   },
   {
    "duration": 17,
    "start_time": "2023-08-02T01:00:17.043Z"
   },
   {
    "duration": 6,
    "start_time": "2023-08-02T01:00:17.062Z"
   },
   {
    "duration": 1148,
    "start_time": "2023-08-02T01:00:17.069Z"
   },
   {
    "duration": 1161,
    "start_time": "2023-08-02T01:00:18.219Z"
   },
   {
    "duration": 1111,
    "start_time": "2023-08-02T01:00:19.382Z"
   },
   {
    "duration": 573,
    "start_time": "2023-08-02T01:00:20.495Z"
   },
   {
    "duration": 1105,
    "start_time": "2023-08-02T01:00:21.070Z"
   },
   {
    "duration": 7,
    "start_time": "2023-08-02T01:00:22.177Z"
   },
   {
    "duration": 16,
    "start_time": "2023-08-02T01:00:22.186Z"
   },
   {
    "duration": 16,
    "start_time": "2023-08-02T01:00:22.204Z"
   },
   {
    "duration": 4,
    "start_time": "2023-08-02T01:00:22.221Z"
   },
   {
    "duration": 12,
    "start_time": "2023-08-02T01:00:22.226Z"
   },
   {
    "duration": 21,
    "start_time": "2023-08-02T01:00:22.239Z"
   },
   {
    "duration": 12,
    "start_time": "2023-08-02T01:00:22.262Z"
   },
   {
    "duration": 18,
    "start_time": "2023-08-02T01:00:22.275Z"
   },
   {
    "duration": 10,
    "start_time": "2023-08-02T01:00:22.294Z"
   },
   {
    "duration": 9,
    "start_time": "2023-08-02T01:00:22.305Z"
   },
   {
    "duration": 27,
    "start_time": "2023-08-02T01:00:22.315Z"
   },
   {
    "duration": 17,
    "start_time": "2023-08-02T01:00:22.343Z"
   },
   {
    "duration": 126000,
    "start_time": "2023-08-02T01:00:22.362Z"
   },
   {
    "duration": 98,
    "start_time": "2023-08-02T01:02:28.363Z"
   },
   {
    "duration": 5,
    "start_time": "2023-08-02T01:02:28.463Z"
   },
   {
    "duration": 18,
    "start_time": "2023-08-02T01:02:28.469Z"
   },
   {
    "duration": 71,
    "start_time": "2023-08-02T01:07:15.718Z"
   },
   {
    "duration": 115,
    "start_time": "2023-08-02T01:07:31.893Z"
   },
   {
    "duration": 1371,
    "start_time": "2023-08-02T01:07:43.590Z"
   },
   {
    "duration": 738,
    "start_time": "2023-08-02T01:07:44.963Z"
   },
   {
    "duration": 24,
    "start_time": "2023-08-02T01:07:45.706Z"
   },
   {
    "duration": 34,
    "start_time": "2023-08-02T01:07:45.732Z"
   },
   {
    "duration": 126,
    "start_time": "2023-08-02T01:07:45.768Z"
   },
   {
    "duration": 21,
    "start_time": "2023-08-02T01:07:45.896Z"
   },
   {
    "duration": 14,
    "start_time": "2023-08-02T01:07:45.918Z"
   },
   {
    "duration": 39,
    "start_time": "2023-08-02T01:07:45.934Z"
   },
   {
    "duration": 20,
    "start_time": "2023-08-02T01:07:45.976Z"
   },
   {
    "duration": 18,
    "start_time": "2023-08-02T01:07:45.998Z"
   },
   {
    "duration": 125,
    "start_time": "2023-08-02T01:07:46.017Z"
   },
   {
    "duration": 17,
    "start_time": "2023-08-02T01:07:46.144Z"
   },
   {
    "duration": 3,
    "start_time": "2023-08-02T01:07:46.163Z"
   },
   {
    "duration": 14,
    "start_time": "2023-08-02T01:07:46.168Z"
   },
   {
    "duration": 5,
    "start_time": "2023-08-02T01:07:46.183Z"
   },
   {
    "duration": 7,
    "start_time": "2023-08-02T01:07:46.190Z"
   },
   {
    "duration": 1082,
    "start_time": "2023-08-02T01:07:46.199Z"
   },
   {
    "duration": 1191,
    "start_time": "2023-08-02T01:07:47.282Z"
   },
   {
    "duration": 1093,
    "start_time": "2023-08-02T01:07:48.475Z"
   },
   {
    "duration": 586,
    "start_time": "2023-08-02T01:07:49.569Z"
   },
   {
    "duration": 1038,
    "start_time": "2023-08-02T01:07:50.158Z"
   },
   {
    "duration": 6,
    "start_time": "2023-08-02T01:07:51.198Z"
   },
   {
    "duration": 16,
    "start_time": "2023-08-02T01:07:51.205Z"
   },
   {
    "duration": 16,
    "start_time": "2023-08-02T01:07:51.223Z"
   },
   {
    "duration": 149,
    "start_time": "2023-08-02T01:07:51.241Z"
   },
   {
    "duration": 0,
    "start_time": "2023-08-02T01:07:51.392Z"
   },
   {
    "duration": 0,
    "start_time": "2023-08-02T01:07:51.393Z"
   },
   {
    "duration": 0,
    "start_time": "2023-08-02T01:07:51.394Z"
   },
   {
    "duration": 0,
    "start_time": "2023-08-02T01:07:51.395Z"
   },
   {
    "duration": 0,
    "start_time": "2023-08-02T01:07:51.396Z"
   },
   {
    "duration": 0,
    "start_time": "2023-08-02T01:07:51.397Z"
   },
   {
    "duration": 0,
    "start_time": "2023-08-02T01:07:51.398Z"
   },
   {
    "duration": 0,
    "start_time": "2023-08-02T01:07:51.399Z"
   },
   {
    "duration": 0,
    "start_time": "2023-08-02T01:07:51.537Z"
   },
   {
    "duration": 0,
    "start_time": "2023-08-02T01:07:51.538Z"
   },
   {
    "duration": 0,
    "start_time": "2023-08-02T01:07:51.539Z"
   },
   {
    "duration": 0,
    "start_time": "2023-08-02T01:07:51.540Z"
   },
   {
    "duration": 0,
    "start_time": "2023-08-02T01:07:51.541Z"
   },
   {
    "duration": 1422,
    "start_time": "2023-08-02T01:09:36.845Z"
   },
   {
    "duration": 735,
    "start_time": "2023-08-02T01:09:38.269Z"
   },
   {
    "duration": 23,
    "start_time": "2023-08-02T01:09:39.006Z"
   },
   {
    "duration": 32,
    "start_time": "2023-08-02T01:09:39.031Z"
   },
   {
    "duration": 123,
    "start_time": "2023-08-02T01:09:39.065Z"
   },
   {
    "duration": 20,
    "start_time": "2023-08-02T01:09:39.190Z"
   },
   {
    "duration": 13,
    "start_time": "2023-08-02T01:09:39.211Z"
   },
   {
    "duration": 39,
    "start_time": "2023-08-02T01:09:39.226Z"
   },
   {
    "duration": 19,
    "start_time": "2023-08-02T01:09:39.267Z"
   },
   {
    "duration": 17,
    "start_time": "2023-08-02T01:09:39.289Z"
   },
   {
    "duration": 117,
    "start_time": "2023-08-02T01:09:39.307Z"
   },
   {
    "duration": 13,
    "start_time": "2023-08-02T01:09:39.425Z"
   },
   {
    "duration": 3,
    "start_time": "2023-08-02T01:09:39.440Z"
   },
   {
    "duration": 20,
    "start_time": "2023-08-02T01:09:39.444Z"
   },
   {
    "duration": 5,
    "start_time": "2023-08-02T01:09:39.465Z"
   },
   {
    "duration": 7,
    "start_time": "2023-08-02T01:09:39.471Z"
   },
   {
    "duration": 1106,
    "start_time": "2023-08-02T01:09:39.479Z"
   },
   {
    "duration": 1187,
    "start_time": "2023-08-02T01:09:40.586Z"
   },
   {
    "duration": 1197,
    "start_time": "2023-08-02T01:09:41.775Z"
   },
   {
    "duration": 598,
    "start_time": "2023-08-02T01:09:42.973Z"
   },
   {
    "duration": 1191,
    "start_time": "2023-08-02T01:09:43.573Z"
   },
   {
    "duration": 7,
    "start_time": "2023-08-02T01:09:44.766Z"
   },
   {
    "duration": 16,
    "start_time": "2023-08-02T01:09:44.774Z"
   },
   {
    "duration": 15,
    "start_time": "2023-08-02T01:09:44.792Z"
   },
   {
    "duration": 3,
    "start_time": "2023-08-02T01:09:44.809Z"
   },
   {
    "duration": 17,
    "start_time": "2023-08-02T01:09:44.814Z"
   },
   {
    "duration": 22,
    "start_time": "2023-08-02T01:09:44.832Z"
   },
   {
    "duration": 12,
    "start_time": "2023-08-02T01:09:44.857Z"
   },
   {
    "duration": 24,
    "start_time": "2023-08-02T01:09:44.871Z"
   },
   {
    "duration": 6,
    "start_time": "2023-08-02T01:09:44.897Z"
   },
   {
    "duration": 5,
    "start_time": "2023-08-02T01:09:44.905Z"
   },
   {
    "duration": 13,
    "start_time": "2023-08-02T01:09:44.912Z"
   },
   {
    "duration": 11,
    "start_time": "2023-08-02T01:09:44.926Z"
   },
   {
    "duration": 126824,
    "start_time": "2023-08-02T01:09:44.939Z"
   },
   {
    "duration": 97,
    "start_time": "2023-08-02T01:11:51.765Z"
   },
   {
    "duration": 9,
    "start_time": "2023-08-02T01:11:51.864Z"
   },
   {
    "duration": 18,
    "start_time": "2023-08-02T01:11:51.875Z"
   },
   {
    "duration": 1365,
    "start_time": "2023-08-02T01:13:39.210Z"
   },
   {
    "duration": 725,
    "start_time": "2023-08-02T01:13:40.577Z"
   },
   {
    "duration": 25,
    "start_time": "2023-08-02T01:13:41.304Z"
   },
   {
    "duration": 33,
    "start_time": "2023-08-02T01:13:41.331Z"
   },
   {
    "duration": 120,
    "start_time": "2023-08-02T01:13:41.366Z"
   },
   {
    "duration": 20,
    "start_time": "2023-08-02T01:13:41.487Z"
   },
   {
    "duration": 13,
    "start_time": "2023-08-02T01:13:41.509Z"
   },
   {
    "duration": 38,
    "start_time": "2023-08-02T01:13:41.524Z"
   },
   {
    "duration": 21,
    "start_time": "2023-08-02T01:13:41.563Z"
   },
   {
    "duration": 22,
    "start_time": "2023-08-02T01:13:41.585Z"
   },
   {
    "duration": 114,
    "start_time": "2023-08-02T01:13:41.608Z"
   },
   {
    "duration": 15,
    "start_time": "2023-08-02T01:13:41.723Z"
   },
   {
    "duration": 3,
    "start_time": "2023-08-02T01:13:41.740Z"
   },
   {
    "duration": 11,
    "start_time": "2023-08-02T01:13:41.758Z"
   },
   {
    "duration": 9,
    "start_time": "2023-08-02T01:13:41.771Z"
   },
   {
    "duration": 7,
    "start_time": "2023-08-02T01:13:41.782Z"
   },
   {
    "duration": 1139,
    "start_time": "2023-08-02T01:13:41.791Z"
   },
   {
    "duration": 1162,
    "start_time": "2023-08-02T01:13:42.932Z"
   },
   {
    "duration": 1091,
    "start_time": "2023-08-02T01:13:44.097Z"
   },
   {
    "duration": 587,
    "start_time": "2023-08-02T01:13:45.190Z"
   },
   {
    "duration": 1101,
    "start_time": "2023-08-02T01:13:45.779Z"
   },
   {
    "duration": 7,
    "start_time": "2023-08-02T01:13:46.882Z"
   },
   {
    "duration": 24,
    "start_time": "2023-08-02T01:13:46.890Z"
   },
   {
    "duration": 15,
    "start_time": "2023-08-02T01:13:46.916Z"
   },
   {
    "duration": 3,
    "start_time": "2023-08-02T01:13:46.933Z"
   },
   {
    "duration": 21,
    "start_time": "2023-08-02T01:13:46.938Z"
   },
   {
    "duration": 8,
    "start_time": "2023-08-02T01:13:46.961Z"
   },
   {
    "duration": 12,
    "start_time": "2023-08-02T01:13:46.971Z"
   },
   {
    "duration": 13,
    "start_time": "2023-08-02T01:13:46.985Z"
   },
   {
    "duration": 6,
    "start_time": "2023-08-02T01:13:47.000Z"
   },
   {
    "duration": 15,
    "start_time": "2023-08-02T01:13:47.007Z"
   },
   {
    "duration": 13,
    "start_time": "2023-08-02T01:13:47.024Z"
   },
   {
    "duration": 10,
    "start_time": "2023-08-02T01:13:47.038Z"
   },
   {
    "duration": 126718,
    "start_time": "2023-08-02T01:13:47.050Z"
   },
   {
    "duration": 8,
    "start_time": "2023-08-02T01:15:53.859Z"
   },
   {
    "duration": 105,
    "start_time": "2023-08-02T01:15:53.868Z"
   },
   {
    "duration": 46,
    "start_time": "2023-08-02T17:11:14.813Z"
   },
   {
    "duration": 1635,
    "start_time": "2023-08-02T17:11:20.500Z"
   },
   {
    "duration": 3278,
    "start_time": "2023-08-02T17:11:22.137Z"
   },
   {
    "duration": 25,
    "start_time": "2023-08-02T17:11:25.420Z"
   },
   {
    "duration": 21,
    "start_time": "2023-08-02T17:11:25.448Z"
   },
   {
    "duration": 136,
    "start_time": "2023-08-02T17:11:25.471Z"
   },
   {
    "duration": 23,
    "start_time": "2023-08-02T17:11:25.608Z"
   },
   {
    "duration": 17,
    "start_time": "2023-08-02T17:11:25.632Z"
   },
   {
    "duration": 21,
    "start_time": "2023-08-02T17:11:25.659Z"
   },
   {
    "duration": 23,
    "start_time": "2023-08-02T17:11:25.682Z"
   },
   {
    "duration": 23,
    "start_time": "2023-08-02T17:11:25.707Z"
   },
   {
    "duration": 114,
    "start_time": "2023-08-02T17:11:25.732Z"
   },
   {
    "duration": 135,
    "start_time": "2023-08-02T17:11:25.848Z"
   },
   {
    "duration": 0,
    "start_time": "2023-08-02T17:11:25.985Z"
   },
   {
    "duration": 0,
    "start_time": "2023-08-02T17:11:25.986Z"
   },
   {
    "duration": 0,
    "start_time": "2023-08-02T17:11:25.987Z"
   },
   {
    "duration": 0,
    "start_time": "2023-08-02T17:11:25.988Z"
   },
   {
    "duration": 0,
    "start_time": "2023-08-02T17:11:25.990Z"
   },
   {
    "duration": 0,
    "start_time": "2023-08-02T17:11:25.990Z"
   },
   {
    "duration": 0,
    "start_time": "2023-08-02T17:11:25.992Z"
   },
   {
    "duration": 0,
    "start_time": "2023-08-02T17:11:25.992Z"
   },
   {
    "duration": 0,
    "start_time": "2023-08-02T17:11:25.993Z"
   },
   {
    "duration": 0,
    "start_time": "2023-08-02T17:11:25.995Z"
   },
   {
    "duration": 0,
    "start_time": "2023-08-02T17:11:25.996Z"
   },
   {
    "duration": 0,
    "start_time": "2023-08-02T17:11:25.997Z"
   },
   {
    "duration": 0,
    "start_time": "2023-08-02T17:11:25.997Z"
   },
   {
    "duration": 0,
    "start_time": "2023-08-02T17:11:25.998Z"
   },
   {
    "duration": 0,
    "start_time": "2023-08-02T17:11:25.999Z"
   },
   {
    "duration": 0,
    "start_time": "2023-08-02T17:11:26.000Z"
   },
   {
    "duration": 0,
    "start_time": "2023-08-02T17:11:26.001Z"
   },
   {
    "duration": 0,
    "start_time": "2023-08-02T17:11:26.002Z"
   },
   {
    "duration": 0,
    "start_time": "2023-08-02T17:11:26.003Z"
   },
   {
    "duration": 0,
    "start_time": "2023-08-02T17:11:26.004Z"
   },
   {
    "duration": 0,
    "start_time": "2023-08-02T17:11:26.005Z"
   },
   {
    "duration": 0,
    "start_time": "2023-08-02T17:11:26.006Z"
   },
   {
    "duration": 0,
    "start_time": "2023-08-02T17:11:26.007Z"
   },
   {
    "duration": 0,
    "start_time": "2023-08-02T17:11:26.008Z"
   },
   {
    "duration": 28,
    "start_time": "2023-08-02T17:11:39.337Z"
   },
   {
    "duration": 3,
    "start_time": "2023-08-02T17:12:37.904Z"
   },
   {
    "duration": 10,
    "start_time": "2023-08-02T17:12:57.035Z"
   },
   {
    "duration": 5,
    "start_time": "2023-08-02T17:12:58.247Z"
   },
   {
    "duration": 8,
    "start_time": "2023-08-02T17:13:03.633Z"
   },
   {
    "duration": 5,
    "start_time": "2023-08-02T17:16:08.638Z"
   },
   {
    "duration": 1633,
    "start_time": "2023-08-02T17:27:53.715Z"
   },
   {
    "duration": 1595,
    "start_time": "2023-08-02T17:28:03.801Z"
   },
   {
    "duration": 1607,
    "start_time": "2023-08-02T17:28:46.375Z"
   },
   {
    "duration": 133,
    "start_time": "2023-08-02T17:47:28.626Z"
   },
   {
    "duration": 136,
    "start_time": "2023-08-02T17:47:40.467Z"
   },
   {
    "duration": 135,
    "start_time": "2023-08-02T17:47:56.117Z"
   },
   {
    "duration": 154,
    "start_time": "2023-08-02T17:48:04.709Z"
   },
   {
    "duration": 142,
    "start_time": "2023-08-02T17:49:06.509Z"
   },
   {
    "duration": 268,
    "start_time": "2023-08-02T17:49:12.030Z"
   },
   {
    "duration": 195,
    "start_time": "2023-08-02T17:50:03.142Z"
   },
   {
    "duration": 12,
    "start_time": "2023-08-02T17:50:41.614Z"
   },
   {
    "duration": 10,
    "start_time": "2023-08-02T17:51:09.990Z"
   },
   {
    "duration": 184,
    "start_time": "2023-08-02T17:51:17.477Z"
   },
   {
    "duration": 180,
    "start_time": "2023-08-02T17:51:45.433Z"
   },
   {
    "duration": 209,
    "start_time": "2023-08-02T17:51:52.890Z"
   },
   {
    "duration": 207,
    "start_time": "2023-08-02T17:52:49.837Z"
   },
   {
    "duration": 1435,
    "start_time": "2023-08-02T17:53:13.791Z"
   },
   {
    "duration": 397,
    "start_time": "2023-08-02T17:53:43.343Z"
   },
   {
    "duration": 326,
    "start_time": "2023-08-02T17:53:57.463Z"
   },
   {
    "duration": 348,
    "start_time": "2023-08-02T17:54:19.975Z"
   },
   {
    "duration": 254,
    "start_time": "2023-08-02T17:58:28.891Z"
   },
   {
    "duration": 526,
    "start_time": "2023-08-02T17:59:47.463Z"
   },
   {
    "duration": 444,
    "start_time": "2023-08-02T17:59:55.259Z"
   },
   {
    "duration": 420,
    "start_time": "2023-08-02T18:00:12.722Z"
   },
   {
    "duration": 455,
    "start_time": "2023-08-02T18:00:23.779Z"
   },
   {
    "duration": 471,
    "start_time": "2023-08-02T18:00:30.004Z"
   },
   {
    "duration": 560,
    "start_time": "2023-08-02T18:00:48.849Z"
   },
   {
    "duration": 291,
    "start_time": "2023-08-02T18:01:33.089Z"
   },
   {
    "duration": 247,
    "start_time": "2023-08-02T18:02:28.977Z"
   },
   {
    "duration": 316,
    "start_time": "2023-08-02T18:06:17.834Z"
   },
   {
    "duration": 336,
    "start_time": "2023-08-02T18:06:58.346Z"
   },
   {
    "duration": 368,
    "start_time": "2023-08-02T18:14:12.953Z"
   },
   {
    "duration": 378,
    "start_time": "2023-08-02T18:20:55.617Z"
   },
   {
    "duration": 327,
    "start_time": "2023-08-02T18:21:05.554Z"
   },
   {
    "duration": 318,
    "start_time": "2023-08-02T18:21:20.226Z"
   },
   {
    "duration": 508,
    "start_time": "2023-08-02T18:34:00.737Z"
   },
   {
    "duration": 189,
    "start_time": "2023-08-02T18:34:20.099Z"
   },
   {
    "duration": 349,
    "start_time": "2023-08-02T18:34:35.773Z"
   },
   {
    "duration": 310,
    "start_time": "2023-08-02T18:34:40.920Z"
   },
   {
    "duration": 330,
    "start_time": "2023-08-02T18:34:49.393Z"
   },
   {
    "duration": 316,
    "start_time": "2023-08-02T18:34:56.197Z"
   },
   {
    "duration": 323,
    "start_time": "2023-08-02T18:35:07.041Z"
   },
   {
    "duration": 178,
    "start_time": "2023-08-02T18:35:14.800Z"
   },
   {
    "duration": 336,
    "start_time": "2023-08-02T18:35:21.990Z"
   },
   {
    "duration": 352,
    "start_time": "2023-08-02T18:35:28.535Z"
   },
   {
    "duration": 329,
    "start_time": "2023-08-02T18:35:36.861Z"
   },
   {
    "duration": 499,
    "start_time": "2023-08-02T18:35:56.598Z"
   },
   {
    "duration": 375,
    "start_time": "2023-08-02T18:36:05.984Z"
   },
   {
    "duration": 427,
    "start_time": "2023-08-02T18:36:13.912Z"
   },
   {
    "duration": 350,
    "start_time": "2023-08-02T18:36:19.658Z"
   },
   {
    "duration": 402,
    "start_time": "2023-08-02T18:36:46.396Z"
   },
   {
    "duration": 326,
    "start_time": "2023-08-02T18:37:25.020Z"
   },
   {
    "duration": 1424,
    "start_time": "2023-08-02T18:45:22.943Z"
   },
   {
    "duration": 419,
    "start_time": "2023-08-02T18:45:33.895Z"
   },
   {
    "duration": 322,
    "start_time": "2023-08-02T18:48:06.066Z"
   },
   {
    "duration": 315,
    "start_time": "2023-08-02T18:48:28.610Z"
   },
   {
    "duration": 388,
    "start_time": "2023-08-02T18:48:42.332Z"
   },
   {
    "duration": 734,
    "start_time": "2023-08-02T18:48:55.402Z"
   },
   {
    "duration": 208,
    "start_time": "2023-08-02T18:54:01.626Z"
   },
   {
    "duration": 329,
    "start_time": "2023-08-02T18:54:37.599Z"
   },
   {
    "duration": 322,
    "start_time": "2023-08-02T18:55:13.245Z"
   },
   {
    "duration": 326,
    "start_time": "2023-08-02T18:55:49.012Z"
   },
   {
    "duration": 220,
    "start_time": "2023-08-02T18:55:58.891Z"
   },
   {
    "duration": 289,
    "start_time": "2023-08-02T18:56:10.031Z"
   },
   {
    "duration": 246,
    "start_time": "2023-08-02T18:56:16.297Z"
   },
   {
    "duration": 253,
    "start_time": "2023-08-02T18:56:21.494Z"
   },
   {
    "duration": 282,
    "start_time": "2023-08-02T18:56:25.929Z"
   },
   {
    "duration": 5,
    "start_time": "2023-08-02T19:01:27.872Z"
   },
   {
    "duration": 10,
    "start_time": "2023-08-02T19:02:53.972Z"
   },
   {
    "duration": 1440,
    "start_time": "2023-08-02T19:03:56.195Z"
   },
   {
    "duration": 6,
    "start_time": "2023-08-02T19:43:57.634Z"
   },
   {
    "duration": 844,
    "start_time": "2023-08-02T19:43:57.643Z"
   },
   {
    "duration": 23,
    "start_time": "2023-08-02T19:43:58.489Z"
   },
   {
    "duration": 25,
    "start_time": "2023-08-02T19:43:58.514Z"
   },
   {
    "duration": 143,
    "start_time": "2023-08-02T19:43:58.542Z"
   },
   {
    "duration": 29,
    "start_time": "2023-08-02T19:43:58.687Z"
   },
   {
    "duration": 13,
    "start_time": "2023-08-02T19:43:58.718Z"
   },
   {
    "duration": 52,
    "start_time": "2023-08-02T19:43:58.733Z"
   },
   {
    "duration": 24,
    "start_time": "2023-08-02T19:43:58.787Z"
   },
   {
    "duration": 223,
    "start_time": "2023-08-02T19:43:58.813Z"
   },
   {
    "duration": 128,
    "start_time": "2023-08-02T19:43:59.038Z"
   },
   {
    "duration": 31,
    "start_time": "2023-08-02T19:43:59.167Z"
   },
   {
    "duration": 4,
    "start_time": "2023-08-02T19:43:59.200Z"
   },
   {
    "duration": 20,
    "start_time": "2023-08-02T19:43:59.209Z"
   },
   {
    "duration": 27,
    "start_time": "2023-08-02T19:43:59.232Z"
   },
   {
    "duration": 7,
    "start_time": "2023-08-02T19:43:59.262Z"
   },
   {
    "duration": 1530,
    "start_time": "2023-08-02T19:43:59.271Z"
   },
   {
    "duration": 1672,
    "start_time": "2023-08-02T19:44:00.803Z"
   },
   {
    "duration": 1840,
    "start_time": "2023-08-02T19:44:02.477Z"
   },
   {
    "duration": 465,
    "start_time": "2023-08-02T19:44:04.320Z"
   },
   {
    "duration": 348,
    "start_time": "2023-08-02T19:44:04.787Z"
   },
   {
    "duration": 385,
    "start_time": "2023-08-02T19:44:05.137Z"
   },
   {
    "duration": 771,
    "start_time": "2023-08-02T19:44:05.524Z"
   },
   {
    "duration": 255,
    "start_time": "2023-08-02T19:44:06.297Z"
   },
   {
    "duration": 10,
    "start_time": "2023-08-02T19:44:06.554Z"
   },
   {
    "duration": 1285,
    "start_time": "2023-08-02T19:44:06.565Z"
   },
   {
    "duration": 8,
    "start_time": "2023-08-02T19:44:07.859Z"
   },
   {
    "duration": 162,
    "start_time": "2023-08-02T19:44:07.869Z"
   },
   {
    "duration": 25,
    "start_time": "2023-08-02T19:44:08.034Z"
   },
   {
    "duration": 6,
    "start_time": "2023-08-02T19:44:08.061Z"
   },
   {
    "duration": 7,
    "start_time": "2023-08-02T19:44:08.069Z"
   },
   {
    "duration": 5,
    "start_time": "2023-08-02T19:44:08.078Z"
   },
   {
    "duration": 10,
    "start_time": "2023-08-02T19:44:08.085Z"
   },
   {
    "duration": 8,
    "start_time": "2023-08-02T19:44:08.097Z"
   },
   {
    "duration": 5,
    "start_time": "2023-08-02T19:44:08.106Z"
   },
   {
    "duration": 9,
    "start_time": "2023-08-02T19:44:08.113Z"
   },
   {
    "duration": 34,
    "start_time": "2023-08-02T19:44:08.125Z"
   },
   {
    "duration": 9,
    "start_time": "2023-08-02T19:44:08.162Z"
   },
   {
    "duration": 58,
    "start_time": "2023-08-02T21:39:56.040Z"
   },
   {
    "duration": 2200,
    "start_time": "2023-08-02T21:40:01.200Z"
   },
   {
    "duration": 4069,
    "start_time": "2023-08-02T21:40:03.403Z"
   },
   {
    "duration": 39,
    "start_time": "2023-08-02T21:40:07.475Z"
   },
   {
    "duration": 30,
    "start_time": "2023-08-02T21:40:07.517Z"
   },
   {
    "duration": 194,
    "start_time": "2023-08-02T21:40:07.551Z"
   },
   {
    "duration": 44,
    "start_time": "2023-08-02T21:40:07.749Z"
   },
   {
    "duration": 21,
    "start_time": "2023-08-02T21:40:07.795Z"
   },
   {
    "duration": 55,
    "start_time": "2023-08-02T21:40:07.819Z"
   },
   {
    "duration": 33,
    "start_time": "2023-08-02T21:40:07.876Z"
   },
   {
    "duration": 25,
    "start_time": "2023-08-02T21:40:07.912Z"
   },
   {
    "duration": 177,
    "start_time": "2023-08-02T21:40:07.938Z"
   },
   {
    "duration": 34,
    "start_time": "2023-08-02T21:40:08.119Z"
   },
   {
    "duration": 13,
    "start_time": "2023-08-02T21:40:08.155Z"
   },
   {
    "duration": 26,
    "start_time": "2023-08-02T21:40:08.171Z"
   },
   {
    "duration": 39,
    "start_time": "2023-08-02T21:40:08.199Z"
   },
   {
    "duration": 32,
    "start_time": "2023-08-02T21:40:08.240Z"
   },
   {
    "duration": 2011,
    "start_time": "2023-08-02T21:40:08.275Z"
   },
   {
    "duration": 1960,
    "start_time": "2023-08-02T21:40:10.290Z"
   },
   {
    "duration": 1655,
    "start_time": "2023-08-02T21:40:12.252Z"
   },
   {
    "duration": 455,
    "start_time": "2023-08-02T21:40:13.914Z"
   },
   {
    "duration": 365,
    "start_time": "2023-08-02T21:40:14.371Z"
   },
   {
    "duration": 425,
    "start_time": "2023-08-02T21:40:14.738Z"
   },
   {
    "duration": 1025,
    "start_time": "2023-08-02T21:40:15.165Z"
   },
   {
    "duration": 333,
    "start_time": "2023-08-02T21:40:16.193Z"
   },
   {
    "duration": 7,
    "start_time": "2023-08-02T21:40:16.529Z"
   },
   {
    "duration": 1698,
    "start_time": "2023-08-02T21:40:16.539Z"
   },
   {
    "duration": 9,
    "start_time": "2023-08-02T21:40:18.240Z"
   },
   {
    "duration": 36,
    "start_time": "2023-08-02T21:40:18.251Z"
   },
   {
    "duration": 18,
    "start_time": "2023-08-02T21:40:18.290Z"
   },
   {
    "duration": 4,
    "start_time": "2023-08-02T21:40:18.310Z"
   },
   {
    "duration": 8,
    "start_time": "2023-08-02T21:40:18.317Z"
   },
   {
    "duration": 19,
    "start_time": "2023-08-02T21:40:18.328Z"
   },
   {
    "duration": 13,
    "start_time": "2023-08-02T21:40:18.368Z"
   },
   {
    "duration": 18,
    "start_time": "2023-08-02T21:40:18.384Z"
   },
   {
    "duration": 18,
    "start_time": "2023-08-02T21:40:18.404Z"
   },
   {
    "duration": 12,
    "start_time": "2023-08-02T21:40:18.423Z"
   },
   {
    "duration": 9,
    "start_time": "2023-08-02T21:40:18.437Z"
   },
   {
    "duration": 19,
    "start_time": "2023-08-02T21:40:18.449Z"
   },
   {
    "duration": 168297,
    "start_time": "2023-08-02T21:40:18.470Z"
   },
   {
    "duration": 18,
    "start_time": "2023-08-02T21:43:06.772Z"
   },
   {
    "duration": 8,
    "start_time": "2023-08-02T21:43:06.871Z"
   },
   {
    "duration": 51,
    "start_time": "2023-08-03T09:50:31.038Z"
   },
   {
    "duration": 1726,
    "start_time": "2023-08-03T09:50:37.681Z"
   },
   {
    "duration": 2180,
    "start_time": "2023-08-03T09:50:39.410Z"
   },
   {
    "duration": 39,
    "start_time": "2023-08-03T09:50:41.593Z"
   },
   {
    "duration": 26,
    "start_time": "2023-08-03T09:50:41.635Z"
   },
   {
    "duration": 158,
    "start_time": "2023-08-03T09:50:41.664Z"
   },
   {
    "duration": 20,
    "start_time": "2023-08-03T09:50:41.824Z"
   },
   {
    "duration": 34,
    "start_time": "2023-08-03T09:50:41.846Z"
   },
   {
    "duration": 26,
    "start_time": "2023-08-03T09:50:41.882Z"
   },
   {
    "duration": 25,
    "start_time": "2023-08-03T09:50:41.910Z"
   },
   {
    "duration": 27,
    "start_time": "2023-08-03T09:50:41.937Z"
   },
   {
    "duration": 112,
    "start_time": "2023-08-03T09:50:41.965Z"
   },
   {
    "duration": 28,
    "start_time": "2023-08-03T09:50:42.079Z"
   },
   {
    "duration": 4,
    "start_time": "2023-08-03T09:50:42.109Z"
   },
   {
    "duration": 22,
    "start_time": "2023-08-03T09:50:42.117Z"
   },
   {
    "duration": 13,
    "start_time": "2023-08-03T09:50:42.142Z"
   },
   {
    "duration": 34,
    "start_time": "2023-08-03T09:50:42.157Z"
   },
   {
    "duration": 1684,
    "start_time": "2023-08-03T09:50:42.193Z"
   },
   {
    "duration": 1638,
    "start_time": "2023-08-03T09:50:43.879Z"
   },
   {
    "duration": 1607,
    "start_time": "2023-08-03T09:50:45.519Z"
   },
   {
    "duration": 311,
    "start_time": "2023-08-03T09:50:47.127Z"
   },
   {
    "duration": 338,
    "start_time": "2023-08-03T09:50:47.440Z"
   },
   {
    "duration": 344,
    "start_time": "2023-08-03T09:50:47.780Z"
   },
   {
    "duration": 751,
    "start_time": "2023-08-03T09:50:48.125Z"
   },
   {
    "duration": 243,
    "start_time": "2023-08-03T09:50:48.878Z"
   },
   {
    "duration": 6,
    "start_time": "2023-08-03T09:50:49.123Z"
   },
   {
    "duration": 1624,
    "start_time": "2023-08-03T09:50:49.131Z"
   },
   {
    "duration": 7,
    "start_time": "2023-08-03T09:50:50.756Z"
   },
   {
    "duration": 24,
    "start_time": "2023-08-03T09:50:50.765Z"
   },
   {
    "duration": 17,
    "start_time": "2023-08-03T09:50:50.797Z"
   },
   {
    "duration": 4,
    "start_time": "2023-08-03T09:50:50.816Z"
   },
   {
    "duration": 12,
    "start_time": "2023-08-03T09:50:50.821Z"
   },
   {
    "duration": 7,
    "start_time": "2023-08-03T09:50:50.835Z"
   },
   {
    "duration": 12,
    "start_time": "2023-08-03T09:50:50.843Z"
   },
   {
    "duration": 17,
    "start_time": "2023-08-03T09:50:50.857Z"
   },
   {
    "duration": 18,
    "start_time": "2023-08-03T09:50:50.875Z"
   },
   {
    "duration": 20,
    "start_time": "2023-08-03T09:50:50.895Z"
   },
   {
    "duration": 15,
    "start_time": "2023-08-03T09:50:50.916Z"
   },
   {
    "duration": 6,
    "start_time": "2023-08-03T09:50:50.933Z"
   },
   {
    "duration": 149960,
    "start_time": "2023-08-03T09:50:50.940Z"
   },
   {
    "duration": 92,
    "start_time": "2023-08-03T09:53:20.903Z"
   },
   {
    "duration": 24,
    "start_time": "2023-08-03T09:53:21.001Z"
   },
   {
    "duration": 128,
    "start_time": "2023-08-03T10:07:02.008Z"
   },
   {
    "duration": 5,
    "start_time": "2023-08-03T10:07:24.405Z"
   },
   {
    "duration": 7,
    "start_time": "2023-08-03T10:09:08.307Z"
   },
   {
    "duration": 5,
    "start_time": "2023-08-03T10:09:12.988Z"
   },
   {
    "duration": 9,
    "start_time": "2023-08-03T10:09:46.117Z"
   },
   {
    "duration": 14,
    "start_time": "2023-08-03T10:09:59.900Z"
   },
   {
    "duration": 13,
    "start_time": "2023-08-03T10:10:13.389Z"
   },
   {
    "duration": 10,
    "start_time": "2023-08-03T10:24:24.674Z"
   },
   {
    "duration": 2700,
    "start_time": "2023-08-03T10:24:32.546Z"
   },
   {
    "duration": 15,
    "start_time": "2023-08-03T10:24:49.841Z"
   },
   {
    "duration": 16,
    "start_time": "2023-08-03T10:26:54.184Z"
   },
   {
    "duration": 1510,
    "start_time": "2023-08-03T10:27:27.074Z"
   },
   {
    "duration": 856,
    "start_time": "2023-08-03T10:27:28.586Z"
   },
   {
    "duration": 25,
    "start_time": "2023-08-03T10:27:29.444Z"
   },
   {
    "duration": 30,
    "start_time": "2023-08-03T10:27:29.470Z"
   },
   {
    "duration": 139,
    "start_time": "2023-08-03T10:27:29.503Z"
   },
   {
    "duration": 21,
    "start_time": "2023-08-03T10:27:29.643Z"
   },
   {
    "duration": 30,
    "start_time": "2023-08-03T10:27:29.665Z"
   },
   {
    "duration": 24,
    "start_time": "2023-08-03T10:27:29.696Z"
   },
   {
    "duration": 20,
    "start_time": "2023-08-03T10:27:29.722Z"
   },
   {
    "duration": 20,
    "start_time": "2023-08-03T10:27:29.744Z"
   },
   {
    "duration": 129,
    "start_time": "2023-08-03T10:27:29.765Z"
   },
   {
    "duration": 29,
    "start_time": "2023-08-03T10:27:29.897Z"
   },
   {
    "duration": 3,
    "start_time": "2023-08-03T10:27:29.927Z"
   },
   {
    "duration": 12,
    "start_time": "2023-08-03T10:27:29.934Z"
   },
   {
    "duration": 13,
    "start_time": "2023-08-03T10:27:29.948Z"
   },
   {
    "duration": 22,
    "start_time": "2023-08-03T10:27:29.962Z"
   },
   {
    "duration": 1726,
    "start_time": "2023-08-03T10:27:29.986Z"
   },
   {
    "duration": 1689,
    "start_time": "2023-08-03T10:27:31.715Z"
   },
   {
    "duration": 1506,
    "start_time": "2023-08-03T10:27:33.406Z"
   },
   {
    "duration": 303,
    "start_time": "2023-08-03T10:27:34.914Z"
   },
   {
    "duration": 347,
    "start_time": "2023-08-03T10:27:35.219Z"
   },
   {
    "duration": 360,
    "start_time": "2023-08-03T10:27:35.568Z"
   },
   {
    "duration": 832,
    "start_time": "2023-08-03T10:27:35.930Z"
   },
   {
    "duration": 239,
    "start_time": "2023-08-03T10:27:36.764Z"
   },
   {
    "duration": 6,
    "start_time": "2023-08-03T10:27:37.005Z"
   },
   {
    "duration": 1526,
    "start_time": "2023-08-03T10:27:37.012Z"
   },
   {
    "duration": 8,
    "start_time": "2023-08-03T10:27:38.540Z"
   },
   {
    "duration": 35,
    "start_time": "2023-08-03T10:27:38.550Z"
   },
   {
    "duration": 24,
    "start_time": "2023-08-03T10:27:38.587Z"
   },
   {
    "duration": 3,
    "start_time": "2023-08-03T10:27:38.613Z"
   },
   {
    "duration": 25,
    "start_time": "2023-08-03T10:27:38.617Z"
   },
   {
    "duration": 45,
    "start_time": "2023-08-03T10:27:38.643Z"
   },
   {
    "duration": 8,
    "start_time": "2023-08-03T10:27:38.690Z"
   },
   {
    "duration": 3593,
    "start_time": "2023-08-03T10:27:38.699Z"
   },
   {
    "duration": 0,
    "start_time": "2023-08-03T10:27:42.294Z"
   },
   {
    "duration": 0,
    "start_time": "2023-08-03T10:27:42.297Z"
   },
   {
    "duration": 0,
    "start_time": "2023-08-03T10:27:42.298Z"
   },
   {
    "duration": 0,
    "start_time": "2023-08-03T10:27:42.300Z"
   },
   {
    "duration": 0,
    "start_time": "2023-08-03T10:27:42.302Z"
   },
   {
    "duration": 0,
    "start_time": "2023-08-03T10:27:42.304Z"
   },
   {
    "duration": 0,
    "start_time": "2023-08-03T10:27:42.306Z"
   },
   {
    "duration": 0,
    "start_time": "2023-08-03T10:27:42.307Z"
   },
   {
    "duration": 80,
    "start_time": "2023-08-03T10:28:07.339Z"
   },
   {
    "duration": 9,
    "start_time": "2023-08-03T10:28:34.888Z"
   },
   {
    "duration": 8,
    "start_time": "2023-08-03T10:28:58.106Z"
   },
   {
    "duration": 7,
    "start_time": "2023-08-03T10:31:14.490Z"
   },
   {
    "duration": 5,
    "start_time": "2023-08-03T10:34:23.754Z"
   },
   {
    "duration": 7,
    "start_time": "2023-08-03T10:36:54.370Z"
   },
   {
    "duration": 7,
    "start_time": "2023-08-03T10:46:16.532Z"
   },
   {
    "duration": 860,
    "start_time": "2023-08-03T10:46:16.542Z"
   },
   {
    "duration": 22,
    "start_time": "2023-08-03T10:46:17.404Z"
   },
   {
    "duration": 26,
    "start_time": "2023-08-03T10:46:17.428Z"
   },
   {
    "duration": 148,
    "start_time": "2023-08-03T10:46:17.457Z"
   },
   {
    "duration": 24,
    "start_time": "2023-08-03T10:46:17.607Z"
   },
   {
    "duration": 33,
    "start_time": "2023-08-03T10:46:17.633Z"
   },
   {
    "duration": 35,
    "start_time": "2023-08-03T10:46:17.668Z"
   },
   {
    "duration": 27,
    "start_time": "2023-08-03T10:46:17.704Z"
   },
   {
    "duration": 22,
    "start_time": "2023-08-03T10:46:17.733Z"
   },
   {
    "duration": 112,
    "start_time": "2023-08-03T10:46:17.757Z"
   },
   {
    "duration": 37,
    "start_time": "2023-08-03T10:46:17.871Z"
   },
   {
    "duration": 4,
    "start_time": "2023-08-03T10:46:17.910Z"
   },
   {
    "duration": 26,
    "start_time": "2023-08-03T10:46:17.918Z"
   },
   {
    "duration": 18,
    "start_time": "2023-08-03T10:46:17.945Z"
   },
   {
    "duration": 16,
    "start_time": "2023-08-03T10:46:17.965Z"
   },
   {
    "duration": 1612,
    "start_time": "2023-08-03T10:46:17.983Z"
   },
   {
    "duration": 1474,
    "start_time": "2023-08-03T10:46:19.596Z"
   },
   {
    "duration": 1505,
    "start_time": "2023-08-03T10:46:21.072Z"
   },
   {
    "duration": 338,
    "start_time": "2023-08-03T10:46:22.579Z"
   },
   {
    "duration": 348,
    "start_time": "2023-08-03T10:46:22.919Z"
   },
   {
    "duration": 357,
    "start_time": "2023-08-03T10:46:23.269Z"
   },
   {
    "duration": 639,
    "start_time": "2023-08-03T10:46:23.628Z"
   },
   {
    "duration": 254,
    "start_time": "2023-08-03T10:46:24.268Z"
   },
   {
    "duration": 6,
    "start_time": "2023-08-03T10:46:24.524Z"
   },
   {
    "duration": 1725,
    "start_time": "2023-08-03T10:46:24.532Z"
   },
   {
    "duration": 7,
    "start_time": "2023-08-03T10:46:26.259Z"
   },
   {
    "duration": 65,
    "start_time": "2023-08-03T10:46:26.268Z"
   },
   {
    "duration": 64,
    "start_time": "2023-08-03T10:46:26.336Z"
   },
   {
    "duration": 23,
    "start_time": "2023-08-03T10:46:26.402Z"
   },
   {
    "duration": 32,
    "start_time": "2023-08-03T10:46:26.428Z"
   },
   {
    "duration": 7,
    "start_time": "2023-08-03T10:46:26.462Z"
   },
   {
    "duration": 26,
    "start_time": "2023-08-03T10:46:26.471Z"
   },
   {
    "duration": 6,
    "start_time": "2023-08-03T10:46:26.500Z"
   },
   {
    "duration": 12,
    "start_time": "2023-08-03T10:46:26.508Z"
   },
   {
    "duration": 17,
    "start_time": "2023-08-03T10:46:26.522Z"
   },
   {
    "duration": 0,
    "start_time": "2023-08-03T10:46:26.540Z"
   },
   {
    "duration": 0,
    "start_time": "2023-08-03T10:46:26.542Z"
   },
   {
    "duration": 0,
    "start_time": "2023-08-03T10:46:26.543Z"
   },
   {
    "duration": 0,
    "start_time": "2023-08-03T10:46:26.546Z"
   },
   {
    "duration": 0,
    "start_time": "2023-08-03T10:46:26.547Z"
   },
   {
    "duration": 0,
    "start_time": "2023-08-03T10:46:26.548Z"
   },
   {
    "duration": 11,
    "start_time": "2023-08-03T10:46:44.984Z"
   },
   {
    "duration": 5,
    "start_time": "2023-08-03T10:46:45.911Z"
   },
   {
    "duration": 4,
    "start_time": "2023-08-03T10:46:47.543Z"
   },
   {
    "duration": 5,
    "start_time": "2023-08-03T10:46:50.656Z"
   },
   {
    "duration": 5,
    "start_time": "2023-08-03T10:47:57.648Z"
   },
   {
    "duration": 1655,
    "start_time": "2023-08-03T10:55:46.188Z"
   },
   {
    "duration": 853,
    "start_time": "2023-08-03T10:55:47.845Z"
   },
   {
    "duration": 28,
    "start_time": "2023-08-03T10:55:48.702Z"
   },
   {
    "duration": 19,
    "start_time": "2023-08-03T10:55:48.733Z"
   },
   {
    "duration": 153,
    "start_time": "2023-08-03T10:55:48.754Z"
   },
   {
    "duration": 21,
    "start_time": "2023-08-03T10:55:48.909Z"
   },
   {
    "duration": 16,
    "start_time": "2023-08-03T10:55:48.932Z"
   },
   {
    "duration": 20,
    "start_time": "2023-08-03T10:55:48.950Z"
   },
   {
    "duration": 43,
    "start_time": "2023-08-03T10:55:48.972Z"
   },
   {
    "duration": 17,
    "start_time": "2023-08-03T10:55:49.016Z"
   },
   {
    "duration": 117,
    "start_time": "2023-08-03T10:55:49.035Z"
   },
   {
    "duration": 23,
    "start_time": "2023-08-03T10:55:49.154Z"
   },
   {
    "duration": 15,
    "start_time": "2023-08-03T10:55:49.180Z"
   },
   {
    "duration": 12,
    "start_time": "2023-08-03T10:55:49.197Z"
   },
   {
    "duration": 6,
    "start_time": "2023-08-03T10:55:49.211Z"
   },
   {
    "duration": 7,
    "start_time": "2023-08-03T10:55:49.218Z"
   },
   {
    "duration": 1560,
    "start_time": "2023-08-03T10:55:49.227Z"
   },
   {
    "duration": 1624,
    "start_time": "2023-08-03T10:55:50.789Z"
   },
   {
    "duration": 1504,
    "start_time": "2023-08-03T10:55:52.416Z"
   },
   {
    "duration": 311,
    "start_time": "2023-08-03T10:55:53.921Z"
   },
   {
    "duration": 351,
    "start_time": "2023-08-03T10:55:54.235Z"
   },
   {
    "duration": 349,
    "start_time": "2023-08-03T10:55:54.588Z"
   },
   {
    "duration": 846,
    "start_time": "2023-08-03T10:55:54.939Z"
   },
   {
    "duration": 278,
    "start_time": "2023-08-03T10:55:55.787Z"
   },
   {
    "duration": 6,
    "start_time": "2023-08-03T10:55:56.068Z"
   },
   {
    "duration": 1552,
    "start_time": "2023-08-03T10:55:56.076Z"
   },
   {
    "duration": 8,
    "start_time": "2023-08-03T10:55:57.629Z"
   },
   {
    "duration": 23,
    "start_time": "2023-08-03T10:55:57.639Z"
   },
   {
    "duration": 16,
    "start_time": "2023-08-03T10:55:57.664Z"
   },
   {
    "duration": 3,
    "start_time": "2023-08-03T10:55:57.695Z"
   },
   {
    "duration": 16,
    "start_time": "2023-08-03T10:55:57.700Z"
   },
   {
    "duration": 5,
    "start_time": "2023-08-03T10:55:57.718Z"
   },
   {
    "duration": 26,
    "start_time": "2023-08-03T10:55:57.725Z"
   },
   {
    "duration": 8,
    "start_time": "2023-08-03T10:55:57.753Z"
   },
   {
    "duration": 19,
    "start_time": "2023-08-03T10:55:57.762Z"
   },
   {
    "duration": 18,
    "start_time": "2023-08-03T10:55:57.783Z"
   },
   {
    "duration": 5,
    "start_time": "2023-08-03T10:55:57.803Z"
   },
   {
    "duration": 6,
    "start_time": "2023-08-03T10:55:57.811Z"
   },
   {
    "duration": 12,
    "start_time": "2023-08-03T10:55:57.819Z"
   },
   {
    "duration": 165,
    "start_time": "2023-08-03T10:55:57.835Z"
   },
   {
    "duration": 0,
    "start_time": "2023-08-03T10:55:58.003Z"
   },
   {
    "duration": 0,
    "start_time": "2023-08-03T10:55:58.005Z"
   },
   {
    "duration": 4,
    "start_time": "2023-08-03T10:59:51.024Z"
   },
   {
    "duration": 4,
    "start_time": "2023-08-03T10:59:51.944Z"
   },
   {
    "duration": 98,
    "start_time": "2023-08-03T10:59:53.119Z"
   },
   {
    "duration": 6,
    "start_time": "2023-08-03T11:02:22.613Z"
   },
   {
    "duration": 869,
    "start_time": "2023-08-03T11:02:22.622Z"
   },
   {
    "duration": 21,
    "start_time": "2023-08-03T11:02:23.493Z"
   },
   {
    "duration": 25,
    "start_time": "2023-08-03T11:02:23.516Z"
   },
   {
    "duration": 144,
    "start_time": "2023-08-03T11:02:23.543Z"
   },
   {
    "duration": 23,
    "start_time": "2023-08-03T11:02:23.694Z"
   },
   {
    "duration": 20,
    "start_time": "2023-08-03T11:02:23.719Z"
   },
   {
    "duration": 45,
    "start_time": "2023-08-03T11:02:23.741Z"
   },
   {
    "duration": 22,
    "start_time": "2023-08-03T11:02:23.788Z"
   },
   {
    "duration": 43,
    "start_time": "2023-08-03T11:02:23.812Z"
   },
   {
    "duration": 101,
    "start_time": "2023-08-03T11:02:23.857Z"
   },
   {
    "duration": 36,
    "start_time": "2023-08-03T11:02:23.960Z"
   },
   {
    "duration": 4,
    "start_time": "2023-08-03T11:02:23.998Z"
   },
   {
    "duration": 38,
    "start_time": "2023-08-03T11:02:24.007Z"
   },
   {
    "duration": 30,
    "start_time": "2023-08-03T11:02:24.047Z"
   },
   {
    "duration": 25,
    "start_time": "2023-08-03T11:02:24.079Z"
   },
   {
    "duration": 1781,
    "start_time": "2023-08-03T11:02:24.106Z"
   },
   {
    "duration": 1560,
    "start_time": "2023-08-03T11:02:25.889Z"
   },
   {
    "duration": 1452,
    "start_time": "2023-08-03T11:02:27.451Z"
   },
   {
    "duration": 335,
    "start_time": "2023-08-03T11:02:28.905Z"
   },
   {
    "duration": 336,
    "start_time": "2023-08-03T11:02:29.242Z"
   },
   {
    "duration": 335,
    "start_time": "2023-08-03T11:02:29.580Z"
   },
   {
    "duration": 672,
    "start_time": "2023-08-03T11:02:29.917Z"
   },
   {
    "duration": 239,
    "start_time": "2023-08-03T11:02:30.591Z"
   },
   {
    "duration": 6,
    "start_time": "2023-08-03T11:02:30.832Z"
   },
   {
    "duration": 1923,
    "start_time": "2023-08-03T11:02:30.839Z"
   },
   {
    "duration": 39,
    "start_time": "2023-08-03T11:02:32.764Z"
   },
   {
    "duration": 28,
    "start_time": "2023-08-03T11:02:32.805Z"
   },
   {
    "duration": 12,
    "start_time": "2023-08-03T11:02:32.835Z"
   },
   {
    "duration": 4,
    "start_time": "2023-08-03T11:02:32.848Z"
   },
   {
    "duration": 12,
    "start_time": "2023-08-03T11:02:32.853Z"
   },
   {
    "duration": 9,
    "start_time": "2023-08-03T11:02:32.867Z"
   },
   {
    "duration": 24,
    "start_time": "2023-08-03T11:02:32.877Z"
   },
   {
    "duration": 6,
    "start_time": "2023-08-03T11:02:32.903Z"
   },
   {
    "duration": 34,
    "start_time": "2023-08-03T11:02:32.910Z"
   },
   {
    "duration": 12,
    "start_time": "2023-08-03T11:02:32.946Z"
   },
   {
    "duration": 11,
    "start_time": "2023-08-03T11:02:32.959Z"
   },
   {
    "duration": 20,
    "start_time": "2023-08-03T11:02:32.971Z"
   },
   {
    "duration": 15,
    "start_time": "2023-08-03T11:02:32.993Z"
   },
   {
    "duration": 150389,
    "start_time": "2023-08-03T11:02:33.010Z"
   },
   {
    "duration": 97,
    "start_time": "2023-08-03T11:05:03.406Z"
   },
   {
    "duration": 0,
    "start_time": "2023-08-03T11:05:03.505Z"
   },
   {
    "duration": 9,
    "start_time": "2023-08-03T11:06:13.319Z"
   },
   {
    "duration": 10,
    "start_time": "2023-08-03T11:06:39.086Z"
   },
   {
    "duration": 28,
    "start_time": "2023-08-03T11:09:45.590Z"
   },
   {
    "duration": 11,
    "start_time": "2023-08-03T11:09:57.791Z"
   },
   {
    "duration": 5,
    "start_time": "2023-08-03T11:17:22.458Z"
   },
   {
    "duration": 902,
    "start_time": "2023-08-03T11:17:22.465Z"
   },
   {
    "duration": 27,
    "start_time": "2023-08-03T11:17:23.369Z"
   },
   {
    "duration": 25,
    "start_time": "2023-08-03T11:17:23.404Z"
   },
   {
    "duration": 137,
    "start_time": "2023-08-03T11:17:23.431Z"
   },
   {
    "duration": 39,
    "start_time": "2023-08-03T11:17:23.570Z"
   },
   {
    "duration": 15,
    "start_time": "2023-08-03T11:17:23.615Z"
   },
   {
    "duration": 22,
    "start_time": "2023-08-03T11:17:23.631Z"
   },
   {
    "duration": 21,
    "start_time": "2023-08-03T11:17:23.655Z"
   },
   {
    "duration": 36,
    "start_time": "2023-08-03T11:17:23.678Z"
   },
   {
    "duration": 107,
    "start_time": "2023-08-03T11:17:23.716Z"
   },
   {
    "duration": 19,
    "start_time": "2023-08-03T11:17:23.825Z"
   },
   {
    "duration": 5,
    "start_time": "2023-08-03T11:17:23.845Z"
   },
   {
    "duration": 15,
    "start_time": "2023-08-03T11:17:23.853Z"
   },
   {
    "duration": 27,
    "start_time": "2023-08-03T11:17:23.870Z"
   },
   {
    "duration": 41,
    "start_time": "2023-08-03T11:17:23.899Z"
   },
   {
    "duration": 1706,
    "start_time": "2023-08-03T11:17:23.942Z"
   },
   {
    "duration": 1694,
    "start_time": "2023-08-03T11:17:25.650Z"
   },
   {
    "duration": 1612,
    "start_time": "2023-08-03T11:17:27.346Z"
   },
   {
    "duration": 330,
    "start_time": "2023-08-03T11:17:28.960Z"
   },
   {
    "duration": 351,
    "start_time": "2023-08-03T11:17:29.294Z"
   },
   {
    "duration": 357,
    "start_time": "2023-08-03T11:17:29.648Z"
   },
   {
    "duration": 710,
    "start_time": "2023-08-03T11:17:30.006Z"
   },
   {
    "duration": 242,
    "start_time": "2023-08-03T11:17:30.718Z"
   },
   {
    "duration": 6,
    "start_time": "2023-08-03T11:17:30.962Z"
   },
   {
    "duration": 1670,
    "start_time": "2023-08-03T11:17:30.970Z"
   },
   {
    "duration": 6,
    "start_time": "2023-08-03T11:17:32.642Z"
   },
   {
    "duration": 32,
    "start_time": "2023-08-03T11:17:32.650Z"
   },
   {
    "duration": 34,
    "start_time": "2023-08-03T11:17:32.684Z"
   },
   {
    "duration": 41,
    "start_time": "2023-08-03T11:17:32.720Z"
   },
   {
    "duration": 22,
    "start_time": "2023-08-03T11:17:32.763Z"
   },
   {
    "duration": 6,
    "start_time": "2023-08-03T11:17:32.787Z"
   },
   {
    "duration": 48,
    "start_time": "2023-08-03T11:17:32.795Z"
   },
   {
    "duration": 9,
    "start_time": "2023-08-03T11:17:32.845Z"
   },
   {
    "duration": 33,
    "start_time": "2023-08-03T11:17:32.856Z"
   },
   {
    "duration": 38,
    "start_time": "2023-08-03T11:17:32.892Z"
   },
   {
    "duration": 24,
    "start_time": "2023-08-03T11:17:32.931Z"
   },
   {
    "duration": 15,
    "start_time": "2023-08-03T11:17:32.957Z"
   },
   {
    "duration": 8,
    "start_time": "2023-08-03T11:17:32.974Z"
   },
   {
    "duration": 182622,
    "start_time": "2023-08-03T11:17:32.984Z"
   },
   {
    "duration": 86,
    "start_time": "2023-08-03T11:20:35.611Z"
   },
   {
    "duration": 47,
    "start_time": "2023-08-03T11:20:35.706Z"
   },
   {
    "duration": 5,
    "start_time": "2023-08-03T11:23:03.971Z"
   },
   {
    "duration": 23,
    "start_time": "2023-08-03T11:23:32.693Z"
   },
   {
    "duration": 5,
    "start_time": "2023-08-03T11:23:47.469Z"
   },
   {
    "duration": 24,
    "start_time": "2023-08-03T11:27:07.971Z"
   },
   {
    "duration": 16,
    "start_time": "2023-08-03T11:27:26.692Z"
   },
   {
    "duration": 4,
    "start_time": "2023-08-03T11:37:19.525Z"
   },
   {
    "duration": 834,
    "start_time": "2023-08-03T11:37:19.531Z"
   },
   {
    "duration": 21,
    "start_time": "2023-08-03T11:37:20.366Z"
   },
   {
    "duration": 29,
    "start_time": "2023-08-03T11:37:20.398Z"
   },
   {
    "duration": 126,
    "start_time": "2023-08-03T11:37:20.429Z"
   },
   {
    "duration": 21,
    "start_time": "2023-08-03T11:37:20.557Z"
   },
   {
    "duration": 30,
    "start_time": "2023-08-03T11:37:20.579Z"
   },
   {
    "duration": 37,
    "start_time": "2023-08-03T11:37:20.611Z"
   },
   {
    "duration": 43,
    "start_time": "2023-08-03T11:37:20.650Z"
   },
   {
    "duration": 53,
    "start_time": "2023-08-03T11:37:20.706Z"
   },
   {
    "duration": 130,
    "start_time": "2023-08-03T11:37:20.761Z"
   },
   {
    "duration": 26,
    "start_time": "2023-08-03T11:37:20.897Z"
   },
   {
    "duration": 15,
    "start_time": "2023-08-03T11:37:20.925Z"
   },
   {
    "duration": 40,
    "start_time": "2023-08-03T11:37:20.944Z"
   },
   {
    "duration": 17,
    "start_time": "2023-08-03T11:37:20.986Z"
   },
   {
    "duration": 14,
    "start_time": "2023-08-03T11:37:21.010Z"
   },
   {
    "duration": 1746,
    "start_time": "2023-08-03T11:37:21.025Z"
   },
   {
    "duration": 1516,
    "start_time": "2023-08-03T11:37:22.773Z"
   },
   {
    "duration": 1597,
    "start_time": "2023-08-03T11:37:24.295Z"
   },
   {
    "duration": 368,
    "start_time": "2023-08-03T11:37:25.895Z"
   },
   {
    "duration": 408,
    "start_time": "2023-08-03T11:37:26.266Z"
   },
   {
    "duration": 556,
    "start_time": "2023-08-03T11:37:26.676Z"
   },
   {
    "duration": 631,
    "start_time": "2023-08-03T11:37:27.235Z"
   },
   {
    "duration": 251,
    "start_time": "2023-08-03T11:37:27.868Z"
   },
   {
    "duration": 8,
    "start_time": "2023-08-03T11:37:28.122Z"
   },
   {
    "duration": 1625,
    "start_time": "2023-08-03T11:37:28.132Z"
   },
   {
    "duration": 6,
    "start_time": "2023-08-03T11:37:29.759Z"
   },
   {
    "duration": 42,
    "start_time": "2023-08-03T11:37:29.767Z"
   },
   {
    "duration": 21,
    "start_time": "2023-08-03T11:37:29.811Z"
   },
   {
    "duration": 9,
    "start_time": "2023-08-03T11:37:29.835Z"
   },
   {
    "duration": 32,
    "start_time": "2023-08-03T11:37:29.846Z"
   },
   {
    "duration": 12,
    "start_time": "2023-08-03T11:37:29.880Z"
   },
   {
    "duration": 42,
    "start_time": "2023-08-03T11:37:29.894Z"
   },
   {
    "duration": 44,
    "start_time": "2023-08-03T11:37:29.938Z"
   },
   {
    "duration": 32,
    "start_time": "2023-08-03T11:37:29.984Z"
   },
   {
    "duration": 45,
    "start_time": "2023-08-03T11:37:30.018Z"
   },
   {
    "duration": 73,
    "start_time": "2023-08-03T11:37:30.065Z"
   },
   {
    "duration": 77,
    "start_time": "2023-08-03T11:37:30.139Z"
   },
   {
    "duration": 32,
    "start_time": "2023-08-03T11:37:30.218Z"
   },
   {
    "duration": 44,
    "start_time": "2023-08-03T11:37:30.252Z"
   },
   {
    "duration": 130,
    "start_time": "2023-08-03T11:37:30.303Z"
   },
   {
    "duration": 0,
    "start_time": "2023-08-03T11:37:30.434Z"
   },
   {
    "duration": 0,
    "start_time": "2023-08-03T11:37:30.436Z"
   },
   {
    "duration": 4,
    "start_time": "2023-08-03T11:40:19.122Z"
   },
   {
    "duration": 8,
    "start_time": "2023-08-03T11:40:22.191Z"
   },
   {
    "duration": 877,
    "start_time": "2023-08-03T11:40:22.205Z"
   },
   {
    "duration": 30,
    "start_time": "2023-08-03T11:40:23.083Z"
   },
   {
    "duration": 30,
    "start_time": "2023-08-03T11:40:23.115Z"
   },
   {
    "duration": 139,
    "start_time": "2023-08-03T11:40:23.147Z"
   },
   {
    "duration": 33,
    "start_time": "2023-08-03T11:40:23.287Z"
   },
   {
    "duration": 12,
    "start_time": "2023-08-03T11:40:23.322Z"
   },
   {
    "duration": 21,
    "start_time": "2023-08-03T11:40:23.336Z"
   },
   {
    "duration": 52,
    "start_time": "2023-08-03T11:40:23.359Z"
   },
   {
    "duration": 26,
    "start_time": "2023-08-03T11:40:23.414Z"
   },
   {
    "duration": 100,
    "start_time": "2023-08-03T11:40:23.441Z"
   },
   {
    "duration": 21,
    "start_time": "2023-08-03T11:40:23.542Z"
   },
   {
    "duration": 3,
    "start_time": "2023-08-03T11:40:23.565Z"
   },
   {
    "duration": 41,
    "start_time": "2023-08-03T11:40:23.571Z"
   },
   {
    "duration": 4,
    "start_time": "2023-08-03T11:40:23.614Z"
   },
   {
    "duration": 8,
    "start_time": "2023-08-03T11:40:23.620Z"
   },
   {
    "duration": 1702,
    "start_time": "2023-08-03T11:40:23.629Z"
   },
   {
    "duration": 1794,
    "start_time": "2023-08-03T11:40:25.332Z"
   },
   {
    "duration": 1678,
    "start_time": "2023-08-03T11:40:27.128Z"
   },
   {
    "duration": 348,
    "start_time": "2023-08-03T11:40:28.809Z"
   },
   {
    "duration": 351,
    "start_time": "2023-08-03T11:40:29.159Z"
   },
   {
    "duration": 348,
    "start_time": "2023-08-03T11:40:29.512Z"
   },
   {
    "duration": 654,
    "start_time": "2023-08-03T11:40:29.862Z"
   },
   {
    "duration": 420,
    "start_time": "2023-08-03T11:40:30.518Z"
   },
   {
    "duration": 7,
    "start_time": "2023-08-03T11:40:30.941Z"
   },
   {
    "duration": 1884,
    "start_time": "2023-08-03T11:40:30.950Z"
   },
   {
    "duration": 68,
    "start_time": "2023-08-03T11:40:32.837Z"
   },
   {
    "duration": 21,
    "start_time": "2023-08-03T11:40:32.910Z"
   },
   {
    "duration": 20,
    "start_time": "2023-08-03T11:40:32.933Z"
   },
   {
    "duration": 4,
    "start_time": "2023-08-03T11:40:32.955Z"
   },
   {
    "duration": 39,
    "start_time": "2023-08-03T11:40:32.960Z"
   },
   {
    "duration": 14,
    "start_time": "2023-08-03T11:40:33.001Z"
   },
   {
    "duration": 24,
    "start_time": "2023-08-03T11:40:33.017Z"
   },
   {
    "duration": 6,
    "start_time": "2023-08-03T11:40:33.043Z"
   },
   {
    "duration": 11,
    "start_time": "2023-08-03T11:40:33.050Z"
   },
   {
    "duration": 12,
    "start_time": "2023-08-03T11:40:33.063Z"
   },
   {
    "duration": 9,
    "start_time": "2023-08-03T11:40:33.077Z"
   },
   {
    "duration": 5,
    "start_time": "2023-08-03T11:40:33.088Z"
   },
   {
    "duration": 23,
    "start_time": "2023-08-03T11:40:33.094Z"
   },
   {
    "duration": 15,
    "start_time": "2023-08-03T11:40:33.119Z"
   },
   {
    "duration": 0,
    "start_time": "2023-08-03T11:43:27.616Z"
   },
   {
    "duration": 0,
    "start_time": "2023-08-03T11:43:27.620Z"
   },
   {
    "duration": 0,
    "start_time": "2023-08-03T11:43:27.621Z"
   },
   {
    "duration": 0,
    "start_time": "2023-08-03T11:43:27.622Z"
   },
   {
    "duration": 0,
    "start_time": "2023-08-03T11:43:27.623Z"
   },
   {
    "duration": 0,
    "start_time": "2023-08-03T11:43:27.625Z"
   },
   {
    "duration": 0,
    "start_time": "2023-08-03T11:43:27.628Z"
   },
   {
    "duration": 0,
    "start_time": "2023-08-03T11:43:27.629Z"
   },
   {
    "duration": 0,
    "start_time": "2023-08-03T11:43:27.630Z"
   },
   {
    "duration": 0,
    "start_time": "2023-08-03T11:43:27.632Z"
   },
   {
    "duration": 0,
    "start_time": "2023-08-03T11:43:27.633Z"
   },
   {
    "duration": 0,
    "start_time": "2023-08-03T11:43:27.635Z"
   },
   {
    "duration": 0,
    "start_time": "2023-08-03T11:43:27.636Z"
   },
   {
    "duration": 0,
    "start_time": "2023-08-03T11:43:27.637Z"
   },
   {
    "duration": 0,
    "start_time": "2023-08-03T11:43:27.638Z"
   },
   {
    "duration": 0,
    "start_time": "2023-08-03T11:43:27.640Z"
   },
   {
    "duration": 0,
    "start_time": "2023-08-03T11:43:27.641Z"
   },
   {
    "duration": 0,
    "start_time": "2023-08-03T11:43:27.642Z"
   },
   {
    "duration": 0,
    "start_time": "2023-08-03T11:43:27.644Z"
   },
   {
    "duration": 0,
    "start_time": "2023-08-03T11:43:27.644Z"
   },
   {
    "duration": 0,
    "start_time": "2023-08-03T11:43:27.646Z"
   },
   {
    "duration": 0,
    "start_time": "2023-08-03T11:43:27.647Z"
   },
   {
    "duration": 0,
    "start_time": "2023-08-03T11:43:27.648Z"
   },
   {
    "duration": 0,
    "start_time": "2023-08-03T11:43:27.649Z"
   },
   {
    "duration": 0,
    "start_time": "2023-08-03T11:43:27.651Z"
   },
   {
    "duration": 0,
    "start_time": "2023-08-03T11:43:27.701Z"
   },
   {
    "duration": 0,
    "start_time": "2023-08-03T11:43:27.706Z"
   },
   {
    "duration": 0,
    "start_time": "2023-08-03T11:43:27.710Z"
   },
   {
    "duration": 0,
    "start_time": "2023-08-03T11:43:27.711Z"
   },
   {
    "duration": 0,
    "start_time": "2023-08-03T11:43:27.712Z"
   },
   {
    "duration": 0,
    "start_time": "2023-08-03T11:43:27.714Z"
   },
   {
    "duration": 0,
    "start_time": "2023-08-03T11:43:27.715Z"
   },
   {
    "duration": 0,
    "start_time": "2023-08-03T11:43:27.717Z"
   },
   {
    "duration": 0,
    "start_time": "2023-08-03T11:43:27.718Z"
   },
   {
    "duration": 0,
    "start_time": "2023-08-03T11:43:27.720Z"
   },
   {
    "duration": 0,
    "start_time": "2023-08-03T11:43:27.722Z"
   },
   {
    "duration": 0,
    "start_time": "2023-08-03T11:43:27.723Z"
   },
   {
    "duration": 0,
    "start_time": "2023-08-03T11:43:27.725Z"
   },
   {
    "duration": 0,
    "start_time": "2023-08-03T11:43:27.729Z"
   },
   {
    "duration": 0,
    "start_time": "2023-08-03T11:43:27.731Z"
   },
   {
    "duration": 0,
    "start_time": "2023-08-03T11:43:27.732Z"
   },
   {
    "duration": 0,
    "start_time": "2023-08-03T11:43:27.734Z"
   },
   {
    "duration": 0,
    "start_time": "2023-08-03T11:43:27.735Z"
   },
   {
    "duration": 4,
    "start_time": "2023-08-03T12:10:24.684Z"
   },
   {
    "duration": 853,
    "start_time": "2023-08-03T12:10:24.690Z"
   },
   {
    "duration": 22,
    "start_time": "2023-08-03T12:10:25.544Z"
   },
   {
    "duration": 60,
    "start_time": "2023-08-03T12:10:25.568Z"
   },
   {
    "duration": 126,
    "start_time": "2023-08-03T12:10:25.630Z"
   },
   {
    "duration": 22,
    "start_time": "2023-08-03T12:10:25.758Z"
   },
   {
    "duration": 22,
    "start_time": "2023-08-03T12:10:25.782Z"
   },
   {
    "duration": 23,
    "start_time": "2023-08-03T12:10:25.806Z"
   },
   {
    "duration": 23,
    "start_time": "2023-08-03T12:10:25.831Z"
   },
   {
    "duration": 49,
    "start_time": "2023-08-03T12:10:25.858Z"
   },
   {
    "duration": 105,
    "start_time": "2023-08-03T12:10:25.909Z"
   },
   {
    "duration": 23,
    "start_time": "2023-08-03T12:10:26.016Z"
   },
   {
    "duration": 3,
    "start_time": "2023-08-03T12:10:26.040Z"
   },
   {
    "duration": 26,
    "start_time": "2023-08-03T12:10:26.045Z"
   },
   {
    "duration": 8,
    "start_time": "2023-08-03T12:10:26.072Z"
   },
   {
    "duration": 15,
    "start_time": "2023-08-03T12:10:26.082Z"
   },
   {
    "duration": 1626,
    "start_time": "2023-08-03T12:10:26.099Z"
   },
   {
    "duration": 1600,
    "start_time": "2023-08-03T12:10:27.727Z"
   },
   {
    "duration": 1775,
    "start_time": "2023-08-03T12:10:29.329Z"
   },
   {
    "duration": 341,
    "start_time": "2023-08-03T12:10:31.106Z"
   },
   {
    "duration": 353,
    "start_time": "2023-08-03T12:10:31.449Z"
   },
   {
    "duration": 385,
    "start_time": "2023-08-03T12:10:31.804Z"
   },
   {
    "duration": 600,
    "start_time": "2023-08-03T12:10:32.194Z"
   },
   {
    "duration": 314,
    "start_time": "2023-08-03T12:10:32.795Z"
   },
   {
    "duration": 6,
    "start_time": "2023-08-03T12:10:33.110Z"
   },
   {
    "duration": 1728,
    "start_time": "2023-08-03T12:10:33.118Z"
   },
   {
    "duration": 6,
    "start_time": "2023-08-03T12:10:34.848Z"
   },
   {
    "duration": 45,
    "start_time": "2023-08-03T12:10:34.858Z"
   },
   {
    "duration": 61,
    "start_time": "2023-08-03T12:10:34.905Z"
   },
   {
    "duration": 4,
    "start_time": "2023-08-03T12:10:34.967Z"
   },
   {
    "duration": 31,
    "start_time": "2023-08-03T12:10:34.972Z"
   },
   {
    "duration": 31,
    "start_time": "2023-08-03T12:10:35.005Z"
   },
   {
    "duration": 38,
    "start_time": "2023-08-03T12:10:35.038Z"
   },
   {
    "duration": 30,
    "start_time": "2023-08-03T12:10:35.077Z"
   },
   {
    "duration": 29,
    "start_time": "2023-08-03T12:10:35.108Z"
   },
   {
    "duration": 26,
    "start_time": "2023-08-03T12:10:35.139Z"
   },
   {
    "duration": 32,
    "start_time": "2023-08-03T12:10:35.167Z"
   },
   {
    "duration": 32,
    "start_time": "2023-08-03T12:10:35.201Z"
   },
   {
    "duration": 35,
    "start_time": "2023-08-03T12:10:35.235Z"
   },
   {
    "duration": 18,
    "start_time": "2023-08-03T12:10:35.272Z"
   },
   {
    "duration": 130,
    "start_time": "2023-08-03T12:10:35.292Z"
   },
   {
    "duration": 0,
    "start_time": "2023-08-03T12:10:35.425Z"
   },
   {
    "duration": 0,
    "start_time": "2023-08-03T12:10:35.426Z"
   },
   {
    "duration": 5,
    "start_time": "2023-08-03T12:12:01.650Z"
   },
   {
    "duration": 860,
    "start_time": "2023-08-03T12:12:01.657Z"
   },
   {
    "duration": 24,
    "start_time": "2023-08-03T12:12:02.519Z"
   },
   {
    "duration": 63,
    "start_time": "2023-08-03T12:12:02.545Z"
   },
   {
    "duration": 125,
    "start_time": "2023-08-03T12:12:02.611Z"
   },
   {
    "duration": 23,
    "start_time": "2023-08-03T12:12:02.738Z"
   },
   {
    "duration": 15,
    "start_time": "2023-08-03T12:12:02.763Z"
   },
   {
    "duration": 36,
    "start_time": "2023-08-03T12:12:02.779Z"
   },
   {
    "duration": 24,
    "start_time": "2023-08-03T12:12:02.817Z"
   },
   {
    "duration": 28,
    "start_time": "2023-08-03T12:12:02.843Z"
   },
   {
    "duration": 113,
    "start_time": "2023-08-03T12:12:02.873Z"
   },
   {
    "duration": 29,
    "start_time": "2023-08-03T12:12:02.988Z"
   },
   {
    "duration": 3,
    "start_time": "2023-08-03T12:12:03.020Z"
   },
   {
    "duration": 43,
    "start_time": "2023-08-03T12:12:03.026Z"
   },
   {
    "duration": 7,
    "start_time": "2023-08-03T12:12:03.071Z"
   },
   {
    "duration": 9,
    "start_time": "2023-08-03T12:12:03.079Z"
   },
   {
    "duration": 1613,
    "start_time": "2023-08-03T12:12:03.089Z"
   },
   {
    "duration": 1672,
    "start_time": "2023-08-03T12:12:04.704Z"
   },
   {
    "duration": 1595,
    "start_time": "2023-08-03T12:12:06.378Z"
   },
   {
    "duration": 508,
    "start_time": "2023-08-03T12:12:07.975Z"
   },
   {
    "duration": 345,
    "start_time": "2023-08-03T12:12:08.485Z"
   },
   {
    "duration": 364,
    "start_time": "2023-08-03T12:12:08.832Z"
   },
   {
    "duration": 684,
    "start_time": "2023-08-03T12:12:09.198Z"
   },
   {
    "duration": 242,
    "start_time": "2023-08-03T12:12:09.884Z"
   },
   {
    "duration": 6,
    "start_time": "2023-08-03T12:12:10.127Z"
   },
   {
    "duration": 1626,
    "start_time": "2023-08-03T12:12:10.135Z"
   },
   {
    "duration": 7,
    "start_time": "2023-08-03T12:12:11.763Z"
   },
   {
    "duration": 33,
    "start_time": "2023-08-03T12:12:11.772Z"
   },
   {
    "duration": 27,
    "start_time": "2023-08-03T12:12:11.807Z"
   },
   {
    "duration": 7,
    "start_time": "2023-08-03T12:12:11.836Z"
   },
   {
    "duration": 32,
    "start_time": "2023-08-03T12:12:11.845Z"
   },
   {
    "duration": 18,
    "start_time": "2023-08-03T12:12:11.879Z"
   },
   {
    "duration": 32,
    "start_time": "2023-08-03T12:12:11.899Z"
   },
   {
    "duration": 6,
    "start_time": "2023-08-03T12:12:11.934Z"
   },
   {
    "duration": 11,
    "start_time": "2023-08-03T12:12:11.942Z"
   },
   {
    "duration": 11,
    "start_time": "2023-08-03T12:12:11.956Z"
   },
   {
    "duration": 29,
    "start_time": "2023-08-03T12:12:11.969Z"
   },
   {
    "duration": 17,
    "start_time": "2023-08-03T12:12:11.999Z"
   },
   {
    "duration": 13,
    "start_time": "2023-08-03T12:12:12.018Z"
   },
   {
    "duration": 16,
    "start_time": "2023-08-03T12:12:12.033Z"
   },
   {
    "duration": 97,
    "start_time": "2023-08-03T12:12:12.053Z"
   },
   {
    "duration": 0,
    "start_time": "2023-08-03T12:12:12.152Z"
   },
   {
    "duration": 0,
    "start_time": "2023-08-03T12:12:12.153Z"
   },
   {
    "duration": 5,
    "start_time": "2023-08-03T12:16:59.013Z"
   },
   {
    "duration": 905,
    "start_time": "2023-08-03T12:16:59.021Z"
   },
   {
    "duration": 21,
    "start_time": "2023-08-03T12:16:59.928Z"
   },
   {
    "duration": 44,
    "start_time": "2023-08-03T12:16:59.950Z"
   },
   {
    "duration": 140,
    "start_time": "2023-08-03T12:16:59.998Z"
   },
   {
    "duration": 22,
    "start_time": "2023-08-03T12:17:00.139Z"
   },
   {
    "duration": 50,
    "start_time": "2023-08-03T12:17:00.163Z"
   },
   {
    "duration": 38,
    "start_time": "2023-08-03T12:17:00.214Z"
   },
   {
    "duration": 23,
    "start_time": "2023-08-03T12:17:00.254Z"
   },
   {
    "duration": 59,
    "start_time": "2023-08-03T12:17:00.279Z"
   },
   {
    "duration": 110,
    "start_time": "2023-08-03T12:17:00.340Z"
   },
   {
    "duration": 26,
    "start_time": "2023-08-03T12:17:00.452Z"
   },
   {
    "duration": 13,
    "start_time": "2023-08-03T12:17:00.480Z"
   },
   {
    "duration": 43,
    "start_time": "2023-08-03T12:17:00.498Z"
   },
   {
    "duration": 34,
    "start_time": "2023-08-03T12:17:00.543Z"
   },
   {
    "duration": 46,
    "start_time": "2023-08-03T12:17:00.579Z"
   },
   {
    "duration": 1919,
    "start_time": "2023-08-03T12:17:00.626Z"
   },
   {
    "duration": 1670,
    "start_time": "2023-08-03T12:17:02.547Z"
   },
   {
    "duration": 1738,
    "start_time": "2023-08-03T12:17:04.219Z"
   },
   {
    "duration": 403,
    "start_time": "2023-08-03T12:17:05.959Z"
   },
   {
    "duration": 421,
    "start_time": "2023-08-03T12:17:06.364Z"
   },
   {
    "duration": 402,
    "start_time": "2023-08-03T12:17:06.788Z"
   },
   {
    "duration": 826,
    "start_time": "2023-08-03T12:17:07.195Z"
   },
   {
    "duration": 247,
    "start_time": "2023-08-03T12:17:08.023Z"
   },
   {
    "duration": 6,
    "start_time": "2023-08-03T12:17:08.272Z"
   },
   {
    "duration": 1677,
    "start_time": "2023-08-03T12:17:08.280Z"
   },
   {
    "duration": 7,
    "start_time": "2023-08-03T12:17:09.959Z"
   },
   {
    "duration": 28,
    "start_time": "2023-08-03T12:17:09.968Z"
   },
   {
    "duration": 15,
    "start_time": "2023-08-03T12:17:09.998Z"
   },
   {
    "duration": 12,
    "start_time": "2023-08-03T12:17:10.015Z"
   },
   {
    "duration": 15,
    "start_time": "2023-08-03T12:17:10.029Z"
   },
   {
    "duration": 12,
    "start_time": "2023-08-03T12:17:10.045Z"
   },
   {
    "duration": 27,
    "start_time": "2023-08-03T12:17:10.059Z"
   },
   {
    "duration": 7,
    "start_time": "2023-08-03T12:17:10.087Z"
   },
   {
    "duration": 13,
    "start_time": "2023-08-03T12:17:10.096Z"
   },
   {
    "duration": 10,
    "start_time": "2023-08-03T12:17:10.111Z"
   },
   {
    "duration": 12,
    "start_time": "2023-08-03T12:17:10.123Z"
   },
   {
    "duration": 8,
    "start_time": "2023-08-03T12:17:10.137Z"
   },
   {
    "duration": 8,
    "start_time": "2023-08-03T12:17:10.147Z"
   },
   {
    "duration": 8,
    "start_time": "2023-08-03T12:17:10.156Z"
   },
   {
    "duration": 101,
    "start_time": "2023-08-03T12:17:10.168Z"
   },
   {
    "duration": 0,
    "start_time": "2023-08-03T12:17:10.272Z"
   },
   {
    "duration": 0,
    "start_time": "2023-08-03T12:17:10.273Z"
   },
   {
    "duration": 1514,
    "start_time": "2023-08-03T12:17:37.875Z"
   },
   {
    "duration": 839,
    "start_time": "2023-08-03T12:17:39.392Z"
   },
   {
    "duration": 26,
    "start_time": "2023-08-03T12:17:40.232Z"
   },
   {
    "duration": 35,
    "start_time": "2023-08-03T12:17:40.260Z"
   },
   {
    "duration": 134,
    "start_time": "2023-08-03T12:17:40.299Z"
   },
   {
    "duration": 24,
    "start_time": "2023-08-03T12:17:40.435Z"
   },
   {
    "duration": 39,
    "start_time": "2023-08-03T12:17:40.461Z"
   },
   {
    "duration": 28,
    "start_time": "2023-08-03T12:17:40.502Z"
   },
   {
    "duration": 33,
    "start_time": "2023-08-03T12:17:40.532Z"
   },
   {
    "duration": 40,
    "start_time": "2023-08-03T12:17:40.567Z"
   },
   {
    "duration": 120,
    "start_time": "2023-08-03T12:17:40.609Z"
   },
   {
    "duration": 25,
    "start_time": "2023-08-03T12:17:40.731Z"
   },
   {
    "duration": 4,
    "start_time": "2023-08-03T12:17:40.758Z"
   },
   {
    "duration": 30,
    "start_time": "2023-08-03T12:17:40.766Z"
   },
   {
    "duration": 4,
    "start_time": "2023-08-03T12:17:40.799Z"
   },
   {
    "duration": 10,
    "start_time": "2023-08-03T12:17:40.805Z"
   },
   {
    "duration": 1659,
    "start_time": "2023-08-03T12:17:40.816Z"
   },
   {
    "duration": 1527,
    "start_time": "2023-08-03T12:17:42.477Z"
   },
   {
    "duration": 1435,
    "start_time": "2023-08-03T12:17:44.006Z"
   },
   {
    "duration": 323,
    "start_time": "2023-08-03T12:17:45.444Z"
   },
   {
    "duration": 348,
    "start_time": "2023-08-03T12:17:45.769Z"
   },
   {
    "duration": 379,
    "start_time": "2023-08-03T12:17:46.118Z"
   },
   {
    "duration": 764,
    "start_time": "2023-08-03T12:17:46.500Z"
   },
   {
    "duration": 257,
    "start_time": "2023-08-03T12:17:47.265Z"
   },
   {
    "duration": 8,
    "start_time": "2023-08-03T12:17:47.524Z"
   },
   {
    "duration": 1709,
    "start_time": "2023-08-03T12:17:47.534Z"
   },
   {
    "duration": 7,
    "start_time": "2023-08-03T12:17:49.245Z"
   },
   {
    "duration": 38,
    "start_time": "2023-08-03T12:17:49.254Z"
   },
   {
    "duration": 44,
    "start_time": "2023-08-03T12:17:49.294Z"
   },
   {
    "duration": 7,
    "start_time": "2023-08-03T12:17:49.340Z"
   },
   {
    "duration": 46,
    "start_time": "2023-08-03T12:17:49.348Z"
   },
   {
    "duration": 27,
    "start_time": "2023-08-03T12:17:49.396Z"
   },
   {
    "duration": 46,
    "start_time": "2023-08-03T12:17:49.426Z"
   },
   {
    "duration": 16,
    "start_time": "2023-08-03T12:17:49.474Z"
   },
   {
    "duration": 46,
    "start_time": "2023-08-03T12:17:49.492Z"
   },
   {
    "duration": 40,
    "start_time": "2023-08-03T12:17:49.540Z"
   },
   {
    "duration": 47,
    "start_time": "2023-08-03T12:17:49.582Z"
   },
   {
    "duration": 29,
    "start_time": "2023-08-03T12:17:49.631Z"
   },
   {
    "duration": 40,
    "start_time": "2023-08-03T12:17:49.662Z"
   },
   {
    "duration": 53,
    "start_time": "2023-08-03T12:17:49.704Z"
   },
   {
    "duration": 209,
    "start_time": "2023-08-03T12:17:49.760Z"
   },
   {
    "duration": 0,
    "start_time": "2023-08-03T12:17:49.971Z"
   },
   {
    "duration": 0,
    "start_time": "2023-08-03T12:17:49.972Z"
   },
   {
    "duration": 8,
    "start_time": "2023-08-03T12:19:35.767Z"
   },
   {
    "duration": 5,
    "start_time": "2023-08-03T12:25:04.076Z"
   },
   {
    "duration": 851,
    "start_time": "2023-08-03T12:25:04.083Z"
   },
   {
    "duration": 22,
    "start_time": "2023-08-03T12:25:04.936Z"
   },
   {
    "duration": 20,
    "start_time": "2023-08-03T12:25:04.960Z"
   },
   {
    "duration": 129,
    "start_time": "2023-08-03T12:25:04.995Z"
   },
   {
    "duration": 21,
    "start_time": "2023-08-03T12:25:05.126Z"
   },
   {
    "duration": 13,
    "start_time": "2023-08-03T12:25:05.148Z"
   },
   {
    "duration": 44,
    "start_time": "2023-08-03T12:25:05.162Z"
   },
   {
    "duration": 21,
    "start_time": "2023-08-03T12:25:05.208Z"
   },
   {
    "duration": 28,
    "start_time": "2023-08-03T12:25:05.231Z"
   },
   {
    "duration": 120,
    "start_time": "2023-08-03T12:25:05.261Z"
   },
   {
    "duration": 26,
    "start_time": "2023-08-03T12:25:05.383Z"
   },
   {
    "duration": 4,
    "start_time": "2023-08-03T12:25:05.411Z"
   },
   {
    "duration": 23,
    "start_time": "2023-08-03T12:25:05.418Z"
   },
   {
    "duration": 26,
    "start_time": "2023-08-03T12:25:05.443Z"
   },
   {
    "duration": 28,
    "start_time": "2023-08-03T12:25:05.470Z"
   },
   {
    "duration": 1719,
    "start_time": "2023-08-03T12:25:05.500Z"
   },
   {
    "duration": 1729,
    "start_time": "2023-08-03T12:25:07.221Z"
   },
   {
    "duration": 1724,
    "start_time": "2023-08-03T12:25:08.951Z"
   },
   {
    "duration": 355,
    "start_time": "2023-08-03T12:25:10.678Z"
   },
   {
    "duration": 338,
    "start_time": "2023-08-03T12:25:11.035Z"
   },
   {
    "duration": 346,
    "start_time": "2023-08-03T12:25:11.375Z"
   },
   {
    "duration": 650,
    "start_time": "2023-08-03T12:25:11.722Z"
   },
   {
    "duration": 239,
    "start_time": "2023-08-03T12:25:12.374Z"
   },
   {
    "duration": 5,
    "start_time": "2023-08-03T12:25:12.615Z"
   },
   {
    "duration": 1743,
    "start_time": "2023-08-03T12:25:12.622Z"
   },
   {
    "duration": 7,
    "start_time": "2023-08-03T12:25:14.367Z"
   },
   {
    "duration": 87,
    "start_time": "2023-08-03T12:25:14.375Z"
   },
   {
    "duration": 46,
    "start_time": "2023-08-03T12:25:14.464Z"
   },
   {
    "duration": 3,
    "start_time": "2023-08-03T12:25:14.512Z"
   },
   {
    "duration": 10,
    "start_time": "2023-08-03T12:25:14.517Z"
   },
   {
    "duration": 12,
    "start_time": "2023-08-03T12:25:14.529Z"
   },
   {
    "duration": 38,
    "start_time": "2023-08-03T12:25:14.543Z"
   },
   {
    "duration": 7,
    "start_time": "2023-08-03T12:25:14.583Z"
   },
   {
    "duration": 14,
    "start_time": "2023-08-03T12:25:14.591Z"
   },
   {
    "duration": 10,
    "start_time": "2023-08-03T12:25:14.606Z"
   },
   {
    "duration": 13,
    "start_time": "2023-08-03T12:25:14.618Z"
   },
   {
    "duration": 16,
    "start_time": "2023-08-03T12:25:14.632Z"
   },
   {
    "duration": 7,
    "start_time": "2023-08-03T12:25:14.650Z"
   },
   {
    "duration": 17,
    "start_time": "2023-08-03T12:25:14.658Z"
   },
   {
    "duration": 4,
    "start_time": "2023-08-03T12:25:14.679Z"
   },
   {
    "duration": 148017,
    "start_time": "2023-08-03T12:25:14.685Z"
   },
   {
    "duration": 94,
    "start_time": "2023-08-03T12:27:42.704Z"
   },
   {
    "duration": 16,
    "start_time": "2023-08-03T12:27:42.800Z"
   },
   {
    "duration": 1489,
    "start_time": "2023-08-03T12:33:02.719Z"
   },
   {
    "duration": 846,
    "start_time": "2023-08-03T12:33:04.213Z"
   },
   {
    "duration": 43,
    "start_time": "2023-08-03T12:33:05.060Z"
   },
   {
    "duration": 22,
    "start_time": "2023-08-03T12:33:05.106Z"
   },
   {
    "duration": 172,
    "start_time": "2023-08-03T12:33:05.130Z"
   },
   {
    "duration": 30,
    "start_time": "2023-08-03T12:33:05.304Z"
   },
   {
    "duration": 13,
    "start_time": "2023-08-03T12:33:05.337Z"
   },
   {
    "duration": 51,
    "start_time": "2023-08-03T12:33:05.352Z"
   },
   {
    "duration": 28,
    "start_time": "2023-08-03T12:33:05.405Z"
   },
   {
    "duration": 53,
    "start_time": "2023-08-03T12:33:05.436Z"
   },
   {
    "duration": 133,
    "start_time": "2023-08-03T12:33:05.491Z"
   },
   {
    "duration": 30,
    "start_time": "2023-08-03T12:33:05.627Z"
   },
   {
    "duration": 22,
    "start_time": "2023-08-03T12:33:05.659Z"
   },
   {
    "duration": 31,
    "start_time": "2023-08-03T12:33:05.682Z"
   },
   {
    "duration": 12,
    "start_time": "2023-08-03T12:33:05.714Z"
   },
   {
    "duration": 17,
    "start_time": "2023-08-03T12:33:05.728Z"
   },
   {
    "duration": 1506,
    "start_time": "2023-08-03T12:33:05.747Z"
   },
   {
    "duration": 1464,
    "start_time": "2023-08-03T12:33:07.255Z"
   },
   {
    "duration": 1505,
    "start_time": "2023-08-03T12:33:08.721Z"
   },
   {
    "duration": 338,
    "start_time": "2023-08-03T12:33:10.227Z"
   },
   {
    "duration": 362,
    "start_time": "2023-08-03T12:33:10.567Z"
   },
   {
    "duration": 373,
    "start_time": "2023-08-03T12:33:10.931Z"
   },
   {
    "duration": 779,
    "start_time": "2023-08-03T12:33:11.306Z"
   },
   {
    "duration": 241,
    "start_time": "2023-08-03T12:33:12.087Z"
   },
   {
    "duration": 6,
    "start_time": "2023-08-03T12:33:12.330Z"
   },
   {
    "duration": 1558,
    "start_time": "2023-08-03T12:33:12.338Z"
   },
   {
    "duration": 7,
    "start_time": "2023-08-03T12:33:13.898Z"
   },
   {
    "duration": 23,
    "start_time": "2023-08-03T12:33:13.908Z"
   },
   {
    "duration": 16,
    "start_time": "2023-08-03T12:33:13.934Z"
   },
   {
    "duration": 3,
    "start_time": "2023-08-03T12:33:13.952Z"
   },
   {
    "duration": 9,
    "start_time": "2023-08-03T12:33:13.956Z"
   },
   {
    "duration": 32,
    "start_time": "2023-08-03T12:33:13.966Z"
   },
   {
    "duration": 19,
    "start_time": "2023-08-03T12:33:14.000Z"
   },
   {
    "duration": 7,
    "start_time": "2023-08-03T12:33:14.021Z"
   },
   {
    "duration": 9,
    "start_time": "2023-08-03T12:33:14.029Z"
   },
   {
    "duration": 9,
    "start_time": "2023-08-03T12:33:14.040Z"
   },
   {
    "duration": 10,
    "start_time": "2023-08-03T12:33:14.050Z"
   },
   {
    "duration": 9,
    "start_time": "2023-08-03T12:33:14.062Z"
   },
   {
    "duration": 21,
    "start_time": "2023-08-03T12:33:14.073Z"
   },
   {
    "duration": 4,
    "start_time": "2023-08-03T12:33:14.096Z"
   },
   {
    "duration": 180595,
    "start_time": "2023-08-03T12:33:14.102Z"
   },
   {
    "duration": 95,
    "start_time": "2023-08-03T12:36:14.699Z"
   },
   {
    "duration": 131,
    "start_time": "2023-08-03T12:36:14.796Z"
   },
   {
    "duration": 1556,
    "start_time": "2023-08-03T12:36:42.248Z"
   },
   {
    "duration": 885,
    "start_time": "2023-08-03T12:36:43.806Z"
   },
   {
    "duration": 37,
    "start_time": "2023-08-03T12:36:44.693Z"
   },
   {
    "duration": 26,
    "start_time": "2023-08-03T12:36:44.732Z"
   },
   {
    "duration": 145,
    "start_time": "2023-08-03T12:36:44.760Z"
   },
   {
    "duration": 21,
    "start_time": "2023-08-03T12:36:44.907Z"
   },
   {
    "duration": 27,
    "start_time": "2023-08-03T12:36:44.930Z"
   },
   {
    "duration": 41,
    "start_time": "2023-08-03T12:36:44.959Z"
   },
   {
    "duration": 24,
    "start_time": "2023-08-03T12:36:45.002Z"
   },
   {
    "duration": 47,
    "start_time": "2023-08-03T12:36:45.028Z"
   },
   {
    "duration": 134,
    "start_time": "2023-08-03T12:36:45.077Z"
   },
   {
    "duration": 32,
    "start_time": "2023-08-03T12:36:45.213Z"
   },
   {
    "duration": 3,
    "start_time": "2023-08-03T12:36:45.246Z"
   },
   {
    "duration": 11,
    "start_time": "2023-08-03T12:36:45.252Z"
   },
   {
    "duration": 31,
    "start_time": "2023-08-03T12:36:45.264Z"
   },
   {
    "duration": 21,
    "start_time": "2023-08-03T12:36:45.298Z"
   },
   {
    "duration": 1726,
    "start_time": "2023-08-03T12:36:45.320Z"
   },
   {
    "duration": 1710,
    "start_time": "2023-08-03T12:36:47.048Z"
   },
   {
    "duration": 1775,
    "start_time": "2023-08-03T12:36:48.760Z"
   },
   {
    "duration": 332,
    "start_time": "2023-08-03T12:36:50.537Z"
   },
   {
    "duration": 396,
    "start_time": "2023-08-03T12:36:50.871Z"
   },
   {
    "duration": 396,
    "start_time": "2023-08-03T12:36:51.269Z"
   },
   {
    "duration": 896,
    "start_time": "2023-08-03T12:36:51.667Z"
   },
   {
    "duration": 245,
    "start_time": "2023-08-03T12:36:52.565Z"
   },
   {
    "duration": 6,
    "start_time": "2023-08-03T12:36:52.812Z"
   },
   {
    "duration": 1537,
    "start_time": "2023-08-03T12:36:52.820Z"
   },
   {
    "duration": 8,
    "start_time": "2023-08-03T12:36:54.358Z"
   },
   {
    "duration": 30,
    "start_time": "2023-08-03T12:36:54.368Z"
   },
   {
    "duration": 16,
    "start_time": "2023-08-03T12:36:54.400Z"
   },
   {
    "duration": 3,
    "start_time": "2023-08-03T12:36:54.417Z"
   },
   {
    "duration": 9,
    "start_time": "2023-08-03T12:36:54.422Z"
   },
   {
    "duration": 6,
    "start_time": "2023-08-03T12:36:54.433Z"
   },
   {
    "duration": 20,
    "start_time": "2023-08-03T12:36:54.440Z"
   },
   {
    "duration": 7,
    "start_time": "2023-08-03T12:36:54.462Z"
   },
   {
    "duration": 26,
    "start_time": "2023-08-03T12:36:54.471Z"
   },
   {
    "duration": 9,
    "start_time": "2023-08-03T12:36:54.498Z"
   },
   {
    "duration": 11,
    "start_time": "2023-08-03T12:36:54.508Z"
   },
   {
    "duration": 5,
    "start_time": "2023-08-03T12:36:54.520Z"
   },
   {
    "duration": 8,
    "start_time": "2023-08-03T12:36:54.526Z"
   },
   {
    "duration": 8,
    "start_time": "2023-08-03T12:36:54.536Z"
   },
   {
    "duration": 157653,
    "start_time": "2023-08-03T12:36:54.548Z"
   },
   {
    "duration": 94,
    "start_time": "2023-08-03T12:39:32.204Z"
   },
   {
    "duration": 196,
    "start_time": "2023-08-03T12:39:32.300Z"
   },
   {
    "duration": 1525,
    "start_time": "2023-08-03T12:42:21.028Z"
   },
   {
    "duration": 865,
    "start_time": "2023-08-03T12:42:22.555Z"
   },
   {
    "duration": 24,
    "start_time": "2023-08-03T12:42:23.424Z"
   },
   {
    "duration": 18,
    "start_time": "2023-08-03T12:42:23.451Z"
   },
   {
    "duration": 143,
    "start_time": "2023-08-03T12:42:23.471Z"
   },
   {
    "duration": 24,
    "start_time": "2023-08-03T12:42:23.616Z"
   },
   {
    "duration": 189,
    "start_time": "2023-08-03T12:42:23.642Z"
   },
   {
    "duration": 23,
    "start_time": "2023-08-03T12:42:23.833Z"
   },
   {
    "duration": 20,
    "start_time": "2023-08-03T12:42:23.858Z"
   },
   {
    "duration": 53,
    "start_time": "2023-08-03T12:42:23.880Z"
   },
   {
    "duration": 97,
    "start_time": "2023-08-03T12:42:23.935Z"
   },
   {
    "duration": 25,
    "start_time": "2023-08-03T12:42:24.034Z"
   },
   {
    "duration": 3,
    "start_time": "2023-08-03T12:42:24.062Z"
   },
   {
    "duration": 30,
    "start_time": "2023-08-03T12:42:24.067Z"
   },
   {
    "duration": 8,
    "start_time": "2023-08-03T12:42:24.099Z"
   },
   {
    "duration": 29,
    "start_time": "2023-08-03T12:42:24.108Z"
   },
   {
    "duration": 1656,
    "start_time": "2023-08-03T12:42:24.139Z"
   },
   {
    "duration": 1521,
    "start_time": "2023-08-03T12:42:25.797Z"
   },
   {
    "duration": 1608,
    "start_time": "2023-08-03T12:42:27.320Z"
   },
   {
    "duration": 303,
    "start_time": "2023-08-03T12:42:28.930Z"
   },
   {
    "duration": 346,
    "start_time": "2023-08-03T12:42:29.234Z"
   },
   {
    "duration": 387,
    "start_time": "2023-08-03T12:42:29.582Z"
   },
   {
    "duration": 727,
    "start_time": "2023-08-03T12:42:29.970Z"
   },
   {
    "duration": 240,
    "start_time": "2023-08-03T12:42:30.699Z"
   },
   {
    "duration": 6,
    "start_time": "2023-08-03T12:42:30.941Z"
   },
   {
    "duration": 1784,
    "start_time": "2023-08-03T12:42:30.949Z"
   },
   {
    "duration": 65,
    "start_time": "2023-08-03T12:42:32.735Z"
   },
   {
    "duration": 25,
    "start_time": "2023-08-03T12:42:32.802Z"
   },
   {
    "duration": 14,
    "start_time": "2023-08-03T12:42:32.829Z"
   },
   {
    "duration": 4,
    "start_time": "2023-08-03T12:42:32.845Z"
   },
   {
    "duration": 20,
    "start_time": "2023-08-03T12:42:32.850Z"
   },
   {
    "duration": 13,
    "start_time": "2023-08-03T12:42:32.872Z"
   },
   {
    "duration": 27,
    "start_time": "2023-08-03T12:42:32.887Z"
   },
   {
    "duration": 7,
    "start_time": "2023-08-03T12:42:32.916Z"
   },
   {
    "duration": 15,
    "start_time": "2023-08-03T12:42:32.924Z"
   },
   {
    "duration": 54,
    "start_time": "2023-08-03T12:42:32.941Z"
   },
   {
    "duration": 12,
    "start_time": "2023-08-03T12:42:32.997Z"
   },
   {
    "duration": 9,
    "start_time": "2023-08-03T12:42:33.011Z"
   },
   {
    "duration": 12,
    "start_time": "2023-08-03T12:42:33.022Z"
   },
   {
    "duration": 13,
    "start_time": "2023-08-03T12:42:33.037Z"
   },
   {
    "duration": 151446,
    "start_time": "2023-08-03T12:42:33.051Z"
   },
   {
    "duration": 101,
    "start_time": "2023-08-03T12:45:04.499Z"
   },
   {
    "duration": 139,
    "start_time": "2023-08-03T12:45:04.601Z"
   },
   {
    "duration": 12879,
    "start_time": "2023-08-03T12:48:34.928Z"
   },
   {
    "duration": 51010,
    "start_time": "2023-08-03T12:53:29.793Z"
   },
   {
    "duration": 12466,
    "start_time": "2023-08-03T12:55:01.938Z"
   },
   {
    "duration": 8887,
    "start_time": "2023-08-03T12:56:16.818Z"
   },
   {
    "duration": 8402,
    "start_time": "2023-08-03T12:56:42.400Z"
   },
   {
    "duration": 8014,
    "start_time": "2023-08-03T12:57:31.387Z"
   },
   {
    "duration": 12034,
    "start_time": "2023-08-03T12:58:15.362Z"
   },
   {
    "duration": 1514,
    "start_time": "2023-08-03T13:03:24.267Z"
   },
   {
    "duration": 860,
    "start_time": "2023-08-03T13:03:25.783Z"
   },
   {
    "duration": 30,
    "start_time": "2023-08-03T13:03:26.645Z"
   },
   {
    "duration": 37,
    "start_time": "2023-08-03T13:03:26.677Z"
   },
   {
    "duration": 170,
    "start_time": "2023-08-03T13:03:26.716Z"
   },
   {
    "duration": 33,
    "start_time": "2023-08-03T13:03:26.888Z"
   },
   {
    "duration": 26,
    "start_time": "2023-08-03T13:03:26.923Z"
   },
   {
    "duration": 34,
    "start_time": "2023-08-03T13:03:26.951Z"
   },
   {
    "duration": 27,
    "start_time": "2023-08-03T13:03:26.987Z"
   },
   {
    "duration": 23,
    "start_time": "2023-08-03T13:03:27.016Z"
   },
   {
    "duration": 126,
    "start_time": "2023-08-03T13:03:27.042Z"
   },
   {
    "duration": 34,
    "start_time": "2023-08-03T13:03:27.170Z"
   },
   {
    "duration": 3,
    "start_time": "2023-08-03T13:03:27.206Z"
   },
   {
    "duration": 18,
    "start_time": "2023-08-03T13:03:27.212Z"
   },
   {
    "duration": 4,
    "start_time": "2023-08-03T13:03:27.233Z"
   },
   {
    "duration": 11,
    "start_time": "2023-08-03T13:03:27.239Z"
   },
   {
    "duration": 1549,
    "start_time": "2023-08-03T13:03:27.251Z"
   },
   {
    "duration": 1525,
    "start_time": "2023-08-03T13:03:28.803Z"
   },
   {
    "duration": 1407,
    "start_time": "2023-08-03T13:03:30.330Z"
   },
   {
    "duration": 324,
    "start_time": "2023-08-03T13:03:31.739Z"
   },
   {
    "duration": 406,
    "start_time": "2023-08-03T13:03:32.066Z"
   },
   {
    "duration": 364,
    "start_time": "2023-08-03T13:03:32.474Z"
   },
   {
    "duration": 875,
    "start_time": "2023-08-03T13:03:32.840Z"
   },
   {
    "duration": 240,
    "start_time": "2023-08-03T13:03:33.717Z"
   },
   {
    "duration": 6,
    "start_time": "2023-08-03T13:03:33.959Z"
   },
   {
    "duration": 1713,
    "start_time": "2023-08-03T13:03:33.966Z"
   },
   {
    "duration": 14,
    "start_time": "2023-08-03T13:03:35.681Z"
   },
   {
    "duration": 26,
    "start_time": "2023-08-03T13:03:35.698Z"
   },
   {
    "duration": 37,
    "start_time": "2023-08-03T13:03:35.726Z"
   },
   {
    "duration": 20,
    "start_time": "2023-08-03T13:03:35.766Z"
   },
   {
    "duration": 19,
    "start_time": "2023-08-03T13:03:35.788Z"
   },
   {
    "duration": 18,
    "start_time": "2023-08-03T13:03:35.808Z"
   },
   {
    "duration": 36,
    "start_time": "2023-08-03T13:03:35.828Z"
   },
   {
    "duration": 9,
    "start_time": "2023-08-03T13:03:35.867Z"
   },
   {
    "duration": 21,
    "start_time": "2023-08-03T13:03:35.878Z"
   },
   {
    "duration": 12,
    "start_time": "2023-08-03T13:03:35.901Z"
   },
   {
    "duration": 23,
    "start_time": "2023-08-03T13:03:35.915Z"
   },
   {
    "duration": 54,
    "start_time": "2023-08-03T13:03:35.940Z"
   },
   {
    "duration": 100,
    "start_time": "2023-08-03T13:03:35.996Z"
   },
   {
    "duration": 0,
    "start_time": "2023-08-03T13:03:36.098Z"
   },
   {
    "duration": 0,
    "start_time": "2023-08-03T13:03:36.100Z"
   },
   {
    "duration": 0,
    "start_time": "2023-08-03T13:03:36.101Z"
   },
   {
    "duration": 0,
    "start_time": "2023-08-03T13:03:36.103Z"
   },
   {
    "duration": 5,
    "start_time": "2023-08-03T13:03:59.928Z"
   },
   {
    "duration": 828,
    "start_time": "2023-08-03T13:03:59.935Z"
   },
   {
    "duration": 32,
    "start_time": "2023-08-03T13:04:00.764Z"
   },
   {
    "duration": 38,
    "start_time": "2023-08-03T13:04:00.798Z"
   },
   {
    "duration": 133,
    "start_time": "2023-08-03T13:04:00.839Z"
   },
   {
    "duration": 30,
    "start_time": "2023-08-03T13:04:00.974Z"
   },
   {
    "duration": 51,
    "start_time": "2023-08-03T13:04:01.006Z"
   },
   {
    "duration": 41,
    "start_time": "2023-08-03T13:04:01.058Z"
   },
   {
    "duration": 26,
    "start_time": "2023-08-03T13:04:01.101Z"
   },
   {
    "duration": 47,
    "start_time": "2023-08-03T13:04:01.129Z"
   },
   {
    "duration": 134,
    "start_time": "2023-08-03T13:04:01.178Z"
   },
   {
    "duration": 27,
    "start_time": "2023-08-03T13:04:01.314Z"
   },
   {
    "duration": 16,
    "start_time": "2023-08-03T13:04:01.344Z"
   },
   {
    "duration": 35,
    "start_time": "2023-08-03T13:04:01.364Z"
   },
   {
    "duration": 18,
    "start_time": "2023-08-03T13:04:01.401Z"
   },
   {
    "duration": 38,
    "start_time": "2023-08-03T13:04:01.421Z"
   },
   {
    "duration": 1502,
    "start_time": "2023-08-03T13:04:01.461Z"
   },
   {
    "duration": 1701,
    "start_time": "2023-08-03T13:04:02.965Z"
   },
   {
    "duration": 1501,
    "start_time": "2023-08-03T13:04:04.668Z"
   },
   {
    "duration": 373,
    "start_time": "2023-08-03T13:04:06.170Z"
   },
   {
    "duration": 405,
    "start_time": "2023-08-03T13:04:06.545Z"
   },
   {
    "duration": 366,
    "start_time": "2023-08-03T13:04:06.951Z"
   },
   {
    "duration": 652,
    "start_time": "2023-08-03T13:04:07.319Z"
   },
   {
    "duration": 240,
    "start_time": "2023-08-03T13:04:07.973Z"
   },
   {
    "duration": 6,
    "start_time": "2023-08-03T13:04:08.215Z"
   },
   {
    "duration": 1659,
    "start_time": "2023-08-03T13:04:08.223Z"
   },
   {
    "duration": 13,
    "start_time": "2023-08-03T13:04:09.884Z"
   },
   {
    "duration": 25,
    "start_time": "2023-08-03T13:04:09.899Z"
   },
   {
    "duration": 16,
    "start_time": "2023-08-03T13:04:09.926Z"
   },
   {
    "duration": 51,
    "start_time": "2023-08-03T13:04:09.944Z"
   },
   {
    "duration": 35,
    "start_time": "2023-08-03T13:04:09.997Z"
   },
   {
    "duration": 25,
    "start_time": "2023-08-03T13:04:10.034Z"
   },
   {
    "duration": 56,
    "start_time": "2023-08-03T13:04:10.061Z"
   },
   {
    "duration": 25,
    "start_time": "2023-08-03T13:04:10.118Z"
   },
   {
    "duration": 76,
    "start_time": "2023-08-03T13:04:10.145Z"
   },
   {
    "duration": 12,
    "start_time": "2023-08-03T13:04:10.223Z"
   },
   {
    "duration": 45,
    "start_time": "2023-08-03T13:04:10.237Z"
   },
   {
    "duration": 35,
    "start_time": "2023-08-03T13:04:10.283Z"
   },
   {
    "duration": 157,
    "start_time": "2023-08-03T13:04:10.320Z"
   },
   {
    "duration": 0,
    "start_time": "2023-08-03T13:04:10.479Z"
   },
   {
    "duration": 0,
    "start_time": "2023-08-03T13:04:10.481Z"
   },
   {
    "duration": 0,
    "start_time": "2023-08-03T13:04:10.482Z"
   },
   {
    "duration": 0,
    "start_time": "2023-08-03T13:04:10.483Z"
   },
   {
    "duration": 1544,
    "start_time": "2023-08-03T13:05:07.028Z"
   },
   {
    "duration": 891,
    "start_time": "2023-08-03T13:05:08.574Z"
   },
   {
    "duration": 32,
    "start_time": "2023-08-03T13:05:09.467Z"
   },
   {
    "duration": 24,
    "start_time": "2023-08-03T13:05:09.501Z"
   },
   {
    "duration": 150,
    "start_time": "2023-08-03T13:05:09.526Z"
   },
   {
    "duration": 30,
    "start_time": "2023-08-03T13:05:09.678Z"
   },
   {
    "duration": 13,
    "start_time": "2023-08-03T13:05:09.710Z"
   },
   {
    "duration": 38,
    "start_time": "2023-08-03T13:05:09.725Z"
   },
   {
    "duration": 36,
    "start_time": "2023-08-03T13:05:09.765Z"
   },
   {
    "duration": 19,
    "start_time": "2023-08-03T13:05:09.805Z"
   },
   {
    "duration": 126,
    "start_time": "2023-08-03T13:05:09.826Z"
   },
   {
    "duration": 26,
    "start_time": "2023-08-03T13:05:09.954Z"
   },
   {
    "duration": 4,
    "start_time": "2023-08-03T13:05:09.996Z"
   },
   {
    "duration": 20,
    "start_time": "2023-08-03T13:05:10.002Z"
   },
   {
    "duration": 7,
    "start_time": "2023-08-03T13:05:10.024Z"
   },
   {
    "duration": 52,
    "start_time": "2023-08-03T13:05:10.033Z"
   },
   {
    "duration": 1605,
    "start_time": "2023-08-03T13:05:10.087Z"
   },
   {
    "duration": 1714,
    "start_time": "2023-08-03T13:05:11.695Z"
   },
   {
    "duration": 1541,
    "start_time": "2023-08-03T13:05:13.411Z"
   },
   {
    "duration": 310,
    "start_time": "2023-08-03T13:05:14.953Z"
   },
   {
    "duration": 356,
    "start_time": "2023-08-03T13:05:15.264Z"
   },
   {
    "duration": 361,
    "start_time": "2023-08-03T13:05:15.621Z"
   },
   {
    "duration": 770,
    "start_time": "2023-08-03T13:05:15.984Z"
   },
   {
    "duration": 270,
    "start_time": "2023-08-03T13:05:16.756Z"
   },
   {
    "duration": 6,
    "start_time": "2023-08-03T13:05:17.029Z"
   },
   {
    "duration": 1620,
    "start_time": "2023-08-03T13:05:17.036Z"
   },
   {
    "duration": 7,
    "start_time": "2023-08-03T13:05:18.658Z"
   },
   {
    "duration": 29,
    "start_time": "2023-08-03T13:05:18.668Z"
   },
   {
    "duration": 16,
    "start_time": "2023-08-03T13:05:18.699Z"
   },
   {
    "duration": 4,
    "start_time": "2023-08-03T13:05:18.716Z"
   },
   {
    "duration": 10,
    "start_time": "2023-08-03T13:05:18.721Z"
   },
   {
    "duration": 10,
    "start_time": "2023-08-03T13:05:18.732Z"
   },
   {
    "duration": 32,
    "start_time": "2023-08-03T13:05:18.743Z"
   },
   {
    "duration": 8,
    "start_time": "2023-08-03T13:05:18.777Z"
   },
   {
    "duration": 13,
    "start_time": "2023-08-03T13:05:18.795Z"
   },
   {
    "duration": 23,
    "start_time": "2023-08-03T13:05:18.810Z"
   },
   {
    "duration": 27,
    "start_time": "2023-08-03T13:05:18.835Z"
   },
   {
    "duration": 11,
    "start_time": "2023-08-03T13:05:18.863Z"
   },
   {
    "duration": 23,
    "start_time": "2023-08-03T13:05:18.876Z"
   },
   {
    "duration": 19,
    "start_time": "2023-08-03T13:05:18.900Z"
   },
   {
    "duration": 231134,
    "start_time": "2023-08-03T13:05:18.921Z"
   },
   {
    "duration": 0,
    "start_time": "2023-08-03T13:09:10.056Z"
   },
   {
    "duration": 0,
    "start_time": "2023-08-03T13:09:10.058Z"
   },
   {
    "duration": 4,
    "start_time": "2023-08-03T13:09:28.275Z"
   },
   {
    "duration": 821,
    "start_time": "2023-08-03T13:09:28.281Z"
   },
   {
    "duration": 22,
    "start_time": "2023-08-03T13:09:29.104Z"
   },
   {
    "duration": 23,
    "start_time": "2023-08-03T13:09:29.127Z"
   },
   {
    "duration": 137,
    "start_time": "2023-08-03T13:09:29.153Z"
   },
   {
    "duration": 22,
    "start_time": "2023-08-03T13:09:29.295Z"
   },
   {
    "duration": 22,
    "start_time": "2023-08-03T13:09:29.319Z"
   },
   {
    "duration": 23,
    "start_time": "2023-08-03T13:09:29.343Z"
   },
   {
    "duration": 47,
    "start_time": "2023-08-03T13:09:29.368Z"
   },
   {
    "duration": 26,
    "start_time": "2023-08-03T13:09:29.417Z"
   },
   {
    "duration": 108,
    "start_time": "2023-08-03T13:09:29.445Z"
   },
   {
    "duration": 24,
    "start_time": "2023-08-03T13:09:29.554Z"
   },
   {
    "duration": 16,
    "start_time": "2023-08-03T13:09:29.580Z"
   },
   {
    "duration": 10,
    "start_time": "2023-08-03T13:09:29.599Z"
   },
   {
    "duration": 8,
    "start_time": "2023-08-03T13:09:29.611Z"
   },
   {
    "duration": 9,
    "start_time": "2023-08-03T13:09:29.621Z"
   },
   {
    "duration": 1735,
    "start_time": "2023-08-03T13:09:29.632Z"
   },
   {
    "duration": 1590,
    "start_time": "2023-08-03T13:09:31.369Z"
   },
   {
    "duration": 1531,
    "start_time": "2023-08-03T13:09:32.961Z"
   },
   {
    "duration": 363,
    "start_time": "2023-08-03T13:09:34.495Z"
   },
   {
    "duration": 347,
    "start_time": "2023-08-03T13:09:34.860Z"
   },
   {
    "duration": 362,
    "start_time": "2023-08-03T13:09:35.209Z"
   },
   {
    "duration": 606,
    "start_time": "2023-08-03T13:09:35.573Z"
   },
   {
    "duration": 269,
    "start_time": "2023-08-03T13:09:36.181Z"
   },
   {
    "duration": 5,
    "start_time": "2023-08-03T13:09:36.452Z"
   },
   {
    "duration": 1773,
    "start_time": "2023-08-03T13:09:36.458Z"
   },
   {
    "duration": 7,
    "start_time": "2023-08-03T13:09:38.233Z"
   },
   {
    "duration": 22,
    "start_time": "2023-08-03T13:09:38.241Z"
   },
   {
    "duration": 21,
    "start_time": "2023-08-03T13:09:38.265Z"
   },
   {
    "duration": 7,
    "start_time": "2023-08-03T13:09:38.288Z"
   },
   {
    "duration": 14,
    "start_time": "2023-08-03T13:09:38.297Z"
   },
   {
    "duration": 12,
    "start_time": "2023-08-03T13:09:38.313Z"
   },
   {
    "duration": 21,
    "start_time": "2023-08-03T13:09:38.327Z"
   },
   {
    "duration": 9,
    "start_time": "2023-08-03T13:09:38.349Z"
   },
   {
    "duration": 14,
    "start_time": "2023-08-03T13:09:38.359Z"
   },
   {
    "duration": 10,
    "start_time": "2023-08-03T13:09:38.374Z"
   },
   {
    "duration": 12,
    "start_time": "2023-08-03T13:09:38.386Z"
   },
   {
    "duration": 8,
    "start_time": "2023-08-03T13:09:38.400Z"
   },
   {
    "duration": 12,
    "start_time": "2023-08-03T13:09:38.410Z"
   },
   {
    "duration": 14,
    "start_time": "2023-08-03T13:09:38.424Z"
   },
   {
    "duration": 174511,
    "start_time": "2023-08-03T13:09:38.443Z"
   },
   {
    "duration": 0,
    "start_time": "2023-08-03T13:12:32.956Z"
   },
   {
    "duration": 0,
    "start_time": "2023-08-03T13:12:32.957Z"
   },
   {
    "duration": 4,
    "start_time": "2023-08-03T13:12:49.810Z"
   },
   {
    "duration": 808,
    "start_time": "2023-08-03T13:12:49.815Z"
   },
   {
    "duration": 22,
    "start_time": "2023-08-03T13:12:50.625Z"
   },
   {
    "duration": 25,
    "start_time": "2023-08-03T13:12:50.651Z"
   },
   {
    "duration": 151,
    "start_time": "2023-08-03T13:12:50.679Z"
   },
   {
    "duration": 22,
    "start_time": "2023-08-03T13:12:50.832Z"
   },
   {
    "duration": 15,
    "start_time": "2023-08-03T13:12:50.856Z"
   },
   {
    "duration": 42,
    "start_time": "2023-08-03T13:12:50.873Z"
   },
   {
    "duration": 24,
    "start_time": "2023-08-03T13:12:50.917Z"
   },
   {
    "duration": 18,
    "start_time": "2023-08-03T13:12:50.943Z"
   },
   {
    "duration": 142,
    "start_time": "2023-08-03T13:12:50.963Z"
   },
   {
    "duration": 20,
    "start_time": "2023-08-03T13:12:51.107Z"
   },
   {
    "duration": 3,
    "start_time": "2023-08-03T13:12:51.129Z"
   },
   {
    "duration": 15,
    "start_time": "2023-08-03T13:12:51.133Z"
   },
   {
    "duration": 8,
    "start_time": "2023-08-03T13:12:51.150Z"
   },
   {
    "duration": 10,
    "start_time": "2023-08-03T13:12:51.160Z"
   },
   {
    "duration": 77,
    "start_time": "2023-08-03T13:13:00.745Z"
   },
   {
    "duration": 846,
    "start_time": "2023-08-03T13:13:00.824Z"
   },
   {
    "duration": 26,
    "start_time": "2023-08-03T13:13:01.672Z"
   },
   {
    "duration": 55,
    "start_time": "2023-08-03T13:13:01.700Z"
   },
   {
    "duration": 148,
    "start_time": "2023-08-03T13:13:01.756Z"
   },
   {
    "duration": 25,
    "start_time": "2023-08-03T13:13:01.906Z"
   },
   {
    "duration": 45,
    "start_time": "2023-08-03T13:13:01.933Z"
   },
   {
    "duration": 38,
    "start_time": "2023-08-03T13:13:01.980Z"
   },
   {
    "duration": 26,
    "start_time": "2023-08-03T13:13:02.020Z"
   },
   {
    "duration": 22,
    "start_time": "2023-08-03T13:13:02.048Z"
   },
   {
    "duration": 102,
    "start_time": "2023-08-03T13:13:02.073Z"
   },
   {
    "duration": 29,
    "start_time": "2023-08-03T13:13:02.177Z"
   },
   {
    "duration": 5,
    "start_time": "2023-08-03T13:13:02.207Z"
   },
   {
    "duration": 36,
    "start_time": "2023-08-03T13:13:02.214Z"
   },
   {
    "duration": 19,
    "start_time": "2023-08-03T13:13:02.253Z"
   },
   {
    "duration": 27,
    "start_time": "2023-08-03T13:13:02.274Z"
   },
   {
    "duration": 1749,
    "start_time": "2023-08-03T13:13:02.304Z"
   },
   {
    "duration": 1645,
    "start_time": "2023-08-03T13:13:04.055Z"
   },
   {
    "duration": 1679,
    "start_time": "2023-08-03T13:13:05.702Z"
   },
   {
    "duration": 528,
    "start_time": "2023-08-03T13:13:07.383Z"
   },
   {
    "duration": 392,
    "start_time": "2023-08-03T13:13:07.912Z"
   },
   {
    "duration": 375,
    "start_time": "2023-08-03T13:13:08.306Z"
   },
   {
    "duration": 620,
    "start_time": "2023-08-03T13:13:08.683Z"
   },
   {
    "duration": 278,
    "start_time": "2023-08-03T13:13:09.305Z"
   },
   {
    "duration": 13,
    "start_time": "2023-08-03T13:13:09.584Z"
   },
   {
    "duration": 1701,
    "start_time": "2023-08-03T13:13:09.599Z"
   },
   {
    "duration": 8,
    "start_time": "2023-08-03T13:13:11.303Z"
   },
   {
    "duration": 24,
    "start_time": "2023-08-03T13:13:11.313Z"
   },
   {
    "duration": 20,
    "start_time": "2023-08-03T13:13:11.339Z"
   },
   {
    "duration": 4,
    "start_time": "2023-08-03T13:13:11.362Z"
   },
   {
    "duration": 5,
    "start_time": "2023-08-03T13:13:11.402Z"
   },
   {
    "duration": 8,
    "start_time": "2023-08-03T13:13:11.409Z"
   },
   {
    "duration": 22,
    "start_time": "2023-08-03T13:13:11.420Z"
   },
   {
    "duration": 7,
    "start_time": "2023-08-03T13:13:11.444Z"
   },
   {
    "duration": 42,
    "start_time": "2023-08-03T13:13:11.453Z"
   },
   {
    "duration": 11,
    "start_time": "2023-08-03T13:13:11.498Z"
   },
   {
    "duration": 12,
    "start_time": "2023-08-03T13:13:11.511Z"
   },
   {
    "duration": 8,
    "start_time": "2023-08-03T13:13:11.525Z"
   },
   {
    "duration": 17,
    "start_time": "2023-08-03T13:13:11.536Z"
   },
   {
    "duration": 13,
    "start_time": "2023-08-03T13:13:11.555Z"
   },
   {
    "duration": 347033,
    "start_time": "2023-08-03T13:13:11.570Z"
   },
   {
    "duration": 0,
    "start_time": "2023-08-03T13:18:58.605Z"
   },
   {
    "duration": 0,
    "start_time": "2023-08-03T13:18:58.607Z"
   },
   {
    "duration": 1530,
    "start_time": "2023-08-03T13:19:10.612Z"
   },
   {
    "duration": 883,
    "start_time": "2023-08-03T13:19:12.144Z"
   },
   {
    "duration": 25,
    "start_time": "2023-08-03T13:19:13.029Z"
   },
   {
    "duration": 18,
    "start_time": "2023-08-03T13:19:13.056Z"
   },
   {
    "duration": 139,
    "start_time": "2023-08-03T13:19:13.076Z"
   },
   {
    "duration": 32,
    "start_time": "2023-08-03T13:19:13.217Z"
   },
   {
    "duration": 14,
    "start_time": "2023-08-03T13:19:13.251Z"
   },
   {
    "duration": 40,
    "start_time": "2023-08-03T13:19:13.267Z"
   },
   {
    "duration": 21,
    "start_time": "2023-08-03T13:19:13.308Z"
   },
   {
    "duration": 17,
    "start_time": "2023-08-03T13:19:13.331Z"
   },
   {
    "duration": 121,
    "start_time": "2023-08-03T13:19:13.350Z"
   },
   {
    "duration": 42,
    "start_time": "2023-08-03T13:19:13.474Z"
   },
   {
    "duration": 4,
    "start_time": "2023-08-03T13:19:13.518Z"
   },
   {
    "duration": 15,
    "start_time": "2023-08-03T13:19:13.526Z"
   },
   {
    "duration": 5,
    "start_time": "2023-08-03T13:19:13.543Z"
   },
   {
    "duration": 6,
    "start_time": "2023-08-03T13:19:13.549Z"
   },
   {
    "duration": 1724,
    "start_time": "2023-08-03T13:19:13.556Z"
   },
   {
    "duration": 1635,
    "start_time": "2023-08-03T13:19:15.282Z"
   },
   {
    "duration": 1794,
    "start_time": "2023-08-03T13:19:16.919Z"
   },
   {
    "duration": 331,
    "start_time": "2023-08-03T13:19:18.715Z"
   },
   {
    "duration": 355,
    "start_time": "2023-08-03T13:19:19.048Z"
   },
   {
    "duration": 380,
    "start_time": "2023-08-03T13:19:19.405Z"
   },
   {
    "duration": 693,
    "start_time": "2023-08-03T13:19:19.795Z"
   },
   {
    "duration": 246,
    "start_time": "2023-08-03T13:19:20.490Z"
   },
   {
    "duration": 6,
    "start_time": "2023-08-03T13:19:20.737Z"
   },
   {
    "duration": 1591,
    "start_time": "2023-08-03T13:19:20.745Z"
   },
   {
    "duration": 8,
    "start_time": "2023-08-03T13:19:22.337Z"
   },
   {
    "duration": 19,
    "start_time": "2023-08-03T13:19:22.347Z"
   },
   {
    "duration": 37,
    "start_time": "2023-08-03T13:19:22.368Z"
   },
   {
    "duration": 3,
    "start_time": "2023-08-03T13:19:22.407Z"
   },
   {
    "duration": 16,
    "start_time": "2023-08-03T13:19:22.411Z"
   },
   {
    "duration": 8,
    "start_time": "2023-08-03T13:19:22.428Z"
   },
   {
    "duration": 18,
    "start_time": "2023-08-03T13:19:22.437Z"
   },
   {
    "duration": 7,
    "start_time": "2023-08-03T13:19:22.457Z"
   },
   {
    "duration": 24,
    "start_time": "2023-08-03T13:19:22.466Z"
   },
   {
    "duration": 28,
    "start_time": "2023-08-03T13:19:22.494Z"
   },
   {
    "duration": 36,
    "start_time": "2023-08-03T13:19:22.524Z"
   },
   {
    "duration": 14,
    "start_time": "2023-08-03T13:19:22.561Z"
   },
   {
    "duration": 60,
    "start_time": "2023-08-03T13:19:22.577Z"
   },
   {
    "duration": 24,
    "start_time": "2023-08-03T13:19:22.639Z"
   },
   {
    "duration": 240861,
    "start_time": "2023-08-03T13:19:22.667Z"
   },
   {
    "duration": 0,
    "start_time": "2023-08-03T13:23:23.530Z"
   },
   {
    "duration": 0,
    "start_time": "2023-08-03T13:23:23.531Z"
   },
   {
    "duration": 7,
    "start_time": "2023-08-03T13:23:25.992Z"
   },
   {
    "duration": 917,
    "start_time": "2023-08-03T13:23:26.001Z"
   },
   {
    "duration": 23,
    "start_time": "2023-08-03T13:23:26.920Z"
   },
   {
    "duration": 26,
    "start_time": "2023-08-03T13:23:26.945Z"
   },
   {
    "duration": 189,
    "start_time": "2023-08-03T13:23:26.974Z"
   },
   {
    "duration": 41,
    "start_time": "2023-08-03T13:23:27.165Z"
   },
   {
    "duration": 33,
    "start_time": "2023-08-03T13:23:27.209Z"
   },
   {
    "duration": 45,
    "start_time": "2023-08-03T13:23:27.244Z"
   },
   {
    "duration": 56,
    "start_time": "2023-08-03T13:23:27.291Z"
   },
   {
    "duration": 37,
    "start_time": "2023-08-03T13:23:27.349Z"
   },
   {
    "duration": 138,
    "start_time": "2023-08-03T13:23:27.389Z"
   },
   {
    "duration": 22,
    "start_time": "2023-08-03T13:23:27.528Z"
   },
   {
    "duration": 4,
    "start_time": "2023-08-03T13:23:27.551Z"
   },
   {
    "duration": 22,
    "start_time": "2023-08-03T13:23:27.558Z"
   },
   {
    "duration": 16,
    "start_time": "2023-08-03T13:23:27.581Z"
   },
   {
    "duration": 41,
    "start_time": "2023-08-03T13:23:27.599Z"
   },
   {
    "duration": 1705,
    "start_time": "2023-08-03T13:23:27.642Z"
   },
   {
    "duration": 1710,
    "start_time": "2023-08-03T13:23:29.349Z"
   },
   {
    "duration": 1639,
    "start_time": "2023-08-03T13:23:31.060Z"
   },
   {
    "duration": 327,
    "start_time": "2023-08-03T13:23:32.701Z"
   },
   {
    "duration": 324,
    "start_time": "2023-08-03T13:23:33.030Z"
   },
   {
    "duration": 343,
    "start_time": "2023-08-03T13:23:33.356Z"
   },
   {
    "duration": 689,
    "start_time": "2023-08-03T13:23:33.701Z"
   },
   {
    "duration": 360,
    "start_time": "2023-08-03T13:23:34.396Z"
   },
   {
    "duration": 6,
    "start_time": "2023-08-03T13:23:34.757Z"
   },
   {
    "duration": 1602,
    "start_time": "2023-08-03T13:23:34.764Z"
   },
   {
    "duration": 9,
    "start_time": "2023-08-03T13:23:36.368Z"
   },
   {
    "duration": 26,
    "start_time": "2023-08-03T13:23:36.379Z"
   },
   {
    "duration": 13,
    "start_time": "2023-08-03T13:23:36.407Z"
   },
   {
    "duration": 3,
    "start_time": "2023-08-03T13:23:36.422Z"
   },
   {
    "duration": 9,
    "start_time": "2023-08-03T13:23:36.427Z"
   },
   {
    "duration": 5,
    "start_time": "2023-08-03T13:23:36.438Z"
   },
   {
    "duration": 19,
    "start_time": "2023-08-03T13:23:36.444Z"
   },
   {
    "duration": 30,
    "start_time": "2023-08-03T13:23:36.465Z"
   },
   {
    "duration": 17,
    "start_time": "2023-08-03T13:23:36.497Z"
   },
   {
    "duration": 9,
    "start_time": "2023-08-03T13:23:36.516Z"
   },
   {
    "duration": 11,
    "start_time": "2023-08-03T13:23:36.527Z"
   },
   {
    "duration": 7,
    "start_time": "2023-08-03T13:23:36.540Z"
   },
   {
    "duration": 11,
    "start_time": "2023-08-03T13:23:36.548Z"
   },
   {
    "duration": 9,
    "start_time": "2023-08-03T13:23:36.560Z"
   },
   {
    "duration": 224125,
    "start_time": "2023-08-03T13:23:36.574Z"
   },
   {
    "duration": 95,
    "start_time": "2023-08-03T13:27:20.701Z"
   },
   {
    "duration": 24611,
    "start_time": "2023-08-03T13:27:20.798Z"
   },
   {
    "duration": 32391,
    "start_time": "2023-08-03T13:29:55.219Z"
   },
   {
    "duration": 13,
    "start_time": "2023-08-04T13:13:27.208Z"
   },
   {
    "duration": 5,
    "start_time": "2023-08-04T13:13:33.169Z"
   },
   {
    "duration": 1756,
    "start_time": "2023-08-04T13:23:30.322Z"
   },
   {
    "duration": 2180,
    "start_time": "2023-08-04T13:23:32.080Z"
   },
   {
    "duration": 25,
    "start_time": "2023-08-04T13:23:34.261Z"
   },
   {
    "duration": 17,
    "start_time": "2023-08-04T13:23:34.288Z"
   },
   {
    "duration": 126,
    "start_time": "2023-08-04T13:23:34.307Z"
   },
   {
    "duration": 21,
    "start_time": "2023-08-04T13:23:34.434Z"
   },
   {
    "duration": 18,
    "start_time": "2023-08-04T13:23:34.457Z"
   },
   {
    "duration": 39,
    "start_time": "2023-08-04T13:23:34.477Z"
   },
   {
    "duration": 18,
    "start_time": "2023-08-04T13:23:34.518Z"
   },
   {
    "duration": 35,
    "start_time": "2023-08-04T13:23:34.539Z"
   },
   {
    "duration": 97,
    "start_time": "2023-08-04T13:23:34.575Z"
   },
   {
    "duration": 25,
    "start_time": "2023-08-04T13:23:34.674Z"
   },
   {
    "duration": 4,
    "start_time": "2023-08-04T13:23:34.709Z"
   },
   {
    "duration": 27,
    "start_time": "2023-08-04T13:23:34.714Z"
   },
   {
    "duration": 20,
    "start_time": "2023-08-04T13:23:34.742Z"
   },
   {
    "duration": 38,
    "start_time": "2023-08-04T13:23:34.763Z"
   },
   {
    "duration": 543,
    "start_time": "2023-08-04T13:23:34.803Z"
   },
   {
    "duration": 417,
    "start_time": "2023-08-04T13:23:35.348Z"
   },
   {
    "duration": 421,
    "start_time": "2023-08-04T13:23:35.767Z"
   },
   {
    "duration": 242,
    "start_time": "2023-08-04T13:23:36.190Z"
   },
   {
    "duration": 5,
    "start_time": "2023-08-04T13:23:36.434Z"
   },
   {
    "duration": 26,
    "start_time": "2023-08-04T13:23:36.440Z"
   },
   {
    "duration": 1582,
    "start_time": "2023-08-04T13:23:36.468Z"
   },
   {
    "duration": 7,
    "start_time": "2023-08-04T13:23:38.052Z"
   },
   {
    "duration": 29,
    "start_time": "2023-08-04T13:23:38.060Z"
   },
   {
    "duration": 23,
    "start_time": "2023-08-04T13:23:38.091Z"
   },
   {
    "duration": 6,
    "start_time": "2023-08-04T13:23:38.116Z"
   },
   {
    "duration": 14,
    "start_time": "2023-08-04T13:23:38.126Z"
   },
   {
    "duration": 18,
    "start_time": "2023-08-04T13:23:38.142Z"
   },
   {
    "duration": 25,
    "start_time": "2023-08-04T13:23:38.163Z"
   },
   {
    "duration": 13,
    "start_time": "2023-08-04T13:23:38.189Z"
   },
   {
    "duration": 32,
    "start_time": "2023-08-04T13:23:38.203Z"
   },
   {
    "duration": 11,
    "start_time": "2023-08-04T13:23:38.237Z"
   },
   {
    "duration": 17,
    "start_time": "2023-08-04T13:23:38.250Z"
   },
   {
    "duration": 13,
    "start_time": "2023-08-04T13:23:38.269Z"
   },
   {
    "duration": 8,
    "start_time": "2023-08-04T13:23:38.283Z"
   },
   {
    "duration": 14,
    "start_time": "2023-08-04T13:23:38.292Z"
   },
   {
    "duration": 14,
    "start_time": "2023-08-04T13:23:38.307Z"
   },
   {
    "duration": 1502,
    "start_time": "2023-08-04T13:25:40.136Z"
   },
   {
    "duration": 1210,
    "start_time": "2023-08-04T13:25:41.640Z"
   },
   {
    "duration": 91,
    "start_time": "2023-08-04T13:25:42.852Z"
   },
   {
    "duration": 69,
    "start_time": "2023-08-04T13:25:42.945Z"
   },
   {
    "duration": 240,
    "start_time": "2023-08-04T13:25:43.018Z"
   },
   {
    "duration": 28,
    "start_time": "2023-08-04T13:25:43.309Z"
   },
   {
    "duration": 70,
    "start_time": "2023-08-04T13:25:43.339Z"
   },
   {
    "duration": 35,
    "start_time": "2023-08-04T13:25:43.411Z"
   },
   {
    "duration": 83,
    "start_time": "2023-08-04T13:25:43.448Z"
   },
   {
    "duration": 82,
    "start_time": "2023-08-04T13:25:43.533Z"
   },
   {
    "duration": 220,
    "start_time": "2023-08-04T13:25:43.616Z"
   },
   {
    "duration": 75,
    "start_time": "2023-08-04T13:25:43.838Z"
   },
   {
    "duration": 3,
    "start_time": "2023-08-04T13:25:43.916Z"
   },
   {
    "duration": 21,
    "start_time": "2023-08-04T13:25:43.923Z"
   },
   {
    "duration": 8,
    "start_time": "2023-08-04T13:25:43.946Z"
   },
   {
    "duration": 70,
    "start_time": "2023-08-04T13:25:43.955Z"
   },
   {
    "duration": 609,
    "start_time": "2023-08-04T13:25:44.027Z"
   },
   {
    "duration": 529,
    "start_time": "2023-08-04T13:25:44.638Z"
   },
   {
    "duration": 395,
    "start_time": "2023-08-04T13:25:45.168Z"
   },
   {
    "duration": 1886,
    "start_time": "2023-08-04T13:25:45.564Z"
   },
   {
    "duration": 4,
    "start_time": "2023-08-04T13:25:47.452Z"
   },
   {
    "duration": 12,
    "start_time": "2023-08-04T13:25:47.458Z"
   },
   {
    "duration": 1569,
    "start_time": "2023-08-04T13:25:47.472Z"
   },
   {
    "duration": 6,
    "start_time": "2023-08-04T13:25:49.043Z"
   },
   {
    "duration": 27,
    "start_time": "2023-08-04T13:25:49.051Z"
   },
   {
    "duration": 31,
    "start_time": "2023-08-04T13:25:49.080Z"
   },
   {
    "duration": 4,
    "start_time": "2023-08-04T13:25:49.113Z"
   },
   {
    "duration": 10,
    "start_time": "2023-08-04T13:25:49.119Z"
   },
   {
    "duration": 6,
    "start_time": "2023-08-04T13:25:49.130Z"
   },
   {
    "duration": 20,
    "start_time": "2023-08-04T13:25:49.138Z"
   },
   {
    "duration": 7,
    "start_time": "2023-08-04T13:25:49.160Z"
   },
   {
    "duration": 13,
    "start_time": "2023-08-04T13:25:49.169Z"
   },
   {
    "duration": 25,
    "start_time": "2023-08-04T13:25:49.184Z"
   },
   {
    "duration": 7,
    "start_time": "2023-08-04T13:25:49.211Z"
   },
   {
    "duration": 15,
    "start_time": "2023-08-04T13:25:49.220Z"
   },
   {
    "duration": 32,
    "start_time": "2023-08-04T13:25:49.237Z"
   },
   {
    "duration": 11,
    "start_time": "2023-08-04T13:25:49.271Z"
   },
   {
    "duration": 32,
    "start_time": "2023-08-04T13:25:49.283Z"
   },
   {
    "duration": 1503,
    "start_time": "2023-08-04T13:26:36.906Z"
   },
   {
    "duration": 746,
    "start_time": "2023-08-04T13:26:38.414Z"
   },
   {
    "duration": 25,
    "start_time": "2023-08-04T13:26:39.161Z"
   },
   {
    "duration": 37,
    "start_time": "2023-08-04T13:26:39.187Z"
   },
   {
    "duration": 128,
    "start_time": "2023-08-04T13:26:39.227Z"
   },
   {
    "duration": 29,
    "start_time": "2023-08-04T13:26:39.357Z"
   },
   {
    "duration": 32,
    "start_time": "2023-08-04T13:26:39.388Z"
   },
   {
    "duration": 25,
    "start_time": "2023-08-04T13:26:39.423Z"
   },
   {
    "duration": 26,
    "start_time": "2023-08-04T13:26:39.450Z"
   },
   {
    "duration": 44,
    "start_time": "2023-08-04T13:26:39.479Z"
   },
   {
    "duration": 115,
    "start_time": "2023-08-04T13:26:39.525Z"
   },
   {
    "duration": 26,
    "start_time": "2023-08-04T13:26:39.642Z"
   },
   {
    "duration": 3,
    "start_time": "2023-08-04T13:26:39.670Z"
   },
   {
    "duration": 16,
    "start_time": "2023-08-04T13:26:39.676Z"
   },
   {
    "duration": 15,
    "start_time": "2023-08-04T13:26:39.694Z"
   },
   {
    "duration": 12,
    "start_time": "2023-08-04T13:26:39.710Z"
   },
   {
    "duration": 544,
    "start_time": "2023-08-04T13:26:39.724Z"
   },
   {
    "duration": 503,
    "start_time": "2023-08-04T13:26:40.270Z"
   },
   {
    "duration": 384,
    "start_time": "2023-08-04T13:26:40.775Z"
   },
   {
    "duration": 1641,
    "start_time": "2023-08-04T13:26:41.161Z"
   },
   {
    "duration": 10,
    "start_time": "2023-08-04T13:26:42.803Z"
   },
   {
    "duration": 17,
    "start_time": "2023-08-04T13:26:42.819Z"
   },
   {
    "duration": 1349,
    "start_time": "2023-08-04T13:26:42.837Z"
   },
   {
    "duration": 6,
    "start_time": "2023-08-04T13:26:44.188Z"
   },
   {
    "duration": 58,
    "start_time": "2023-08-04T13:26:44.196Z"
   },
   {
    "duration": 23,
    "start_time": "2023-08-04T13:26:44.256Z"
   },
   {
    "duration": 43,
    "start_time": "2023-08-04T13:26:44.281Z"
   },
   {
    "duration": 37,
    "start_time": "2023-08-04T13:26:44.326Z"
   },
   {
    "duration": 28,
    "start_time": "2023-08-04T13:26:44.364Z"
   },
   {
    "duration": 57,
    "start_time": "2023-08-04T13:26:44.394Z"
   },
   {
    "duration": 37,
    "start_time": "2023-08-04T13:26:44.453Z"
   },
   {
    "duration": 30,
    "start_time": "2023-08-04T13:26:44.492Z"
   },
   {
    "duration": 27,
    "start_time": "2023-08-04T13:26:44.525Z"
   },
   {
    "duration": 32,
    "start_time": "2023-08-04T13:26:44.554Z"
   },
   {
    "duration": 54,
    "start_time": "2023-08-04T13:26:44.588Z"
   },
   {
    "duration": 13,
    "start_time": "2023-08-04T13:26:44.643Z"
   },
   {
    "duration": 20,
    "start_time": "2023-08-04T13:26:44.658Z"
   },
   {
    "duration": 20,
    "start_time": "2023-08-04T13:26:44.680Z"
   },
   {
    "duration": 20848,
    "start_time": "2023-08-04T13:26:44.702Z"
   },
   {
    "duration": 0,
    "start_time": "2023-08-04T13:27:05.552Z"
   },
   {
    "duration": 0,
    "start_time": "2023-08-04T13:27:05.553Z"
   },
   {
    "duration": 0,
    "start_time": "2023-08-04T13:27:05.554Z"
   },
   {
    "duration": 2912,
    "start_time": "2023-08-04T13:27:38.812Z"
   },
   {
    "duration": 6,
    "start_time": "2023-08-04T13:27:53.373Z"
   },
   {
    "duration": 761,
    "start_time": "2023-08-04T13:27:56.082Z"
   },
   {
    "duration": 21,
    "start_time": "2023-08-04T13:27:57.291Z"
   },
   {
    "duration": 18,
    "start_time": "2023-08-04T13:27:57.621Z"
   },
   {
    "duration": 126,
    "start_time": "2023-08-04T13:27:57.900Z"
   },
   {
    "duration": 23,
    "start_time": "2023-08-04T13:27:59.163Z"
   },
   {
    "duration": 13,
    "start_time": "2023-08-04T13:27:59.530Z"
   },
   {
    "duration": 20,
    "start_time": "2023-08-04T13:27:59.931Z"
   },
   {
    "duration": 30,
    "start_time": "2023-08-04T13:28:01.243Z"
   },
   {
    "duration": 20,
    "start_time": "2023-08-04T13:28:01.691Z"
   },
   {
    "duration": 94,
    "start_time": "2023-08-04T13:28:02.098Z"
   },
   {
    "duration": 25,
    "start_time": "2023-08-04T13:28:03.700Z"
   },
   {
    "duration": 3,
    "start_time": "2023-08-04T13:28:05.251Z"
   },
   {
    "duration": 9,
    "start_time": "2023-08-04T13:28:05.623Z"
   },
   {
    "duration": 5,
    "start_time": "2023-08-04T13:28:06.067Z"
   },
   {
    "duration": 7,
    "start_time": "2023-08-04T13:28:07.634Z"
   },
   {
    "duration": 781,
    "start_time": "2023-08-04T13:28:12.524Z"
   },
   {
    "duration": 354,
    "start_time": "2023-08-04T13:28:24.890Z"
   },
   {
    "duration": 525,
    "start_time": "2023-08-04T13:28:40.620Z"
   },
   {
    "duration": 566,
    "start_time": "2023-08-04T13:28:47.862Z"
   },
   {
    "duration": 397,
    "start_time": "2023-08-04T13:30:43.940Z"
   },
   {
    "duration": 525,
    "start_time": "2023-08-04T13:31:00.676Z"
   },
   {
    "duration": 4,
    "start_time": "2023-08-04T13:32:13.787Z"
   },
   {
    "duration": 94,
    "start_time": "2023-08-04T13:33:53.228Z"
   },
   {
    "duration": 1518,
    "start_time": "2023-08-04T13:34:00.699Z"
   },
   {
    "duration": 743,
    "start_time": "2023-08-04T13:34:02.221Z"
   },
   {
    "duration": 27,
    "start_time": "2023-08-04T13:34:02.965Z"
   },
   {
    "duration": 23,
    "start_time": "2023-08-04T13:34:03.008Z"
   },
   {
    "duration": 165,
    "start_time": "2023-08-04T13:34:03.035Z"
   },
   {
    "duration": 25,
    "start_time": "2023-08-04T13:34:03.202Z"
   },
   {
    "duration": 31,
    "start_time": "2023-08-04T13:34:03.229Z"
   },
   {
    "duration": 40,
    "start_time": "2023-08-04T13:34:03.262Z"
   },
   {
    "duration": 25,
    "start_time": "2023-08-04T13:34:03.303Z"
   },
   {
    "duration": 40,
    "start_time": "2023-08-04T13:34:03.330Z"
   },
   {
    "duration": 105,
    "start_time": "2023-08-04T13:34:03.372Z"
   },
   {
    "duration": 32,
    "start_time": "2023-08-04T13:34:03.478Z"
   },
   {
    "duration": 7,
    "start_time": "2023-08-04T13:34:03.516Z"
   },
   {
    "duration": 11,
    "start_time": "2023-08-04T13:34:03.526Z"
   },
   {
    "duration": 4,
    "start_time": "2023-08-04T13:34:03.539Z"
   },
   {
    "duration": 11,
    "start_time": "2023-08-04T13:34:03.544Z"
   },
   {
    "duration": 570,
    "start_time": "2023-08-04T13:34:03.556Z"
   },
   {
    "duration": 484,
    "start_time": "2023-08-04T13:34:04.128Z"
   },
   {
    "duration": 386,
    "start_time": "2023-08-04T13:34:04.614Z"
   },
   {
    "duration": 1763,
    "start_time": "2023-08-04T13:34:05.008Z"
   },
   {
    "duration": 6,
    "start_time": "2023-08-04T13:34:06.773Z"
   },
   {
    "duration": 11,
    "start_time": "2023-08-04T13:34:06.781Z"
   },
   {
    "duration": 1595,
    "start_time": "2023-08-04T13:34:06.794Z"
   },
   {
    "duration": 7,
    "start_time": "2023-08-04T13:34:08.390Z"
   },
   {
    "duration": 53,
    "start_time": "2023-08-04T13:34:08.409Z"
   },
   {
    "duration": 19,
    "start_time": "2023-08-04T13:34:08.464Z"
   },
   {
    "duration": 11,
    "start_time": "2023-08-04T13:34:08.485Z"
   },
   {
    "duration": 22,
    "start_time": "2023-08-04T13:34:08.497Z"
   },
   {
    "duration": 8,
    "start_time": "2023-08-04T13:34:08.521Z"
   },
   {
    "duration": 31,
    "start_time": "2023-08-04T13:34:08.531Z"
   },
   {
    "duration": 8,
    "start_time": "2023-08-04T13:34:08.564Z"
   },
   {
    "duration": 16,
    "start_time": "2023-08-04T13:34:08.574Z"
   },
   {
    "duration": 9,
    "start_time": "2023-08-04T13:34:08.592Z"
   },
   {
    "duration": 16,
    "start_time": "2023-08-04T13:34:08.603Z"
   },
   {
    "duration": 9,
    "start_time": "2023-08-04T13:34:08.621Z"
   },
   {
    "duration": 11,
    "start_time": "2023-08-04T13:34:08.631Z"
   },
   {
    "duration": 10,
    "start_time": "2023-08-04T13:34:08.644Z"
   },
   {
    "duration": 20,
    "start_time": "2023-08-04T13:34:08.655Z"
   },
   {
    "duration": 1776,
    "start_time": "2023-08-04T19:59:41.383Z"
   },
   {
    "duration": 2560,
    "start_time": "2023-08-04T19:59:43.162Z"
   },
   {
    "duration": 27,
    "start_time": "2023-08-04T19:59:45.724Z"
   },
   {
    "duration": 19,
    "start_time": "2023-08-04T19:59:45.754Z"
   },
   {
    "duration": 139,
    "start_time": "2023-08-04T19:59:45.776Z"
   },
   {
    "duration": 32,
    "start_time": "2023-08-04T19:59:45.917Z"
   },
   {
    "duration": 19,
    "start_time": "2023-08-04T19:59:45.951Z"
   },
   {
    "duration": 51,
    "start_time": "2023-08-04T19:59:45.972Z"
   },
   {
    "duration": 21,
    "start_time": "2023-08-04T19:59:46.024Z"
   },
   {
    "duration": 20,
    "start_time": "2023-08-04T19:59:46.048Z"
   },
   {
    "duration": 135,
    "start_time": "2023-08-04T19:59:46.069Z"
   },
   {
    "duration": 28,
    "start_time": "2023-08-04T19:59:46.205Z"
   },
   {
    "duration": 3,
    "start_time": "2023-08-04T19:59:46.235Z"
   },
   {
    "duration": 19,
    "start_time": "2023-08-04T19:59:46.240Z"
   },
   {
    "duration": 6,
    "start_time": "2023-08-04T19:59:46.261Z"
   },
   {
    "duration": 41,
    "start_time": "2023-08-04T19:59:46.268Z"
   },
   {
    "duration": 773,
    "start_time": "2023-08-04T19:59:46.312Z"
   },
   {
    "duration": 464,
    "start_time": "2023-08-04T19:59:47.086Z"
   },
   {
    "duration": 436,
    "start_time": "2023-08-04T19:59:47.552Z"
   },
   {
    "duration": 1773,
    "start_time": "2023-08-04T19:59:47.990Z"
   },
   {
    "duration": 6,
    "start_time": "2023-08-04T19:59:49.765Z"
   },
   {
    "duration": 56,
    "start_time": "2023-08-04T19:59:49.773Z"
   },
   {
    "duration": 1601,
    "start_time": "2023-08-04T19:59:49.831Z"
   },
   {
    "duration": 7,
    "start_time": "2023-08-04T19:59:51.434Z"
   },
   {
    "duration": 43,
    "start_time": "2023-08-04T19:59:51.442Z"
   },
   {
    "duration": 42,
    "start_time": "2023-08-04T19:59:51.487Z"
   },
   {
    "duration": 48,
    "start_time": "2023-08-04T19:59:51.530Z"
   },
   {
    "duration": 69,
    "start_time": "2023-08-04T19:59:51.582Z"
   },
   {
    "duration": 33,
    "start_time": "2023-08-04T19:59:51.653Z"
   },
   {
    "duration": 51,
    "start_time": "2023-08-04T19:59:51.688Z"
   },
   {
    "duration": 22,
    "start_time": "2023-08-04T19:59:51.741Z"
   },
   {
    "duration": 80,
    "start_time": "2023-08-04T19:59:51.765Z"
   },
   {
    "duration": 44,
    "start_time": "2023-08-04T19:59:51.847Z"
   },
   {
    "duration": 45,
    "start_time": "2023-08-04T19:59:51.893Z"
   },
   {
    "duration": 18,
    "start_time": "2023-08-04T19:59:51.940Z"
   },
   {
    "duration": 30,
    "start_time": "2023-08-04T19:59:51.960Z"
   },
   {
    "duration": 32,
    "start_time": "2023-08-04T19:59:51.993Z"
   },
   {
    "duration": 13,
    "start_time": "2023-08-04T19:59:52.027Z"
   },
   {
    "duration": 26306,
    "start_time": "2023-08-04T19:59:52.042Z"
   },
   {
    "duration": 0,
    "start_time": "2023-08-04T20:00:18.350Z"
   },
   {
    "duration": 0,
    "start_time": "2023-08-04T20:00:18.352Z"
   },
   {
    "duration": 0,
    "start_time": "2023-08-04T20:00:18.353Z"
   },
   {
    "duration": 1722,
    "start_time": "2023-08-04T20:47:45.853Z"
   },
   {
    "duration": 1441,
    "start_time": "2023-08-04T20:47:57.173Z"
   },
   {
    "duration": 869,
    "start_time": "2023-08-04T20:47:58.616Z"
   },
   {
    "duration": 37,
    "start_time": "2023-08-04T20:47:59.488Z"
   },
   {
    "duration": 59,
    "start_time": "2023-08-04T20:47:59.527Z"
   },
   {
    "duration": 167,
    "start_time": "2023-08-04T20:47:59.589Z"
   },
   {
    "duration": 21,
    "start_time": "2023-08-04T20:47:59.757Z"
   },
   {
    "duration": 33,
    "start_time": "2023-08-04T20:47:59.780Z"
   },
   {
    "duration": 24,
    "start_time": "2023-08-04T20:47:59.815Z"
   },
   {
    "duration": 21,
    "start_time": "2023-08-04T20:47:59.841Z"
   },
   {
    "duration": 43,
    "start_time": "2023-08-04T20:47:59.864Z"
   },
   {
    "duration": 107,
    "start_time": "2023-08-04T20:47:59.908Z"
   },
   {
    "duration": 24,
    "start_time": "2023-08-04T20:48:00.017Z"
   },
   {
    "duration": 3,
    "start_time": "2023-08-04T20:48:00.042Z"
   },
   {
    "duration": 29,
    "start_time": "2023-08-04T20:48:00.048Z"
   },
   {
    "duration": 49,
    "start_time": "2023-08-04T20:48:00.078Z"
   },
   {
    "duration": 38,
    "start_time": "2023-08-04T20:48:00.129Z"
   },
   {
    "duration": 554,
    "start_time": "2023-08-04T20:48:00.169Z"
   },
   {
    "duration": 502,
    "start_time": "2023-08-04T20:48:00.725Z"
   },
   {
    "duration": 438,
    "start_time": "2023-08-04T20:48:01.229Z"
   },
   {
    "duration": 1690,
    "start_time": "2023-08-04T20:48:01.668Z"
   },
   {
    "duration": 5,
    "start_time": "2023-08-04T20:48:03.359Z"
   },
   {
    "duration": 19,
    "start_time": "2023-08-04T20:48:03.365Z"
   },
   {
    "duration": 1661,
    "start_time": "2023-08-04T20:48:03.386Z"
   },
   {
    "duration": 7,
    "start_time": "2023-08-04T20:48:05.049Z"
   },
   {
    "duration": 71,
    "start_time": "2023-08-04T20:48:05.057Z"
   },
   {
    "duration": 79,
    "start_time": "2023-08-04T20:48:05.130Z"
   },
   {
    "duration": 21,
    "start_time": "2023-08-04T20:48:05.211Z"
   },
   {
    "duration": 10,
    "start_time": "2023-08-04T20:48:05.234Z"
   },
   {
    "duration": 10,
    "start_time": "2023-08-04T20:48:05.245Z"
   },
   {
    "duration": 24,
    "start_time": "2023-08-04T20:48:05.257Z"
   },
   {
    "duration": 8,
    "start_time": "2023-08-04T20:48:05.283Z"
   },
   {
    "duration": 33,
    "start_time": "2023-08-04T20:48:05.293Z"
   },
   {
    "duration": 18,
    "start_time": "2023-08-04T20:48:05.328Z"
   },
   {
    "duration": 18,
    "start_time": "2023-08-04T20:48:05.348Z"
   },
   {
    "duration": 7,
    "start_time": "2023-08-04T20:48:05.368Z"
   },
   {
    "duration": 19,
    "start_time": "2023-08-04T20:48:05.377Z"
   },
   {
    "duration": 21,
    "start_time": "2023-08-04T20:48:05.398Z"
   },
   {
    "duration": 15,
    "start_time": "2023-08-04T20:48:05.420Z"
   },
   {
    "duration": 220859,
    "start_time": "2023-08-04T20:48:05.438Z"
   },
   {
    "duration": 112,
    "start_time": "2023-08-04T20:51:46.303Z"
   },
   {
    "duration": 0,
    "start_time": "2023-08-04T20:51:46.417Z"
   },
   {
    "duration": 0,
    "start_time": "2023-08-04T20:51:46.418Z"
   },
   {
    "duration": 1594,
    "start_time": "2023-08-04T20:58:38.376Z"
   },
   {
    "duration": 916,
    "start_time": "2023-08-04T20:58:39.972Z"
   },
   {
    "duration": 28,
    "start_time": "2023-08-04T20:58:40.890Z"
   },
   {
    "duration": 20,
    "start_time": "2023-08-04T20:58:40.919Z"
   },
   {
    "duration": 147,
    "start_time": "2023-08-04T20:58:40.941Z"
   },
   {
    "duration": 32,
    "start_time": "2023-08-04T20:58:41.090Z"
   },
   {
    "duration": 15,
    "start_time": "2023-08-04T20:58:41.124Z"
   },
   {
    "duration": 20,
    "start_time": "2023-08-04T20:58:41.140Z"
   },
   {
    "duration": 20,
    "start_time": "2023-08-04T20:58:41.161Z"
   },
   {
    "duration": 24,
    "start_time": "2023-08-04T20:58:41.196Z"
   },
   {
    "duration": 116,
    "start_time": "2023-08-04T20:58:41.221Z"
   },
   {
    "duration": 25,
    "start_time": "2023-08-04T20:58:41.339Z"
   },
   {
    "duration": 3,
    "start_time": "2023-08-04T20:58:41.366Z"
   },
   {
    "duration": 36,
    "start_time": "2023-08-04T20:58:41.373Z"
   },
   {
    "duration": 4,
    "start_time": "2023-08-04T20:58:41.411Z"
   },
   {
    "duration": 12,
    "start_time": "2023-08-04T20:58:41.417Z"
   },
   {
    "duration": 542,
    "start_time": "2023-08-04T20:58:41.431Z"
   },
   {
    "duration": 513,
    "start_time": "2023-08-04T20:58:41.975Z"
   },
   {
    "duration": 403,
    "start_time": "2023-08-04T20:58:42.489Z"
   },
   {
    "duration": 10,
    "start_time": "2023-08-04T20:58:42.901Z"
   },
   {
    "duration": 24,
    "start_time": "2023-08-04T20:58:42.913Z"
   },
   {
    "duration": 17,
    "start_time": "2023-08-04T20:58:42.939Z"
   },
   {
    "duration": 1683,
    "start_time": "2023-08-04T20:58:42.958Z"
   },
   {
    "duration": 5,
    "start_time": "2023-08-04T20:58:44.642Z"
   },
   {
    "duration": 6,
    "start_time": "2023-08-04T20:58:44.649Z"
   },
   {
    "duration": 1483,
    "start_time": "2023-08-04T20:58:44.656Z"
   },
   {
    "duration": 4,
    "start_time": "2023-08-04T20:58:46.140Z"
   },
   {
    "duration": 22,
    "start_time": "2023-08-04T20:58:46.145Z"
   },
   {
    "duration": 41,
    "start_time": "2023-08-04T20:58:46.168Z"
   },
   {
    "duration": 28,
    "start_time": "2023-08-04T20:58:46.210Z"
   },
   {
    "duration": 19,
    "start_time": "2023-08-04T20:58:46.239Z"
   },
   {
    "duration": 27,
    "start_time": "2023-08-04T20:58:46.259Z"
   },
   {
    "duration": 51,
    "start_time": "2023-08-04T20:58:46.289Z"
   },
   {
    "duration": 28,
    "start_time": "2023-08-04T20:58:46.342Z"
   },
   {
    "duration": 25,
    "start_time": "2023-08-04T20:58:46.372Z"
   },
   {
    "duration": 21,
    "start_time": "2023-08-04T20:58:46.407Z"
   },
   {
    "duration": 40,
    "start_time": "2023-08-04T20:58:46.430Z"
   },
   {
    "duration": 47,
    "start_time": "2023-08-04T20:58:46.472Z"
   },
   {
    "duration": 44827,
    "start_time": "2023-08-04T20:58:46.521Z"
   },
   {
    "duration": 0,
    "start_time": "2023-08-04T20:59:31.350Z"
   },
   {
    "duration": 0,
    "start_time": "2023-08-04T20:59:31.352Z"
   },
   {
    "duration": 0,
    "start_time": "2023-08-04T20:59:31.353Z"
   },
   {
    "duration": 1,
    "start_time": "2023-08-04T20:59:31.354Z"
   },
   {
    "duration": 1422,
    "start_time": "2023-08-04T20:59:35.536Z"
   },
   {
    "duration": 878,
    "start_time": "2023-08-04T20:59:36.961Z"
   },
   {
    "duration": 23,
    "start_time": "2023-08-04T20:59:37.841Z"
   },
   {
    "duration": 30,
    "start_time": "2023-08-04T20:59:37.866Z"
   },
   {
    "duration": 138,
    "start_time": "2023-08-04T20:59:37.904Z"
   },
   {
    "duration": 22,
    "start_time": "2023-08-04T20:59:38.044Z"
   },
   {
    "duration": 16,
    "start_time": "2023-08-04T20:59:38.067Z"
   },
   {
    "duration": 36,
    "start_time": "2023-08-04T20:59:38.098Z"
   },
   {
    "duration": 25,
    "start_time": "2023-08-04T20:59:38.136Z"
   },
   {
    "duration": 41,
    "start_time": "2023-08-04T20:59:38.164Z"
   },
   {
    "duration": 109,
    "start_time": "2023-08-04T20:59:38.207Z"
   },
   {
    "duration": 28,
    "start_time": "2023-08-04T20:59:38.317Z"
   },
   {
    "duration": 3,
    "start_time": "2023-08-04T20:59:38.347Z"
   },
   {
    "duration": 11,
    "start_time": "2023-08-04T20:59:38.351Z"
   },
   {
    "duration": 4,
    "start_time": "2023-08-04T20:59:38.364Z"
   },
   {
    "duration": 33,
    "start_time": "2023-08-04T20:59:38.369Z"
   },
   {
    "duration": 514,
    "start_time": "2023-08-04T20:59:38.404Z"
   },
   {
    "duration": 520,
    "start_time": "2023-08-04T20:59:38.920Z"
   },
   {
    "duration": 396,
    "start_time": "2023-08-04T20:59:39.442Z"
   },
   {
    "duration": 7,
    "start_time": "2023-08-04T20:59:39.840Z"
   },
   {
    "duration": 36,
    "start_time": "2023-08-04T20:59:39.848Z"
   },
   {
    "duration": 42,
    "start_time": "2023-08-04T20:59:39.885Z"
   },
   {
    "duration": 1850,
    "start_time": "2023-08-04T20:59:39.929Z"
   },
   {
    "duration": 7,
    "start_time": "2023-08-04T20:59:41.781Z"
   },
   {
    "duration": 25,
    "start_time": "2023-08-04T20:59:41.789Z"
   },
   {
    "duration": 1637,
    "start_time": "2023-08-04T20:59:41.816Z"
   },
   {
    "duration": 4,
    "start_time": "2023-08-04T20:59:43.454Z"
   },
   {
    "duration": 4,
    "start_time": "2023-08-04T20:59:43.461Z"
   },
   {
    "duration": 14,
    "start_time": "2023-08-04T20:59:43.466Z"
   },
   {
    "duration": 30,
    "start_time": "2023-08-04T20:59:43.482Z"
   },
   {
    "duration": 7,
    "start_time": "2023-08-04T20:59:43.514Z"
   },
   {
    "duration": 11,
    "start_time": "2023-08-04T20:59:43.523Z"
   },
   {
    "duration": 15,
    "start_time": "2023-08-04T20:59:43.536Z"
   },
   {
    "duration": 9,
    "start_time": "2023-08-04T20:59:43.553Z"
   },
   {
    "duration": 5,
    "start_time": "2023-08-04T20:59:43.564Z"
   },
   {
    "duration": 5,
    "start_time": "2023-08-04T20:59:43.570Z"
   },
   {
    "duration": 30,
    "start_time": "2023-08-04T20:59:43.576Z"
   },
   {
    "duration": 12,
    "start_time": "2023-08-04T20:59:43.607Z"
   },
   {
    "duration": 1475,
    "start_time": "2023-08-04T21:01:54.126Z"
   },
   {
    "duration": 893,
    "start_time": "2023-08-04T21:01:55.610Z"
   },
   {
    "duration": 27,
    "start_time": "2023-08-04T21:01:56.511Z"
   },
   {
    "duration": 26,
    "start_time": "2023-08-04T21:01:56.540Z"
   },
   {
    "duration": 159,
    "start_time": "2023-08-04T21:01:56.568Z"
   },
   {
    "duration": 28,
    "start_time": "2023-08-04T21:01:56.729Z"
   },
   {
    "duration": 38,
    "start_time": "2023-08-04T21:01:56.759Z"
   },
   {
    "duration": 35,
    "start_time": "2023-08-04T21:01:56.799Z"
   },
   {
    "duration": 21,
    "start_time": "2023-08-04T21:01:56.836Z"
   },
   {
    "duration": 20,
    "start_time": "2023-08-04T21:01:56.859Z"
   },
   {
    "duration": 131,
    "start_time": "2023-08-04T21:01:56.881Z"
   },
   {
    "duration": 25,
    "start_time": "2023-08-04T21:01:57.014Z"
   },
   {
    "duration": 3,
    "start_time": "2023-08-04T21:01:57.041Z"
   },
   {
    "duration": 13,
    "start_time": "2023-08-04T21:01:57.048Z"
   },
   {
    "duration": 5,
    "start_time": "2023-08-04T21:01:57.063Z"
   },
   {
    "duration": 30,
    "start_time": "2023-08-04T21:01:57.070Z"
   },
   {
    "duration": 530,
    "start_time": "2023-08-04T21:01:57.101Z"
   },
   {
    "duration": 510,
    "start_time": "2023-08-04T21:01:57.633Z"
   },
   {
    "duration": 423,
    "start_time": "2023-08-04T21:01:58.146Z"
   },
   {
    "duration": 7,
    "start_time": "2023-08-04T21:01:58.571Z"
   },
   {
    "duration": 27,
    "start_time": "2023-08-04T21:01:58.579Z"
   },
   {
    "duration": 18,
    "start_time": "2023-08-04T21:01:58.608Z"
   },
   {
    "duration": 1664,
    "start_time": "2023-08-04T21:01:58.628Z"
   },
   {
    "duration": 14,
    "start_time": "2023-08-04T21:02:00.294Z"
   },
   {
    "duration": 25,
    "start_time": "2023-08-04T21:02:00.313Z"
   },
   {
    "duration": 1622,
    "start_time": "2023-08-04T21:02:00.340Z"
   },
   {
    "duration": 3,
    "start_time": "2023-08-04T21:02:01.964Z"
   },
   {
    "duration": 29,
    "start_time": "2023-08-04T21:02:01.970Z"
   },
   {
    "duration": 39,
    "start_time": "2023-08-04T21:02:02.001Z"
   },
   {
    "duration": 36,
    "start_time": "2023-08-04T21:02:02.042Z"
   },
   {
    "duration": 11,
    "start_time": "2023-08-04T21:02:02.080Z"
   },
   {
    "duration": 40,
    "start_time": "2023-08-04T21:02:02.093Z"
   },
   {
    "duration": 37,
    "start_time": "2023-08-04T21:02:02.135Z"
   },
   {
    "duration": 60,
    "start_time": "2023-08-04T21:02:02.175Z"
   },
   {
    "duration": 9,
    "start_time": "2023-08-04T21:02:02.237Z"
   },
   {
    "duration": 29,
    "start_time": "2023-08-04T21:02:02.249Z"
   },
   {
    "duration": 43,
    "start_time": "2023-08-04T21:02:02.281Z"
   },
   {
    "duration": 12,
    "start_time": "2023-08-04T21:02:02.326Z"
   },
   {
    "duration": 239068,
    "start_time": "2023-08-04T21:02:02.340Z"
   },
   {
    "duration": 130,
    "start_time": "2023-08-04T21:06:01.415Z"
   },
   {
    "duration": 0,
    "start_time": "2023-08-04T21:06:01.548Z"
   },
   {
    "duration": 0,
    "start_time": "2023-08-04T21:06:01.550Z"
   },
   {
    "duration": 1432,
    "start_time": "2023-08-04T21:07:20.594Z"
   },
   {
    "duration": 817,
    "start_time": "2023-08-04T21:07:22.028Z"
   },
   {
    "duration": 25,
    "start_time": "2023-08-04T21:07:22.847Z"
   },
   {
    "duration": 53,
    "start_time": "2023-08-04T21:07:22.874Z"
   },
   {
    "duration": 149,
    "start_time": "2023-08-04T21:07:22.931Z"
   },
   {
    "duration": 29,
    "start_time": "2023-08-04T21:07:23.082Z"
   },
   {
    "duration": 14,
    "start_time": "2023-08-04T21:07:23.112Z"
   },
   {
    "duration": 25,
    "start_time": "2023-08-04T21:07:23.128Z"
   },
   {
    "duration": 47,
    "start_time": "2023-08-04T21:07:23.155Z"
   },
   {
    "duration": 30,
    "start_time": "2023-08-04T21:07:23.205Z"
   },
   {
    "duration": 107,
    "start_time": "2023-08-04T21:07:23.236Z"
   },
   {
    "duration": 25,
    "start_time": "2023-08-04T21:07:23.345Z"
   },
   {
    "duration": 4,
    "start_time": "2023-08-04T21:07:23.371Z"
   },
   {
    "duration": 33,
    "start_time": "2023-08-04T21:07:23.377Z"
   },
   {
    "duration": 14,
    "start_time": "2023-08-04T21:07:23.412Z"
   },
   {
    "duration": 19,
    "start_time": "2023-08-04T21:07:23.428Z"
   },
   {
    "duration": 552,
    "start_time": "2023-08-04T21:07:23.449Z"
   },
   {
    "duration": 535,
    "start_time": "2023-08-04T21:07:24.002Z"
   },
   {
    "duration": 420,
    "start_time": "2023-08-04T21:07:24.539Z"
   },
   {
    "duration": 7,
    "start_time": "2023-08-04T21:07:24.961Z"
   },
   {
    "duration": 31,
    "start_time": "2023-08-04T21:07:24.970Z"
   },
   {
    "duration": 27,
    "start_time": "2023-08-04T21:07:25.004Z"
   },
   {
    "duration": 1922,
    "start_time": "2023-08-04T21:07:25.033Z"
   },
   {
    "duration": 5,
    "start_time": "2023-08-04T21:07:26.957Z"
   },
   {
    "duration": 24,
    "start_time": "2023-08-04T21:07:26.964Z"
   },
   {
    "duration": 846,
    "start_time": "2023-08-04T21:07:26.990Z"
   },
   {
    "duration": 4,
    "start_time": "2023-08-04T21:07:27.837Z"
   },
   {
    "duration": 17,
    "start_time": "2023-08-04T21:07:27.842Z"
   },
   {
    "duration": 16,
    "start_time": "2023-08-04T21:07:27.861Z"
   },
   {
    "duration": 22,
    "start_time": "2023-08-04T21:07:27.878Z"
   },
   {
    "duration": 9,
    "start_time": "2023-08-04T21:07:27.902Z"
   },
   {
    "duration": 44,
    "start_time": "2023-08-04T21:07:27.913Z"
   },
   {
    "duration": 27,
    "start_time": "2023-08-04T21:07:27.959Z"
   },
   {
    "duration": 52,
    "start_time": "2023-08-04T21:07:27.989Z"
   },
   {
    "duration": 10,
    "start_time": "2023-08-04T21:07:28.042Z"
   },
   {
    "duration": 37,
    "start_time": "2023-08-04T21:07:28.054Z"
   },
   {
    "duration": 24,
    "start_time": "2023-08-04T21:07:28.092Z"
   },
   {
    "duration": 14,
    "start_time": "2023-08-04T21:07:28.117Z"
   },
   {
    "duration": 258169,
    "start_time": "2023-08-04T21:07:28.133Z"
   },
   {
    "duration": 116,
    "start_time": "2023-08-04T21:11:46.304Z"
   },
   {
    "duration": 0,
    "start_time": "2023-08-04T21:11:46.422Z"
   },
   {
    "duration": 0,
    "start_time": "2023-08-04T21:11:46.423Z"
   },
   {
    "duration": 97,
    "start_time": "2023-08-04T21:22:47.913Z"
   },
   {
    "duration": 84,
    "start_time": "2023-08-04T21:22:53.635Z"
   },
   {
    "duration": 10,
    "start_time": "2023-08-04T21:23:02.429Z"
   },
   {
    "duration": 1451,
    "start_time": "2023-08-04T21:29:22.250Z"
   },
   {
    "duration": 818,
    "start_time": "2023-08-04T21:29:23.707Z"
   },
   {
    "duration": 27,
    "start_time": "2023-08-04T21:29:24.527Z"
   },
   {
    "duration": 23,
    "start_time": "2023-08-04T21:29:24.555Z"
   },
   {
    "duration": 150,
    "start_time": "2023-08-04T21:29:24.580Z"
   },
   {
    "duration": 23,
    "start_time": "2023-08-04T21:29:24.732Z"
   },
   {
    "duration": 16,
    "start_time": "2023-08-04T21:29:24.757Z"
   },
   {
    "duration": 37,
    "start_time": "2023-08-04T21:29:24.797Z"
   },
   {
    "duration": 21,
    "start_time": "2023-08-04T21:29:24.836Z"
   },
   {
    "duration": 21,
    "start_time": "2023-08-04T21:29:24.858Z"
   },
   {
    "duration": 125,
    "start_time": "2023-08-04T21:29:24.880Z"
   },
   {
    "duration": 25,
    "start_time": "2023-08-04T21:29:25.007Z"
   },
   {
    "duration": 3,
    "start_time": "2023-08-04T21:29:25.033Z"
   },
   {
    "duration": 13,
    "start_time": "2023-08-04T21:29:25.039Z"
   },
   {
    "duration": 10,
    "start_time": "2023-08-04T21:29:25.054Z"
   },
   {
    "duration": 7,
    "start_time": "2023-08-04T21:29:25.066Z"
   },
   {
    "duration": 568,
    "start_time": "2023-08-04T21:29:25.075Z"
   },
   {
    "duration": 493,
    "start_time": "2023-08-04T21:29:25.645Z"
   },
   {
    "duration": 442,
    "start_time": "2023-08-04T21:29:26.140Z"
   },
   {
    "duration": 11,
    "start_time": "2023-08-04T21:29:26.584Z"
   },
   {
    "duration": 41,
    "start_time": "2023-08-04T21:29:26.596Z"
   },
   {
    "duration": 30,
    "start_time": "2023-08-04T21:29:26.639Z"
   },
   {
    "duration": 1700,
    "start_time": "2023-08-04T21:29:26.672Z"
   },
   {
    "duration": 5,
    "start_time": "2023-08-04T21:29:28.374Z"
   },
   {
    "duration": 31,
    "start_time": "2023-08-04T21:29:28.381Z"
   },
   {
    "duration": 827,
    "start_time": "2023-08-04T21:29:28.414Z"
   },
   {
    "duration": 4,
    "start_time": "2023-08-04T21:29:29.243Z"
   },
   {
    "duration": 21,
    "start_time": "2023-08-04T21:29:29.248Z"
   },
   {
    "duration": 15,
    "start_time": "2023-08-04T21:29:29.271Z"
   },
   {
    "duration": 43,
    "start_time": "2023-08-04T21:29:29.288Z"
   },
   {
    "duration": 7,
    "start_time": "2023-08-04T21:29:29.333Z"
   },
   {
    "duration": 33,
    "start_time": "2023-08-04T21:29:29.342Z"
   },
   {
    "duration": 23,
    "start_time": "2023-08-04T21:29:29.377Z"
   },
   {
    "duration": 18,
    "start_time": "2023-08-04T21:29:29.411Z"
   },
   {
    "duration": 19,
    "start_time": "2023-08-04T21:29:29.431Z"
   },
   {
    "duration": 14,
    "start_time": "2023-08-04T21:29:29.452Z"
   },
   {
    "duration": 13,
    "start_time": "2023-08-04T21:29:29.468Z"
   },
   {
    "duration": 31,
    "start_time": "2023-08-04T21:29:29.483Z"
   },
   {
    "duration": 231889,
    "start_time": "2023-08-04T21:29:29.515Z"
   },
   {
    "duration": 88,
    "start_time": "2023-08-04T21:33:21.406Z"
   },
   {
    "duration": 102410,
    "start_time": "2023-08-04T21:33:21.499Z"
   },
   {
    "duration": 0,
    "start_time": "2023-08-04T21:35:03.913Z"
   },
   {
    "duration": 1487,
    "start_time": "2023-08-04T21:40:09.468Z"
   },
   {
    "duration": 904,
    "start_time": "2023-08-04T21:40:10.957Z"
   },
   {
    "duration": 40,
    "start_time": "2023-08-04T21:40:11.863Z"
   },
   {
    "duration": 19,
    "start_time": "2023-08-04T21:40:11.910Z"
   },
   {
    "duration": 136,
    "start_time": "2023-08-04T21:40:11.931Z"
   },
   {
    "duration": 31,
    "start_time": "2023-08-04T21:40:12.069Z"
   },
   {
    "duration": 31,
    "start_time": "2023-08-04T21:40:12.102Z"
   },
   {
    "duration": 33,
    "start_time": "2023-08-04T21:40:12.134Z"
   },
   {
    "duration": 29,
    "start_time": "2023-08-04T21:40:12.169Z"
   },
   {
    "duration": 20,
    "start_time": "2023-08-04T21:40:12.203Z"
   },
   {
    "duration": 113,
    "start_time": "2023-08-04T21:40:12.225Z"
   },
   {
    "duration": 26,
    "start_time": "2023-08-04T21:40:12.340Z"
   },
   {
    "duration": 3,
    "start_time": "2023-08-04T21:40:12.368Z"
   },
   {
    "duration": 11,
    "start_time": "2023-08-04T21:40:12.394Z"
   },
   {
    "duration": 20,
    "start_time": "2023-08-04T21:40:12.407Z"
   },
   {
    "duration": 22,
    "start_time": "2023-08-04T21:40:12.429Z"
   },
   {
    "duration": 542,
    "start_time": "2023-08-04T21:40:12.452Z"
   },
   {
    "duration": 493,
    "start_time": "2023-08-04T21:40:12.996Z"
   },
   {
    "duration": 387,
    "start_time": "2023-08-04T21:40:13.495Z"
   },
   {
    "duration": 14,
    "start_time": "2023-08-04T21:40:13.884Z"
   },
   {
    "duration": 18,
    "start_time": "2023-08-04T21:40:13.908Z"
   },
   {
    "duration": 17,
    "start_time": "2023-08-04T21:40:13.928Z"
   },
   {
    "duration": 1765,
    "start_time": "2023-08-04T21:40:13.947Z"
   },
   {
    "duration": 6,
    "start_time": "2023-08-04T21:40:15.714Z"
   },
   {
    "duration": 10,
    "start_time": "2023-08-04T21:40:15.721Z"
   },
   {
    "duration": 759,
    "start_time": "2023-08-04T21:40:15.732Z"
   },
   {
    "duration": 3,
    "start_time": "2023-08-04T21:40:16.493Z"
   },
   {
    "duration": 25,
    "start_time": "2023-08-04T21:40:16.498Z"
   },
   {
    "duration": 5,
    "start_time": "2023-08-04T21:40:16.524Z"
   },
   {
    "duration": 17,
    "start_time": "2023-08-04T21:40:16.531Z"
   },
   {
    "duration": 23,
    "start_time": "2023-08-04T21:40:16.550Z"
   },
   {
    "duration": 23,
    "start_time": "2023-08-04T21:40:16.575Z"
   },
   {
    "duration": 27,
    "start_time": "2023-08-04T21:40:16.600Z"
   },
   {
    "duration": 10,
    "start_time": "2023-08-04T21:40:16.629Z"
   },
   {
    "duration": 17,
    "start_time": "2023-08-04T21:40:16.641Z"
   },
   {
    "duration": 18,
    "start_time": "2023-08-04T21:40:16.661Z"
   },
   {
    "duration": 11,
    "start_time": "2023-08-04T21:40:16.681Z"
   },
   {
    "duration": 27,
    "start_time": "2023-08-04T21:40:16.694Z"
   },
   {
    "duration": 10,
    "start_time": "2023-08-04T21:40:16.723Z"
   },
   {
    "duration": 225061,
    "start_time": "2023-08-04T21:40:16.735Z"
   },
   {
    "duration": 96,
    "start_time": "2023-08-04T21:44:01.803Z"
   },
   {
    "duration": 63466,
    "start_time": "2023-08-04T21:44:01.903Z"
   },
   {
    "duration": 0,
    "start_time": "2023-08-04T21:45:05.371Z"
   },
   {
    "duration": 11,
    "start_time": "2023-08-04T21:47:00.220Z"
   },
   {
    "duration": 12,
    "start_time": "2023-08-04T21:47:06.720Z"
   },
   {
    "duration": 5,
    "start_time": "2023-08-04T21:47:10.351Z"
   },
   {
    "duration": 1757,
    "start_time": "2023-08-04T22:00:16.042Z"
   },
   {
    "duration": 984,
    "start_time": "2023-08-04T22:00:17.802Z"
   },
   {
    "duration": 33,
    "start_time": "2023-08-04T22:00:18.787Z"
   },
   {
    "duration": 24,
    "start_time": "2023-08-04T22:00:18.822Z"
   },
   {
    "duration": 135,
    "start_time": "2023-08-04T22:00:18.849Z"
   },
   {
    "duration": 27,
    "start_time": "2023-08-04T22:00:18.985Z"
   },
   {
    "duration": 34,
    "start_time": "2023-08-04T22:00:19.014Z"
   },
   {
    "duration": 22,
    "start_time": "2023-08-04T22:00:19.050Z"
   },
   {
    "duration": 19,
    "start_time": "2023-08-04T22:00:19.074Z"
   },
   {
    "duration": 24,
    "start_time": "2023-08-04T22:00:19.099Z"
   },
   {
    "duration": 116,
    "start_time": "2023-08-04T22:00:19.125Z"
   },
   {
    "duration": 24,
    "start_time": "2023-08-04T22:00:19.243Z"
   },
   {
    "duration": 3,
    "start_time": "2023-08-04T22:00:19.269Z"
   },
   {
    "duration": 25,
    "start_time": "2023-08-04T22:00:19.276Z"
   },
   {
    "duration": 29,
    "start_time": "2023-08-04T22:00:19.305Z"
   },
   {
    "duration": 20,
    "start_time": "2023-08-04T22:00:19.336Z"
   },
   {
    "duration": 582,
    "start_time": "2023-08-04T22:00:19.358Z"
   },
   {
    "duration": 487,
    "start_time": "2023-08-04T22:00:19.942Z"
   },
   {
    "duration": 405,
    "start_time": "2023-08-04T22:00:20.431Z"
   },
   {
    "duration": 7,
    "start_time": "2023-08-04T22:00:20.838Z"
   },
   {
    "duration": 25,
    "start_time": "2023-08-04T22:00:20.846Z"
   },
   {
    "duration": 64,
    "start_time": "2023-08-04T22:00:20.873Z"
   },
   {
    "duration": 1717,
    "start_time": "2023-08-04T22:00:20.939Z"
   },
   {
    "duration": 5,
    "start_time": "2023-08-04T22:00:22.658Z"
   },
   {
    "duration": 14,
    "start_time": "2023-08-04T22:00:22.664Z"
   },
   {
    "duration": 823,
    "start_time": "2023-08-04T22:00:22.680Z"
   },
   {
    "duration": 8,
    "start_time": "2023-08-04T22:00:23.505Z"
   },
   {
    "duration": 26,
    "start_time": "2023-08-04T22:00:23.515Z"
   },
   {
    "duration": 15,
    "start_time": "2023-08-04T22:00:23.542Z"
   },
   {
    "duration": 22,
    "start_time": "2023-08-04T22:00:23.558Z"
   },
   {
    "duration": 8,
    "start_time": "2023-08-04T22:00:23.582Z"
   },
   {
    "duration": 45,
    "start_time": "2023-08-04T22:00:23.591Z"
   },
   {
    "duration": 18,
    "start_time": "2023-08-04T22:00:23.638Z"
   },
   {
    "duration": 22,
    "start_time": "2023-08-04T22:00:23.657Z"
   },
   {
    "duration": 12,
    "start_time": "2023-08-04T22:00:23.681Z"
   },
   {
    "duration": 42,
    "start_time": "2023-08-04T22:00:23.694Z"
   },
   {
    "duration": 14,
    "start_time": "2023-08-04T22:00:23.737Z"
   },
   {
    "duration": 23,
    "start_time": "2023-08-04T22:00:23.753Z"
   },
   {
    "duration": 248219,
    "start_time": "2023-08-04T22:00:23.778Z"
   },
   {
    "duration": 16,
    "start_time": "2023-08-04T22:04:31.999Z"
   },
   {
    "duration": 120109,
    "start_time": "2023-08-04T22:04:32.027Z"
   },
   {
    "duration": 0,
    "start_time": "2023-08-04T22:06:32.138Z"
   },
   {
    "duration": 7,
    "start_time": "2023-08-04T22:09:34.077Z"
   },
   {
    "duration": 4,
    "start_time": "2023-08-04T22:10:01.549Z"
   },
   {
    "duration": 1605,
    "start_time": "2023-08-04T22:11:37.082Z"
   },
   {
    "duration": 1012,
    "start_time": "2023-08-04T22:11:38.689Z"
   },
   {
    "duration": 37,
    "start_time": "2023-08-04T22:11:39.708Z"
   },
   {
    "duration": 24,
    "start_time": "2023-08-04T22:11:39.747Z"
   },
   {
    "duration": 163,
    "start_time": "2023-08-04T22:11:39.774Z"
   },
   {
    "duration": 19,
    "start_time": "2023-08-04T22:11:39.938Z"
   },
   {
    "duration": 27,
    "start_time": "2023-08-04T22:11:39.958Z"
   },
   {
    "duration": 32,
    "start_time": "2023-08-04T22:11:39.987Z"
   },
   {
    "duration": 27,
    "start_time": "2023-08-04T22:11:40.020Z"
   },
   {
    "duration": 16,
    "start_time": "2023-08-04T22:11:40.049Z"
   },
   {
    "duration": 118,
    "start_time": "2023-08-04T22:11:40.067Z"
   },
   {
    "duration": 25,
    "start_time": "2023-08-04T22:11:40.195Z"
   },
   {
    "duration": 3,
    "start_time": "2023-08-04T22:11:40.222Z"
   },
   {
    "duration": 13,
    "start_time": "2023-08-04T22:11:40.229Z"
   },
   {
    "duration": 4,
    "start_time": "2023-08-04T22:11:40.244Z"
   },
   {
    "duration": 11,
    "start_time": "2023-08-04T22:11:40.249Z"
   },
   {
    "duration": 527,
    "start_time": "2023-08-04T22:11:40.261Z"
   },
   {
    "duration": 517,
    "start_time": "2023-08-04T22:11:40.789Z"
   },
   {
    "duration": 448,
    "start_time": "2023-08-04T22:11:41.308Z"
   },
   {
    "duration": 7,
    "start_time": "2023-08-04T22:11:41.758Z"
   },
   {
    "duration": 35,
    "start_time": "2023-08-04T22:11:41.766Z"
   },
   {
    "duration": 27,
    "start_time": "2023-08-04T22:11:41.805Z"
   },
   {
    "duration": 1929,
    "start_time": "2023-08-04T22:11:41.834Z"
   },
   {
    "duration": 5,
    "start_time": "2023-08-04T22:11:43.765Z"
   },
   {
    "duration": 6,
    "start_time": "2023-08-04T22:11:43.772Z"
   },
   {
    "duration": 823,
    "start_time": "2023-08-04T22:11:43.779Z"
   },
   {
    "duration": 3,
    "start_time": "2023-08-04T22:11:44.604Z"
   },
   {
    "duration": 14,
    "start_time": "2023-08-04T22:11:44.613Z"
   },
   {
    "duration": 8,
    "start_time": "2023-08-04T22:11:44.629Z"
   },
   {
    "duration": 28,
    "start_time": "2023-08-04T22:11:44.639Z"
   },
   {
    "duration": 11,
    "start_time": "2023-08-04T22:11:44.669Z"
   },
   {
    "duration": 17,
    "start_time": "2023-08-04T22:11:44.682Z"
   },
   {
    "duration": 28,
    "start_time": "2023-08-04T22:11:44.701Z"
   },
   {
    "duration": 10,
    "start_time": "2023-08-04T22:11:44.731Z"
   },
   {
    "duration": 9,
    "start_time": "2023-08-04T22:11:44.743Z"
   },
   {
    "duration": 22,
    "start_time": "2023-08-04T22:11:44.754Z"
   },
   {
    "duration": 8,
    "start_time": "2023-08-04T22:11:44.778Z"
   },
   {
    "duration": 31,
    "start_time": "2023-08-04T22:11:44.788Z"
   },
   {
    "duration": 229181,
    "start_time": "2023-08-04T22:11:44.820Z"
   },
   {
    "duration": 96,
    "start_time": "2023-08-04T22:15:34.003Z"
   },
   {
    "duration": 17,
    "start_time": "2023-08-04T22:15:34.105Z"
   },
   {
    "duration": 63094,
    "start_time": "2023-08-04T22:15:34.123Z"
   },
   {
    "duration": 78594,
    "start_time": "2023-08-04T22:16:37.219Z"
   },
   {
    "duration": 1506,
    "start_time": "2023-08-04T22:36:59.095Z"
   },
   {
    "duration": 945,
    "start_time": "2023-08-04T22:37:00.604Z"
   },
   {
    "duration": 27,
    "start_time": "2023-08-04T22:37:01.551Z"
   },
   {
    "duration": 53,
    "start_time": "2023-08-04T22:37:01.580Z"
   },
   {
    "duration": 139,
    "start_time": "2023-08-04T22:37:01.635Z"
   },
   {
    "duration": 35,
    "start_time": "2023-08-04T22:37:01.776Z"
   },
   {
    "duration": 31,
    "start_time": "2023-08-04T22:37:01.813Z"
   },
   {
    "duration": 27,
    "start_time": "2023-08-04T22:37:01.846Z"
   },
   {
    "duration": 34,
    "start_time": "2023-08-04T22:37:01.875Z"
   },
   {
    "duration": 40,
    "start_time": "2023-08-04T22:37:01.913Z"
   },
   {
    "duration": 107,
    "start_time": "2023-08-04T22:37:01.955Z"
   },
   {
    "duration": 32,
    "start_time": "2023-08-04T22:37:02.064Z"
   },
   {
    "duration": 10,
    "start_time": "2023-08-04T22:37:02.099Z"
   },
   {
    "duration": 32,
    "start_time": "2023-08-04T22:37:02.111Z"
   },
   {
    "duration": 6,
    "start_time": "2023-08-04T22:37:02.145Z"
   },
   {
    "duration": 15,
    "start_time": "2023-08-04T22:37:02.152Z"
   },
   {
    "duration": 649,
    "start_time": "2023-08-04T22:37:02.169Z"
   },
   {
    "duration": 457,
    "start_time": "2023-08-04T22:37:02.820Z"
   },
   {
    "duration": 382,
    "start_time": "2023-08-04T22:37:03.279Z"
   },
   {
    "duration": 6,
    "start_time": "2023-08-04T22:37:03.663Z"
   },
   {
    "duration": 37,
    "start_time": "2023-08-04T22:37:03.671Z"
   },
   {
    "duration": 19,
    "start_time": "2023-08-04T22:37:03.711Z"
   },
   {
    "duration": 1556,
    "start_time": "2023-08-04T22:37:03.731Z"
   },
   {
    "duration": 11,
    "start_time": "2023-08-04T22:37:05.289Z"
   },
   {
    "duration": 17,
    "start_time": "2023-08-04T22:37:05.302Z"
   },
   {
    "duration": 773,
    "start_time": "2023-08-04T22:37:05.320Z"
   },
   {
    "duration": 5,
    "start_time": "2023-08-04T22:37:06.094Z"
   },
   {
    "duration": 63,
    "start_time": "2023-08-04T22:37:06.105Z"
   },
   {
    "duration": 11,
    "start_time": "2023-08-04T22:37:06.170Z"
   },
   {
    "duration": 45,
    "start_time": "2023-08-04T22:37:06.183Z"
   },
   {
    "duration": 8,
    "start_time": "2023-08-04T22:37:06.230Z"
   },
   {
    "duration": 18,
    "start_time": "2023-08-04T22:37:06.239Z"
   },
   {
    "duration": 60,
    "start_time": "2023-08-04T22:37:06.258Z"
   },
   {
    "duration": 9,
    "start_time": "2023-08-04T22:37:06.320Z"
   },
   {
    "duration": 33,
    "start_time": "2023-08-04T22:37:06.331Z"
   },
   {
    "duration": 9,
    "start_time": "2023-08-04T22:37:06.365Z"
   },
   {
    "duration": 10,
    "start_time": "2023-08-04T22:37:06.376Z"
   },
   {
    "duration": 16,
    "start_time": "2023-08-04T22:37:06.387Z"
   },
   {
    "duration": 226299,
    "start_time": "2023-08-04T22:37:06.410Z"
   },
   {
    "duration": 17,
    "start_time": "2023-08-04T22:40:52.799Z"
   },
   {
    "duration": 68887,
    "start_time": "2023-08-04T22:40:52.819Z"
   },
   {
    "duration": 285,
    "start_time": "2023-08-04T22:42:01.711Z"
   },
   {
    "duration": 13,
    "start_time": "2023-08-04T22:43:07.714Z"
   },
   {
    "duration": 11,
    "start_time": "2023-08-04T22:43:16.324Z"
   },
   {
    "duration": 20,
    "start_time": "2023-08-04T22:43:33.138Z"
   },
   {
    "duration": 10,
    "start_time": "2023-08-04T22:44:12.552Z"
   },
   {
    "duration": 63272,
    "start_time": "2023-08-04T22:46:14.944Z"
   },
   {
    "duration": 86,
    "start_time": "2023-08-04T22:47:18.219Z"
   },
   {
    "duration": 1973,
    "start_time": "2023-08-04T22:47:25.008Z"
   },
   {
    "duration": 1476,
    "start_time": "2023-08-04T22:50:57.069Z"
   },
   {
    "duration": 804,
    "start_time": "2023-08-04T22:50:58.547Z"
   },
   {
    "duration": 22,
    "start_time": "2023-08-04T22:50:59.353Z"
   },
   {
    "duration": 32,
    "start_time": "2023-08-04T22:50:59.376Z"
   },
   {
    "duration": 133,
    "start_time": "2023-08-04T22:50:59.410Z"
   },
   {
    "duration": 19,
    "start_time": "2023-08-04T22:50:59.545Z"
   },
   {
    "duration": 17,
    "start_time": "2023-08-04T22:50:59.566Z"
   },
   {
    "duration": 38,
    "start_time": "2023-08-04T22:50:59.584Z"
   },
   {
    "duration": 18,
    "start_time": "2023-08-04T22:50:59.624Z"
   },
   {
    "duration": 19,
    "start_time": "2023-08-04T22:50:59.644Z"
   },
   {
    "duration": 112,
    "start_time": "2023-08-04T22:50:59.665Z"
   },
   {
    "duration": 32,
    "start_time": "2023-08-04T22:50:59.779Z"
   },
   {
    "duration": 3,
    "start_time": "2023-08-04T22:50:59.813Z"
   },
   {
    "duration": 15,
    "start_time": "2023-08-04T22:50:59.819Z"
   },
   {
    "duration": 6,
    "start_time": "2023-08-04T22:50:59.835Z"
   },
   {
    "duration": 9,
    "start_time": "2023-08-04T22:50:59.842Z"
   },
   {
    "duration": 498,
    "start_time": "2023-08-04T22:50:59.853Z"
   },
   {
    "duration": 460,
    "start_time": "2023-08-04T22:51:00.352Z"
   },
   {
    "duration": 412,
    "start_time": "2023-08-04T22:51:00.813Z"
   },
   {
    "duration": 9,
    "start_time": "2023-08-04T22:51:01.227Z"
   },
   {
    "duration": 49,
    "start_time": "2023-08-04T22:51:01.238Z"
   },
   {
    "duration": 72,
    "start_time": "2023-08-04T22:51:01.289Z"
   },
   {
    "duration": 1802,
    "start_time": "2023-08-04T22:51:01.363Z"
   },
   {
    "duration": 5,
    "start_time": "2023-08-04T22:51:03.167Z"
   },
   {
    "duration": 8,
    "start_time": "2023-08-04T22:51:03.174Z"
   },
   {
    "duration": 844,
    "start_time": "2023-08-04T22:51:03.183Z"
   },
   {
    "duration": 3,
    "start_time": "2023-08-04T22:51:04.029Z"
   },
   {
    "duration": 11,
    "start_time": "2023-08-04T22:51:04.033Z"
   },
   {
    "duration": 8,
    "start_time": "2023-08-04T22:51:04.045Z"
   },
   {
    "duration": 22,
    "start_time": "2023-08-04T22:51:04.055Z"
   },
   {
    "duration": 8,
    "start_time": "2023-08-04T22:51:04.079Z"
   },
   {
    "duration": 27,
    "start_time": "2023-08-04T22:51:04.098Z"
   },
   {
    "duration": 18,
    "start_time": "2023-08-04T22:51:04.127Z"
   },
   {
    "duration": 14,
    "start_time": "2023-08-04T22:51:04.147Z"
   },
   {
    "duration": 22,
    "start_time": "2023-08-04T22:51:04.163Z"
   },
   {
    "duration": 10,
    "start_time": "2023-08-04T22:51:04.187Z"
   },
   {
    "duration": 21,
    "start_time": "2023-08-04T22:51:04.199Z"
   },
   {
    "duration": 5,
    "start_time": "2023-08-04T22:51:04.222Z"
   },
   {
    "duration": 730873,
    "start_time": "2023-08-04T22:51:04.228Z"
   },
   {
    "duration": 18,
    "start_time": "2023-08-04T23:03:15.103Z"
   },
   {
    "duration": 1380,
    "start_time": "2023-08-04T23:03:47.411Z"
   },
   {
    "duration": 783,
    "start_time": "2023-08-04T23:03:48.793Z"
   },
   {
    "duration": 34,
    "start_time": "2023-08-04T23:03:49.577Z"
   },
   {
    "duration": 31,
    "start_time": "2023-08-04T23:03:49.613Z"
   },
   {
    "duration": 122,
    "start_time": "2023-08-04T23:03:49.646Z"
   },
   {
    "duration": 32,
    "start_time": "2023-08-04T23:03:49.769Z"
   },
   {
    "duration": 27,
    "start_time": "2023-08-04T23:03:49.810Z"
   },
   {
    "duration": 20,
    "start_time": "2023-08-04T23:03:49.838Z"
   },
   {
    "duration": 19,
    "start_time": "2023-08-04T23:03:49.860Z"
   },
   {
    "duration": 22,
    "start_time": "2023-08-04T23:03:49.881Z"
   },
   {
    "duration": 98,
    "start_time": "2023-08-04T23:03:49.905Z"
   },
   {
    "duration": 28,
    "start_time": "2023-08-04T23:03:50.008Z"
   },
   {
    "duration": 4,
    "start_time": "2023-08-04T23:03:50.037Z"
   },
   {
    "duration": 14,
    "start_time": "2023-08-04T23:03:50.043Z"
   },
   {
    "duration": 18,
    "start_time": "2023-08-04T23:03:50.058Z"
   },
   {
    "duration": 14,
    "start_time": "2023-08-04T23:03:50.078Z"
   },
   {
    "duration": 531,
    "start_time": "2023-08-04T23:03:50.094Z"
   },
   {
    "duration": 460,
    "start_time": "2023-08-04T23:03:50.627Z"
   },
   {
    "duration": 385,
    "start_time": "2023-08-04T23:03:51.089Z"
   },
   {
    "duration": 8,
    "start_time": "2023-08-04T23:03:51.476Z"
   },
   {
    "duration": 24,
    "start_time": "2023-08-04T23:03:51.485Z"
   },
   {
    "duration": 27,
    "start_time": "2023-08-04T23:03:51.511Z"
   },
   {
    "duration": 1708,
    "start_time": "2023-08-04T23:03:51.540Z"
   },
   {
    "duration": 5,
    "start_time": "2023-08-04T23:03:53.250Z"
   },
   {
    "duration": 16,
    "start_time": "2023-08-04T23:03:53.256Z"
   },
   {
    "duration": 835,
    "start_time": "2023-08-04T23:03:53.274Z"
   },
   {
    "duration": 4,
    "start_time": "2023-08-04T23:03:54.111Z"
   },
   {
    "duration": 15,
    "start_time": "2023-08-04T23:03:54.116Z"
   },
   {
    "duration": 12,
    "start_time": "2023-08-04T23:03:54.133Z"
   },
   {
    "duration": 22,
    "start_time": "2023-08-04T23:03:54.147Z"
   },
   {
    "duration": 8,
    "start_time": "2023-08-04T23:03:54.171Z"
   },
   {
    "duration": 24,
    "start_time": "2023-08-04T23:03:54.181Z"
   },
   {
    "duration": 16,
    "start_time": "2023-08-04T23:03:54.207Z"
   },
   {
    "duration": 13,
    "start_time": "2023-08-04T23:03:54.225Z"
   },
   {
    "duration": 6,
    "start_time": "2023-08-04T23:03:54.240Z"
   },
   {
    "duration": 11,
    "start_time": "2023-08-04T23:03:54.247Z"
   },
   {
    "duration": 11,
    "start_time": "2023-08-04T23:03:54.259Z"
   },
   {
    "duration": 14,
    "start_time": "2023-08-04T23:03:54.271Z"
   },
   {
    "duration": 500333,
    "start_time": "2023-08-04T23:03:54.286Z"
   },
   {
    "duration": 85,
    "start_time": "2023-08-04T23:12:14.622Z"
   },
   {
    "duration": 73596,
    "start_time": "2023-08-04T23:12:14.712Z"
   },
   {
    "duration": 92,
    "start_time": "2023-08-04T23:13:28.313Z"
   },
   {
    "duration": 71311,
    "start_time": "2023-08-04T23:13:28.410Z"
   },
   {
    "duration": 1927,
    "start_time": "2023-08-04T23:14:39.796Z"
   },
   {
    "duration": 325,
    "start_time": "2023-08-04T23:14:50.645Z"
   },
   {
    "duration": 65,
    "start_time": "2023-08-04T23:15:20.942Z"
   },
   {
    "duration": 12,
    "start_time": "2023-08-05T18:38:04.330Z"
   },
   {
    "duration": 3130,
    "start_time": "2023-08-05T18:38:29.735Z"
   },
   {
    "duration": 3530,
    "start_time": "2023-08-05T18:38:32.867Z"
   },
   {
    "duration": 23,
    "start_time": "2023-08-05T18:38:36.399Z"
   },
   {
    "duration": 16,
    "start_time": "2023-08-05T18:38:36.424Z"
   },
   {
    "duration": 127,
    "start_time": "2023-08-05T18:38:36.442Z"
   },
   {
    "duration": 19,
    "start_time": "2023-08-05T18:38:36.571Z"
   },
   {
    "duration": 14,
    "start_time": "2023-08-05T18:38:36.592Z"
   },
   {
    "duration": 19,
    "start_time": "2023-08-05T18:38:36.607Z"
   },
   {
    "duration": 42,
    "start_time": "2023-08-05T18:38:36.628Z"
   },
   {
    "duration": 17,
    "start_time": "2023-08-05T18:38:36.673Z"
   },
   {
    "duration": 104,
    "start_time": "2023-08-05T18:38:36.692Z"
   },
   {
    "duration": 23,
    "start_time": "2023-08-05T18:38:36.798Z"
   },
   {
    "duration": 3,
    "start_time": "2023-08-05T18:38:36.823Z"
   },
   {
    "duration": 17,
    "start_time": "2023-08-05T18:38:36.827Z"
   },
   {
    "duration": 17,
    "start_time": "2023-08-05T18:38:36.846Z"
   },
   {
    "duration": 9,
    "start_time": "2023-08-05T18:38:36.864Z"
   },
   {
    "duration": 487,
    "start_time": "2023-08-05T18:38:36.875Z"
   },
   {
    "duration": 445,
    "start_time": "2023-08-05T18:38:37.365Z"
   },
   {
    "duration": 373,
    "start_time": "2023-08-05T18:38:37.812Z"
   },
   {
    "duration": 7,
    "start_time": "2023-08-05T18:38:38.187Z"
   },
   {
    "duration": 17,
    "start_time": "2023-08-05T18:38:38.196Z"
   },
   {
    "duration": 19,
    "start_time": "2023-08-05T18:38:38.214Z"
   },
   {
    "duration": 1586,
    "start_time": "2023-08-05T18:38:38.235Z"
   },
   {
    "duration": 5,
    "start_time": "2023-08-05T18:38:39.823Z"
   },
   {
    "duration": 4,
    "start_time": "2023-08-05T18:38:39.830Z"
   },
   {
    "duration": 754,
    "start_time": "2023-08-05T18:38:39.835Z"
   },
   {
    "duration": 3,
    "start_time": "2023-08-05T18:38:40.592Z"
   },
   {
    "duration": 5,
    "start_time": "2023-08-05T18:38:40.598Z"
   },
   {
    "duration": 4,
    "start_time": "2023-08-05T18:38:40.605Z"
   },
   {
    "duration": 24,
    "start_time": "2023-08-05T18:38:40.610Z"
   },
   {
    "duration": 23,
    "start_time": "2023-08-05T18:38:40.636Z"
   },
   {
    "duration": 12,
    "start_time": "2023-08-05T18:38:40.661Z"
   },
   {
    "duration": 11,
    "start_time": "2023-08-05T18:38:40.674Z"
   },
   {
    "duration": 16,
    "start_time": "2023-08-05T18:38:40.686Z"
   },
   {
    "duration": 6516,
    "start_time": "2023-08-05T18:38:47.845Z"
   },
   {
    "duration": 8,
    "start_time": "2023-08-05T18:39:00.005Z"
   },
   {
    "duration": 8,
    "start_time": "2023-08-05T18:39:05.395Z"
   },
   {
    "duration": 8,
    "start_time": "2023-08-05T18:39:08.285Z"
   },
   {
    "duration": 9,
    "start_time": "2023-08-05T18:39:13.674Z"
   },
   {
    "duration": 9,
    "start_time": "2023-08-05T18:39:17.235Z"
   },
   {
    "duration": 1555,
    "start_time": "2023-08-05T20:39:59.715Z"
   },
   {
    "duration": 2273,
    "start_time": "2023-08-05T20:40:01.272Z"
   },
   {
    "duration": 25,
    "start_time": "2023-08-05T20:40:03.547Z"
   },
   {
    "duration": 18,
    "start_time": "2023-08-05T20:40:03.574Z"
   },
   {
    "duration": 121,
    "start_time": "2023-08-05T20:40:03.594Z"
   },
   {
    "duration": 22,
    "start_time": "2023-08-05T20:40:03.717Z"
   },
   {
    "duration": 16,
    "start_time": "2023-08-05T20:40:03.741Z"
   },
   {
    "duration": 37,
    "start_time": "2023-08-05T20:40:03.759Z"
   },
   {
    "duration": 20,
    "start_time": "2023-08-05T20:40:03.797Z"
   },
   {
    "duration": 20,
    "start_time": "2023-08-05T20:40:03.820Z"
   },
   {
    "duration": 115,
    "start_time": "2023-08-05T20:40:03.842Z"
   },
   {
    "duration": 24,
    "start_time": "2023-08-05T20:40:03.959Z"
   },
   {
    "duration": 2,
    "start_time": "2023-08-05T20:40:03.995Z"
   },
   {
    "duration": 17,
    "start_time": "2023-08-05T20:40:03.999Z"
   },
   {
    "duration": 7,
    "start_time": "2023-08-05T20:40:04.017Z"
   },
   {
    "duration": 6,
    "start_time": "2023-08-05T20:40:04.026Z"
   },
   {
    "duration": 472,
    "start_time": "2023-08-05T20:40:04.033Z"
   },
   {
    "duration": 458,
    "start_time": "2023-08-05T20:40:04.506Z"
   },
   {
    "duration": 357,
    "start_time": "2023-08-05T20:40:04.966Z"
   },
   {
    "duration": 7,
    "start_time": "2023-08-05T20:40:05.325Z"
   },
   {
    "duration": 16,
    "start_time": "2023-08-05T20:40:05.333Z"
   },
   {
    "duration": 17,
    "start_time": "2023-08-05T20:40:05.351Z"
   },
   {
    "duration": 1740,
    "start_time": "2023-08-05T20:40:05.370Z"
   },
   {
    "duration": 5,
    "start_time": "2023-08-05T20:40:07.111Z"
   },
   {
    "duration": 15,
    "start_time": "2023-08-05T20:40:07.118Z"
   },
   {
    "duration": 805,
    "start_time": "2023-08-05T20:40:07.135Z"
   },
   {
    "duration": 3,
    "start_time": "2023-08-05T20:40:07.943Z"
   },
   {
    "duration": 13,
    "start_time": "2023-08-05T20:40:07.950Z"
   },
   {
    "duration": 12,
    "start_time": "2023-08-05T20:40:07.964Z"
   },
   {
    "duration": 22,
    "start_time": "2023-08-05T20:40:07.978Z"
   },
   {
    "duration": 9,
    "start_time": "2023-08-05T20:40:08.001Z"
   },
   {
    "duration": 14,
    "start_time": "2023-08-05T20:40:08.012Z"
   },
   {
    "duration": 11,
    "start_time": "2023-08-05T20:40:08.028Z"
   },
   {
    "duration": 12,
    "start_time": "2023-08-05T20:40:08.041Z"
   },
   {
    "duration": 9,
    "start_time": "2023-08-05T20:40:08.054Z"
   },
   {
    "duration": 9,
    "start_time": "2023-08-05T20:40:08.064Z"
   },
   {
    "duration": 20,
    "start_time": "2023-08-05T20:40:08.075Z"
   },
   {
    "duration": 4,
    "start_time": "2023-08-05T20:40:08.096Z"
   },
   {
    "duration": 72377,
    "start_time": "2023-08-05T20:40:08.102Z"
   },
   {
    "duration": 0,
    "start_time": "2023-08-05T20:41:20.480Z"
   },
   {
    "duration": 0,
    "start_time": "2023-08-05T20:41:20.482Z"
   },
   {
    "duration": 0,
    "start_time": "2023-08-05T20:41:20.483Z"
   },
   {
    "duration": 0,
    "start_time": "2023-08-05T20:41:20.494Z"
   },
   {
    "duration": 0,
    "start_time": "2023-08-05T20:41:20.495Z"
   },
   {
    "duration": 0,
    "start_time": "2023-08-05T20:41:20.496Z"
   },
   {
    "duration": 0,
    "start_time": "2023-08-05T20:41:20.497Z"
   },
   {
    "duration": 4,
    "start_time": "2023-08-05T20:41:25.635Z"
   },
   {
    "duration": 773,
    "start_time": "2023-08-05T20:41:28.540Z"
   },
   {
    "duration": 6,
    "start_time": "2023-08-05T20:41:43.218Z"
   },
   {
    "duration": 1532,
    "start_time": "2023-08-05T20:55:51.680Z"
   },
   {
    "duration": 798,
    "start_time": "2023-08-05T20:55:53.214Z"
   },
   {
    "duration": 7,
    "start_time": "2023-08-05T20:55:54.013Z"
   },
   {
    "duration": 25,
    "start_time": "2023-08-05T20:55:54.021Z"
   },
   {
    "duration": 18,
    "start_time": "2023-08-05T20:55:54.047Z"
   },
   {
    "duration": 149,
    "start_time": "2023-08-05T20:55:54.066Z"
   },
   {
    "duration": 21,
    "start_time": "2023-08-05T20:55:54.217Z"
   },
   {
    "duration": 18,
    "start_time": "2023-08-05T20:55:54.240Z"
   },
   {
    "duration": 39,
    "start_time": "2023-08-05T20:55:54.260Z"
   },
   {
    "duration": 25,
    "start_time": "2023-08-05T20:55:54.302Z"
   },
   {
    "duration": 22,
    "start_time": "2023-08-05T20:55:54.329Z"
   },
   {
    "duration": 125,
    "start_time": "2023-08-05T20:55:54.353Z"
   },
   {
    "duration": 30,
    "start_time": "2023-08-05T20:55:54.480Z"
   },
   {
    "duration": 4,
    "start_time": "2023-08-05T20:55:54.512Z"
   },
   {
    "duration": 31,
    "start_time": "2023-08-05T20:55:54.517Z"
   },
   {
    "duration": 4,
    "start_time": "2023-08-05T20:55:54.550Z"
   },
   {
    "duration": 10,
    "start_time": "2023-08-05T20:55:54.556Z"
   },
   {
    "duration": 515,
    "start_time": "2023-08-05T20:55:54.568Z"
   },
   {
    "duration": 502,
    "start_time": "2023-08-05T20:55:55.085Z"
   },
   {
    "duration": 409,
    "start_time": "2023-08-05T20:55:55.589Z"
   },
   {
    "duration": 7,
    "start_time": "2023-08-05T20:55:56.000Z"
   },
   {
    "duration": 22,
    "start_time": "2023-08-05T20:55:56.009Z"
   },
   {
    "duration": 19,
    "start_time": "2023-08-05T20:55:56.032Z"
   },
   {
    "duration": 1663,
    "start_time": "2023-08-05T20:55:56.053Z"
   },
   {
    "duration": 5,
    "start_time": "2023-08-05T20:55:57.718Z"
   },
   {
    "duration": 8,
    "start_time": "2023-08-05T20:55:57.724Z"
   },
   {
    "duration": 746,
    "start_time": "2023-08-05T20:55:57.733Z"
   },
   {
    "duration": 3,
    "start_time": "2023-08-05T20:55:58.482Z"
   },
   {
    "duration": 16,
    "start_time": "2023-08-05T20:55:58.486Z"
   },
   {
    "duration": 5,
    "start_time": "2023-08-05T20:55:58.504Z"
   },
   {
    "duration": 15,
    "start_time": "2023-08-05T20:55:58.511Z"
   },
   {
    "duration": 10,
    "start_time": "2023-08-05T20:55:58.528Z"
   },
   {
    "duration": 11,
    "start_time": "2023-08-05T20:55:58.540Z"
   },
   {
    "duration": 12,
    "start_time": "2023-08-05T20:55:58.553Z"
   },
   {
    "duration": 11,
    "start_time": "2023-08-05T20:55:58.566Z"
   },
   {
    "duration": 17,
    "start_time": "2023-08-05T20:55:58.578Z"
   },
   {
    "duration": 4,
    "start_time": "2023-08-05T20:55:58.596Z"
   },
   {
    "duration": 14,
    "start_time": "2023-08-05T20:55:58.602Z"
   },
   {
    "duration": 10,
    "start_time": "2023-08-05T20:55:58.617Z"
   },
   {
    "duration": 167368,
    "start_time": "2023-08-05T20:55:58.628Z"
   },
   {
    "duration": 98,
    "start_time": "2023-08-05T20:58:46.002Z"
   },
   {
    "duration": 5996,
    "start_time": "2023-08-05T20:58:46.101Z"
   },
   {
    "duration": 8,
    "start_time": "2023-08-05T20:58:52.099Z"
   },
   {
    "duration": 1423,
    "start_time": "2023-08-05T21:03:37.162Z"
   },
   {
    "duration": 787,
    "start_time": "2023-08-05T21:03:38.587Z"
   },
   {
    "duration": 25,
    "start_time": "2023-08-05T21:03:39.375Z"
   },
   {
    "duration": 17,
    "start_time": "2023-08-05T21:03:39.402Z"
   },
   {
    "duration": 135,
    "start_time": "2023-08-05T21:03:39.420Z"
   },
   {
    "duration": 20,
    "start_time": "2023-08-05T21:03:39.557Z"
   },
   {
    "duration": 22,
    "start_time": "2023-08-05T21:03:39.578Z"
   },
   {
    "duration": 19,
    "start_time": "2023-08-05T21:03:39.602Z"
   },
   {
    "duration": 18,
    "start_time": "2023-08-05T21:03:39.623Z"
   },
   {
    "duration": 27,
    "start_time": "2023-08-05T21:03:39.643Z"
   },
   {
    "duration": 109,
    "start_time": "2023-08-05T21:03:39.671Z"
   },
   {
    "duration": 29,
    "start_time": "2023-08-05T21:03:39.782Z"
   },
   {
    "duration": 3,
    "start_time": "2023-08-05T21:03:39.813Z"
   },
   {
    "duration": 12,
    "start_time": "2023-08-05T21:03:39.817Z"
   },
   {
    "duration": 4,
    "start_time": "2023-08-05T21:03:39.830Z"
   },
   {
    "duration": 7,
    "start_time": "2023-08-05T21:03:39.836Z"
   },
   {
    "duration": 506,
    "start_time": "2023-08-05T21:03:39.844Z"
   },
   {
    "duration": 445,
    "start_time": "2023-08-05T21:03:40.352Z"
   },
   {
    "duration": 362,
    "start_time": "2023-08-05T21:03:40.798Z"
   },
   {
    "duration": 7,
    "start_time": "2023-08-05T21:03:41.162Z"
   },
   {
    "duration": 25,
    "start_time": "2023-08-05T21:03:41.170Z"
   },
   {
    "duration": 16,
    "start_time": "2023-08-05T21:03:41.196Z"
   },
   {
    "duration": 1674,
    "start_time": "2023-08-05T21:03:41.214Z"
   },
   {
    "duration": 4,
    "start_time": "2023-08-05T21:03:42.895Z"
   },
   {
    "duration": 4,
    "start_time": "2023-08-05T21:03:42.901Z"
   },
   {
    "duration": 786,
    "start_time": "2023-08-05T21:03:42.907Z"
   },
   {
    "duration": 3,
    "start_time": "2023-08-05T21:03:43.695Z"
   },
   {
    "duration": 13,
    "start_time": "2023-08-05T21:03:43.701Z"
   },
   {
    "duration": 11,
    "start_time": "2023-08-05T21:03:43.715Z"
   },
   {
    "duration": 19,
    "start_time": "2023-08-05T21:03:43.728Z"
   },
   {
    "duration": 7,
    "start_time": "2023-08-05T21:03:43.749Z"
   },
   {
    "duration": 16,
    "start_time": "2023-08-05T21:03:43.757Z"
   },
   {
    "duration": 18,
    "start_time": "2023-08-05T21:03:43.774Z"
   },
   {
    "duration": 21,
    "start_time": "2023-08-05T21:03:43.793Z"
   },
   {
    "duration": 8,
    "start_time": "2023-08-05T21:03:43.815Z"
   },
   {
    "duration": 6,
    "start_time": "2023-08-05T21:03:43.825Z"
   },
   {
    "duration": 8,
    "start_time": "2023-08-05T21:03:43.832Z"
   },
   {
    "duration": 7,
    "start_time": "2023-08-05T21:03:43.841Z"
   },
   {
    "duration": 171149,
    "start_time": "2023-08-05T21:03:43.850Z"
   },
   {
    "duration": 9,
    "start_time": "2023-08-05T21:06:35.094Z"
   },
   {
    "duration": 6391,
    "start_time": "2023-08-05T21:06:35.105Z"
   },
   {
    "duration": 10,
    "start_time": "2023-08-05T21:06:41.499Z"
   }
  ],
  "kernelspec": {
   "display_name": "Python 3 (ipykernel)",
   "language": "python",
   "name": "python3"
  },
  "language_info": {
   "codemirror_mode": {
    "name": "ipython",
    "version": 3
   },
   "file_extension": ".py",
   "mimetype": "text/x-python",
   "name": "python",
   "nbconvert_exporter": "python",
   "pygments_lexer": "ipython3",
   "version": "3.9.5"
  },
  "toc": {
   "base_numbering": 1,
   "nav_menu": {},
   "number_sections": true,
   "sideBar": true,
   "skip_h1_title": true,
   "title_cell": "Содержание",
   "title_sidebar": "Contents",
   "toc_cell": true,
   "toc_position": {
    "height": "643px",
    "left": "64px",
    "top": "111.125px",
    "width": "328.514px"
   },
   "toc_section_display": true,
   "toc_window_display": true
  }
 },
 "nbformat": 4,
 "nbformat_minor": 2
}

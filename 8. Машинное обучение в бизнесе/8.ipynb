{
 "cells": [
  {
   "cell_type": "markdown",
   "metadata": {},
   "source": [
    "# Выбор локации для скважины"
   ]
  },
  {
   "cell_type": "markdown",
   "metadata": {},
   "source": [
    "Допустим, вы работаете в добывающей компании «ГлавРосГосНефть». Нужно решить, где бурить новую скважину.\n",
    "\n",
    "Вам предоставлены пробы нефти в трёх регионах: в каждом 10 000 месторождений, где измерили качество нефти и объём её запасов. Постройте модель машинного обучения, которая поможет определить регион, где добыча принесёт наибольшую прибыль. Проанализируйте возможную прибыль и риски техникой *Bootstrap.*\n",
    "\n",
    "Шаги для выбора локации:\n",
    "\n",
    "- В избранном регионе ищут месторождения, для каждого определяют значения признаков;\n",
    "- Строят модель и оценивают объём запасов;\n",
    "- Выбирают месторождения с самым высокими оценками значений. Количество месторождений зависит от бюджета компании и стоимости разработки одной скважины;\n",
    "- Прибыль равна суммарной прибыли отобранных месторождений."
   ]
  },
  {
   "cell_type": "markdown",
   "metadata": {},
   "source": [
    "id — уникальный идентификатор скважины;\n",
    "\n",
    "f0, f1, f2 — три признака точек (неважно, что они означают, но сами признаки значимы);\n",
    "\n",
    "product — объём запасов в скважине (тыс. баррелей)."
   ]
  },
  {
   "cell_type": "markdown",
   "metadata": {},
   "source": [
    "## Загрузка и подготовка данных"
   ]
  },
  {
   "cell_type": "code",
   "execution_count": 1,
   "metadata": {},
   "outputs": [],
   "source": [
    "import pandas as pd\n",
    "from sklearn.preprocessing import MinMaxScaler\n",
    "from sklearn.model_selection import train_test_split\n",
    "from sklearn.linear_model import LinearRegression\n",
    "from sklearn.metrics import mean_squared_error\n",
    "import numpy as np\n",
    "import matplotlib.pyplot as plt"
   ]
  },
  {
   "cell_type": "code",
   "execution_count": 2,
   "metadata": {},
   "outputs": [],
   "source": [
    "data1 = pd.read_csv('/datasets/geo_data_0.csv')\n",
    "data2 = pd.read_csv('/datasets/geo_data_1.csv')\n",
    "data3 = pd.read_csv('/datasets/geo_data_2.csv')"
   ]
  },
  {
   "cell_type": "markdown",
   "metadata": {},
   "source": [
    "Изучим наши датафреймы"
   ]
  },
  {
   "cell_type": "markdown",
   "metadata": {},
   "source": [
    "# Первый регион"
   ]
  },
  {
   "cell_type": "code",
   "execution_count": 3,
   "metadata": {},
   "outputs": [
    {
     "data": {
      "text/html": [
       "<div>\n",
       "<style scoped>\n",
       "    .dataframe tbody tr th:only-of-type {\n",
       "        vertical-align: middle;\n",
       "    }\n",
       "\n",
       "    .dataframe tbody tr th {\n",
       "        vertical-align: top;\n",
       "    }\n",
       "\n",
       "    .dataframe thead th {\n",
       "        text-align: right;\n",
       "    }\n",
       "</style>\n",
       "<table border=\"1\" class=\"dataframe\">\n",
       "  <thead>\n",
       "    <tr style=\"text-align: right;\">\n",
       "      <th></th>\n",
       "      <th>id</th>\n",
       "      <th>f0</th>\n",
       "      <th>f1</th>\n",
       "      <th>f2</th>\n",
       "      <th>product</th>\n",
       "    </tr>\n",
       "  </thead>\n",
       "  <tbody>\n",
       "    <tr>\n",
       "      <th>0</th>\n",
       "      <td>txEyH</td>\n",
       "      <td>0.705745</td>\n",
       "      <td>-0.497823</td>\n",
       "      <td>1.221170</td>\n",
       "      <td>105.280062</td>\n",
       "    </tr>\n",
       "    <tr>\n",
       "      <th>1</th>\n",
       "      <td>2acmU</td>\n",
       "      <td>1.334711</td>\n",
       "      <td>-0.340164</td>\n",
       "      <td>4.365080</td>\n",
       "      <td>73.037750</td>\n",
       "    </tr>\n",
       "    <tr>\n",
       "      <th>2</th>\n",
       "      <td>409Wp</td>\n",
       "      <td>1.022732</td>\n",
       "      <td>0.151990</td>\n",
       "      <td>1.419926</td>\n",
       "      <td>85.265647</td>\n",
       "    </tr>\n",
       "    <tr>\n",
       "      <th>3</th>\n",
       "      <td>iJLyR</td>\n",
       "      <td>-0.032172</td>\n",
       "      <td>0.139033</td>\n",
       "      <td>2.978566</td>\n",
       "      <td>168.620776</td>\n",
       "    </tr>\n",
       "    <tr>\n",
       "      <th>4</th>\n",
       "      <td>Xdl7t</td>\n",
       "      <td>1.988431</td>\n",
       "      <td>0.155413</td>\n",
       "      <td>4.751769</td>\n",
       "      <td>154.036647</td>\n",
       "    </tr>\n",
       "  </tbody>\n",
       "</table>\n",
       "</div>"
      ],
      "text/plain": [
       "      id        f0        f1        f2     product\n",
       "0  txEyH  0.705745 -0.497823  1.221170  105.280062\n",
       "1  2acmU  1.334711 -0.340164  4.365080   73.037750\n",
       "2  409Wp  1.022732  0.151990  1.419926   85.265647\n",
       "3  iJLyR -0.032172  0.139033  2.978566  168.620776\n",
       "4  Xdl7t  1.988431  0.155413  4.751769  154.036647"
      ]
     },
     "execution_count": 3,
     "metadata": {},
     "output_type": "execute_result"
    }
   ],
   "source": [
    "data1.head()"
   ]
  },
  {
   "cell_type": "code",
   "execution_count": 4,
   "metadata": {
    "scrolled": false
   },
   "outputs": [
    {
     "name": "stdout",
     "output_type": "stream",
     "text": [
      "<class 'pandas.core.frame.DataFrame'>\n",
      "RangeIndex: 100000 entries, 0 to 99999\n",
      "Data columns (total 5 columns):\n",
      " #   Column   Non-Null Count   Dtype  \n",
      "---  ------   --------------   -----  \n",
      " 0   id       100000 non-null  object \n",
      " 1   f0       100000 non-null  float64\n",
      " 2   f1       100000 non-null  float64\n",
      " 3   f2       100000 non-null  float64\n",
      " 4   product  100000 non-null  float64\n",
      "dtypes: float64(4), object(1)\n",
      "memory usage: 3.8+ MB\n"
     ]
    }
   ],
   "source": [
    "data1.info()"
   ]
  },
  {
   "cell_type": "code",
   "execution_count": 5,
   "metadata": {
    "scrolled": true
   },
   "outputs": [
    {
     "data": {
      "text/plain": [
       "id         0\n",
       "f0         0\n",
       "f1         0\n",
       "f2         0\n",
       "product    0\n",
       "dtype: int64"
      ]
     },
     "execution_count": 5,
     "metadata": {},
     "output_type": "execute_result"
    }
   ],
   "source": [
    "data1.isnull().sum()"
   ]
  },
  {
   "cell_type": "markdown",
   "metadata": {},
   "source": [
    "Пропущеных данных нет"
   ]
  },
  {
   "cell_type": "code",
   "execution_count": 6,
   "metadata": {
    "scrolled": true
   },
   "outputs": [
    {
     "data": {
      "text/plain": [
       "0"
      ]
     },
     "execution_count": 6,
     "metadata": {},
     "output_type": "execute_result"
    }
   ],
   "source": [
    "data1.duplicated().sum()"
   ]
  },
  {
   "cell_type": "markdown",
   "metadata": {},
   "source": [
    "Явных дубликатов в таблице не наблюдается"
   ]
  },
  {
   "cell_type": "markdown",
   "metadata": {},
   "source": [
    "# Второй регион"
   ]
  },
  {
   "cell_type": "code",
   "execution_count": 7,
   "metadata": {
    "scrolled": true
   },
   "outputs": [
    {
     "data": {
      "text/html": [
       "<div>\n",
       "<style scoped>\n",
       "    .dataframe tbody tr th:only-of-type {\n",
       "        vertical-align: middle;\n",
       "    }\n",
       "\n",
       "    .dataframe tbody tr th {\n",
       "        vertical-align: top;\n",
       "    }\n",
       "\n",
       "    .dataframe thead th {\n",
       "        text-align: right;\n",
       "    }\n",
       "</style>\n",
       "<table border=\"1\" class=\"dataframe\">\n",
       "  <thead>\n",
       "    <tr style=\"text-align: right;\">\n",
       "      <th></th>\n",
       "      <th>id</th>\n",
       "      <th>f0</th>\n",
       "      <th>f1</th>\n",
       "      <th>f2</th>\n",
       "      <th>product</th>\n",
       "    </tr>\n",
       "  </thead>\n",
       "  <tbody>\n",
       "    <tr>\n",
       "      <th>0</th>\n",
       "      <td>kBEdx</td>\n",
       "      <td>-15.001348</td>\n",
       "      <td>-8.276000</td>\n",
       "      <td>-0.005876</td>\n",
       "      <td>3.179103</td>\n",
       "    </tr>\n",
       "    <tr>\n",
       "      <th>1</th>\n",
       "      <td>62mP7</td>\n",
       "      <td>14.272088</td>\n",
       "      <td>-3.475083</td>\n",
       "      <td>0.999183</td>\n",
       "      <td>26.953261</td>\n",
       "    </tr>\n",
       "    <tr>\n",
       "      <th>2</th>\n",
       "      <td>vyE1P</td>\n",
       "      <td>6.263187</td>\n",
       "      <td>-5.948386</td>\n",
       "      <td>5.001160</td>\n",
       "      <td>134.766305</td>\n",
       "    </tr>\n",
       "    <tr>\n",
       "      <th>3</th>\n",
       "      <td>KcrkZ</td>\n",
       "      <td>-13.081196</td>\n",
       "      <td>-11.506057</td>\n",
       "      <td>4.999415</td>\n",
       "      <td>137.945408</td>\n",
       "    </tr>\n",
       "    <tr>\n",
       "      <th>4</th>\n",
       "      <td>AHL4O</td>\n",
       "      <td>12.702195</td>\n",
       "      <td>-8.147433</td>\n",
       "      <td>5.004363</td>\n",
       "      <td>134.766305</td>\n",
       "    </tr>\n",
       "  </tbody>\n",
       "</table>\n",
       "</div>"
      ],
      "text/plain": [
       "      id         f0         f1        f2     product\n",
       "0  kBEdx -15.001348  -8.276000 -0.005876    3.179103\n",
       "1  62mP7  14.272088  -3.475083  0.999183   26.953261\n",
       "2  vyE1P   6.263187  -5.948386  5.001160  134.766305\n",
       "3  KcrkZ -13.081196 -11.506057  4.999415  137.945408\n",
       "4  AHL4O  12.702195  -8.147433  5.004363  134.766305"
      ]
     },
     "execution_count": 7,
     "metadata": {},
     "output_type": "execute_result"
    }
   ],
   "source": [
    "data2.head()"
   ]
  },
  {
   "cell_type": "code",
   "execution_count": 8,
   "metadata": {
    "scrolled": true
   },
   "outputs": [
    {
     "name": "stdout",
     "output_type": "stream",
     "text": [
      "<class 'pandas.core.frame.DataFrame'>\n",
      "RangeIndex: 100000 entries, 0 to 99999\n",
      "Data columns (total 5 columns):\n",
      " #   Column   Non-Null Count   Dtype  \n",
      "---  ------   --------------   -----  \n",
      " 0   id       100000 non-null  object \n",
      " 1   f0       100000 non-null  float64\n",
      " 2   f1       100000 non-null  float64\n",
      " 3   f2       100000 non-null  float64\n",
      " 4   product  100000 non-null  float64\n",
      "dtypes: float64(4), object(1)\n",
      "memory usage: 3.8+ MB\n"
     ]
    }
   ],
   "source": [
    "data2.info()"
   ]
  },
  {
   "cell_type": "code",
   "execution_count": 9,
   "metadata": {
    "scrolled": true
   },
   "outputs": [
    {
     "data": {
      "text/plain": [
       "id         0\n",
       "f0         0\n",
       "f1         0\n",
       "f2         0\n",
       "product    0\n",
       "dtype: int64"
      ]
     },
     "execution_count": 9,
     "metadata": {},
     "output_type": "execute_result"
    }
   ],
   "source": [
    "data2.isnull().sum()"
   ]
  },
  {
   "cell_type": "markdown",
   "metadata": {},
   "source": [
    "Пропущеных данных нет"
   ]
  },
  {
   "cell_type": "code",
   "execution_count": 10,
   "metadata": {},
   "outputs": [
    {
     "data": {
      "text/plain": [
       "0"
      ]
     },
     "execution_count": 10,
     "metadata": {},
     "output_type": "execute_result"
    }
   ],
   "source": [
    "data2.duplicated().sum()"
   ]
  },
  {
   "cell_type": "markdown",
   "metadata": {},
   "source": [
    "Явных дубликатов в таблице не наблюдается"
   ]
  },
  {
   "cell_type": "markdown",
   "metadata": {},
   "source": [
    "# Третий регион"
   ]
  },
  {
   "cell_type": "code",
   "execution_count": 11,
   "metadata": {
    "scrolled": false
   },
   "outputs": [
    {
     "data": {
      "text/html": [
       "<div>\n",
       "<style scoped>\n",
       "    .dataframe tbody tr th:only-of-type {\n",
       "        vertical-align: middle;\n",
       "    }\n",
       "\n",
       "    .dataframe tbody tr th {\n",
       "        vertical-align: top;\n",
       "    }\n",
       "\n",
       "    .dataframe thead th {\n",
       "        text-align: right;\n",
       "    }\n",
       "</style>\n",
       "<table border=\"1\" class=\"dataframe\">\n",
       "  <thead>\n",
       "    <tr style=\"text-align: right;\">\n",
       "      <th></th>\n",
       "      <th>id</th>\n",
       "      <th>f0</th>\n",
       "      <th>f1</th>\n",
       "      <th>f2</th>\n",
       "      <th>product</th>\n",
       "    </tr>\n",
       "  </thead>\n",
       "  <tbody>\n",
       "    <tr>\n",
       "      <th>0</th>\n",
       "      <td>fwXo0</td>\n",
       "      <td>-1.146987</td>\n",
       "      <td>0.963328</td>\n",
       "      <td>-0.828965</td>\n",
       "      <td>27.758673</td>\n",
       "    </tr>\n",
       "    <tr>\n",
       "      <th>1</th>\n",
       "      <td>WJtFt</td>\n",
       "      <td>0.262778</td>\n",
       "      <td>0.269839</td>\n",
       "      <td>-2.530187</td>\n",
       "      <td>56.069697</td>\n",
       "    </tr>\n",
       "    <tr>\n",
       "      <th>2</th>\n",
       "      <td>ovLUW</td>\n",
       "      <td>0.194587</td>\n",
       "      <td>0.289035</td>\n",
       "      <td>-5.586433</td>\n",
       "      <td>62.871910</td>\n",
       "    </tr>\n",
       "    <tr>\n",
       "      <th>3</th>\n",
       "      <td>q6cA6</td>\n",
       "      <td>2.236060</td>\n",
       "      <td>-0.553760</td>\n",
       "      <td>0.930038</td>\n",
       "      <td>114.572842</td>\n",
       "    </tr>\n",
       "    <tr>\n",
       "      <th>4</th>\n",
       "      <td>WPMUX</td>\n",
       "      <td>-0.515993</td>\n",
       "      <td>1.716266</td>\n",
       "      <td>5.899011</td>\n",
       "      <td>149.600746</td>\n",
       "    </tr>\n",
       "  </tbody>\n",
       "</table>\n",
       "</div>"
      ],
      "text/plain": [
       "      id        f0        f1        f2     product\n",
       "0  fwXo0 -1.146987  0.963328 -0.828965   27.758673\n",
       "1  WJtFt  0.262778  0.269839 -2.530187   56.069697\n",
       "2  ovLUW  0.194587  0.289035 -5.586433   62.871910\n",
       "3  q6cA6  2.236060 -0.553760  0.930038  114.572842\n",
       "4  WPMUX -0.515993  1.716266  5.899011  149.600746"
      ]
     },
     "execution_count": 11,
     "metadata": {},
     "output_type": "execute_result"
    }
   ],
   "source": [
    "data3.head()"
   ]
  },
  {
   "cell_type": "code",
   "execution_count": 12,
   "metadata": {},
   "outputs": [
    {
     "data": {
      "text/plain": [
       "id         0\n",
       "f0         0\n",
       "f1         0\n",
       "f2         0\n",
       "product    0\n",
       "dtype: int64"
      ]
     },
     "execution_count": 12,
     "metadata": {},
     "output_type": "execute_result"
    }
   ],
   "source": [
    "data3.isnull().sum()"
   ]
  },
  {
   "cell_type": "markdown",
   "metadata": {},
   "source": [
    "Пропущеных данных нет"
   ]
  },
  {
   "cell_type": "code",
   "execution_count": 13,
   "metadata": {},
   "outputs": [
    {
     "data": {
      "text/plain": [
       "0"
      ]
     },
     "execution_count": 13,
     "metadata": {},
     "output_type": "execute_result"
    }
   ],
   "source": [
    "data3.duplicated().sum()"
   ]
  },
  {
   "cell_type": "markdown",
   "metadata": {},
   "source": [
    "Явных дубликатов в таблице не наблюдается"
   ]
  },
  {
   "cell_type": "markdown",
   "metadata": {},
   "source": [
    "Так как далее мы будем делать один и тот же процесс с каждым регионом, создадим список датасетов, чтобы ускорить работу"
   ]
  },
  {
   "cell_type": "code",
   "execution_count": 14,
   "metadata": {},
   "outputs": [],
   "source": [
    "data=[data1,data2,data3]"
   ]
  },
  {
   "cell_type": "markdown",
   "metadata": {},
   "source": [
    "Cтолбец id (id- уникальный идентификатор скважины) в каждой таблице никак не повлияет на ход нашего решения, поэтому можем избавиться от него"
   ]
  },
  {
   "cell_type": "code",
   "execution_count": 15,
   "metadata": {},
   "outputs": [
    {
     "data": {
      "text/html": [
       "<div>\n",
       "<style scoped>\n",
       "    .dataframe tbody tr th:only-of-type {\n",
       "        vertical-align: middle;\n",
       "    }\n",
       "\n",
       "    .dataframe tbody tr th {\n",
       "        vertical-align: top;\n",
       "    }\n",
       "\n",
       "    .dataframe thead th {\n",
       "        text-align: right;\n",
       "    }\n",
       "</style>\n",
       "<table border=\"1\" class=\"dataframe\">\n",
       "  <thead>\n",
       "    <tr style=\"text-align: right;\">\n",
       "      <th></th>\n",
       "      <th>f0</th>\n",
       "      <th>f1</th>\n",
       "      <th>f2</th>\n",
       "      <th>product</th>\n",
       "    </tr>\n",
       "  </thead>\n",
       "  <tbody>\n",
       "    <tr>\n",
       "      <th>0</th>\n",
       "      <td>0.705745</td>\n",
       "      <td>-0.497823</td>\n",
       "      <td>1.221170</td>\n",
       "      <td>105.280062</td>\n",
       "    </tr>\n",
       "    <tr>\n",
       "      <th>1</th>\n",
       "      <td>1.334711</td>\n",
       "      <td>-0.340164</td>\n",
       "      <td>4.365080</td>\n",
       "      <td>73.037750</td>\n",
       "    </tr>\n",
       "    <tr>\n",
       "      <th>2</th>\n",
       "      <td>1.022732</td>\n",
       "      <td>0.151990</td>\n",
       "      <td>1.419926</td>\n",
       "      <td>85.265647</td>\n",
       "    </tr>\n",
       "    <tr>\n",
       "      <th>3</th>\n",
       "      <td>-0.032172</td>\n",
       "      <td>0.139033</td>\n",
       "      <td>2.978566</td>\n",
       "      <td>168.620776</td>\n",
       "    </tr>\n",
       "    <tr>\n",
       "      <th>4</th>\n",
       "      <td>1.988431</td>\n",
       "      <td>0.155413</td>\n",
       "      <td>4.751769</td>\n",
       "      <td>154.036647</td>\n",
       "    </tr>\n",
       "  </tbody>\n",
       "</table>\n",
       "</div>"
      ],
      "text/plain": [
       "         f0        f1        f2     product\n",
       "0  0.705745 -0.497823  1.221170  105.280062\n",
       "1  1.334711 -0.340164  4.365080   73.037750\n",
       "2  1.022732  0.151990  1.419926   85.265647\n",
       "3 -0.032172  0.139033  2.978566  168.620776\n",
       "4  1.988431  0.155413  4.751769  154.036647"
      ]
     },
     "metadata": {},
     "output_type": "display_data"
    },
    {
     "data": {
      "text/html": [
       "<div>\n",
       "<style scoped>\n",
       "    .dataframe tbody tr th:only-of-type {\n",
       "        vertical-align: middle;\n",
       "    }\n",
       "\n",
       "    .dataframe tbody tr th {\n",
       "        vertical-align: top;\n",
       "    }\n",
       "\n",
       "    .dataframe thead th {\n",
       "        text-align: right;\n",
       "    }\n",
       "</style>\n",
       "<table border=\"1\" class=\"dataframe\">\n",
       "  <thead>\n",
       "    <tr style=\"text-align: right;\">\n",
       "      <th></th>\n",
       "      <th>f0</th>\n",
       "      <th>f1</th>\n",
       "      <th>f2</th>\n",
       "      <th>product</th>\n",
       "    </tr>\n",
       "  </thead>\n",
       "  <tbody>\n",
       "    <tr>\n",
       "      <th>0</th>\n",
       "      <td>-15.001348</td>\n",
       "      <td>-8.276000</td>\n",
       "      <td>-0.005876</td>\n",
       "      <td>3.179103</td>\n",
       "    </tr>\n",
       "    <tr>\n",
       "      <th>1</th>\n",
       "      <td>14.272088</td>\n",
       "      <td>-3.475083</td>\n",
       "      <td>0.999183</td>\n",
       "      <td>26.953261</td>\n",
       "    </tr>\n",
       "    <tr>\n",
       "      <th>2</th>\n",
       "      <td>6.263187</td>\n",
       "      <td>-5.948386</td>\n",
       "      <td>5.001160</td>\n",
       "      <td>134.766305</td>\n",
       "    </tr>\n",
       "    <tr>\n",
       "      <th>3</th>\n",
       "      <td>-13.081196</td>\n",
       "      <td>-11.506057</td>\n",
       "      <td>4.999415</td>\n",
       "      <td>137.945408</td>\n",
       "    </tr>\n",
       "    <tr>\n",
       "      <th>4</th>\n",
       "      <td>12.702195</td>\n",
       "      <td>-8.147433</td>\n",
       "      <td>5.004363</td>\n",
       "      <td>134.766305</td>\n",
       "    </tr>\n",
       "  </tbody>\n",
       "</table>\n",
       "</div>"
      ],
      "text/plain": [
       "          f0         f1        f2     product\n",
       "0 -15.001348  -8.276000 -0.005876    3.179103\n",
       "1  14.272088  -3.475083  0.999183   26.953261\n",
       "2   6.263187  -5.948386  5.001160  134.766305\n",
       "3 -13.081196 -11.506057  4.999415  137.945408\n",
       "4  12.702195  -8.147433  5.004363  134.766305"
      ]
     },
     "metadata": {},
     "output_type": "display_data"
    },
    {
     "data": {
      "text/html": [
       "<div>\n",
       "<style scoped>\n",
       "    .dataframe tbody tr th:only-of-type {\n",
       "        vertical-align: middle;\n",
       "    }\n",
       "\n",
       "    .dataframe tbody tr th {\n",
       "        vertical-align: top;\n",
       "    }\n",
       "\n",
       "    .dataframe thead th {\n",
       "        text-align: right;\n",
       "    }\n",
       "</style>\n",
       "<table border=\"1\" class=\"dataframe\">\n",
       "  <thead>\n",
       "    <tr style=\"text-align: right;\">\n",
       "      <th></th>\n",
       "      <th>f0</th>\n",
       "      <th>f1</th>\n",
       "      <th>f2</th>\n",
       "      <th>product</th>\n",
       "    </tr>\n",
       "  </thead>\n",
       "  <tbody>\n",
       "    <tr>\n",
       "      <th>0</th>\n",
       "      <td>-1.146987</td>\n",
       "      <td>0.963328</td>\n",
       "      <td>-0.828965</td>\n",
       "      <td>27.758673</td>\n",
       "    </tr>\n",
       "    <tr>\n",
       "      <th>1</th>\n",
       "      <td>0.262778</td>\n",
       "      <td>0.269839</td>\n",
       "      <td>-2.530187</td>\n",
       "      <td>56.069697</td>\n",
       "    </tr>\n",
       "    <tr>\n",
       "      <th>2</th>\n",
       "      <td>0.194587</td>\n",
       "      <td>0.289035</td>\n",
       "      <td>-5.586433</td>\n",
       "      <td>62.871910</td>\n",
       "    </tr>\n",
       "    <tr>\n",
       "      <th>3</th>\n",
       "      <td>2.236060</td>\n",
       "      <td>-0.553760</td>\n",
       "      <td>0.930038</td>\n",
       "      <td>114.572842</td>\n",
       "    </tr>\n",
       "    <tr>\n",
       "      <th>4</th>\n",
       "      <td>-0.515993</td>\n",
       "      <td>1.716266</td>\n",
       "      <td>5.899011</td>\n",
       "      <td>149.600746</td>\n",
       "    </tr>\n",
       "  </tbody>\n",
       "</table>\n",
       "</div>"
      ],
      "text/plain": [
       "         f0        f1        f2     product\n",
       "0 -1.146987  0.963328 -0.828965   27.758673\n",
       "1  0.262778  0.269839 -2.530187   56.069697\n",
       "2  0.194587  0.289035 -5.586433   62.871910\n",
       "3  2.236060 -0.553760  0.930038  114.572842\n",
       "4 -0.515993  1.716266  5.899011  149.600746"
      ]
     },
     "metadata": {},
     "output_type": "display_data"
    }
   ],
   "source": [
    "for i in range(len(data)):\n",
    "    data[i] = data[i].drop(['id'], axis=1)\n",
    "    display(data[i].head())"
   ]
  },
  {
   "cell_type": "code",
   "execution_count": 16,
   "metadata": {
    "scrolled": false
   },
   "outputs": [
    {
     "data": {
      "text/plain": [
       "id          99990\n",
       "f0         100000\n",
       "f1         100000\n",
       "f2         100000\n",
       "product    100000\n",
       "dtype: int64"
      ]
     },
     "execution_count": 16,
     "metadata": {},
     "output_type": "execute_result"
    }
   ],
   "source": [
    "data1.nunique()"
   ]
  },
  {
   "cell_type": "markdown",
   "metadata": {},
   "source": [
    "Есть несколько повторений id, но признаки у них разные, возможно проводились какие-то измерения трех других точек в этих же скважинах"
   ]
  },
  {
   "cell_type": "code",
   "execution_count": 17,
   "metadata": {
    "scrolled": true
   },
   "outputs": [
    {
     "data": {
      "text/plain": [
       "id          99996\n",
       "f0         100000\n",
       "f1         100000\n",
       "f2         100000\n",
       "product        12\n",
       "dtype: int64"
      ]
     },
     "execution_count": 17,
     "metadata": {},
     "output_type": "execute_result"
    }
   ],
   "source": [
    "data2.nunique()"
   ]
  },
  {
   "cell_type": "markdown",
   "metadata": {},
   "source": [
    "id почти у всех разные, но значений product всего 12, это никакая не ошибка, видимо, алгоритм измерения приходит к таким значениям, что в жизни, наверное, маловероятно"
   ]
  },
  {
   "cell_type": "code",
   "execution_count": 18,
   "metadata": {},
   "outputs": [
    {
     "data": {
      "text/plain": [
       "id          99996\n",
       "f0         100000\n",
       "f1         100000\n",
       "f2         100000\n",
       "product    100000\n",
       "dtype: int64"
      ]
     },
     "execution_count": 18,
     "metadata": {},
     "output_type": "execute_result"
    }
   ],
   "source": [
    "data3.nunique()"
   ]
  },
  {
   "cell_type": "markdown",
   "metadata": {},
   "source": [
    "Аналогично с первым датасетом"
   ]
  },
  {
   "cell_type": "markdown",
   "metadata": {},
   "source": [
    "Оставляем эти данные"
   ]
  },
  {
   "cell_type": "markdown",
   "metadata": {},
   "source": [
    "Рассмотрим распределение нефти от региона к региону "
   ]
  },
  {
   "cell_type": "code",
   "execution_count": 19,
   "metadata": {
    "scrolled": false
   },
   "outputs": [
    {
     "data": {
      "image/png": "[encoded data removed]",
      "text/plain": [
       "<Figure size 864x504 with 1 Axes>"
      ]
     },
     "metadata": {
      "needs_background": "light"
     },
     "output_type": "display_data"
    }
   ],
   "source": [
    "plt.title('Графики распределения запасов сырья в регионах')\n",
    "f=data1['product'].plot(kind='hist',figsize=(12,5),grid=True, legend=True, alpha=0.7, histtype='step', linewidth=3, label='1 регион')\n",
    "f1=data2['product'].plot(kind='hist',figsize=(12,5),grid=True, legend=True, alpha=0.7,histtype='step', linewidth=3, label='2 регион', ax=f)\n",
    "data3['product'].plot(kind='hist',figsize=(12,7),grid=True, legend=True, alpha=0.7,histtype='step', linewidth=3, label='3 регион', ax=f1)\n",
    "plt.ylabel('Запасы сырья, тыс.баррелей')\n",
    "plt.show()"
   ]
  },
  {
   "cell_type": "markdown",
   "metadata": {},
   "source": [
    "У региона 2 график запасов значительно отличается, от других регионов. Вероятно, это приведет к тому что значение среднего запаса нефти во 2 регионе, будет отличаться от 1 и 3, а у этих регионов средний запас будет похож"
   ]
  },
  {
   "cell_type": "code",
   "execution_count": 20,
   "metadata": {
    "scrolled": true
   },
   "outputs": [
    {
     "data": {
      "text/html": [
       "<div>\n",
       "<style scoped>\n",
       "    .dataframe tbody tr th:only-of-type {\n",
       "        vertical-align: middle;\n",
       "    }\n",
       "\n",
       "    .dataframe tbody tr th {\n",
       "        vertical-align: top;\n",
       "    }\n",
       "\n",
       "    .dataframe thead th {\n",
       "        text-align: right;\n",
       "    }\n",
       "</style>\n",
       "<table border=\"1\" class=\"dataframe\">\n",
       "  <thead>\n",
       "    <tr style=\"text-align: right;\">\n",
       "      <th></th>\n",
       "      <th>f0</th>\n",
       "      <th>f1</th>\n",
       "      <th>f2</th>\n",
       "      <th>product</th>\n",
       "    </tr>\n",
       "  </thead>\n",
       "  <tbody>\n",
       "    <tr>\n",
       "      <th>f0</th>\n",
       "      <td>1.000000</td>\n",
       "      <td>-0.440723</td>\n",
       "      <td>-0.003153</td>\n",
       "      <td>0.143536</td>\n",
       "    </tr>\n",
       "    <tr>\n",
       "      <th>f1</th>\n",
       "      <td>-0.440723</td>\n",
       "      <td>1.000000</td>\n",
       "      <td>0.001724</td>\n",
       "      <td>-0.192356</td>\n",
       "    </tr>\n",
       "    <tr>\n",
       "      <th>f2</th>\n",
       "      <td>-0.003153</td>\n",
       "      <td>0.001724</td>\n",
       "      <td>1.000000</td>\n",
       "      <td>0.483663</td>\n",
       "    </tr>\n",
       "    <tr>\n",
       "      <th>product</th>\n",
       "      <td>0.143536</td>\n",
       "      <td>-0.192356</td>\n",
       "      <td>0.483663</td>\n",
       "      <td>1.000000</td>\n",
       "    </tr>\n",
       "  </tbody>\n",
       "</table>\n",
       "</div>"
      ],
      "text/plain": [
       "               f0        f1        f2   product\n",
       "f0       1.000000 -0.440723 -0.003153  0.143536\n",
       "f1      -0.440723  1.000000  0.001724 -0.192356\n",
       "f2      -0.003153  0.001724  1.000000  0.483663\n",
       "product  0.143536 -0.192356  0.483663  1.000000"
      ]
     },
     "execution_count": 20,
     "metadata": {},
     "output_type": "execute_result"
    }
   ],
   "source": [
    "data1.corr()"
   ]
  },
  {
   "cell_type": "code",
   "execution_count": 21,
   "metadata": {
    "scrolled": true
   },
   "outputs": [
    {
     "data": {
      "text/html": [
       "<div>\n",
       "<style scoped>\n",
       "    .dataframe tbody tr th:only-of-type {\n",
       "        vertical-align: middle;\n",
       "    }\n",
       "\n",
       "    .dataframe tbody tr th {\n",
       "        vertical-align: top;\n",
       "    }\n",
       "\n",
       "    .dataframe thead th {\n",
       "        text-align: right;\n",
       "    }\n",
       "</style>\n",
       "<table border=\"1\" class=\"dataframe\">\n",
       "  <thead>\n",
       "    <tr style=\"text-align: right;\">\n",
       "      <th></th>\n",
       "      <th>f0</th>\n",
       "      <th>f1</th>\n",
       "      <th>f2</th>\n",
       "      <th>product</th>\n",
       "    </tr>\n",
       "  </thead>\n",
       "  <tbody>\n",
       "    <tr>\n",
       "      <th>f0</th>\n",
       "      <td>1.000000</td>\n",
       "      <td>0.182287</td>\n",
       "      <td>-0.001777</td>\n",
       "      <td>-0.030491</td>\n",
       "    </tr>\n",
       "    <tr>\n",
       "      <th>f1</th>\n",
       "      <td>0.182287</td>\n",
       "      <td>1.000000</td>\n",
       "      <td>-0.002595</td>\n",
       "      <td>-0.010155</td>\n",
       "    </tr>\n",
       "    <tr>\n",
       "      <th>f2</th>\n",
       "      <td>-0.001777</td>\n",
       "      <td>-0.002595</td>\n",
       "      <td>1.000000</td>\n",
       "      <td>0.999397</td>\n",
       "    </tr>\n",
       "    <tr>\n",
       "      <th>product</th>\n",
       "      <td>-0.030491</td>\n",
       "      <td>-0.010155</td>\n",
       "      <td>0.999397</td>\n",
       "      <td>1.000000</td>\n",
       "    </tr>\n",
       "  </tbody>\n",
       "</table>\n",
       "</div>"
      ],
      "text/plain": [
       "               f0        f1        f2   product\n",
       "f0       1.000000  0.182287 -0.001777 -0.030491\n",
       "f1       0.182287  1.000000 -0.002595 -0.010155\n",
       "f2      -0.001777 -0.002595  1.000000  0.999397\n",
       "product -0.030491 -0.010155  0.999397  1.000000"
      ]
     },
     "execution_count": 21,
     "metadata": {},
     "output_type": "execute_result"
    }
   ],
   "source": [
    "data2.corr()"
   ]
  },
  {
   "cell_type": "code",
   "execution_count": 22,
   "metadata": {
    "scrolled": true
   },
   "outputs": [
    {
     "data": {
      "text/html": [
       "<div>\n",
       "<style scoped>\n",
       "    .dataframe tbody tr th:only-of-type {\n",
       "        vertical-align: middle;\n",
       "    }\n",
       "\n",
       "    .dataframe tbody tr th {\n",
       "        vertical-align: top;\n",
       "    }\n",
       "\n",
       "    .dataframe thead th {\n",
       "        text-align: right;\n",
       "    }\n",
       "</style>\n",
       "<table border=\"1\" class=\"dataframe\">\n",
       "  <thead>\n",
       "    <tr style=\"text-align: right;\">\n",
       "      <th></th>\n",
       "      <th>f0</th>\n",
       "      <th>f1</th>\n",
       "      <th>f2</th>\n",
       "      <th>product</th>\n",
       "    </tr>\n",
       "  </thead>\n",
       "  <tbody>\n",
       "    <tr>\n",
       "      <th>f0</th>\n",
       "      <td>1.000000</td>\n",
       "      <td>0.000528</td>\n",
       "      <td>-0.000448</td>\n",
       "      <td>-0.001987</td>\n",
       "    </tr>\n",
       "    <tr>\n",
       "      <th>f1</th>\n",
       "      <td>0.000528</td>\n",
       "      <td>1.000000</td>\n",
       "      <td>0.000779</td>\n",
       "      <td>-0.001012</td>\n",
       "    </tr>\n",
       "    <tr>\n",
       "      <th>f2</th>\n",
       "      <td>-0.000448</td>\n",
       "      <td>0.000779</td>\n",
       "      <td>1.000000</td>\n",
       "      <td>0.445871</td>\n",
       "    </tr>\n",
       "    <tr>\n",
       "      <th>product</th>\n",
       "      <td>-0.001987</td>\n",
       "      <td>-0.001012</td>\n",
       "      <td>0.445871</td>\n",
       "      <td>1.000000</td>\n",
       "    </tr>\n",
       "  </tbody>\n",
       "</table>\n",
       "</div>"
      ],
      "text/plain": [
       "               f0        f1        f2   product\n",
       "f0       1.000000  0.000528 -0.000448 -0.001987\n",
       "f1       0.000528  1.000000  0.000779 -0.001012\n",
       "f2      -0.000448  0.000779  1.000000  0.445871\n",
       "product -0.001987 -0.001012  0.445871  1.000000"
      ]
     },
     "execution_count": 22,
     "metadata": {},
     "output_type": "execute_result"
    }
   ],
   "source": [
    "data3.corr()"
   ]
  },
  {
   "cell_type": "markdown",
   "metadata": {},
   "source": [
    "Интересно, что во 2 регионе видим сильную зависимость между profit от f2, это приведет к тому что наша модель будет давать гораздо более точные ответы"
   ]
  },
  {
   "cell_type": "markdown",
   "metadata": {},
   "source": [
    "## Обучение и проверка модели"
   ]
  },
  {
   "cell_type": "markdown",
   "metadata": {},
   "source": [
    "Напишем общую функцию для обучения моделей\n"
   ]
  },
  {
   "cell_type": "code",
   "execution_count": 23,
   "metadata": {
    "scrolled": true
   },
   "outputs": [
    {
     "name": "stdout",
     "output_type": "stream",
     "text": [
      "rmse 1 регионa 37.5794217150813\n",
      "средний запас 1 региона 92.59256778438035\n",
      "реальный запас 1 региона 92.07859674082927\n",
      "rmse 2 регионa 0.893099286775617\n",
      "средний запас 2 региона 68.728546895446\n",
      "реальный запас 2 региона 68.72313602435997\n",
      "rmse 3 регионa 40.02970873393434\n",
      "средний запас 3 региона 94.96504596800489\n",
      "реальный запас 3 региона 94.88423280885438\n"
     ]
    }
   ],
   "source": [
    "predictions=[]\n",
    "answers=[]\n",
    "for i in range(len(data)):\n",
    "    features = data[i].drop([\"product\"], axis=1)\n",
    "    target = data[i][\"product\"]\n",
    "    features_train, features_valid, target_train, target_valid = train_test_split(features, \n",
    "                                                                                  target, \n",
    "                                                                                  test_size=0.25, \n",
    "                                                                                  random_state=12345)\n",
    "\n",
    "    \n",
    "    model = LinearRegression()\n",
    "    model.fit(features_train, target_train)\n",
    "    predicted_valid = model.predict(features_valid)\n",
    "    rmse = (mean_squared_error(predicted_valid, target_valid))**(0.5)\n",
    "    predictions.append(predicted_valid)\n",
    "    answers.append(target_valid.reset_index(drop=True))\n",
    "    print('rmse',i+1,'регионa', rmse)\n",
    "    print('средний запас', i+1 ,'региона',predicted_valid.mean())\n",
    "    print('реальный запас', i+1 ,'региона',target_valid.mean())   "
   ]
  },
  {
   "cell_type": "markdown",
   "metadata": {},
   "source": [
    "cохраним ответы и предсказания"
   ]
  },
  {
   "cell_type": "markdown",
   "metadata": {},
   "source": [
    "**Вывод**\n",
    "\n",
    "Из полученных результатов RMSE 2 региона гораздо ниже, чем в двух других, при этом именно во втором регионе самые низкие запасы предсказанного сырья"
   ]
  },
  {
   "cell_type": "markdown",
   "metadata": {},
   "source": [
    "## Подготовка к расчёту прибыли"
   ]
  },
  {
   "cell_type": "markdown",
   "metadata": {},
   "source": [
    "Сохраним ключевые значения для расчетов"
   ]
  },
  {
   "cell_type": "code",
   "execution_count": 24,
   "metadata": {},
   "outputs": [],
   "source": [
    "number_points=500\n",
    "best_points=200\n",
    "budget=10**10\n",
    "cost=450000"
   ]
  },
  {
   "cell_type": "markdown",
   "metadata": {},
   "source": [
    "Рассчитаеи достаточный объём сырья для безубыточной разработки новой скважины"
   ]
  },
  {
   "cell_type": "code",
   "execution_count": 25,
   "metadata": {},
   "outputs": [
    {
     "data": {
      "text/plain": [
       "22222.222222222223"
      ]
     },
     "execution_count": 25,
     "metadata": {},
     "output_type": "execute_result"
    }
   ],
   "source": [
    "v=budget/cost\n",
    "v"
   ]
  },
  {
   "cell_type": "markdown",
   "metadata": {},
   "source": [
    "то есть нужно добывать минимум 22222 тысячи бареллей чтобы выйти в ноль\n",
    "\n",
    "Чтобы этого достичь в скважине дожно находиться в среднем:"
   ]
  },
  {
   "cell_type": "code",
   "execution_count": 26,
   "metadata": {},
   "outputs": [
    {
     "data": {
      "text/plain": [
       "111.11111111111111"
      ]
     },
     "execution_count": 26,
     "metadata": {},
     "output_type": "execute_result"
    }
   ],
   "source": [
    "v/best_points"
   ]
  },
  {
   "cell_type": "markdown",
   "metadata": {},
   "source": [
    "111 тысяч бареллей нефти в одной скважине в среднем"
   ]
  },
  {
   "cell_type": "markdown",
   "metadata": {},
   "source": [
    "В среднем в каждом регионе в одной скважине в среднем меньше чем необходимое нам значение, именно поэтому нужно выбрать 200 лучших скважин, чтобы получать прибыль"
   ]
  },
  {
   "cell_type": "markdown",
   "metadata": {},
   "source": [
    "**Напишем функцию расчета прибыли**"
   ]
  },
  {
   "cell_type": "code",
   "execution_count": 27,
   "metadata": {},
   "outputs": [
    {
     "name": "stdout",
     "output_type": "stream",
     "text": [
      "Регион 1 = 3.3208260431398506 млрд\n",
      "Регион 2 = 2.4150866966815108 млрд\n",
      "Регион 3 = 2.7103499635998327 млрд\n"
     ]
    }
   ],
   "source": [
    "def calc_profit(answers, predictions):\n",
    "    predictions_sorted = predictions.sort_values(ascending=False)\n",
    "    answer_selected = answers[predictions_sorted.index][:200]\n",
    "\n",
    "    return answer_selected.sum() * cost - budget\n",
    "\n",
    "\n",
    "for i  in range(3):\n",
    "    predictions_sample = pd.Series(predictions[i])      \n",
    "    \n",
    "    profit = calc_profit(answers[i], predictions_sample)\n",
    "    print('Регион',i+1,'=',profit/(10**9),'млрд')\n",
    "    "
   ]
  },
  {
   "cell_type": "markdown",
   "metadata": {},
   "source": [
    "## Расчёт прибыли и рисков "
   ]
  },
  {
   "cell_type": "code",
   "execution_count": 28,
   "metadata": {
    "scrolled": true
   },
   "outputs": [],
   "source": [
    "state = np.random.RandomState(12345)  "
   ]
  },
  {
   "cell_type": "code",
   "execution_count": 29,
   "metadata": {
    "scrolled": false
   },
   "outputs": [
    {
     "data": {
      "text/html": [
       "<div>\n",
       "<style scoped>\n",
       "    .dataframe tbody tr th:only-of-type {\n",
       "        vertical-align: middle;\n",
       "    }\n",
       "\n",
       "    .dataframe tbody tr th {\n",
       "        vertical-align: top;\n",
       "    }\n",
       "\n",
       "    .dataframe thead th {\n",
       "        text-align: right;\n",
       "    }\n",
       "</style>\n",
       "<table border=\"1\" class=\"dataframe\">\n",
       "  <thead>\n",
       "    <tr style=\"text-align: right;\">\n",
       "      <th></th>\n",
       "      <th>Регион</th>\n",
       "      <th>Средняя прибыль, млн.</th>\n",
       "      <th>95%-й доверительный интервал, млн.</th>\n",
       "      <th>Риск убытков, %</th>\n",
       "    </tr>\n",
       "  </thead>\n",
       "  <tbody>\n",
       "    <tr>\n",
       "      <th>0</th>\n",
       "      <td>1</td>\n",
       "      <td>396</td>\n",
       "      <td>-37 ... 843</td>\n",
       "      <td>6.9</td>\n",
       "    </tr>\n",
       "    <tr>\n",
       "      <th>1</th>\n",
       "      <td>2</td>\n",
       "      <td>461</td>\n",
       "      <td>140 ... 808</td>\n",
       "      <td>0.7</td>\n",
       "    </tr>\n",
       "    <tr>\n",
       "      <th>2</th>\n",
       "      <td>3</td>\n",
       "      <td>393</td>\n",
       "      <td>-28 ... 841</td>\n",
       "      <td>6.5</td>\n",
       "    </tr>\n",
       "  </tbody>\n",
       "</table>\n",
       "</div>"
      ],
      "text/plain": [
       "  Регион Средняя прибыль, млн. 95%-й доверительный интервал, млн.  \\\n",
       "0      1                   396                        -37 ... 843   \n",
       "1      2                   461                        140 ... 808   \n",
       "2      3                   393                        -28 ... 841   \n",
       "\n",
       "   Риск убытков, %  \n",
       "0              6.9  \n",
       "1              0.7  \n",
       "2              6.5  "
      ]
     },
     "metadata": {},
     "output_type": "display_data"
    }
   ],
   "source": [
    "result = pd.DataFrame(\n",
    "            columns=['Регион',\n",
    "            'Средняя прибыль, млн.', \n",
    "            '95%-й доверительный интервал, млн.', \n",
    "            'Риск убытков, %']\n",
    ")\n",
    "\n",
    "for v in range(3):\n",
    "    prediction = predictions[v]\n",
    "    target = answers[v]\n",
    "    profit_values = []\n",
    "    for i in range(1000):\n",
    "        prediction_series = pd.Series(prediction)\n",
    "        predictions_sample  = prediction_series.sample(500, replace=True, random_state=state)\n",
    "        target_sample = target[predictions_sample.index]\n",
    "        predictions_sample = predictions_sample.reset_index(drop = True)\n",
    "        target_sample = pd.Series(target_sample)\n",
    "        target_sample = target_sample.reset_index(drop = True)\n",
    "              \n",
    "        profit_values.append(calc_profit(target_sample, predictions_sample))\n",
    " \n",
    "    profit_values = pd.Series(profit_values)\n",
    "    mean_profit = round(profit_values.mean()/1000000)\n",
    "    confidence_interval = (f'{profit_values.quantile(0.05)/1000000:.0f} ... ' \n",
    "                           f'{profit_values.quantile(0.95)/1000000:.0f}') \n",
    "    risks = round((profit_values < 0).mean()*100, 1)   \n",
    "   \n",
    "    result.loc[len(result)] = [v+1, mean_profit, confidence_interval, risks]\n",
    "\n",
    "display(result)\n"
   ]
  },
  {
   "cell_type": "markdown",
   "metadata": {},
   "source": [
    "# Вывод"
   ]
  },
  {
   "cell_type": "markdown",
   "metadata": {},
   "source": [
    "Наиболее перспективным для разработки представляется регион 2, поскольку риски убытков наименьшие, а именно меньше 1,5%, что гораздо  меньше рисков в двух других регионах. Также в этом регионе наибольшая средняя прибыль. Так что 2 регион самый выгодный"
   ]
  }
 ],
 "metadata": {
  "ExecuteTimeLog": [
   {
    "duration": 451,
    "start_time": "2023-07-30T17:55:54.956Z"
   },
   {
    "duration": 1833,
    "start_time": "2023-07-30T17:55:56.040Z"
   },
   {
    "duration": 400,
    "start_time": "2023-07-31T09:35:21.027Z"
   },
   {
    "duration": 771,
    "start_time": "2023-07-31T09:35:21.883Z"
   },
   {
    "duration": 16,
    "start_time": "2023-07-31T09:35:23.474Z"
   },
   {
    "duration": 9,
    "start_time": "2023-07-31T09:35:27.765Z"
   },
   {
    "duration": 19,
    "start_time": "2023-07-31T09:35:56.668Z"
   },
   {
    "duration": 12,
    "start_time": "2023-07-31T09:37:14.458Z"
   },
   {
    "duration": 11,
    "start_time": "2023-07-31T09:37:16.765Z"
   },
   {
    "duration": 13,
    "start_time": "2023-07-31T09:37:31.715Z"
   },
   {
    "duration": 11,
    "start_time": "2023-07-31T09:38:23.499Z"
   },
   {
    "duration": 54,
    "start_time": "2023-07-31T09:39:19.058Z"
   },
   {
    "duration": 185,
    "start_time": "2023-07-31T09:39:37.173Z"
   },
   {
    "duration": 9,
    "start_time": "2023-07-31T09:42:40.979Z"
   },
   {
    "duration": 44,
    "start_time": "2023-07-31T09:43:11.994Z"
   },
   {
    "duration": 9,
    "start_time": "2023-07-31T09:44:23.580Z"
   },
   {
    "duration": 61,
    "start_time": "2023-07-31T09:44:26.099Z"
   },
   {
    "duration": 3,
    "start_time": "2023-07-31T09:46:00.770Z"
   },
   {
    "duration": 62,
    "start_time": "2023-07-31T09:48:20.619Z"
   },
   {
    "duration": 8,
    "start_time": "2023-07-31T09:48:42.186Z"
   },
   {
    "duration": 12,
    "start_time": "2023-07-31T09:49:11.729Z"
   },
   {
    "duration": 14,
    "start_time": "2023-07-31T09:49:19.076Z"
   },
   {
    "duration": 12,
    "start_time": "2023-07-31T09:49:34.369Z"
   },
   {
    "duration": 2,
    "start_time": "2023-07-31T09:49:36.475Z"
   },
   {
    "duration": 353,
    "start_time": "2023-07-31T09:49:36.478Z"
   },
   {
    "duration": 8,
    "start_time": "2023-07-31T09:49:36.833Z"
   },
   {
    "duration": 23,
    "start_time": "2023-07-31T09:49:36.843Z"
   },
   {
    "duration": 14,
    "start_time": "2023-07-31T09:49:36.869Z"
   },
   {
    "duration": 49,
    "start_time": "2023-07-31T09:49:36.885Z"
   },
   {
    "duration": 8,
    "start_time": "2023-07-31T09:49:36.936Z"
   },
   {
    "duration": 25,
    "start_time": "2023-07-31T09:49:36.945Z"
   },
   {
    "duration": 13,
    "start_time": "2023-07-31T09:49:36.972Z"
   },
   {
    "duration": 46,
    "start_time": "2023-07-31T09:49:36.987Z"
   },
   {
    "duration": 8,
    "start_time": "2023-07-31T09:49:37.034Z"
   },
   {
    "duration": 28,
    "start_time": "2023-07-31T09:49:37.044Z"
   },
   {
    "duration": 69,
    "start_time": "2023-07-31T09:49:37.074Z"
   },
   {
    "duration": 2,
    "start_time": "2023-07-31T09:49:37.146Z"
   },
   {
    "duration": 39,
    "start_time": "2023-07-31T09:49:37.150Z"
   },
   {
    "duration": 947,
    "start_time": "2023-07-31T10:24:29.015Z"
   },
   {
    "duration": 4,
    "start_time": "2023-07-31T10:28:01.090Z"
   },
   {
    "duration": 4,
    "start_time": "2023-07-31T10:31:55.160Z"
   },
   {
    "duration": 84,
    "start_time": "2023-07-31T10:32:02.143Z"
   },
   {
    "duration": 6,
    "start_time": "2023-07-31T10:37:21.954Z"
   },
   {
    "duration": 5,
    "start_time": "2023-07-31T10:37:27.785Z"
   },
   {
    "duration": 48,
    "start_time": "2023-07-31T10:37:33.119Z"
   },
   {
    "duration": 4,
    "start_time": "2023-07-31T10:38:19.155Z"
   },
   {
    "duration": 440,
    "start_time": "2023-07-31T10:38:19.162Z"
   },
   {
    "duration": 14,
    "start_time": "2023-07-31T10:38:19.604Z"
   },
   {
    "duration": 48,
    "start_time": "2023-07-31T10:38:19.621Z"
   },
   {
    "duration": 12,
    "start_time": "2023-07-31T10:38:19.672Z"
   },
   {
    "duration": 42,
    "start_time": "2023-07-31T10:38:19.686Z"
   },
   {
    "duration": 11,
    "start_time": "2023-07-31T10:38:19.730Z"
   },
   {
    "duration": 37,
    "start_time": "2023-07-31T10:38:19.743Z"
   },
   {
    "duration": 10,
    "start_time": "2023-07-31T10:38:19.782Z"
   },
   {
    "duration": 49,
    "start_time": "2023-07-31T10:38:19.793Z"
   },
   {
    "duration": 12,
    "start_time": "2023-07-31T10:38:19.843Z"
   },
   {
    "duration": 26,
    "start_time": "2023-07-31T10:38:19.857Z"
   },
   {
    "duration": 51,
    "start_time": "2023-07-31T10:38:19.885Z"
   },
   {
    "duration": 3,
    "start_time": "2023-07-31T10:38:19.939Z"
   },
   {
    "duration": 28,
    "start_time": "2023-07-31T10:38:19.944Z"
   },
   {
    "duration": 26,
    "start_time": "2023-07-31T10:38:19.974Z"
   },
   {
    "duration": 75,
    "start_time": "2023-07-31T10:38:20.001Z"
   },
   {
    "duration": 6,
    "start_time": "2023-07-31T10:39:19.695Z"
   },
   {
    "duration": 60,
    "start_time": "2023-07-31T10:39:20.478Z"
   },
   {
    "duration": 398,
    "start_time": "2023-07-31T10:42:56.013Z"
   },
   {
    "duration": 326,
    "start_time": "2023-07-31T10:44:30.396Z"
   },
   {
    "duration": 215,
    "start_time": "2023-07-31T10:44:54.212Z"
   },
   {
    "duration": 275,
    "start_time": "2023-07-31T10:45:03.048Z"
   },
   {
    "duration": 357,
    "start_time": "2023-07-31T11:08:44.668Z"
   },
   {
    "duration": 224,
    "start_time": "2023-07-31T11:08:55.530Z"
   },
   {
    "duration": 407,
    "start_time": "2023-07-31T11:09:31.298Z"
   },
   {
    "duration": 4,
    "start_time": "2023-07-31T11:45:19.889Z"
   },
   {
    "duration": 199,
    "start_time": "2023-07-31T11:49:11.346Z"
   },
   {
    "duration": 5,
    "start_time": "2023-07-31T11:51:00.886Z"
   },
   {
    "duration": 7,
    "start_time": "2023-07-31T11:52:46.234Z"
   },
   {
    "duration": 580,
    "start_time": "2023-07-31T11:53:11.655Z"
   },
   {
    "duration": 531,
    "start_time": "2023-07-31T12:00:19.692Z"
   },
   {
    "duration": 62,
    "start_time": "2023-07-31T12:02:53.120Z"
   },
   {
    "duration": 56,
    "start_time": "2023-07-31T12:03:14.127Z"
   },
   {
    "duration": 3,
    "start_time": "2023-07-31T12:03:46.789Z"
   },
   {
    "duration": 569,
    "start_time": "2023-07-31T12:03:46.795Z"
   },
   {
    "duration": 11,
    "start_time": "2023-07-31T12:03:47.365Z"
   },
   {
    "duration": 36,
    "start_time": "2023-07-31T12:03:47.378Z"
   },
   {
    "duration": 19,
    "start_time": "2023-07-31T12:03:47.423Z"
   },
   {
    "duration": 73,
    "start_time": "2023-07-31T12:03:47.444Z"
   },
   {
    "duration": 13,
    "start_time": "2023-07-31T12:03:47.519Z"
   },
   {
    "duration": 47,
    "start_time": "2023-07-31T12:03:47.534Z"
   },
   {
    "duration": 18,
    "start_time": "2023-07-31T12:03:47.583Z"
   },
   {
    "duration": 79,
    "start_time": "2023-07-31T12:03:47.604Z"
   },
   {
    "duration": 10,
    "start_time": "2023-07-31T12:03:47.685Z"
   },
   {
    "duration": 61,
    "start_time": "2023-07-31T12:03:47.697Z"
   },
   {
    "duration": 65,
    "start_time": "2023-07-31T12:03:47.760Z"
   },
   {
    "duration": 3,
    "start_time": "2023-07-31T12:03:47.828Z"
   },
   {
    "duration": 36,
    "start_time": "2023-07-31T12:03:47.833Z"
   },
   {
    "duration": 334,
    "start_time": "2023-07-31T12:03:47.871Z"
   },
   {
    "duration": 142,
    "start_time": "2023-07-31T12:03:48.206Z"
   },
   {
    "duration": 0,
    "start_time": "2023-07-31T12:03:48.350Z"
   },
   {
    "duration": 1,
    "start_time": "2023-07-31T12:03:48.351Z"
   },
   {
    "duration": 0,
    "start_time": "2023-07-31T12:03:48.353Z"
   },
   {
    "duration": 56,
    "start_time": "2023-07-31T12:04:56.038Z"
   },
   {
    "duration": 56,
    "start_time": "2023-07-31T12:06:02.946Z"
   },
   {
    "duration": 342,
    "start_time": "2023-07-31T12:07:17.020Z"
   },
   {
    "duration": 39,
    "start_time": "2023-07-31T12:07:30.146Z"
   },
   {
    "duration": 7,
    "start_time": "2023-07-31T12:08:36.140Z"
   },
   {
    "duration": 503,
    "start_time": "2023-07-31T12:08:36.149Z"
   },
   {
    "duration": 9,
    "start_time": "2023-07-31T12:08:36.654Z"
   },
   {
    "duration": 87,
    "start_time": "2023-07-31T12:08:36.665Z"
   },
   {
    "duration": 25,
    "start_time": "2023-07-31T12:08:36.754Z"
   },
   {
    "duration": 73,
    "start_time": "2023-07-31T12:08:36.781Z"
   },
   {
    "duration": 10,
    "start_time": "2023-07-31T12:08:36.856Z"
   },
   {
    "duration": 27,
    "start_time": "2023-07-31T12:08:36.869Z"
   },
   {
    "duration": 24,
    "start_time": "2023-07-31T12:08:36.897Z"
   },
   {
    "duration": 68,
    "start_time": "2023-07-31T12:08:36.923Z"
   },
   {
    "duration": 18,
    "start_time": "2023-07-31T12:08:36.995Z"
   },
   {
    "duration": 49,
    "start_time": "2023-07-31T12:08:37.014Z"
   },
   {
    "duration": 64,
    "start_time": "2023-07-31T12:08:37.065Z"
   },
   {
    "duration": 3,
    "start_time": "2023-07-31T12:08:37.138Z"
   },
   {
    "duration": 35,
    "start_time": "2023-07-31T12:08:37.143Z"
   },
   {
    "duration": 64,
    "start_time": "2023-07-31T12:08:37.180Z"
   },
   {
    "duration": 0,
    "start_time": "2023-07-31T12:08:37.246Z"
   },
   {
    "duration": 0,
    "start_time": "2023-07-31T12:08:37.248Z"
   },
   {
    "duration": 0,
    "start_time": "2023-07-31T12:08:37.249Z"
   },
   {
    "duration": 0,
    "start_time": "2023-07-31T12:08:37.250Z"
   },
   {
    "duration": 0,
    "start_time": "2023-07-31T12:08:37.252Z"
   },
   {
    "duration": 419,
    "start_time": "2023-07-31T12:09:17.882Z"
   },
   {
    "duration": 51,
    "start_time": "2023-07-31T12:09:36.921Z"
   },
   {
    "duration": 21,
    "start_time": "2023-07-31T12:10:07.326Z"
   },
   {
    "duration": 20,
    "start_time": "2023-07-31T12:10:23.264Z"
   },
   {
    "duration": 74,
    "start_time": "2023-07-31T12:10:45.041Z"
   },
   {
    "duration": 20,
    "start_time": "2023-07-31T12:10:50.274Z"
   },
   {
    "duration": 33,
    "start_time": "2023-07-31T12:11:06.745Z"
   },
   {
    "duration": 22,
    "start_time": "2023-07-31T12:11:18.953Z"
   },
   {
    "duration": 465,
    "start_time": "2023-07-31T12:13:51.341Z"
   },
   {
    "duration": 360,
    "start_time": "2023-07-31T12:14:10.145Z"
   },
   {
    "duration": 4,
    "start_time": "2023-07-31T12:14:13.259Z"
   },
   {
    "duration": 480,
    "start_time": "2023-07-31T12:14:13.265Z"
   },
   {
    "duration": 14,
    "start_time": "2023-07-31T12:14:13.746Z"
   },
   {
    "duration": 22,
    "start_time": "2023-07-31T12:14:13.762Z"
   },
   {
    "duration": 50,
    "start_time": "2023-07-31T12:14:13.787Z"
   },
   {
    "duration": 52,
    "start_time": "2023-07-31T12:14:13.839Z"
   },
   {
    "duration": 35,
    "start_time": "2023-07-31T12:14:13.893Z"
   },
   {
    "duration": 42,
    "start_time": "2023-07-31T12:14:13.935Z"
   },
   {
    "duration": 15,
    "start_time": "2023-07-31T12:14:13.979Z"
   },
   {
    "duration": 86,
    "start_time": "2023-07-31T12:14:13.996Z"
   },
   {
    "duration": 10,
    "start_time": "2023-07-31T12:14:14.084Z"
   },
   {
    "duration": 61,
    "start_time": "2023-07-31T12:14:14.095Z"
   },
   {
    "duration": 85,
    "start_time": "2023-07-31T12:14:14.160Z"
   },
   {
    "duration": 4,
    "start_time": "2023-07-31T12:14:14.249Z"
   },
   {
    "duration": 86,
    "start_time": "2023-07-31T12:14:14.255Z"
   },
   {
    "duration": 302,
    "start_time": "2023-07-31T12:14:14.347Z"
   },
   {
    "duration": 151,
    "start_time": "2023-07-31T12:14:14.658Z"
   },
   {
    "duration": 126,
    "start_time": "2023-07-31T12:14:14.837Z"
   },
   {
    "duration": 221,
    "start_time": "2023-07-31T12:14:14.967Z"
   },
   {
    "duration": 27,
    "start_time": "2023-07-31T12:14:15.196Z"
   },
   {
    "duration": 127,
    "start_time": "2023-07-31T12:14:15.232Z"
   },
   {
    "duration": 12,
    "start_time": "2023-07-31T12:14:15.361Z"
   },
   {
    "duration": 4,
    "start_time": "2023-07-31T12:16:25.990Z"
   },
   {
    "duration": 12,
    "start_time": "2023-07-31T12:16:47.085Z"
   },
   {
    "duration": 14,
    "start_time": "2023-07-31T12:19:02.644Z"
   },
   {
    "duration": 21,
    "start_time": "2023-07-31T12:19:18.364Z"
   },
   {
    "duration": 4,
    "start_time": "2023-07-31T12:22:02.349Z"
   },
   {
    "duration": 28,
    "start_time": "2023-07-31T12:22:03.241Z"
   },
   {
    "duration": 15,
    "start_time": "2023-07-31T12:23:58.878Z"
   },
   {
    "duration": 13,
    "start_time": "2023-07-31T12:24:14.658Z"
   },
   {
    "duration": 53,
    "start_time": "2023-07-31T12:24:22.692Z"
   },
   {
    "duration": 7,
    "start_time": "2023-07-31T12:27:24.030Z"
   },
   {
    "duration": 478,
    "start_time": "2023-07-31T12:27:24.039Z"
   },
   {
    "duration": 15,
    "start_time": "2023-07-31T12:27:24.518Z"
   },
   {
    "duration": 19,
    "start_time": "2023-07-31T12:27:24.534Z"
   },
   {
    "duration": 29,
    "start_time": "2023-07-31T12:27:24.555Z"
   },
   {
    "duration": 70,
    "start_time": "2023-07-31T12:27:24.587Z"
   },
   {
    "duration": 23,
    "start_time": "2023-07-31T12:27:24.659Z"
   },
   {
    "duration": 37,
    "start_time": "2023-07-31T12:27:24.684Z"
   },
   {
    "duration": 59,
    "start_time": "2023-07-31T12:27:24.723Z"
   },
   {
    "duration": 85,
    "start_time": "2023-07-31T12:27:24.784Z"
   },
   {
    "duration": 9,
    "start_time": "2023-07-31T12:27:24.870Z"
   },
   {
    "duration": 52,
    "start_time": "2023-07-31T12:27:24.881Z"
   },
   {
    "duration": 71,
    "start_time": "2023-07-31T12:27:24.942Z"
   },
   {
    "duration": 15,
    "start_time": "2023-07-31T12:27:25.015Z"
   },
   {
    "duration": 36,
    "start_time": "2023-07-31T12:27:25.032Z"
   },
   {
    "duration": 347,
    "start_time": "2023-07-31T12:27:25.070Z"
   },
   {
    "duration": 104,
    "start_time": "2023-07-31T12:27:25.455Z"
   },
   {
    "duration": 178,
    "start_time": "2023-07-31T12:27:25.561Z"
   },
   {
    "duration": 271,
    "start_time": "2023-07-31T12:27:25.745Z"
   },
   {
    "duration": 130,
    "start_time": "2023-07-31T12:27:26.018Z"
   },
   {
    "duration": 12,
    "start_time": "2023-07-31T12:27:26.154Z"
   },
   {
    "duration": 41,
    "start_time": "2023-07-31T12:27:26.168Z"
   },
   {
    "duration": 57,
    "start_time": "2023-07-31T12:27:26.214Z"
   },
   {
    "duration": 29,
    "start_time": "2023-07-31T12:27:45.242Z"
   },
   {
    "duration": 41,
    "start_time": "2023-07-31T12:28:07.334Z"
   },
   {
    "duration": 38,
    "start_time": "2023-07-31T12:29:05.843Z"
   },
   {
    "duration": 183,
    "start_time": "2023-07-31T12:29:15.555Z"
   },
   {
    "duration": 42,
    "start_time": "2023-07-31T12:29:28.979Z"
   },
   {
    "duration": 57,
    "start_time": "2023-07-31T12:30:38.090Z"
   },
   {
    "duration": 45,
    "start_time": "2023-07-31T12:30:42.726Z"
   },
   {
    "duration": 46,
    "start_time": "2023-07-31T12:31:36.059Z"
   },
   {
    "duration": 20,
    "start_time": "2023-07-31T12:32:43.123Z"
   },
   {
    "duration": 19,
    "start_time": "2023-07-31T12:33:29.416Z"
   },
   {
    "duration": 20,
    "start_time": "2023-07-31T12:34:18.420Z"
   },
   {
    "duration": 5,
    "start_time": "2023-07-31T12:35:55.396Z"
   },
   {
    "duration": 17,
    "start_time": "2023-07-31T12:36:17.133Z"
   },
   {
    "duration": 12,
    "start_time": "2023-07-31T12:36:33.334Z"
   },
   {
    "duration": 18,
    "start_time": "2023-07-31T12:36:44.846Z"
   },
   {
    "duration": 15,
    "start_time": "2023-07-31T12:37:03.232Z"
   },
   {
    "duration": 3,
    "start_time": "2023-07-31T12:42:27.947Z"
   },
   {
    "duration": 22,
    "start_time": "2023-07-31T12:42:44.091Z"
   },
   {
    "duration": 0,
    "start_time": "2023-07-31T12:43:05.453Z"
   },
   {
    "duration": 14,
    "start_time": "2023-07-31T12:43:55.731Z"
   },
   {
    "duration": 12,
    "start_time": "2023-07-31T12:43:58.720Z"
   },
   {
    "duration": 3,
    "start_time": "2023-07-31T12:44:04.453Z"
   },
   {
    "duration": 399,
    "start_time": "2023-07-31T12:44:04.458Z"
   },
   {
    "duration": 8,
    "start_time": "2023-07-31T12:44:04.859Z"
   },
   {
    "duration": 24,
    "start_time": "2023-07-31T12:44:04.868Z"
   },
   {
    "duration": 64,
    "start_time": "2023-07-31T12:44:04.894Z"
   },
   {
    "duration": 120,
    "start_time": "2023-07-31T12:44:04.959Z"
   },
   {
    "duration": 16,
    "start_time": "2023-07-31T12:44:05.080Z"
   },
   {
    "duration": 76,
    "start_time": "2023-07-31T12:44:05.097Z"
   },
   {
    "duration": 82,
    "start_time": "2023-07-31T12:44:05.175Z"
   },
   {
    "duration": 108,
    "start_time": "2023-07-31T12:44:05.258Z"
   },
   {
    "duration": 22,
    "start_time": "2023-07-31T12:44:05.368Z"
   },
   {
    "duration": 64,
    "start_time": "2023-07-31T12:44:05.392Z"
   },
   {
    "duration": 60,
    "start_time": "2023-07-31T12:44:05.458Z"
   },
   {
    "duration": 9,
    "start_time": "2023-07-31T12:44:05.521Z"
   },
   {
    "duration": 25,
    "start_time": "2023-07-31T12:44:05.532Z"
   },
   {
    "duration": 242,
    "start_time": "2023-07-31T12:44:05.559Z"
   },
   {
    "duration": 114,
    "start_time": "2023-07-31T12:44:05.805Z"
   },
   {
    "duration": 214,
    "start_time": "2023-07-31T12:44:05.921Z"
   },
   {
    "duration": 233,
    "start_time": "2023-07-31T12:44:06.138Z"
   },
   {
    "duration": 162,
    "start_time": "2023-07-31T12:44:06.374Z"
   },
   {
    "duration": 15,
    "start_time": "2023-07-31T12:44:06.537Z"
   },
   {
    "duration": 8,
    "start_time": "2023-07-31T12:44:06.554Z"
   },
   {
    "duration": 28,
    "start_time": "2023-07-31T12:44:06.563Z"
   },
   {
    "duration": 3,
    "start_time": "2023-07-31T12:44:06.593Z"
   },
   {
    "duration": 14895,
    "start_time": "2023-07-31T12:44:06.598Z"
   },
   {
    "duration": 18,
    "start_time": "2023-07-31T12:45:37.011Z"
   },
   {
    "duration": 4,
    "start_time": "2023-07-31T12:48:36.638Z"
   },
   {
    "duration": 14,
    "start_time": "2023-07-31T12:49:51.765Z"
   },
   {
    "duration": 17,
    "start_time": "2023-07-31T12:50:04.235Z"
   },
   {
    "duration": 18,
    "start_time": "2023-07-31T12:50:18.434Z"
   },
   {
    "duration": 3,
    "start_time": "2023-07-31T12:50:21.096Z"
   },
   {
    "duration": 375,
    "start_time": "2023-07-31T12:50:21.101Z"
   },
   {
    "duration": 8,
    "start_time": "2023-07-31T12:50:21.478Z"
   },
   {
    "duration": 22,
    "start_time": "2023-07-31T12:50:21.488Z"
   },
   {
    "duration": 14,
    "start_time": "2023-07-31T12:50:21.512Z"
   },
   {
    "duration": 41,
    "start_time": "2023-07-31T12:50:21.527Z"
   },
   {
    "duration": 7,
    "start_time": "2023-07-31T12:50:21.569Z"
   },
   {
    "duration": 33,
    "start_time": "2023-07-31T12:50:21.577Z"
   },
   {
    "duration": 19,
    "start_time": "2023-07-31T12:50:21.611Z"
   },
   {
    "duration": 36,
    "start_time": "2023-07-31T12:50:21.632Z"
   },
   {
    "duration": 8,
    "start_time": "2023-07-31T12:50:21.669Z"
   },
   {
    "duration": 42,
    "start_time": "2023-07-31T12:50:21.679Z"
   },
   {
    "duration": 41,
    "start_time": "2023-07-31T12:50:21.725Z"
   },
   {
    "duration": 2,
    "start_time": "2023-07-31T12:50:21.769Z"
   },
   {
    "duration": 50,
    "start_time": "2023-07-31T12:50:21.773Z"
   },
   {
    "duration": 277,
    "start_time": "2023-07-31T12:50:21.824Z"
   },
   {
    "duration": 116,
    "start_time": "2023-07-31T12:50:22.102Z"
   },
   {
    "duration": 184,
    "start_time": "2023-07-31T12:50:22.220Z"
   },
   {
    "duration": 204,
    "start_time": "2023-07-31T12:50:22.411Z"
   },
   {
    "duration": 4,
    "start_time": "2023-07-31T12:50:22.620Z"
   },
   {
    "duration": 112,
    "start_time": "2023-07-31T12:50:22.702Z"
   },
   {
    "duration": 6,
    "start_time": "2023-07-31T12:50:22.815Z"
   },
   {
    "duration": 20,
    "start_time": "2023-07-31T12:50:22.822Z"
   },
   {
    "duration": 3,
    "start_time": "2023-07-31T12:50:22.843Z"
   },
   {
    "duration": 5,
    "start_time": "2023-07-31T12:50:22.847Z"
   },
   {
    "duration": 3,
    "start_time": "2023-07-31T12:52:51.139Z"
   },
   {
    "duration": 10,
    "start_time": "2023-07-31T12:53:39.959Z"
   },
   {
    "duration": 3,
    "start_time": "2023-07-31T12:53:54.241Z"
   },
   {
    "duration": 11,
    "start_time": "2023-07-31T12:53:54.958Z"
   },
   {
    "duration": 2,
    "start_time": "2023-07-31T12:54:57.161Z"
   },
   {
    "duration": 336,
    "start_time": "2023-07-31T12:54:57.165Z"
   },
   {
    "duration": 8,
    "start_time": "2023-07-31T12:54:57.503Z"
   },
   {
    "duration": 17,
    "start_time": "2023-07-31T12:54:57.513Z"
   },
   {
    "duration": 12,
    "start_time": "2023-07-31T12:54:57.531Z"
   },
   {
    "duration": 38,
    "start_time": "2023-07-31T12:54:57.544Z"
   },
   {
    "duration": 7,
    "start_time": "2023-07-31T12:54:57.600Z"
   },
   {
    "duration": 14,
    "start_time": "2023-07-31T12:54:57.609Z"
   },
   {
    "duration": 8,
    "start_time": "2023-07-31T12:54:57.625Z"
   },
   {
    "duration": 34,
    "start_time": "2023-07-31T12:54:57.634Z"
   },
   {
    "duration": 8,
    "start_time": "2023-07-31T12:54:57.670Z"
   },
   {
    "duration": 43,
    "start_time": "2023-07-31T12:54:57.679Z"
   },
   {
    "duration": 37,
    "start_time": "2023-07-31T12:54:57.723Z"
   },
   {
    "duration": 2,
    "start_time": "2023-07-31T12:54:57.762Z"
   },
   {
    "duration": 33,
    "start_time": "2023-07-31T12:54:57.766Z"
   },
   {
    "duration": 301,
    "start_time": "2023-07-31T12:54:57.801Z"
   },
   {
    "duration": 111,
    "start_time": "2023-07-31T12:54:58.104Z"
   },
   {
    "duration": 190,
    "start_time": "2023-07-31T12:54:58.217Z"
   },
   {
    "duration": 191,
    "start_time": "2023-07-31T12:54:58.409Z"
   },
   {
    "duration": 98,
    "start_time": "2023-07-31T12:54:58.602Z"
   },
   {
    "duration": 8,
    "start_time": "2023-07-31T12:54:58.702Z"
   },
   {
    "duration": 9,
    "start_time": "2023-07-31T12:54:58.712Z"
   },
   {
    "duration": 20,
    "start_time": "2023-07-31T12:54:58.723Z"
   },
   {
    "duration": 2,
    "start_time": "2023-07-31T12:54:58.747Z"
   },
   {
    "duration": 18,
    "start_time": "2023-07-31T12:55:16.967Z"
   },
   {
    "duration": 13,
    "start_time": "2023-07-31T12:56:26.767Z"
   },
   {
    "duration": 12,
    "start_time": "2023-07-31T12:56:31.175Z"
   },
   {
    "duration": 12,
    "start_time": "2023-07-31T12:56:41.775Z"
   },
   {
    "duration": 13,
    "start_time": "2023-07-31T12:56:52.695Z"
   },
   {
    "duration": 9,
    "start_time": "2023-07-31T12:57:08.710Z"
   },
   {
    "duration": 10,
    "start_time": "2023-07-31T12:57:43.036Z"
   },
   {
    "duration": 3,
    "start_time": "2023-07-31T12:57:48.973Z"
   },
   {
    "duration": 3,
    "start_time": "2023-07-31T12:58:07.011Z"
   },
   {
    "duration": 358,
    "start_time": "2023-07-31T12:58:07.016Z"
   },
   {
    "duration": 8,
    "start_time": "2023-07-31T12:58:07.376Z"
   },
   {
    "duration": 26,
    "start_time": "2023-07-31T12:58:07.386Z"
   },
   {
    "duration": 9,
    "start_time": "2023-07-31T12:58:07.414Z"
   },
   {
    "duration": 39,
    "start_time": "2023-07-31T12:58:07.424Z"
   },
   {
    "duration": 7,
    "start_time": "2023-07-31T12:58:07.465Z"
   },
   {
    "duration": 29,
    "start_time": "2023-07-31T12:58:07.474Z"
   },
   {
    "duration": 11,
    "start_time": "2023-07-31T12:58:07.506Z"
   },
   {
    "duration": 43,
    "start_time": "2023-07-31T12:58:07.518Z"
   },
   {
    "duration": 9,
    "start_time": "2023-07-31T12:58:07.562Z"
   },
   {
    "duration": 30,
    "start_time": "2023-07-31T12:58:07.572Z"
   },
   {
    "duration": 40,
    "start_time": "2023-07-31T12:58:07.604Z"
   },
   {
    "duration": 2,
    "start_time": "2023-07-31T12:58:07.645Z"
   },
   {
    "duration": 42,
    "start_time": "2023-07-31T12:58:07.649Z"
   },
   {
    "duration": 312,
    "start_time": "2023-07-31T12:58:07.692Z"
   },
   {
    "duration": 116,
    "start_time": "2023-07-31T12:58:08.007Z"
   },
   {
    "duration": 193,
    "start_time": "2023-07-31T12:58:08.125Z"
   },
   {
    "duration": 94,
    "start_time": "2023-07-31T12:58:08.320Z"
   },
   {
    "duration": 18,
    "start_time": "2023-07-31T12:58:08.501Z"
   },
   {
    "duration": 5,
    "start_time": "2023-07-31T12:58:08.600Z"
   },
   {
    "duration": 7,
    "start_time": "2023-07-31T12:58:08.607Z"
   },
   {
    "duration": 23,
    "start_time": "2023-07-31T12:58:08.615Z"
   },
   {
    "duration": 3,
    "start_time": "2023-07-31T12:58:08.640Z"
   },
   {
    "duration": 16,
    "start_time": "2023-07-31T12:58:08.645Z"
   },
   {
    "duration": 13,
    "start_time": "2023-07-31T12:58:29.105Z"
   },
   {
    "duration": 13,
    "start_time": "2023-07-31T12:59:22.167Z"
   },
   {
    "duration": 2208,
    "start_time": "2023-07-31T13:00:51.999Z"
   },
   {
    "duration": 2294,
    "start_time": "2023-07-31T13:01:56.800Z"
   },
   {
    "duration": 2292,
    "start_time": "2023-07-31T13:02:17.160Z"
   },
   {
    "duration": 2184,
    "start_time": "2023-07-31T13:03:28.200Z"
   },
   {
    "duration": 2249,
    "start_time": "2023-07-31T13:03:38.479Z"
   },
   {
    "duration": 2195,
    "start_time": "2023-07-31T13:03:49.808Z"
   },
   {
    "duration": 2179,
    "start_time": "2023-07-31T13:03:56.967Z"
   },
   {
    "duration": 2275,
    "start_time": "2023-07-31T13:04:55.574Z"
   },
   {
    "duration": 2276,
    "start_time": "2023-07-31T13:05:07.576Z"
   },
   {
    "duration": 2239,
    "start_time": "2023-07-31T13:05:29.864Z"
   },
   {
    "duration": 2194,
    "start_time": "2023-07-31T13:06:56.888Z"
   },
   {
    "duration": 2408,
    "start_time": "2023-07-31T13:07:43.704Z"
   },
   {
    "duration": 2239,
    "start_time": "2023-07-31T13:08:31.541Z"
   },
   {
    "duration": 2257,
    "start_time": "2023-07-31T13:08:58.145Z"
   },
   {
    "duration": 2611,
    "start_time": "2023-07-31T13:09:44.287Z"
   },
   {
    "duration": 2386,
    "start_time": "2023-07-31T13:10:01.232Z"
   },
   {
    "duration": 3,
    "start_time": "2023-07-31T13:10:08.961Z"
   },
   {
    "duration": 352,
    "start_time": "2023-07-31T13:10:08.967Z"
   },
   {
    "duration": 12,
    "start_time": "2023-07-31T13:10:09.321Z"
   },
   {
    "duration": 18,
    "start_time": "2023-07-31T13:10:09.335Z"
   },
   {
    "duration": 14,
    "start_time": "2023-07-31T13:10:09.356Z"
   },
   {
    "duration": 80,
    "start_time": "2023-07-31T13:10:09.371Z"
   },
   {
    "duration": 12,
    "start_time": "2023-07-31T13:10:09.453Z"
   },
   {
    "duration": 37,
    "start_time": "2023-07-31T13:10:09.466Z"
   },
   {
    "duration": 19,
    "start_time": "2023-07-31T13:10:09.505Z"
   },
   {
    "duration": 53,
    "start_time": "2023-07-31T13:10:09.526Z"
   },
   {
    "duration": 27,
    "start_time": "2023-07-31T13:10:09.581Z"
   },
   {
    "duration": 21,
    "start_time": "2023-07-31T13:10:09.611Z"
   },
   {
    "duration": 75,
    "start_time": "2023-07-31T13:10:09.635Z"
   },
   {
    "duration": 3,
    "start_time": "2023-07-31T13:10:09.714Z"
   },
   {
    "duration": 24,
    "start_time": "2023-07-31T13:10:09.719Z"
   },
   {
    "duration": 359,
    "start_time": "2023-07-31T13:10:09.744Z"
   },
   {
    "duration": 210,
    "start_time": "2023-07-31T13:10:10.106Z"
   },
   {
    "duration": 201,
    "start_time": "2023-07-31T13:10:10.322Z"
   },
   {
    "duration": 197,
    "start_time": "2023-07-31T13:10:10.529Z"
   },
   {
    "duration": 67,
    "start_time": "2023-07-31T13:10:10.733Z"
   },
   {
    "duration": 109,
    "start_time": "2023-07-31T13:10:10.804Z"
   },
   {
    "duration": 12,
    "start_time": "2023-07-31T13:10:10.914Z"
   },
   {
    "duration": 36,
    "start_time": "2023-07-31T13:10:10.927Z"
   },
   {
    "duration": 4,
    "start_time": "2023-07-31T13:10:10.965Z"
   },
   {
    "duration": 2407,
    "start_time": "2023-07-31T13:10:10.971Z"
   },
   {
    "duration": 2296,
    "start_time": "2023-07-31T13:10:27.254Z"
   },
   {
    "duration": 2321,
    "start_time": "2023-07-31T13:17:43.507Z"
   },
   {
    "duration": 4,
    "start_time": "2023-07-31T13:19:26.575Z"
   },
   {
    "duration": 329,
    "start_time": "2023-07-31T13:19:26.580Z"
   },
   {
    "duration": 8,
    "start_time": "2023-07-31T13:19:26.911Z"
   },
   {
    "duration": 26,
    "start_time": "2023-07-31T13:19:26.920Z"
   },
   {
    "duration": 23,
    "start_time": "2023-07-31T13:19:26.948Z"
   },
   {
    "duration": 41,
    "start_time": "2023-07-31T13:19:26.973Z"
   },
   {
    "duration": 7,
    "start_time": "2023-07-31T13:19:27.016Z"
   },
   {
    "duration": 17,
    "start_time": "2023-07-31T13:19:27.024Z"
   },
   {
    "duration": 8,
    "start_time": "2023-07-31T13:19:27.043Z"
   },
   {
    "duration": 35,
    "start_time": "2023-07-31T13:19:27.052Z"
   },
   {
    "duration": 8,
    "start_time": "2023-07-31T13:19:27.099Z"
   },
   {
    "duration": 10,
    "start_time": "2023-07-31T13:19:27.109Z"
   },
   {
    "duration": 37,
    "start_time": "2023-07-31T13:19:27.121Z"
   },
   {
    "duration": 2,
    "start_time": "2023-07-31T13:19:27.162Z"
   },
   {
    "duration": 46,
    "start_time": "2023-07-31T13:19:27.165Z"
   },
   {
    "duration": 295,
    "start_time": "2023-07-31T13:19:27.212Z"
   },
   {
    "duration": 103,
    "start_time": "2023-07-31T13:19:27.509Z"
   },
   {
    "duration": 190,
    "start_time": "2023-07-31T13:19:27.614Z"
   },
   {
    "duration": 198,
    "start_time": "2023-07-31T13:19:27.805Z"
   },
   {
    "duration": 92,
    "start_time": "2023-07-31T13:19:28.009Z"
   },
   {
    "duration": 124,
    "start_time": "2023-07-31T13:19:28.106Z"
   },
   {
    "duration": 61,
    "start_time": "2023-07-31T13:19:28.231Z"
   },
   {
    "duration": 49,
    "start_time": "2023-07-31T13:19:28.293Z"
   },
   {
    "duration": 25,
    "start_time": "2023-07-31T13:19:28.344Z"
   },
   {
    "duration": 2142,
    "start_time": "2023-07-31T13:19:28.370Z"
   },
   {
    "duration": 1035,
    "start_time": "2023-07-31T17:03:23.267Z"
   },
   {
    "duration": 1049,
    "start_time": "2023-07-31T17:03:24.304Z"
   },
   {
    "duration": 16,
    "start_time": "2023-07-31T17:03:25.354Z"
   },
   {
    "duration": 15,
    "start_time": "2023-07-31T17:03:25.372Z"
   },
   {
    "duration": 10,
    "start_time": "2023-07-31T17:03:25.388Z"
   },
   {
    "duration": 69,
    "start_time": "2023-07-31T17:03:25.400Z"
   },
   {
    "duration": 8,
    "start_time": "2023-07-31T17:03:25.471Z"
   },
   {
    "duration": 24,
    "start_time": "2023-07-31T17:03:25.481Z"
   },
   {
    "duration": 17,
    "start_time": "2023-07-31T17:03:25.506Z"
   },
   {
    "duration": 62,
    "start_time": "2023-07-31T17:03:25.525Z"
   },
   {
    "duration": 8,
    "start_time": "2023-07-31T17:03:25.589Z"
   },
   {
    "duration": 9,
    "start_time": "2023-07-31T17:03:25.599Z"
   },
   {
    "duration": 50,
    "start_time": "2023-07-31T17:03:25.609Z"
   },
   {
    "duration": 2,
    "start_time": "2023-07-31T17:03:25.660Z"
   },
   {
    "duration": 24,
    "start_time": "2023-07-31T17:03:25.664Z"
   },
   {
    "duration": 263,
    "start_time": "2023-07-31T17:03:25.689Z"
   },
   {
    "duration": 87,
    "start_time": "2023-07-31T17:03:25.954Z"
   },
   {
    "duration": 150,
    "start_time": "2023-07-31T17:03:26.121Z"
   },
   {
    "duration": 67,
    "start_time": "2023-07-31T17:03:26.272Z"
   },
   {
    "duration": 99,
    "start_time": "2023-07-31T17:03:26.429Z"
   },
   {
    "duration": 23,
    "start_time": "2023-07-31T17:03:26.530Z"
   },
   {
    "duration": 7,
    "start_time": "2023-07-31T17:03:26.554Z"
   },
   {
    "duration": 19,
    "start_time": "2023-07-31T17:03:26.562Z"
   },
   {
    "duration": 2,
    "start_time": "2023-07-31T17:03:26.583Z"
   },
   {
    "duration": 2303,
    "start_time": "2023-07-31T17:03:26.587Z"
   },
   {
    "duration": 67,
    "start_time": "2023-07-31T17:28:56.987Z"
   },
   {
    "duration": 36,
    "start_time": "2023-07-31T17:29:13.345Z"
   },
   {
    "duration": 35,
    "start_time": "2023-07-31T17:29:33.844Z"
   },
   {
    "duration": 100,
    "start_time": "2023-07-31T17:40:14.595Z"
   },
   {
    "duration": 452,
    "start_time": "2023-07-31T17:40:33.881Z"
   },
   {
    "duration": 276,
    "start_time": "2023-07-31T17:40:49.406Z"
   },
   {
    "duration": 280,
    "start_time": "2023-07-31T17:41:05.189Z"
   },
   {
    "duration": 238,
    "start_time": "2023-07-31T17:42:00.867Z"
   },
   {
    "duration": 256,
    "start_time": "2023-07-31T17:42:13.355Z"
   },
   {
    "duration": 307,
    "start_time": "2023-07-31T17:42:25.803Z"
   },
   {
    "duration": 226,
    "start_time": "2023-07-31T17:42:48.267Z"
   },
   {
    "duration": 239,
    "start_time": "2023-07-31T17:43:06.787Z"
   },
   {
    "duration": 257,
    "start_time": "2023-07-31T17:43:17.342Z"
   },
   {
    "duration": 230,
    "start_time": "2023-07-31T17:43:25.661Z"
   },
   {
    "duration": 14,
    "start_time": "2023-07-31T17:46:57.371Z"
   },
   {
    "duration": 16,
    "start_time": "2023-07-31T17:47:18.668Z"
   },
   {
    "duration": 13,
    "start_time": "2023-07-31T17:47:30.682Z"
   },
   {
    "duration": 25,
    "start_time": "2023-07-31T19:11:31.506Z"
   },
   {
    "duration": 1435,
    "start_time": "2023-07-31T19:11:49.411Z"
   },
   {
    "duration": 748,
    "start_time": "2023-07-31T19:11:50.848Z"
   },
   {
    "duration": 12,
    "start_time": "2023-07-31T19:11:51.598Z"
   },
   {
    "duration": 56,
    "start_time": "2023-07-31T19:11:51.612Z"
   },
   {
    "duration": 8,
    "start_time": "2023-07-31T19:11:51.670Z"
   },
   {
    "duration": 59,
    "start_time": "2023-07-31T19:11:51.679Z"
   },
   {
    "duration": 11,
    "start_time": "2023-07-31T19:11:51.746Z"
   },
   {
    "duration": 35,
    "start_time": "2023-07-31T19:11:51.759Z"
   },
   {
    "duration": 13,
    "start_time": "2023-07-31T19:11:51.796Z"
   },
   {
    "duration": 62,
    "start_time": "2023-07-31T19:11:51.812Z"
   },
   {
    "duration": 14,
    "start_time": "2023-07-31T19:11:51.875Z"
   },
   {
    "duration": 36,
    "start_time": "2023-07-31T19:11:51.891Z"
   },
   {
    "duration": 72,
    "start_time": "2023-07-31T19:11:51.929Z"
   },
   {
    "duration": 3,
    "start_time": "2023-07-31T19:11:52.003Z"
   },
   {
    "duration": 53,
    "start_time": "2023-07-31T19:11:52.008Z"
   },
   {
    "duration": 42,
    "start_time": "2023-07-31T19:11:52.063Z"
   },
   {
    "duration": 54,
    "start_time": "2023-07-31T19:11:52.106Z"
   },
   {
    "duration": 43,
    "start_time": "2023-07-31T19:11:52.162Z"
   },
   {
    "duration": 273,
    "start_time": "2023-07-31T19:11:52.207Z"
   },
   {
    "duration": 18,
    "start_time": "2023-07-31T19:11:52.481Z"
   },
   {
    "duration": 58,
    "start_time": "2023-07-31T19:11:52.500Z"
   },
   {
    "duration": 33,
    "start_time": "2023-07-31T19:11:52.560Z"
   },
   {
    "duration": 155,
    "start_time": "2023-07-31T19:11:52.595Z"
   },
   {
    "duration": 5,
    "start_time": "2023-07-31T19:11:52.751Z"
   },
   {
    "duration": 199,
    "start_time": "2023-07-31T19:11:52.759Z"
   },
   {
    "duration": 25,
    "start_time": "2023-07-31T19:11:52.959Z"
   },
   {
    "duration": 26,
    "start_time": "2023-07-31T19:11:52.985Z"
   },
   {
    "duration": 2,
    "start_time": "2023-07-31T19:11:53.014Z"
   },
   {
    "duration": 150,
    "start_time": "2023-07-31T19:11:53.018Z"
   },
   {
    "duration": 2436,
    "start_time": "2023-07-31T19:13:01.379Z"
   },
   {
    "duration": 6404,
    "start_time": "2023-07-31T19:28:16.973Z"
   },
   {
    "duration": 14,
    "start_time": "2023-07-31T19:28:53.404Z"
   },
   {
    "duration": 18,
    "start_time": "2023-07-31T19:29:14.184Z"
   },
   {
    "duration": 1651,
    "start_time": "2023-07-31T19:29:29.394Z"
   },
   {
    "duration": 410,
    "start_time": "2023-07-31T19:29:31.051Z"
   },
   {
    "duration": 15,
    "start_time": "2023-07-31T19:29:31.463Z"
   },
   {
    "duration": 35,
    "start_time": "2023-07-31T19:29:31.479Z"
   },
   {
    "duration": 29,
    "start_time": "2023-07-31T19:29:31.516Z"
   },
   {
    "duration": 83,
    "start_time": "2023-07-31T19:29:31.546Z"
   },
   {
    "duration": 18,
    "start_time": "2023-07-31T19:29:31.631Z"
   },
   {
    "duration": 44,
    "start_time": "2023-07-31T19:29:31.651Z"
   },
   {
    "duration": 16,
    "start_time": "2023-07-31T19:29:31.697Z"
   },
   {
    "duration": 101,
    "start_time": "2023-07-31T19:29:31.716Z"
   },
   {
    "duration": 30,
    "start_time": "2023-07-31T19:29:31.819Z"
   },
   {
    "duration": 52,
    "start_time": "2023-07-31T19:29:31.851Z"
   },
   {
    "duration": 68,
    "start_time": "2023-07-31T19:29:31.905Z"
   },
   {
    "duration": 7,
    "start_time": "2023-07-31T19:29:31.975Z"
   },
   {
    "duration": 82,
    "start_time": "2023-07-31T19:29:31.983Z"
   },
   {
    "duration": 86,
    "start_time": "2023-07-31T19:29:32.068Z"
   },
   {
    "duration": 74,
    "start_time": "2023-07-31T19:29:32.155Z"
   },
   {
    "duration": 66,
    "start_time": "2023-07-31T19:29:32.230Z"
   },
   {
    "duration": 277,
    "start_time": "2023-07-31T19:29:32.298Z"
   },
   {
    "duration": 15,
    "start_time": "2023-07-31T19:29:32.576Z"
   },
   {
    "duration": 21,
    "start_time": "2023-07-31T19:29:32.593Z"
   },
   {
    "duration": 14,
    "start_time": "2023-07-31T19:29:32.620Z"
   },
   {
    "duration": 213,
    "start_time": "2023-07-31T19:29:32.635Z"
   },
   {
    "duration": 2,
    "start_time": "2023-07-31T19:29:32.850Z"
   },
   {
    "duration": 131,
    "start_time": "2023-07-31T19:29:32.853Z"
   },
   {
    "duration": 8,
    "start_time": "2023-07-31T19:29:32.985Z"
   },
   {
    "duration": 30,
    "start_time": "2023-07-31T19:29:32.994Z"
   },
   {
    "duration": 31,
    "start_time": "2023-07-31T19:29:33.032Z"
   },
   {
    "duration": 2402,
    "start_time": "2023-07-31T19:29:33.065Z"
   },
   {
    "duration": 2489,
    "start_time": "2023-07-31T19:32:01.072Z"
   },
   {
    "duration": 2613,
    "start_time": "2023-07-31T19:32:42.405Z"
   },
   {
    "duration": 4,
    "start_time": "2023-07-31T19:33:16.258Z"
   },
   {
    "duration": 431,
    "start_time": "2023-07-31T19:33:16.264Z"
   },
   {
    "duration": 8,
    "start_time": "2023-07-31T19:33:16.697Z"
   },
   {
    "duration": 50,
    "start_time": "2023-07-31T19:33:16.707Z"
   },
   {
    "duration": 18,
    "start_time": "2023-07-31T19:33:16.762Z"
   },
   {
    "duration": 75,
    "start_time": "2023-07-31T19:33:16.781Z"
   },
   {
    "duration": 9,
    "start_time": "2023-07-31T19:33:16.858Z"
   },
   {
    "duration": 18,
    "start_time": "2023-07-31T19:33:16.868Z"
   },
   {
    "duration": 8,
    "start_time": "2023-07-31T19:33:16.887Z"
   },
   {
    "duration": 49,
    "start_time": "2023-07-31T19:33:16.897Z"
   },
   {
    "duration": 9,
    "start_time": "2023-07-31T19:33:16.948Z"
   },
   {
    "duration": 21,
    "start_time": "2023-07-31T19:33:16.958Z"
   },
   {
    "duration": 77,
    "start_time": "2023-07-31T19:33:16.980Z"
   },
   {
    "duration": 5,
    "start_time": "2023-07-31T19:33:17.064Z"
   },
   {
    "duration": 29,
    "start_time": "2023-07-31T19:33:17.071Z"
   },
   {
    "duration": 62,
    "start_time": "2023-07-31T19:33:17.101Z"
   },
   {
    "duration": 48,
    "start_time": "2023-07-31T19:33:17.165Z"
   },
   {
    "duration": 71,
    "start_time": "2023-07-31T19:33:17.215Z"
   },
   {
    "duration": 290,
    "start_time": "2023-07-31T19:33:17.288Z"
   },
   {
    "duration": 16,
    "start_time": "2023-07-31T19:33:17.580Z"
   },
   {
    "duration": 13,
    "start_time": "2023-07-31T19:33:17.598Z"
   },
   {
    "duration": 46,
    "start_time": "2023-07-31T19:33:17.619Z"
   },
   {
    "duration": 271,
    "start_time": "2023-07-31T19:33:17.667Z"
   },
   {
    "duration": 3,
    "start_time": "2023-07-31T19:33:17.940Z"
   },
   {
    "duration": 134,
    "start_time": "2023-07-31T19:33:17.945Z"
   },
   {
    "duration": 29,
    "start_time": "2023-07-31T19:33:18.081Z"
   },
   {
    "duration": 67,
    "start_time": "2023-07-31T19:33:18.112Z"
   },
   {
    "duration": 5,
    "start_time": "2023-07-31T19:33:18.181Z"
   },
   {
    "duration": 2498,
    "start_time": "2023-07-31T19:33:18.188Z"
   },
   {
    "duration": 149,
    "start_time": "2023-07-31T19:35:29.769Z"
   },
   {
    "duration": 35,
    "start_time": "2023-07-31T19:38:07.710Z"
   },
   {
    "duration": 14,
    "start_time": "2023-07-31T19:38:29.865Z"
   },
   {
    "duration": 3078,
    "start_time": "2023-07-31T19:40:29.155Z"
   },
   {
    "duration": 2989,
    "start_time": "2023-07-31T19:40:41.897Z"
   },
   {
    "duration": 1603,
    "start_time": "2023-07-31T19:44:18.538Z"
   },
   {
    "duration": 411,
    "start_time": "2023-07-31T19:44:20.150Z"
   },
   {
    "duration": 14,
    "start_time": "2023-07-31T19:44:20.563Z"
   },
   {
    "duration": 14,
    "start_time": "2023-07-31T19:44:20.579Z"
   },
   {
    "duration": 14,
    "start_time": "2023-07-31T19:44:20.596Z"
   },
   {
    "duration": 67,
    "start_time": "2023-07-31T19:44:20.629Z"
   },
   {
    "duration": 8,
    "start_time": "2023-07-31T19:44:20.697Z"
   },
   {
    "duration": 38,
    "start_time": "2023-07-31T19:44:20.707Z"
   },
   {
    "duration": 26,
    "start_time": "2023-07-31T19:44:20.746Z"
   },
   {
    "duration": 43,
    "start_time": "2023-07-31T19:44:20.773Z"
   },
   {
    "duration": 29,
    "start_time": "2023-07-31T19:44:20.818Z"
   },
   {
    "duration": 59,
    "start_time": "2023-07-31T19:44:20.849Z"
   },
   {
    "duration": 145,
    "start_time": "2023-07-31T19:44:20.909Z"
   },
   {
    "duration": 28,
    "start_time": "2023-07-31T19:44:21.058Z"
   },
   {
    "duration": 90,
    "start_time": "2023-07-31T19:44:21.088Z"
   },
   {
    "duration": 61,
    "start_time": "2023-07-31T19:44:21.180Z"
   },
   {
    "duration": 42,
    "start_time": "2023-07-31T19:44:21.242Z"
   },
   {
    "duration": 59,
    "start_time": "2023-07-31T19:44:21.285Z"
   },
   {
    "duration": 307,
    "start_time": "2023-07-31T19:44:21.346Z"
   },
   {
    "duration": 17,
    "start_time": "2023-07-31T19:44:21.656Z"
   },
   {
    "duration": 15,
    "start_time": "2023-07-31T19:44:21.675Z"
   },
   {
    "duration": 43,
    "start_time": "2023-07-31T19:44:21.694Z"
   },
   {
    "duration": 203,
    "start_time": "2023-07-31T19:44:21.742Z"
   },
   {
    "duration": 14,
    "start_time": "2023-07-31T19:44:21.947Z"
   },
   {
    "duration": 99,
    "start_time": "2023-07-31T19:44:21.967Z"
   },
   {
    "duration": 6,
    "start_time": "2023-07-31T19:44:22.068Z"
   },
   {
    "duration": 66,
    "start_time": "2023-07-31T19:44:22.075Z"
   },
   {
    "duration": 3,
    "start_time": "2023-07-31T19:44:22.142Z"
   },
   {
    "duration": 3026,
    "start_time": "2023-07-31T19:44:22.151Z"
   }
  ],
  "kernelspec": {
   "display_name": "Python 3 (ipykernel)",
   "language": "python",
   "name": "python3"
  },
  "language_info": {
   "codemirror_mode": {
    "name": "ipython",
    "version": 3
   },
   "file_extension": ".py",
   "mimetype": "text/x-python",
   "name": "python",
   "nbconvert_exporter": "python",
   "pygments_lexer": "ipython3",
   "version": "3.9.5"
  },
  "toc": {
   "base_numbering": 1,
   "nav_menu": {},
   "number_sections": true,
   "sideBar": true,
   "skip_h1_title": true,
   "title_cell": "Table of Contents",
   "title_sidebar": "Contents",
   "toc_cell": false,
   "toc_position": {},
   "toc_section_display": true,
   "toc_window_display": false
  }
 },
 "nbformat": 4,
 "nbformat_minor": 2
}

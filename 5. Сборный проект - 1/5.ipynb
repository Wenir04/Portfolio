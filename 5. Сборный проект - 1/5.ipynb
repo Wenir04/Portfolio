{
 "cells": [
  {
   "cell_type": "markdown",
   "metadata": {},
   "source": [
    "#              Изучение рынка компьютерных игр в Европе, Северной Америке и Японии"
   ]
  },
  {
   "cell_type": "markdown",
   "metadata": {},
   "source": [
    "# Описание проекта"
   ]
  },
  {
   "cell_type": "markdown",
   "metadata": {},
   "source": [
    "Вы работаете в интернет-магазине «Стримчик», который продаёт по всему миру компьютерные игры. Из открытых источников доступны исторические данные о продажах игр, оценки пользователей и экспертов, жанры и платформы (например, Xbox или PlayStation). Вам нужно выявить определяющие успешность игры закономерности. Это позволит сделать ставку на потенциально популярный продукт и спланировать рекламные кампании.\n",
    "\n",
    "Перед вами данные до 2016 года. Представим, что сейчас декабрь 2016 г., и вы планируете кампанию на 2017-й. Нужно отработать принцип работы с данными. Неважно, прогнозируете ли вы продажи на 2017 год по данным 2016-го или же 2027-й — по данным 2026 года.\n",
    "\n",
    "В наборе данных попадается аббревиатура ESRB (Entertainment Software Rating Board) — это ассоциация, определяющая возрастной рейтинг компьютерных игр. ESRB оценивает игровой контент и присваивает ему подходящую возрастную категорию, например, «Для взрослых», «Для детей младшего возраста» или «Для подростков»."
   ]
  },
  {
   "cell_type": "markdown",
   "metadata": {},
   "source": [
    "# Описание данных"
   ]
  },
  {
   "cell_type": "markdown",
   "metadata": {},
   "source": [
    "\n",
    "- Name — название игры\n",
    "- Platform — платформа\n",
    "- Year_of_Release — год выпуска\n",
    "- Genre — жанр игры\n",
    "- NA_sales — продажи в Северной Америке (миллионы проданных копий)\n",
    "- EU_sales — продажи в Европе (миллионы проданных копий)\n",
    "- JP_sales — продажи в Японии (миллионы проданных копий)\n",
    "- Other_sales — продажи в других странах (миллионы проданных копий)\n",
    "- Critic_Score — оценка критиков (максимум 100)\n",
    "- User_Score — оценка пользователей (максимум 10)\n",
    "- Rating — рейтинг от организации ESRB (англ. Entertainment Software Rating Board). Эта ассоциация определяет рейтинг компьютерных игр и присваивает им подходящую возрастную категорию."
   ]
  },
  {
   "cell_type": "markdown",
   "metadata": {},
   "source": [
    " # План"
   ]
  },
  {
   "cell_type": "markdown",
   "metadata": {},
   "source": [
    "**Шаг 1. Откроем файл с данными и изучим общую информацию**"
   ]
  },
  {
   "cell_type": "markdown",
   "metadata": {},
   "source": [
    "**Шаг 2. Предобработка данных**\n",
    "- Заменяем названия столбцов (приведем к нижнему регистру);\n",
    "- Преобразуем данные в нужные типы\n",
    "- Обработаем пропуски при необходимости:\n",
    "- Посчитаем суммарные продажи во всех регионах и запишем их в отдельный столбец."
   ]
  },
  {
   "cell_type": "markdown",
   "metadata": {},
   "source": [
    "**Шаг 3. Исследовательский анализ данных**\n",
    "\n",
    "- Посмотрите, сколько игр выпускалось в разные годы. Важны ли данные за все периоды?\n",
    "- Посмотрите, как менялись продажи по платформам. Выберите платформы с наибольшими суммарными продажами и постройте распределение по годам. За какой характерный срок появляются новые и исчезают старые платформы?\n",
    "- Возьмите данные за соответствующий актуальный период. Актуальный период определите самостоятельно в результате исследования предыдущих вопросов. Основной фактор — эти данные помогут построить прогноз на 2017 год.\n",
    "- Не учитывайте в работе данные за предыдущие годы.\n",
    "- Какие платформы лидируют по продажам, растут или падают? Выберите несколько потенциально прибыльных платформ.\n",
    "- Постройте график «ящик с усами» по глобальным продажам игр в разбивке по платформам. Опишите результат.\n",
    "- Посмотрите, как влияют на продажи внутри одной популярной платформы отзывы пользователей и критиков. Постройте диаграмму рассеяния и посчитайте корреляцию между отзывами и продажами. Сформулируйте выводы.\n",
    "- Соотнесите выводы с продажами игр на других платформах.\n",
    "- Посмотрите на общее распределение игр по жанрам. Что можно сказать о самых прибыльных жанрах? Выделяются ли жанры с высокими и низкими продажами?\n"
   ]
  },
  {
   "cell_type": "markdown",
   "metadata": {},
   "source": [
    "**Шаг 4. Портрет пользователя каждого региона**\n",
    "- Определите для пользователя каждого региона (NA, EU, JP):\n",
    "-Самые популярные платформы (топ-5). Опишите различия в долях продаж.\n",
    "-Самые популярные жанры (топ-5). Поясните разницу.\n",
    "-Влияет ли рейтинг ESRB на продажи в отдельном регионе?"
   ]
  },
  {
   "cell_type": "markdown",
   "metadata": {},
   "source": [
    "**Шаг 5. Проверка гипотез**\n",
    "- Средние пользовательские рейтинги платформ Xbox One и PC одинаковые;\n",
    "- Средние пользовательские рейтинги жанров Action (англ. «действие», экшен-игры) и Sports (англ. «спортивные соревнования») разные."
   ]
  },
  {
   "cell_type": "markdown",
   "metadata": {},
   "source": [
    "**Шаг 6. Общий вывод**"
   ]
  },
  {
   "cell_type": "markdown",
   "metadata": {},
   "source": [
    "# Шаг 1. Откроем файл с данными и изучим общую информацию"
   ]
  },
  {
   "cell_type": "code",
   "execution_count": 133,
   "metadata": {},
   "outputs": [],
   "source": [
    "import pandas as pd\n",
    "from scipy import stats as st\n",
    "import numpy as np\n",
    "import matplotlib.pyplot as plt\n",
    "import seaborn\n",
    "from matplotlib import cm"
   ]
  },
  {
   "cell_type": "code",
   "execution_count": 134,
   "metadata": {},
   "outputs": [
    {
     "data": {
      "text/html": [
       "<div>\n",
       "<style scoped>\n",
       "    .dataframe tbody tr th:only-of-type {\n",
       "        vertical-align: middle;\n",
       "    }\n",
       "\n",
       "    .dataframe tbody tr th {\n",
       "        vertical-align: top;\n",
       "    }\n",
       "\n",
       "    .dataframe thead th {\n",
       "        text-align: right;\n",
       "    }\n",
       "</style>\n",
       "<table border=\"1\" class=\"dataframe\">\n",
       "  <thead>\n",
       "    <tr style=\"text-align: right;\">\n",
       "      <th></th>\n",
       "      <th>Name</th>\n",
       "      <th>Platform</th>\n",
       "      <th>Year_of_Release</th>\n",
       "      <th>Genre</th>\n",
       "      <th>NA_sales</th>\n",
       "      <th>EU_sales</th>\n",
       "      <th>JP_sales</th>\n",
       "      <th>Other_sales</th>\n",
       "      <th>Critic_Score</th>\n",
       "      <th>User_Score</th>\n",
       "      <th>Rating</th>\n",
       "    </tr>\n",
       "  </thead>\n",
       "  <tbody>\n",
       "    <tr>\n",
       "      <th>0</th>\n",
       "      <td>Wii Sports</td>\n",
       "      <td>Wii</td>\n",
       "      <td>2006.0</td>\n",
       "      <td>Sports</td>\n",
       "      <td>41.36</td>\n",
       "      <td>28.96</td>\n",
       "      <td>3.77</td>\n",
       "      <td>8.45</td>\n",
       "      <td>76.0</td>\n",
       "      <td>8</td>\n",
       "      <td>E</td>\n",
       "    </tr>\n",
       "    <tr>\n",
       "      <th>1</th>\n",
       "      <td>Super Mario Bros.</td>\n",
       "      <td>NES</td>\n",
       "      <td>1985.0</td>\n",
       "      <td>Platform</td>\n",
       "      <td>29.08</td>\n",
       "      <td>3.58</td>\n",
       "      <td>6.81</td>\n",
       "      <td>0.77</td>\n",
       "      <td>NaN</td>\n",
       "      <td>NaN</td>\n",
       "      <td>NaN</td>\n",
       "    </tr>\n",
       "    <tr>\n",
       "      <th>2</th>\n",
       "      <td>Mario Kart Wii</td>\n",
       "      <td>Wii</td>\n",
       "      <td>2008.0</td>\n",
       "      <td>Racing</td>\n",
       "      <td>15.68</td>\n",
       "      <td>12.76</td>\n",
       "      <td>3.79</td>\n",
       "      <td>3.29</td>\n",
       "      <td>82.0</td>\n",
       "      <td>8.3</td>\n",
       "      <td>E</td>\n",
       "    </tr>\n",
       "    <tr>\n",
       "      <th>3</th>\n",
       "      <td>Wii Sports Resort</td>\n",
       "      <td>Wii</td>\n",
       "      <td>2009.0</td>\n",
       "      <td>Sports</td>\n",
       "      <td>15.61</td>\n",
       "      <td>10.93</td>\n",
       "      <td>3.28</td>\n",
       "      <td>2.95</td>\n",
       "      <td>80.0</td>\n",
       "      <td>8</td>\n",
       "      <td>E</td>\n",
       "    </tr>\n",
       "    <tr>\n",
       "      <th>4</th>\n",
       "      <td>Pokemon Red/Pokemon Blue</td>\n",
       "      <td>GB</td>\n",
       "      <td>1996.0</td>\n",
       "      <td>Role-Playing</td>\n",
       "      <td>11.27</td>\n",
       "      <td>8.89</td>\n",
       "      <td>10.22</td>\n",
       "      <td>1.00</td>\n",
       "      <td>NaN</td>\n",
       "      <td>NaN</td>\n",
       "      <td>NaN</td>\n",
       "    </tr>\n",
       "  </tbody>\n",
       "</table>\n",
       "</div>"
      ],
      "text/plain": [
       "                       Name Platform  Year_of_Release         Genre  NA_sales  \\\n",
       "0                Wii Sports      Wii           2006.0        Sports     41.36   \n",
       "1         Super Mario Bros.      NES           1985.0      Platform     29.08   \n",
       "2            Mario Kart Wii      Wii           2008.0        Racing     15.68   \n",
       "3         Wii Sports Resort      Wii           2009.0        Sports     15.61   \n",
       "4  Pokemon Red/Pokemon Blue       GB           1996.0  Role-Playing     11.27   \n",
       "\n",
       "   EU_sales  JP_sales  Other_sales  Critic_Score User_Score Rating  \n",
       "0     28.96      3.77         8.45          76.0          8      E  \n",
       "1      3.58      6.81         0.77           NaN        NaN    NaN  \n",
       "2     12.76      3.79         3.29          82.0        8.3      E  \n",
       "3     10.93      3.28         2.95          80.0          8      E  \n",
       "4      8.89     10.22         1.00           NaN        NaN    NaN  "
      ]
     },
     "execution_count": 134,
     "metadata": {},
     "output_type": "execute_result"
    }
   ],
   "source": [
    "data=pd.read_csv('/datasets/games.csv')\n",
    "data.head(5)"
   ]
  },
  {
   "cell_type": "code",
   "execution_count": 135,
   "metadata": {
    "scrolled": true
   },
   "outputs": [
    {
     "data": {
      "image/png": "[encoded data removed]",
      "text/plain": [
       "<Figure size 1080x1440 with 6 Axes>"
      ]
     },
     "metadata": {
      "needs_background": "light"
     },
     "output_type": "display_data"
    }
   ],
   "source": [
    "data.hist(figsize=(15, 20))\n",
    "plt.show()"
   ]
  },
  {
   "cell_type": "markdown",
   "metadata": {},
   "source": [
    "<div class=\"alert alert-block alert-info\">\n",
    "<b>🔄Комментарий студента:</b> \n",
    "Видим, что игры начались выпускаться с 1980 года, но количество выпущенных игр с 1980 по 1995 слишком мало по сравнению за период 1995-2016, тк индустрия и технологии только начали развиваться\n",
    "    \n",
    "Также наблюдаем, что количество купленных игр в Европе и Северной Америке гораздо больше по сравнению с Японией, но Япония опередает категорию другие страны.\n",
    "    \n",
    "Оценки критиков в основном колеблятся от 50 до 90, что говоорит о сильном размахе оценок игр\n",
    "    \n",
    "    \n",
    "</div>"
   ]
  },
  {
   "cell_type": "markdown",
   "metadata": {},
   "source": [
    "# Предобработка данных"
   ]
  },
  {
   "cell_type": "code",
   "execution_count": 136,
   "metadata": {},
   "outputs": [
    {
     "data": {
      "text/plain": [
       "Index(['Name', 'Platform', 'Year_of_Release', 'Genre', 'NA_sales', 'EU_sales',\n",
       "       'JP_sales', 'Other_sales', 'Critic_Score', 'User_Score', 'Rating'],\n",
       "      dtype='object')"
      ]
     },
     "execution_count": 136,
     "metadata": {},
     "output_type": "execute_result"
    }
   ],
   "source": [
    "data.columns"
   ]
  },
  {
   "cell_type": "code",
   "execution_count": 137,
   "metadata": {},
   "outputs": [],
   "source": [
    "data.columns = data.columns.str.lower()"
   ]
  },
  {
   "cell_type": "code",
   "execution_count": 138,
   "metadata": {
    "scrolled": true
   },
   "outputs": [
    {
     "name": "stdout",
     "output_type": "stream",
     "text": [
      "<class 'pandas.core.frame.DataFrame'>\n",
      "RangeIndex: 16715 entries, 0 to 16714\n",
      "Data columns (total 11 columns):\n",
      " #   Column           Non-Null Count  Dtype  \n",
      "---  ------           --------------  -----  \n",
      " 0   name             16713 non-null  object \n",
      " 1   platform         16715 non-null  object \n",
      " 2   year_of_release  16446 non-null  float64\n",
      " 3   genre            16713 non-null  object \n",
      " 4   na_sales         16715 non-null  float64\n",
      " 5   eu_sales         16715 non-null  float64\n",
      " 6   jp_sales         16715 non-null  float64\n",
      " 7   other_sales      16715 non-null  float64\n",
      " 8   critic_score     8137 non-null   float64\n",
      " 9   user_score       10014 non-null  object \n",
      " 10  rating           9949 non-null   object \n",
      "dtypes: float64(6), object(5)\n",
      "memory usage: 1.4+ MB\n"
     ]
    }
   ],
   "source": [
    "data.info()"
   ]
  },
  {
   "cell_type": "code",
   "execution_count": 139,
   "metadata": {},
   "outputs": [
    {
     "data": {
      "text/plain": [
       "(16715, 11)"
      ]
     },
     "execution_count": 139,
     "metadata": {},
     "output_type": "execute_result"
    }
   ],
   "source": [
    "data.shape"
   ]
  },
  {
   "cell_type": "code",
   "execution_count": 140,
   "metadata": {},
   "outputs": [
    {
     "data": {
      "text/plain": [
       "16715"
      ]
     },
     "execution_count": 140,
     "metadata": {},
     "output_type": "execute_result"
    }
   ],
   "source": [
    "rows=len(data.axes[0])\n",
    "rows"
   ]
  },
  {
   "cell_type": "code",
   "execution_count": 141,
   "metadata": {},
   "outputs": [
    {
     "data": {
      "text/plain": [
       "name                  2\n",
       "platform              0\n",
       "year_of_release     269\n",
       "genre                 2\n",
       "na_sales              0\n",
       "eu_sales              0\n",
       "jp_sales              0\n",
       "other_sales           0\n",
       "critic_score       8578\n",
       "user_score         6701\n",
       "rating             6766\n",
       "dtype: int64"
      ]
     },
     "execution_count": 141,
     "metadata": {},
     "output_type": "execute_result"
    }
   ],
   "source": [
    "data.isna().sum()"
   ]
  },
  {
   "cell_type": "markdown",
   "metadata": {},
   "source": [
    "Пропуски в:\n",
    "- name - название игры. Вероятнее всего связано с технической ошибкой. Пропусков всего 2 так что можем удалить эти строки\n",
    "- year_of_release - год выпуска. Так же как и в случае с name вероятнее всего техническая ошибка. Пропуск оставим, тк ничего нельзя сказать по этому поводу.\n",
    "- genre - жанр игры. То же самое. Удалим\n",
    "- critic_score - оценка критиков оценка пользователей\n",
    "- user_score - оценка пользователей \n",
    "\n",
    "пропуски в двух верних столбцах могут быть связаны, как с технической ошибкой, так и возможно, с непопулярностью игр, из-за чего нельзя определить их оценку \n",
    "- rating - рейтинг от организации ESRB, аналогично"
   ]
  },
  {
   "cell_type": "code",
   "execution_count": 142,
   "metadata": {},
   "outputs": [],
   "source": [
    "data['name'].dropna(inplace=True)\n",
    "data['genre'].dropna(inplace=True)\n",
    "data['year_of_release']=data['year_of_release'].fillna(0)"
   ]
  },
  {
   "cell_type": "markdown",
   "metadata": {},
   "source": [
    "Обратим внимание на аббревиатуру 'tbd' в столбце с оценкой пользователей. Эта аббревиатура обозначает подлежит определению, то есть игра еще не получила свой рейтинг, в связи с тем что игра вышла недавно"
   ]
  },
  {
   "cell_type": "code",
   "execution_count": 143,
   "metadata": {},
   "outputs": [],
   "source": [
    "data['user_score'] = data['user_score'].replace('tbd', np.NaN)\n",
    "data['rating']=data['rating'].fillna('NC')"
   ]
  },
  {
   "cell_type": "markdown",
   "metadata": {},
   "source": [
    "Заменим тип данных для:\n",
    "- user_score на float, тк обрабатываем оценки пользоваталей об игре, чтобы работать со значеними, как с числами"
   ]
  },
  {
   "cell_type": "code",
   "execution_count": 144,
   "metadata": {},
   "outputs": [],
   "source": [
    "data['user_score']=data['user_score'].astype('float')\n",
    "data.drop(index=data.query('year_of_release ==0 ').index,inplace=True)\n",
    "data['year_of_release']=data['year_of_release'].astype('int')"
   ]
  },
  {
   "cell_type": "code",
   "execution_count": 145,
   "metadata": {},
   "outputs": [],
   "source": [
    "data['total_sales'] = data['na_sales'] + data['eu_sales'] + data['jp_sales'] + data['other_sales']"
   ]
  },
  {
   "cell_type": "code",
   "execution_count": 146,
   "metadata": {},
   "outputs": [
    {
     "data": {
      "text/html": [
       "<div>\n",
       "<style scoped>\n",
       "    .dataframe tbody tr th:only-of-type {\n",
       "        vertical-align: middle;\n",
       "    }\n",
       "\n",
       "    .dataframe tbody tr th {\n",
       "        vertical-align: top;\n",
       "    }\n",
       "\n",
       "    .dataframe thead th {\n",
       "        text-align: right;\n",
       "    }\n",
       "</style>\n",
       "<table border=\"1\" class=\"dataframe\">\n",
       "  <thead>\n",
       "    <tr style=\"text-align: right;\">\n",
       "      <th></th>\n",
       "      <th>year_of_release</th>\n",
       "      <th>na_sales</th>\n",
       "      <th>eu_sales</th>\n",
       "      <th>jp_sales</th>\n",
       "      <th>other_sales</th>\n",
       "      <th>critic_score</th>\n",
       "      <th>user_score</th>\n",
       "      <th>total_sales</th>\n",
       "    </tr>\n",
       "  </thead>\n",
       "  <tbody>\n",
       "    <tr>\n",
       "      <th>count</th>\n",
       "      <td>16446.000000</td>\n",
       "      <td>16446.000000</td>\n",
       "      <td>16446.000000</td>\n",
       "      <td>16446.000000</td>\n",
       "      <td>16446.000000</td>\n",
       "      <td>7983.000000</td>\n",
       "      <td>7463.000000</td>\n",
       "      <td>16446.000000</td>\n",
       "    </tr>\n",
       "    <tr>\n",
       "      <th>mean</th>\n",
       "      <td>2006.484616</td>\n",
       "      <td>0.264089</td>\n",
       "      <td>0.145945</td>\n",
       "      <td>0.078479</td>\n",
       "      <td>0.047593</td>\n",
       "      <td>68.994363</td>\n",
       "      <td>7.126330</td>\n",
       "      <td>0.536105</td>\n",
       "    </tr>\n",
       "    <tr>\n",
       "      <th>std</th>\n",
       "      <td>5.877050</td>\n",
       "      <td>0.818416</td>\n",
       "      <td>0.506696</td>\n",
       "      <td>0.311082</td>\n",
       "      <td>0.187994</td>\n",
       "      <td>13.920060</td>\n",
       "      <td>1.499447</td>\n",
       "      <td>1.558763</td>\n",
       "    </tr>\n",
       "    <tr>\n",
       "      <th>min</th>\n",
       "      <td>1980.000000</td>\n",
       "      <td>0.000000</td>\n",
       "      <td>0.000000</td>\n",
       "      <td>0.000000</td>\n",
       "      <td>0.000000</td>\n",
       "      <td>13.000000</td>\n",
       "      <td>0.000000</td>\n",
       "      <td>0.000000</td>\n",
       "    </tr>\n",
       "    <tr>\n",
       "      <th>25%</th>\n",
       "      <td>2003.000000</td>\n",
       "      <td>0.000000</td>\n",
       "      <td>0.000000</td>\n",
       "      <td>0.000000</td>\n",
       "      <td>0.000000</td>\n",
       "      <td>60.000000</td>\n",
       "      <td>6.400000</td>\n",
       "      <td>0.060000</td>\n",
       "    </tr>\n",
       "    <tr>\n",
       "      <th>50%</th>\n",
       "      <td>2007.000000</td>\n",
       "      <td>0.080000</td>\n",
       "      <td>0.020000</td>\n",
       "      <td>0.000000</td>\n",
       "      <td>0.010000</td>\n",
       "      <td>71.000000</td>\n",
       "      <td>7.500000</td>\n",
       "      <td>0.170000</td>\n",
       "    </tr>\n",
       "    <tr>\n",
       "      <th>75%</th>\n",
       "      <td>2010.000000</td>\n",
       "      <td>0.240000</td>\n",
       "      <td>0.110000</td>\n",
       "      <td>0.040000</td>\n",
       "      <td>0.030000</td>\n",
       "      <td>79.000000</td>\n",
       "      <td>8.200000</td>\n",
       "      <td>0.470000</td>\n",
       "    </tr>\n",
       "    <tr>\n",
       "      <th>max</th>\n",
       "      <td>2016.000000</td>\n",
       "      <td>41.360000</td>\n",
       "      <td>28.960000</td>\n",
       "      <td>10.220000</td>\n",
       "      <td>10.570000</td>\n",
       "      <td>98.000000</td>\n",
       "      <td>9.700000</td>\n",
       "      <td>82.540000</td>\n",
       "    </tr>\n",
       "  </tbody>\n",
       "</table>\n",
       "</div>"
      ],
      "text/plain": [
       "       year_of_release      na_sales      eu_sales      jp_sales  \\\n",
       "count     16446.000000  16446.000000  16446.000000  16446.000000   \n",
       "mean       2006.484616      0.264089      0.145945      0.078479   \n",
       "std           5.877050      0.818416      0.506696      0.311082   \n",
       "min        1980.000000      0.000000      0.000000      0.000000   \n",
       "25%        2003.000000      0.000000      0.000000      0.000000   \n",
       "50%        2007.000000      0.080000      0.020000      0.000000   \n",
       "75%        2010.000000      0.240000      0.110000      0.040000   \n",
       "max        2016.000000     41.360000     28.960000     10.220000   \n",
       "\n",
       "        other_sales  critic_score   user_score   total_sales  \n",
       "count  16446.000000   7983.000000  7463.000000  16446.000000  \n",
       "mean       0.047593     68.994363     7.126330      0.536105  \n",
       "std        0.187994     13.920060     1.499447      1.558763  \n",
       "min        0.000000     13.000000     0.000000      0.000000  \n",
       "25%        0.000000     60.000000     6.400000      0.060000  \n",
       "50%        0.010000     71.000000     7.500000      0.170000  \n",
       "75%        0.030000     79.000000     8.200000      0.470000  \n",
       "max       10.570000     98.000000     9.700000     82.540000  "
      ]
     },
     "execution_count": 146,
     "metadata": {},
     "output_type": "execute_result"
    }
   ],
   "source": [
    "data.describe()"
   ]
  },
  {
   "cell_type": "markdown",
   "metadata": {},
   "source": [
    "Нет значений, которые бы сильно выбивались, так что на данном этапе оставим датафрейм в таком виде"
   ]
  },
  {
   "cell_type": "markdown",
   "metadata": {},
   "source": [
    "<div class=\"alert alert-block alert-info\">\n",
    "<b>🔄Комментарий студента:</b> \n",
    "Удалили ячейки с пропусками в годах, жанре и имени, их количество гораздо меньше исходного, так что на исследование это не повлияет\n",
    "    \n",
    "Также получилось много пропусков в столбцах rating, critic_score, user_score. Их мы оставим, тк эти данные нельзя просто так отбросить, потому что ещё могут пригодиться для дальнейшего анализа.\n",
    "    \n",
    "    \n",
    "</div>"
   ]
  },
  {
   "cell_type": "markdown",
   "metadata": {},
   "source": [
    "# Шаг 3. Исследовательский анализ данных"
   ]
  },
  {
   "cell_type": "code",
   "execution_count": 147,
   "metadata": {},
   "outputs": [
    {
     "data": {
      "image/png": "[encoded data removed]",
      "text/plain": [
       "<Figure size 1080x360 with 1 Axes>"
      ]
     },
     "metadata": {
      "needs_background": "light"
     },
     "output_type": "display_data"
    }
   ],
   "source": [
    "data.pivot_table(index='year_of_release', values='total_sales' ,aggfunc='sum').plot(y=\"total_sales\", kind='bar',figsize=(15,5))\n",
    "plt.xlabel('Год', size=12)\n",
    "plt.ylabel('Количество выпущенных игр', size=12)\n",
    "plt.show()"
   ]
  },
  {
   "cell_type": "markdown",
   "metadata": {},
   "source": [
    "Видим, что игры начались выпускаться с 1980 года, но количество выпущенных игр с 1980 по 1995 слишком мало по сравнению за период 1995-2016, так что данные до 95 года не нужны"
   ]
  },
  {
   "cell_type": "code",
   "execution_count": 148,
   "metadata": {},
   "outputs": [],
   "source": [
    "data.drop(index=data.query('year_of_release<1995').index,inplace=True)"
   ]
  },
  {
   "cell_type": "code",
   "execution_count": 149,
   "metadata": {},
   "outputs": [
    {
     "data": {
      "text/html": [
       "<div>\n",
       "<style scoped>\n",
       "    .dataframe tbody tr th:only-of-type {\n",
       "        vertical-align: middle;\n",
       "    }\n",
       "\n",
       "    .dataframe tbody tr th {\n",
       "        vertical-align: top;\n",
       "    }\n",
       "\n",
       "    .dataframe thead th {\n",
       "        text-align: right;\n",
       "    }\n",
       "</style>\n",
       "<table border=\"1\" class=\"dataframe\">\n",
       "  <thead>\n",
       "    <tr style=\"text-align: right;\">\n",
       "      <th></th>\n",
       "      <th>total_sales</th>\n",
       "    </tr>\n",
       "    <tr>\n",
       "      <th>platform</th>\n",
       "      <th></th>\n",
       "    </tr>\n",
       "  </thead>\n",
       "  <tbody>\n",
       "    <tr>\n",
       "      <th>PS2</th>\n",
       "      <td>1233.56</td>\n",
       "    </tr>\n",
       "    <tr>\n",
       "      <th>X360</th>\n",
       "      <td>961.24</td>\n",
       "    </tr>\n",
       "    <tr>\n",
       "      <th>PS3</th>\n",
       "      <td>931.34</td>\n",
       "    </tr>\n",
       "    <tr>\n",
       "      <th>Wii</th>\n",
       "      <td>891.18</td>\n",
       "    </tr>\n",
       "    <tr>\n",
       "      <th>DS</th>\n",
       "      <td>802.76</td>\n",
       "    </tr>\n",
       "    <tr>\n",
       "      <th>PS</th>\n",
       "      <td>721.55</td>\n",
       "    </tr>\n",
       "    <tr>\n",
       "      <th>PS4</th>\n",
       "      <td>314.14</td>\n",
       "    </tr>\n",
       "    <tr>\n",
       "      <th>GBA</th>\n",
       "      <td>312.88</td>\n",
       "    </tr>\n",
       "    <tr>\n",
       "      <th>PSP</th>\n",
       "      <td>289.53</td>\n",
       "    </tr>\n",
       "    <tr>\n",
       "      <th>3DS</th>\n",
       "      <td>257.81</td>\n",
       "    </tr>\n",
       "  </tbody>\n",
       "</table>\n",
       "</div>"
      ],
      "text/plain": [
       "          total_sales\n",
       "platform             \n",
       "PS2           1233.56\n",
       "X360           961.24\n",
       "PS3            931.34\n",
       "Wii            891.18\n",
       "DS             802.76\n",
       "PS             721.55\n",
       "PS4            314.14\n",
       "GBA            312.88\n",
       "PSP            289.53\n",
       "3DS            257.81"
      ]
     },
     "metadata": {},
     "output_type": "display_data"
    }
   ],
   "source": [
    "platform_top = data.pivot_table(index='platform', values='total_sales' ,aggfunc='sum')\n",
    "platform_top.sort_values(by=['total_sales'],ascending=False, inplace=True)\n",
    "platform_top = platform_top.iloc[:10]\n",
    "display(platform_top)"
   ]
  },
  {
   "cell_type": "code",
   "execution_count": 150,
   "metadata": {},
   "outputs": [
    {
     "data": {
      "text/plain": [
       "<AxesSubplot:xlabel='platform'>"
      ]
     },
     "execution_count": 150,
     "metadata": {},
     "output_type": "execute_result"
    },
    {
     "data": {
      "image/png": "[encoded data removed]",
      "text/plain": [
       "<Figure size 432x288 with 1 Axes>"
      ]
     },
     "metadata": {
      "needs_background": "light"
     },
     "output_type": "display_data"
    }
   ],
   "source": [
    "platform_top.plot(y=\"total_sales\", kind='bar')"
   ]
  },
  {
   "cell_type": "code",
   "execution_count": 151,
   "id": "d044b6ed",
   "metadata": {},
   "outputs": [
    {
     "data": {
      "text/plain": [
       "['PS2', 'X360', 'PS3', 'Wii', 'DS', 'PS', 'PS4', 'GBA', 'PSP', '3DS']"
      ]
     },
     "execution_count": 151,
     "metadata": {},
     "output_type": "execute_result"
    }
   ],
   "source": [
    "# код ревьюера\n",
    "platform_top.index.to_list()"
   ]
  },
  {
   "cell_type": "code",
   "execution_count": 152,
   "metadata": {},
   "outputs": [
    {
     "data": {
      "image/png": "[encoded data removed]",
      "text/plain": [
       "<Figure size 432x288 with 1 Axes>"
      ]
     },
     "metadata": {
      "needs_background": "light"
     },
     "output_type": "display_data"
    },
    {
     "data": {
      "image/png": "[encoded data removed]",
      "text/plain": [
       "<Figure size 432x288 with 1 Axes>"
      ]
     },
     "metadata": {
      "needs_background": "light"
     },
     "output_type": "display_data"
    },
    {
     "data": {
      "image/png": "[encoded data removed]",
      "text/plain": [
       "<Figure size 432x288 with 1 Axes>"
      ]
     },
     "metadata": {
      "needs_background": "light"
     },
     "output_type": "display_data"
    },
    {
     "data": {
      "image/png": "[encoded data removed]",
      "text/plain": [
       "<Figure size 432x288 with 1 Axes>"
      ]
     },
     "metadata": {
      "needs_background": "light"
     },
     "output_type": "display_data"
    },
    {
     "data": {
      "image/png": "[encoded data removed]",
      "text/plain": [
       "<Figure size 432x288 with 1 Axes>"
      ]
     },
     "metadata": {
      "needs_background": "light"
     },
     "output_type": "display_data"
    },
    {
     "data": {
      "image/png": "[encoded data removed]",
      "text/plain": [
       "<Figure size 432x288 with 1 Axes>"
      ]
     },
     "metadata": {
      "needs_background": "light"
     },
     "output_type": "display_data"
    },
    {
     "data": {
      "image/png": "[encoded data removed]",
      "text/plain": [
       "<Figure size 432x288 with 1 Axes>"
      ]
     },
     "metadata": {
      "needs_background": "light"
     },
     "output_type": "display_data"
    },
    {
     "data": {
      "image/png": "[encoded data removed]",
      "text/plain": [
       "<Figure size 432x288 with 1 Axes>"
      ]
     },
     "metadata": {
      "needs_background": "light"
     },
     "output_type": "display_data"
    },
    {
     "data": {
      "image/png": "[encoded data removed]",
      "text/plain": [
       "<Figure size 432x288 with 1 Axes>"
      ]
     },
     "metadata": {
      "needs_background": "light"
     },
     "output_type": "display_data"
    },
    {
     "data": {
      "image/png": "[encoded data removed]",
      "text/plain": [
       "<Figure size 432x288 with 1 Axes>"
      ]
     },
     "metadata": {
      "needs_background": "light"
     },
     "output_type": "display_data"
    }
   ],
   "source": [
    "platform_top_10=['PS2','X360','PS3','Wii','DS','PS','GBA','PS4','PSP','3DS']\n",
    "for a in platform_top_10:\n",
    "    data[data['platform'] == a].pivot_table(index = 'year_of_release', values = 'total_sales', aggfunc = 'sum').plot(kind = 'bar',title=a)"
   ]
  },
  {
   "cell_type": "markdown",
   "metadata": {},
   "source": [
    "<div class=\"alert alert-block alert-info\">\n",
    "<b>🔄Комментарий студента:</b> \n",
    "При обнаружении пропусков удалил пропуски в столбцах year_of_release и изменил тип данных на int, теперь отображается без точки\n",
    "    \n",
    "</div>"
   ]
  },
  {
   "cell_type": "markdown",
   "metadata": {},
   "source": [
    "- PS2 просуществовала с 2000 по 2010 \n",
    "- X360 - c 2006 по 2015\n",
    "- PS3 - с 2006 по 2015\n",
    "- Wii - с 2006 по 2012\n",
    "- DS - с 2004 по 2012\n",
    "- PS - с 1995 по 2001\n",
    "- GBA - с 2001 по 2005\n",
    "- PS4 - с 2013 по 2016\n",
    "- PSP - с 2004 по 2013\n",
    "- 3DS - с 2011 по 2016"
   ]
  },
  {
   "cell_type": "markdown",
   "metadata": {},
   "source": [
    "Платформы компаний-гигантов существуют порядка 10 лет, далее на замену приходит новая платформа \n",
    "\n",
    "Другие платформы сущетсвуют порядка 5 лет"
   ]
  },
  {
   "cell_type": "markdown",
   "metadata": {},
   "source": [
    "Актуальным периодом будем считать период 2013-2016, так как многие старые компании хоть и падают, но демонстрируют хорошие продажи, и появились новые компании, составляющие конкуренцию "
   ]
  },
  {
   "cell_type": "code",
   "execution_count": 153,
   "metadata": {},
   "outputs": [
    {
     "data": {
      "text/html": [
       "<div>\n",
       "<style scoped>\n",
       "    .dataframe tbody tr th:only-of-type {\n",
       "        vertical-align: middle;\n",
       "    }\n",
       "\n",
       "    .dataframe tbody tr th {\n",
       "        vertical-align: top;\n",
       "    }\n",
       "\n",
       "    .dataframe thead th {\n",
       "        text-align: right;\n",
       "    }\n",
       "</style>\n",
       "<table border=\"1\" class=\"dataframe\">\n",
       "  <thead>\n",
       "    <tr style=\"text-align: right;\">\n",
       "      <th></th>\n",
       "      <th>total_sales</th>\n",
       "    </tr>\n",
       "    <tr>\n",
       "      <th>platform</th>\n",
       "      <th></th>\n",
       "    </tr>\n",
       "  </thead>\n",
       "  <tbody>\n",
       "    <tr>\n",
       "      <th>PS4</th>\n",
       "      <td>314.14</td>\n",
       "    </tr>\n",
       "    <tr>\n",
       "      <th>PS3</th>\n",
       "      <td>181.43</td>\n",
       "    </tr>\n",
       "    <tr>\n",
       "      <th>XOne</th>\n",
       "      <td>159.32</td>\n",
       "    </tr>\n",
       "    <tr>\n",
       "      <th>3DS</th>\n",
       "      <td>143.25</td>\n",
       "    </tr>\n",
       "    <tr>\n",
       "      <th>X360</th>\n",
       "      <td>136.80</td>\n",
       "    </tr>\n",
       "    <tr>\n",
       "      <th>WiiU</th>\n",
       "      <td>64.63</td>\n",
       "    </tr>\n",
       "    <tr>\n",
       "      <th>PC</th>\n",
       "      <td>39.43</td>\n",
       "    </tr>\n",
       "    <tr>\n",
       "      <th>PSV</th>\n",
       "      <td>32.99</td>\n",
       "    </tr>\n",
       "    <tr>\n",
       "      <th>Wii</th>\n",
       "      <td>13.66</td>\n",
       "    </tr>\n",
       "    <tr>\n",
       "      <th>PSP</th>\n",
       "      <td>3.50</td>\n",
       "    </tr>\n",
       "    <tr>\n",
       "      <th>DS</th>\n",
       "      <td>1.54</td>\n",
       "    </tr>\n",
       "  </tbody>\n",
       "</table>\n",
       "</div>"
      ],
      "text/plain": [
       "          total_sales\n",
       "platform             \n",
       "PS4            314.14\n",
       "PS3            181.43\n",
       "XOne           159.32\n",
       "3DS            143.25\n",
       "X360           136.80\n",
       "WiiU            64.63\n",
       "PC              39.43\n",
       "PSV             32.99\n",
       "Wii             13.66\n",
       "PSP              3.50\n",
       "DS               1.54"
      ]
     },
     "metadata": {},
     "output_type": "display_data"
    }
   ],
   "source": [
    "data_2013=data.query('year_of_release >= 2013')\n",
    "platform_top_2013 = data_2013.pivot_table(index='platform', values='total_sales' ,aggfunc='sum')\n",
    "platform_top_2013.sort_values(by=['total_sales'],ascending=False, inplace=True)\n",
    "display(platform_top_2013)"
   ]
  },
  {
   "cell_type": "code",
   "execution_count": 154,
   "metadata": {},
   "outputs": [
    {
     "data": {
      "text/plain": [
       "<AxesSubplot:xlabel='year_of_release'>"
      ]
     },
     "execution_count": 154,
     "metadata": {},
     "output_type": "execute_result"
    },
    {
     "data": {
      "image/png": "[encoded data removed]",
      "text/plain": [
       "<Figure size 1080x720 with 1 Axes>"
      ]
     },
     "metadata": {
      "needs_background": "light"
     },
     "output_type": "display_data"
    }
   ],
   "source": [
    "data_2013.pivot_table(index='year_of_release', columns = 'platform', values='total_sales', aggfunc='sum').plot(figsize=(15, 10))"
   ]
  },
  {
   "cell_type": "markdown",
   "metadata": {},
   "source": [
    "Потенциально прибыльными могут стать PS4 и XOne"
   ]
  },
  {
   "cell_type": "code",
   "execution_count": 155,
   "metadata": {},
   "outputs": [],
   "source": [
    "top_platform= platform_top_2013.iloc[:10]"
   ]
  },
  {
   "cell_type": "code",
   "execution_count": 156,
   "metadata": {},
   "outputs": [
    {
     "data": {
      "text/plain": [
       "<AxesSubplot:>"
      ]
     },
     "execution_count": 156,
     "metadata": {},
     "output_type": "execute_result"
    },
    {
     "data": {
      "image/png": "[encoded data removed]",
      "text/plain": [
       "<Figure size 432x288 with 1 Axes>"
      ]
     },
     "metadata": {
      "needs_background": "light"
     },
     "output_type": "display_data"
    }
   ],
   "source": [
    "data_2013.pivot_table(index = 'name', columns = 'platform', values = 'total_sales', aggfunc = 'sum').plot(kind='box', ylim=(0,3))"
   ]
  },
  {
   "cell_type": "markdown",
   "metadata": {},
   "source": [
    "Можем наблюдать несколько интересных моментов:\n",
    "- у многих компаний имеются выбросы\n",
    "- x360 имеют лучшее медианное значение, но связано это с пиком продаж приходящимся на начало актуального периода \n",
    "- также подтвердился выбор PS4 и Xone имеют самые высокие медианные значения"
   ]
  },
  {
   "cell_type": "code",
   "execution_count": 157,
   "id": "d0c5cdbd",
   "metadata": {
    "scrolled": false
   },
   "outputs": [
    {
     "data": {
      "image/png": "[encoded data removed]",
      "text/plain": [
       "<Figure size 1224x792 with 1 Axes>"
      ]
     },
     "metadata": {
      "needs_background": "light"
     },
     "output_type": "display_data"
    }
   ],
   "source": [
    "# код ревьюера\n",
    "\n",
    "import matplotlib.pyplot as plt\n",
    "import seaborn as sns\n",
    "\n",
    "plt.figure(figsize=(17, 11))\n",
    "sns.boxplot(data=data_2013, y='platform', x='total_sales')\n",
    "plt.xlim(-0.1, 5)\n",
    "\n",
    "plt.title('Объемы продаж игр на разных платформах', size=17)\n",
    "plt.xlabel('Объем продаж', size=12)\n",
    "plt.ylabel('Название платформы', size=12)\n",
    "\n",
    "plt.show()"
   ]
  },
  {
   "cell_type": "markdown",
   "metadata": {},
   "source": [
    "Для диаграммы рассеивания возьмем PS4 и XOne находящийся на пике популярности к 2017 года, а также компанию 3DS, показывающую хорошие продажи в течение всего актуального периода"
   ]
  },
  {
   "cell_type": "code",
   "execution_count": 158,
   "metadata": {},
   "outputs": [
    {
     "name": "stdout",
     "output_type": "stream",
     "text": [
      "Матрица корреляций для XOne\n"
     ]
    },
    {
     "data": {
      "text/html": [
       "<div>\n",
       "<style scoped>\n",
       "    .dataframe tbody tr th:only-of-type {\n",
       "        vertical-align: middle;\n",
       "    }\n",
       "\n",
       "    .dataframe tbody tr th {\n",
       "        vertical-align: top;\n",
       "    }\n",
       "\n",
       "    .dataframe thead th {\n",
       "        text-align: right;\n",
       "    }\n",
       "</style>\n",
       "<table border=\"1\" class=\"dataframe\">\n",
       "  <thead>\n",
       "    <tr style=\"text-align: right;\">\n",
       "      <th></th>\n",
       "      <th>critic_score</th>\n",
       "      <th>user_score</th>\n",
       "      <th>total_sales</th>\n",
       "    </tr>\n",
       "  </thead>\n",
       "  <tbody>\n",
       "    <tr>\n",
       "      <th>critic_score</th>\n",
       "      <td>1.000000</td>\n",
       "      <td>0.472462</td>\n",
       "      <td>0.416998</td>\n",
       "    </tr>\n",
       "    <tr>\n",
       "      <th>user_score</th>\n",
       "      <td>0.472462</td>\n",
       "      <td>1.000000</td>\n",
       "      <td>-0.068925</td>\n",
       "    </tr>\n",
       "    <tr>\n",
       "      <th>total_sales</th>\n",
       "      <td>0.416998</td>\n",
       "      <td>-0.068925</td>\n",
       "      <td>1.000000</td>\n",
       "    </tr>\n",
       "  </tbody>\n",
       "</table>\n",
       "</div>"
      ],
      "text/plain": [
       "              critic_score  user_score  total_sales\n",
       "critic_score      1.000000    0.472462     0.416998\n",
       "user_score        0.472462    1.000000    -0.068925\n",
       "total_sales       0.416998   -0.068925     1.000000"
      ]
     },
     "metadata": {},
     "output_type": "display_data"
    },
    {
     "name": "stdout",
     "output_type": "stream",
     "text": [
      "Матрица корреляций для PS4\n"
     ]
    },
    {
     "data": {
      "text/html": [
       "<div>\n",
       "<style scoped>\n",
       "    .dataframe tbody tr th:only-of-type {\n",
       "        vertical-align: middle;\n",
       "    }\n",
       "\n",
       "    .dataframe tbody tr th {\n",
       "        vertical-align: top;\n",
       "    }\n",
       "\n",
       "    .dataframe thead th {\n",
       "        text-align: right;\n",
       "    }\n",
       "</style>\n",
       "<table border=\"1\" class=\"dataframe\">\n",
       "  <thead>\n",
       "    <tr style=\"text-align: right;\">\n",
       "      <th></th>\n",
       "      <th>critic_score</th>\n",
       "      <th>user_score</th>\n",
       "      <th>total_sales</th>\n",
       "    </tr>\n",
       "  </thead>\n",
       "  <tbody>\n",
       "    <tr>\n",
       "      <th>critic_score</th>\n",
       "      <td>1.000000</td>\n",
       "      <td>0.557654</td>\n",
       "      <td>0.406568</td>\n",
       "    </tr>\n",
       "    <tr>\n",
       "      <th>user_score</th>\n",
       "      <td>0.557654</td>\n",
       "      <td>1.000000</td>\n",
       "      <td>-0.031957</td>\n",
       "    </tr>\n",
       "    <tr>\n",
       "      <th>total_sales</th>\n",
       "      <td>0.406568</td>\n",
       "      <td>-0.031957</td>\n",
       "      <td>1.000000</td>\n",
       "    </tr>\n",
       "  </tbody>\n",
       "</table>\n",
       "</div>"
      ],
      "text/plain": [
       "              critic_score  user_score  total_sales\n",
       "critic_score      1.000000    0.557654     0.406568\n",
       "user_score        0.557654    1.000000    -0.031957\n",
       "total_sales       0.406568   -0.031957     1.000000"
      ]
     },
     "metadata": {},
     "output_type": "display_data"
    },
    {
     "name": "stdout",
     "output_type": "stream",
     "text": [
      "Матрица корреляций для 3DS\n"
     ]
    },
    {
     "data": {
      "text/html": [
       "<div>\n",
       "<style scoped>\n",
       "    .dataframe tbody tr th:only-of-type {\n",
       "        vertical-align: middle;\n",
       "    }\n",
       "\n",
       "    .dataframe tbody tr th {\n",
       "        vertical-align: top;\n",
       "    }\n",
       "\n",
       "    .dataframe thead th {\n",
       "        text-align: right;\n",
       "    }\n",
       "</style>\n",
       "<table border=\"1\" class=\"dataframe\">\n",
       "  <thead>\n",
       "    <tr style=\"text-align: right;\">\n",
       "      <th></th>\n",
       "      <th>critic_score</th>\n",
       "      <th>user_score</th>\n",
       "      <th>total_sales</th>\n",
       "    </tr>\n",
       "  </thead>\n",
       "  <tbody>\n",
       "    <tr>\n",
       "      <th>critic_score</th>\n",
       "      <td>1.000000</td>\n",
       "      <td>0.769536</td>\n",
       "      <td>0.357057</td>\n",
       "    </tr>\n",
       "    <tr>\n",
       "      <th>user_score</th>\n",
       "      <td>0.769536</td>\n",
       "      <td>1.000000</td>\n",
       "      <td>0.241504</td>\n",
       "    </tr>\n",
       "    <tr>\n",
       "      <th>total_sales</th>\n",
       "      <td>0.357057</td>\n",
       "      <td>0.241504</td>\n",
       "      <td>1.000000</td>\n",
       "    </tr>\n",
       "  </tbody>\n",
       "</table>\n",
       "</div>"
      ],
      "text/plain": [
       "              critic_score  user_score  total_sales\n",
       "critic_score      1.000000    0.769536     0.357057\n",
       "user_score        0.769536    1.000000     0.241504\n",
       "total_sales       0.357057    0.241504     1.000000"
      ]
     },
     "metadata": {},
     "output_type": "display_data"
    },
    {
     "data": {
      "image/png": "[encoded data removed]",
      "text/plain": [
       "<Figure size 432x288 with 1 Axes>"
      ]
     },
     "metadata": {
      "needs_background": "light"
     },
     "output_type": "display_data"
    },
    {
     "data": {
      "image/png": "[encoded data removed]",
      "text/plain": [
       "<Figure size 432x288 with 1 Axes>"
      ]
     },
     "metadata": {
      "needs_background": "light"
     },
     "output_type": "display_data"
    },
    {
     "data": {
      "image/png": "[encoded data removed]",
      "text/plain": [
       "<Figure size 432x288 with 1 Axes>"
      ]
     },
     "metadata": {
      "needs_background": "light"
     },
     "output_type": "display_data"
    },
    {
     "data": {
      "image/png": "[encoded data removed]",
      "text/plain": [
       "<Figure size 432x288 with 1 Axes>"
      ]
     },
     "metadata": {
      "needs_background": "light"
     },
     "output_type": "display_data"
    },
    {
     "data": {
      "image/png": "[encoded data removed]",
      "text/plain": [
       "<Figure size 432x288 with 1 Axes>"
      ]
     },
     "metadata": {
      "needs_background": "light"
     },
     "output_type": "display_data"
    },
    {
     "data": {
      "image/png": "[encoded data removed]",
      "text/plain": [
       "<Figure size 432x288 with 1 Axes>"
      ]
     },
     "metadata": {
      "needs_background": "light"
     },
     "output_type": "display_data"
    }
   ],
   "source": [
    "platformd=['XOne','PS4','3DS']\n",
    "for a in platformd:\n",
    "    b=data_2013.query('platform == @a')\n",
    "    b.plot(x='user_score', y='total_sales', kind='scatter',title=a)\n",
    "    plt.xlabel('Оценки пользоватаелей', size=12)\n",
    "    plt.ylabel('Кол-во продаж', size=12)\n",
    "    b.plot(x='critic_score', y='total_sales', kind='scatter',title=a)\n",
    "    plt.xlabel('Оценки критиков', size=12)\n",
    "    plt.ylabel('Кол-во продаж', size=12)\n",
    "    print('Матрица корреляций для', a)\n",
    "    display(b[['critic_score','user_score', 'total_sales']].corr())\n"
   ]
  },
  {
   "cell_type": "markdown",
   "metadata": {},
   "source": [
    "Интересно заметить, что оценки критиков  влияют на кол-во продаж, в то время как оценки игроков не имеют такого влияния, при этом при рассмотрении компании 3DS, можем заметить что такого эффекта не наблюдается.\n",
    "\n",
    "Также оценки критиков и игроков чаще совпадают у 3DS\n",
    "\n",
    "Из этого можно сделать вывод, что для компаний имеющих высокое количество продаж и стоящих на рынке одними из первых, количество продаж будет зависеть именно от оценок критиков, когда на платформах ниже продажи зависят не только от них, но и от оценок пользователей"
   ]
  },
  {
   "cell_type": "code",
   "execution_count": 159,
   "metadata": {},
   "outputs": [
    {
     "data": {
      "text/html": [
       "<div>\n",
       "<style scoped>\n",
       "    .dataframe tbody tr th:only-of-type {\n",
       "        vertical-align: middle;\n",
       "    }\n",
       "\n",
       "    .dataframe tbody tr th {\n",
       "        vertical-align: top;\n",
       "    }\n",
       "\n",
       "    .dataframe thead th {\n",
       "        text-align: right;\n",
       "    }\n",
       "</style>\n",
       "<table border=\"1\" class=\"dataframe\">\n",
       "  <thead>\n",
       "    <tr style=\"text-align: right;\">\n",
       "      <th></th>\n",
       "      <th>name</th>\n",
       "      <th>total_sales</th>\n",
       "      <th>itog</th>\n",
       "    </tr>\n",
       "    <tr>\n",
       "      <th>genre</th>\n",
       "      <th></th>\n",
       "      <th></th>\n",
       "      <th></th>\n",
       "    </tr>\n",
       "  </thead>\n",
       "  <tbody>\n",
       "    <tr>\n",
       "      <th>Shooter</th>\n",
       "      <td>187</td>\n",
       "      <td>232.98</td>\n",
       "      <td>1.245882</td>\n",
       "    </tr>\n",
       "    <tr>\n",
       "      <th>Sports</th>\n",
       "      <td>214</td>\n",
       "      <td>150.65</td>\n",
       "      <td>0.703972</td>\n",
       "    </tr>\n",
       "    <tr>\n",
       "      <th>Platform</th>\n",
       "      <td>74</td>\n",
       "      <td>42.63</td>\n",
       "      <td>0.576081</td>\n",
       "    </tr>\n",
       "    <tr>\n",
       "      <th>Role-Playing</th>\n",
       "      <td>292</td>\n",
       "      <td>145.89</td>\n",
       "      <td>0.499623</td>\n",
       "    </tr>\n",
       "    <tr>\n",
       "      <th>Racing</th>\n",
       "      <td>85</td>\n",
       "      <td>39.89</td>\n",
       "      <td>0.469294</td>\n",
       "    </tr>\n",
       "    <tr>\n",
       "      <th>Fighting</th>\n",
       "      <td>80</td>\n",
       "      <td>35.31</td>\n",
       "      <td>0.441375</td>\n",
       "    </tr>\n",
       "    <tr>\n",
       "      <th>Action</th>\n",
       "      <td>766</td>\n",
       "      <td>321.87</td>\n",
       "      <td>0.420196</td>\n",
       "    </tr>\n",
       "    <tr>\n",
       "      <th>Misc</th>\n",
       "      <td>155</td>\n",
       "      <td>62.82</td>\n",
       "      <td>0.405290</td>\n",
       "    </tr>\n",
       "    <tr>\n",
       "      <th>Simulation</th>\n",
       "      <td>62</td>\n",
       "      <td>21.76</td>\n",
       "      <td>0.350968</td>\n",
       "    </tr>\n",
       "    <tr>\n",
       "      <th>Puzzle</th>\n",
       "      <td>17</td>\n",
       "      <td>3.17</td>\n",
       "      <td>0.186471</td>\n",
       "    </tr>\n",
       "    <tr>\n",
       "      <th>Strategy</th>\n",
       "      <td>56</td>\n",
       "      <td>10.08</td>\n",
       "      <td>0.180000</td>\n",
       "    </tr>\n",
       "    <tr>\n",
       "      <th>Adventure</th>\n",
       "      <td>245</td>\n",
       "      <td>23.64</td>\n",
       "      <td>0.096490</td>\n",
       "    </tr>\n",
       "  </tbody>\n",
       "</table>\n",
       "</div>"
      ],
      "text/plain": [
       "              name  total_sales      itog\n",
       "genre                                    \n",
       "Shooter        187       232.98  1.245882\n",
       "Sports         214       150.65  0.703972\n",
       "Platform        74        42.63  0.576081\n",
       "Role-Playing   292       145.89  0.499623\n",
       "Racing          85        39.89  0.469294\n",
       "Fighting        80        35.31  0.441375\n",
       "Action         766       321.87  0.420196\n",
       "Misc           155        62.82  0.405290\n",
       "Simulation      62        21.76  0.350968\n",
       "Puzzle          17         3.17  0.186471\n",
       "Strategy        56        10.08  0.180000\n",
       "Adventure      245        23.64  0.096490"
      ]
     },
     "execution_count": 159,
     "metadata": {},
     "output_type": "execute_result"
    }
   ],
   "source": [
    "data_genre=data_2013.groupby('genre').agg({'name': 'count', 'total_sales': 'sum'})\n",
    "data_genre['itog']=data_genre['total_sales'] / data_genre['name']\n",
    "data_genre=data_genre.sort_values(by='itog', ascending=False)\n",
    "data_genre"
   ]
  },
  {
   "cell_type": "markdown",
   "metadata": {},
   "source": [
    "<div class=\"alert alert-block alert-info\">\n",
    "<b>🔄Комментарий студента:</b> \n",
    "Получили топ5 где первое место занимают шутеры, но категория platform закрепилась в топ 3\n",
    "</div>"
   ]
  },
  {
   "cell_type": "markdown",
   "metadata": {},
   "source": [
    "# Шаг 4. Портрет пользователя каждого региона"
   ]
  },
  {
   "cell_type": "code",
   "execution_count": 160,
   "metadata": {},
   "outputs": [
    {
     "data": {
      "text/html": [
       "<div>\n",
       "<style scoped>\n",
       "    .dataframe tbody tr th:only-of-type {\n",
       "        vertical-align: middle;\n",
       "    }\n",
       "\n",
       "    .dataframe tbody tr th {\n",
       "        vertical-align: top;\n",
       "    }\n",
       "\n",
       "    .dataframe thead th {\n",
       "        text-align: right;\n",
       "    }\n",
       "</style>\n",
       "<table border=\"1\" class=\"dataframe\">\n",
       "  <thead>\n",
       "    <tr style=\"text-align: right;\">\n",
       "      <th></th>\n",
       "      <th>eu_sales</th>\n",
       "    </tr>\n",
       "    <tr>\n",
       "      <th>platform</th>\n",
       "      <th></th>\n",
       "    </tr>\n",
       "  </thead>\n",
       "  <tbody>\n",
       "    <tr>\n",
       "      <th>PS4</th>\n",
       "      <td>141.09</td>\n",
       "    </tr>\n",
       "    <tr>\n",
       "      <th>PS3</th>\n",
       "      <td>67.81</td>\n",
       "    </tr>\n",
       "    <tr>\n",
       "      <th>XOne</th>\n",
       "      <td>51.59</td>\n",
       "    </tr>\n",
       "    <tr>\n",
       "      <th>X360</th>\n",
       "      <td>42.52</td>\n",
       "    </tr>\n",
       "    <tr>\n",
       "      <th>3DS</th>\n",
       "      <td>30.96</td>\n",
       "    </tr>\n",
       "  </tbody>\n",
       "</table>\n",
       "</div>"
      ],
      "text/plain": [
       "          eu_sales\n",
       "platform          \n",
       "PS4         141.09\n",
       "PS3          67.81\n",
       "XOne         51.59\n",
       "X360         42.52\n",
       "3DS          30.96"
      ]
     },
     "execution_count": 160,
     "metadata": {},
     "output_type": "execute_result"
    }
   ],
   "source": [
    "data_2013.pivot_table(index = 'platform', values = 'eu_sales', aggfunc = 'sum').sort_values(ascending=False, by = 'eu_sales').iloc[:5]"
   ]
  },
  {
   "cell_type": "code",
   "execution_count": 161,
   "metadata": {},
   "outputs": [
    {
     "data": {
      "text/html": [
       "<div>\n",
       "<style scoped>\n",
       "    .dataframe tbody tr th:only-of-type {\n",
       "        vertical-align: middle;\n",
       "    }\n",
       "\n",
       "    .dataframe tbody tr th {\n",
       "        vertical-align: top;\n",
       "    }\n",
       "\n",
       "    .dataframe thead th {\n",
       "        text-align: right;\n",
       "    }\n",
       "</style>\n",
       "<table border=\"1\" class=\"dataframe\">\n",
       "  <thead>\n",
       "    <tr style=\"text-align: right;\">\n",
       "      <th></th>\n",
       "      <th>na_sales</th>\n",
       "    </tr>\n",
       "    <tr>\n",
       "      <th>platform</th>\n",
       "      <th></th>\n",
       "    </tr>\n",
       "  </thead>\n",
       "  <tbody>\n",
       "    <tr>\n",
       "      <th>PS4</th>\n",
       "      <td>108.74</td>\n",
       "    </tr>\n",
       "    <tr>\n",
       "      <th>XOne</th>\n",
       "      <td>93.12</td>\n",
       "    </tr>\n",
       "    <tr>\n",
       "      <th>X360</th>\n",
       "      <td>81.66</td>\n",
       "    </tr>\n",
       "    <tr>\n",
       "      <th>PS3</th>\n",
       "      <td>63.50</td>\n",
       "    </tr>\n",
       "    <tr>\n",
       "      <th>3DS</th>\n",
       "      <td>38.20</td>\n",
       "    </tr>\n",
       "  </tbody>\n",
       "</table>\n",
       "</div>"
      ],
      "text/plain": [
       "          na_sales\n",
       "platform          \n",
       "PS4         108.74\n",
       "XOne         93.12\n",
       "X360         81.66\n",
       "PS3          63.50\n",
       "3DS          38.20"
      ]
     },
     "execution_count": 161,
     "metadata": {},
     "output_type": "execute_result"
    }
   ],
   "source": [
    "data_2013.pivot_table(index = 'platform', values ='na_sales', aggfunc = 'sum').sort_values(ascending=False, by = 'na_sales').iloc[:5]"
   ]
  },
  {
   "cell_type": "code",
   "execution_count": 162,
   "metadata": {},
   "outputs": [
    {
     "data": {
      "text/html": [
       "<div>\n",
       "<style scoped>\n",
       "    .dataframe tbody tr th:only-of-type {\n",
       "        vertical-align: middle;\n",
       "    }\n",
       "\n",
       "    .dataframe tbody tr th {\n",
       "        vertical-align: top;\n",
       "    }\n",
       "\n",
       "    .dataframe thead th {\n",
       "        text-align: right;\n",
       "    }\n",
       "</style>\n",
       "<table border=\"1\" class=\"dataframe\">\n",
       "  <thead>\n",
       "    <tr style=\"text-align: right;\">\n",
       "      <th></th>\n",
       "      <th>jp_sales</th>\n",
       "    </tr>\n",
       "    <tr>\n",
       "      <th>platform</th>\n",
       "      <th></th>\n",
       "    </tr>\n",
       "  </thead>\n",
       "  <tbody>\n",
       "    <tr>\n",
       "      <th>3DS</th>\n",
       "      <td>67.81</td>\n",
       "    </tr>\n",
       "    <tr>\n",
       "      <th>PS3</th>\n",
       "      <td>23.35</td>\n",
       "    </tr>\n",
       "    <tr>\n",
       "      <th>PSV</th>\n",
       "      <td>18.59</td>\n",
       "    </tr>\n",
       "    <tr>\n",
       "      <th>PS4</th>\n",
       "      <td>15.96</td>\n",
       "    </tr>\n",
       "    <tr>\n",
       "      <th>WiiU</th>\n",
       "      <td>10.88</td>\n",
       "    </tr>\n",
       "  </tbody>\n",
       "</table>\n",
       "</div>"
      ],
      "text/plain": [
       "          jp_sales\n",
       "platform          \n",
       "3DS          67.81\n",
       "PS3          23.35\n",
       "PSV          18.59\n",
       "PS4          15.96\n",
       "WiiU         10.88"
      ]
     },
     "execution_count": 162,
     "metadata": {},
     "output_type": "execute_result"
    }
   ],
   "source": [
    "data_2013.pivot_table(index = 'platform', values ='jp_sales', aggfunc = 'sum').sort_values(ascending=False, by = 'jp_sales').iloc[:5]"
   ]
  },
  {
   "cell_type": "code",
   "execution_count": 163,
   "metadata": {
    "scrolled": true
   },
   "outputs": [
    {
     "name": "stdout",
     "output_type": "stream",
     "text": [
      "Количество суммарных продаж в Европе eu_sales    392.23\n",
      "dtype: float64\n",
      "Количество суммарных продаж в Cеверной Америке na_sales    437.71\n",
      "dtype: float64\n",
      "Количество суммарных продаж в Японии jp_sales    140.78\n",
      "dtype: float64\n"
     ]
    }
   ],
   "source": [
    "print('Количество суммарных продаж в Европе',data_2013.pivot_table(index = 'platform', values ='eu_sales', aggfunc = 'sum').sum())\n",
    "print('Количество суммарных продаж в Cеверной Америке',data_2013.pivot_table(index = 'platform', values ='na_sales', aggfunc = 'sum').sum())\n",
    "print('Количество суммарных продаж в Японии',data_2013.pivot_table(index = 'platform', values ='jp_sales', aggfunc = 'sum').sum())"
   ]
  },
  {
   "cell_type": "code",
   "execution_count": 164,
   "metadata": {},
   "outputs": [
    {
     "data": {
      "text/html": [
       "<div>\n",
       "<style scoped>\n",
       "    .dataframe tbody tr th:only-of-type {\n",
       "        vertical-align: middle;\n",
       "    }\n",
       "\n",
       "    .dataframe tbody tr th {\n",
       "        vertical-align: top;\n",
       "    }\n",
       "\n",
       "    .dataframe thead th {\n",
       "        text-align: right;\n",
       "    }\n",
       "</style>\n",
       "<table border=\"1\" class=\"dataframe\">\n",
       "  <thead>\n",
       "    <tr style=\"text-align: right;\">\n",
       "      <th></th>\n",
       "      <th>jp_sales</th>\n",
       "    </tr>\n",
       "    <tr>\n",
       "      <th>platform</th>\n",
       "      <th></th>\n",
       "    </tr>\n",
       "  </thead>\n",
       "  <tbody>\n",
       "    <tr>\n",
       "      <th>3DS</th>\n",
       "      <td>67.81</td>\n",
       "    </tr>\n",
       "    <tr>\n",
       "      <th>PS3</th>\n",
       "      <td>23.35</td>\n",
       "    </tr>\n",
       "    <tr>\n",
       "      <th>PSV</th>\n",
       "      <td>18.59</td>\n",
       "    </tr>\n",
       "    <tr>\n",
       "      <th>PS4</th>\n",
       "      <td>15.96</td>\n",
       "    </tr>\n",
       "    <tr>\n",
       "      <th>WiiU</th>\n",
       "      <td>10.88</td>\n",
       "    </tr>\n",
       "    <tr>\n",
       "      <th>PSP</th>\n",
       "      <td>3.29</td>\n",
       "    </tr>\n",
       "    <tr>\n",
       "      <th>X360</th>\n",
       "      <td>0.51</td>\n",
       "    </tr>\n",
       "    <tr>\n",
       "      <th>XOne</th>\n",
       "      <td>0.34</td>\n",
       "    </tr>\n",
       "    <tr>\n",
       "      <th>Wii</th>\n",
       "      <td>0.05</td>\n",
       "    </tr>\n",
       "    <tr>\n",
       "      <th>DS</th>\n",
       "      <td>0.00</td>\n",
       "    </tr>\n",
       "    <tr>\n",
       "      <th>PC</th>\n",
       "      <td>0.00</td>\n",
       "    </tr>\n",
       "  </tbody>\n",
       "</table>\n",
       "</div>"
      ],
      "text/plain": [
       "          jp_sales\n",
       "platform          \n",
       "3DS          67.81\n",
       "PS3          23.35\n",
       "PSV          18.59\n",
       "PS4          15.96\n",
       "WiiU         10.88\n",
       "PSP           3.29\n",
       "X360          0.51\n",
       "XOne          0.34\n",
       "Wii           0.05\n",
       "DS            0.00\n",
       "PC            0.00"
      ]
     },
     "execution_count": 164,
     "metadata": {},
     "output_type": "execute_result"
    }
   ],
   "source": [
    "\n",
    "data_2013.pivot_table(index = 'platform', values = 'jp_sales', aggfunc = 'sum').sort_values(ascending=False, by = 'jp_sales')"
   ]
  },
  {
   "cell_type": "code",
   "execution_count": 165,
   "metadata": {},
   "outputs": [
    {
     "name": "stderr",
     "output_type": "stream",
     "text": [
      "/tmp/ipykernel_31/3905168978.py:8: SettingWithCopyWarning: \n",
      "A value is trying to be set on a copy of a slice from a DataFrame.\n",
      "Try using .loc[row_indexer,col_indexer] = value instead\n",
      "\n",
      "See the caveats in the documentation: https://pandas.pydata.org/pandas-docs/stable/user_guide/indexing.html#returning-a-view-versus-a-copy\n",
      "  data_2013['platform_name'] = (\n",
      "/tmp/ipykernel_31/3905168978.py:8: SettingWithCopyWarning: \n",
      "A value is trying to be set on a copy of a slice from a DataFrame.\n",
      "Try using .loc[row_indexer,col_indexer] = value instead\n",
      "\n",
      "See the caveats in the documentation: https://pandas.pydata.org/pandas-docs/stable/user_guide/indexing.html#returning-a-view-versus-a-copy\n",
      "  data_2013['platform_name'] = (\n",
      "/tmp/ipykernel_31/3905168978.py:8: SettingWithCopyWarning: \n",
      "A value is trying to be set on a copy of a slice from a DataFrame.\n",
      "Try using .loc[row_indexer,col_indexer] = value instead\n",
      "\n",
      "See the caveats in the documentation: https://pandas.pydata.org/pandas-docs/stable/user_guide/indexing.html#returning-a-view-versus-a-copy\n",
      "  data_2013['platform_name'] = (\n"
     ]
    },
    {
     "data": {
      "image/png": "[encoded data removed]",
      "text/plain": [
       "<Figure size 720x720 with 1 Axes>"
      ]
     },
     "metadata": {},
     "output_type": "display_data"
    },
    {
     "data": {
      "image/png": "[encoded data removed]",
      "text/plain": [
       "<Figure size 720x720 with 1 Axes>"
      ]
     },
     "metadata": {},
     "output_type": "display_data"
    },
    {
     "data": {
      "image/png": "[encoded data removed]",
      "text/plain": [
       "<Figure size 720x720 with 1 Axes>"
      ]
     },
     "metadata": {},
     "output_type": "display_data"
    }
   ],
   "source": [
    "countries=['eu_sales', 'na_sales','jp_sales']\n",
    "for a in countries:\n",
    "    b=data_2013.pivot_table(index = 'platform', values = a, aggfunc = 'sum').sort_values(ascending=False, by = a)\n",
    "    if a!='jp_sales': \n",
    "        big_comp=[\"PS4\",\"PS3\",\"XOne\",\"X360\",\"3DS\"]\n",
    "    else:\n",
    "        big_comp=['3DS','PS3','PSV','PS4','WiiU']\n",
    "    data_2013['platform_name'] = (\n",
    "    data_2013['platform']\n",
    "    .where(data_2013['platform'].isin(big_comp), 'Другие')\n",
    ")\n",
    "    data_2013.pivot_table(index = 'platform_name', values = a, aggfunc = 'sum').sort_values(ascending=False, by = a).plot(kind='pie', figsize=(10,10), y= a)\n",
    "    plt.xlabel(a)\n",
    "    plt.ylabel('Платформа')\n",
    "    plt.legend('', frameon =False)"
   ]
  },
  {
   "cell_type": "markdown",
   "metadata": {},
   "source": [
    "Топ 5 платформ жителей Северной Америки и Европы совпадают, отличается только расположение в этом топе. При этом количество покупок в странах Европы и Северной Америки гораздо больше, чем в Японии.\n",
    "\n",
    "В Японии топ5 платформ отличается. Причем на первом месте стоит платформа 3DS, являющееся платформой нинтендо, которая в свою очередь является как раз японской. То есть в японии ориентир именно на отечественного производителя"
   ]
  },
  {
   "cell_type": "code",
   "execution_count": 166,
   "metadata": {},
   "outputs": [
    {
     "data": {
      "text/html": [
       "<div>\n",
       "<style scoped>\n",
       "    .dataframe tbody tr th:only-of-type {\n",
       "        vertical-align: middle;\n",
       "    }\n",
       "\n",
       "    .dataframe tbody tr th {\n",
       "        vertical-align: top;\n",
       "    }\n",
       "\n",
       "    .dataframe thead th {\n",
       "        text-align: right;\n",
       "    }\n",
       "</style>\n",
       "<table border=\"1\" class=\"dataframe\">\n",
       "  <thead>\n",
       "    <tr style=\"text-align: right;\">\n",
       "      <th></th>\n",
       "      <th>eu_sales</th>\n",
       "    </tr>\n",
       "    <tr>\n",
       "      <th>genre</th>\n",
       "      <th></th>\n",
       "    </tr>\n",
       "  </thead>\n",
       "  <tbody>\n",
       "    <tr>\n",
       "      <th>Shooter</th>\n",
       "      <td>0.190</td>\n",
       "    </tr>\n",
       "    <tr>\n",
       "      <th>Platform</th>\n",
       "      <td>0.080</td>\n",
       "    </tr>\n",
       "    <tr>\n",
       "      <th>Racing</th>\n",
       "      <td>0.060</td>\n",
       "    </tr>\n",
       "    <tr>\n",
       "      <th>Sports</th>\n",
       "      <td>0.050</td>\n",
       "    </tr>\n",
       "    <tr>\n",
       "      <th>Simulation</th>\n",
       "      <td>0.035</td>\n",
       "    </tr>\n",
       "  </tbody>\n",
       "</table>\n",
       "</div>"
      ],
      "text/plain": [
       "            eu_sales\n",
       "genre               \n",
       "Shooter        0.190\n",
       "Platform       0.080\n",
       "Racing         0.060\n",
       "Sports         0.050\n",
       "Simulation     0.035"
      ]
     },
     "execution_count": 166,
     "metadata": {},
     "output_type": "execute_result"
    }
   ],
   "source": [
    "data_2013.pivot_table(index = 'genre', values = 'eu_sales', aggfunc = 'median').sort_values(ascending=False, by = 'eu_sales').iloc[:5]"
   ]
  },
  {
   "cell_type": "code",
   "execution_count": 167,
   "metadata": {},
   "outputs": [
    {
     "data": {
      "text/html": [
       "<div>\n",
       "<style scoped>\n",
       "    .dataframe tbody tr th:only-of-type {\n",
       "        vertical-align: middle;\n",
       "    }\n",
       "\n",
       "    .dataframe tbody tr th {\n",
       "        vertical-align: top;\n",
       "    }\n",
       "\n",
       "    .dataframe thead th {\n",
       "        text-align: right;\n",
       "    }\n",
       "</style>\n",
       "<table border=\"1\" class=\"dataframe\">\n",
       "  <thead>\n",
       "    <tr style=\"text-align: right;\">\n",
       "      <th></th>\n",
       "      <th>na_sales</th>\n",
       "    </tr>\n",
       "    <tr>\n",
       "      <th>genre</th>\n",
       "      <th></th>\n",
       "    </tr>\n",
       "  </thead>\n",
       "  <tbody>\n",
       "    <tr>\n",
       "      <th>Shooter</th>\n",
       "      <td>0.200</td>\n",
       "    </tr>\n",
       "    <tr>\n",
       "      <th>Platform</th>\n",
       "      <td>0.090</td>\n",
       "    </tr>\n",
       "    <tr>\n",
       "      <th>Sports</th>\n",
       "      <td>0.080</td>\n",
       "    </tr>\n",
       "    <tr>\n",
       "      <th>Fighting</th>\n",
       "      <td>0.045</td>\n",
       "    </tr>\n",
       "    <tr>\n",
       "      <th>Racing</th>\n",
       "      <td>0.030</td>\n",
       "    </tr>\n",
       "  </tbody>\n",
       "</table>\n",
       "</div>"
      ],
      "text/plain": [
       "          na_sales\n",
       "genre             \n",
       "Shooter      0.200\n",
       "Platform     0.090\n",
       "Sports       0.080\n",
       "Fighting     0.045\n",
       "Racing       0.030"
      ]
     },
     "execution_count": 167,
     "metadata": {},
     "output_type": "execute_result"
    }
   ],
   "source": [
    "data_2013.pivot_table(index = 'genre', values = 'na_sales', aggfunc = 'median').sort_values(ascending=False, by = 'na_sales').iloc[:5]"
   ]
  },
  {
   "cell_type": "code",
   "execution_count": 168,
   "metadata": {},
   "outputs": [
    {
     "data": {
      "text/html": [
       "<div>\n",
       "<style scoped>\n",
       "    .dataframe tbody tr th:only-of-type {\n",
       "        vertical-align: middle;\n",
       "    }\n",
       "\n",
       "    .dataframe tbody tr th {\n",
       "        vertical-align: top;\n",
       "    }\n",
       "\n",
       "    .dataframe thead th {\n",
       "        text-align: right;\n",
       "    }\n",
       "</style>\n",
       "<table border=\"1\" class=\"dataframe\">\n",
       "  <thead>\n",
       "    <tr style=\"text-align: right;\">\n",
       "      <th></th>\n",
       "      <th>jp_sales</th>\n",
       "    </tr>\n",
       "    <tr>\n",
       "      <th>genre</th>\n",
       "      <th></th>\n",
       "    </tr>\n",
       "  </thead>\n",
       "  <tbody>\n",
       "    <tr>\n",
       "      <th>Role-Playing</th>\n",
       "      <td>0.05</td>\n",
       "    </tr>\n",
       "    <tr>\n",
       "      <th>Fighting</th>\n",
       "      <td>0.03</td>\n",
       "    </tr>\n",
       "    <tr>\n",
       "      <th>Misc</th>\n",
       "      <td>0.02</td>\n",
       "    </tr>\n",
       "    <tr>\n",
       "      <th>Puzzle</th>\n",
       "      <td>0.02</td>\n",
       "    </tr>\n",
       "    <tr>\n",
       "      <th>Action</th>\n",
       "      <td>0.01</td>\n",
       "    </tr>\n",
       "  </tbody>\n",
       "</table>\n",
       "</div>"
      ],
      "text/plain": [
       "              jp_sales\n",
       "genre                 \n",
       "Role-Playing      0.05\n",
       "Fighting          0.03\n",
       "Misc              0.02\n",
       "Puzzle            0.02\n",
       "Action            0.01"
      ]
     },
     "execution_count": 168,
     "metadata": {},
     "output_type": "execute_result"
    }
   ],
   "source": [
    "data_2013.pivot_table(index = 'genre', values = 'jp_sales', aggfunc = 'median').sort_values(ascending=False, by = 'jp_sales').iloc[:5]"
   ]
  },
  {
   "cell_type": "code",
   "execution_count": 169,
   "metadata": {},
   "outputs": [
    {
     "data": {
      "image/png": "[encoded data removed]",
      "text/plain": [
       "<Figure size 720x720 with 1 Axes>"
      ]
     },
     "metadata": {},
     "output_type": "display_data"
    },
    {
     "data": {
      "image/png": "[encoded data removed]",
      "text/plain": [
       "<Figure size 720x720 with 1 Axes>"
      ]
     },
     "metadata": {},
     "output_type": "display_data"
    },
    {
     "data": {
      "image/png": "[encoded data removed]",
      "text/plain": [
       "<Figure size 720x720 with 1 Axes>"
      ]
     },
     "metadata": {},
     "output_type": "display_data"
    }
   ],
   "source": [
    "countries=['eu_sales', 'na_sales','jp_sales']\n",
    "for a in countries:\n",
    "\n",
    "    data_2013.pivot_table(index = 'genre', values = a, aggfunc = 'sum').sort_values(ascending=False, by = a).plot(kind='pie', figsize=(10,10), y= a)\n",
    "    plt.xlabel(a)\n",
    "    plt.ylabel('genre')\n",
    "    plt.legend('', frameon =False)\n",
    "    "
   ]
  },
  {
   "cell_type": "markdown",
   "metadata": {},
   "source": [
    "И опять топ 5 жанров Северной Америки и Европы совпадает, когда у японии лидирует жанр Role-Playing"
   ]
  },
  {
   "cell_type": "code",
   "execution_count": 170,
   "metadata": {},
   "outputs": [
    {
     "data": {
      "text/html": [
       "<div>\n",
       "<style scoped>\n",
       "    .dataframe tbody tr th:only-of-type {\n",
       "        vertical-align: middle;\n",
       "    }\n",
       "\n",
       "    .dataframe tbody tr th {\n",
       "        vertical-align: top;\n",
       "    }\n",
       "\n",
       "    .dataframe thead th {\n",
       "        text-align: right;\n",
       "    }\n",
       "</style>\n",
       "<table border=\"1\" class=\"dataframe\">\n",
       "  <thead>\n",
       "    <tr style=\"text-align: right;\">\n",
       "      <th></th>\n",
       "      <th>eu_sales</th>\n",
       "      <th>jp_sales</th>\n",
       "      <th>na_sales</th>\n",
       "    </tr>\n",
       "    <tr>\n",
       "      <th>rating</th>\n",
       "      <th></th>\n",
       "      <th></th>\n",
       "      <th></th>\n",
       "    </tr>\n",
       "  </thead>\n",
       "  <tbody>\n",
       "    <tr>\n",
       "      <th>E</th>\n",
       "      <td>83.36</td>\n",
       "      <td>15.14</td>\n",
       "      <td>79.05</td>\n",
       "    </tr>\n",
       "    <tr>\n",
       "      <th>E10+</th>\n",
       "      <td>42.69</td>\n",
       "      <td>5.89</td>\n",
       "      <td>54.24</td>\n",
       "    </tr>\n",
       "    <tr>\n",
       "      <th>M</th>\n",
       "      <td>145.32</td>\n",
       "      <td>14.11</td>\n",
       "      <td>165.21</td>\n",
       "    </tr>\n",
       "    <tr>\n",
       "      <th>NC</th>\n",
       "      <td>78.91</td>\n",
       "      <td>85.05</td>\n",
       "      <td>89.42</td>\n",
       "    </tr>\n",
       "    <tr>\n",
       "      <th>T</th>\n",
       "      <td>41.95</td>\n",
       "      <td>20.59</td>\n",
       "      <td>49.79</td>\n",
       "    </tr>\n",
       "  </tbody>\n",
       "</table>\n",
       "</div>"
      ],
      "text/plain": [
       "        eu_sales  jp_sales  na_sales\n",
       "rating                              \n",
       "E          83.36     15.14     79.05\n",
       "E10+       42.69      5.89     54.24\n",
       "M         145.32     14.11    165.21\n",
       "NC         78.91     85.05     89.42\n",
       "T          41.95     20.59     49.79"
      ]
     },
     "execution_count": 170,
     "metadata": {},
     "output_type": "execute_result"
    }
   ],
   "source": [
    "data_2013.pivot_table(index = 'rating', values = ['eu_sales','na_sales','jp_sales'], aggfunc = 'sum')"
   ]
  },
  {
   "cell_type": "markdown",
   "metadata": {},
   "source": [
    "Рейтинг E обозначает длля всех\n",
    "\n",
    "Рейтинг Е10+ - старше 10 лет\n",
    "\n",
    "Рейтинг M - старше 17 лет\n",
    "\n",
    "Рейтинг Т - старше 13 лет\n",
    "\n",
    "Из сводной таблицы видим что категории старше 10 и 13 лет покупались гораздо реже в странах Северной Америки и Европы,лидерами продаж стали игры категории старше 17 лет\n",
    "\n",
    "В то время как в японии игры старше 13 лет покупались больше всего. А количество проданных игр категории для всех и старше 17 лет примерно равно"
   ]
  },
  {
   "cell_type": "markdown",
   "metadata": {},
   "source": [
    "<div class=\"alert alert-block alert-info\">\n",
    "<b>🔄Комментарий студента:</b> \n",
    "Действительно обозначив отсутствие категории за NC получили значение сильно влияющее на анализ, вероятнее всего к этой категории относятся новинки, еще не получившие категорию. Видно, что в каждом из рынков покупка новинок занимает значительную часть продаж, особенно в Японии где это превышает в несколько раз второе место\n",
    "</div>"
   ]
  },
  {
   "cell_type": "markdown",
   "metadata": {},
   "source": [
    "# Проверка гипотез"
   ]
  },
  {
   "cell_type": "markdown",
   "metadata": {},
   "source": [
    "Гипотезы:\n",
    "\n",
    "средние пользовательские рейтинги платформ Xbox One и PC одинаковые\n",
    "\n",
    "средние пользовательские рейтинги жанров Action и Sports разные"
   ]
  },
  {
   "cell_type": "markdown",
   "metadata": {},
   "source": [
    "**Гипотеза 1**\n",
    "средние пользовательские рейтинги платформ Xbox One и PC одинаковые."
   ]
  },
  {
   "cell_type": "markdown",
   "metadata": {},
   "source": [
    "нулевая гипотеза - средние пользовательские рейтинги платформ Xbox One и PC одинаковые\n",
    "\n",
    "альтернативная гипотеза - средние пользовательские рейтинги платформ Xbox One и PC разные"
   ]
  },
  {
   "cell_type": "code",
   "execution_count": 171,
   "metadata": {
    "scrolled": true
   },
   "outputs": [
    {
     "name": "stdout",
     "output_type": "stream",
     "text": [
      "p-значение: 0.14012658403611647\n",
      "Не получилось отвергнуть нулевую гипотезу\n"
     ]
    }
   ],
   "source": [
    "from scipy import stats as st\n",
    "import numpy as np\n",
    "sample_1 = data_2013[(data_2013['platform'] == 'XOne') &  (data_2013['user_score'] > 0)]['user_score']\n",
    "sample_2 = data_2013[(data_2013['platform'] == 'PC') &  (data_2013['user_score'] > 0)]['user_score']\n",
    "alpha = 0.05 \n",
    "results = st.ttest_ind(sample_1, sample_2,)\n",
    "\n",
    "print('p-значение:', results.pvalue)\n",
    "\n",
    "if results.pvalue < alpha:\n",
    "    print('Отвергаем нулевую гипотезу')\n",
    "else:\n",
    "    print('Не получилось отвергнуть нулевую гипотезу') "
   ]
  },
  {
   "cell_type": "markdown",
   "metadata": {},
   "source": [
    "Мы не можем отвергнуть нулевую гипотезу, значит с большей долей вероятности  что средние пользовательские рейтинги платформ Xbox One и PC одинаковые"
   ]
  },
  {
   "cell_type": "markdown",
   "metadata": {},
   "source": [
    "**Гипотеза 2** средние пользовательские рейтинги жанров Action и Sports разные\n",
    "\n",
    "нулевая гипотеза - средние пользовательские рейтинги жанров Action и Sports одинаковые\n",
    "\n",
    "альтернативная гипотеза - средние пользовательские рейтинги жанров Action и Sports разные"
   ]
  },
  {
   "cell_type": "code",
   "execution_count": 172,
   "metadata": {},
   "outputs": [
    {
     "name": "stdout",
     "output_type": "stream",
     "text": [
      "p-значение: 1.0517832389140023e-27\n",
      "Отвергаем нулевую гипотезу\n"
     ]
    }
   ],
   "source": [
    "sample_1 = data_2013[(data_2013['genre'] == 'Action') &  (data_2013['user_score'] > 0)]['user_score']\n",
    "sample_2 = data_2013[(data_2013['genre'] == 'Sports') &  (data_2013['user_score'] > 0)]['user_score']\n",
    "alpha = 0.05 \n",
    "results = st.ttest_ind(sample_1, sample_2,)\n",
    "\n",
    "print('p-значение:', results.pvalue)\n",
    "\n",
    "if results.pvalue < alpha:\n",
    "    print('Отвергаем нулевую гипотезу')\n",
    "else:\n",
    "    print('Не получилось отвергнуть нулевую гипотезу') "
   ]
  },
  {
   "cell_type": "markdown",
   "metadata": {},
   "source": [
    "<div class=\"alert alert-block alert-info\">\n",
    "<b>🔄Комментарий студента:</b> \n",
    "Можем отвергнуть нулевую гипотезу, значит с большей долей вероятности средние пользовательские рейтинги жанров Action и Sports разные\n",
    "</div>"
   ]
  },
  {
   "cell_type": "markdown",
   "metadata": {},
   "source": [
    "# Общий вывод"
   ]
  },
  {
   "cell_type": "markdown",
   "metadata": {},
   "source": [
    "- На этапе предобработки обработали пропуски: удалили строки с пустым названием игры, неизвестным годом выпуска, заменили неизвестные данные в столбце категории на NC(no category)\n",
    "\n",
    "- Срок жизни платформы крупной компаниии - 10 лет, у других - 5 лет\n",
    "- Определили потенциально прибыльный платформы Xone и PS4\n",
    "- Для компаний имеющих высокое количество продаж и стоящих на рынке одними из первых, количество продаж будет зависеть именно от оценок критиков, когда на платформах ниже продажи зависят не только от них, но и от оценок пользователей\n",
    "- Жанры action,shooter, sports,Role-Playing самые покупаемые жанры игр, но самые прибыльные Platform, Sports, Shooter, Role-Playing, Racing\n",
    "- Тип игр, которые вероятнее всего принесут хорошую прибыль в Европе:\n",
    " - выходят на платформах PS4,PS3,XOne,X360,3DS; \n",
    " - причем стоит обратить внимание в первую очередь на PS4 и XOne, тк они являются наиболее востребованными платформами к 2017 году и занимают порядка 50% рынка\n",
    " - Жанры: Platform, Sports, Shooter, Simulation, Racing\n",
    " - Рейтинг: M и E\n",
    "- Cеверной Америке:\n",
    " - платформы: PS4,PS3,XOne,X360,3DS, аналогично европейскому рынку в первую очередь рассматривать PS4 и XOne\n",
    " - Жанры: Platform, Sports, Shooter, Simulation, Racing\n",
    " - Рейтинг: M и E\n",
    "\n",
    "рынок Америки и Европы похож, так что компаниям легко ориентироваться сразу на два рынка\n",
    "- Япония:\n",
    " - Платформы:3DS,PS3,PSV,PS4,WiiU, при этом ориентироваться стоит именоо на 3DS так как занимает больше половина рынка платформ\t\n",
    " - Жанры: Role-Playing,Action,Misc,Fighting,Puzzle\n",
    " - Рейтинг: T,E,M\n",
    " \n",
    " Остается неопреденность с категорией NC так как вероятнее всего в Японии какую-то категорию игр не принятно обозначать, так как слишком много покупок, так что к японскому рынку стоит добавить эту категорию"
   ]
  },
  {
   "cell_type": "code",
   "execution_count": null,
   "metadata": {},
   "outputs": [],
   "source": []
  }
 ],
 "metadata": {
  "ExecuteTimeLog": [
   {
    "duration": 3,
    "start_time": "2023-04-22T09:37:43.249Z"
   },
   {
    "duration": 2,
    "start_time": "2023-04-22T09:37:47.480Z"
   },
   {
    "duration": 78,
    "start_time": "2023-04-22T09:37:52.382Z"
   },
   {
    "duration": 99,
    "start_time": "2023-04-22T09:37:56.146Z"
   },
   {
    "duration": 480,
    "start_time": "2023-04-22T17:48:28.080Z"
   },
   {
    "duration": 1112,
    "start_time": "2023-04-22T18:01:02.603Z"
   },
   {
    "duration": 77,
    "start_time": "2023-04-22T18:06:17.137Z"
   },
   {
    "duration": 3,
    "start_time": "2023-04-22T18:06:29.287Z"
   },
   {
    "duration": 54,
    "start_time": "2023-04-23T01:51:06.884Z"
   },
   {
    "duration": 4,
    "start_time": "2023-04-23T01:51:16.563Z"
   },
   {
    "duration": 60,
    "start_time": "2023-04-23T01:51:26.857Z"
   },
   {
    "duration": 681,
    "start_time": "2023-04-23T01:51:26.918Z"
   },
   {
    "duration": 4,
    "start_time": "2023-04-23T01:51:27.600Z"
   },
   {
    "duration": 5,
    "start_time": "2023-04-23T01:51:27.605Z"
   },
   {
    "duration": 12,
    "start_time": "2023-04-23T01:51:41.999Z"
   },
   {
    "duration": 3,
    "start_time": "2023-04-23T01:52:31.743Z"
   },
   {
    "duration": 8,
    "start_time": "2023-04-23T01:53:00.413Z"
   },
   {
    "duration": 6,
    "start_time": "2023-04-23T01:53:29.568Z"
   },
   {
    "duration": 4,
    "start_time": "2023-04-23T01:53:34.079Z"
   },
   {
    "duration": 9,
    "start_time": "2023-04-23T01:59:06.263Z"
   },
   {
    "duration": 14,
    "start_time": "2023-04-23T02:02:21.447Z"
   },
   {
    "duration": 5,
    "start_time": "2023-04-23T02:23:14.909Z"
   },
   {
    "duration": 10,
    "start_time": "2023-04-23T02:23:23.106Z"
   },
   {
    "duration": 61,
    "start_time": "2023-04-23T02:27:00.774Z"
   },
   {
    "duration": 717,
    "start_time": "2023-04-23T02:27:00.837Z"
   },
   {
    "duration": 6,
    "start_time": "2023-04-23T02:27:01.556Z"
   },
   {
    "duration": 30,
    "start_time": "2023-04-23T02:27:01.564Z"
   },
   {
    "duration": 40,
    "start_time": "2023-04-23T02:27:01.595Z"
   },
   {
    "duration": 21,
    "start_time": "2023-04-23T02:27:01.636Z"
   },
   {
    "duration": 33,
    "start_time": "2023-04-23T02:27:01.658Z"
   },
   {
    "duration": 31,
    "start_time": "2023-04-23T02:27:01.693Z"
   },
   {
    "duration": 22,
    "start_time": "2023-04-23T02:27:01.725Z"
   },
   {
    "duration": 17,
    "start_time": "2023-04-23T02:27:01.748Z"
   },
   {
    "duration": 0,
    "start_time": "2023-04-23T02:27:01.766Z"
   },
   {
    "duration": 4,
    "start_time": "2023-04-23T02:27:12.459Z"
   },
   {
    "duration": 5,
    "start_time": "2023-04-23T02:27:14.388Z"
   },
   {
    "duration": 5,
    "start_time": "2023-04-23T02:28:20.452Z"
   },
   {
    "duration": 32,
    "start_time": "2023-04-23T02:28:32.779Z"
   },
   {
    "duration": 1170,
    "start_time": "2023-04-23T02:32:48.795Z"
   },
   {
    "duration": 142,
    "start_time": "2023-04-23T02:33:01.380Z"
   },
   {
    "duration": 26,
    "start_time": "2023-04-23T02:37:46.925Z"
   },
   {
    "duration": 7,
    "start_time": "2023-04-23T02:38:04.492Z"
   },
   {
    "duration": 15,
    "start_time": "2023-04-23T02:41:23.164Z"
   },
   {
    "duration": 14,
    "start_time": "2023-04-23T02:41:32.218Z"
   },
   {
    "duration": 13,
    "start_time": "2023-04-23T02:41:38.138Z"
   },
   {
    "duration": 1529,
    "start_time": "2023-04-23T02:43:13.771Z"
   },
   {
    "duration": 1197,
    "start_time": "2023-04-23T02:43:54.715Z"
   },
   {
    "duration": 1294,
    "start_time": "2023-04-23T02:44:25.388Z"
   },
   {
    "duration": 1102,
    "start_time": "2023-04-23T02:44:28.715Z"
   },
   {
    "duration": 13,
    "start_time": "2023-04-23T02:44:43.315Z"
   },
   {
    "duration": 59,
    "start_time": "2023-04-23T02:45:20.500Z"
   },
   {
    "duration": 756,
    "start_time": "2023-04-23T02:45:20.561Z"
   },
   {
    "duration": 4,
    "start_time": "2023-04-23T02:45:21.318Z"
   },
   {
    "duration": 8,
    "start_time": "2023-04-23T02:45:21.324Z"
   },
   {
    "duration": 24,
    "start_time": "2023-04-23T02:45:21.333Z"
   },
   {
    "duration": 3,
    "start_time": "2023-04-23T02:45:21.359Z"
   },
   {
    "duration": 9,
    "start_time": "2023-04-23T02:45:21.364Z"
   },
   {
    "duration": 11,
    "start_time": "2023-04-23T02:45:21.375Z"
   },
   {
    "duration": 5,
    "start_time": "2023-04-23T02:45:21.388Z"
   },
   {
    "duration": 6,
    "start_time": "2023-04-23T02:45:21.394Z"
   },
   {
    "duration": 11,
    "start_time": "2023-04-23T02:45:21.401Z"
   },
   {
    "duration": 9,
    "start_time": "2023-04-23T02:45:21.413Z"
   },
   {
    "duration": 49,
    "start_time": "2023-04-23T02:45:21.423Z"
   },
   {
    "duration": 151,
    "start_time": "2023-04-23T02:45:21.475Z"
   },
   {
    "duration": 7,
    "start_time": "2023-04-23T02:45:21.628Z"
   },
   {
    "duration": 23,
    "start_time": "2023-04-23T02:45:21.636Z"
   },
   {
    "duration": 1105,
    "start_time": "2023-04-23T02:45:21.661Z"
   },
   {
    "duration": 142,
    "start_time": "2023-04-23T02:45:39.611Z"
   },
   {
    "duration": 16,
    "start_time": "2023-04-23T02:51:04.305Z"
   },
   {
    "duration": 1428,
    "start_time": "2023-04-23T02:51:15.682Z"
   },
   {
    "duration": 1581,
    "start_time": "2023-04-23T02:51:32.962Z"
   },
   {
    "duration": 1453,
    "start_time": "2023-04-23T02:51:39.801Z"
   },
   {
    "duration": 26,
    "start_time": "2023-04-23T03:32:32.992Z"
   },
   {
    "duration": 107,
    "start_time": "2023-04-23T03:32:44.470Z"
   },
   {
    "duration": 1138,
    "start_time": "2023-04-23T03:48:34.084Z"
   },
   {
    "duration": 12,
    "start_time": "2023-04-23T03:52:05.651Z"
   },
   {
    "duration": 229,
    "start_time": "2023-04-23T03:52:14.835Z"
   },
   {
    "duration": 348,
    "start_time": "2023-04-23T03:52:41.692Z"
   },
   {
    "duration": 280,
    "start_time": "2023-04-23T03:52:49.699Z"
   },
   {
    "duration": 7,
    "start_time": "2023-04-23T03:55:24.563Z"
   },
   {
    "duration": 3,
    "start_time": "2023-04-23T03:55:30.212Z"
   },
   {
    "duration": 203,
    "start_time": "2023-04-23T03:58:03.459Z"
   },
   {
    "duration": 282,
    "start_time": "2023-04-23T03:58:20.522Z"
   },
   {
    "duration": 196,
    "start_time": "2023-04-23T03:58:32.981Z"
   },
   {
    "duration": 2,
    "start_time": "2023-04-23T04:00:21.780Z"
   },
   {
    "duration": 113,
    "start_time": "2023-04-23T04:00:22.492Z"
   },
   {
    "duration": 121,
    "start_time": "2023-04-23T04:00:34.292Z"
   },
   {
    "duration": 59,
    "start_time": "2023-04-23T04:00:40.469Z"
   },
   {
    "duration": 658,
    "start_time": "2023-04-23T04:00:40.530Z"
   },
   {
    "duration": 4,
    "start_time": "2023-04-23T04:00:41.189Z"
   },
   {
    "duration": 4,
    "start_time": "2023-04-23T04:00:41.194Z"
   },
   {
    "duration": 13,
    "start_time": "2023-04-23T04:00:41.200Z"
   },
   {
    "duration": 3,
    "start_time": "2023-04-23T04:00:41.215Z"
   },
   {
    "duration": 12,
    "start_time": "2023-04-23T04:00:41.219Z"
   },
   {
    "duration": 9,
    "start_time": "2023-04-23T04:00:41.249Z"
   },
   {
    "duration": 5,
    "start_time": "2023-04-23T04:00:41.260Z"
   },
   {
    "duration": 4,
    "start_time": "2023-04-23T04:00:41.267Z"
   },
   {
    "duration": 5,
    "start_time": "2023-04-23T04:00:41.273Z"
   },
   {
    "duration": 5,
    "start_time": "2023-04-23T04:00:41.279Z"
   },
   {
    "duration": 33,
    "start_time": "2023-04-23T04:00:41.285Z"
   },
   {
    "duration": 150,
    "start_time": "2023-04-23T04:00:41.351Z"
   },
   {
    "duration": 8,
    "start_time": "2023-04-23T04:00:41.503Z"
   },
   {
    "duration": 25,
    "start_time": "2023-04-23T04:00:41.513Z"
   },
   {
    "duration": 145,
    "start_time": "2023-04-23T04:00:41.540Z"
   },
   {
    "duration": 1534,
    "start_time": "2023-04-23T04:00:41.687Z"
   },
   {
    "duration": 30,
    "start_time": "2023-04-23T04:00:43.223Z"
   },
   {
    "duration": 269,
    "start_time": "2023-04-23T04:00:43.255Z"
   },
   {
    "duration": 4,
    "start_time": "2023-04-23T04:00:43.526Z"
   },
   {
    "duration": 203,
    "start_time": "2023-04-23T04:00:43.532Z"
   },
   {
    "duration": 204,
    "start_time": "2023-04-23T04:02:12.449Z"
   },
   {
    "duration": 92,
    "start_time": "2023-04-23T04:12:33.603Z"
   },
   {
    "duration": 493,
    "start_time": "2023-04-23T04:12:38.529Z"
   },
   {
    "duration": 839,
    "start_time": "2023-04-23T04:12:54.711Z"
   },
   {
    "duration": 88,
    "start_time": "2023-04-23T04:13:52.777Z"
   },
   {
    "duration": 283,
    "start_time": "2023-04-23T04:14:04.649Z"
   },
   {
    "duration": 212,
    "start_time": "2023-04-23T04:14:26.641Z"
   },
   {
    "duration": 749,
    "start_time": "2023-04-23T04:14:31.953Z"
   },
   {
    "duration": 254,
    "start_time": "2023-04-23T04:15:03.234Z"
   },
   {
    "duration": 251,
    "start_time": "2023-04-23T04:15:59.408Z"
   },
   {
    "duration": 234,
    "start_time": "2023-04-23T04:16:01.729Z"
   },
   {
    "duration": 259,
    "start_time": "2023-04-23T04:25:26.976Z"
   },
   {
    "duration": 304,
    "start_time": "2023-04-23T04:25:32.791Z"
   },
   {
    "duration": 300,
    "start_time": "2023-04-23T04:25:38.543Z"
   },
   {
    "duration": 283,
    "start_time": "2023-04-23T04:25:49.064Z"
   },
   {
    "duration": 291,
    "start_time": "2023-04-23T04:26:36.766Z"
   },
   {
    "duration": 70,
    "start_time": "2023-04-23T04:26:50.543Z"
   },
   {
    "duration": 306,
    "start_time": "2023-04-23T04:27:24.753Z"
   },
   {
    "duration": 7,
    "start_time": "2023-04-23T04:27:31.879Z"
   },
   {
    "duration": 13,
    "start_time": "2023-04-23T04:27:43.303Z"
   },
   {
    "duration": 10,
    "start_time": "2023-04-23T04:31:36.208Z"
   },
   {
    "duration": 14,
    "start_time": "2023-04-23T04:32:01.390Z"
   },
   {
    "duration": 13,
    "start_time": "2023-04-23T04:32:08.811Z"
   },
   {
    "duration": 72,
    "start_time": "2023-04-23T04:33:03.430Z"
   },
   {
    "duration": 12,
    "start_time": "2023-04-23T04:33:30.359Z"
   },
   {
    "duration": 13,
    "start_time": "2023-04-23T04:33:55.864Z"
   },
   {
    "duration": 12,
    "start_time": "2023-04-23T04:34:30.214Z"
   },
   {
    "duration": 11,
    "start_time": "2023-04-23T04:37:21.271Z"
   },
   {
    "duration": 10,
    "start_time": "2023-04-23T04:37:34.960Z"
   },
   {
    "duration": 22,
    "start_time": "2023-04-23T04:38:03.934Z"
   },
   {
    "duration": 13,
    "start_time": "2023-04-23T04:42:39.631Z"
   },
   {
    "duration": 12,
    "start_time": "2023-04-23T04:42:43.181Z"
   },
   {
    "duration": 13,
    "start_time": "2023-04-23T04:42:45.693Z"
   },
   {
    "duration": 13,
    "start_time": "2023-04-23T04:43:04.467Z"
   },
   {
    "duration": 12,
    "start_time": "2023-04-23T04:43:05.709Z"
   },
   {
    "duration": 12,
    "start_time": "2023-04-23T04:43:06.878Z"
   },
   {
    "duration": 12,
    "start_time": "2023-04-23T04:43:24.094Z"
   },
   {
    "duration": 7,
    "start_time": "2023-04-23T04:57:15.704Z"
   },
   {
    "duration": 9,
    "start_time": "2023-04-23T04:57:23.463Z"
   },
   {
    "duration": 8,
    "start_time": "2023-04-23T04:57:51.289Z"
   },
   {
    "duration": 14,
    "start_time": "2023-04-23T04:58:01.622Z"
   },
   {
    "duration": 14,
    "start_time": "2023-04-23T05:03:42.000Z"
   },
   {
    "duration": 61,
    "start_time": "2023-04-23T05:03:49.645Z"
   },
   {
    "duration": 805,
    "start_time": "2023-04-23T05:03:49.708Z"
   },
   {
    "duration": 3,
    "start_time": "2023-04-23T05:03:50.515Z"
   },
   {
    "duration": 20,
    "start_time": "2023-04-23T05:03:50.520Z"
   },
   {
    "duration": 17,
    "start_time": "2023-04-23T05:03:50.542Z"
   },
   {
    "duration": 3,
    "start_time": "2023-04-23T05:03:50.560Z"
   },
   {
    "duration": 11,
    "start_time": "2023-04-23T05:03:50.565Z"
   },
   {
    "duration": 23,
    "start_time": "2023-04-23T05:03:50.578Z"
   },
   {
    "duration": 8,
    "start_time": "2023-04-23T05:03:50.603Z"
   },
   {
    "duration": 24,
    "start_time": "2023-04-23T05:03:50.612Z"
   },
   {
    "duration": 13,
    "start_time": "2023-04-23T05:03:50.638Z"
   },
   {
    "duration": 16,
    "start_time": "2023-04-23T05:03:50.652Z"
   },
   {
    "duration": 43,
    "start_time": "2023-04-23T05:03:50.669Z"
   },
   {
    "duration": 135,
    "start_time": "2023-04-23T05:03:50.714Z"
   },
   {
    "duration": 7,
    "start_time": "2023-04-23T05:03:50.851Z"
   },
   {
    "duration": 17,
    "start_time": "2023-04-23T05:03:50.859Z"
   },
   {
    "duration": 143,
    "start_time": "2023-04-23T05:03:50.877Z"
   },
   {
    "duration": 1463,
    "start_time": "2023-04-23T05:03:51.021Z"
   },
   {
    "duration": 15,
    "start_time": "2023-04-23T05:03:52.485Z"
   },
   {
    "duration": 270,
    "start_time": "2023-04-23T05:03:52.501Z"
   },
   {
    "duration": 3,
    "start_time": "2023-04-23T05:03:52.773Z"
   },
   {
    "duration": 207,
    "start_time": "2023-04-23T05:03:52.777Z"
   },
   {
    "duration": 253,
    "start_time": "2023-04-23T05:03:52.985Z"
   },
   {
    "duration": 274,
    "start_time": "2023-04-23T05:03:53.240Z"
   },
   {
    "duration": 244,
    "start_time": "2023-04-23T05:03:53.516Z"
   },
   {
    "duration": 14,
    "start_time": "2023-04-23T05:03:53.763Z"
   },
   {
    "duration": 28,
    "start_time": "2023-04-23T05:03:53.779Z"
   },
   {
    "duration": 24,
    "start_time": "2023-04-23T05:03:53.808Z"
   },
   {
    "duration": 26,
    "start_time": "2023-04-23T05:03:53.833Z"
   },
   {
    "duration": 26,
    "start_time": "2023-04-23T05:03:53.861Z"
   },
   {
    "duration": 12,
    "start_time": "2023-04-23T05:03:53.888Z"
   },
   {
    "duration": 40,
    "start_time": "2023-04-23T05:03:53.902Z"
   },
   {
    "duration": 32,
    "start_time": "2023-04-23T05:03:53.944Z"
   },
   {
    "duration": 23,
    "start_time": "2023-04-23T05:03:53.978Z"
   },
   {
    "duration": 77,
    "start_time": "2023-04-23T05:08:03.232Z"
   },
   {
    "duration": 125,
    "start_time": "2023-04-23T05:09:13.325Z"
   },
   {
    "duration": 203,
    "start_time": "2023-04-23T05:11:21.846Z"
   },
   {
    "duration": 518,
    "start_time": "2023-04-23T05:21:20.064Z"
   },
   {
    "duration": 8,
    "start_time": "2023-04-23T05:21:52.471Z"
   },
   {
    "duration": 8,
    "start_time": "2023-04-23T05:22:18.294Z"
   },
   {
    "duration": 11,
    "start_time": "2023-04-23T05:23:40.078Z"
   },
   {
    "duration": 30,
    "start_time": "2023-04-23T05:24:01.933Z"
   },
   {
    "duration": 8,
    "start_time": "2023-04-23T05:24:20.280Z"
   },
   {
    "duration": 4,
    "start_time": "2023-04-23T05:25:21.536Z"
   },
   {
    "duration": 8,
    "start_time": "2023-04-23T05:27:06.048Z"
   },
   {
    "duration": 103,
    "start_time": "2023-04-23T05:28:06.951Z"
   },
   {
    "duration": 64,
    "start_time": "2023-04-23T05:39:31.369Z"
   },
   {
    "duration": 716,
    "start_time": "2023-04-23T05:39:31.434Z"
   },
   {
    "duration": 5,
    "start_time": "2023-04-23T05:39:32.151Z"
   },
   {
    "duration": 8,
    "start_time": "2023-04-23T05:39:32.157Z"
   },
   {
    "duration": 15,
    "start_time": "2023-04-23T05:39:32.167Z"
   },
   {
    "duration": 6,
    "start_time": "2023-04-23T05:39:32.184Z"
   },
   {
    "duration": 9,
    "start_time": "2023-04-23T05:39:32.192Z"
   },
   {
    "duration": 12,
    "start_time": "2023-04-23T05:39:32.203Z"
   },
   {
    "duration": 8,
    "start_time": "2023-04-23T05:39:32.216Z"
   },
   {
    "duration": 24,
    "start_time": "2023-04-23T05:39:32.226Z"
   },
   {
    "duration": 4,
    "start_time": "2023-04-23T05:39:32.252Z"
   },
   {
    "duration": 7,
    "start_time": "2023-04-23T05:39:32.257Z"
   },
   {
    "duration": 38,
    "start_time": "2023-04-23T05:39:32.265Z"
   },
   {
    "duration": 155,
    "start_time": "2023-04-23T05:39:32.306Z"
   },
   {
    "duration": 7,
    "start_time": "2023-04-23T05:39:32.463Z"
   },
   {
    "duration": 15,
    "start_time": "2023-04-23T05:39:32.471Z"
   },
   {
    "duration": 156,
    "start_time": "2023-04-23T05:39:32.488Z"
   },
   {
    "duration": 1496,
    "start_time": "2023-04-23T05:39:32.646Z"
   },
   {
    "duration": 18,
    "start_time": "2023-04-23T05:39:34.144Z"
   },
   {
    "duration": 287,
    "start_time": "2023-04-23T05:39:34.163Z"
   },
   {
    "duration": 4,
    "start_time": "2023-04-23T05:39:34.452Z"
   },
   {
    "duration": 380,
    "start_time": "2023-04-23T05:39:34.458Z"
   },
   {
    "duration": 272,
    "start_time": "2023-04-23T05:39:34.840Z"
   },
   {
    "duration": 261,
    "start_time": "2023-04-23T05:39:35.114Z"
   },
   {
    "duration": 241,
    "start_time": "2023-04-23T05:39:35.377Z"
   },
   {
    "duration": 12,
    "start_time": "2023-04-23T05:39:35.620Z"
   },
   {
    "duration": 21,
    "start_time": "2023-04-23T05:39:35.633Z"
   },
   {
    "duration": 16,
    "start_time": "2023-04-23T05:39:35.655Z"
   },
   {
    "duration": 16,
    "start_time": "2023-04-23T05:39:35.672Z"
   },
   {
    "duration": 31,
    "start_time": "2023-04-23T05:39:35.689Z"
   },
   {
    "duration": 26,
    "start_time": "2023-04-23T05:39:35.722Z"
   },
   {
    "duration": 13,
    "start_time": "2023-04-23T05:39:35.750Z"
   },
   {
    "duration": 14,
    "start_time": "2023-04-23T05:39:35.765Z"
   },
   {
    "duration": 13,
    "start_time": "2023-04-23T05:39:35.781Z"
   },
   {
    "duration": 8,
    "start_time": "2023-04-23T05:39:35.795Z"
   },
   {
    "duration": 9,
    "start_time": "2023-04-23T05:39:35.804Z"
   },
   {
    "duration": 511,
    "start_time": "2023-04-23T07:06:01.628Z"
   },
   {
    "duration": 1132,
    "start_time": "2023-04-23T07:06:02.142Z"
   },
   {
    "duration": 12,
    "start_time": "2023-04-23T07:06:03.275Z"
   },
   {
    "duration": 21,
    "start_time": "2023-04-23T07:06:03.289Z"
   },
   {
    "duration": 33,
    "start_time": "2023-04-23T07:06:03.312Z"
   },
   {
    "duration": 6,
    "start_time": "2023-04-23T07:06:03.347Z"
   },
   {
    "duration": 10,
    "start_time": "2023-04-23T07:06:03.355Z"
   },
   {
    "duration": 18,
    "start_time": "2023-04-23T07:06:03.367Z"
   },
   {
    "duration": 6,
    "start_time": "2023-04-23T07:06:03.386Z"
   },
   {
    "duration": 7,
    "start_time": "2023-04-23T07:06:03.394Z"
   },
   {
    "duration": 7,
    "start_time": "2023-04-23T07:06:03.403Z"
   },
   {
    "duration": 8,
    "start_time": "2023-04-23T07:06:03.412Z"
   },
   {
    "duration": 43,
    "start_time": "2023-04-23T07:06:03.422Z"
   },
   {
    "duration": 183,
    "start_time": "2023-04-23T07:06:03.490Z"
   },
   {
    "duration": 17,
    "start_time": "2023-04-23T07:06:03.675Z"
   },
   {
    "duration": 85,
    "start_time": "2023-04-23T07:06:03.693Z"
   },
   {
    "duration": 185,
    "start_time": "2023-04-23T07:06:03.780Z"
   },
   {
    "duration": 1849,
    "start_time": "2023-04-23T07:06:03.967Z"
   },
   {
    "duration": 19,
    "start_time": "2023-04-23T07:06:05.817Z"
   },
   {
    "duration": 385,
    "start_time": "2023-04-23T07:06:05.838Z"
   },
   {
    "duration": 3,
    "start_time": "2023-04-23T07:06:06.226Z"
   },
   {
    "duration": 276,
    "start_time": "2023-04-23T07:06:06.231Z"
   },
   {
    "duration": 344,
    "start_time": "2023-04-23T07:06:06.509Z"
   },
   {
    "duration": 422,
    "start_time": "2023-04-23T07:06:06.855Z"
   },
   {
    "duration": 293,
    "start_time": "2023-04-23T07:06:07.279Z"
   },
   {
    "duration": 26,
    "start_time": "2023-04-23T07:06:07.575Z"
   },
   {
    "duration": 19,
    "start_time": "2023-04-23T07:06:07.603Z"
   },
   {
    "duration": 45,
    "start_time": "2023-04-23T07:06:07.624Z"
   },
   {
    "duration": 15,
    "start_time": "2023-04-23T07:06:07.671Z"
   },
   {
    "duration": 38,
    "start_time": "2023-04-23T07:06:07.687Z"
   },
   {
    "duration": 15,
    "start_time": "2023-04-23T07:06:07.727Z"
   },
   {
    "duration": 21,
    "start_time": "2023-04-23T07:06:07.744Z"
   },
   {
    "duration": 32,
    "start_time": "2023-04-23T07:06:07.766Z"
   },
   {
    "duration": 16,
    "start_time": "2023-04-23T07:06:07.800Z"
   },
   {
    "duration": 490,
    "start_time": "2023-04-23T07:06:07.818Z"
   },
   {
    "duration": 10,
    "start_time": "2023-04-23T07:06:08.309Z"
   },
   {
    "duration": 119,
    "start_time": "2023-04-23T07:11:56.375Z"
   },
   {
    "duration": 5,
    "start_time": "2023-04-23T07:12:00.215Z"
   },
   {
    "duration": 107,
    "start_time": "2023-04-23T07:15:44.162Z"
   },
   {
    "duration": 15,
    "start_time": "2023-04-23T07:16:04.763Z"
   },
   {
    "duration": 370,
    "start_time": "2023-04-23T07:16:17.660Z"
   },
   {
    "duration": 493,
    "start_time": "2023-04-23T07:22:43.744Z"
   },
   {
    "duration": 1129,
    "start_time": "2023-04-23T07:22:44.240Z"
   },
   {
    "duration": 5,
    "start_time": "2023-04-23T07:22:45.370Z"
   },
   {
    "duration": 4,
    "start_time": "2023-04-23T07:22:45.387Z"
   },
   {
    "duration": 21,
    "start_time": "2023-04-23T07:22:45.393Z"
   },
   {
    "duration": 3,
    "start_time": "2023-04-23T07:22:45.416Z"
   },
   {
    "duration": 14,
    "start_time": "2023-04-23T07:22:45.421Z"
   },
   {
    "duration": 14,
    "start_time": "2023-04-23T07:22:45.436Z"
   },
   {
    "duration": 7,
    "start_time": "2023-04-23T07:22:45.451Z"
   },
   {
    "duration": 23,
    "start_time": "2023-04-23T07:22:45.460Z"
   },
   {
    "duration": 7,
    "start_time": "2023-04-23T07:22:45.488Z"
   },
   {
    "duration": 35,
    "start_time": "2023-04-23T07:22:45.497Z"
   },
   {
    "duration": 43,
    "start_time": "2023-04-23T07:22:45.534Z"
   },
   {
    "duration": 168,
    "start_time": "2023-04-23T07:22:45.579Z"
   },
   {
    "duration": 10,
    "start_time": "2023-04-23T07:22:45.749Z"
   },
   {
    "duration": 90,
    "start_time": "2023-04-23T07:22:45.761Z"
   },
   {
    "duration": 195,
    "start_time": "2023-04-23T07:22:45.853Z"
   },
   {
    "duration": 4,
    "start_time": "2023-04-23T07:22:46.050Z"
   },
   {
    "duration": 1818,
    "start_time": "2023-04-23T07:22:46.056Z"
   },
   {
    "duration": 25,
    "start_time": "2023-04-23T07:22:47.875Z"
   },
   {
    "duration": 342,
    "start_time": "2023-04-23T07:22:47.901Z"
   },
   {
    "duration": 3,
    "start_time": "2023-04-23T07:22:48.245Z"
   },
   {
    "duration": 324,
    "start_time": "2023-04-23T07:22:48.250Z"
   },
   {
    "duration": 875,
    "start_time": "2023-04-23T07:22:48.576Z"
   },
   {
    "duration": 307,
    "start_time": "2023-04-23T07:22:49.453Z"
   },
   {
    "duration": 313,
    "start_time": "2023-04-23T07:22:49.763Z"
   },
   {
    "duration": 287,
    "start_time": "2023-04-23T07:22:50.078Z"
   },
   {
    "duration": 30,
    "start_time": "2023-04-23T07:22:50.370Z"
   },
   {
    "duration": 40,
    "start_time": "2023-04-23T07:22:50.403Z"
   },
   {
    "duration": 23,
    "start_time": "2023-04-23T07:22:50.446Z"
   },
   {
    "duration": 31,
    "start_time": "2023-04-23T07:22:50.472Z"
   },
   {
    "duration": 40,
    "start_time": "2023-04-23T07:22:50.505Z"
   },
   {
    "duration": 18,
    "start_time": "2023-04-23T07:22:50.547Z"
   },
   {
    "duration": 33,
    "start_time": "2023-04-23T07:22:50.567Z"
   },
   {
    "duration": 141,
    "start_time": "2023-04-23T07:22:50.603Z"
   },
   {
    "duration": 19,
    "start_time": "2023-04-23T07:22:50.745Z"
   },
   {
    "duration": 27,
    "start_time": "2023-04-23T07:22:50.766Z"
   },
   {
    "duration": 23,
    "start_time": "2023-04-23T07:22:50.795Z"
   },
   {
    "duration": 75,
    "start_time": "2023-04-23T10:37:54.734Z"
   },
   {
    "duration": 392,
    "start_time": "2023-04-23T10:41:21.808Z"
   },
   {
    "duration": 442,
    "start_time": "2023-04-23T10:42:08.011Z"
   },
   {
    "duration": 83,
    "start_time": "2023-04-23T10:44:55.269Z"
   },
   {
    "duration": 3,
    "start_time": "2023-04-23T10:44:59.263Z"
   },
   {
    "duration": 107,
    "start_time": "2023-04-23T10:44:59.268Z"
   },
   {
    "duration": 1117,
    "start_time": "2023-04-23T10:44:59.376Z"
   },
   {
    "duration": 0,
    "start_time": "2023-04-23T10:45:00.495Z"
   },
   {
    "duration": 0,
    "start_time": "2023-04-23T10:45:00.497Z"
   },
   {
    "duration": 0,
    "start_time": "2023-04-23T10:45:00.497Z"
   },
   {
    "duration": 0,
    "start_time": "2023-04-23T10:45:00.499Z"
   },
   {
    "duration": 0,
    "start_time": "2023-04-23T10:45:00.500Z"
   },
   {
    "duration": 0,
    "start_time": "2023-04-23T10:45:00.501Z"
   },
   {
    "duration": 0,
    "start_time": "2023-04-23T10:45:00.502Z"
   },
   {
    "duration": 0,
    "start_time": "2023-04-23T10:45:00.503Z"
   },
   {
    "duration": 0,
    "start_time": "2023-04-23T10:45:00.505Z"
   },
   {
    "duration": 0,
    "start_time": "2023-04-23T10:45:00.506Z"
   },
   {
    "duration": 0,
    "start_time": "2023-04-23T10:45:00.507Z"
   },
   {
    "duration": 0,
    "start_time": "2023-04-23T10:45:00.534Z"
   },
   {
    "duration": 0,
    "start_time": "2023-04-23T10:45:00.535Z"
   },
   {
    "duration": 0,
    "start_time": "2023-04-23T10:45:00.536Z"
   },
   {
    "duration": 0,
    "start_time": "2023-04-23T10:45:00.538Z"
   },
   {
    "duration": 0,
    "start_time": "2023-04-23T10:45:00.539Z"
   },
   {
    "duration": 0,
    "start_time": "2023-04-23T10:45:00.540Z"
   },
   {
    "duration": 0,
    "start_time": "2023-04-23T10:45:00.540Z"
   },
   {
    "duration": 0,
    "start_time": "2023-04-23T10:45:00.541Z"
   },
   {
    "duration": 0,
    "start_time": "2023-04-23T10:45:00.542Z"
   },
   {
    "duration": 0,
    "start_time": "2023-04-23T10:45:00.543Z"
   },
   {
    "duration": 0,
    "start_time": "2023-04-23T10:45:00.545Z"
   },
   {
    "duration": 0,
    "start_time": "2023-04-23T10:45:00.545Z"
   },
   {
    "duration": 1,
    "start_time": "2023-04-23T10:45:00.546Z"
   },
   {
    "duration": 0,
    "start_time": "2023-04-23T10:45:00.547Z"
   },
   {
    "duration": 0,
    "start_time": "2023-04-23T10:45:00.548Z"
   },
   {
    "duration": 0,
    "start_time": "2023-04-23T10:45:00.549Z"
   },
   {
    "duration": 0,
    "start_time": "2023-04-23T10:45:00.551Z"
   },
   {
    "duration": 0,
    "start_time": "2023-04-23T10:45:00.551Z"
   },
   {
    "duration": 0,
    "start_time": "2023-04-23T10:45:00.553Z"
   },
   {
    "duration": 0,
    "start_time": "2023-04-23T10:45:00.554Z"
   },
   {
    "duration": 0,
    "start_time": "2023-04-23T10:45:00.556Z"
   },
   {
    "duration": 0,
    "start_time": "2023-04-23T10:45:00.557Z"
   },
   {
    "duration": 0,
    "start_time": "2023-04-23T10:45:00.558Z"
   },
   {
    "duration": 1,
    "start_time": "2023-04-23T10:45:00.559Z"
   },
   {
    "duration": 0,
    "start_time": "2023-04-23T10:45:00.561Z"
   },
   {
    "duration": 3,
    "start_time": "2023-04-23T10:46:01.337Z"
   },
   {
    "duration": 726,
    "start_time": "2023-04-23T10:46:04.737Z"
   },
   {
    "duration": 2,
    "start_time": "2023-04-23T10:50:37.231Z"
   },
   {
    "duration": 62,
    "start_time": "2023-04-23T10:50:37.235Z"
   },
   {
    "duration": 752,
    "start_time": "2023-04-23T10:50:37.299Z"
   },
   {
    "duration": 4,
    "start_time": "2023-04-23T10:50:38.053Z"
   },
   {
    "duration": 7,
    "start_time": "2023-04-23T10:50:38.059Z"
   },
   {
    "duration": 25,
    "start_time": "2023-04-23T10:50:38.067Z"
   },
   {
    "duration": 13,
    "start_time": "2023-04-23T10:50:38.093Z"
   },
   {
    "duration": 7,
    "start_time": "2023-04-23T10:50:38.107Z"
   },
   {
    "duration": 11,
    "start_time": "2023-04-23T10:50:38.115Z"
   },
   {
    "duration": 4,
    "start_time": "2023-04-23T10:50:38.135Z"
   },
   {
    "duration": 24,
    "start_time": "2023-04-23T10:50:38.141Z"
   },
   {
    "duration": 9,
    "start_time": "2023-04-23T10:50:38.166Z"
   },
   {
    "duration": 8,
    "start_time": "2023-04-23T10:50:38.176Z"
   },
   {
    "duration": 35,
    "start_time": "2023-04-23T10:50:38.185Z"
   },
   {
    "duration": 142,
    "start_time": "2023-04-23T10:50:38.221Z"
   },
   {
    "duration": 8,
    "start_time": "2023-04-23T10:50:38.365Z"
   },
   {
    "duration": 20,
    "start_time": "2023-04-23T10:50:38.374Z"
   },
   {
    "duration": 152,
    "start_time": "2023-04-23T10:50:38.395Z"
   },
   {
    "duration": 4,
    "start_time": "2023-04-23T10:50:38.548Z"
   },
   {
    "duration": 1468,
    "start_time": "2023-04-23T10:50:38.553Z"
   },
   {
    "duration": 23,
    "start_time": "2023-04-23T10:50:40.022Z"
   },
   {
    "duration": 384,
    "start_time": "2023-04-23T10:50:40.047Z"
   },
   {
    "duration": 2,
    "start_time": "2023-04-23T10:50:40.433Z"
   },
   {
    "duration": 207,
    "start_time": "2023-04-23T10:50:40.437Z"
   },
   {
    "duration": 309,
    "start_time": "2023-04-23T10:50:40.645Z"
   },
   {
    "duration": 261,
    "start_time": "2023-04-23T10:50:40.956Z"
   },
   {
    "duration": 265,
    "start_time": "2023-04-23T10:50:41.218Z"
   },
   {
    "duration": 230,
    "start_time": "2023-04-23T10:50:41.485Z"
   },
   {
    "duration": 18,
    "start_time": "2023-04-23T10:50:41.717Z"
   },
   {
    "duration": 15,
    "start_time": "2023-04-23T10:50:41.737Z"
   },
   {
    "duration": 14,
    "start_time": "2023-04-23T10:50:41.754Z"
   },
   {
    "duration": 21,
    "start_time": "2023-04-23T10:50:41.770Z"
   },
   {
    "duration": 24,
    "start_time": "2023-04-23T10:50:41.793Z"
   },
   {
    "duration": 12,
    "start_time": "2023-04-23T10:50:41.835Z"
   },
   {
    "duration": 12,
    "start_time": "2023-04-23T10:50:41.849Z"
   },
   {
    "duration": 13,
    "start_time": "2023-04-23T10:50:41.863Z"
   },
   {
    "duration": 13,
    "start_time": "2023-04-23T10:50:41.877Z"
   },
   {
    "duration": 7,
    "start_time": "2023-04-23T10:50:41.892Z"
   },
   {
    "duration": 37,
    "start_time": "2023-04-23T10:50:41.901Z"
   },
   {
    "duration": 6,
    "start_time": "2023-04-23T10:55:38.667Z"
   },
   {
    "duration": 21,
    "start_time": "2023-04-23T10:55:59.764Z"
   },
   {
    "duration": 3,
    "start_time": "2023-04-23T10:56:13.448Z"
   },
   {
    "duration": 63,
    "start_time": "2023-04-23T10:56:13.453Z"
   },
   {
    "duration": 807,
    "start_time": "2023-04-23T10:56:13.517Z"
   },
   {
    "duration": 9,
    "start_time": "2023-04-23T10:56:14.326Z"
   },
   {
    "duration": 8,
    "start_time": "2023-04-23T10:56:14.337Z"
   },
   {
    "duration": 16,
    "start_time": "2023-04-23T10:56:14.346Z"
   },
   {
    "duration": 5,
    "start_time": "2023-04-23T10:56:14.364Z"
   },
   {
    "duration": 18,
    "start_time": "2023-04-23T10:56:14.370Z"
   },
   {
    "duration": 14,
    "start_time": "2023-04-23T10:56:14.390Z"
   },
   {
    "duration": 32,
    "start_time": "2023-04-23T10:56:14.407Z"
   },
   {
    "duration": 14,
    "start_time": "2023-04-23T10:56:14.440Z"
   },
   {
    "duration": 21,
    "start_time": "2023-04-23T10:56:14.456Z"
   },
   {
    "duration": 0,
    "start_time": "2023-04-23T10:56:14.479Z"
   },
   {
    "duration": 0,
    "start_time": "2023-04-23T10:56:14.480Z"
   },
   {
    "duration": 0,
    "start_time": "2023-04-23T10:56:14.481Z"
   },
   {
    "duration": 0,
    "start_time": "2023-04-23T10:56:14.482Z"
   },
   {
    "duration": 0,
    "start_time": "2023-04-23T10:56:14.483Z"
   },
   {
    "duration": 0,
    "start_time": "2023-04-23T10:56:14.484Z"
   },
   {
    "duration": 0,
    "start_time": "2023-04-23T10:56:14.485Z"
   },
   {
    "duration": 0,
    "start_time": "2023-04-23T10:56:14.486Z"
   },
   {
    "duration": 0,
    "start_time": "2023-04-23T10:56:14.488Z"
   },
   {
    "duration": 0,
    "start_time": "2023-04-23T10:56:14.489Z"
   },
   {
    "duration": 0,
    "start_time": "2023-04-23T10:56:14.490Z"
   },
   {
    "duration": 0,
    "start_time": "2023-04-23T10:56:14.491Z"
   },
   {
    "duration": 0,
    "start_time": "2023-04-23T10:56:14.492Z"
   },
   {
    "duration": 0,
    "start_time": "2023-04-23T10:56:14.493Z"
   },
   {
    "duration": 0,
    "start_time": "2023-04-23T10:56:14.494Z"
   },
   {
    "duration": 0,
    "start_time": "2023-04-23T10:56:14.495Z"
   },
   {
    "duration": 0,
    "start_time": "2023-04-23T10:56:14.496Z"
   },
   {
    "duration": 0,
    "start_time": "2023-04-23T10:56:14.497Z"
   },
   {
    "duration": 0,
    "start_time": "2023-04-23T10:56:14.498Z"
   },
   {
    "duration": 0,
    "start_time": "2023-04-23T10:56:14.500Z"
   },
   {
    "duration": 0,
    "start_time": "2023-04-23T10:56:14.501Z"
   },
   {
    "duration": 0,
    "start_time": "2023-04-23T10:56:14.502Z"
   },
   {
    "duration": 0,
    "start_time": "2023-04-23T10:56:14.535Z"
   },
   {
    "duration": 0,
    "start_time": "2023-04-23T10:56:14.537Z"
   },
   {
    "duration": 0,
    "start_time": "2023-04-23T10:56:14.537Z"
   },
   {
    "duration": 0,
    "start_time": "2023-04-23T10:56:14.538Z"
   },
   {
    "duration": 0,
    "start_time": "2023-04-23T10:56:14.540Z"
   },
   {
    "duration": 5,
    "start_time": "2023-04-23T10:57:00.570Z"
   },
   {
    "duration": 9,
    "start_time": "2023-04-23T10:58:42.910Z"
   },
   {
    "duration": 6,
    "start_time": "2023-04-23T10:59:04.033Z"
   },
   {
    "duration": 6,
    "start_time": "2023-04-23T10:59:10.552Z"
   },
   {
    "duration": 9,
    "start_time": "2023-04-23T10:59:43.714Z"
   },
   {
    "duration": 9,
    "start_time": "2023-04-23T10:59:57.049Z"
   },
   {
    "duration": 3,
    "start_time": "2023-04-23T10:59:59.280Z"
   },
   {
    "duration": 62,
    "start_time": "2023-04-23T10:59:59.285Z"
   },
   {
    "duration": 657,
    "start_time": "2023-04-23T10:59:59.348Z"
   },
   {
    "duration": 4,
    "start_time": "2023-04-23T11:00:00.006Z"
   },
   {
    "duration": 35,
    "start_time": "2023-04-23T11:00:00.011Z"
   },
   {
    "duration": 31,
    "start_time": "2023-04-23T11:00:00.047Z"
   },
   {
    "duration": 56,
    "start_time": "2023-04-23T11:00:00.079Z"
   },
   {
    "duration": 32,
    "start_time": "2023-04-23T11:00:00.137Z"
   },
   {
    "duration": 34,
    "start_time": "2023-04-23T11:00:00.170Z"
   },
   {
    "duration": 19,
    "start_time": "2023-04-23T11:00:00.206Z"
   },
   {
    "duration": 38,
    "start_time": "2023-04-23T11:00:00.227Z"
   },
   {
    "duration": 38,
    "start_time": "2023-04-23T11:00:00.266Z"
   },
   {
    "duration": 28,
    "start_time": "2023-04-23T11:00:00.305Z"
   },
   {
    "duration": 63,
    "start_time": "2023-04-23T11:00:00.336Z"
   },
   {
    "duration": 166,
    "start_time": "2023-04-23T11:00:00.401Z"
   },
   {
    "duration": 8,
    "start_time": "2023-04-23T11:00:00.569Z"
   },
   {
    "duration": 54,
    "start_time": "2023-04-23T11:00:00.579Z"
   },
   {
    "duration": 181,
    "start_time": "2023-04-23T11:00:00.635Z"
   },
   {
    "duration": 4,
    "start_time": "2023-04-23T11:00:00.817Z"
   },
   {
    "duration": 1709,
    "start_time": "2023-04-23T11:00:00.834Z"
   },
   {
    "duration": 14,
    "start_time": "2023-04-23T11:00:02.545Z"
   },
   {
    "duration": 289,
    "start_time": "2023-04-23T11:00:02.561Z"
   },
   {
    "duration": 10,
    "start_time": "2023-04-23T11:00:02.852Z"
   },
   {
    "duration": 245,
    "start_time": "2023-04-23T11:00:02.864Z"
   },
   {
    "duration": 288,
    "start_time": "2023-04-23T11:00:03.110Z"
   },
   {
    "duration": 262,
    "start_time": "2023-04-23T11:00:03.400Z"
   },
   {
    "duration": 265,
    "start_time": "2023-04-23T11:00:03.664Z"
   },
   {
    "duration": 236,
    "start_time": "2023-04-23T11:00:03.930Z"
   },
   {
    "duration": 13,
    "start_time": "2023-04-23T11:00:04.167Z"
   },
   {
    "duration": 57,
    "start_time": "2023-04-23T11:00:04.181Z"
   },
   {
    "duration": 61,
    "start_time": "2023-04-23T11:00:04.239Z"
   },
   {
    "duration": 78,
    "start_time": "2023-04-23T11:00:04.301Z"
   },
   {
    "duration": 59,
    "start_time": "2023-04-23T11:00:04.381Z"
   },
   {
    "duration": 41,
    "start_time": "2023-04-23T11:00:04.441Z"
   },
   {
    "duration": 59,
    "start_time": "2023-04-23T11:00:04.483Z"
   },
   {
    "duration": 191,
    "start_time": "2023-04-23T11:00:04.544Z"
   },
   {
    "duration": 39,
    "start_time": "2023-04-23T11:00:04.737Z"
   },
   {
    "duration": 23,
    "start_time": "2023-04-23T11:00:04.777Z"
   },
   {
    "duration": 20,
    "start_time": "2023-04-23T11:00:04.802Z"
   },
   {
    "duration": 32,
    "start_time": "2023-04-23T11:00:25.273Z"
   },
   {
    "duration": 15,
    "start_time": "2023-04-23T11:06:07.218Z"
   },
   {
    "duration": 211,
    "start_time": "2023-04-23T11:06:18.082Z"
   },
   {
    "duration": 212,
    "start_time": "2023-04-23T11:06:34.324Z"
   },
   {
    "duration": 2,
    "start_time": "2023-04-23T11:07:19.363Z"
   },
   {
    "duration": 58,
    "start_time": "2023-04-23T11:07:19.367Z"
   },
   {
    "duration": 661,
    "start_time": "2023-04-23T11:07:19.427Z"
   },
   {
    "duration": 4,
    "start_time": "2023-04-23T11:07:20.089Z"
   },
   {
    "duration": 12,
    "start_time": "2023-04-23T11:07:20.095Z"
   },
   {
    "duration": 19,
    "start_time": "2023-04-23T11:07:20.108Z"
   },
   {
    "duration": 3,
    "start_time": "2023-04-23T11:07:20.128Z"
   },
   {
    "duration": 7,
    "start_time": "2023-04-23T11:07:20.134Z"
   },
   {
    "duration": 12,
    "start_time": "2023-04-23T11:07:20.143Z"
   },
   {
    "duration": 15,
    "start_time": "2023-04-23T11:07:20.156Z"
   },
   {
    "duration": 4,
    "start_time": "2023-04-23T11:07:20.172Z"
   },
   {
    "duration": 28,
    "start_time": "2023-04-23T11:07:20.178Z"
   },
   {
    "duration": 13,
    "start_time": "2023-04-23T11:07:20.207Z"
   },
   {
    "duration": 51,
    "start_time": "2023-04-23T11:07:20.223Z"
   },
   {
    "duration": 280,
    "start_time": "2023-04-23T11:07:20.276Z"
   },
   {
    "duration": 8,
    "start_time": "2023-04-23T11:07:20.557Z"
   },
   {
    "duration": 14,
    "start_time": "2023-04-23T11:07:20.566Z"
   },
   {
    "duration": 169,
    "start_time": "2023-04-23T11:07:20.582Z"
   },
   {
    "duration": 4,
    "start_time": "2023-04-23T11:07:20.753Z"
   },
   {
    "duration": 1630,
    "start_time": "2023-04-23T11:07:20.758Z"
   },
   {
    "duration": 15,
    "start_time": "2023-04-23T11:07:22.390Z"
   },
   {
    "duration": 293,
    "start_time": "2023-04-23T11:07:22.407Z"
   },
   {
    "duration": 4,
    "start_time": "2023-04-23T11:07:22.702Z"
   },
   {
    "duration": 220,
    "start_time": "2023-04-23T11:07:22.707Z"
   },
   {
    "duration": 269,
    "start_time": "2023-04-23T11:07:22.934Z"
   },
   {
    "duration": 282,
    "start_time": "2023-04-23T11:07:23.204Z"
   },
   {
    "duration": 287,
    "start_time": "2023-04-23T11:07:23.488Z"
   },
   {
    "duration": 359,
    "start_time": "2023-04-23T11:07:23.777Z"
   },
   {
    "duration": 13,
    "start_time": "2023-04-23T11:07:24.139Z"
   },
   {
    "duration": 16,
    "start_time": "2023-04-23T11:07:24.153Z"
   },
   {
    "duration": 15,
    "start_time": "2023-04-23T11:07:24.171Z"
   },
   {
    "duration": 17,
    "start_time": "2023-04-23T11:07:24.188Z"
   },
   {
    "duration": 44,
    "start_time": "2023-04-23T11:07:24.206Z"
   },
   {
    "duration": 12,
    "start_time": "2023-04-23T11:07:24.251Z"
   },
   {
    "duration": 19,
    "start_time": "2023-04-23T11:07:24.265Z"
   },
   {
    "duration": 12,
    "start_time": "2023-04-23T11:07:24.285Z"
   },
   {
    "duration": 13,
    "start_time": "2023-04-23T11:07:24.299Z"
   },
   {
    "duration": 9,
    "start_time": "2023-04-23T11:07:24.334Z"
   },
   {
    "duration": 17,
    "start_time": "2023-04-23T11:07:24.344Z"
   },
   {
    "duration": 74,
    "start_time": "2023-04-23T11:09:46.353Z"
   },
   {
    "duration": 17,
    "start_time": "2023-04-23T11:14:15.549Z"
   },
   {
    "duration": 3,
    "start_time": "2023-04-23T11:14:40.753Z"
   },
   {
    "duration": 64,
    "start_time": "2023-04-23T11:14:40.758Z"
   },
   {
    "duration": 663,
    "start_time": "2023-04-23T11:14:40.824Z"
   },
   {
    "duration": 4,
    "start_time": "2023-04-23T11:14:41.488Z"
   },
   {
    "duration": 5,
    "start_time": "2023-04-23T11:14:41.493Z"
   },
   {
    "duration": 15,
    "start_time": "2023-04-23T11:14:41.500Z"
   },
   {
    "duration": 3,
    "start_time": "2023-04-23T11:14:41.516Z"
   },
   {
    "duration": 3,
    "start_time": "2023-04-23T11:14:41.534Z"
   },
   {
    "duration": 10,
    "start_time": "2023-04-23T11:14:41.538Z"
   },
   {
    "duration": 6,
    "start_time": "2023-04-23T11:14:41.549Z"
   },
   {
    "duration": 5,
    "start_time": "2023-04-23T11:14:41.556Z"
   },
   {
    "duration": 11,
    "start_time": "2023-04-23T11:14:41.562Z"
   },
   {
    "duration": 4,
    "start_time": "2023-04-23T11:14:41.574Z"
   },
   {
    "duration": 56,
    "start_time": "2023-04-23T11:14:41.580Z"
   },
   {
    "duration": 288,
    "start_time": "2023-04-23T11:14:41.638Z"
   },
   {
    "duration": 11,
    "start_time": "2023-04-23T11:14:41.927Z"
   },
   {
    "duration": 13,
    "start_time": "2023-04-23T11:14:41.939Z"
   },
   {
    "duration": 150,
    "start_time": "2023-04-23T11:14:41.953Z"
   },
   {
    "duration": 3,
    "start_time": "2023-04-23T11:14:42.105Z"
   },
   {
    "duration": 1609,
    "start_time": "2023-04-23T11:14:42.110Z"
   },
   {
    "duration": 23,
    "start_time": "2023-04-23T11:14:43.721Z"
   },
   {
    "duration": 268,
    "start_time": "2023-04-23T11:14:43.746Z"
   },
   {
    "duration": 2,
    "start_time": "2023-04-23T11:14:44.016Z"
   },
   {
    "duration": 16,
    "start_time": "2023-04-23T11:14:44.019Z"
   },
   {
    "duration": 0,
    "start_time": "2023-04-23T11:14:44.037Z"
   },
   {
    "duration": 0,
    "start_time": "2023-04-23T11:14:44.038Z"
   },
   {
    "duration": 0,
    "start_time": "2023-04-23T11:14:44.039Z"
   },
   {
    "duration": 0,
    "start_time": "2023-04-23T11:14:44.040Z"
   },
   {
    "duration": 0,
    "start_time": "2023-04-23T11:14:44.041Z"
   },
   {
    "duration": 0,
    "start_time": "2023-04-23T11:14:44.042Z"
   },
   {
    "duration": 0,
    "start_time": "2023-04-23T11:14:44.043Z"
   },
   {
    "duration": 0,
    "start_time": "2023-04-23T11:14:44.044Z"
   },
   {
    "duration": 0,
    "start_time": "2023-04-23T11:14:44.044Z"
   },
   {
    "duration": 0,
    "start_time": "2023-04-23T11:14:44.045Z"
   },
   {
    "duration": 0,
    "start_time": "2023-04-23T11:14:44.046Z"
   },
   {
    "duration": 0,
    "start_time": "2023-04-23T11:14:44.048Z"
   },
   {
    "duration": 0,
    "start_time": "2023-04-23T11:14:44.048Z"
   },
   {
    "duration": 0,
    "start_time": "2023-04-23T11:14:44.049Z"
   },
   {
    "duration": 0,
    "start_time": "2023-04-23T11:14:44.050Z"
   },
   {
    "duration": 3,
    "start_time": "2023-04-23T11:14:56.769Z"
   },
   {
    "duration": 72,
    "start_time": "2023-04-23T11:14:56.773Z"
   },
   {
    "duration": 669,
    "start_time": "2023-04-23T11:14:56.846Z"
   },
   {
    "duration": 4,
    "start_time": "2023-04-23T11:14:57.517Z"
   },
   {
    "duration": 3,
    "start_time": "2023-04-23T11:14:57.535Z"
   },
   {
    "duration": 22,
    "start_time": "2023-04-23T11:14:57.539Z"
   },
   {
    "duration": 8,
    "start_time": "2023-04-23T11:14:57.563Z"
   },
   {
    "duration": 6,
    "start_time": "2023-04-23T11:14:57.572Z"
   },
   {
    "duration": 13,
    "start_time": "2023-04-23T11:14:57.580Z"
   },
   {
    "duration": 6,
    "start_time": "2023-04-23T11:14:57.594Z"
   },
   {
    "duration": 6,
    "start_time": "2023-04-23T11:14:57.601Z"
   },
   {
    "duration": 26,
    "start_time": "2023-04-23T11:14:57.608Z"
   },
   {
    "duration": 4,
    "start_time": "2023-04-23T11:14:57.636Z"
   },
   {
    "duration": 37,
    "start_time": "2023-04-23T11:14:57.641Z"
   },
   {
    "duration": 287,
    "start_time": "2023-04-23T11:14:57.679Z"
   },
   {
    "duration": 9,
    "start_time": "2023-04-23T11:14:57.968Z"
   },
   {
    "duration": 16,
    "start_time": "2023-04-23T11:14:57.978Z"
   },
   {
    "duration": 165,
    "start_time": "2023-04-23T11:14:57.995Z"
   },
   {
    "duration": 4,
    "start_time": "2023-04-23T11:14:58.162Z"
   },
   {
    "duration": 1587,
    "start_time": "2023-04-23T11:14:58.168Z"
   },
   {
    "duration": 16,
    "start_time": "2023-04-23T11:14:59.756Z"
   },
   {
    "duration": 282,
    "start_time": "2023-04-23T11:14:59.773Z"
   },
   {
    "duration": 3,
    "start_time": "2023-04-23T11:15:00.056Z"
   },
   {
    "duration": 226,
    "start_time": "2023-04-23T11:15:00.062Z"
   },
   {
    "duration": 287,
    "start_time": "2023-04-23T11:15:00.290Z"
   },
   {
    "duration": 418,
    "start_time": "2023-04-23T11:15:00.579Z"
   },
   {
    "duration": 293,
    "start_time": "2023-04-23T11:15:00.999Z"
   },
   {
    "duration": 247,
    "start_time": "2023-04-23T11:15:01.294Z"
   },
   {
    "duration": 13,
    "start_time": "2023-04-23T11:15:01.542Z"
   },
   {
    "duration": 43,
    "start_time": "2023-04-23T11:15:01.556Z"
   },
   {
    "duration": 41,
    "start_time": "2023-04-23T11:15:01.600Z"
   },
   {
    "duration": 40,
    "start_time": "2023-04-23T11:15:01.643Z"
   },
   {
    "duration": 38,
    "start_time": "2023-04-23T11:15:01.685Z"
   },
   {
    "duration": 47,
    "start_time": "2023-04-23T11:15:01.724Z"
   },
   {
    "duration": 28,
    "start_time": "2023-04-23T11:15:01.773Z"
   },
   {
    "duration": 27,
    "start_time": "2023-04-23T11:15:01.802Z"
   },
   {
    "duration": 21,
    "start_time": "2023-04-23T11:15:01.831Z"
   },
   {
    "duration": 40,
    "start_time": "2023-04-23T11:15:01.853Z"
   },
   {
    "duration": 55,
    "start_time": "2023-04-23T11:15:01.895Z"
   },
   {
    "duration": 145,
    "start_time": "2023-04-23T12:47:29.528Z"
   },
   {
    "duration": 16,
    "start_time": "2023-04-23T12:48:39.828Z"
   },
   {
    "duration": 135,
    "start_time": "2023-04-23T12:48:54.731Z"
   },
   {
    "duration": 38,
    "start_time": "2023-04-23T12:51:36.077Z"
   },
   {
    "duration": 783,
    "start_time": "2023-04-23T12:52:29.733Z"
   },
   {
    "duration": 878,
    "start_time": "2023-04-23T12:52:42.905Z"
   },
   {
    "duration": 4,
    "start_time": "2023-04-23T12:52:54.843Z"
   },
   {
    "duration": 83,
    "start_time": "2023-04-23T12:52:54.848Z"
   },
   {
    "duration": 884,
    "start_time": "2023-04-23T12:52:54.934Z"
   },
   {
    "duration": 5,
    "start_time": "2023-04-23T12:52:55.820Z"
   },
   {
    "duration": 3,
    "start_time": "2023-04-23T12:52:55.834Z"
   },
   {
    "duration": 23,
    "start_time": "2023-04-23T12:52:55.838Z"
   },
   {
    "duration": 3,
    "start_time": "2023-04-23T12:52:55.863Z"
   },
   {
    "duration": 5,
    "start_time": "2023-04-23T12:52:55.867Z"
   },
   {
    "duration": 16,
    "start_time": "2023-04-23T12:52:55.873Z"
   },
   {
    "duration": 5,
    "start_time": "2023-04-23T12:52:55.891Z"
   },
   {
    "duration": 5,
    "start_time": "2023-04-23T12:52:55.897Z"
   },
   {
    "duration": 31,
    "start_time": "2023-04-23T12:52:55.903Z"
   },
   {
    "duration": 5,
    "start_time": "2023-04-23T12:52:55.936Z"
   },
   {
    "duration": 41,
    "start_time": "2023-04-23T12:52:55.944Z"
   },
   {
    "duration": 311,
    "start_time": "2023-04-23T12:52:55.986Z"
   },
   {
    "duration": 8,
    "start_time": "2023-04-23T12:52:56.299Z"
   },
   {
    "duration": 28,
    "start_time": "2023-04-23T12:52:56.309Z"
   },
   {
    "duration": 169,
    "start_time": "2023-04-23T12:52:56.339Z"
   },
   {
    "duration": 4,
    "start_time": "2023-04-23T12:52:56.510Z"
   },
   {
    "duration": 1628,
    "start_time": "2023-04-23T12:52:56.516Z"
   },
   {
    "duration": 17,
    "start_time": "2023-04-23T12:52:58.146Z"
   },
   {
    "duration": 311,
    "start_time": "2023-04-23T12:52:58.164Z"
   },
   {
    "duration": 5,
    "start_time": "2023-04-23T12:52:58.476Z"
   },
   {
    "duration": 214,
    "start_time": "2023-04-23T12:52:58.483Z"
   },
   {
    "duration": 277,
    "start_time": "2023-04-23T12:52:58.699Z"
   },
   {
    "duration": 791,
    "start_time": "2023-04-23T12:52:58.977Z"
   },
   {
    "duration": 14,
    "start_time": "2023-04-23T12:52:59.770Z"
   },
   {
    "duration": 22,
    "start_time": "2023-04-23T12:52:59.786Z"
   },
   {
    "duration": 28,
    "start_time": "2023-04-23T12:52:59.810Z"
   },
   {
    "duration": 21,
    "start_time": "2023-04-23T12:52:59.839Z"
   },
   {
    "duration": 21,
    "start_time": "2023-04-23T12:52:59.862Z"
   },
   {
    "duration": 14,
    "start_time": "2023-04-23T12:52:59.885Z"
   },
   {
    "duration": 17,
    "start_time": "2023-04-23T12:52:59.901Z"
   },
   {
    "duration": 12,
    "start_time": "2023-04-23T12:52:59.934Z"
   },
   {
    "duration": 19,
    "start_time": "2023-04-23T12:52:59.948Z"
   },
   {
    "duration": 8,
    "start_time": "2023-04-23T12:52:59.968Z"
   },
   {
    "duration": 9,
    "start_time": "2023-04-23T12:52:59.978Z"
   },
   {
    "duration": 795,
    "start_time": "2023-04-23T12:53:22.509Z"
   },
   {
    "duration": 15,
    "start_time": "2023-04-23T12:55:16.021Z"
   },
   {
    "duration": 14,
    "start_time": "2023-04-23T12:55:33.811Z"
   },
   {
    "duration": 11,
    "start_time": "2023-04-23T13:06:39.754Z"
   },
   {
    "duration": 15,
    "start_time": "2023-04-23T13:07:00.045Z"
   },
   {
    "duration": 3,
    "start_time": "2023-04-23T13:07:07.834Z"
   },
   {
    "duration": 19,
    "start_time": "2023-04-23T13:07:25.764Z"
   },
   {
    "duration": 21,
    "start_time": "2023-04-23T13:08:00.737Z"
   },
   {
    "duration": 155,
    "start_time": "2023-04-23T13:08:09.312Z"
   },
   {
    "duration": 3,
    "start_time": "2023-04-23T13:14:36.492Z"
   },
   {
    "duration": 75,
    "start_time": "2023-04-23T13:14:36.497Z"
   },
   {
    "duration": 897,
    "start_time": "2023-04-23T13:14:36.573Z"
   },
   {
    "duration": 4,
    "start_time": "2023-04-23T13:14:37.473Z"
   },
   {
    "duration": 6,
    "start_time": "2023-04-23T13:14:37.478Z"
   },
   {
    "duration": 18,
    "start_time": "2023-04-23T13:14:37.486Z"
   },
   {
    "duration": 4,
    "start_time": "2023-04-23T13:14:37.506Z"
   },
   {
    "duration": 3,
    "start_time": "2023-04-23T13:14:37.535Z"
   },
   {
    "duration": 25,
    "start_time": "2023-04-23T13:14:37.539Z"
   },
   {
    "duration": 8,
    "start_time": "2023-04-23T13:14:37.566Z"
   },
   {
    "duration": 7,
    "start_time": "2023-04-23T13:14:37.575Z"
   },
   {
    "duration": 24,
    "start_time": "2023-04-23T13:14:37.583Z"
   },
   {
    "duration": 16,
    "start_time": "2023-04-23T13:14:37.609Z"
   },
   {
    "duration": 35,
    "start_time": "2023-04-23T13:14:37.626Z"
   },
   {
    "duration": 296,
    "start_time": "2023-04-23T13:14:37.663Z"
   },
   {
    "duration": 7,
    "start_time": "2023-04-23T13:14:37.961Z"
   },
   {
    "duration": 16,
    "start_time": "2023-04-23T13:14:37.969Z"
   },
   {
    "duration": 152,
    "start_time": "2023-04-23T13:14:37.987Z"
   },
   {
    "duration": 4,
    "start_time": "2023-04-23T13:14:38.141Z"
   },
   {
    "duration": 1473,
    "start_time": "2023-04-23T13:14:38.147Z"
   },
   {
    "duration": 24,
    "start_time": "2023-04-23T13:14:39.622Z"
   },
   {
    "duration": 414,
    "start_time": "2023-04-23T13:14:39.647Z"
   },
   {
    "duration": 2,
    "start_time": "2023-04-23T13:14:40.063Z"
   },
   {
    "duration": 227,
    "start_time": "2023-04-23T13:14:40.067Z"
   },
   {
    "duration": 279,
    "start_time": "2023-04-23T13:14:40.296Z"
   },
   {
    "duration": 778,
    "start_time": "2023-04-23T13:14:40.577Z"
   },
   {
    "duration": 12,
    "start_time": "2023-04-23T13:14:41.356Z"
   },
   {
    "duration": 29,
    "start_time": "2023-04-23T13:14:41.371Z"
   },
   {
    "duration": 24,
    "start_time": "2023-04-23T13:14:41.402Z"
   },
   {
    "duration": 16,
    "start_time": "2023-04-23T13:14:41.427Z"
   },
   {
    "duration": 27,
    "start_time": "2023-04-23T13:14:41.445Z"
   },
   {
    "duration": 173,
    "start_time": "2023-04-23T13:14:41.474Z"
   },
   {
    "duration": 12,
    "start_time": "2023-04-23T13:14:41.649Z"
   },
   {
    "duration": 19,
    "start_time": "2023-04-23T13:14:41.663Z"
   },
   {
    "duration": 19,
    "start_time": "2023-04-23T13:14:41.683Z"
   },
   {
    "duration": 38,
    "start_time": "2023-04-23T13:14:41.703Z"
   },
   {
    "duration": 8,
    "start_time": "2023-04-23T13:14:41.743Z"
   },
   {
    "duration": 20,
    "start_time": "2023-04-23T13:14:41.752Z"
   },
   {
    "duration": 90,
    "start_time": "2023-04-23T13:25:37.654Z"
   },
   {
    "duration": 81,
    "start_time": "2023-04-23T13:25:48.598Z"
   },
   {
    "duration": 17,
    "start_time": "2023-04-23T13:25:56.628Z"
   },
   {
    "duration": 931,
    "start_time": "2023-04-23T13:26:13.400Z"
   },
   {
    "duration": 1022,
    "start_time": "2023-04-23T13:26:46.423Z"
   },
   {
    "duration": 14,
    "start_time": "2023-04-23T13:27:47.748Z"
   },
   {
    "duration": 15,
    "start_time": "2023-04-23T13:27:49.610Z"
   },
   {
    "duration": 12,
    "start_time": "2023-04-23T13:27:51.093Z"
   },
   {
    "duration": 13,
    "start_time": "2023-04-23T13:27:52.844Z"
   },
   {
    "duration": 1015,
    "start_time": "2023-04-23T13:28:31.165Z"
   },
   {
    "duration": 91,
    "start_time": "2023-04-23T13:29:41.594Z"
   },
   {
    "duration": 3,
    "start_time": "2023-04-23T13:38:16.440Z"
   },
   {
    "duration": 78,
    "start_time": "2023-04-23T13:38:16.445Z"
   },
   {
    "duration": 733,
    "start_time": "2023-04-23T13:38:16.525Z"
   },
   {
    "duration": 4,
    "start_time": "2023-04-23T13:38:17.260Z"
   },
   {
    "duration": 27,
    "start_time": "2023-04-23T13:38:17.267Z"
   },
   {
    "duration": 56,
    "start_time": "2023-04-23T13:38:17.296Z"
   },
   {
    "duration": 30,
    "start_time": "2023-04-23T13:38:17.354Z"
   },
   {
    "duration": 36,
    "start_time": "2023-04-23T13:38:17.386Z"
   },
   {
    "duration": 35,
    "start_time": "2023-04-23T13:38:17.424Z"
   },
   {
    "duration": 28,
    "start_time": "2023-04-23T13:38:17.460Z"
   },
   {
    "duration": 1508,
    "start_time": "2023-04-23T13:38:17.491Z"
   },
   {
    "duration": 0,
    "start_time": "2023-04-23T13:38:19.001Z"
   },
   {
    "duration": 0,
    "start_time": "2023-04-23T13:38:19.003Z"
   },
   {
    "duration": 0,
    "start_time": "2023-04-23T13:38:19.005Z"
   },
   {
    "duration": 0,
    "start_time": "2023-04-23T13:38:19.006Z"
   },
   {
    "duration": 0,
    "start_time": "2023-04-23T13:38:19.008Z"
   },
   {
    "duration": 1,
    "start_time": "2023-04-23T13:38:19.008Z"
   },
   {
    "duration": 0,
    "start_time": "2023-04-23T13:38:19.010Z"
   },
   {
    "duration": 0,
    "start_time": "2023-04-23T13:38:19.011Z"
   },
   {
    "duration": 0,
    "start_time": "2023-04-23T13:38:19.012Z"
   },
   {
    "duration": 0,
    "start_time": "2023-04-23T13:38:19.013Z"
   },
   {
    "duration": 0,
    "start_time": "2023-04-23T13:38:19.014Z"
   },
   {
    "duration": 0,
    "start_time": "2023-04-23T13:38:19.015Z"
   },
   {
    "duration": 0,
    "start_time": "2023-04-23T13:38:19.015Z"
   },
   {
    "duration": 0,
    "start_time": "2023-04-23T13:38:19.017Z"
   },
   {
    "duration": 0,
    "start_time": "2023-04-23T13:38:19.018Z"
   },
   {
    "duration": 0,
    "start_time": "2023-04-23T13:38:19.019Z"
   },
   {
    "duration": 0,
    "start_time": "2023-04-23T13:38:19.020Z"
   },
   {
    "duration": 0,
    "start_time": "2023-04-23T13:38:19.020Z"
   },
   {
    "duration": 0,
    "start_time": "2023-04-23T13:38:19.021Z"
   },
   {
    "duration": 0,
    "start_time": "2023-04-23T13:38:19.022Z"
   },
   {
    "duration": 0,
    "start_time": "2023-04-23T13:38:19.023Z"
   },
   {
    "duration": 0,
    "start_time": "2023-04-23T13:38:19.024Z"
   },
   {
    "duration": 0,
    "start_time": "2023-04-23T13:38:19.026Z"
   },
   {
    "duration": 0,
    "start_time": "2023-04-23T13:38:19.027Z"
   },
   {
    "duration": 0,
    "start_time": "2023-04-23T13:38:19.027Z"
   },
   {
    "duration": 0,
    "start_time": "2023-04-23T13:38:19.028Z"
   },
   {
    "duration": 0,
    "start_time": "2023-04-23T13:38:19.029Z"
   },
   {
    "duration": 0,
    "start_time": "2023-04-23T13:38:19.030Z"
   },
   {
    "duration": 3,
    "start_time": "2023-04-23T13:38:37.154Z"
   },
   {
    "duration": 60,
    "start_time": "2023-04-23T13:38:37.158Z"
   },
   {
    "duration": 655,
    "start_time": "2023-04-23T13:38:37.220Z"
   },
   {
    "duration": 4,
    "start_time": "2023-04-23T13:38:37.876Z"
   },
   {
    "duration": 10,
    "start_time": "2023-04-23T13:38:37.882Z"
   },
   {
    "duration": 15,
    "start_time": "2023-04-23T13:38:37.893Z"
   },
   {
    "duration": 3,
    "start_time": "2023-04-23T13:38:37.909Z"
   },
   {
    "duration": 21,
    "start_time": "2023-04-23T13:38:37.914Z"
   },
   {
    "duration": 13,
    "start_time": "2023-04-23T13:38:37.937Z"
   },
   {
    "duration": 7,
    "start_time": "2023-04-23T13:38:37.952Z"
   },
   {
    "duration": 2510,
    "start_time": "2023-04-23T13:38:37.963Z"
   },
   {
    "duration": 0,
    "start_time": "2023-04-23T13:38:40.476Z"
   },
   {
    "duration": 0,
    "start_time": "2023-04-23T13:38:40.478Z"
   },
   {
    "duration": 0,
    "start_time": "2023-04-23T13:38:40.479Z"
   },
   {
    "duration": 0,
    "start_time": "2023-04-23T13:38:40.480Z"
   },
   {
    "duration": 0,
    "start_time": "2023-04-23T13:38:40.482Z"
   },
   {
    "duration": 0,
    "start_time": "2023-04-23T13:38:40.483Z"
   },
   {
    "duration": 0,
    "start_time": "2023-04-23T13:38:40.485Z"
   },
   {
    "duration": 0,
    "start_time": "2023-04-23T13:38:40.486Z"
   },
   {
    "duration": 0,
    "start_time": "2023-04-23T13:38:40.488Z"
   },
   {
    "duration": 0,
    "start_time": "2023-04-23T13:38:40.489Z"
   },
   {
    "duration": 0,
    "start_time": "2023-04-23T13:38:40.490Z"
   },
   {
    "duration": 0,
    "start_time": "2023-04-23T13:38:40.492Z"
   },
   {
    "duration": 0,
    "start_time": "2023-04-23T13:38:40.493Z"
   },
   {
    "duration": 0,
    "start_time": "2023-04-23T13:38:40.494Z"
   },
   {
    "duration": 0,
    "start_time": "2023-04-23T13:38:40.496Z"
   },
   {
    "duration": 0,
    "start_time": "2023-04-23T13:38:40.497Z"
   },
   {
    "duration": 0,
    "start_time": "2023-04-23T13:38:40.498Z"
   },
   {
    "duration": 0,
    "start_time": "2023-04-23T13:38:40.499Z"
   },
   {
    "duration": 0,
    "start_time": "2023-04-23T13:38:40.500Z"
   },
   {
    "duration": 0,
    "start_time": "2023-04-23T13:38:40.501Z"
   },
   {
    "duration": 0,
    "start_time": "2023-04-23T13:38:40.502Z"
   },
   {
    "duration": 0,
    "start_time": "2023-04-23T13:38:40.503Z"
   },
   {
    "duration": 0,
    "start_time": "2023-04-23T13:38:40.504Z"
   },
   {
    "duration": 0,
    "start_time": "2023-04-23T13:38:40.505Z"
   },
   {
    "duration": 0,
    "start_time": "2023-04-23T13:38:40.506Z"
   },
   {
    "duration": 0,
    "start_time": "2023-04-23T13:38:40.507Z"
   },
   {
    "duration": 0,
    "start_time": "2023-04-23T13:38:40.508Z"
   },
   {
    "duration": 0,
    "start_time": "2023-04-23T13:38:40.509Z"
   },
   {
    "duration": 3,
    "start_time": "2023-04-23T13:40:05.931Z"
   },
   {
    "duration": 90,
    "start_time": "2023-04-23T13:40:05.935Z"
   },
   {
    "duration": 826,
    "start_time": "2023-04-23T13:40:06.027Z"
   },
   {
    "duration": 4,
    "start_time": "2023-04-23T13:40:06.855Z"
   },
   {
    "duration": 11,
    "start_time": "2023-04-23T13:40:06.862Z"
   },
   {
    "duration": 18,
    "start_time": "2023-04-23T13:40:06.874Z"
   },
   {
    "duration": 15,
    "start_time": "2023-04-23T13:40:06.894Z"
   },
   {
    "duration": 24,
    "start_time": "2023-04-23T13:40:06.911Z"
   },
   {
    "duration": 34,
    "start_time": "2023-04-23T13:40:06.936Z"
   },
   {
    "duration": 7,
    "start_time": "2023-04-23T13:40:06.972Z"
   },
   {
    "duration": 6,
    "start_time": "2023-04-23T13:40:06.982Z"
   },
   {
    "duration": 26,
    "start_time": "2023-04-23T13:40:06.990Z"
   },
   {
    "duration": 5,
    "start_time": "2023-04-23T13:40:07.017Z"
   },
   {
    "duration": 35,
    "start_time": "2023-04-23T13:40:07.023Z"
   },
   {
    "duration": 298,
    "start_time": "2023-04-23T13:40:07.059Z"
   },
   {
    "duration": 9,
    "start_time": "2023-04-23T13:40:07.359Z"
   },
   {
    "duration": 26,
    "start_time": "2023-04-23T13:40:07.370Z"
   },
   {
    "duration": 158,
    "start_time": "2023-04-23T13:40:07.398Z"
   },
   {
    "duration": 4,
    "start_time": "2023-04-23T13:40:07.558Z"
   },
   {
    "duration": 1491,
    "start_time": "2023-04-23T13:40:07.564Z"
   },
   {
    "duration": 15,
    "start_time": "2023-04-23T13:40:09.057Z"
   },
   {
    "duration": 427,
    "start_time": "2023-04-23T13:40:09.074Z"
   },
   {
    "duration": 3,
    "start_time": "2023-04-23T13:40:09.503Z"
   },
   {
    "duration": 206,
    "start_time": "2023-04-23T13:40:09.507Z"
   },
   {
    "duration": 283,
    "start_time": "2023-04-23T13:40:09.715Z"
   },
   {
    "duration": 754,
    "start_time": "2023-04-23T13:40:09.999Z"
   },
   {
    "duration": 12,
    "start_time": "2023-04-23T13:40:10.754Z"
   },
   {
    "duration": 19,
    "start_time": "2023-04-23T13:40:10.767Z"
   },
   {
    "duration": 12,
    "start_time": "2023-04-23T13:40:10.790Z"
   },
   {
    "duration": 39,
    "start_time": "2023-04-23T13:40:10.804Z"
   },
   {
    "duration": 28,
    "start_time": "2023-04-23T13:40:10.844Z"
   },
   {
    "duration": 826,
    "start_time": "2023-04-23T13:40:10.874Z"
   },
   {
    "duration": 13,
    "start_time": "2023-04-23T13:40:11.701Z"
   },
   {
    "duration": 26,
    "start_time": "2023-04-23T13:40:11.715Z"
   },
   {
    "duration": 12,
    "start_time": "2023-04-23T13:40:11.742Z"
   },
   {
    "duration": 934,
    "start_time": "2023-04-23T13:40:11.755Z"
   },
   {
    "duration": 14,
    "start_time": "2023-04-23T13:40:12.690Z"
   },
   {
    "duration": 8,
    "start_time": "2023-04-23T13:40:12.705Z"
   },
   {
    "duration": 25,
    "start_time": "2023-04-23T13:40:12.714Z"
   },
   {
    "duration": 79,
    "start_time": "2023-04-23T13:43:16.491Z"
   },
   {
    "duration": 1012,
    "start_time": "2023-04-23T14:14:15.381Z"
   },
   {
    "duration": 926,
    "start_time": "2023-04-23T14:15:22.211Z"
   },
   {
    "duration": 3,
    "start_time": "2023-04-23T14:19:54.331Z"
   },
   {
    "duration": 72,
    "start_time": "2023-04-23T14:19:54.336Z"
   },
   {
    "duration": 764,
    "start_time": "2023-04-23T14:19:54.409Z"
   },
   {
    "duration": 4,
    "start_time": "2023-04-23T14:19:55.175Z"
   },
   {
    "duration": 7,
    "start_time": "2023-04-23T14:19:55.180Z"
   },
   {
    "duration": 17,
    "start_time": "2023-04-23T14:19:55.188Z"
   },
   {
    "duration": 29,
    "start_time": "2023-04-23T14:19:55.207Z"
   },
   {
    "duration": 4,
    "start_time": "2023-04-23T14:19:55.237Z"
   },
   {
    "duration": 23,
    "start_time": "2023-04-23T14:19:55.243Z"
   },
   {
    "duration": 14,
    "start_time": "2023-04-23T14:19:55.268Z"
   },
   {
    "duration": 16,
    "start_time": "2023-04-23T14:19:55.283Z"
   },
   {
    "duration": 19,
    "start_time": "2023-04-23T14:19:55.301Z"
   },
   {
    "duration": 17,
    "start_time": "2023-04-23T14:19:55.322Z"
   },
   {
    "duration": 42,
    "start_time": "2023-04-23T14:19:55.341Z"
   },
   {
    "duration": 335,
    "start_time": "2023-04-23T14:19:55.385Z"
   },
   {
    "duration": 12,
    "start_time": "2023-04-23T14:19:55.723Z"
   },
   {
    "duration": 27,
    "start_time": "2023-04-23T14:19:55.737Z"
   },
   {
    "duration": 158,
    "start_time": "2023-04-23T14:19:55.765Z"
   },
   {
    "duration": 4,
    "start_time": "2023-04-23T14:19:55.925Z"
   },
   {
    "duration": 1750,
    "start_time": "2023-04-23T14:19:55.935Z"
   },
   {
    "duration": 16,
    "start_time": "2023-04-23T14:19:57.686Z"
   },
   {
    "duration": 283,
    "start_time": "2023-04-23T14:19:57.704Z"
   },
   {
    "duration": 3,
    "start_time": "2023-04-23T14:19:57.989Z"
   },
   {
    "duration": 232,
    "start_time": "2023-04-23T14:19:57.995Z"
   },
   {
    "duration": 273,
    "start_time": "2023-04-23T14:19:58.229Z"
   },
   {
    "duration": 797,
    "start_time": "2023-04-23T14:19:58.505Z"
   },
   {
    "duration": 11,
    "start_time": "2023-04-23T14:19:59.304Z"
   },
   {
    "duration": 45,
    "start_time": "2023-04-23T14:19:59.316Z"
   },
   {
    "duration": 36,
    "start_time": "2023-04-23T14:19:59.363Z"
   },
   {
    "duration": 15,
    "start_time": "2023-04-23T14:19:59.401Z"
   },
   {
    "duration": 34,
    "start_time": "2023-04-23T14:19:59.418Z"
   },
   {
    "duration": 849,
    "start_time": "2023-04-23T14:19:59.454Z"
   },
   {
    "duration": 15,
    "start_time": "2023-04-23T14:20:00.306Z"
   },
   {
    "duration": 49,
    "start_time": "2023-04-23T14:20:00.334Z"
   },
   {
    "duration": 44,
    "start_time": "2023-04-23T14:20:00.384Z"
   },
   {
    "duration": 1218,
    "start_time": "2023-04-23T14:20:00.430Z"
   },
   {
    "duration": 16,
    "start_time": "2023-04-23T14:20:01.650Z"
   },
   {
    "duration": 43,
    "start_time": "2023-04-23T14:20:01.668Z"
   },
   {
    "duration": 21,
    "start_time": "2023-04-23T14:20:01.712Z"
   },
   {
    "duration": 1381,
    "start_time": "2023-04-23T15:28:03.600Z"
   },
   {
    "duration": 73,
    "start_time": "2023-04-23T15:28:04.983Z"
   },
   {
    "duration": 823,
    "start_time": "2023-04-23T15:28:05.058Z"
   },
   {
    "duration": 7,
    "start_time": "2023-04-23T15:28:05.884Z"
   },
   {
    "duration": 6,
    "start_time": "2023-04-23T15:28:05.893Z"
   },
   {
    "duration": 17,
    "start_time": "2023-04-23T15:28:05.901Z"
   },
   {
    "duration": 6,
    "start_time": "2023-04-23T15:28:05.920Z"
   },
   {
    "duration": 4,
    "start_time": "2023-04-23T15:28:05.929Z"
   },
   {
    "duration": 11,
    "start_time": "2023-04-23T15:28:05.936Z"
   },
   {
    "duration": 6,
    "start_time": "2023-04-23T15:28:05.989Z"
   },
   {
    "duration": 10,
    "start_time": "2023-04-23T15:28:05.997Z"
   },
   {
    "duration": 14,
    "start_time": "2023-04-23T15:28:06.009Z"
   },
   {
    "duration": 4,
    "start_time": "2023-04-23T15:28:06.025Z"
   },
   {
    "duration": 73,
    "start_time": "2023-04-23T15:28:06.032Z"
   },
   {
    "duration": 360,
    "start_time": "2023-04-23T15:28:06.107Z"
   },
   {
    "duration": 9,
    "start_time": "2023-04-23T15:28:06.469Z"
   },
   {
    "duration": 16,
    "start_time": "2023-04-23T15:28:06.489Z"
   },
   {
    "duration": 200,
    "start_time": "2023-04-23T15:28:06.507Z"
   },
   {
    "duration": 5,
    "start_time": "2023-04-23T15:28:06.709Z"
   },
   {
    "duration": 1925,
    "start_time": "2023-04-23T15:28:06.716Z"
   },
   {
    "duration": 18,
    "start_time": "2023-04-23T15:28:08.643Z"
   },
   {
    "duration": 425,
    "start_time": "2023-04-23T15:28:08.663Z"
   },
   {
    "duration": 3,
    "start_time": "2023-04-23T15:28:09.090Z"
   },
   {
    "duration": 259,
    "start_time": "2023-04-23T15:28:09.095Z"
   },
   {
    "duration": 335,
    "start_time": "2023-04-23T15:28:09.356Z"
   },
   {
    "duration": 1216,
    "start_time": "2023-04-23T15:28:09.693Z"
   },
   {
    "duration": 14,
    "start_time": "2023-04-23T15:28:10.911Z"
   },
   {
    "duration": 16,
    "start_time": "2023-04-23T15:28:10.927Z"
   },
   {
    "duration": 45,
    "start_time": "2023-04-23T15:28:10.946Z"
   },
   {
    "duration": 21,
    "start_time": "2023-04-23T15:28:10.993Z"
   },
   {
    "duration": 28,
    "start_time": "2023-04-23T15:28:11.017Z"
   },
   {
    "duration": 1063,
    "start_time": "2023-04-23T15:28:11.047Z"
   },
   {
    "duration": 15,
    "start_time": "2023-04-23T15:28:12.112Z"
   },
   {
    "duration": 17,
    "start_time": "2023-04-23T15:28:12.129Z"
   },
   {
    "duration": 55,
    "start_time": "2023-04-23T15:28:12.148Z"
   },
   {
    "duration": 1132,
    "start_time": "2023-04-23T15:28:12.206Z"
   },
   {
    "duration": 17,
    "start_time": "2023-04-23T15:28:13.339Z"
   },
   {
    "duration": 12,
    "start_time": "2023-04-23T15:28:13.358Z"
   },
   {
    "duration": 11,
    "start_time": "2023-04-23T15:28:13.390Z"
   },
   {
    "duration": 1291,
    "start_time": "2023-04-23T15:43:55.822Z"
   },
   {
    "duration": 86,
    "start_time": "2023-04-23T15:43:57.116Z"
   },
   {
    "duration": 847,
    "start_time": "2023-04-23T15:43:57.203Z"
   },
   {
    "duration": 4,
    "start_time": "2023-04-23T15:43:58.052Z"
   },
   {
    "duration": 4,
    "start_time": "2023-04-23T15:43:58.059Z"
   },
   {
    "duration": 36,
    "start_time": "2023-04-23T15:43:58.065Z"
   },
   {
    "duration": 5,
    "start_time": "2023-04-23T15:43:58.103Z"
   },
   {
    "duration": 15,
    "start_time": "2023-04-23T15:43:58.110Z"
   },
   {
    "duration": 28,
    "start_time": "2023-04-23T15:43:58.127Z"
   },
   {
    "duration": 44,
    "start_time": "2023-04-23T15:43:58.157Z"
   },
   {
    "duration": 30,
    "start_time": "2023-04-23T15:43:58.203Z"
   },
   {
    "duration": 33,
    "start_time": "2023-04-23T15:43:58.234Z"
   },
   {
    "duration": 8,
    "start_time": "2023-04-23T15:43:58.269Z"
   },
   {
    "duration": 47,
    "start_time": "2023-04-23T15:43:58.280Z"
   },
   {
    "duration": 347,
    "start_time": "2023-04-23T15:43:58.329Z"
   },
   {
    "duration": 15,
    "start_time": "2023-04-23T15:43:58.678Z"
   },
   {
    "duration": 30,
    "start_time": "2023-04-23T15:43:58.695Z"
   },
   {
    "duration": 262,
    "start_time": "2023-04-23T15:43:58.727Z"
   },
   {
    "duration": 6,
    "start_time": "2023-04-23T15:43:58.991Z"
   },
   {
    "duration": 2003,
    "start_time": "2023-04-23T15:43:58.999Z"
   },
   {
    "duration": 18,
    "start_time": "2023-04-23T15:44:01.004Z"
   },
   {
    "duration": 394,
    "start_time": "2023-04-23T15:44:01.024Z"
   },
   {
    "duration": 4,
    "start_time": "2023-04-23T15:44:01.420Z"
   },
   {
    "duration": 322,
    "start_time": "2023-04-23T15:44:01.426Z"
   },
   {
    "duration": 362,
    "start_time": "2023-04-23T15:44:01.750Z"
   },
   {
    "duration": 1056,
    "start_time": "2023-04-23T15:44:02.114Z"
   },
   {
    "duration": 23,
    "start_time": "2023-04-23T15:44:03.172Z"
   },
   {
    "duration": 17,
    "start_time": "2023-04-23T15:44:03.197Z"
   },
   {
    "duration": 14,
    "start_time": "2023-04-23T15:44:03.216Z"
   },
   {
    "duration": 22,
    "start_time": "2023-04-23T15:44:03.232Z"
   },
   {
    "duration": 64,
    "start_time": "2023-04-23T15:44:03.256Z"
   },
   {
    "duration": 990,
    "start_time": "2023-04-23T15:44:03.322Z"
   },
   {
    "duration": 14,
    "start_time": "2023-04-23T15:44:04.314Z"
   },
   {
    "duration": 24,
    "start_time": "2023-04-23T15:44:04.330Z"
   },
   {
    "duration": 34,
    "start_time": "2023-04-23T15:44:04.357Z"
   },
   {
    "duration": 1111,
    "start_time": "2023-04-23T15:44:04.394Z"
   },
   {
    "duration": 18,
    "start_time": "2023-04-23T15:44:05.508Z"
   },
   {
    "duration": 22,
    "start_time": "2023-04-23T15:44:05.528Z"
   },
   {
    "duration": 48,
    "start_time": "2023-04-23T15:44:05.552Z"
   },
   {
    "duration": 52,
    "start_time": "2023-04-23T16:19:25.235Z"
   },
   {
    "duration": 1336,
    "start_time": "2023-04-23T16:19:29.229Z"
   },
   {
    "duration": 118,
    "start_time": "2023-04-23T16:19:30.567Z"
   },
   {
    "duration": 757,
    "start_time": "2023-04-23T16:19:30.687Z"
   },
   {
    "duration": 6,
    "start_time": "2023-04-23T16:19:31.446Z"
   },
   {
    "duration": 27,
    "start_time": "2023-04-23T16:19:31.454Z"
   },
   {
    "duration": 42,
    "start_time": "2023-04-23T16:19:31.482Z"
   },
   {
    "duration": 39,
    "start_time": "2023-04-23T16:19:31.526Z"
   },
   {
    "duration": 24,
    "start_time": "2023-04-23T16:19:31.566Z"
   },
   {
    "duration": 34,
    "start_time": "2023-04-23T16:19:31.592Z"
   },
   {
    "duration": 35,
    "start_time": "2023-04-23T16:19:31.627Z"
   },
   {
    "duration": 59,
    "start_time": "2023-04-23T16:19:31.664Z"
   },
   {
    "duration": 38,
    "start_time": "2023-04-23T16:19:31.725Z"
   },
   {
    "duration": 19,
    "start_time": "2023-04-23T16:19:31.765Z"
   },
   {
    "duration": 54,
    "start_time": "2023-04-23T16:19:31.788Z"
   },
   {
    "duration": 306,
    "start_time": "2023-04-23T16:19:31.844Z"
   },
   {
    "duration": 8,
    "start_time": "2023-04-23T16:19:32.152Z"
   },
   {
    "duration": 15,
    "start_time": "2023-04-23T16:19:32.162Z"
   },
   {
    "duration": 158,
    "start_time": "2023-04-23T16:19:32.178Z"
   },
   {
    "duration": 4,
    "start_time": "2023-04-23T16:19:32.337Z"
   },
   {
    "duration": 1569,
    "start_time": "2023-04-23T16:19:32.342Z"
   },
   {
    "duration": 22,
    "start_time": "2023-04-23T16:19:33.913Z"
   },
   {
    "duration": 278,
    "start_time": "2023-04-23T16:19:33.937Z"
   },
   {
    "duration": 2,
    "start_time": "2023-04-23T16:19:34.217Z"
   },
   {
    "duration": 216,
    "start_time": "2023-04-23T16:19:34.221Z"
   },
   {
    "duration": 281,
    "start_time": "2023-04-23T16:19:34.439Z"
   },
   {
    "duration": 956,
    "start_time": "2023-04-23T16:19:34.721Z"
   },
   {
    "duration": 12,
    "start_time": "2023-04-23T16:19:35.679Z"
   },
   {
    "duration": 17,
    "start_time": "2023-04-23T16:19:35.692Z"
   },
   {
    "duration": 28,
    "start_time": "2023-04-23T16:19:35.710Z"
   },
   {
    "duration": 11,
    "start_time": "2023-04-23T16:19:35.740Z"
   },
   {
    "duration": 34,
    "start_time": "2023-04-23T16:19:35.753Z"
   },
   {
    "duration": 840,
    "start_time": "2023-04-23T16:19:35.789Z"
   },
   {
    "duration": 15,
    "start_time": "2023-04-23T16:19:36.631Z"
   },
   {
    "duration": 25,
    "start_time": "2023-04-23T16:19:36.647Z"
   },
   {
    "duration": 23,
    "start_time": "2023-04-23T16:19:36.673Z"
   },
   {
    "duration": 952,
    "start_time": "2023-04-23T16:19:36.698Z"
   },
   {
    "duration": 15,
    "start_time": "2023-04-23T16:19:37.651Z"
   },
   {
    "duration": 37,
    "start_time": "2023-04-23T16:19:37.668Z"
   },
   {
    "duration": 27,
    "start_time": "2023-04-23T16:19:37.707Z"
   },
   {
    "duration": 227,
    "start_time": "2023-04-23T16:21:22.887Z"
   },
   {
    "duration": 775,
    "start_time": "2023-04-23T16:29:42.949Z"
   },
   {
    "duration": 15,
    "start_time": "2023-04-23T16:34:46.039Z"
   },
   {
    "duration": 13,
    "start_time": "2023-04-23T16:35:42.328Z"
   },
   {
    "duration": 78,
    "start_time": "2023-04-23T16:37:50.038Z"
   },
   {
    "duration": 100,
    "start_time": "2023-04-23T16:38:45.929Z"
   },
   {
    "duration": 3,
    "start_time": "2023-04-23T16:38:58.328Z"
   },
   {
    "duration": 64,
    "start_time": "2023-04-23T16:38:58.333Z"
   },
   {
    "duration": 751,
    "start_time": "2023-04-23T16:38:58.399Z"
   },
   {
    "duration": 4,
    "start_time": "2023-04-23T16:38:59.152Z"
   },
   {
    "duration": 5,
    "start_time": "2023-04-23T16:38:59.158Z"
   },
   {
    "duration": 19,
    "start_time": "2023-04-23T16:38:59.164Z"
   },
   {
    "duration": 4,
    "start_time": "2023-04-23T16:38:59.184Z"
   },
   {
    "duration": 6,
    "start_time": "2023-04-23T16:38:59.190Z"
   },
   {
    "duration": 38,
    "start_time": "2023-04-23T16:38:59.197Z"
   },
   {
    "duration": 10,
    "start_time": "2023-04-23T16:38:59.236Z"
   },
   {
    "duration": 13,
    "start_time": "2023-04-23T16:38:59.248Z"
   },
   {
    "duration": 13,
    "start_time": "2023-04-23T16:38:59.263Z"
   },
   {
    "duration": 5,
    "start_time": "2023-04-23T16:38:59.278Z"
   },
   {
    "duration": 48,
    "start_time": "2023-04-23T16:38:59.287Z"
   },
   {
    "duration": 304,
    "start_time": "2023-04-23T16:38:59.337Z"
   },
   {
    "duration": 8,
    "start_time": "2023-04-23T16:38:59.642Z"
   },
   {
    "duration": 15,
    "start_time": "2023-04-23T16:38:59.651Z"
   },
   {
    "duration": 160,
    "start_time": "2023-04-23T16:38:59.668Z"
   },
   {
    "duration": 6,
    "start_time": "2023-04-23T16:38:59.830Z"
   },
   {
    "duration": 1582,
    "start_time": "2023-04-23T16:38:59.838Z"
   },
   {
    "duration": 22,
    "start_time": "2023-04-23T16:39:01.422Z"
   },
   {
    "duration": 404,
    "start_time": "2023-04-23T16:39:01.446Z"
   },
   {
    "duration": 3,
    "start_time": "2023-04-23T16:39:01.853Z"
   },
   {
    "duration": 228,
    "start_time": "2023-04-23T16:39:01.857Z"
   },
   {
    "duration": 281,
    "start_time": "2023-04-23T16:39:02.086Z"
   },
   {
    "duration": 790,
    "start_time": "2023-04-23T16:39:02.368Z"
   },
   {
    "duration": 14,
    "start_time": "2023-04-23T16:39:03.159Z"
   },
   {
    "duration": 18,
    "start_time": "2023-04-23T16:39:03.175Z"
   },
   {
    "duration": 14,
    "start_time": "2023-04-23T16:39:03.194Z"
   },
   {
    "duration": 29,
    "start_time": "2023-04-23T16:39:03.210Z"
   },
   {
    "duration": 40,
    "start_time": "2023-04-23T16:39:03.240Z"
   },
   {
    "duration": 73,
    "start_time": "2023-04-23T16:39:03.282Z"
   },
   {
    "duration": 0,
    "start_time": "2023-04-23T16:39:03.357Z"
   },
   {
    "duration": 0,
    "start_time": "2023-04-23T16:39:03.358Z"
   },
   {
    "duration": 0,
    "start_time": "2023-04-23T16:39:03.359Z"
   },
   {
    "duration": 0,
    "start_time": "2023-04-23T16:39:03.361Z"
   },
   {
    "duration": 0,
    "start_time": "2023-04-23T16:39:03.362Z"
   },
   {
    "duration": 0,
    "start_time": "2023-04-23T16:39:03.364Z"
   },
   {
    "duration": 0,
    "start_time": "2023-04-23T16:39:03.365Z"
   },
   {
    "duration": 630,
    "start_time": "2023-04-23T16:39:25.404Z"
   },
   {
    "duration": 1320,
    "start_time": "2023-04-23T17:03:31.696Z"
   },
   {
    "duration": 20,
    "start_time": "2023-04-23T17:04:39.142Z"
   },
   {
    "duration": 21,
    "start_time": "2023-04-23T17:04:46.645Z"
   },
   {
    "duration": 13,
    "start_time": "2023-04-23T17:05:09.431Z"
   },
   {
    "duration": 1288,
    "start_time": "2023-04-23T17:05:46.455Z"
   },
   {
    "duration": 599,
    "start_time": "2023-04-23T17:12:15.711Z"
   },
   {
    "duration": 3,
    "start_time": "2023-04-23T17:12:49.491Z"
   },
   {
    "duration": 61,
    "start_time": "2023-04-23T17:12:49.496Z"
   },
   {
    "duration": 735,
    "start_time": "2023-04-23T17:12:49.559Z"
   },
   {
    "duration": 4,
    "start_time": "2023-04-23T17:12:50.296Z"
   },
   {
    "duration": 16,
    "start_time": "2023-04-23T17:12:50.302Z"
   },
   {
    "duration": 22,
    "start_time": "2023-04-23T17:12:50.319Z"
   },
   {
    "duration": 9,
    "start_time": "2023-04-23T17:12:50.343Z"
   },
   {
    "duration": 14,
    "start_time": "2023-04-23T17:12:50.353Z"
   },
   {
    "duration": 18,
    "start_time": "2023-04-23T17:12:50.368Z"
   },
   {
    "duration": 6,
    "start_time": "2023-04-23T17:12:50.389Z"
   },
   {
    "duration": 8,
    "start_time": "2023-04-23T17:12:50.396Z"
   },
   {
    "duration": 22,
    "start_time": "2023-04-23T17:12:50.406Z"
   },
   {
    "duration": 5,
    "start_time": "2023-04-23T17:12:50.429Z"
   },
   {
    "duration": 34,
    "start_time": "2023-04-23T17:12:50.435Z"
   },
   {
    "duration": 320,
    "start_time": "2023-04-23T17:12:50.471Z"
   },
   {
    "duration": 7,
    "start_time": "2023-04-23T17:12:50.793Z"
   },
   {
    "duration": 25,
    "start_time": "2023-04-23T17:12:50.801Z"
   },
   {
    "duration": 157,
    "start_time": "2023-04-23T17:12:50.828Z"
   },
   {
    "duration": 4,
    "start_time": "2023-04-23T17:12:50.986Z"
   },
   {
    "duration": 1720,
    "start_time": "2023-04-23T17:12:50.992Z"
   },
   {
    "duration": 29,
    "start_time": "2023-04-23T17:12:52.713Z"
   },
   {
    "duration": 292,
    "start_time": "2023-04-23T17:12:52.743Z"
   },
   {
    "duration": 3,
    "start_time": "2023-04-23T17:12:53.036Z"
   },
   {
    "duration": 227,
    "start_time": "2023-04-23T17:12:53.041Z"
   },
   {
    "duration": 308,
    "start_time": "2023-04-23T17:12:53.269Z"
   },
   {
    "duration": 835,
    "start_time": "2023-04-23T17:12:53.578Z"
   },
   {
    "duration": 23,
    "start_time": "2023-04-23T17:12:54.414Z"
   },
   {
    "duration": 13,
    "start_time": "2023-04-23T17:12:54.441Z"
   },
   {
    "duration": 13,
    "start_time": "2023-04-23T17:12:54.456Z"
   },
   {
    "duration": 13,
    "start_time": "2023-04-23T17:12:54.470Z"
   },
   {
    "duration": 51,
    "start_time": "2023-04-23T17:12:54.484Z"
   },
   {
    "duration": 15,
    "start_time": "2023-04-23T17:12:54.537Z"
   },
   {
    "duration": 637,
    "start_time": "2023-04-23T17:12:54.554Z"
   },
   {
    "duration": 15,
    "start_time": "2023-04-23T17:12:55.193Z"
   },
   {
    "duration": 36,
    "start_time": "2023-04-23T17:12:55.210Z"
   },
   {
    "duration": 16,
    "start_time": "2023-04-23T17:12:55.247Z"
   },
   {
    "duration": 1013,
    "start_time": "2023-04-23T17:12:55.265Z"
   },
   {
    "duration": 15,
    "start_time": "2023-04-23T17:12:56.279Z"
   },
   {
    "duration": 9,
    "start_time": "2023-04-23T17:12:56.295Z"
   },
   {
    "duration": 20,
    "start_time": "2023-04-23T17:12:56.306Z"
   },
   {
    "duration": 3,
    "start_time": "2023-04-23T17:14:54.275Z"
   },
   {
    "duration": 711,
    "start_time": "2023-04-23T17:16:18.004Z"
   },
   {
    "duration": 761,
    "start_time": "2023-04-23T17:18:16.202Z"
   },
   {
    "duration": 1053,
    "start_time": "2023-04-23T17:18:51.139Z"
   },
   {
    "duration": 795,
    "start_time": "2023-04-23T17:19:07.245Z"
   },
   {
    "duration": 152,
    "start_time": "2023-04-23T17:21:35.284Z"
   },
   {
    "duration": 793,
    "start_time": "2023-04-23T17:21:47.036Z"
   },
   {
    "duration": 3,
    "start_time": "2023-04-23T17:25:56.812Z"
   },
   {
    "duration": 64,
    "start_time": "2023-04-23T17:25:56.817Z"
   },
   {
    "duration": 660,
    "start_time": "2023-04-23T17:25:56.882Z"
   },
   {
    "duration": 3,
    "start_time": "2023-04-23T17:25:57.544Z"
   },
   {
    "duration": 9,
    "start_time": "2023-04-23T17:25:57.549Z"
   },
   {
    "duration": 15,
    "start_time": "2023-04-23T17:25:57.559Z"
   },
   {
    "duration": 3,
    "start_time": "2023-04-23T17:25:57.576Z"
   },
   {
    "duration": 7,
    "start_time": "2023-04-23T17:25:57.580Z"
   },
   {
    "duration": 14,
    "start_time": "2023-04-23T17:25:57.589Z"
   },
   {
    "duration": 6,
    "start_time": "2023-04-23T17:25:57.604Z"
   },
   {
    "duration": 22,
    "start_time": "2023-04-23T17:25:57.612Z"
   },
   {
    "duration": 9,
    "start_time": "2023-04-23T17:25:57.636Z"
   },
   {
    "duration": 13,
    "start_time": "2023-04-23T17:25:57.646Z"
   },
   {
    "duration": 32,
    "start_time": "2023-04-23T17:25:57.660Z"
   },
   {
    "duration": 310,
    "start_time": "2023-04-23T17:25:57.693Z"
   },
   {
    "duration": 7,
    "start_time": "2023-04-23T17:25:58.005Z"
   },
   {
    "duration": 25,
    "start_time": "2023-04-23T17:25:58.014Z"
   },
   {
    "duration": 248,
    "start_time": "2023-04-23T17:25:58.041Z"
   },
   {
    "duration": 3,
    "start_time": "2023-04-23T17:25:58.291Z"
   },
   {
    "duration": 1527,
    "start_time": "2023-04-23T17:25:58.296Z"
   },
   {
    "duration": 21,
    "start_time": "2023-04-23T17:25:59.824Z"
   },
   {
    "duration": 284,
    "start_time": "2023-04-23T17:25:59.846Z"
   },
   {
    "duration": 3,
    "start_time": "2023-04-23T17:26:00.131Z"
   },
   {
    "duration": 238,
    "start_time": "2023-04-23T17:26:00.137Z"
   },
   {
    "duration": 429,
    "start_time": "2023-04-23T17:26:00.376Z"
   },
   {
    "duration": 799,
    "start_time": "2023-04-23T17:26:00.807Z"
   },
   {
    "duration": 13,
    "start_time": "2023-04-23T17:26:01.608Z"
   },
   {
    "duration": 52,
    "start_time": "2023-04-23T17:26:01.635Z"
   },
   {
    "duration": 53,
    "start_time": "2023-04-23T17:26:01.689Z"
   },
   {
    "duration": 35,
    "start_time": "2023-04-23T17:26:01.744Z"
   },
   {
    "duration": 47,
    "start_time": "2023-04-23T17:26:01.781Z"
   },
   {
    "duration": 29,
    "start_time": "2023-04-23T17:26:01.830Z"
   },
   {
    "duration": 503,
    "start_time": "2023-04-23T17:26:01.860Z"
   },
   {
    "duration": 13,
    "start_time": "2023-04-23T17:26:02.364Z"
   },
   {
    "duration": 22,
    "start_time": "2023-04-23T17:26:02.378Z"
   },
   {
    "duration": 13,
    "start_time": "2023-04-23T17:26:02.401Z"
   },
   {
    "duration": 699,
    "start_time": "2023-04-23T17:26:02.415Z"
   },
   {
    "duration": 27,
    "start_time": "2023-04-23T17:26:03.116Z"
   },
   {
    "duration": 8,
    "start_time": "2023-04-23T17:26:03.144Z"
   },
   {
    "duration": 23,
    "start_time": "2023-04-23T17:26:03.153Z"
   }
  ],
  "kernelspec": {
   "display_name": "Python 3 (ipykernel)",
   "language": "python",
   "name": "python3"
  },
  "language_info": {
   "codemirror_mode": {
    "name": "ipython",
    "version": 3
   },
   "file_extension": ".py",
   "mimetype": "text/x-python",
   "name": "python",
   "nbconvert_exporter": "python",
   "pygments_lexer": "ipython3",
   "version": "3.9.5"
  },
  "toc": {
   "base_numbering": 1,
   "nav_menu": {},
   "number_sections": true,
   "sideBar": true,
   "skip_h1_title": true,
   "title_cell": "Table of Contents",
   "title_sidebar": "Contents",
   "toc_cell": false,
   "toc_position": {},
   "toc_section_display": true,
   "toc_window_display": false
  }
 },
 "nbformat": 4,
 "nbformat_minor": 2
}

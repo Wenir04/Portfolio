{
 "cells": [
  {
   "cell_type": "markdown",
   "metadata": {
    "toc": true
   },
   "source": [
    "<h1>Содержание<span class=\"tocSkip\"></span></h1>\n",
    "<div class=\"toc\"><ul class=\"toc-item\"><li><span><a href=\"#Подготовка\" data-toc-modified-id=\"Подготовка-1\"><span class=\"toc-item-num\">1&nbsp;&nbsp;</span>Подготовка</a></span></li><li><span><a href=\"#Анализ\" data-toc-modified-id=\"Анализ-2\"><span class=\"toc-item-num\">2&nbsp;&nbsp;</span>Анализ</a></span></li><li><span><a href=\"#Обучение\" data-toc-modified-id=\"Обучение-3\"><span class=\"toc-item-num\">3&nbsp;&nbsp;</span>Обучение</a></span></li><li><span><a href=\"#Тестирование\" data-toc-modified-id=\"Тестирование-4\"><span class=\"toc-item-num\">4&nbsp;&nbsp;</span>Тестирование</a></span></li><li><span><a href=\"#Чек-лист-проверки\" data-toc-modified-id=\"Чек-лист-проверки-5\"><span class=\"toc-item-num\">5&nbsp;&nbsp;</span>Чек-лист проверки</a></span></li></ul></div>"
   ]
  },
  {
   "cell_type": "markdown",
   "metadata": {},
   "source": [
    "#  Прогнозирование заказов такси"
   ]
  },
  {
   "cell_type": "markdown",
   "metadata": {},
   "source": [
    "Компания «Чётенькое такси» собрала исторические данные о заказах такси в аэропортах. Чтобы привлекать больше водителей в период пиковой нагрузки, нужно спрогнозировать количество заказов такси на следующий час. Постройте модель для такого предсказания.\n",
    "\n",
    "Значение метрики *RMSE* на тестовой выборке должно быть не больше 48.\n",
    "\n",
    "Вам нужно:\n",
    "\n",
    "1. Загрузить данные и выполнить их ресемплирование по одному часу.\n",
    "2. Проанализировать данные.\n",
    "3. Обучить разные модели с различными гиперпараметрами. Сделать тестовую выборку размером 10% от исходных данных.\n",
    "4. Проверить данные на тестовой выборке и сделать выводы.\n",
    "\n",
    "\n",
    "Данные лежат в файле `taxi.csv`. Количество заказов находится в столбце `num_orders` (от англ. *number of orders*, «число заказов»)."
   ]
  },
  {
   "cell_type": "markdown",
   "metadata": {},
   "source": [
    "## Подготовка"
   ]
  },
  {
   "cell_type": "code",
   "execution_count": 1,
   "metadata": {},
   "outputs": [],
   "source": [
    "import pandas as pd\n",
    "import numpy as np\n",
    "from sklearn.model_selection import train_test_split, GridSearchCV, TimeSeriesSplit\n",
    "from sklearn.metrics import mean_absolute_error,mean_squared_error,make_scorer\n",
    "from statsmodels.tsa.seasonal import seasonal_decompose\n",
    "import matplotlib.pyplot as plt\n",
    "plt.rcParams[\"figure.figsize\"] = (12,5)\n",
    "from sklearn.tree import DecisionTreeRegressor\n",
    "from sklearn.linear_model import LinearRegression\n",
    "from sklearn.dummy import DummyRegressor\n",
    "from sklearn.pipeline import  make_pipeline, Pipeline\n",
    "from sklearn.preprocessing import StandardScaler,MinMaxScaler"
   ]
  },
  {
   "cell_type": "code",
   "execution_count": 2,
   "metadata": {},
   "outputs": [],
   "source": [
    "data=pd.read_csv('/datasets/taxi.csv')"
   ]
  },
  {
   "cell_type": "code",
   "execution_count": 3,
   "metadata": {
    "scrolled": false
   },
   "outputs": [
    {
     "data": {
      "text/html": [
       "<div>\n",
       "<style scoped>\n",
       "    .dataframe tbody tr th:only-of-type {\n",
       "        vertical-align: middle;\n",
       "    }\n",
       "\n",
       "    .dataframe tbody tr th {\n",
       "        vertical-align: top;\n",
       "    }\n",
       "\n",
       "    .dataframe thead th {\n",
       "        text-align: right;\n",
       "    }\n",
       "</style>\n",
       "<table border=\"1\" class=\"dataframe\">\n",
       "  <thead>\n",
       "    <tr style=\"text-align: right;\">\n",
       "      <th></th>\n",
       "      <th>datetime</th>\n",
       "      <th>num_orders</th>\n",
       "    </tr>\n",
       "  </thead>\n",
       "  <tbody>\n",
       "    <tr>\n",
       "      <th>0</th>\n",
       "      <td>2018-03-01 00:00:00</td>\n",
       "      <td>9</td>\n",
       "    </tr>\n",
       "    <tr>\n",
       "      <th>1</th>\n",
       "      <td>2018-03-01 00:10:00</td>\n",
       "      <td>14</td>\n",
       "    </tr>\n",
       "    <tr>\n",
       "      <th>2</th>\n",
       "      <td>2018-03-01 00:20:00</td>\n",
       "      <td>28</td>\n",
       "    </tr>\n",
       "    <tr>\n",
       "      <th>3</th>\n",
       "      <td>2018-03-01 00:30:00</td>\n",
       "      <td>20</td>\n",
       "    </tr>\n",
       "    <tr>\n",
       "      <th>4</th>\n",
       "      <td>2018-03-01 00:40:00</td>\n",
       "      <td>32</td>\n",
       "    </tr>\n",
       "  </tbody>\n",
       "</table>\n",
       "</div>"
      ],
      "text/plain": [
       "              datetime  num_orders\n",
       "0  2018-03-01 00:00:00           9\n",
       "1  2018-03-01 00:10:00          14\n",
       "2  2018-03-01 00:20:00          28\n",
       "3  2018-03-01 00:30:00          20\n",
       "4  2018-03-01 00:40:00          32"
      ]
     },
     "execution_count": 3,
     "metadata": {},
     "output_type": "execute_result"
    }
   ],
   "source": [
    "data.head()"
   ]
  },
  {
   "cell_type": "markdown",
   "metadata": {},
   "source": [
    "Изучим наш дата фрейм"
   ]
  },
  {
   "cell_type": "code",
   "execution_count": 4,
   "metadata": {
    "scrolled": false
   },
   "outputs": [
    {
     "name": "stdout",
     "output_type": "stream",
     "text": [
      "<class 'pandas.core.frame.DataFrame'>\n",
      "RangeIndex: 26496 entries, 0 to 26495\n",
      "Data columns (total 2 columns):\n",
      " #   Column      Non-Null Count  Dtype \n",
      "---  ------      --------------  ----- \n",
      " 0   datetime    26496 non-null  object\n",
      " 1   num_orders  26496 non-null  int64 \n",
      "dtypes: int64(1), object(1)\n",
      "memory usage: 414.1+ KB\n"
     ]
    }
   ],
   "source": [
    "data.info()"
   ]
  },
  {
   "cell_type": "markdown",
   "metadata": {},
   "source": [
    "Изменим тип данных datetime с object на datetime64"
   ]
  },
  {
   "cell_type": "code",
   "execution_count": 5,
   "metadata": {},
   "outputs": [],
   "source": [
    "data['datetime']=pd.to_datetime(data['datetime'])\n",
    "data.set_index('datetime', inplace=True)"
   ]
  },
  {
   "cell_type": "code",
   "execution_count": 6,
   "metadata": {
    "scrolled": false
   },
   "outputs": [
    {
     "name": "stdout",
     "output_type": "stream",
     "text": [
      "<class 'pandas.core.frame.DataFrame'>\n",
      "DatetimeIndex: 26496 entries, 2018-03-01 00:00:00 to 2018-08-31 23:50:00\n",
      "Data columns (total 1 columns):\n",
      " #   Column      Non-Null Count  Dtype\n",
      "---  ------      --------------  -----\n",
      " 0   num_orders  26496 non-null  int64\n",
      "dtypes: int64(1)\n",
      "memory usage: 414.0 KB\n"
     ]
    }
   ],
   "source": [
    "data.info()"
   ]
  },
  {
   "cell_type": "code",
   "execution_count": 7,
   "metadata": {
    "scrolled": false
   },
   "outputs": [
    {
     "data": {
      "text/html": [
       "<div>\n",
       "<style scoped>\n",
       "    .dataframe tbody tr th:only-of-type {\n",
       "        vertical-align: middle;\n",
       "    }\n",
       "\n",
       "    .dataframe tbody tr th {\n",
       "        vertical-align: top;\n",
       "    }\n",
       "\n",
       "    .dataframe thead th {\n",
       "        text-align: right;\n",
       "    }\n",
       "</style>\n",
       "<table border=\"1\" class=\"dataframe\">\n",
       "  <thead>\n",
       "    <tr style=\"text-align: right;\">\n",
       "      <th></th>\n",
       "      <th>num_orders</th>\n",
       "    </tr>\n",
       "    <tr>\n",
       "      <th>datetime</th>\n",
       "      <th></th>\n",
       "    </tr>\n",
       "  </thead>\n",
       "  <tbody>\n",
       "    <tr>\n",
       "      <th>2018-03-01 00:00:00</th>\n",
       "      <td>9</td>\n",
       "    </tr>\n",
       "    <tr>\n",
       "      <th>2018-03-01 00:10:00</th>\n",
       "      <td>14</td>\n",
       "    </tr>\n",
       "    <tr>\n",
       "      <th>2018-03-01 00:20:00</th>\n",
       "      <td>28</td>\n",
       "    </tr>\n",
       "    <tr>\n",
       "      <th>2018-03-01 00:30:00</th>\n",
       "      <td>20</td>\n",
       "    </tr>\n",
       "    <tr>\n",
       "      <th>2018-03-01 00:40:00</th>\n",
       "      <td>32</td>\n",
       "    </tr>\n",
       "  </tbody>\n",
       "</table>\n",
       "</div>"
      ],
      "text/plain": [
       "                     num_orders\n",
       "datetime                       \n",
       "2018-03-01 00:00:00           9\n",
       "2018-03-01 00:10:00          14\n",
       "2018-03-01 00:20:00          28\n",
       "2018-03-01 00:30:00          20\n",
       "2018-03-01 00:40:00          32"
      ]
     },
     "execution_count": 7,
     "metadata": {},
     "output_type": "execute_result"
    }
   ],
   "source": [
    "data.head()"
   ]
  },
  {
   "cell_type": "markdown",
   "metadata": {},
   "source": [
    "Проверим в хронологическом ли порядке расположены даты и время"
   ]
  },
  {
   "cell_type": "code",
   "execution_count": 8,
   "metadata": {},
   "outputs": [
    {
     "name": "stdout",
     "output_type": "stream",
     "text": [
      "True\n"
     ]
    }
   ],
   "source": [
    "print(data.index.is_monotonic)"
   ]
  },
  {
   "cell_type": "code",
   "execution_count": 9,
   "metadata": {
    "scrolled": true
   },
   "outputs": [
    {
     "data": {
      "text/plain": [
       "num_orders    0\n",
       "dtype: int64"
      ]
     },
     "execution_count": 9,
     "metadata": {},
     "output_type": "execute_result"
    }
   ],
   "source": [
    "data.isnull().sum()"
   ]
  },
  {
   "cell_type": "markdown",
   "metadata": {},
   "source": [
    "Отсутсвующих данных нет"
   ]
  },
  {
   "cell_type": "code",
   "execution_count": 10,
   "metadata": {},
   "outputs": [
    {
     "data": {
      "text/html": [
       "<div>\n",
       "<style scoped>\n",
       "    .dataframe tbody tr th:only-of-type {\n",
       "        vertical-align: middle;\n",
       "    }\n",
       "\n",
       "    .dataframe tbody tr th {\n",
       "        vertical-align: top;\n",
       "    }\n",
       "\n",
       "    .dataframe thead th {\n",
       "        text-align: right;\n",
       "    }\n",
       "</style>\n",
       "<table border=\"1\" class=\"dataframe\">\n",
       "  <thead>\n",
       "    <tr style=\"text-align: right;\">\n",
       "      <th></th>\n",
       "      <th>num_orders</th>\n",
       "    </tr>\n",
       "  </thead>\n",
       "  <tbody>\n",
       "    <tr>\n",
       "      <th>count</th>\n",
       "      <td>26496.000000</td>\n",
       "    </tr>\n",
       "    <tr>\n",
       "      <th>mean</th>\n",
       "      <td>14.070463</td>\n",
       "    </tr>\n",
       "    <tr>\n",
       "      <th>std</th>\n",
       "      <td>9.211330</td>\n",
       "    </tr>\n",
       "    <tr>\n",
       "      <th>min</th>\n",
       "      <td>0.000000</td>\n",
       "    </tr>\n",
       "    <tr>\n",
       "      <th>25%</th>\n",
       "      <td>8.000000</td>\n",
       "    </tr>\n",
       "    <tr>\n",
       "      <th>50%</th>\n",
       "      <td>13.000000</td>\n",
       "    </tr>\n",
       "    <tr>\n",
       "      <th>75%</th>\n",
       "      <td>19.000000</td>\n",
       "    </tr>\n",
       "    <tr>\n",
       "      <th>max</th>\n",
       "      <td>119.000000</td>\n",
       "    </tr>\n",
       "  </tbody>\n",
       "</table>\n",
       "</div>"
      ],
      "text/plain": [
       "         num_orders\n",
       "count  26496.000000\n",
       "mean      14.070463\n",
       "std        9.211330\n",
       "min        0.000000\n",
       "25%        8.000000\n",
       "50%       13.000000\n",
       "75%       19.000000\n",
       "max      119.000000"
      ]
     },
     "execution_count": 10,
     "metadata": {},
     "output_type": "execute_result"
    }
   ],
   "source": [
    "data.describe()"
   ]
  },
  {
   "cell_type": "markdown",
   "metadata": {},
   "source": [
    "Предобработку выполнили, аномалий не найдено можем перейти к ресемплированию данных"
   ]
  },
  {
   "cell_type": "code",
   "execution_count": 11,
   "metadata": {
    "scrolled": true
   },
   "outputs": [
    {
     "data": {
      "text/plain": [
       "Text(0.5, 1.0, 'data_resample')"
      ]
     },
     "execution_count": 11,
     "metadata": {},
     "output_type": "execute_result"
    },
    {
     "data": {
      "image/png": "[encoded data removed]",
      "text/plain": [
       "<Figure size 864x360 with 1 Axes>"
      ]
     },
     "metadata": {
      "needs_background": "light"
     },
     "output_type": "display_data"
    }
   ],
   "source": [
    "data = data.resample('1h').sum()\n",
    "data.plot()\n",
    "plt.title('data_resample')"
   ]
  },
  {
   "cell_type": "markdown",
   "metadata": {},
   "source": [
    "**Вывод**\n",
    "\n",
    "Выполнили предобратку. Изменили тип данных datetime с object на datetime64, проверили на хронологическое расположение данных.\n",
    "\n",
    "Выполнили ресемплирование данных по одному часу"
   ]
  },
  {
   "cell_type": "markdown",
   "metadata": {},
   "source": [
    "## Анализ"
   ]
  },
  {
   "cell_type": "markdown",
   "metadata": {},
   "source": [
    "Посмотрим тренды и сезонность"
   ]
  },
  {
   "cell_type": "code",
   "execution_count": 12,
   "metadata": {},
   "outputs": [],
   "source": [
    "decomposed =seasonal_decompose(data)"
   ]
  },
  {
   "cell_type": "code",
   "execution_count": 13,
   "metadata": {},
   "outputs": [
    {
     "data": {
      "text/plain": [
       "Text(0.5, 1.0, 'Trend')"
      ]
     },
     "execution_count": 13,
     "metadata": {},
     "output_type": "execute_result"
    },
    {
     "data": {
      "image/png": "[encoded data removed]",
      "text/plain": [
       "<Figure size 864x360 with 1 Axes>"
      ]
     },
     "metadata": {
      "needs_background": "light"
     },
     "output_type": "display_data"
    }
   ],
   "source": [
    "decomposed.trend.plot(ax=plt.gca())\n",
    "plt.title('Trend')"
   ]
  },
  {
   "cell_type": "code",
   "execution_count": 14,
   "metadata": {},
   "outputs": [
    {
     "data": {
      "text/plain": [
       "Text(0.5, 1.0, 'Seasonality')"
      ]
     },
     "execution_count": 14,
     "metadata": {},
     "output_type": "execute_result"
    },
    {
     "data": {
      "image/png": "[encoded data removed]",
      "text/plain": [
       "<Figure size 864x360 with 1 Axes>"
      ]
     },
     "metadata": {
      "needs_background": "light"
     },
     "output_type": "display_data"
    }
   ],
   "source": [
    "decomposed.seasonal.plot()\n",
    "plt.title('Seasonality')"
   ]
  },
  {
   "cell_type": "code",
   "execution_count": 15,
   "metadata": {
    "scrolled": true
   },
   "outputs": [
    {
     "data": {
      "text/plain": [
       "Text(0.5, 1.0, 'Residuals')"
      ]
     },
     "execution_count": 15,
     "metadata": {},
     "output_type": "execute_result"
    },
    {
     "data": {
      "image/png": "[encoded data removed]",
      "text/plain": [
       "<Figure size 864x360 with 1 Axes>"
      ]
     },
     "metadata": {
      "needs_background": "light"
     },
     "output_type": "display_data"
    }
   ],
   "source": [
    "decomposed.resid.plot(ax=plt.gca())\n",
    "plt.title('Residuals')"
   ]
  },
  {
   "cell_type": "markdown",
   "metadata": {},
   "source": [
    "Очень сложно оценить сезонность, возьму данные за меньший промежуток времени"
   ]
  },
  {
   "cell_type": "code",
   "execution_count": 16,
   "metadata": {},
   "outputs": [
    {
     "data": {
      "text/plain": [
       "Text(0.5, 1.0, 'Seasonality')"
      ]
     },
     "execution_count": 16,
     "metadata": {},
     "output_type": "execute_result"
    },
    {
     "data": {
      "image/png": "[encoded data removed]",
      "text/plain": [
       "<Figure size 864x360 with 1 Axes>"
      ]
     },
     "metadata": {
      "needs_background": "light"
     },
     "output_type": "display_data"
    }
   ],
   "source": [
    "decomposed = seasonal_decompose(data['2018-08-24':'2018-08-31'])\n",
    "decomposed.seasonal.plot()\n",
    "plt.title('Seasonality')"
   ]
  },
  {
   "cell_type": "markdown",
   "metadata": {},
   "source": [
    "**Вывод**\n",
    "\n",
    "Видим восходящий тренд, потребность в такси становится увеличивается. Заметим, что ночью количесвто заказов уменьшается"
   ]
  },
  {
   "cell_type": "markdown",
   "metadata": {},
   "source": [
    "## Обучение"
   ]
  },
  {
   "cell_type": "markdown",
   "metadata": {},
   "source": [
    "Будем обучать модели \n",
    "\n",
    "DecisionTreeRegressor\n",
    "\n",
    "LinearRegression\n",
    "\n"
   ]
  },
  {
   "cell_type": "code",
   "execution_count": 17,
   "metadata": {},
   "outputs": [],
   "source": [
    "def make_features(data, max_lag, rolling_mean_size):\n",
    "    data['day'] = data.index.day\n",
    "    data['dayofweek'] = data.index.dayofweek\n",
    "    data['hour'] = data.index.hour\n",
    "    \n",
    "    for lag in range(1, max_lag + 1):\n",
    "        data['lag_{}'.format(lag)] = data['num_orders'].shift(lag)\n",
    "\n",
    "    data['rolling_mean'] = data['num_orders'].shift().rolling(rolling_mean_size).mean()\n",
    "\n",
    "\n",
    "make_features(data, 40, 20)\n",
    "data_train, data_test = train_test_split(data, shuffle=False, test_size=0.1)\n",
    "data_train = data_train.dropna()\n",
    "\n",
    "features_train = data_train.drop(['num_orders'], axis=1)\n",
    "target_train = data_train['num_orders']\n",
    "features_test = data_test.drop(['num_orders'], axis=1)\n",
    "target_test = data_test['num_orders']"
   ]
  },
  {
   "cell_type": "code",
   "execution_count": 18,
   "metadata": {},
   "outputs": [
    {
     "data": {
      "image/png": "[encoded data removed]",
      "text/plain": [
       "<Figure size 1332x432 with 1 Axes>"
      ]
     },
     "metadata": {
      "needs_background": "light"
     },
     "output_type": "display_data"
    }
   ],
   "source": [
    "# Код ревьюера\n",
    "from statsmodels.graphics import tsaplots\n",
    "\n",
    "taxi = pd.read_csv(\"/datasets/taxi.csv\", index_col=[0], parse_dates=[0]).resample('1H').sum()\n",
    "ts = taxi['num_orders']\n",
    "\n",
    "fig = tsaplots.plot_acf(ts,lags= 190)\n",
    "fig.set_size_inches(18.5, 6)\n",
    "plt.ylim(-.1, 1.1)\n",
    "plt.show() \n"
   ]
  },
  {
   "cell_type": "raw",
   "metadata": {},
   "source": [
    "model_lr = Pipeline([('scaler', MinMaxScaler()),('regressor', LinearRegression())])  \n",
    "parameters_lr = {'regressor__fit_intercept':[True,False], 'regressor__normalize':[True,False], 'regressor__copy_X':[True, False]}\n",
    "grid_search_lr = GridSearchCV(model_lr, param_grid=parameters_lr,  scoring='neg_root_mean_squared_error',cv=5)\n",
    "grid_search_lr.fit(features_train,target_train)\n",
    "print(\"Лучшие гиперпараметры для LinearRegression: \", grid_search_lr.best_params_)\n",
    "print(\"Лучшее значение метрики для LinearRegression: \", -(grid_search_lr.best_score_))"
   ]
  },
  {
   "cell_type": "code",
   "execution_count": 19,
   "metadata": {},
   "outputs": [
    {
     "name": "stdout",
     "output_type": "stream",
     "text": [
      "Лучшие гиперпараметры для LinearRegression:  {'regressor__copy_X': True, 'regressor__fit_intercept': True, 'regressor__normalize': False}\n",
      "Лучшее значение метрики для LinearRegression:  27.17482634479679\n"
     ]
    }
   ],
   "source": [
    "tscv = TimeSeriesSplit(n_splits=5)\n",
    "model_lr = Pipeline([('scaler', MinMaxScaler()),('regressor', LinearRegression())])  \n",
    "parameters_lr = {'regressor__fit_intercept':[True,False], 'regressor__normalize':[True,False], 'regressor__copy_X':[True, False]}\n",
    "grid_search_lr = GridSearchCV(model_lr, cv=tscv, param_grid=parameters_lr, scoring='neg_root_mean_squared_error')\n",
    "grid_search_lr.fit(features_train,target_train)\n",
    "print(\"Лучшие гиперпараметры для LinearRegression: \", grid_search_lr.best_params_)\n",
    "print(\"Лучшее значение метрики для LinearRegression: \", -(grid_search_lr.best_score_))"
   ]
  },
  {
   "cell_type": "code",
   "execution_count": 20,
   "metadata": {},
   "outputs": [
    {
     "name": "stdout",
     "output_type": "stream",
     "text": [
      "Лучшие гиперпараметры для DecisionTreeRegressor:  {'regressor__max_depth': 5}\n",
      "Лучшее значение метрики для DecisionTreeRegressor:  30.608792129386796\n"
     ]
    }
   ],
   "source": [
    "model_dtr = Pipeline([('scaler', MinMaxScaler()),('regressor', DecisionTreeRegressor(random_state=12345))])\n",
    "parameters_dtr = {'regressor__max_depth':range(1,10)}\n",
    "grid_search_dtr = GridSearchCV(model_dtr, param_grid=parameters_dtr,  scoring='neg_root_mean_squared_error',cv=tscv)\n",
    "grid_search_dtr.fit(features_train,target_train)\n",
    "print(\"Лучшие гиперпараметры для DecisionTreeRegressor: \", grid_search_dtr.best_params_)\n",
    "print(\"Лучшее значение метрики для DecisionTreeRegressor: \", -(grid_search_dtr.best_score_))"
   ]
  },
  {
   "cell_type": "markdown",
   "metadata": {},
   "source": [
    "На тренировочной выборке лучший результат показала модель LinearRegression, так что выберём именно её"
   ]
  },
  {
   "cell_type": "markdown",
   "metadata": {},
   "source": [
    "## Тестирование"
   ]
  },
  {
   "cell_type": "code",
   "execution_count": 21,
   "metadata": {},
   "outputs": [
    {
     "name": "stdout",
     "output_type": "stream",
     "text": [
      "rmse : 44.70524467180113\n"
     ]
    }
   ],
   "source": [
    "model_lr=LinearRegression(fit_intercept=True, copy_X=True, normalize=False )\n",
    "model_lr.fit(features_train,target_train)\n",
    "prediction=model_lr.predict(features_test)\n",
    "print(\"rmse :\", mean_squared_error(target_test,prediction)**.5)"
   ]
  },
  {
   "cell_type": "markdown",
   "metadata": {},
   "source": [
    "Проверим модель на адекватность"
   ]
  },
  {
   "cell_type": "code",
   "execution_count": 22,
   "metadata": {},
   "outputs": [
    {
     "name": "stdout",
     "output_type": "stream",
     "text": [
      "rmse : 62.05343632125475\n"
     ]
    }
   ],
   "source": [
    "dummy = DummyRegressor(strategy='constant', constant=target_train.iloc[-1])\n",
    "dummy.fit(features_train, target_train)\n",
    "predictions = dummy.predict(features_test)\n",
    "print(\"rmse :\", mean_squared_error(target_test, predictions)**.5)"
   ]
  },
  {
   "cell_type": "markdown",
   "metadata": {},
   "source": [
    "Получили что константная модель имеет значение rmse хуже, значит наша модель адекватна и эффективна"
   ]
  },
  {
   "cell_type": "markdown",
   "metadata": {},
   "source": [
    "# Вывод"
   ]
  },
  {
   "cell_type": "markdown",
   "metadata": {},
   "source": [
    "В ходе работы выполнили предобработку данных:\n",
    "\n",
    "1) Изменили тип данных datetime с object на datetime64\n",
    "\n",
    "2) проверили на хронологическое расположение данных.\n",
    "\n",
    "3) Выполнили ресемплирование данных по одному часу\n",
    "\n",
    "Затем обучили модели LinearRegressionr и DecisionTreeRegressor, на обучающей выборке выборке лучший результат был у LinearRegression, поэтому выбрали ее\n",
    "\n",
    "На тестовой выборке модель LinearRegression показала результат 44.7 , что удовлетворяет условиям. Также модель прошла проверку на адекватность, поэтому можем запускать ее в производство"
   ]
  },
  {
   "cell_type": "markdown",
   "metadata": {},
   "source": [
    "## Чек-лист проверки"
   ]
  },
  {
   "cell_type": "markdown",
   "metadata": {},
   "source": [
    "- [x]  Jupyter Notebook открыт\n",
    "- [x]  Весь код выполняется без ошибок\n",
    "- [x]  Ячейки с кодом расположены в порядке исполнения\n",
    "- [x]  Данные загружены и подготовлены\n",
    "- [x]  Данные проанализированы\n",
    "- [x]  Модель обучена, гиперпараметры подобраны\n",
    "- [x]  Качество моделей проверено, выводы сделаны\n",
    "- [x]  Значение *RMSE* на тестовой выборке не больше 48"
   ]
  }
 ],
 "metadata": {
  "ExecuteTimeLog": [
   {
    "duration": 1148,
    "start_time": "2023-09-22T22:17:21.674Z"
   },
   {
    "duration": 112,
    "start_time": "2023-09-22T22:17:24.154Z"
   },
   {
    "duration": 15,
    "start_time": "2023-09-22T22:17:42.692Z"
   },
   {
    "duration": 12,
    "start_time": "2023-09-22T22:18:02.219Z"
   },
   {
    "duration": 7,
    "start_time": "2023-09-22T22:18:06.730Z"
   },
   {
    "duration": 13,
    "start_time": "2023-09-22T22:18:13.451Z"
   },
   {
    "duration": 14,
    "start_time": "2023-09-22T22:18:23.251Z"
   },
   {
    "duration": 7,
    "start_time": "2023-09-22T22:19:16.961Z"
   },
   {
    "duration": 12,
    "start_time": "2023-09-22T22:20:04.331Z"
   },
   {
    "duration": 1584,
    "start_time": "2023-09-22T22:23:08.155Z"
   },
   {
    "duration": 9,
    "start_time": "2023-09-22T22:24:38.330Z"
   },
   {
    "duration": 1028,
    "start_time": "2023-09-22T22:24:46.361Z"
   },
   {
    "duration": 44,
    "start_time": "2023-09-22T22:24:47.391Z"
   },
   {
    "duration": 15,
    "start_time": "2023-09-22T22:24:47.437Z"
   },
   {
    "duration": 22,
    "start_time": "2023-09-22T22:24:47.454Z"
   },
   {
    "duration": 10,
    "start_time": "2023-09-22T22:24:47.478Z"
   },
   {
    "duration": 15,
    "start_time": "2023-09-22T22:24:47.489Z"
   },
   {
    "duration": 5,
    "start_time": "2023-09-22T22:24:47.506Z"
   },
   {
    "duration": 10,
    "start_time": "2023-09-22T22:24:47.512Z"
   },
   {
    "duration": 14,
    "start_time": "2023-09-22T22:24:47.523Z"
   },
   {
    "duration": 1408,
    "start_time": "2023-09-22T22:24:47.539Z"
   },
   {
    "duration": 3,
    "start_time": "2023-09-22T22:26:59.872Z"
   },
   {
    "duration": 9,
    "start_time": "2023-09-22T22:28:18.555Z"
   },
   {
    "duration": 1150,
    "start_time": "2023-09-22T22:28:39.707Z"
   },
   {
    "duration": 48,
    "start_time": "2023-09-22T22:28:40.860Z"
   },
   {
    "duration": 19,
    "start_time": "2023-09-22T22:28:40.910Z"
   },
   {
    "duration": 20,
    "start_time": "2023-09-22T22:28:40.932Z"
   },
   {
    "duration": 26,
    "start_time": "2023-09-22T22:28:40.955Z"
   },
   {
    "duration": 22,
    "start_time": "2023-09-22T22:28:40.983Z"
   },
   {
    "duration": 6,
    "start_time": "2023-09-22T22:28:41.008Z"
   },
   {
    "duration": 15,
    "start_time": "2023-09-22T22:28:41.016Z"
   },
   {
    "duration": 14,
    "start_time": "2023-09-22T22:28:41.033Z"
   },
   {
    "duration": 24,
    "start_time": "2023-09-22T22:28:41.050Z"
   },
   {
    "duration": 17,
    "start_time": "2023-09-22T22:28:41.076Z"
   },
   {
    "duration": 2083,
    "start_time": "2023-09-22T22:28:41.095Z"
   },
   {
    "duration": 854,
    "start_time": "2023-09-22T22:30:14.395Z"
   },
   {
    "duration": 1744,
    "start_time": "2023-09-23T00:52:31.223Z"
   },
   {
    "duration": 126,
    "start_time": "2023-09-23T00:52:32.970Z"
   },
   {
    "duration": 16,
    "start_time": "2023-09-23T00:52:33.098Z"
   },
   {
    "duration": 108,
    "start_time": "2023-09-23T00:52:33.117Z"
   },
   {
    "duration": 42,
    "start_time": "2023-09-23T00:52:33.226Z"
   },
   {
    "duration": 19,
    "start_time": "2023-09-23T00:52:33.271Z"
   },
   {
    "duration": 12,
    "start_time": "2023-09-23T00:52:33.292Z"
   },
   {
    "duration": 13,
    "start_time": "2023-09-23T00:52:33.310Z"
   },
   {
    "duration": 9,
    "start_time": "2023-09-23T00:52:33.325Z"
   },
   {
    "duration": 23,
    "start_time": "2023-09-23T00:52:33.336Z"
   },
   {
    "duration": 271,
    "start_time": "2023-09-23T00:52:33.361Z"
   },
   {
    "duration": 11,
    "start_time": "2023-09-23T00:52:33.634Z"
   },
   {
    "duration": 248,
    "start_time": "2023-09-23T00:52:33.647Z"
   },
   {
    "duration": 348,
    "start_time": "2023-09-23T00:52:33.897Z"
   },
   {
    "duration": 307,
    "start_time": "2023-09-23T00:52:34.248Z"
   },
   {
    "duration": 165,
    "start_time": "2023-09-23T00:53:24.823Z"
   },
   {
    "duration": 1521,
    "start_time": "2023-09-23T00:54:01.464Z"
   },
   {
    "duration": 61,
    "start_time": "2023-09-23T00:54:02.987Z"
   },
   {
    "duration": 75,
    "start_time": "2023-09-23T00:54:03.050Z"
   },
   {
    "duration": 43,
    "start_time": "2023-09-23T00:54:03.127Z"
   },
   {
    "duration": 34,
    "start_time": "2023-09-23T00:54:03.173Z"
   },
   {
    "duration": 26,
    "start_time": "2023-09-23T00:54:03.208Z"
   },
   {
    "duration": 26,
    "start_time": "2023-09-23T00:54:03.236Z"
   },
   {
    "duration": 31,
    "start_time": "2023-09-23T00:54:03.264Z"
   },
   {
    "duration": 36,
    "start_time": "2023-09-23T00:54:03.297Z"
   },
   {
    "duration": 48,
    "start_time": "2023-09-23T00:54:03.335Z"
   },
   {
    "duration": 291,
    "start_time": "2023-09-23T00:54:03.385Z"
   },
   {
    "duration": 8,
    "start_time": "2023-09-23T00:54:03.678Z"
   },
   {
    "duration": 345,
    "start_time": "2023-09-23T00:54:03.687Z"
   },
   {
    "duration": 186,
    "start_time": "2023-09-23T00:54:04.035Z"
   },
   {
    "duration": 360,
    "start_time": "2023-09-23T00:54:04.224Z"
   },
   {
    "duration": 293,
    "start_time": "2023-09-23T00:54:16.625Z"
   },
   {
    "duration": 349,
    "start_time": "2023-09-23T00:54:44.385Z"
   },
   {
    "duration": 198,
    "start_time": "2023-09-23T01:00:14.134Z"
   },
   {
    "duration": 1430,
    "start_time": "2023-09-23T01:18:42.045Z"
   },
   {
    "duration": 49,
    "start_time": "2023-09-23T01:18:43.477Z"
   },
   {
    "duration": 15,
    "start_time": "2023-09-23T01:18:43.529Z"
   },
   {
    "duration": 62,
    "start_time": "2023-09-23T01:18:43.546Z"
   },
   {
    "duration": 29,
    "start_time": "2023-09-23T01:18:43.611Z"
   },
   {
    "duration": 24,
    "start_time": "2023-09-23T01:18:43.641Z"
   },
   {
    "duration": 15,
    "start_time": "2023-09-23T01:18:43.667Z"
   },
   {
    "duration": 13,
    "start_time": "2023-09-23T01:18:43.683Z"
   },
   {
    "duration": 23,
    "start_time": "2023-09-23T01:18:43.698Z"
   },
   {
    "duration": 36,
    "start_time": "2023-09-23T01:18:43.723Z"
   },
   {
    "duration": 289,
    "start_time": "2023-09-23T01:18:43.761Z"
   },
   {
    "duration": 8,
    "start_time": "2023-09-23T01:18:44.052Z"
   },
   {
    "duration": 288,
    "start_time": "2023-09-23T01:18:44.062Z"
   },
   {
    "duration": 426,
    "start_time": "2023-09-23T01:18:44.352Z"
   },
   {
    "duration": 290,
    "start_time": "2023-09-23T01:18:44.780Z"
   },
   {
    "duration": 199,
    "start_time": "2023-09-23T01:18:45.072Z"
   },
   {
    "duration": 151,
    "start_time": "2023-09-23T01:18:45.273Z"
   },
   {
    "duration": 0,
    "start_time": "2023-09-23T01:18:45.425Z"
   },
   {
    "duration": 0,
    "start_time": "2023-09-23T01:18:45.427Z"
   },
   {
    "duration": 1475,
    "start_time": "2023-09-23T01:19:07.957Z"
   },
   {
    "duration": 45,
    "start_time": "2023-09-23T01:19:09.435Z"
   },
   {
    "duration": 31,
    "start_time": "2023-09-23T01:19:09.482Z"
   },
   {
    "duration": 27,
    "start_time": "2023-09-23T01:19:09.522Z"
   },
   {
    "duration": 48,
    "start_time": "2023-09-23T01:19:09.552Z"
   },
   {
    "duration": 66,
    "start_time": "2023-09-23T01:19:09.602Z"
   },
   {
    "duration": 24,
    "start_time": "2023-09-23T01:19:09.670Z"
   },
   {
    "duration": 61,
    "start_time": "2023-09-23T01:19:09.696Z"
   },
   {
    "duration": 13,
    "start_time": "2023-09-23T01:19:09.759Z"
   },
   {
    "duration": 36,
    "start_time": "2023-09-23T01:19:09.773Z"
   },
   {
    "duration": 303,
    "start_time": "2023-09-23T01:19:09.816Z"
   },
   {
    "duration": 8,
    "start_time": "2023-09-23T01:19:10.121Z"
   },
   {
    "duration": 288,
    "start_time": "2023-09-23T01:19:10.131Z"
   },
   {
    "duration": 377,
    "start_time": "2023-09-23T01:19:10.422Z"
   },
   {
    "duration": 271,
    "start_time": "2023-09-23T01:19:10.801Z"
   },
   {
    "duration": 196,
    "start_time": "2023-09-23T01:19:11.073Z"
   },
   {
    "duration": 34,
    "start_time": "2023-09-23T01:19:11.271Z"
   },
   {
    "duration": 126,
    "start_time": "2023-09-23T01:19:11.306Z"
   },
   {
    "duration": 858,
    "start_time": "2023-09-23T01:19:11.434Z"
   },
   {
    "duration": 18,
    "start_time": "2023-09-23T01:21:36.103Z"
   },
   {
    "duration": 1556,
    "start_time": "2023-09-23T01:21:54.873Z"
   },
   {
    "duration": 45,
    "start_time": "2023-09-23T01:21:56.431Z"
   },
   {
    "duration": 11,
    "start_time": "2023-09-23T01:21:56.477Z"
   },
   {
    "duration": 16,
    "start_time": "2023-09-23T01:21:56.490Z"
   },
   {
    "duration": 19,
    "start_time": "2023-09-23T01:21:56.508Z"
   },
   {
    "duration": 34,
    "start_time": "2023-09-23T01:21:56.530Z"
   },
   {
    "duration": 55,
    "start_time": "2023-09-23T01:21:56.566Z"
   },
   {
    "duration": 25,
    "start_time": "2023-09-23T01:21:56.623Z"
   },
   {
    "duration": 19,
    "start_time": "2023-09-23T01:21:56.650Z"
   },
   {
    "duration": 19,
    "start_time": "2023-09-23T01:21:56.671Z"
   },
   {
    "duration": 293,
    "start_time": "2023-09-23T01:21:56.692Z"
   },
   {
    "duration": 16,
    "start_time": "2023-09-23T01:21:56.986Z"
   },
   {
    "duration": 245,
    "start_time": "2023-09-23T01:21:57.007Z"
   },
   {
    "duration": 382,
    "start_time": "2023-09-23T01:21:57.256Z"
   },
   {
    "duration": 276,
    "start_time": "2023-09-23T01:21:57.640Z"
   },
   {
    "duration": 195,
    "start_time": "2023-09-23T01:21:57.918Z"
   },
   {
    "duration": 21,
    "start_time": "2023-09-23T01:21:58.115Z"
   },
   {
    "duration": 778,
    "start_time": "2023-09-23T01:21:58.137Z"
   },
   {
    "duration": 918,
    "start_time": "2023-09-23T01:21:58.920Z"
   },
   {
    "duration": 11,
    "start_time": "2023-09-23T01:21:59.840Z"
   },
   {
    "duration": 51,
    "start_time": "2023-09-23T01:21:59.853Z"
   },
   {
    "duration": 1484,
    "start_time": "2023-09-23T01:22:19.225Z"
   },
   {
    "duration": 47,
    "start_time": "2023-09-23T01:22:20.711Z"
   },
   {
    "duration": 11,
    "start_time": "2023-09-23T01:22:20.760Z"
   },
   {
    "duration": 23,
    "start_time": "2023-09-23T01:22:20.773Z"
   },
   {
    "duration": 32,
    "start_time": "2023-09-23T01:22:20.798Z"
   },
   {
    "duration": 35,
    "start_time": "2023-09-23T01:22:20.831Z"
   },
   {
    "duration": 31,
    "start_time": "2023-09-23T01:22:20.868Z"
   },
   {
    "duration": 29,
    "start_time": "2023-09-23T01:22:20.900Z"
   },
   {
    "duration": 26,
    "start_time": "2023-09-23T01:22:20.931Z"
   },
   {
    "duration": 14,
    "start_time": "2023-09-23T01:22:20.959Z"
   },
   {
    "duration": 282,
    "start_time": "2023-09-23T01:22:20.974Z"
   },
   {
    "duration": 8,
    "start_time": "2023-09-23T01:22:21.258Z"
   },
   {
    "duration": 274,
    "start_time": "2023-09-23T01:22:21.267Z"
   },
   {
    "duration": 354,
    "start_time": "2023-09-23T01:22:21.542Z"
   },
   {
    "duration": 260,
    "start_time": "2023-09-23T01:22:21.908Z"
   },
   {
    "duration": 193,
    "start_time": "2023-09-23T01:22:22.169Z"
   },
   {
    "duration": 19,
    "start_time": "2023-09-23T01:22:22.364Z"
   },
   {
    "duration": 135,
    "start_time": "2023-09-23T01:22:22.385Z"
   },
   {
    "duration": 762,
    "start_time": "2023-09-23T01:22:22.522Z"
   },
   {
    "duration": 27,
    "start_time": "2023-09-23T01:22:23.287Z"
   },
   {
    "duration": 37,
    "start_time": "2023-09-23T01:22:23.317Z"
   },
   {
    "duration": 1576,
    "start_time": "2023-09-23T01:24:43.929Z"
   },
   {
    "duration": 55,
    "start_time": "2023-09-23T01:24:45.508Z"
   },
   {
    "duration": 13,
    "start_time": "2023-09-23T01:24:45.565Z"
   },
   {
    "duration": 62,
    "start_time": "2023-09-23T01:24:45.580Z"
   },
   {
    "duration": 32,
    "start_time": "2023-09-23T01:24:45.645Z"
   },
   {
    "duration": 42,
    "start_time": "2023-09-23T01:24:45.679Z"
   },
   {
    "duration": 7,
    "start_time": "2023-09-23T01:24:45.723Z"
   },
   {
    "duration": 24,
    "start_time": "2023-09-23T01:24:45.732Z"
   },
   {
    "duration": 23,
    "start_time": "2023-09-23T01:24:45.757Z"
   },
   {
    "duration": 29,
    "start_time": "2023-09-23T01:24:45.782Z"
   },
   {
    "duration": 285,
    "start_time": "2023-09-23T01:24:45.813Z"
   },
   {
    "duration": 16,
    "start_time": "2023-09-23T01:24:46.100Z"
   },
   {
    "duration": 262,
    "start_time": "2023-09-23T01:24:46.117Z"
   },
   {
    "duration": 369,
    "start_time": "2023-09-23T01:24:46.382Z"
   },
   {
    "duration": 290,
    "start_time": "2023-09-23T01:24:46.753Z"
   },
   {
    "duration": 197,
    "start_time": "2023-09-23T01:24:47.045Z"
   },
   {
    "duration": 20,
    "start_time": "2023-09-23T01:24:47.244Z"
   },
   {
    "duration": 750,
    "start_time": "2023-09-23T01:24:47.265Z"
   },
   {
    "duration": 817,
    "start_time": "2023-09-23T01:24:48.017Z"
   },
   {
    "duration": 10,
    "start_time": "2023-09-23T01:24:48.837Z"
   },
   {
    "duration": 65,
    "start_time": "2023-09-23T01:24:48.849Z"
   },
   {
    "duration": 1489,
    "start_time": "2023-09-23T01:25:45.270Z"
   },
   {
    "duration": 47,
    "start_time": "2023-09-23T01:25:46.761Z"
   },
   {
    "duration": 12,
    "start_time": "2023-09-23T01:25:46.810Z"
   },
   {
    "duration": 24,
    "start_time": "2023-09-23T01:25:46.823Z"
   },
   {
    "duration": 26,
    "start_time": "2023-09-23T01:25:46.849Z"
   },
   {
    "duration": 22,
    "start_time": "2023-09-23T01:25:46.877Z"
   },
   {
    "duration": 18,
    "start_time": "2023-09-23T01:25:46.901Z"
   },
   {
    "duration": 10,
    "start_time": "2023-09-23T01:25:46.921Z"
   },
   {
    "duration": 21,
    "start_time": "2023-09-23T01:25:46.933Z"
   },
   {
    "duration": 24,
    "start_time": "2023-09-23T01:25:46.955Z"
   },
   {
    "duration": 301,
    "start_time": "2023-09-23T01:25:46.981Z"
   },
   {
    "duration": 20,
    "start_time": "2023-09-23T01:25:47.283Z"
   },
   {
    "duration": 253,
    "start_time": "2023-09-23T01:25:47.305Z"
   },
   {
    "duration": 353,
    "start_time": "2023-09-23T01:25:47.561Z"
   },
   {
    "duration": 256,
    "start_time": "2023-09-23T01:25:47.918Z"
   },
   {
    "duration": 188,
    "start_time": "2023-09-23T01:25:48.177Z"
   },
   {
    "duration": 20,
    "start_time": "2023-09-23T01:25:48.367Z"
   },
   {
    "duration": 827,
    "start_time": "2023-09-23T01:25:48.402Z"
   },
   {
    "duration": 761,
    "start_time": "2023-09-23T01:25:49.231Z"
   },
   {
    "duration": 116,
    "start_time": "2023-09-23T01:25:49.994Z"
   },
   {
    "duration": 0,
    "start_time": "2023-09-23T01:25:50.112Z"
   },
   {
    "duration": 1517,
    "start_time": "2023-09-23T01:26:12.295Z"
   },
   {
    "duration": 47,
    "start_time": "2023-09-23T01:26:13.814Z"
   },
   {
    "duration": 9,
    "start_time": "2023-09-23T01:26:13.863Z"
   },
   {
    "duration": 22,
    "start_time": "2023-09-23T01:26:13.874Z"
   },
   {
    "duration": 41,
    "start_time": "2023-09-23T01:26:13.898Z"
   },
   {
    "duration": 27,
    "start_time": "2023-09-23T01:26:13.941Z"
   },
   {
    "duration": 34,
    "start_time": "2023-09-23T01:26:13.970Z"
   },
   {
    "duration": 30,
    "start_time": "2023-09-23T01:26:14.015Z"
   },
   {
    "duration": 35,
    "start_time": "2023-09-23T01:26:14.047Z"
   },
   {
    "duration": 22,
    "start_time": "2023-09-23T01:26:14.083Z"
   },
   {
    "duration": 328,
    "start_time": "2023-09-23T01:26:14.108Z"
   },
   {
    "duration": 8,
    "start_time": "2023-09-23T01:26:14.437Z"
   },
   {
    "duration": 373,
    "start_time": "2023-09-23T01:26:14.447Z"
   },
   {
    "duration": 363,
    "start_time": "2023-09-23T01:26:14.824Z"
   },
   {
    "duration": 272,
    "start_time": "2023-09-23T01:26:15.189Z"
   },
   {
    "duration": 197,
    "start_time": "2023-09-23T01:26:15.463Z"
   },
   {
    "duration": 20,
    "start_time": "2023-09-23T01:26:15.662Z"
   },
   {
    "duration": 743,
    "start_time": "2023-09-23T01:26:15.684Z"
   },
   {
    "duration": 802,
    "start_time": "2023-09-23T01:26:16.429Z"
   },
   {
    "duration": 129,
    "start_time": "2023-09-23T01:26:17.233Z"
   },
   {
    "duration": 0,
    "start_time": "2023-09-23T01:26:17.363Z"
   },
   {
    "duration": 1522,
    "start_time": "2023-09-23T01:26:34.823Z"
   },
   {
    "duration": 44,
    "start_time": "2023-09-23T01:26:36.346Z"
   },
   {
    "duration": 77,
    "start_time": "2023-09-23T01:26:36.392Z"
   },
   {
    "duration": 199,
    "start_time": "2023-09-23T01:26:36.471Z"
   },
   {
    "duration": 27,
    "start_time": "2023-09-23T01:26:36.672Z"
   },
   {
    "duration": 41,
    "start_time": "2023-09-23T01:26:36.701Z"
   },
   {
    "duration": 35,
    "start_time": "2023-09-23T01:26:36.744Z"
   },
   {
    "duration": 15,
    "start_time": "2023-09-23T01:26:36.781Z"
   },
   {
    "duration": 21,
    "start_time": "2023-09-23T01:26:36.798Z"
   },
   {
    "duration": 21,
    "start_time": "2023-09-23T01:26:36.821Z"
   },
   {
    "duration": 297,
    "start_time": "2023-09-23T01:26:36.844Z"
   },
   {
    "duration": 8,
    "start_time": "2023-09-23T01:26:37.143Z"
   },
   {
    "duration": 295,
    "start_time": "2023-09-23T01:26:37.152Z"
   },
   {
    "duration": 351,
    "start_time": "2023-09-23T01:26:37.450Z"
   },
   {
    "duration": 258,
    "start_time": "2023-09-23T01:26:37.805Z"
   },
   {
    "duration": 185,
    "start_time": "2023-09-23T01:26:38.065Z"
   },
   {
    "duration": 19,
    "start_time": "2023-09-23T01:26:38.252Z"
   },
   {
    "duration": 737,
    "start_time": "2023-09-23T01:26:38.273Z"
   },
   {
    "duration": 743,
    "start_time": "2023-09-23T01:26:39.015Z"
   },
   {
    "duration": 9,
    "start_time": "2023-09-23T01:26:39.760Z"
   },
   {
    "duration": 35,
    "start_time": "2023-09-23T01:26:39.771Z"
   },
   {
    "duration": 1528,
    "start_time": "2023-09-23T01:29:08.535Z"
   },
   {
    "duration": 49,
    "start_time": "2023-09-23T01:29:10.065Z"
   },
   {
    "duration": 14,
    "start_time": "2023-09-23T01:29:10.117Z"
   },
   {
    "duration": 36,
    "start_time": "2023-09-23T01:29:10.133Z"
   },
   {
    "duration": 26,
    "start_time": "2023-09-23T01:29:10.172Z"
   },
   {
    "duration": 19,
    "start_time": "2023-09-23T01:29:10.200Z"
   },
   {
    "duration": 20,
    "start_time": "2023-09-23T01:29:10.221Z"
   },
   {
    "duration": 6,
    "start_time": "2023-09-23T01:29:10.243Z"
   },
   {
    "duration": 11,
    "start_time": "2023-09-23T01:29:10.251Z"
   },
   {
    "duration": 18,
    "start_time": "2023-09-23T01:29:10.264Z"
   },
   {
    "duration": 302,
    "start_time": "2023-09-23T01:29:10.284Z"
   },
   {
    "duration": 26,
    "start_time": "2023-09-23T01:29:10.589Z"
   },
   {
    "duration": 292,
    "start_time": "2023-09-23T01:29:10.618Z"
   },
   {
    "duration": 361,
    "start_time": "2023-09-23T01:29:10.913Z"
   },
   {
    "duration": 279,
    "start_time": "2023-09-23T01:29:11.276Z"
   },
   {
    "duration": 219,
    "start_time": "2023-09-23T01:29:11.557Z"
   },
   {
    "duration": 40,
    "start_time": "2023-09-23T01:29:11.778Z"
   },
   {
    "duration": 6991,
    "start_time": "2023-09-23T01:29:11.820Z"
   },
   {
    "duration": 1335,
    "start_time": "2023-09-23T01:29:18.822Z"
   },
   {
    "duration": 46,
    "start_time": "2023-09-23T01:29:20.159Z"
   },
   {
    "duration": 19,
    "start_time": "2023-09-23T01:29:20.207Z"
   },
   {
    "duration": 1556,
    "start_time": "2023-09-23T01:29:40.995Z"
   },
   {
    "duration": 45,
    "start_time": "2023-09-23T01:29:42.553Z"
   },
   {
    "duration": 23,
    "start_time": "2023-09-23T01:29:42.600Z"
   },
   {
    "duration": 31,
    "start_time": "2023-09-23T01:29:42.625Z"
   },
   {
    "duration": 31,
    "start_time": "2023-09-23T01:29:42.658Z"
   },
   {
    "duration": 47,
    "start_time": "2023-09-23T01:29:42.691Z"
   },
   {
    "duration": 42,
    "start_time": "2023-09-23T01:29:42.740Z"
   },
   {
    "duration": 4,
    "start_time": "2023-09-23T01:29:42.784Z"
   },
   {
    "duration": 9,
    "start_time": "2023-09-23T01:29:42.790Z"
   },
   {
    "duration": 21,
    "start_time": "2023-09-23T01:29:42.803Z"
   },
   {
    "duration": 297,
    "start_time": "2023-09-23T01:29:42.826Z"
   },
   {
    "duration": 10,
    "start_time": "2023-09-23T01:29:43.125Z"
   },
   {
    "duration": 287,
    "start_time": "2023-09-23T01:29:43.138Z"
   },
   {
    "duration": 364,
    "start_time": "2023-09-23T01:29:43.428Z"
   },
   {
    "duration": 284,
    "start_time": "2023-09-23T01:29:43.794Z"
   },
   {
    "duration": 205,
    "start_time": "2023-09-23T01:29:44.080Z"
   },
   {
    "duration": 41,
    "start_time": "2023-09-23T01:29:44.287Z"
   },
   {
    "duration": 5472,
    "start_time": "2023-09-23T01:29:44.331Z"
   },
   {
    "duration": 1014,
    "start_time": "2023-09-23T01:29:49.806Z"
   },
   {
    "duration": 12,
    "start_time": "2023-09-23T01:29:50.822Z"
   },
   {
    "duration": 200,
    "start_time": "2023-09-23T01:29:50.837Z"
   },
   {
    "duration": 1675,
    "start_time": "2023-09-23T01:30:06.287Z"
   },
   {
    "duration": 50,
    "start_time": "2023-09-23T01:30:07.964Z"
   },
   {
    "duration": 80,
    "start_time": "2023-09-23T01:30:08.020Z"
   },
   {
    "duration": 55,
    "start_time": "2023-09-23T01:30:08.102Z"
   },
   {
    "duration": 50,
    "start_time": "2023-09-23T01:30:08.159Z"
   },
   {
    "duration": 43,
    "start_time": "2023-09-23T01:30:08.211Z"
   },
   {
    "duration": 100,
    "start_time": "2023-09-23T01:30:08.255Z"
   },
   {
    "duration": 109,
    "start_time": "2023-09-23T01:30:08.357Z"
   },
   {
    "duration": 17,
    "start_time": "2023-09-23T01:30:08.468Z"
   },
   {
    "duration": 36,
    "start_time": "2023-09-23T01:30:08.486Z"
   },
   {
    "duration": 344,
    "start_time": "2023-09-23T01:30:08.524Z"
   },
   {
    "duration": 9,
    "start_time": "2023-09-23T01:30:08.870Z"
   },
   {
    "duration": 279,
    "start_time": "2023-09-23T01:30:08.883Z"
   },
   {
    "duration": 370,
    "start_time": "2023-09-23T01:30:09.165Z"
   },
   {
    "duration": 282,
    "start_time": "2023-09-23T01:30:09.538Z"
   },
   {
    "duration": 200,
    "start_time": "2023-09-23T01:30:09.823Z"
   },
   {
    "duration": 19,
    "start_time": "2023-09-23T01:30:10.025Z"
   },
   {
    "duration": 698,
    "start_time": "2023-09-23T01:30:10.047Z"
   },
   {
    "duration": 590,
    "start_time": "2023-09-23T01:30:10.802Z"
   },
   {
    "duration": 27,
    "start_time": "2023-09-23T01:30:11.395Z"
   },
   {
    "duration": 13,
    "start_time": "2023-09-23T01:30:11.426Z"
   },
   {
    "duration": 1546,
    "start_time": "2023-09-23T01:31:08.925Z"
   },
   {
    "duration": 50,
    "start_time": "2023-09-23T01:31:10.473Z"
   },
   {
    "duration": 11,
    "start_time": "2023-09-23T01:31:10.525Z"
   },
   {
    "duration": 31,
    "start_time": "2023-09-23T01:31:10.537Z"
   },
   {
    "duration": 18,
    "start_time": "2023-09-23T01:31:10.573Z"
   },
   {
    "duration": 23,
    "start_time": "2023-09-23T01:31:10.593Z"
   },
   {
    "duration": 11,
    "start_time": "2023-09-23T01:31:10.621Z"
   },
   {
    "duration": 5,
    "start_time": "2023-09-23T01:31:10.633Z"
   },
   {
    "duration": 23,
    "start_time": "2023-09-23T01:31:10.639Z"
   },
   {
    "duration": 25,
    "start_time": "2023-09-23T01:31:10.664Z"
   },
   {
    "duration": 301,
    "start_time": "2023-09-23T01:31:10.691Z"
   },
   {
    "duration": 21,
    "start_time": "2023-09-23T01:31:10.994Z"
   },
   {
    "duration": 241,
    "start_time": "2023-09-23T01:31:11.021Z"
   },
   {
    "duration": 380,
    "start_time": "2023-09-23T01:31:11.265Z"
   },
   {
    "duration": 288,
    "start_time": "2023-09-23T01:31:11.647Z"
   },
   {
    "duration": 194,
    "start_time": "2023-09-23T01:31:11.937Z"
   },
   {
    "duration": 20,
    "start_time": "2023-09-23T01:31:12.133Z"
   },
   {
    "duration": 1381,
    "start_time": "2023-09-23T01:31:12.154Z"
   },
   {
    "duration": 828,
    "start_time": "2023-09-23T01:31:13.601Z"
   },
   {
    "duration": 162,
    "start_time": "2023-09-23T01:31:14.430Z"
   },
   {
    "duration": 0,
    "start_time": "2023-09-23T01:31:14.602Z"
   },
   {
    "duration": 0,
    "start_time": "2023-09-23T01:31:14.604Z"
   },
   {
    "duration": 1577,
    "start_time": "2023-09-23T01:32:20.947Z"
   },
   {
    "duration": 48,
    "start_time": "2023-09-23T01:32:22.526Z"
   },
   {
    "duration": 158,
    "start_time": "2023-09-23T01:32:22.576Z"
   },
   {
    "duration": 54,
    "start_time": "2023-09-23T01:32:22.737Z"
   },
   {
    "duration": 62,
    "start_time": "2023-09-23T01:32:22.794Z"
   },
   {
    "duration": 76,
    "start_time": "2023-09-23T01:32:22.858Z"
   },
   {
    "duration": 28,
    "start_time": "2023-09-23T01:32:22.937Z"
   },
   {
    "duration": 39,
    "start_time": "2023-09-23T01:32:22.968Z"
   },
   {
    "duration": 26,
    "start_time": "2023-09-23T01:32:23.011Z"
   },
   {
    "duration": 41,
    "start_time": "2023-09-23T01:32:23.041Z"
   },
   {
    "duration": 341,
    "start_time": "2023-09-23T01:32:23.085Z"
   },
   {
    "duration": 9,
    "start_time": "2023-09-23T01:32:23.428Z"
   },
   {
    "duration": 293,
    "start_time": "2023-09-23T01:32:23.439Z"
   },
   {
    "duration": 387,
    "start_time": "2023-09-23T01:32:23.734Z"
   },
   {
    "duration": 288,
    "start_time": "2023-09-23T01:32:24.123Z"
   },
   {
    "duration": 543,
    "start_time": "2023-09-23T01:32:24.414Z"
   },
   {
    "duration": 26,
    "start_time": "2023-09-23T01:32:24.959Z"
   },
   {
    "duration": 1729,
    "start_time": "2023-09-23T01:32:24.987Z"
   },
   {
    "duration": 901,
    "start_time": "2023-09-23T01:32:26.722Z"
   },
   {
    "duration": 1677759,
    "start_time": "2023-09-23T01:32:27.625Z"
   },
   {
    "duration": 1587,
    "start_time": "2023-09-23T02:01:17.960Z"
   },
   {
    "duration": 48,
    "start_time": "2023-09-23T02:01:19.549Z"
   },
   {
    "duration": 23,
    "start_time": "2023-09-23T02:01:19.599Z"
   },
   {
    "duration": 16,
    "start_time": "2023-09-23T02:01:19.625Z"
   },
   {
    "duration": 34,
    "start_time": "2023-09-23T02:01:19.644Z"
   },
   {
    "duration": 25,
    "start_time": "2023-09-23T02:01:19.679Z"
   },
   {
    "duration": 15,
    "start_time": "2023-09-23T02:01:19.706Z"
   },
   {
    "duration": 28,
    "start_time": "2023-09-23T02:01:19.723Z"
   },
   {
    "duration": 46,
    "start_time": "2023-09-23T02:01:19.753Z"
   },
   {
    "duration": 29,
    "start_time": "2023-09-23T02:01:19.803Z"
   },
   {
    "duration": 297,
    "start_time": "2023-09-23T02:01:19.834Z"
   },
   {
    "duration": 8,
    "start_time": "2023-09-23T02:01:20.133Z"
   },
   {
    "duration": 281,
    "start_time": "2023-09-23T02:01:20.143Z"
   },
   {
    "duration": 379,
    "start_time": "2023-09-23T02:01:20.426Z"
   },
   {
    "duration": 281,
    "start_time": "2023-09-23T02:01:20.813Z"
   },
   {
    "duration": 202,
    "start_time": "2023-09-23T02:01:21.096Z"
   },
   {
    "duration": 57,
    "start_time": "2023-09-23T02:01:21.299Z"
   },
   {
    "duration": 11254,
    "start_time": "2023-09-23T02:01:21.358Z"
   },
   {
    "duration": 2551,
    "start_time": "2023-09-23T02:01:32.621Z"
   },
   {
    "duration": 156,
    "start_time": "2023-09-23T02:01:48.273Z"
   },
   {
    "duration": 6,
    "start_time": "2023-09-23T02:01:59.231Z"
   },
   {
    "duration": 3879,
    "start_time": "2023-09-23T06:10:32.355Z"
   },
   {
    "duration": 113,
    "start_time": "2023-09-23T06:10:36.236Z"
   },
   {
    "duration": 12,
    "start_time": "2023-09-23T06:10:36.350Z"
   },
   {
    "duration": 25,
    "start_time": "2023-09-23T06:10:36.365Z"
   },
   {
    "duration": 32,
    "start_time": "2023-09-23T06:10:36.392Z"
   },
   {
    "duration": 22,
    "start_time": "2023-09-23T06:10:36.425Z"
   },
   {
    "duration": 15,
    "start_time": "2023-09-23T06:10:36.449Z"
   },
   {
    "duration": 23,
    "start_time": "2023-09-23T06:10:36.465Z"
   },
   {
    "duration": 28,
    "start_time": "2023-09-23T06:10:36.490Z"
   },
   {
    "duration": 20,
    "start_time": "2023-09-23T06:10:36.520Z"
   },
   {
    "duration": 243,
    "start_time": "2023-09-23T06:10:36.542Z"
   },
   {
    "duration": 7,
    "start_time": "2023-09-23T06:10:36.787Z"
   },
   {
    "duration": 216,
    "start_time": "2023-09-23T06:10:36.795Z"
   },
   {
    "duration": 300,
    "start_time": "2023-09-23T06:10:37.013Z"
   },
   {
    "duration": 214,
    "start_time": "2023-09-23T06:10:37.315Z"
   },
   {
    "duration": 153,
    "start_time": "2023-09-23T06:10:37.530Z"
   },
   {
    "duration": 37,
    "start_time": "2023-09-23T06:10:37.685Z"
   },
   {
    "duration": 370,
    "start_time": "2023-09-23T06:10:37.724Z"
   },
   {
    "duration": 1773,
    "start_time": "2023-09-23T22:22:50.519Z"
   },
   {
    "duration": 113,
    "start_time": "2023-09-23T22:22:52.294Z"
   },
   {
    "duration": 1538,
    "start_time": "2023-09-23T22:23:58.483Z"
   },
   {
    "duration": 47,
    "start_time": "2023-09-23T22:24:00.023Z"
   },
   {
    "duration": 32,
    "start_time": "2023-09-23T22:24:00.071Z"
   },
   {
    "duration": 47,
    "start_time": "2023-09-23T22:24:00.106Z"
   },
   {
    "duration": 37,
    "start_time": "2023-09-23T22:24:00.155Z"
   },
   {
    "duration": 62,
    "start_time": "2023-09-23T22:24:00.193Z"
   },
   {
    "duration": 57,
    "start_time": "2023-09-23T22:24:00.256Z"
   },
   {
    "duration": 31,
    "start_time": "2023-09-23T22:24:00.315Z"
   },
   {
    "duration": 29,
    "start_time": "2023-09-23T22:24:00.348Z"
   },
   {
    "duration": 51,
    "start_time": "2023-09-23T22:24:00.379Z"
   },
   {
    "duration": 292,
    "start_time": "2023-09-23T22:24:00.432Z"
   },
   {
    "duration": 8,
    "start_time": "2023-09-23T22:24:00.726Z"
   },
   {
    "duration": 303,
    "start_time": "2023-09-23T22:24:00.735Z"
   },
   {
    "duration": 353,
    "start_time": "2023-09-23T22:24:01.040Z"
   },
   {
    "duration": 286,
    "start_time": "2023-09-23T22:24:01.395Z"
   },
   {
    "duration": 197,
    "start_time": "2023-09-23T22:24:01.683Z"
   },
   {
    "duration": 63,
    "start_time": "2023-09-23T22:24:01.882Z"
   },
   {
    "duration": 394,
    "start_time": "2023-09-23T22:24:01.947Z"
   },
   {
    "duration": 13271,
    "start_time": "2023-09-23T22:24:02.343Z"
   },
   {
    "duration": 2463,
    "start_time": "2023-09-23T22:24:15.617Z"
   },
   {
    "duration": 221,
    "start_time": "2023-09-23T22:24:18.082Z"
   },
   {
    "duration": 6,
    "start_time": "2023-09-23T22:24:18.305Z"
   },
   {
    "duration": 2312,
    "start_time": "2023-09-23T22:25:39.958Z"
   },
   {
    "duration": 1570,
    "start_time": "2023-09-23T22:25:53.212Z"
   },
   {
    "duration": 46,
    "start_time": "2023-09-23T22:25:54.784Z"
   },
   {
    "duration": 16,
    "start_time": "2023-09-23T22:25:54.833Z"
   },
   {
    "duration": 48,
    "start_time": "2023-09-23T22:25:54.852Z"
   },
   {
    "duration": 20,
    "start_time": "2023-09-23T22:25:54.903Z"
   },
   {
    "duration": 31,
    "start_time": "2023-09-23T22:25:54.925Z"
   },
   {
    "duration": 10,
    "start_time": "2023-09-23T22:25:54.958Z"
   },
   {
    "duration": 27,
    "start_time": "2023-09-23T22:25:54.970Z"
   },
   {
    "duration": 17,
    "start_time": "2023-09-23T22:25:54.998Z"
   },
   {
    "duration": 22,
    "start_time": "2023-09-23T22:25:55.017Z"
   },
   {
    "duration": 321,
    "start_time": "2023-09-23T22:25:55.041Z"
   },
   {
    "duration": 8,
    "start_time": "2023-09-23T22:25:55.364Z"
   },
   {
    "duration": 273,
    "start_time": "2023-09-23T22:25:55.374Z"
   },
   {
    "duration": 367,
    "start_time": "2023-09-23T22:25:55.648Z"
   },
   {
    "duration": 261,
    "start_time": "2023-09-23T22:25:56.017Z"
   },
   {
    "duration": 188,
    "start_time": "2023-09-23T22:25:56.279Z"
   },
   {
    "duration": 54,
    "start_time": "2023-09-23T22:25:56.468Z"
   },
   {
    "duration": 365,
    "start_time": "2023-09-23T22:25:56.523Z"
   },
   {
    "duration": 10413,
    "start_time": "2023-09-23T22:25:56.890Z"
   },
   {
    "duration": 2332,
    "start_time": "2023-09-23T22:26:07.305Z"
   },
   {
    "duration": 67,
    "start_time": "2023-09-23T22:26:09.639Z"
   },
   {
    "duration": 106,
    "start_time": "2023-09-23T22:26:09.708Z"
   },
   {
    "duration": 1373,
    "start_time": "2023-09-23T22:32:08.459Z"
   },
   {
    "duration": 44,
    "start_time": "2023-09-23T22:32:09.834Z"
   },
   {
    "duration": 14,
    "start_time": "2023-09-23T22:32:09.880Z"
   },
   {
    "duration": 17,
    "start_time": "2023-09-23T22:32:09.897Z"
   },
   {
    "duration": 12,
    "start_time": "2023-09-23T22:32:09.916Z"
   },
   {
    "duration": 41,
    "start_time": "2023-09-23T22:32:09.929Z"
   },
   {
    "duration": 15,
    "start_time": "2023-09-23T22:32:09.972Z"
   },
   {
    "duration": 14,
    "start_time": "2023-09-23T22:32:09.989Z"
   },
   {
    "duration": 37,
    "start_time": "2023-09-23T22:32:10.005Z"
   },
   {
    "duration": 36,
    "start_time": "2023-09-23T22:32:10.045Z"
   },
   {
    "duration": 290,
    "start_time": "2023-09-23T22:32:10.082Z"
   },
   {
    "duration": 8,
    "start_time": "2023-09-23T22:32:10.374Z"
   },
   {
    "duration": 294,
    "start_time": "2023-09-23T22:32:10.384Z"
   },
   {
    "duration": 349,
    "start_time": "2023-09-23T22:32:10.680Z"
   },
   {
    "duration": 270,
    "start_time": "2023-09-23T22:32:11.031Z"
   },
   {
    "duration": 271,
    "start_time": "2023-09-23T22:32:11.303Z"
   },
   {
    "duration": 50,
    "start_time": "2023-09-23T22:32:11.576Z"
   },
   {
    "duration": 391,
    "start_time": "2023-09-23T22:32:11.628Z"
   },
   {
    "duration": 10087,
    "start_time": "2023-09-23T22:32:12.021Z"
   },
   {
    "duration": 2548,
    "start_time": "2023-09-23T22:32:22.111Z"
   },
   {
    "duration": 147,
    "start_time": "2023-09-23T22:32:24.661Z"
   },
   {
    "duration": 106,
    "start_time": "2023-09-23T22:32:24.811Z"
   },
   {
    "duration": 1493,
    "start_time": "2023-09-23T22:32:53.928Z"
   },
   {
    "duration": 46,
    "start_time": "2023-09-23T22:32:55.423Z"
   },
   {
    "duration": 35,
    "start_time": "2023-09-23T22:32:55.470Z"
   },
   {
    "duration": 76,
    "start_time": "2023-09-23T22:32:55.507Z"
   },
   {
    "duration": 17,
    "start_time": "2023-09-23T22:32:55.586Z"
   },
   {
    "duration": 33,
    "start_time": "2023-09-23T22:32:55.605Z"
   },
   {
    "duration": 25,
    "start_time": "2023-09-23T22:32:55.641Z"
   },
   {
    "duration": 16,
    "start_time": "2023-09-23T22:32:55.668Z"
   },
   {
    "duration": 16,
    "start_time": "2023-09-23T22:32:55.686Z"
   },
   {
    "duration": 32,
    "start_time": "2023-09-23T22:32:55.703Z"
   },
   {
    "duration": 291,
    "start_time": "2023-09-23T22:32:55.737Z"
   },
   {
    "duration": 7,
    "start_time": "2023-09-23T22:32:56.030Z"
   },
   {
    "duration": 264,
    "start_time": "2023-09-23T22:32:56.039Z"
   },
   {
    "duration": 376,
    "start_time": "2023-09-23T22:32:56.306Z"
   },
   {
    "duration": 261,
    "start_time": "2023-09-23T22:32:56.684Z"
   },
   {
    "duration": 191,
    "start_time": "2023-09-23T22:32:56.947Z"
   },
   {
    "duration": 165,
    "start_time": "2023-09-23T22:32:57.140Z"
   },
   {
    "duration": 0,
    "start_time": "2023-09-23T22:32:57.306Z"
   },
   {
    "duration": 0,
    "start_time": "2023-09-23T22:32:57.308Z"
   },
   {
    "duration": 0,
    "start_time": "2023-09-23T22:32:57.309Z"
   },
   {
    "duration": 0,
    "start_time": "2023-09-23T22:32:57.311Z"
   },
   {
    "duration": 0,
    "start_time": "2023-09-23T22:32:57.312Z"
   },
   {
    "duration": 0,
    "start_time": "2023-09-23T22:32:57.314Z"
   },
   {
    "duration": 1403,
    "start_time": "2023-09-23T22:34:10.732Z"
   },
   {
    "duration": 45,
    "start_time": "2023-09-23T22:34:12.137Z"
   },
   {
    "duration": 12,
    "start_time": "2023-09-23T22:34:12.184Z"
   },
   {
    "duration": 22,
    "start_time": "2023-09-23T22:34:12.198Z"
   },
   {
    "duration": 19,
    "start_time": "2023-09-23T22:34:12.222Z"
   },
   {
    "duration": 19,
    "start_time": "2023-09-23T22:34:12.242Z"
   },
   {
    "duration": 20,
    "start_time": "2023-09-23T22:34:12.264Z"
   },
   {
    "duration": 12,
    "start_time": "2023-09-23T22:34:12.286Z"
   },
   {
    "duration": 8,
    "start_time": "2023-09-23T22:34:12.300Z"
   },
   {
    "duration": 23,
    "start_time": "2023-09-23T22:34:12.312Z"
   },
   {
    "duration": 3,
    "start_time": "2023-09-23T22:34:12.336Z"
   },
   {
    "duration": 303,
    "start_time": "2023-09-23T22:34:12.341Z"
   },
   {
    "duration": 8,
    "start_time": "2023-09-23T22:34:12.645Z"
   },
   {
    "duration": 253,
    "start_time": "2023-09-23T22:34:12.654Z"
   },
   {
    "duration": 337,
    "start_time": "2023-09-23T22:34:12.909Z"
   },
   {
    "duration": 265,
    "start_time": "2023-09-23T22:34:13.248Z"
   },
   {
    "duration": 188,
    "start_time": "2023-09-23T22:34:13.515Z"
   },
   {
    "duration": 163,
    "start_time": "2023-09-23T22:34:13.705Z"
   },
   {
    "duration": 0,
    "start_time": "2023-09-23T22:34:13.870Z"
   },
   {
    "duration": 0,
    "start_time": "2023-09-23T22:34:13.871Z"
   },
   {
    "duration": 0,
    "start_time": "2023-09-23T22:34:13.872Z"
   },
   {
    "duration": 1,
    "start_time": "2023-09-23T22:34:13.873Z"
   },
   {
    "duration": 0,
    "start_time": "2023-09-23T22:34:13.875Z"
   },
   {
    "duration": 0,
    "start_time": "2023-09-23T22:34:13.876Z"
   },
   {
    "duration": 1473,
    "start_time": "2023-09-23T22:34:25.093Z"
   },
   {
    "duration": 45,
    "start_time": "2023-09-23T22:34:26.568Z"
   },
   {
    "duration": 12,
    "start_time": "2023-09-23T22:34:26.615Z"
   },
   {
    "duration": 28,
    "start_time": "2023-09-23T22:34:26.629Z"
   },
   {
    "duration": 23,
    "start_time": "2023-09-23T22:34:26.659Z"
   },
   {
    "duration": 19,
    "start_time": "2023-09-23T22:34:26.683Z"
   },
   {
    "duration": 16,
    "start_time": "2023-09-23T22:34:26.704Z"
   },
   {
    "duration": 10,
    "start_time": "2023-09-23T22:34:26.721Z"
   },
   {
    "duration": 18,
    "start_time": "2023-09-23T22:34:26.733Z"
   },
   {
    "duration": 33,
    "start_time": "2023-09-23T22:34:26.753Z"
   },
   {
    "duration": 12,
    "start_time": "2023-09-23T22:34:26.788Z"
   },
   {
    "duration": 302,
    "start_time": "2023-09-23T22:34:26.801Z"
   },
   {
    "duration": 8,
    "start_time": "2023-09-23T22:34:27.105Z"
   },
   {
    "duration": 264,
    "start_time": "2023-09-23T22:34:27.115Z"
   },
   {
    "duration": 342,
    "start_time": "2023-09-23T22:34:27.380Z"
   },
   {
    "duration": 268,
    "start_time": "2023-09-23T22:34:27.724Z"
   },
   {
    "duration": 185,
    "start_time": "2023-09-23T22:34:27.994Z"
   },
   {
    "duration": 301,
    "start_time": "2023-09-23T22:34:28.181Z"
   },
   {
    "duration": 45,
    "start_time": "2023-09-23T22:34:28.484Z"
   },
   {
    "duration": 386,
    "start_time": "2023-09-23T22:34:28.531Z"
   },
   {
    "duration": 10384,
    "start_time": "2023-09-23T22:34:28.918Z"
   },
   {
    "duration": 2334,
    "start_time": "2023-09-23T22:34:39.305Z"
   },
   {
    "duration": 65,
    "start_time": "2023-09-23T22:34:41.641Z"
   },
   {
    "duration": 97,
    "start_time": "2023-09-23T22:34:41.710Z"
   },
   {
    "duration": 1532,
    "start_time": "2023-09-23T22:46:00.787Z"
   },
   {
    "duration": 46,
    "start_time": "2023-09-23T22:46:02.322Z"
   },
   {
    "duration": 52,
    "start_time": "2023-09-23T22:46:02.371Z"
   },
   {
    "duration": 264,
    "start_time": "2023-09-23T22:46:02.426Z"
   },
   {
    "duration": 82,
    "start_time": "2023-09-23T22:46:02.692Z"
   },
   {
    "duration": 54,
    "start_time": "2023-09-23T22:46:02.776Z"
   },
   {
    "duration": 36,
    "start_time": "2023-09-23T22:46:02.832Z"
   },
   {
    "duration": 26,
    "start_time": "2023-09-23T22:46:02.870Z"
   },
   {
    "duration": 24,
    "start_time": "2023-09-23T22:46:02.897Z"
   },
   {
    "duration": 86,
    "start_time": "2023-09-23T22:46:02.925Z"
   },
   {
    "duration": 304,
    "start_time": "2023-09-23T22:46:03.014Z"
   },
   {
    "duration": 8,
    "start_time": "2023-09-23T22:46:03.320Z"
   },
   {
    "duration": 391,
    "start_time": "2023-09-23T22:46:03.330Z"
   },
   {
    "duration": 375,
    "start_time": "2023-09-23T22:46:03.723Z"
   },
   {
    "duration": 278,
    "start_time": "2023-09-23T22:46:04.099Z"
   },
   {
    "duration": 205,
    "start_time": "2023-09-23T22:46:04.378Z"
   },
   {
    "duration": 65,
    "start_time": "2023-09-23T22:46:04.585Z"
   },
   {
    "duration": 352,
    "start_time": "2023-09-23T22:46:04.652Z"
   },
   {
    "duration": 10214,
    "start_time": "2023-09-23T22:46:05.006Z"
   },
   {
    "duration": 2419,
    "start_time": "2023-09-23T22:46:15.309Z"
   },
   {
    "duration": 183,
    "start_time": "2023-09-23T22:46:17.730Z"
   },
   {
    "duration": 8,
    "start_time": "2023-09-23T22:46:17.918Z"
   },
   {
    "duration": 1607,
    "start_time": "2023-09-23T22:46:56.573Z"
   },
   {
    "duration": 53,
    "start_time": "2023-09-23T22:48:07.367Z"
   },
   {
    "duration": 4,
    "start_time": "2023-09-23T22:59:58.484Z"
   },
   {
    "duration": 1456,
    "start_time": "2023-09-23T23:00:08.450Z"
   },
   {
    "duration": 45,
    "start_time": "2023-09-23T23:00:09.908Z"
   },
   {
    "duration": 767,
    "start_time": "2023-09-23T23:00:09.955Z"
   },
   {
    "duration": 463,
    "start_time": "2023-09-23T23:00:10.724Z"
   },
   {
    "duration": 134,
    "start_time": "2023-09-23T23:00:11.189Z"
   },
   {
    "duration": 70,
    "start_time": "2023-09-23T23:00:11.324Z"
   },
   {
    "duration": 101,
    "start_time": "2023-09-23T23:00:11.396Z"
   },
   {
    "duration": 63,
    "start_time": "2023-09-23T23:00:11.499Z"
   },
   {
    "duration": 52,
    "start_time": "2023-09-23T23:00:11.564Z"
   },
   {
    "duration": 39,
    "start_time": "2023-09-23T23:00:11.623Z"
   },
   {
    "duration": 349,
    "start_time": "2023-09-23T23:00:11.664Z"
   },
   {
    "duration": 8,
    "start_time": "2023-09-23T23:00:12.016Z"
   },
   {
    "duration": 282,
    "start_time": "2023-09-23T23:00:12.026Z"
   },
   {
    "duration": 366,
    "start_time": "2023-09-23T23:00:12.315Z"
   },
   {
    "duration": 263,
    "start_time": "2023-09-23T23:00:12.683Z"
   },
   {
    "duration": 188,
    "start_time": "2023-09-23T23:00:12.948Z"
   },
   {
    "duration": 45,
    "start_time": "2023-09-23T23:00:13.138Z"
   },
   {
    "duration": 444,
    "start_time": "2023-09-23T23:00:13.185Z"
   },
   {
    "duration": 10076,
    "start_time": "2023-09-23T23:00:13.631Z"
   },
   {
    "duration": 1971,
    "start_time": "2023-09-23T23:00:23.710Z"
   },
   {
    "duration": 221,
    "start_time": "2023-09-23T23:00:25.683Z"
   },
   {
    "duration": 9,
    "start_time": "2023-09-23T23:00:25.907Z"
   }
  ],
  "kernelspec": {
   "display_name": "Python 3 (ipykernel)",
   "language": "python",
   "name": "python3"
  },
  "language_info": {
   "codemirror_mode": {
    "name": "ipython",
    "version": 3
   },
   "file_extension": ".py",
   "mimetype": "text/x-python",
   "name": "python",
   "nbconvert_exporter": "python",
   "pygments_lexer": "ipython3",
   "version": "3.9.5"
  },
  "toc": {
   "base_numbering": 1,
   "nav_menu": {},
   "number_sections": true,
   "sideBar": true,
   "skip_h1_title": true,
   "title_cell": "Содержание",
   "title_sidebar": "Contents",
   "toc_cell": true,
   "toc_position": {},
   "toc_section_display": true,
   "toc_window_display": false
  }
 },
 "nbformat": 4,
 "nbformat_minor": 2
}

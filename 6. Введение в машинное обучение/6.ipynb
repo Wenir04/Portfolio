{
 "cells": [
  {
   "cell_type": "markdown",
   "metadata": {},
   "source": [
    "# Рекомендация тарифов"
   ]
  },
  {
   "cell_type": "markdown",
   "metadata": {},
   "source": [
    "В вашем распоряжении данные о поведении клиентов, которые уже перешли на эти тарифы (из проекта курса «Статистический анализ данных»). Нужно построить модель для задачи классификации, которая выберет подходящий тариф. Предобработка данных не понадобится — вы её уже сделали.\n",
    "\n",
    "Постройте модель с максимально большим значением *accuracy*. Чтобы сдать проект успешно, нужно довести долю правильных ответов по крайней мере до 0.75. Проверьте *accuracy* на тестовой выборке самостоятельно."
   ]
  },
  {
   "cell_type": "markdown",
   "metadata": {},
   "source": [
    "сalls — количество звонков,\n",
    "\n",
    "minutes — суммарная длительность звонков в минутах,\n",
    "\n",
    "messages — количество sms-сообщений,\n",
    "\n",
    "mb_used — израсходованный интернет-трафик в Мб,\n",
    "\n",
    "is_ultra — каким тарифом пользовался в течение месяца («Ультра» — 1, «Смарт» — 0)."
   ]
  },
  {
   "cell_type": "markdown",
   "metadata": {},
   "source": [
    "## Откройте и изучите файл"
   ]
  },
  {
   "cell_type": "code",
   "execution_count": 1,
   "metadata": {},
   "outputs": [],
   "source": [
    "import pandas as pd\n",
    "from sklearn.tree import DecisionTreeClassifier\n",
    "from sklearn.ensemble import RandomForestClassifier\n",
    "from sklearn.linear_model import LogisticRegression\n",
    "from sklearn.model_selection import train_test_split\n",
    "from sklearn.metrics import mean_squared_error\n",
    "from sklearn.metrics import accuracy_score"
   ]
  },
  {
   "cell_type": "code",
   "execution_count": 2,
   "metadata": {},
   "outputs": [
    {
     "data": {
      "text/html": [
       "<div>\n",
       "<style scoped>\n",
       "    .dataframe tbody tr th:only-of-type {\n",
       "        vertical-align: middle;\n",
       "    }\n",
       "\n",
       "    .dataframe tbody tr th {\n",
       "        vertical-align: top;\n",
       "    }\n",
       "\n",
       "    .dataframe thead th {\n",
       "        text-align: right;\n",
       "    }\n",
       "</style>\n",
       "<table border=\"1\" class=\"dataframe\">\n",
       "  <thead>\n",
       "    <tr style=\"text-align: right;\">\n",
       "      <th></th>\n",
       "      <th>calls</th>\n",
       "      <th>minutes</th>\n",
       "      <th>messages</th>\n",
       "      <th>mb_used</th>\n",
       "      <th>is_ultra</th>\n",
       "    </tr>\n",
       "  </thead>\n",
       "  <tbody>\n",
       "    <tr>\n",
       "      <th>0</th>\n",
       "      <td>40.0</td>\n",
       "      <td>311.90</td>\n",
       "      <td>83.0</td>\n",
       "      <td>19915.42</td>\n",
       "      <td>0</td>\n",
       "    </tr>\n",
       "    <tr>\n",
       "      <th>1</th>\n",
       "      <td>85.0</td>\n",
       "      <td>516.75</td>\n",
       "      <td>56.0</td>\n",
       "      <td>22696.96</td>\n",
       "      <td>0</td>\n",
       "    </tr>\n",
       "    <tr>\n",
       "      <th>2</th>\n",
       "      <td>77.0</td>\n",
       "      <td>467.66</td>\n",
       "      <td>86.0</td>\n",
       "      <td>21060.45</td>\n",
       "      <td>0</td>\n",
       "    </tr>\n",
       "    <tr>\n",
       "      <th>3</th>\n",
       "      <td>106.0</td>\n",
       "      <td>745.53</td>\n",
       "      <td>81.0</td>\n",
       "      <td>8437.39</td>\n",
       "      <td>1</td>\n",
       "    </tr>\n",
       "    <tr>\n",
       "      <th>4</th>\n",
       "      <td>66.0</td>\n",
       "      <td>418.74</td>\n",
       "      <td>1.0</td>\n",
       "      <td>14502.75</td>\n",
       "      <td>0</td>\n",
       "    </tr>\n",
       "  </tbody>\n",
       "</table>\n",
       "</div>"
      ],
      "text/plain": [
       "   calls  minutes  messages   mb_used  is_ultra\n",
       "0   40.0   311.90      83.0  19915.42         0\n",
       "1   85.0   516.75      56.0  22696.96         0\n",
       "2   77.0   467.66      86.0  21060.45         0\n",
       "3  106.0   745.53      81.0   8437.39         1\n",
       "4   66.0   418.74       1.0  14502.75         0"
      ]
     },
     "execution_count": 2,
     "metadata": {},
     "output_type": "execute_result"
    }
   ],
   "source": [
    "data = pd.read_csv('/datasets/users_behavior.csv')\n",
    "data.head(5)"
   ]
  },
  {
   "cell_type": "markdown",
   "metadata": {},
   "source": [
    "В условии написано, что предобработка выполнена значит принимаем, что нет дупликатов, пропущенных значений или неверных типов данных "
   ]
  },
  {
   "cell_type": "markdown",
   "metadata": {},
   "source": [
    "## Разбейте данные на выборки"
   ]
  },
  {
   "cell_type": "markdown",
   "metadata": {},
   "source": [
    "За целевой признак примем столбец is_ultra : «Ультра» — 1, «Смарт» — 0"
   ]
  },
  {
   "cell_type": "code",
   "execution_count": 3,
   "metadata": {},
   "outputs": [
    {
     "data": {
      "text/plain": [
       "((3214,), (3214, 4))"
      ]
     },
     "execution_count": 3,
     "metadata": {},
     "output_type": "execute_result"
    }
   ],
   "source": [
    "target = data['is_ultra']\n",
    "features = data.drop('is_ultra', axis=1)\n",
    "target.shape, features.shape"
   ]
  },
  {
   "cell_type": "markdown",
   "metadata": {},
   "source": [
    "Данных достаточно"
   ]
  },
  {
   "cell_type": "code",
   "execution_count": 4,
   "metadata": {},
   "outputs": [],
   "source": [
    "features_train, features_valid, target_train, target_valid = train_test_split(features, target, test_size=0.25, random_state=12345)"
   ]
  },
  {
   "cell_type": "markdown",
   "metadata": {},
   "source": [
    "Создали валидаицонную выборку в объеме 25% от исходных данных"
   ]
  },
  {
   "cell_type": "code",
   "execution_count": 5,
   "metadata": {},
   "outputs": [],
   "source": [
    "features_train_test, features_test, target_train_test, target_test = train_test_split(features_train, target_train, test_size=0.25, random_state=12345)"
   ]
  },
  {
   "cell_type": "markdown",
   "metadata": {},
   "source": [
    "Создали тестовую выборку в объёме 25%, оставшиеся данные пойдут на обучение модели"
   ]
  },
  {
   "cell_type": "markdown",
   "metadata": {},
   "source": [
    "## Исследуйте модели"
   ]
  },
  {
   "cell_type": "markdown",
   "metadata": {},
   "source": [
    "Выбираем три модели обучения:\n",
    "\n",
    "Дерево решений - DecisionTreeClassifier\n",
    "\n",
    "\"Случайный лес\" - RandomForestClassifier\n",
    "\n",
    "Логистическая регрессия - LogisticRegression"
   ]
  },
  {
   "cell_type": "markdown",
   "metadata": {},
   "source": [
    "# DecisionTreeClassifier"
   ]
  },
  {
   "cell_type": "code",
   "execution_count": 6,
   "metadata": {
    "scrolled": true
   },
   "outputs": [
    {
     "name": "stdout",
     "output_type": "stream",
     "text": [
      "best_accuracy =  0.7898009950248757\n",
      "best_depth =  7\n"
     ]
    }
   ],
   "source": [
    "best_accuracy = 0\n",
    "best_depth = 0\n",
    "for depth in range(2,50):\n",
    "    model = DecisionTreeClassifier(random_state = 12345, max_depth = depth)\n",
    "    model.fit(features_train, target_train)\n",
    "    predicted_valid = model.predict(features_valid)\n",
    "    accuracy = accuracy_score(target_valid,predicted_valid)\n",
    "    if best_accuracy < accuracy:\n",
    "        best_accuracy = accuracy\n",
    "        best_depth = depth\n",
    "print('best_accuracy = ',best_accuracy)\n",
    "print('best_depth = ', best_depth)"
   ]
  },
  {
   "cell_type": "markdown",
   "metadata": {},
   "source": [
    "# RandomForestClassifier"
   ]
  },
  {
   "cell_type": "code",
   "execution_count": 7,
   "metadata": {},
   "outputs": [
    {
     "name": "stdout",
     "output_type": "stream",
     "text": [
      "best_accuracy =  0.8146766169154229\n",
      "best_depth =  9\n",
      "best_est =  19\n"
     ]
    }
   ],
   "source": [
    "best_accuracy = 0\n",
    "best_est = 0\n",
    "best_depth = 0\n",
    "for est in range(2,25):\n",
    "    for depth in range(2,25):\n",
    "        model = RandomForestClassifier(random_state = 12345,n_estimators = est, max_depth = depth)\n",
    "        model.fit(features_train, target_train)\n",
    "        predicted_valid = model.predict(features_valid)\n",
    "        accuracy = accuracy_score(target_valid,predicted_valid)\n",
    "        if best_accuracy < accuracy:\n",
    "            best_depth = depth\n",
    "            best_est = est\n",
    "            best_accuracy = accuracy\n",
    "print('best_accuracy = ',best_accuracy)\n",
    "print('best_depth = ', best_depth)\n",
    "print('best_est = ',best_est)"
   ]
  },
  {
   "cell_type": "markdown",
   "metadata": {},
   "source": [
    "# LogisticRegression"
   ]
  },
  {
   "cell_type": "code",
   "execution_count": 8,
   "metadata": {
    "scrolled": true
   },
   "outputs": [
    {
     "name": "stdout",
     "output_type": "stream",
     "text": [
      "0.7039800995024875\n"
     ]
    }
   ],
   "source": [
    "model = LogisticRegression(random_state = 12345,max_iter= 1000,solver = 'lbfgs' )\n",
    "model.fit(features_train,target_train)\n",
    "predicted_valid = model.predict(features_valid)\n",
    "accuracy= accuracy_score(predicted_valid, target_valid)\n",
    "print(accuracy)"
   ]
  },
  {
   "cell_type": "markdown",
   "metadata": {},
   "source": [
    "Из результатов можно сделать вывод, что лучшая точность результатов у RandomForestClassifier, его результат 0.815. Худщей стала модель логистической регрессии, точность которой даже не дотягивает до минимума задачи."
   ]
  },
  {
   "cell_type": "markdown",
   "metadata": {},
   "source": [
    "## Проверьте модель на тестовой выборке"
   ]
  },
  {
   "cell_type": "markdown",
   "metadata": {},
   "source": [
    "Проверю модели в порядка убывания их точности на валидационной выборке"
   ]
  },
  {
   "cell_type": "markdown",
   "metadata": {},
   "source": [
    "# RandomForestClassifier"
   ]
  },
  {
   "cell_type": "code",
   "execution_count": 9,
   "metadata": {},
   "outputs": [
    {
     "name": "stdout",
     "output_type": "stream",
     "text": [
      "0.8308457711442786\n"
     ]
    }
   ],
   "source": [
    "model = RandomForestClassifier(random_state = 12345,n_estimators = 19, max_depth = 9)\n",
    "model.fit(features_train_test, target_train_test)\n",
    "predicted_test = model.predict(features_test)\n",
    "print(accuracy_score(target_test,predicted_test))"
   ]
  },
  {
   "cell_type": "markdown",
   "metadata": {},
   "source": [
    "# DecisionTreeClassifier"
   ]
  },
  {
   "cell_type": "code",
   "execution_count": 10,
   "metadata": {},
   "outputs": [
    {
     "name": "stdout",
     "output_type": "stream",
     "text": [
      "0.7827529021558872\n"
     ]
    }
   ],
   "source": [
    "model = DecisionTreeClassifier(random_state = 12345, max_depth = 7)\n",
    "model.fit(features_train_test, target_train_test)\n",
    "predicted_test = model.predict(features_test)\n",
    "print(accuracy_score(target_test,predicted_test))"
   ]
  },
  {
   "cell_type": "markdown",
   "metadata": {},
   "source": [
    "# LogisticRegression"
   ]
  },
  {
   "cell_type": "code",
   "execution_count": 11,
   "metadata": {},
   "outputs": [
    {
     "name": "stdout",
     "output_type": "stream",
     "text": [
      "0.7412935323383084\n"
     ]
    }
   ],
   "source": [
    "model = LogisticRegression(random_state = 12345,max_iter= 1000,solver = 'lbfgs' )\n",
    "model.fit(features_train_test, target_train_test)\n",
    "predicted_test = model.predict(features_test)\n",
    "accuracy= accuracy_score(target_test,predicted_test)\n",
    "print(accuracy)"
   ]
  },
  {
   "cell_type": "markdown",
   "metadata": {},
   "source": [
    "Можем заметить что модели расположены по мере убывания точности на тестовой выборке. Можем сделать вывод, что модель случайного леса подходит для данной задачи лучше всего"
   ]
  },
  {
   "cell_type": "markdown",
   "metadata": {},
   "source": [
    "## (бонус) Проверьте модели на адекватность"
   ]
  },
  {
   "cell_type": "markdown",
   "metadata": {},
   "source": [
    "Найдем какой тариф преобладает"
   ]
  },
  {
   "cell_type": "code",
   "execution_count": 12,
   "metadata": {
    "scrolled": false
   },
   "outputs": [
    {
     "name": "stdout",
     "output_type": "stream",
     "text": [
      "is_ultra\n",
      "0    0.693528\n",
      "1    0.306472\n",
      "Name: proportion, dtype: float64\n"
     ]
    },
    {
     "data": {
      "text/plain": [
       "<Axes: xlabel='is_ultra'>"
      ]
     },
     "execution_count": 12,
     "metadata": {},
     "output_type": "execute_result"
    },
    {
     "data": {
      "image/png": "[encoded data removed]",
      "text/plain": [
       "<Figure size 432x288 with 1 Axes>"
      ]
     },
     "metadata": {
      "needs_background": "light"
     },
     "output_type": "display_data"
    }
   ],
   "source": [
    "class_frequency = data['is_ultra'].value_counts(normalize=True) # < напишите код здесь >)\n",
    "print(class_frequency)\n",
    "class_frequency.plot(kind='bar') "
   ]
  },
  {
   "cell_type": "markdown",
   "metadata": {},
   "source": [
    "Получили что тариф смарт используют порядка 69% пользоваталей."
   ]
  },
  {
   "cell_type": "markdown",
   "metadata": {},
   "source": [
    "Проанализируем частоты классов в результатах предсказаний случайного дерева"
   ]
  },
  {
   "cell_type": "code",
   "execution_count": 13,
   "metadata": {},
   "outputs": [
    {
     "name": "stdout",
     "output_type": "stream",
     "text": [
      "0    0.808458\n",
      "1    0.191542\n",
      "Name: proportion, dtype: float64\n"
     ]
    },
    {
     "data": {
      "text/plain": [
       "<Axes: >"
      ]
     },
     "execution_count": 13,
     "metadata": {},
     "output_type": "execute_result"
    },
    {
     "data": {
      "image/png": "[encoded data removed]",
      "text/plain": [
       "<Figure size 432x288 with 1 Axes>"
      ]
     },
     "metadata": {
      "needs_background": "light"
     },
     "output_type": "display_data"
    }
   ],
   "source": [
    "model = RandomForestClassifier(random_state = 12345,n_estimators = 19, max_depth = 9)\n",
    "model.fit(features_train, target_train)\n",
    "\n",
    "predicted_valid = pd.Series(model.predict(features_valid))\n",
    "\n",
    "class_frequency = predicted_valid.value_counts(normalize=True) \n",
    "print(class_frequency)\n",
    "class_frequency.plot(kind='bar') "
   ]
  },
  {
   "cell_type": "markdown",
   "metadata": {},
   "source": [
    "Создадим константную модель: любому объекту прогнозирует 1"
   ]
  },
  {
   "cell_type": "code",
   "execution_count": 14,
   "metadata": {
    "scrolled": true
   },
   "outputs": [
    {
     "name": "stdout",
     "output_type": "stream",
     "text": [
      "0.30647168637212197\n"
     ]
    }
   ],
   "source": [
    "target_pred_constant = pd.Series(1, index=target.index)\n",
    "print(accuracy_score(target, target_pred_constant)) "
   ]
  },
  {
   "cell_type": "markdown",
   "metadata": {},
   "source": [
    "Наша модель работает лучше константы, следовательно модель прошла на адекватность"
   ]
  },
  {
   "cell_type": "markdown",
   "metadata": {},
   "source": [
    "# Вывод"
   ]
  },
  {
   "cell_type": "markdown",
   "metadata": {},
   "source": [
    "Были проверены три модели:  дерево решений, случайный лес и логистическая регрессия. Наибольшая точность 0.81 достигается при использовании модели RandomForestClassifier, а логистическая регрессия в свою очередь является плохо обучаемой моделью."
   ]
  },
  {
   "cell_type": "markdown",
   "metadata": {},
   "source": [
    "<div style=\"background: #B0E0E6; padding: 5px; border: 1px solid SteelBlue; border-radius: 5px;\">\n",
    "    <font color='4682B4'><u><b>КОММЕНТАРИЙ СТУДЕНТА</b></u></font>\n",
    "    <br />\n",
    "    <font color='4682B4'>В нашей задаче модель логистической регресии оказалась плохо обучена.</font>\n",
    "</div>"
   ]
  },
  {
   "cell_type": "markdown",
   "metadata": {},
   "source": [
    "## Чек-лист готовности проекта"
   ]
  },
  {
   "cell_type": "markdown",
   "metadata": {},
   "source": [
    "Поставьте 'x' в выполненных пунктах. Далее нажмите Shift+Enter."
   ]
  },
  {
   "cell_type": "markdown",
   "metadata": {},
   "source": [
    "- [x] Jupyter Notebook открыт\n",
    "- [x] Весь код исполняется без ошибок\n",
    "- [x] Ячейки с кодом расположены в порядке исполнения\n",
    "- [x] Выполнено задание 1: данные загружены и изучены\n",
    "- [x] Выполнено задание 2: данные разбиты на три выборки\n",
    "- [x] Выполнено задание 3: проведено исследование моделей\n",
    "    - [x] Рассмотрено больше одной модели\n",
    "    - [x] Рассмотрено хотя бы 3 значения гипепараметров для какой-нибудь модели\n",
    "    - [x] Написаны выводы по результатам исследования\n",
    "- [x] Выполнено задание 3: Проведено тестирование\n",
    "- [x] Удалось достичь accuracy не меньше 0.75\n"
   ]
  }
 ],
 "metadata": {
  "ExecuteTimeLog": [
   {
    "duration": 1321,
    "start_time": "2023-07-27T12:41:03.444Z"
   },
   {
    "duration": 5,
    "start_time": "2023-07-27T12:52:49.768Z"
   },
   {
    "duration": 8,
    "start_time": "2023-07-27T12:58:18.876Z"
   },
   {
    "duration": 5,
    "start_time": "2023-07-27T13:21:51.793Z"
   },
   {
    "duration": 104,
    "start_time": "2023-07-27T13:23:52.260Z"
   },
   {
    "duration": 5,
    "start_time": "2023-07-27T13:23:58.841Z"
   },
   {
    "duration": 6,
    "start_time": "2023-07-27T13:23:59.992Z"
   },
   {
    "duration": 5,
    "start_time": "2023-07-27T13:38:38.998Z"
   },
   {
    "duration": 39,
    "start_time": "2023-07-27T13:39:53.393Z"
   },
   {
    "duration": 8,
    "start_time": "2023-07-27T13:39:53.434Z"
   },
   {
    "duration": 27,
    "start_time": "2023-07-27T13:39:53.444Z"
   },
   {
    "duration": 53,
    "start_time": "2023-07-27T13:39:53.473Z"
   },
   {
    "duration": 54,
    "start_time": "2023-07-27T13:39:53.528Z"
   },
   {
    "duration": 18,
    "start_time": "2023-07-27T13:41:40.068Z"
   },
   {
    "duration": 17,
    "start_time": "2023-07-27T13:42:04.776Z"
   },
   {
    "duration": 38,
    "start_time": "2023-07-27T13:45:19.378Z"
   },
   {
    "duration": 5,
    "start_time": "2023-07-27T13:45:19.418Z"
   },
   {
    "duration": 10,
    "start_time": "2023-07-27T13:45:19.424Z"
   },
   {
    "duration": 13,
    "start_time": "2023-07-27T13:45:19.435Z"
   },
   {
    "duration": 21,
    "start_time": "2023-07-27T13:45:19.450Z"
   },
   {
    "duration": 40,
    "start_time": "2023-07-27T13:53:35.848Z"
   },
   {
    "duration": 5,
    "start_time": "2023-07-27T13:53:35.890Z"
   },
   {
    "duration": 30,
    "start_time": "2023-07-27T13:53:35.897Z"
   },
   {
    "duration": 38,
    "start_time": "2023-07-27T13:53:35.928Z"
   },
   {
    "duration": 644,
    "start_time": "2023-07-27T13:53:35.968Z"
   },
   {
    "duration": 593,
    "start_time": "2023-07-27T13:54:55.064Z"
   },
   {
    "duration": 39,
    "start_time": "2023-07-27T13:56:40.259Z"
   },
   {
    "duration": 28796,
    "start_time": "2023-07-27T13:59:49.199Z"
   },
   {
    "duration": 113368,
    "start_time": "2023-07-27T14:00:42.989Z"
   },
   {
    "duration": 3655,
    "start_time": "2023-07-27T14:02:43.851Z"
   },
   {
    "duration": 28656,
    "start_time": "2023-07-27T14:02:51.847Z"
   },
   {
    "duration": 9,
    "start_time": "2023-07-27T14:06:42.371Z"
   },
   {
    "duration": 10,
    "start_time": "2023-07-27T14:06:48.859Z"
   },
   {
    "duration": 38,
    "start_time": "2023-07-27T14:08:28.263Z"
   },
   {
    "duration": 23,
    "start_time": "2023-07-27T14:08:35.259Z"
   },
   {
    "duration": 211,
    "start_time": "2023-07-27T14:10:11.867Z"
   },
   {
    "duration": 37,
    "start_time": "2023-07-27T14:10:40.749Z"
   },
   {
    "duration": 6,
    "start_time": "2023-07-27T14:10:40.788Z"
   },
   {
    "duration": 28,
    "start_time": "2023-07-27T14:10:40.796Z"
   },
   {
    "duration": 22,
    "start_time": "2023-07-27T14:10:40.826Z"
   },
   {
    "duration": 654,
    "start_time": "2023-07-27T14:10:40.851Z"
   },
   {
    "duration": 29643,
    "start_time": "2023-07-27T14:10:41.507Z"
   },
   {
    "duration": 320,
    "start_time": "2023-07-27T14:11:11.152Z"
   },
   {
    "duration": 46,
    "start_time": "2023-07-27T14:53:13.300Z"
   },
   {
    "duration": 9,
    "start_time": "2023-07-27T14:54:29.632Z"
   },
   {
    "duration": 22,
    "start_time": "2023-07-27T14:55:12.349Z"
   },
   {
    "duration": 20,
    "start_time": "2023-07-27T14:56:00.873Z"
   },
   {
    "duration": 495,
    "start_time": "2023-07-27T15:03:36.738Z"
   },
   {
    "duration": 167,
    "start_time": "2023-07-27T15:04:14.462Z"
   },
   {
    "duration": 119,
    "start_time": "2023-07-27T15:05:02.306Z"
   },
   {
    "duration": 158,
    "start_time": "2023-07-27T15:07:58.858Z"
   },
   {
    "duration": 184,
    "start_time": "2023-07-27T15:09:21.810Z"
   },
   {
    "duration": 5,
    "start_time": "2023-07-27T15:12:31.370Z"
   },
   {
    "duration": 4,
    "start_time": "2023-07-27T15:12:37.709Z"
   },
   {
    "duration": 5,
    "start_time": "2023-07-27T15:13:02.911Z"
   },
   {
    "duration": 41,
    "start_time": "2023-07-27T15:17:58.804Z"
   },
   {
    "duration": 6,
    "start_time": "2023-07-27T15:17:58.847Z"
   },
   {
    "duration": 15,
    "start_time": "2023-07-27T15:17:58.855Z"
   },
   {
    "duration": 14,
    "start_time": "2023-07-27T15:17:58.872Z"
   },
   {
    "duration": 584,
    "start_time": "2023-07-27T15:17:58.888Z"
   },
   {
    "duration": 28259,
    "start_time": "2023-07-27T15:17:59.474Z"
   },
   {
    "duration": 243,
    "start_time": "2023-07-27T15:18:27.735Z"
   },
   {
    "duration": 230,
    "start_time": "2023-07-27T15:18:27.981Z"
   },
   {
    "duration": 8,
    "start_time": "2023-07-27T15:18:28.213Z"
   },
   {
    "duration": 65,
    "start_time": "2023-07-27T15:18:28.223Z"
   },
   {
    "duration": 107,
    "start_time": "2023-07-27T15:18:28.289Z"
   },
   {
    "duration": 186,
    "start_time": "2023-07-27T15:18:28.397Z"
   },
   {
    "duration": 5,
    "start_time": "2023-07-27T15:18:28.584Z"
   },
   {
    "duration": 2805,
    "start_time": "2023-07-27T16:16:37.148Z"
   },
   {
    "duration": 6,
    "start_time": "2023-07-27T16:16:39.955Z"
   },
   {
    "duration": 7,
    "start_time": "2023-07-27T16:16:39.962Z"
   },
   {
    "duration": 105,
    "start_time": "2023-07-27T16:16:39.970Z"
   },
   {
    "duration": 0,
    "start_time": "2023-07-27T16:16:40.077Z"
   },
   {
    "duration": 0,
    "start_time": "2023-07-27T16:16:40.079Z"
   },
   {
    "duration": 0,
    "start_time": "2023-07-27T16:16:40.080Z"
   },
   {
    "duration": 0,
    "start_time": "2023-07-27T16:16:40.087Z"
   },
   {
    "duration": 0,
    "start_time": "2023-07-27T16:16:40.087Z"
   },
   {
    "duration": 0,
    "start_time": "2023-07-27T16:16:40.089Z"
   },
   {
    "duration": 0,
    "start_time": "2023-07-27T16:16:40.089Z"
   },
   {
    "duration": 0,
    "start_time": "2023-07-27T16:16:40.090Z"
   },
   {
    "duration": 0,
    "start_time": "2023-07-27T16:16:40.091Z"
   },
   {
    "duration": 63,
    "start_time": "2023-07-27T18:06:16.545Z"
   },
   {
    "duration": 15,
    "start_time": "2023-07-27T18:08:34.745Z"
   },
   {
    "duration": 8,
    "start_time": "2023-07-27T18:09:52.612Z"
   },
   {
    "duration": 1502,
    "start_time": "2023-07-27T18:10:01.216Z"
   },
   {
    "duration": 7,
    "start_time": "2023-07-27T18:10:02.721Z"
   },
   {
    "duration": 69,
    "start_time": "2023-07-27T18:10:02.730Z"
   },
   {
    "duration": 137,
    "start_time": "2023-07-27T18:10:02.801Z"
   },
   {
    "duration": 0,
    "start_time": "2023-07-27T18:10:02.941Z"
   },
   {
    "duration": 0,
    "start_time": "2023-07-27T18:10:02.942Z"
   },
   {
    "duration": 0,
    "start_time": "2023-07-27T18:10:02.943Z"
   },
   {
    "duration": 0,
    "start_time": "2023-07-27T18:10:02.944Z"
   },
   {
    "duration": 0,
    "start_time": "2023-07-27T18:10:02.945Z"
   },
   {
    "duration": 0,
    "start_time": "2023-07-27T18:10:02.946Z"
   },
   {
    "duration": 0,
    "start_time": "2023-07-27T18:10:02.948Z"
   },
   {
    "duration": 0,
    "start_time": "2023-07-27T18:10:02.948Z"
   },
   {
    "duration": 0,
    "start_time": "2023-07-27T18:10:02.949Z"
   },
   {
    "duration": 55,
    "start_time": "2023-07-27T18:16:53.813Z"
   },
   {
    "duration": 4,
    "start_time": "2023-07-27T18:16:54.999Z"
   },
   {
    "duration": 6,
    "start_time": "2023-07-27T18:24:01.917Z"
   },
   {
    "duration": 5,
    "start_time": "2023-07-27T18:24:19.314Z"
   },
   {
    "duration": 9,
    "start_time": "2023-07-27T18:24:34.580Z"
   },
   {
    "duration": 5,
    "start_time": "2023-07-27T18:24:48.404Z"
   },
   {
    "duration": 7,
    "start_time": "2023-07-27T18:26:56.149Z"
   },
   {
    "duration": 73,
    "start_time": "2023-07-27T18:26:56.158Z"
   },
   {
    "duration": 5,
    "start_time": "2023-07-27T18:26:56.233Z"
   },
   {
    "duration": 16,
    "start_time": "2023-07-27T18:26:56.240Z"
   },
   {
    "duration": 42,
    "start_time": "2023-07-27T18:26:56.261Z"
   },
   {
    "duration": 670,
    "start_time": "2023-07-27T18:26:56.305Z"
   },
   {
    "duration": 33863,
    "start_time": "2023-07-27T18:26:56.977Z"
   },
   {
    "duration": 631,
    "start_time": "2023-07-27T18:27:30.841Z"
   },
   {
    "duration": 172,
    "start_time": "2023-07-27T18:27:31.476Z"
   },
   {
    "duration": 17,
    "start_time": "2023-07-27T18:27:31.650Z"
   },
   {
    "duration": 108,
    "start_time": "2023-07-27T18:27:31.673Z"
   },
   {
    "duration": 695,
    "start_time": "2023-07-27T18:27:31.788Z"
   },
   {
    "duration": 225,
    "start_time": "2023-07-27T18:27:32.485Z"
   },
   {
    "duration": 6,
    "start_time": "2023-07-27T18:27:32.714Z"
   },
   {
    "duration": 5,
    "start_time": "2023-07-27T18:34:09.055Z"
   },
   {
    "duration": 88,
    "start_time": "2023-07-27T18:34:09.062Z"
   },
   {
    "duration": 21,
    "start_time": "2023-07-27T18:34:09.154Z"
   },
   {
    "duration": 22,
    "start_time": "2023-07-27T18:34:09.185Z"
   },
   {
    "duration": 30,
    "start_time": "2023-07-27T18:34:09.210Z"
   },
   {
    "duration": 784,
    "start_time": "2023-07-27T18:34:09.242Z"
   },
   {
    "duration": 32479,
    "start_time": "2023-07-27T18:34:10.028Z"
   },
   {
    "duration": 665,
    "start_time": "2023-07-27T18:34:42.509Z"
   },
   {
    "duration": 213,
    "start_time": "2023-07-27T18:34:43.176Z"
   },
   {
    "duration": 14,
    "start_time": "2023-07-27T18:34:43.391Z"
   },
   {
    "duration": 33,
    "start_time": "2023-07-27T18:34:43.407Z"
   },
   {
    "duration": 142,
    "start_time": "2023-07-27T18:34:43.451Z"
   },
   {
    "duration": 211,
    "start_time": "2023-07-27T18:34:43.596Z"
   },
   {
    "duration": 5,
    "start_time": "2023-07-27T18:34:43.809Z"
   },
   {
    "duration": 1168,
    "start_time": "2023-07-27T18:52:38.447Z"
   },
   {
    "duration": 127,
    "start_time": "2023-07-27T18:52:39.618Z"
   },
   {
    "duration": 6,
    "start_time": "2023-07-27T18:52:39.746Z"
   },
   {
    "duration": 6,
    "start_time": "2023-07-27T18:52:39.754Z"
   },
   {
    "duration": 22,
    "start_time": "2023-07-27T18:52:39.762Z"
   },
   {
    "duration": 740,
    "start_time": "2023-07-27T18:52:39.786Z"
   },
   {
    "duration": 34375,
    "start_time": "2023-07-27T18:52:40.528Z"
   },
   {
    "duration": 89,
    "start_time": "2023-07-27T18:53:14.906Z"
   },
   {
    "duration": 250,
    "start_time": "2023-07-27T18:53:14.997Z"
   },
   {
    "duration": 12,
    "start_time": "2023-07-27T18:53:15.249Z"
   },
   {
    "duration": 45,
    "start_time": "2023-07-27T18:53:15.263Z"
   },
   {
    "duration": 679,
    "start_time": "2023-07-27T18:53:15.310Z"
   },
   {
    "duration": 355,
    "start_time": "2023-07-27T18:53:15.991Z"
   },
   {
    "duration": 6,
    "start_time": "2023-07-27T18:53:16.349Z"
   }
  ],
  "kernelspec": {
   "display_name": "Python 3 (ipykernel)",
   "language": "python",
   "name": "python3"
  },
  "language_info": {
   "codemirror_mode": {
    "name": "ipython",
    "version": 3
   },
   "file_extension": ".py",
   "mimetype": "text/x-python",
   "name": "python",
   "nbconvert_exporter": "python",
   "pygments_lexer": "ipython3",
   "version": "3.9.5"
  },
  "toc": {
   "base_numbering": 1,
   "nav_menu": {},
   "number_sections": true,
   "sideBar": true,
   "skip_h1_title": true,
   "title_cell": "Table of Contents",
   "title_sidebar": "Contents",
   "toc_cell": false,
   "toc_position": {},
   "toc_section_display": true,
   "toc_window_display": false
  }
 },
 "nbformat": 4,
 "nbformat_minor": 2
}

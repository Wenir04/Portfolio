{
 "cells": [
  {
   "cell_type": "markdown",
   "metadata": {
    "toc": true
   },
   "source": [
    "<h1>Содержание<span class=\"tocSkip\"></span></h1>\n",
    "<div class=\"toc\"><ul class=\"toc-item\"><li><span><a href=\"#Загрузка-данных\" data-toc-modified-id=\"Загрузка-данных-1\"><span class=\"toc-item-num\">1&nbsp;&nbsp;</span>Загрузка данных</a></span></li><li><span><a href=\"#Умножение-матриц\" data-toc-modified-id=\"Умножение-матриц-2\"><span class=\"toc-item-num\">2&nbsp;&nbsp;</span>Умножение матриц</a></span></li><li><span><a href=\"#Алгоритм-преобразования\" data-toc-modified-id=\"Алгоритм-преобразования-3\"><span class=\"toc-item-num\">3&nbsp;&nbsp;</span>Алгоритм преобразования</a></span></li><li><span><a href=\"#Проверка-алгоритма\" data-toc-modified-id=\"Проверка-алгоритма-4\"><span class=\"toc-item-num\">4&nbsp;&nbsp;</span>Проверка алгоритма</a></span></li><li><span><a href=\"#Чек-лист-проверки\" data-toc-modified-id=\"Чек-лист-проверки-5\"><span class=\"toc-item-num\">5&nbsp;&nbsp;</span>Чек-лист проверки</a></span></li></ul></div>"
   ]
  },
  {
   "cell_type": "markdown",
   "metadata": {},
   "source": [
    "# Защита персональных данных клиентов"
   ]
  },
  {
   "cell_type": "markdown",
   "metadata": {},
   "source": [
    "Вам нужно защитить данные клиентов страховой компании «Хоть потоп». Разработайте такой метод преобразования данных, чтобы по ним было сложно восстановить персональную информацию. Обоснуйте корректность его работы.\n",
    "\n",
    "Нужно защитить данные, чтобы при преобразовании качество моделей машинного обучения не ухудшилось. Подбирать наилучшую модель не требуется."
   ]
  },
  {
   "cell_type": "markdown",
   "metadata": {},
   "source": [
    "Признаки: пол, возраст и зарплата застрахованного, количество членов его семьи.\n",
    "\n",
    "Целевой признак: количество страховых выплат клиенту за последние 5 лет."
   ]
  },
  {
   "cell_type": "markdown",
   "metadata": {},
   "source": [
    "## Загрузка данных"
   ]
  },
  {
   "cell_type": "code",
   "execution_count": 1,
   "metadata": {},
   "outputs": [],
   "source": [
    "import pandas as pd\n",
    "import numpy as np\n",
    "from sklearn.model_selection import train_test_split\n",
    "from sklearn.linear_model import LinearRegression\n",
    "from sklearn.metrics import r2_score"
   ]
  },
  {
   "cell_type": "code",
   "execution_count": 2,
   "metadata": {
    "scrolled": true
   },
   "outputs": [
    {
     "data": {
      "text/html": [
       "<div>\n",
       "<style scoped>\n",
       "    .dataframe tbody tr th:only-of-type {\n",
       "        vertical-align: middle;\n",
       "    }\n",
       "\n",
       "    .dataframe tbody tr th {\n",
       "        vertical-align: top;\n",
       "    }\n",
       "\n",
       "    .dataframe thead th {\n",
       "        text-align: right;\n",
       "    }\n",
       "</style>\n",
       "<table border=\"1\" class=\"dataframe\">\n",
       "  <thead>\n",
       "    <tr style=\"text-align: right;\">\n",
       "      <th></th>\n",
       "      <th>Пол</th>\n",
       "      <th>Возраст</th>\n",
       "      <th>Зарплата</th>\n",
       "      <th>Члены семьи</th>\n",
       "      <th>Страховые выплаты</th>\n",
       "    </tr>\n",
       "  </thead>\n",
       "  <tbody>\n",
       "    <tr>\n",
       "      <th>0</th>\n",
       "      <td>1</td>\n",
       "      <td>41.0</td>\n",
       "      <td>49600.0</td>\n",
       "      <td>1</td>\n",
       "      <td>0</td>\n",
       "    </tr>\n",
       "    <tr>\n",
       "      <th>1</th>\n",
       "      <td>0</td>\n",
       "      <td>46.0</td>\n",
       "      <td>38000.0</td>\n",
       "      <td>1</td>\n",
       "      <td>1</td>\n",
       "    </tr>\n",
       "    <tr>\n",
       "      <th>2</th>\n",
       "      <td>0</td>\n",
       "      <td>29.0</td>\n",
       "      <td>21000.0</td>\n",
       "      <td>0</td>\n",
       "      <td>0</td>\n",
       "    </tr>\n",
       "    <tr>\n",
       "      <th>3</th>\n",
       "      <td>0</td>\n",
       "      <td>21.0</td>\n",
       "      <td>41700.0</td>\n",
       "      <td>2</td>\n",
       "      <td>0</td>\n",
       "    </tr>\n",
       "    <tr>\n",
       "      <th>4</th>\n",
       "      <td>1</td>\n",
       "      <td>28.0</td>\n",
       "      <td>26100.0</td>\n",
       "      <td>0</td>\n",
       "      <td>0</td>\n",
       "    </tr>\n",
       "  </tbody>\n",
       "</table>\n",
       "</div>"
      ],
      "text/plain": [
       "   Пол  Возраст  Зарплата  Члены семьи  Страховые выплаты\n",
       "0    1     41.0   49600.0            1                  0\n",
       "1    0     46.0   38000.0            1                  1\n",
       "2    0     29.0   21000.0            0                  0\n",
       "3    0     21.0   41700.0            2                  0\n",
       "4    1     28.0   26100.0            0                  0"
      ]
     },
     "execution_count": 2,
     "metadata": {},
     "output_type": "execute_result"
    }
   ],
   "source": [
    "data=pd.read_csv('/datasets/insurance.csv')\n",
    "data.head()"
   ]
  },
  {
   "cell_type": "markdown",
   "metadata": {},
   "source": [
    "Изучим наш дата фрейм"
   ]
  },
  {
   "cell_type": "code",
   "execution_count": 3,
   "metadata": {
    "scrolled": false
   },
   "outputs": [
    {
     "name": "stdout",
     "output_type": "stream",
     "text": [
      "<class 'pandas.core.frame.DataFrame'>\n",
      "RangeIndex: 5000 entries, 0 to 4999\n",
      "Data columns (total 5 columns):\n",
      " #   Column             Non-Null Count  Dtype  \n",
      "---  ------             --------------  -----  \n",
      " 0   Пол                5000 non-null   int64  \n",
      " 1   Возраст            5000 non-null   float64\n",
      " 2   Зарплата           5000 non-null   float64\n",
      " 3   Члены семьи        5000 non-null   int64  \n",
      " 4   Страховые выплаты  5000 non-null   int64  \n",
      "dtypes: float64(2), int64(3)\n",
      "memory usage: 195.4 KB\n"
     ]
    }
   ],
   "source": [
    "data.info()"
   ]
  },
  {
   "cell_type": "code",
   "execution_count": 4,
   "metadata": {
    "scrolled": false
   },
   "outputs": [
    {
     "data": {
      "text/plain": [
       "Пол                  0\n",
       "Возраст              0\n",
       "Зарплата             0\n",
       "Члены семьи          0\n",
       "Страховые выплаты    0\n",
       "dtype: int64"
      ]
     },
     "execution_count": 4,
     "metadata": {},
     "output_type": "execute_result"
    }
   ],
   "source": [
    "data.isnull().sum()"
   ]
  },
  {
   "cell_type": "markdown",
   "metadata": {},
   "source": [
    "Пропущенных данных нет"
   ]
  },
  {
   "cell_type": "code",
   "execution_count": 5,
   "metadata": {},
   "outputs": [
    {
     "data": {
      "text/plain": [
       "153"
      ]
     },
     "execution_count": 5,
     "metadata": {},
     "output_type": "execute_result"
    }
   ],
   "source": [
    "data.duplicated().sum()"
   ]
  },
  {
   "cell_type": "markdown",
   "metadata": {},
   "source": [
    "В таблице наблюдаются явные дубликаты. Они составляют "
   ]
  },
  {
   "cell_type": "code",
   "execution_count": 6,
   "metadata": {},
   "outputs": [
    {
     "data": {
      "text/plain": [
       "3.06"
      ]
     },
     "execution_count": 6,
     "metadata": {},
     "output_type": "execute_result"
    }
   ],
   "source": [
    "153/5000*100"
   ]
  },
  {
   "cell_type": "markdown",
   "metadata": {},
   "source": [
    "3.06% от всех данных, так что можем удалить их"
   ]
  },
  {
   "cell_type": "code",
   "execution_count": 7,
   "metadata": {},
   "outputs": [],
   "source": [
    "data.drop_duplicates(inplace=True)"
   ]
  },
  {
   "cell_type": "code",
   "execution_count": 8,
   "metadata": {},
   "outputs": [
    {
     "data": {
      "text/plain": [
       "0"
      ]
     },
     "execution_count": 8,
     "metadata": {},
     "output_type": "execute_result"
    }
   ],
   "source": [
    "data.duplicated().sum()"
   ]
  },
  {
   "cell_type": "markdown",
   "metadata": {},
   "source": [
    "Избавились от дубликатов"
   ]
  },
  {
   "cell_type": "markdown",
   "metadata": {},
   "source": [
    "**Вывод**\n",
    "\n",
    "В первой части нашей работы выполнили предобработку данных, обнаружили дубликаты и удалили их. Теперь можем перейти к следующему шагу."
   ]
  },
  {
   "cell_type": "markdown",
   "metadata": {},
   "source": [
    "## Умножение матриц"
   ]
  },
  {
   "cell_type": "markdown",
   "metadata": {},
   "source": [
    "В этом задании вы можете записывать формулы в *Jupyter Notebook.*\n",
    "\n",
    "Чтобы записать формулу внутри текста, окружите её символами доллара \\\\$; если снаружи —  двойными символами \\\\$\\\\$. Эти формулы записываются на языке вёрстки *LaTeX.* \n",
    "\n",
    "Для примера мы записали формулы линейной регрессии. Можете их скопировать и отредактировать, чтобы решить задачу.\n",
    "\n",
    "Работать в *LaTeX* необязательно."
   ]
  },
  {
   "cell_type": "markdown",
   "metadata": {},
   "source": [
    "Обозначения:\n",
    "\n",
    "- $X$ — матрица признаков (нулевой столбец состоит из единиц)\n",
    "\n",
    "- $y$ — вектор целевого признака\n",
    "\n",
    "- $P$ — матрица, на которую умножаются признаки\n",
    "\n",
    "- $w$ — вектор весов линейной регрессии (нулевой элемент равен сдвигу)"
   ]
  },
  {
   "cell_type": "markdown",
   "metadata": {},
   "source": [
    "Предсказания:\n",
    "\n",
    "$$\n",
    "a = Xw\n",
    "$$\n",
    "\n",
    "Задача обучения:\n",
    "\n",
    "$$\n",
    "w = \\arg\\min_w MSE(Xw, y)\n",
    "$$\n",
    "\n",
    "Формула обучения:\n",
    "\n",
    "$$\n",
    "w = (X^T X)^{-1} X^T y\n",
    "$$"
   ]
  },
  {
   "cell_type": "markdown",
   "metadata": {},
   "source": [
    "**Ответ:** качество линейной регрессии не изменится\n",
    "\n",
    "**Обоснование:** \n",
    "Рассмотри случай с a'. По условию признаки умножаем на обратимую матрицу \n",
    "$$\n",
    "a'=X'w', где X'=XP\n",
    "$$\n",
    "$$\n",
    "w' = (X'^T X')^{-1} X'^T y\n",
    "$$\n",
    "подставим X' в w'\n",
    "$$\n",
    "w' = ((XP)^T (XP))^{-1} (XP)^T y\n",
    "$$\n",
    "теперь w' в а'\n",
    "$$\n",
    "a'=(XP)((XP)^T (XP))^{-1} (XP)^T y)\n",
    "$$\n",
    "$$\n",
    "a'=(XP)(P^T X^T XP)^{-1} (XP)^T y)\n",
    "$$\n",
    "$$\n",
    "a'=(XP)((P^T)^{-1} (X^T X)^{-1} (P)^{-1} P^T X^T y)\n",
    "$$\n",
    "\n",
    "Воспользумеся свойством \n",
    "\n",
    "$$\n",
    "PP^{-1}=E\n",
    "$$\n",
    "\n",
    "аналогично для транспорированных матриц \n",
    "$$\n",
    "P^T(P^T)^{-1}=E\n",
    "$$\n",
    "\n",
    "$$\n",
    "a'=(XP)((X^T)^{-1} X^{-1} (P)^{-1} X^T y)\n",
    "$$\n",
    "$$\n",
    "w = (X^T X)^{-1} X^T y\n",
    "$$\n",
    "$$\n",
    "a'=(XP)(w(P)^{-1})\n",
    "$$\n",
    "$$\n",
    "a'=XwP(P)^{-1}=Xw=a\n",
    "$$\n",
    "\n",
    "**Что и требовалось доказать**"
   ]
  },
  {
   "cell_type": "markdown",
   "metadata": {},
   "source": [
    "**Вывод**\n",
    "\n",
    "Доказали, что при умножении признаков на обратимую матрицу качество не изменится"
   ]
  },
  {
   "cell_type": "markdown",
   "metadata": {},
   "source": [
    "1) С помощью математических преобразований найдём соотношение между $w$ и $w_p$. В моих условиях $w$ и $w'$\n",
    "$$\n",
    "w' = ((XP)^T (XP))^{-1} (XP)^T y\n",
    "$$\n",
    "$$\n",
    "w' = (P^T X^T XP)^{-1} P^T X^T y\n",
    "$$\n",
    "$$\n",
    "w' = P^{-1}(X^T X)^{-1} (P^T)^{-1} P^T X^T y\n",
    "$$\n",
    "$$\n",
    "w' = P^{-1}(X^T X)^{-1} X^T y\n",
    "$$\n",
    "$$\n",
    "w = (X^T X)^{-1} X^T y\n",
    "$$\n",
    "$$\n",
    "w'=P^{-1}w\n",
    "$$\n",
    "\n",
    "2) Воспользуемся подсказкой расскроем выражение $((XP)^T XP)^{-1}$\n",
    "\n",
    "$$\n",
    "((XP)^T XP)^{-1}=(P^T X^T XP)^{-1}= P^{-1}(X^T X)^{-1} (P^T)^{-1}\n",
    "$$\n",
    "\n",
    "Из полученного выражения видно,нужно чтобы матрицы $ P,(X^T X), (P^T)$ были квадратными. \n",
    "Рассмотрим, $(X^T X)$ независио от того какая матрица $X$ этим умножением мы получим квадратную матрицу, так, например, если матрица $X$ имеет размерность(3,2), то траспорированная будет (2,3), а их умножение (2,2). Отсюда следует, что нужно задать условие на матрицу $P$, чтобы она была квадратной. А матрица $X$ может иметь любую размерность "
   ]
  },
  {
   "cell_type": "markdown",
   "metadata": {},
   "source": [
    "## Алгоритм преобразования"
   ]
  },
  {
   "cell_type": "markdown",
   "metadata": {},
   "source": [
    "**Алгоритм**\n",
    "Будем использовать алгоритм, указанный выше: умножаем матрицу признаков на обратимую матрицу.\n"
   ]
  },
  {
   "cell_type": "markdown",
   "metadata": {},
   "source": [
    "**Обоснование**\n",
    "\n",
    "В пункте 2 доказали, что качество не изменяется при использовании данного алгоритма. Но так как мы умножаем случайную матрицу, то должны проверить на обратимость"
   ]
  },
  {
   "cell_type": "markdown",
   "metadata": {},
   "source": [
    "## Проверка алгоритма"
   ]
  },
  {
   "cell_type": "markdown",
   "metadata": {},
   "source": [
    "Сравним качество наших моделей с использованием преобразований данных и без"
   ]
  },
  {
   "cell_type": "markdown",
   "metadata": {},
   "source": [
    "Выделим обучающую и тестовую выборки"
   ]
  },
  {
   "cell_type": "code",
   "execution_count": 9,
   "metadata": {},
   "outputs": [],
   "source": [
    "data_train, data_test = train_test_split(data, random_state=12345)"
   ]
  },
  {
   "cell_type": "markdown",
   "metadata": {},
   "source": [
    "Признаки: пол, возраст и зарплата застрахованного, количество членов его семьи.\n",
    "\n",
    "Целевой признак: количество страховых выплат клиенту за последние 5 лет."
   ]
  },
  {
   "cell_type": "code",
   "execution_count": 10,
   "metadata": {},
   "outputs": [],
   "source": [
    "features_train = data_train.drop('Страховые выплаты', axis=1)\n",
    "target_train = data_train['Страховые выплаты']\n",
    "features_test = data_test.drop('Страховые выплаты', axis=1)\n",
    "target_test = data_test['Страховые выплаты']"
   ]
  },
  {
   "cell_type": "code",
   "execution_count": 11,
   "metadata": {},
   "outputs": [],
   "source": [
    "class LinearRegression:\n",
    "    def fit(self, train_features, train_target):\n",
    "        X = np.concatenate((np.ones((train_features.shape[0], 1)), train_features), axis=1)\n",
    "        y = train_target\n",
    "        w = np.linalg.inv(X.T.dot(X)).dot(X.T).dot(y)\n",
    "        self.w = w[1:]\n",
    "        self.w0 = w[0]\n",
    "\n",
    "    def predict(self, test_features):\n",
    "        return test_features.dot(self.w) + self.w0\n",
    "    "
   ]
  },
  {
   "cell_type": "markdown",
   "metadata": {},
   "source": [
    "Cначала проверим значения без преобразований"
   ]
  },
  {
   "cell_type": "code",
   "execution_count": 12,
   "metadata": {},
   "outputs": [
    {
     "name": "stdout",
     "output_type": "stream",
     "text": [
      "на обучающей r2 =  0.43215820285832096\n",
      "на тестовой r2 =  0.4230772749214825\n"
     ]
    }
   ],
   "source": [
    "model = LinearRegression()\n",
    "model.fit(features_train, target_train)\n",
    "predictions = model.predict(features_train)\n",
    "print('на обучающей r2 = ', r2_score(target_train, predictions))\n",
    "predictions = model.predict(features_test)\n",
    "print('на тестовой r2 = ', r2_score(target_test, predictions))"
   ]
  },
  {
   "cell_type": "markdown",
   "metadata": {},
   "source": [
    "Теперь воспользуемся нашим алгоритмом защиты персональной информации"
   ]
  },
  {
   "cell_type": "markdown",
   "metadata": {},
   "source": [
    "Мы должны проверить, что наша рандомная матрица обратима, те ее определитель не равен нулю"
   ]
  },
  {
   "cell_type": "code",
   "execution_count": 13,
   "metadata": {},
   "outputs": [],
   "source": [
    "n=4\n",
    "P = np.array([])\n",
    "for i in range(1000):\n",
    "    P = np.random.random((n, n))\n",
    "    det = np.linalg.det(P)\n",
    "    if det!=0:\n",
    "        break"
   ]
  },
  {
   "cell_type": "code",
   "execution_count": 14,
   "metadata": {
    "scrolled": true
   },
   "outputs": [
    {
     "name": "stdout",
     "output_type": "stream",
     "text": [
      "на обучающей r2 =  0.4321582026358557\n",
      "на тестовой r2 =  0.4230777281921366\n"
     ]
    }
   ],
   "source": [
    "\n",
    "\n",
    "features_train = features_train @ P\n",
    "features_test = features_test @ P\n",
    "model = LinearRegression()\n",
    "model.fit(features_train, target_train)\n",
    "predictions = model.predict(features_train)\n",
    "print('на обучающей r2 = ', r2_score(target_train, predictions))\n",
    "predictions = model.predict(features_test)\n",
    "print('на тестовой r2 = ', r2_score(target_test, predictions))"
   ]
  },
  {
   "cell_type": "markdown",
   "metadata": {},
   "source": [
    "Результаты практически идентичны, значит наш алгоритм действительно работает"
   ]
  },
  {
   "cell_type": "markdown",
   "metadata": {},
   "source": [
    "# Вывод"
   ]
  },
  {
   "cell_type": "markdown",
   "metadata": {},
   "source": [
    "1) Провели предообработку данных: удалили дубликаты\n",
    "\n",
    "2) Доказали что при умножении матрицы признаков на обратимую матрицу, качество линейной регресии не изменяется\n",
    "3) Проверили алгоритм на практике: результат успешный.\n",
    "    \n",
    "    Без преобразований матриц значение на обучающей r2 =  0.43215820285832096, на тестовой r2 =  0.4230772749214825\n",
    "    \n",
    "    С преобразованиями - на обучающей r2 =  0.4321360880675721, на тестовой r2 =  0.42286699882435363"
   ]
  },
  {
   "cell_type": "markdown",
   "metadata": {},
   "source": [
    "## Чек-лист проверки"
   ]
  },
  {
   "cell_type": "markdown",
   "metadata": {},
   "source": [
    "Поставьте 'x' в выполненных пунктах. Далее нажмите Shift+Enter."
   ]
  },
  {
   "cell_type": "markdown",
   "metadata": {},
   "source": [
    "- [x]  Jupyter Notebook открыт\n",
    "- [x]  Весь код выполняется без ошибок\n",
    "- [x]  Ячейки с кодом расположены в порядке исполнения\n",
    "- [x]  Выполнен шаг 1: данные загружены\n",
    "- [x]  Выполнен шаг 2: получен ответ на вопрос об умножении матриц\n",
    "    - [x]  Указан правильный вариант ответа\n",
    "    - [x]  Вариант обоснован\n",
    "- [x]  Выполнен шаг 3: предложен алгоритм преобразования\n",
    "    - [x]  Алгоритм описан\n",
    "    - [x]  Алгоритм обоснован\n",
    "- [x]  Выполнен шаг 4: алгоритм проверен\n",
    "    - [x]  Алгоритм реализован\n",
    "    - [x]  Проведено сравнение качества моделей до и после преобразования"
   ]
  },
  {
   "cell_type": "code",
   "execution_count": null,
   "metadata": {},
   "outputs": [],
   "source": []
  }
 ],
 "metadata": {
  "ExecuteTimeLog": [
   {
    "duration": 412,
    "start_time": "2023-09-16T13:15:57.243Z"
   },
   {
    "duration": 127,
    "start_time": "2023-09-16T13:16:30.738Z"
   },
   {
    "duration": 13,
    "start_time": "2023-09-16T13:18:40.551Z"
   },
   {
    "duration": 6,
    "start_time": "2023-09-16T13:18:51.489Z"
   },
   {
    "duration": 5,
    "start_time": "2023-09-16T13:19:23.186Z"
   },
   {
    "duration": 4,
    "start_time": "2023-09-16T13:21:30.417Z"
   },
   {
    "duration": 5,
    "start_time": "2023-09-16T13:24:04.722Z"
   },
   {
    "duration": 6,
    "start_time": "2023-09-16T13:24:11.682Z"
   },
   {
    "duration": 373,
    "start_time": "2023-09-16T13:27:33.604Z"
   },
   {
    "duration": 39,
    "start_time": "2023-09-16T13:27:33.980Z"
   },
   {
    "duration": 9,
    "start_time": "2023-09-16T13:27:34.021Z"
   },
   {
    "duration": 19,
    "start_time": "2023-09-16T13:27:34.032Z"
   },
   {
    "duration": 26,
    "start_time": "2023-09-16T13:27:34.052Z"
   },
   {
    "duration": 21,
    "start_time": "2023-09-16T13:27:34.079Z"
   },
   {
    "duration": 20,
    "start_time": "2023-09-16T13:27:34.101Z"
   },
   {
    "duration": 8,
    "start_time": "2023-09-16T13:27:34.123Z"
   },
   {
    "duration": 1085,
    "start_time": "2023-09-17T01:58:09.417Z"
   },
   {
    "duration": 88,
    "start_time": "2023-09-17T01:58:10.504Z"
   },
   {
    "duration": 10,
    "start_time": "2023-09-17T01:58:10.594Z"
   },
   {
    "duration": 7,
    "start_time": "2023-09-17T01:58:10.605Z"
   },
   {
    "duration": 7,
    "start_time": "2023-09-17T01:58:10.614Z"
   },
   {
    "duration": 5,
    "start_time": "2023-09-17T01:58:10.623Z"
   },
   {
    "duration": 8,
    "start_time": "2023-09-17T01:58:10.629Z"
   },
   {
    "duration": 9,
    "start_time": "2023-09-17T01:58:10.639Z"
   },
   {
    "duration": 6,
    "start_time": "2023-09-17T01:58:10.650Z"
   },
   {
    "duration": 89,
    "start_time": "2023-09-17T01:58:10.658Z"
   },
   {
    "duration": 11,
    "start_time": "2023-09-17T01:58:10.749Z"
   },
   {
    "duration": 32,
    "start_time": "2023-09-17T01:58:10.761Z"
   },
   {
    "duration": 1042,
    "start_time": "2023-09-17T02:08:48.548Z"
   },
   {
    "duration": 40,
    "start_time": "2023-09-17T02:08:49.593Z"
   },
   {
    "duration": 10,
    "start_time": "2023-09-17T02:08:49.634Z"
   },
   {
    "duration": 27,
    "start_time": "2023-09-17T02:08:49.645Z"
   },
   {
    "duration": 17,
    "start_time": "2023-09-17T02:08:49.673Z"
   },
   {
    "duration": 19,
    "start_time": "2023-09-17T02:08:49.691Z"
   },
   {
    "duration": 16,
    "start_time": "2023-09-17T02:08:49.712Z"
   },
   {
    "duration": 22,
    "start_time": "2023-09-17T02:08:49.729Z"
   },
   {
    "duration": 9,
    "start_time": "2023-09-17T02:08:49.753Z"
   },
   {
    "duration": 22,
    "start_time": "2023-09-17T02:08:49.763Z"
   },
   {
    "duration": 24,
    "start_time": "2023-09-17T02:08:49.787Z"
   },
   {
    "duration": 40,
    "start_time": "2023-09-17T02:08:49.812Z"
   },
   {
    "duration": 97,
    "start_time": "2023-09-17T02:08:49.854Z"
   },
   {
    "duration": 8,
    "start_time": "2023-09-17T02:08:49.953Z"
   },
   {
    "duration": 8,
    "start_time": "2023-09-17T02:08:49.962Z"
   },
   {
    "duration": 2,
    "start_time": "2023-09-17T02:09:27.510Z"
   },
   {
    "duration": 1079,
    "start_time": "2023-09-17T02:16:08.918Z"
   },
   {
    "duration": 39,
    "start_time": "2023-09-17T02:16:09.999Z"
   },
   {
    "duration": 10,
    "start_time": "2023-09-17T02:16:10.040Z"
   },
   {
    "duration": 34,
    "start_time": "2023-09-17T02:16:10.051Z"
   },
   {
    "duration": 18,
    "start_time": "2023-09-17T02:16:10.087Z"
   },
   {
    "duration": 16,
    "start_time": "2023-09-17T02:16:10.107Z"
   },
   {
    "duration": 6,
    "start_time": "2023-09-17T02:16:10.124Z"
   },
   {
    "duration": 5,
    "start_time": "2023-09-17T02:16:10.131Z"
   },
   {
    "duration": 5,
    "start_time": "2023-09-17T02:16:10.138Z"
   },
   {
    "duration": 21,
    "start_time": "2023-09-17T02:16:10.144Z"
   },
   {
    "duration": 12,
    "start_time": "2023-09-17T02:16:10.166Z"
   },
   {
    "duration": 19,
    "start_time": "2023-09-17T02:16:10.179Z"
   },
   {
    "duration": 182,
    "start_time": "2023-09-17T02:16:10.251Z"
   },
   {
    "duration": 0,
    "start_time": "2023-09-17T02:16:10.435Z"
   },
   {
    "duration": 1010,
    "start_time": "2023-09-17T02:17:28.982Z"
   },
   {
    "duration": 40,
    "start_time": "2023-09-17T02:17:29.994Z"
   },
   {
    "duration": 19,
    "start_time": "2023-09-17T02:17:30.035Z"
   },
   {
    "duration": 23,
    "start_time": "2023-09-17T02:17:30.056Z"
   },
   {
    "duration": 39,
    "start_time": "2023-09-17T02:17:30.081Z"
   },
   {
    "duration": 27,
    "start_time": "2023-09-17T02:17:30.121Z"
   },
   {
    "duration": 34,
    "start_time": "2023-09-17T02:17:30.149Z"
   },
   {
    "duration": 52,
    "start_time": "2023-09-17T02:17:30.184Z"
   },
   {
    "duration": 63,
    "start_time": "2023-09-17T02:17:30.238Z"
   },
   {
    "duration": 45,
    "start_time": "2023-09-17T02:17:30.303Z"
   },
   {
    "duration": 91,
    "start_time": "2023-09-17T02:17:30.350Z"
   },
   {
    "duration": 61,
    "start_time": "2023-09-17T02:17:30.443Z"
   },
   {
    "duration": 596,
    "start_time": "2023-09-17T02:17:30.506Z"
   },
   {
    "duration": 0,
    "start_time": "2023-09-17T02:17:31.103Z"
   },
   {
    "duration": 1019,
    "start_time": "2023-09-17T02:18:08.899Z"
   },
   {
    "duration": 40,
    "start_time": "2023-09-17T02:18:09.920Z"
   },
   {
    "duration": 10,
    "start_time": "2023-09-17T02:18:09.962Z"
   },
   {
    "duration": 6,
    "start_time": "2023-09-17T02:18:09.974Z"
   },
   {
    "duration": 10,
    "start_time": "2023-09-17T02:18:09.982Z"
   },
   {
    "duration": 7,
    "start_time": "2023-09-17T02:18:09.994Z"
   },
   {
    "duration": 21,
    "start_time": "2023-09-17T02:18:10.002Z"
   },
   {
    "duration": 12,
    "start_time": "2023-09-17T02:18:10.025Z"
   },
   {
    "duration": 14,
    "start_time": "2023-09-17T02:18:10.038Z"
   },
   {
    "duration": 13,
    "start_time": "2023-09-17T02:18:10.053Z"
   },
   {
    "duration": 9,
    "start_time": "2023-09-17T02:18:10.067Z"
   },
   {
    "duration": 75,
    "start_time": "2023-09-17T02:18:10.077Z"
   },
   {
    "duration": 5,
    "start_time": "2023-09-17T02:18:10.154Z"
   },
   {
    "duration": 10,
    "start_time": "2023-09-17T02:18:10.251Z"
   },
   {
    "duration": 994,
    "start_time": "2023-09-17T02:22:31.604Z"
   },
   {
    "duration": 38,
    "start_time": "2023-09-17T02:22:32.601Z"
   },
   {
    "duration": 11,
    "start_time": "2023-09-17T02:22:32.640Z"
   },
   {
    "duration": 10,
    "start_time": "2023-09-17T02:22:32.652Z"
   },
   {
    "duration": 5,
    "start_time": "2023-09-17T02:22:32.664Z"
   },
   {
    "duration": 12,
    "start_time": "2023-09-17T02:22:32.671Z"
   },
   {
    "duration": 23,
    "start_time": "2023-09-17T02:22:32.684Z"
   },
   {
    "duration": 22,
    "start_time": "2023-09-17T02:22:32.708Z"
   },
   {
    "duration": 19,
    "start_time": "2023-09-17T02:22:32.731Z"
   },
   {
    "duration": 18,
    "start_time": "2023-09-17T02:22:32.751Z"
   },
   {
    "duration": 25,
    "start_time": "2023-09-17T02:22:32.770Z"
   },
   {
    "duration": 54,
    "start_time": "2023-09-17T02:22:32.796Z"
   },
   {
    "duration": 6,
    "start_time": "2023-09-17T02:22:32.851Z"
   },
   {
    "duration": 192,
    "start_time": "2023-09-17T02:22:32.860Z"
   },
   {
    "duration": 1057,
    "start_time": "2023-09-17T02:23:05.642Z"
   },
   {
    "duration": 40,
    "start_time": "2023-09-17T02:23:06.701Z"
   },
   {
    "duration": 11,
    "start_time": "2023-09-17T02:23:06.742Z"
   },
   {
    "duration": 12,
    "start_time": "2023-09-17T02:23:06.754Z"
   },
   {
    "duration": 16,
    "start_time": "2023-09-17T02:23:06.768Z"
   },
   {
    "duration": 10,
    "start_time": "2023-09-17T02:23:06.785Z"
   },
   {
    "duration": 6,
    "start_time": "2023-09-17T02:23:06.796Z"
   },
   {
    "duration": 6,
    "start_time": "2023-09-17T02:23:06.803Z"
   },
   {
    "duration": 4,
    "start_time": "2023-09-17T02:23:06.811Z"
   },
   {
    "duration": 13,
    "start_time": "2023-09-17T02:23:06.817Z"
   },
   {
    "duration": 8,
    "start_time": "2023-09-17T02:23:06.832Z"
   },
   {
    "duration": 18,
    "start_time": "2023-09-17T02:23:06.841Z"
   },
   {
    "duration": 92,
    "start_time": "2023-09-17T02:23:06.860Z"
   },
   {
    "duration": 102,
    "start_time": "2023-09-17T02:23:06.954Z"
   },
   {
    "duration": 3109,
    "start_time": "2023-09-17T03:05:09.864Z"
   },
   {
    "duration": 92,
    "start_time": "2023-09-17T03:05:12.975Z"
   },
   {
    "duration": 12,
    "start_time": "2023-09-17T03:05:13.068Z"
   },
   {
    "duration": 5,
    "start_time": "2023-09-17T03:05:13.083Z"
   },
   {
    "duration": 8,
    "start_time": "2023-09-17T03:05:13.090Z"
   },
   {
    "duration": 14,
    "start_time": "2023-09-17T03:05:13.099Z"
   },
   {
    "duration": 8,
    "start_time": "2023-09-17T03:05:13.114Z"
   },
   {
    "duration": 8,
    "start_time": "2023-09-17T03:05:13.124Z"
   },
   {
    "duration": 12,
    "start_time": "2023-09-17T03:05:13.134Z"
   },
   {
    "duration": 11,
    "start_time": "2023-09-17T03:05:13.148Z"
   },
   {
    "duration": 18,
    "start_time": "2023-09-17T03:05:13.161Z"
   },
   {
    "duration": 126,
    "start_time": "2023-09-17T03:05:13.181Z"
   },
   {
    "duration": 11,
    "start_time": "2023-09-17T03:05:13.315Z"
   },
   {
    "duration": 96,
    "start_time": "2023-09-17T03:05:13.329Z"
   },
   {
    "duration": 1086,
    "start_time": "2023-09-17T18:40:46.175Z"
   },
   {
    "duration": 88,
    "start_time": "2023-09-17T18:40:47.262Z"
   },
   {
    "duration": 11,
    "start_time": "2023-09-17T18:40:47.351Z"
   },
   {
    "duration": 11,
    "start_time": "2023-09-17T18:40:47.363Z"
   },
   {
    "duration": 6,
    "start_time": "2023-09-17T18:40:47.377Z"
   },
   {
    "duration": 6,
    "start_time": "2023-09-17T18:40:47.384Z"
   },
   {
    "duration": 5,
    "start_time": "2023-09-17T18:40:47.391Z"
   },
   {
    "duration": 7,
    "start_time": "2023-09-17T18:40:47.398Z"
   },
   {
    "duration": 6,
    "start_time": "2023-09-17T18:40:47.407Z"
   },
   {
    "duration": 35,
    "start_time": "2023-09-17T18:40:47.415Z"
   },
   {
    "duration": 10,
    "start_time": "2023-09-17T18:40:47.451Z"
   },
   {
    "duration": 20,
    "start_time": "2023-09-17T18:40:47.462Z"
   },
   {
    "duration": 68,
    "start_time": "2023-09-17T18:40:47.484Z"
   },
   {
    "duration": 105,
    "start_time": "2023-09-17T18:40:47.555Z"
   },
   {
    "duration": 1044,
    "start_time": "2023-09-17T18:41:16.501Z"
   },
   {
    "duration": 41,
    "start_time": "2023-09-17T18:41:17.547Z"
   },
   {
    "duration": 11,
    "start_time": "2023-09-17T18:41:17.589Z"
   },
   {
    "duration": 51,
    "start_time": "2023-09-17T18:41:17.602Z"
   },
   {
    "duration": 33,
    "start_time": "2023-09-17T18:41:17.655Z"
   },
   {
    "duration": 47,
    "start_time": "2023-09-17T18:41:17.690Z"
   },
   {
    "duration": 47,
    "start_time": "2023-09-17T18:41:17.739Z"
   },
   {
    "duration": 65,
    "start_time": "2023-09-17T18:41:17.787Z"
   },
   {
    "duration": 5,
    "start_time": "2023-09-17T18:41:17.853Z"
   },
   {
    "duration": 12,
    "start_time": "2023-09-17T18:41:17.859Z"
   },
   {
    "duration": 5,
    "start_time": "2023-09-17T18:41:17.872Z"
   },
   {
    "duration": 73,
    "start_time": "2023-09-17T18:41:17.879Z"
   },
   {
    "duration": 5,
    "start_time": "2023-09-17T18:41:17.954Z"
   },
   {
    "duration": 16,
    "start_time": "2023-09-17T18:41:18.051Z"
   },
   {
    "duration": 1075,
    "start_time": "2023-09-17T18:41:55.829Z"
   },
   {
    "duration": 40,
    "start_time": "2023-09-17T18:41:56.906Z"
   },
   {
    "duration": 14,
    "start_time": "2023-09-17T18:41:56.947Z"
   },
   {
    "duration": 8,
    "start_time": "2023-09-17T18:41:56.964Z"
   },
   {
    "duration": 5,
    "start_time": "2023-09-17T18:41:56.974Z"
   },
   {
    "duration": 13,
    "start_time": "2023-09-17T18:41:56.981Z"
   },
   {
    "duration": 9,
    "start_time": "2023-09-17T18:41:56.996Z"
   },
   {
    "duration": 7,
    "start_time": "2023-09-17T18:41:57.006Z"
   },
   {
    "duration": 5,
    "start_time": "2023-09-17T18:41:57.015Z"
   },
   {
    "duration": 32,
    "start_time": "2023-09-17T18:41:57.023Z"
   },
   {
    "duration": 12,
    "start_time": "2023-09-17T18:41:57.057Z"
   },
   {
    "duration": 82,
    "start_time": "2023-09-17T18:41:57.070Z"
   },
   {
    "duration": 96,
    "start_time": "2023-09-17T18:41:57.153Z"
   },
   {
    "duration": 24,
    "start_time": "2023-09-17T18:41:57.251Z"
   }
  ],
  "kernelspec": {
   "display_name": "Python 3 (ipykernel)",
   "language": "python",
   "name": "python3"
  },
  "language_info": {
   "codemirror_mode": {
    "name": "ipython",
    "version": 3
   },
   "file_extension": ".py",
   "mimetype": "text/x-python",
   "name": "python",
   "nbconvert_exporter": "python",
   "pygments_lexer": "ipython3",
   "version": "3.9.5"
  },
  "toc": {
   "base_numbering": 1,
   "nav_menu": {},
   "number_sections": true,
   "sideBar": true,
   "skip_h1_title": true,
   "title_cell": "Содержание",
   "title_sidebar": "Contents",
   "toc_cell": true,
   "toc_position": {
    "height": "calc(100% - 180px)",
    "left": "10px",
    "top": "150px",
    "width": "249.75px"
   },
   "toc_section_display": true,
   "toc_window_display": true
  }
 },
 "nbformat": 4,
 "nbformat_minor": 2
}
